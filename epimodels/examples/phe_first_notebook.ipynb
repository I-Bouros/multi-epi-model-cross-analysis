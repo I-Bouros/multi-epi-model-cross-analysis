{
 "metadata": {
  "language_info": {
   "codemirror_mode": {
    "name": "ipython",
    "version": 3
   },
   "file_extension": ".py",
   "mimetype": "text/x-python",
   "name": "python",
   "nbconvert_exporter": "python",
   "pygments_lexer": "ipython3",
   "version": "3.8.5"
  },
  "orig_nbformat": 2,
  "kernelspec": {
   "name": "python3",
   "display_name": "Python 3.8.5 64-bit ('envname': conda)",
   "metadata": {
    "interpreter": {
     "hash": "f955bfe6519445034ed4854f07c3b46cbbba7ec293cbacc202304b8a9d2f549c"
    }
   }
  }
 },
 "nbformat": 4,
 "nbformat_minor": 2,
 "cells": [
  {
   "source": [
    "# PHE SEIR Model\n",
    "\n",
    "In this notebook we present how to use the `epimodels` module to set up an instantiotion of the model built by Public Helath Engalng in collaboration with University of Cambridge."
   ],
   "cell_type": "markdown",
   "metadata": {}
  },
  {
   "cell_type": "code",
   "execution_count": 1,
   "metadata": {},
   "outputs": [],
   "source": [
    "# Load necessary libraries\n",
    "import numpy as np\n",
    "import epimodels as em\n",
    "import matplotlib\n",
    "import plotly.graph_objects as go\n",
    "from matplotlib import pyplot as plt"
   ]
  },
  {
   "source": [
    "### Define setup matrices for the PHE Model"
   ],
   "cell_type": "markdown",
   "metadata": {}
  },
  {
   "cell_type": "code",
   "execution_count": 2,
   "metadata": {},
   "outputs": [],
   "source": [
    "# Populate the model\n",
    "regions = ['London', 'Cornwall']\n",
    "age_groups = ['0-10', '10-25']\n",
    "\n",
    "# Initial state of the system\n",
    "contact_data_matrix_0 = np.array([[1, 0], [0, 3]])\n",
    "contact_data_matrix_1 = np.array([[10, 5.2], [0, 3]])\n",
    "\n",
    "region_data_matrix_0_0 = np.array([[0.5, 0], [0, 6]])\n",
    "region_data_matrix_0_1 = np.array([[1, 10], [1, 0]])\n",
    "region_data_matrix_1_0 = np.array([[0.5, 1.2], [0.29, 6]])\n",
    "region_data_matrix_1_1 = np.array([[0.85, 1], [0.9, 6]])\n",
    "\n",
    "contacts_0 = em.ContactMatrix(age_groups, contact_data_matrix_0)\n",
    "contacts_1 = em.ContactMatrix(age_groups, contact_data_matrix_1)\n",
    "regional_0_0 = em.RegionMatrix(\n",
    "    regions[0], age_groups, region_data_matrix_0_0)\n",
    "regional_0_1 = em.RegionMatrix(\n",
    "    regions[1], age_groups, region_data_matrix_0_1)\n",
    "regional_1_0 = em.RegionMatrix(\n",
    "    regions[0], age_groups, region_data_matrix_1_0)\n",
    "regional_1_1 = em.RegionMatrix(\n",
    "    regions[1], age_groups, region_data_matrix_1_1)\n",
    "\n",
    "# Matrices contact\n",
    "matrices_contact = [contacts_0, contacts_1]\n",
    "time_changes_contact = [1, 3]\n",
    "matrices_region = [\n",
    "    [regional_0_0, regional_0_1],\n",
    "    [regional_1_0, regional_1_1]]\n",
    "time_changes_region = [1, 2]"
   ]
  },
  {
   "source": [
    "### Set the parameters and initial conditions of the model and bundle everything together to simulate"
   ],
   "cell_type": "markdown",
   "metadata": {}
  },
  {
   "cell_type": "code",
   "execution_count": 3,
   "metadata": {},
   "outputs": [],
   "source": [
    "# Instantiate model\n",
    "model = em.PheSEIRModel()\n",
    "\n",
    "# Initial number of susceptibles\n",
    "susceptibles = [[5, 6], [7, 8]]\n",
    "dI = 4\n",
    "initial_r = [0.5, 1]\n",
    "\n",
    "# List of times at which we wish to evaluate the states of the compartments of the model\n",
    "times = [1, 1.5, 2, 2.5, 3, 3.5, 4]\n",
    "\n",
    "# List of initial conditions and parameters that characterise the model\n",
    "parameters = [\n",
    "    1, susceptibles, [[0, 0], [0, 0]], [[0, 0], [0, 0]],\n",
    "    [[0, 0], [0, 0]], [[0, 0], [0, 0]], [[0, 0], [0, 0]],\n",
    "    [[1]*7, [1]*7], 4, dI, 0.5]\n",
    "\n",
    "# Simulate using the ODE solver from scipy\n",
    "output_scipy_solver = model.simulate(\n",
    "    parameters, times, matrices_contact, time_changes_contact,\n",
    "    regions, initial_r, matrices_region, time_changes_region,\n",
    "    method='RK45')\n",
    "\n",
    "# Use different time steps for personalised solver\n",
    "outputs_my_solver = []\n",
    "time_steps = [0.5, 0.05, 0.005]\n",
    "\n",
    "for ts in time_steps:\n",
    "    # Update valye of time step in parameters vector\n",
    "    parameters[-1] = ts\n",
    "\n",
    "    # Simulate using the 'homemade' discretised version of the ODE solver\n",
    "    outputs_my_solver.append(model.simulate(\n",
    "        parameters, times, matrices_contact, time_changes_contact,\n",
    "        regions, initial_r, matrices_region, time_changes_region,\n",
    "        method='my-solver'))"
   ]
  },
  {
   "source": [
    "### Plot the comparments of the two methods against each other"
   ],
   "cell_type": "markdown",
   "metadata": {}
  },
  {
   "cell_type": "code",
   "execution_count": 4,
   "metadata": {},
   "outputs": [],
   "source": [
    "# Group outputs together\n",
    "outputs = outputs_my_solver\n",
    "outputs.append(output_scipy_solver)\n",
    "\n",
    "# Plot (scatter plot for each comparment)\n",
    "fig = go.Figure()\n",
    "\n",
    "for o, out in enumerate(outputs):\n",
    "    fig.add_trace(\n",
    "        go.Scatter(\n",
    "            y=out[:, c],\n",
    "            x=times,\n",
    "            name=trace_name[o]\n",
    "        )\n",
    "    )\n",
    "fig.update_layout(boxmode='group', title=comparment)\n",
    "fig.show()"
   ]
  },
  {
   "cell_type": "code",
   "execution_count": null,
   "metadata": {},
   "outputs": [],
   "source": []
  }
 ]
}
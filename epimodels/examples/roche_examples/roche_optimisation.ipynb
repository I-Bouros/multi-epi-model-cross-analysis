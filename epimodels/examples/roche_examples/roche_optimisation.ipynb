{
 "cells": [
  {
   "cell_type": "markdown",
   "metadata": {},
   "source": [
    "# Roche SEIRD Model Optimisation\n",
    "\n",
    "In this notebook we present how to use the `epimodels` module to perform parameter optimisation for the  parameters specified by the Roche model, using time-dependent region-specific contact matrices.\n",
    "\n",
    "The analysis is run for:\n",
    " - Dates: **15 Feb 2020** - **25 June 2020**;\n",
    " - PHE s of interest: **London**.\n",
    "\n",
    "We use realistic serology and mortality data extracted from the REACT survey and GOV.UK data.\n",
    "\n",
    "*The Roche model is built by F. Hoffmann-La Roche Ltd.*"
   ]
  },
  {
   "cell_type": "code",
   "execution_count": 1,
   "metadata": {},
   "outputs": [],
   "source": [
    "# Load necessary libraries\n",
    "import os\n",
    "import numpy as np\n",
    "import pandas as pd\n",
    "from scipy.stats import gamma, nbinom, norm\n",
    "import epimodels as em\n",
    "import matplotlib\n",
    "import plotly.graph_objects as go\n",
    "import plotly.express as px\n",
    "from matplotlib import pyplot as plt\n",
    "from iteration_utilities import deepflatten\n",
    "\n",
    "# Set random seed\n",
    "np.random.seed(28)"
   ]
  },
  {
   "cell_type": "markdown",
   "metadata": {},
   "source": [
    "## Model Setup\n",
    "### Define setup matrices for the Roche Model"
   ]
  },
  {
   "cell_type": "code",
   "execution_count": 2,
   "metadata": {},
   "outputs": [],
   "source": [
    "# Populate the model\n",
    "total_days =  132\n",
    "regions = ['London']\n",
    "age_groups = ['0-1', '1-5', '5-15', '15-25', '25-45', '45-65', '65-75', '75+']\n",
    "\n",
    "weeks = list(range(1,int(np.ceil(total_days/7))+1))\n",
    "matrices_region = []\n",
    "\n",
    "### Variable\n",
    "## Initial state of the system\n",
    "# for w in weeks:\n",
    "#     weeks_matrices_region = []\n",
    "#     for r in regions:\n",
    "#         path = os.path.join('../../data/final_contact_matrices/{}_W{}.csv'.format(r, w))\n",
    "#         region_data_matrix = pd.read_csv(path, header=None, dtype=np.float64)\n",
    "#         regional = em.RegionMatrix(r, age_groups, region_data_matrix)\n",
    "#         weeks_matrices_region.append(regional)\n",
    "\n",
    "#     matrices_region.append(weeks_matrices_region)\n",
    "\n",
    "# contacts = em.ContactMatrix(age_groups, np.ones((len(age_groups), len(age_groups))))\n",
    "# matrices_contact = [contacts]\n",
    "\n",
    "## Matrices contact\n",
    "# time_changes_contact = [1]\n",
    "# time_changes_region = np.arange(1, total_days+1, 7).tolist()\n",
    "\n",
    "### Fixed\n",
    "# Initial state of the system\n",
    "weeks_matrices_region = []\n",
    "for r in regions:\n",
    "    path = os.path.join('../../data/final_contact_matrices/BASE.csv')\n",
    "    region_data_matrix = pd.read_csv(path, header=None, dtype=np.float64)\n",
    "    regional = em.RegionMatrix(r, age_groups, region_data_matrix)\n",
    "    weeks_matrices_region.append(regional)\n",
    "\n",
    "matrices_region.append(weeks_matrices_region)\n",
    "\n",
    "contacts = em.ContactMatrix(age_groups, np.ones((len(age_groups), len(age_groups))))\n",
    "matrices_contact = [contacts]\n",
    "\n",
    "# Matrices contact\n",
    "time_changes_contact = [1]\n",
    "time_changes_region = [1]\n",
    "\n",
    "# NPIs data\n",
    "max_levels_npi = [3, 3, 2, 4, 2, 3, 2, 4, 2]\n",
    "targeted_npi = [True, True, True, True, True, True, True, False, True]\n",
    "path = os.path.join('../../data/npi_data/')\n",
    "general_npi = np.loadtxt(os.path.join(path, 'uk_flags.csv'), dtype=bool, delimiter=',').tolist()\n",
    "time_changes_flag = np.loadtxt(os.path.join(path, 'times_flags.csv'), dtype=int, delimiter=',').tolist()\n",
    "\n",
    "reg_levels_npi = [np.loadtxt(os.path.join(path, 'uk_npis.csv'), dtype=int, delimiter=',').tolist()]\n",
    "time_changes_npi = np.loadtxt(os.path.join(path, 'times_npis.csv'), dtype=int, delimiter=',').tolist()"
   ]
  },
  {
   "cell_type": "markdown",
   "metadata": {},
   "source": [
    "### Set the parameters and initial conditions of the model and bundle everything together"
   ]
  },
  {
   "cell_type": "code",
   "execution_count": 3,
   "metadata": {},
   "outputs": [],
   "source": [
    "# Instantiate model\n",
    "model = em.RocheSEIRModel()\n",
    "\n",
    "# Set the region names, contact and regional data of the model\n",
    "model.set_regions(regions)\n",
    "model.set_age_groups(age_groups)\n",
    "model.read_contact_data(matrices_contact, time_changes_contact)\n",
    "model.read_regional_data(matrices_region, time_changes_region)\n",
    "model.read_npis_data(max_levels_npi, targeted_npi, general_npi, reg_levels_npi, time_changes_npi, time_changes_flag)\n",
    "\n",
    "# Initial number of susceptibles\n",
    "path = os.path.join('../../data/england_population/England_population.csv')\n",
    "total_susceptibles = np.loadtxt(path, dtype=int, delimiter=',').tolist()\n",
    "susceptibles = []\n",
    "susceptibles.append(total_susceptibles[-1])\n",
    "\n",
    "# Initial number of infectives\n",
    "ICs_multiplier = [40, 5]\n",
    "infectives_pre = (ICs_multiplier[0] * np.ones((len(regions), len(age_groups)))).tolist()\n",
    "infectives_pre_ss = (ICs_multiplier[1] * np.ones((len(regions), len(age_groups)))).tolist()\n",
    "\n",
    "infectives = (np.array(infectives_pre) + np.array(infectives_pre_ss)).tolist()\n",
    "\n",
    "# List of times at which we wish to evaluate the states of the compartments of the model\n",
    "times = np.arange(1, total_days+1, 1).tolist()"
   ]
  },
  {
   "cell_type": "code",
   "execution_count": 4,
   "metadata": {},
   "outputs": [],
   "source": [
    "# Set ICs parameters\n",
    "ICs = em.RocheICs(\n",
    "    model=model,\n",
    "    susceptibles_IC=susceptibles,\n",
    "    exposed_IC=np.zeros((len(regions), len(age_groups))).tolist(),\n",
    "    infectives_pre_IC=infectives_pre,\n",
    "    infectives_asym_IC=np.zeros((len(regions), len(age_groups))).tolist(),\n",
    "    infectives_sym_IC=np.zeros((len(regions), len(age_groups))).tolist(),\n",
    "    infectives_pre_ss_IC=infectives_pre_ss,\n",
    "    infectives_asym_ss_IC=np.zeros((len(regions), len(age_groups))).tolist(),\n",
    "    infectives_sym_ss_IC=np.zeros((len(regions), len(age_groups))).tolist(),\n",
    "    infectives_q_IC=np.zeros((len(regions), len(age_groups))).tolist(),\n",
    "    recovered_IC=np.zeros((len(regions), len(age_groups))).tolist(),\n",
    "    recovered_asym_IC=np.zeros((len(regions), len(age_groups))).tolist(),\n",
    "    dead_IC=np.zeros((len(regions), len(age_groups))).tolist()\n",
    ")\n",
    "\n",
    "# Set average times in compartments\n",
    "compartment_times = em.RocheCompartmentTimes(\n",
    "    model=model,\n",
    "    k=6,\n",
    "    kS=1,\n",
    "    kQ=1,\n",
    "    kR=9,\n",
    "    kRI=10\n",
    ")\n",
    "\n",
    "# Set proportion of asymptomatic, super-spreader and dead cases\n",
    "proportion_parameters = em.RocheProportions(\n",
    "    model=model,\n",
    "    Pa = 0.716,\n",
    "    Pss = 0.106,\n",
    "    Pd = 0.05\n",
    ")\n",
    "\n",
    "# Set transmission parameters\n",
    "transmission_parameters = em.RocheTransmission(\n",
    "    model=model,\n",
    "    beta_min=0.228,\n",
    "    beta_max=2.63,\n",
    "    bss=3.11,\n",
    "    gamma=1,\n",
    "    s50=34.9\n",
    ")\n",
    "\n",
    "# Set other simulation parameters\n",
    "simulation_parameters = em.RocheSimParameters(\n",
    "    model=model,\n",
    "    region_index=1,\n",
    "    method='RK45',\n",
    "    times=times\n",
    ")\n",
    "\n",
    "# Set all parameters in the controller\n",
    "parameters = em.RocheParametersController(\n",
    "    model=model,\n",
    "    ICs=ICs,\n",
    "    compartment_times=compartment_times,\n",
    "    proportion_parameters=proportion_parameters,\n",
    "    transmission_parameters=transmission_parameters,\n",
    "    simulation_parameters=simulation_parameters\n",
    ")"
   ]
  },
  {
   "cell_type": "markdown",
   "metadata": {},
   "source": [
    "## Read Death and Serology data"
   ]
  },
  {
   "cell_type": "code",
   "execution_count": 5,
   "metadata": {},
   "outputs": [],
   "source": [
    "# Read in death and positive data from external files\n",
    "deaths_data = []\n",
    "positives_data = []\n",
    "tests = []\n",
    "\n",
    "for region in regions:\n",
    "    deaths_data.append(np.loadtxt('../../data/death_data/{}_deaths.csv'.format(region), dtype=int, delimiter=','))\n",
    "    positives_data.append(np.loadtxt('../../data/serology_data/{}_positives_nhs.csv'.format(region), dtype=int, delimiter=','))\n",
    "    tests.append(np.loadtxt('../../data/serology_data/{}_tests_nhs.csv'.format(region), dtype=int, delimiter=','))"
   ]
  },
  {
   "cell_type": "code",
   "execution_count": 6,
   "metadata": {},
   "outputs": [],
   "source": [
    "# Select the time points for which the death and serology data is known\n",
    "deaths_times = np.arange(27, total_days+1, 1).tolist()\n",
    "serology_times = np.arange(80, total_days+1, 7).tolist()"
   ]
  },
  {
   "cell_type": "code",
   "execution_count": 7,
   "metadata": {},
   "outputs": [],
   "source": [
    "# Set time-to-death using a Gamma distribution using the mean and standard deviation from the PHE paper\n",
    "td_mean = 15.0\n",
    "td_var = 12.1**2\n",
    "theta = td_var / td_mean\n",
    "k = td_mean / theta\n",
    "time_to_death = gamma(k, scale=theta).pdf(np.arange(1, 31)).tolist()\n",
    "\n",
    "# Set information\n",
    "fatality_ratio = (1/100 * np.array([0.0016, 0.0016, 0.0043, 0.019, 0.08975, 0.815, 3.1, 6.05])).tolist()\n",
    "time_to_death.extend([0.0] * (len(times)-30))\n",
    "niu = float(gamma.rvs(1, scale=1/0.2, size=1))\n",
    "\n",
    "sens = 0.7\n",
    "spec = 0.95"
   ]
  },
  {
   "cell_type": "markdown",
   "metadata": {},
   "source": [
    "## Optimisation Procedure"
   ]
  },
  {
   "cell_type": "code",
   "execution_count": 8,
   "metadata": {},
   "outputs": [
    {
     "name": "stdout",
     "output_type": "stream",
     "text": [
      "Maximising LogPDF\n",
      "Using Covariance Matrix Adaptation Evolution Strategy (CMA-ES)\n",
      "Running in sequential mode.\n",
      "Population size: 11\n",
      "Iter. Eval.  Best      Time m:s\n",
      "0     11     -32263.01   0:01.6\n",
      "1     22     -32133.87   0:03.1\n",
      "2     33     -31849.07   0:04.8\n",
      "3     44     -31691.21   0:06.3\n",
      "20    231    -25126.49   0:28.8\n",
      "40    451    -22520.45   0:47.9\n"
     ]
    },
    {
     "name": "stderr",
     "output_type": "stream",
     "text": [
      "/Users/ioanabouros/opt/miniconda3/lib/python3.8/site-packages/cma/evolution_strategy.py:3591: RuntimeWarning: invalid value encountered in double_scalars\n",
      "  current_fitness_range = max(es.fit.fit) - min(es.fit.fit)\n"
     ]
    },
    {
     "name": "stdout",
     "output_type": "stream",
     "text": [
      "60    671    -16867.52   1:05.2\n",
      "\n",
      "----------------------------------------\n",
      "Unexpected termination.\n",
      "Current best score: 16867.522560043628\n",
      "Current best position:\n",
      " 9.27159926819325575e-01\n",
      " 1.43078538597061350e-01\n",
      " 2.95717869299501446e-01\n",
      " 4.91266167684605404e-01\n",
      " 3.63478550936732092e-01\n",
      " 1.48682170343956838e-01\n",
      " 4.83975975988330254e-01\n",
      " 6.59744797646363845e-01\n",
      " 1.98047565795258451e-01\n",
      " 7.47258773696198378e-03\n",
      " 1.65530426899050576e+00\n",
      " 3.01229167068811776e+00\n",
      "----------------------------------------\n"
     ]
    },
    {
     "ename": "KeyboardInterrupt",
     "evalue": "",
     "output_type": "error",
     "traceback": [
      "\u001b[0;31m---------------------------------------------------------------------------\u001b[0m",
      "\u001b[0;31mKeyboardInterrupt\u001b[0m                         Traceback (most recent call last)",
      "\u001b[0;32m<ipython-input-8-3a1126e11a3e>\u001b[0m in \u001b[0;36m<module>\u001b[0;34m\u001b[0m\n\u001b[1;32m      9\u001b[0m \u001b[0;34m\u001b[0m\u001b[0m\n\u001b[1;32m     10\u001b[0m \u001b[0;31m# Run optimisation structure\u001b[0m\u001b[0;34m\u001b[0m\u001b[0;34m\u001b[0m\u001b[0;34m\u001b[0m\u001b[0m\n\u001b[0;32m---> 11\u001b[0;31m \u001b[0mfound\u001b[0m\u001b[0;34m,\u001b[0m \u001b[0mlog_post_value\u001b[0m \u001b[0;34m=\u001b[0m \u001b[0mroche_optimisation\u001b[0m\u001b[0;34m.\u001b[0m\u001b[0moptimisation_problem_setup\u001b[0m\u001b[0;34m(\u001b[0m\u001b[0mtimes\u001b[0m\u001b[0;34m,\u001b[0m \u001b[0mwd\u001b[0m\u001b[0;34m=\u001b[0m\u001b[0;36m1\u001b[0m\u001b[0;34m,\u001b[0m \u001b[0mwp\u001b[0m\u001b[0;34m=\u001b[0m\u001b[0;36m0\u001b[0m\u001b[0;34m)\u001b[0m\u001b[0;34m\u001b[0m\u001b[0;34m\u001b[0m\u001b[0m\n\u001b[0m",
      "\u001b[0;32m~/Desktop/Rotation Projects/Epidemiology/multi-epi-model-cross-analysis/epimodels/inference/roche_inference.py\u001b[0m in \u001b[0;36moptimisation_problem_setup\u001b[0;34m(self, times, wd, wp)\u001b[0m\n\u001b[1;32m    714\u001b[0m         \u001b[0moptimiser\u001b[0m\u001b[0;34m.\u001b[0m\u001b[0mset_max_unchanged_iterations\u001b[0m\u001b[0;34m(\u001b[0m\u001b[0;36m100\u001b[0m\u001b[0;34m,\u001b[0m \u001b[0;36m1\u001b[0m\u001b[0;34m)\u001b[0m\u001b[0;34m\u001b[0m\u001b[0;34m\u001b[0m\u001b[0m\n\u001b[1;32m    715\u001b[0m \u001b[0;34m\u001b[0m\u001b[0m\n\u001b[0;32m--> 716\u001b[0;31m         \u001b[0mfound_ics\u001b[0m\u001b[0;34m,\u001b[0m \u001b[0mfound_posterior_val\u001b[0m \u001b[0;34m=\u001b[0m \u001b[0moptimiser\u001b[0m\u001b[0;34m.\u001b[0m\u001b[0mrun\u001b[0m\u001b[0;34m(\u001b[0m\u001b[0;34m)\u001b[0m\u001b[0;34m\u001b[0m\u001b[0;34m\u001b[0m\u001b[0m\n\u001b[0m\u001b[1;32m    717\u001b[0m         \u001b[0mprint\u001b[0m\u001b[0;34m(\u001b[0m\u001b[0mfound_ics\u001b[0m\u001b[0;34m,\u001b[0m \u001b[0mfound_posterior_val\u001b[0m\u001b[0;34m)\u001b[0m\u001b[0;34m\u001b[0m\u001b[0;34m\u001b[0m\u001b[0m\n\u001b[1;32m    718\u001b[0m \u001b[0;34m\u001b[0m\u001b[0m\n",
      "\u001b[0;32m~/opt/miniconda3/lib/python3.8/site-packages/pints/_optimisers/__init__.py\u001b[0m in \u001b[0;36mrun\u001b[0;34m(self)\u001b[0m\n\u001b[1;32m    556\u001b[0m \u001b[0;34m\u001b[0m\u001b[0m\n\u001b[1;32m    557\u001b[0m                 \u001b[0;31m# Calculate scores\u001b[0m\u001b[0;34m\u001b[0m\u001b[0;34m\u001b[0m\u001b[0;34m\u001b[0m\u001b[0m\n\u001b[0;32m--> 558\u001b[0;31m                 \u001b[0mfs\u001b[0m \u001b[0;34m=\u001b[0m \u001b[0mevaluator\u001b[0m\u001b[0;34m.\u001b[0m\u001b[0mevaluate\u001b[0m\u001b[0;34m(\u001b[0m\u001b[0mxs\u001b[0m\u001b[0;34m)\u001b[0m\u001b[0;34m\u001b[0m\u001b[0;34m\u001b[0m\u001b[0m\n\u001b[0m\u001b[1;32m    559\u001b[0m \u001b[0;34m\u001b[0m\u001b[0m\n\u001b[1;32m    560\u001b[0m                 \u001b[0;31m# Perform iteration\u001b[0m\u001b[0;34m\u001b[0m\u001b[0;34m\u001b[0m\u001b[0;34m\u001b[0m\u001b[0m\n",
      "\u001b[0;32m~/opt/miniconda3/lib/python3.8/site-packages/pints/_evaluation.py\u001b[0m in \u001b[0;36mevaluate\u001b[0;34m(self, positions)\u001b[0m\n\u001b[1;32m    104\u001b[0m                 \u001b[0;34m'The argument `positions` must be a sequence of input values'\u001b[0m\u001b[0;34m\u001b[0m\u001b[0;34m\u001b[0m\u001b[0m\n\u001b[1;32m    105\u001b[0m                 ' to the evaluator\\'s function.')\n\u001b[0;32m--> 106\u001b[0;31m         \u001b[0;32mreturn\u001b[0m \u001b[0mself\u001b[0m\u001b[0;34m.\u001b[0m\u001b[0m_evaluate\u001b[0m\u001b[0;34m(\u001b[0m\u001b[0mpositions\u001b[0m\u001b[0;34m)\u001b[0m\u001b[0;34m\u001b[0m\u001b[0;34m\u001b[0m\u001b[0m\n\u001b[0m\u001b[1;32m    107\u001b[0m \u001b[0;34m\u001b[0m\u001b[0m\n\u001b[1;32m    108\u001b[0m     \u001b[0;32mdef\u001b[0m \u001b[0m_evaluate\u001b[0m\u001b[0;34m(\u001b[0m\u001b[0mself\u001b[0m\u001b[0;34m,\u001b[0m \u001b[0mpositions\u001b[0m\u001b[0;34m)\u001b[0m\u001b[0;34m:\u001b[0m\u001b[0;34m\u001b[0m\u001b[0;34m\u001b[0m\u001b[0m\n",
      "\u001b[0;32m~/opt/miniconda3/lib/python3.8/site-packages/pints/_evaluation.py\u001b[0m in \u001b[0;36m_evaluate\u001b[0;34m(self, positions)\u001b[0m\n\u001b[1;32m    396\u001b[0m         \u001b[0mscores\u001b[0m \u001b[0;34m=\u001b[0m \u001b[0;34m[\u001b[0m\u001b[0;36m0\u001b[0m\u001b[0;34m]\u001b[0m \u001b[0;34m*\u001b[0m \u001b[0mlen\u001b[0m\u001b[0;34m(\u001b[0m\u001b[0mpositions\u001b[0m\u001b[0;34m)\u001b[0m\u001b[0;34m\u001b[0m\u001b[0;34m\u001b[0m\u001b[0m\n\u001b[1;32m    397\u001b[0m         \u001b[0;32mfor\u001b[0m \u001b[0mk\u001b[0m\u001b[0;34m,\u001b[0m \u001b[0mx\u001b[0m \u001b[0;32min\u001b[0m \u001b[0menumerate\u001b[0m\u001b[0;34m(\u001b[0m\u001b[0mpositions\u001b[0m\u001b[0;34m)\u001b[0m\u001b[0;34m:\u001b[0m\u001b[0;34m\u001b[0m\u001b[0;34m\u001b[0m\u001b[0m\n\u001b[0;32m--> 398\u001b[0;31m             \u001b[0mscores\u001b[0m\u001b[0;34m[\u001b[0m\u001b[0mk\u001b[0m\u001b[0;34m]\u001b[0m \u001b[0;34m=\u001b[0m \u001b[0mself\u001b[0m\u001b[0;34m.\u001b[0m\u001b[0m_function\u001b[0m\u001b[0;34m(\u001b[0m\u001b[0mx\u001b[0m\u001b[0;34m,\u001b[0m \u001b[0;34m*\u001b[0m\u001b[0mself\u001b[0m\u001b[0;34m.\u001b[0m\u001b[0m_args\u001b[0m\u001b[0;34m)\u001b[0m\u001b[0;34m\u001b[0m\u001b[0;34m\u001b[0m\u001b[0m\n\u001b[0m\u001b[1;32m    399\u001b[0m         \u001b[0;32mreturn\u001b[0m \u001b[0mscores\u001b[0m\u001b[0;34m\u001b[0m\u001b[0;34m\u001b[0m\u001b[0m\n\u001b[1;32m    400\u001b[0m \u001b[0;34m\u001b[0m\u001b[0m\n",
      "\u001b[0;32m~/opt/miniconda3/lib/python3.8/site-packages/pints/_error_measures.py\u001b[0m in \u001b[0;36m__call__\u001b[0;34m(self, x)\u001b[0m\n\u001b[1;32m    176\u001b[0m \u001b[0;34m\u001b[0m\u001b[0m\n\u001b[1;32m    177\u001b[0m     \u001b[0;32mdef\u001b[0m \u001b[0m__call__\u001b[0m\u001b[0;34m(\u001b[0m\u001b[0mself\u001b[0m\u001b[0;34m,\u001b[0m \u001b[0mx\u001b[0m\u001b[0;34m)\u001b[0m\u001b[0;34m:\u001b[0m\u001b[0;34m\u001b[0m\u001b[0;34m\u001b[0m\u001b[0m\n\u001b[0;32m--> 178\u001b[0;31m         \u001b[0;32mreturn\u001b[0m \u001b[0;34m-\u001b[0m\u001b[0mself\u001b[0m\u001b[0;34m.\u001b[0m\u001b[0m_log_pdf\u001b[0m\u001b[0;34m(\u001b[0m\u001b[0mx\u001b[0m\u001b[0;34m)\u001b[0m\u001b[0;34m\u001b[0m\u001b[0;34m\u001b[0m\u001b[0m\n\u001b[0m\u001b[1;32m    179\u001b[0m \u001b[0;34m\u001b[0m\u001b[0m\n\u001b[1;32m    180\u001b[0m     \u001b[0;32mdef\u001b[0m \u001b[0mevaluateS1\u001b[0m\u001b[0;34m(\u001b[0m\u001b[0mself\u001b[0m\u001b[0;34m,\u001b[0m \u001b[0mx\u001b[0m\u001b[0;34m)\u001b[0m\u001b[0;34m:\u001b[0m\u001b[0;34m\u001b[0m\u001b[0;34m\u001b[0m\u001b[0m\n",
      "\u001b[0;32m~/opt/miniconda3/lib/python3.8/site-packages/pints/_log_pdfs.py\u001b[0m in \u001b[0;36m__call__\u001b[0;34m(self, x)\u001b[0m\n\u001b[1;32m    386\u001b[0m         \u001b[0;32mif\u001b[0m \u001b[0mlog_prior\u001b[0m \u001b[0;34m==\u001b[0m \u001b[0mself\u001b[0m\u001b[0;34m.\u001b[0m\u001b[0m_minf\u001b[0m\u001b[0;34m:\u001b[0m\u001b[0;34m\u001b[0m\u001b[0;34m\u001b[0m\u001b[0m\n\u001b[1;32m    387\u001b[0m             \u001b[0;32mreturn\u001b[0m \u001b[0mself\u001b[0m\u001b[0;34m.\u001b[0m\u001b[0m_minf\u001b[0m\u001b[0;34m\u001b[0m\u001b[0;34m\u001b[0m\u001b[0m\n\u001b[0;32m--> 388\u001b[0;31m         \u001b[0;32mreturn\u001b[0m \u001b[0mlog_prior\u001b[0m \u001b[0;34m+\u001b[0m \u001b[0mself\u001b[0m\u001b[0;34m.\u001b[0m\u001b[0m_log_likelihood\u001b[0m\u001b[0;34m(\u001b[0m\u001b[0mx\u001b[0m\u001b[0;34m)\u001b[0m\u001b[0;34m\u001b[0m\u001b[0;34m\u001b[0m\u001b[0m\n\u001b[0m\u001b[1;32m    389\u001b[0m \u001b[0;34m\u001b[0m\u001b[0m\n\u001b[1;32m    390\u001b[0m     \u001b[0;32mdef\u001b[0m \u001b[0mevaluateS1\u001b[0m\u001b[0;34m(\u001b[0m\u001b[0mself\u001b[0m\u001b[0;34m,\u001b[0m \u001b[0mx\u001b[0m\u001b[0;34m)\u001b[0m\u001b[0;34m:\u001b[0m\u001b[0;34m\u001b[0m\u001b[0;34m\u001b[0m\u001b[0m\n",
      "\u001b[0;32m~/Desktop/Rotation Projects/Epidemiology/multi-epi-model-cross-analysis/epimodels/inference/roche_inference.py\u001b[0m in \u001b[0;36m__call__\u001b[0;34m(self, x)\u001b[0m\n\u001b[1;32m    342\u001b[0m \u001b[0;34m\u001b[0m\u001b[0m\n\u001b[1;32m    343\u001b[0m         \"\"\"\n\u001b[0;32m--> 344\u001b[0;31m         \u001b[0;32mreturn\u001b[0m \u001b[0mself\u001b[0m\u001b[0;34m.\u001b[0m\u001b[0m_log_likelihood\u001b[0m\u001b[0;34m(\u001b[0m\u001b[0mx\u001b[0m\u001b[0;34m)\u001b[0m\u001b[0;34m\u001b[0m\u001b[0;34m\u001b[0m\u001b[0m\n\u001b[0m\u001b[1;32m    345\u001b[0m \u001b[0;34m\u001b[0m\u001b[0m\n\u001b[1;32m    346\u001b[0m \u001b[0;31m#\u001b[0m\u001b[0;34m\u001b[0m\u001b[0;34m\u001b[0m\u001b[0;34m\u001b[0m\u001b[0m\n",
      "\u001b[0;32m~/Desktop/Rotation Projects/Epidemiology/multi-epi-model-cross-analysis/epimodels/inference/roche_inference.py\u001b[0m in \u001b[0;36m_log_likelihood\u001b[0;34m(self, var_parameters)\u001b[0m\n\u001b[1;32m    199\u001b[0m                     \u001b[0mtimes\u001b[0m\u001b[0;34m=\u001b[0m\u001b[0mself\u001b[0m\u001b[0;34m.\u001b[0m\u001b[0m_times\u001b[0m\u001b[0;34m\u001b[0m\u001b[0;34m\u001b[0m\u001b[0m\n\u001b[1;32m    200\u001b[0m                     )\n\u001b[0;32m--> 201\u001b[0;31m                 \u001b[0mmodel_new_infections\u001b[0m \u001b[0;34m=\u001b[0m \u001b[0mself\u001b[0m\u001b[0;34m.\u001b[0m\u001b[0m_model\u001b[0m\u001b[0;34m.\u001b[0m\u001b[0mnew_infections\u001b[0m\u001b[0;34m(\u001b[0m\u001b[0mmodel_output\u001b[0m\u001b[0;34m)\u001b[0m\u001b[0;34m\u001b[0m\u001b[0;34m\u001b[0m\u001b[0m\n\u001b[0m\u001b[1;32m    202\u001b[0m \u001b[0;34m\u001b[0m\u001b[0m\n\u001b[1;32m    203\u001b[0m                 \u001b[0;31m# Check the input of log-likelihoods fixed data\u001b[0m\u001b[0;34m\u001b[0m\u001b[0;34m\u001b[0m\u001b[0;34m\u001b[0m\u001b[0m\n",
      "\u001b[0;32m~/Desktop/Rotation Projects/Epidemiology/multi-epi-model-cross-analysis/epimodels/roche_model.py\u001b[0m in \u001b[0;36mnew_infections\u001b[0;34m(self, output)\u001b[0m\n\u001b[1;32m   1095\u001b[0m             \u001b[0;31m# Read from output\u001b[0m\u001b[0;34m\u001b[0m\u001b[0;34m\u001b[0m\u001b[0;34m\u001b[0m\u001b[0m\n\u001b[1;32m   1096\u001b[0m             \u001b[0ms\u001b[0m \u001b[0;34m=\u001b[0m \u001b[0moutput\u001b[0m\u001b[0;34m[\u001b[0m\u001b[0mind\u001b[0m\u001b[0;34m,\u001b[0m \u001b[0;34m:\u001b[0m\u001b[0;34m]\u001b[0m\u001b[0;34m[\u001b[0m\u001b[0;34m:\u001b[0m\u001b[0mself\u001b[0m\u001b[0;34m.\u001b[0m\u001b[0m_num_ages\u001b[0m\u001b[0;34m]\u001b[0m\u001b[0;34m\u001b[0m\u001b[0;34m\u001b[0m\u001b[0m\n\u001b[0;32m-> 1097\u001b[0;31m             \u001b[0miA\u001b[0m \u001b[0;34m=\u001b[0m \u001b[0moutput\u001b[0m\u001b[0;34m[\u001b[0m\u001b[0mind\u001b[0m\u001b[0;34m,\u001b[0m \u001b[0;34m:\u001b[0m\u001b[0;34m]\u001b[0m\u001b[0;34m[\u001b[0m\u001b[0;34m(\u001b[0m\u001b[0;36m2\u001b[0m\u001b[0;34m*\u001b[0m\u001b[0mself\u001b[0m\u001b[0;34m.\u001b[0m\u001b[0m_num_ages\u001b[0m\u001b[0;34m)\u001b[0m\u001b[0;34m:\u001b[0m\u001b[0;34m(\u001b[0m\u001b[0;36m3\u001b[0m\u001b[0;34m*\u001b[0m\u001b[0mself\u001b[0m\u001b[0;34m.\u001b[0m\u001b[0m_num_ages\u001b[0m\u001b[0;34m)\u001b[0m\u001b[0;34m]\u001b[0m\u001b[0;34m\u001b[0m\u001b[0;34m\u001b[0m\u001b[0m\n\u001b[0m\u001b[1;32m   1098\u001b[0m             \u001b[0miAA\u001b[0m \u001b[0;34m=\u001b[0m \u001b[0moutput\u001b[0m\u001b[0;34m[\u001b[0m\u001b[0mind\u001b[0m\u001b[0;34m,\u001b[0m \u001b[0;34m:\u001b[0m\u001b[0;34m]\u001b[0m\u001b[0;34m[\u001b[0m\u001b[0;34m(\u001b[0m\u001b[0;36m3\u001b[0m\u001b[0;34m*\u001b[0m\u001b[0mself\u001b[0m\u001b[0;34m.\u001b[0m\u001b[0m_num_ages\u001b[0m\u001b[0;34m)\u001b[0m\u001b[0;34m:\u001b[0m\u001b[0;34m(\u001b[0m\u001b[0;36m4\u001b[0m\u001b[0;34m*\u001b[0m\u001b[0mself\u001b[0m\u001b[0;34m.\u001b[0m\u001b[0m_num_ages\u001b[0m\u001b[0;34m)\u001b[0m\u001b[0;34m]\u001b[0m\u001b[0;34m\u001b[0m\u001b[0;34m\u001b[0m\u001b[0m\n\u001b[1;32m   1099\u001b[0m             \u001b[0miS\u001b[0m \u001b[0;34m=\u001b[0m \u001b[0moutput\u001b[0m\u001b[0;34m[\u001b[0m\u001b[0mind\u001b[0m\u001b[0;34m,\u001b[0m \u001b[0;34m:\u001b[0m\u001b[0;34m]\u001b[0m\u001b[0;34m[\u001b[0m\u001b[0;34m(\u001b[0m\u001b[0;36m4\u001b[0m\u001b[0;34m*\u001b[0m\u001b[0mself\u001b[0m\u001b[0;34m.\u001b[0m\u001b[0m_num_ages\u001b[0m\u001b[0;34m)\u001b[0m\u001b[0;34m:\u001b[0m\u001b[0;34m(\u001b[0m\u001b[0;36m5\u001b[0m\u001b[0;34m*\u001b[0m\u001b[0mself\u001b[0m\u001b[0;34m.\u001b[0m\u001b[0m_num_ages\u001b[0m\u001b[0;34m)\u001b[0m\u001b[0;34m]\u001b[0m\u001b[0;34m\u001b[0m\u001b[0;34m\u001b[0m\u001b[0m\n",
      "\u001b[0;31mKeyboardInterrupt\u001b[0m: "
     ]
    }
   ],
   "source": [
    "# Initialise optimisation for the model\n",
    "roche_optimisation = em.inference.RocheSEIRInfer(model)\n",
    "\n",
    "# Add model, death, tests and NPIs data to the inference structure\n",
    "roche_optimisation.read_model_data(susceptibles, infectives)\n",
    "roche_optimisation.read_deaths_data(deaths_data, deaths_times, time_to_death, fatality_ratio)\n",
    "roche_optimisation.read_serology_data(tests, positives_data, serology_times, sens, spec)\n",
    "roche_optimisation.read_npis_data(max_levels_npi, targeted_npi, general_npi, reg_levels_npi, time_changes_npi, time_changes_flag)\n",
    "\n",
    "# Run optimisation structure\n",
    "found, log_post_value = roche_optimisation.optimisation_problem_setup(times, wd=1, wp=0)"
   ]
  },
  {
   "cell_type": "markdown",
   "metadata": {},
   "source": [
    "### Run the model with optimised parameter choices to produce predicted timelines for the:\n",
    " - number of new infections\n",
    " - number of deaths\n",
    " - R number"
   ]
  },
  {
   "cell_type": "code",
   "execution_count": null,
   "metadata": {},
   "outputs": [],
   "source": [
    "n_parameters = model.n_parameters()\n",
    "\n",
    "predicted_new_infec = []\n",
    "predicted_deaths = []\n",
    "#predicted_reprod_num = []\n",
    "\n",
    "# Run model and number of new infections for all regions\n",
    "for r, _ in enumerate(model.regions):\n",
    "    parameters.simulation_parameters.region_index = r + 1\n",
    "\n",
    "    parameters.ICs.infectives_pre_IC = ((1-found[0]) * np.array(infectives)).tolist()\n",
    "    parameters.ICs.infectives_pre_ss_IC = (found[0] * np.array(infectives)).tolist()\n",
    "\n",
    "    # parameters.proportion_parameters.Pa = found[1:(1+model._num_ages)]\n",
    "    # parameters.proportion_parameters.Pss = found[1+model._num_ages]\n",
    "    parameters.proportion_parameters.Pd = found[-(3+model._num_ages):(-3)]\n",
    "\n",
    "    parameters.transmission_parameters.beta_min = found[-3]\n",
    "    parameters.transmission_parameters.beta_max = found[-2]\n",
    "    parameters.transmission_parameters.bss = found[-1]\n",
    "    \n",
    "    #r_fix = np.empty(len(times))\n",
    "    model_reg_deaths_data = np.empty(len(times))\n",
    "\n",
    "    #m_fix = em.MultiTimesInfectivity(\n",
    "    #    matrices_contact, time_changes_contact, regions, matrices_region, time_changes_region, parameters[0], dI, susceptibles)\n",
    "\n",
    "    # Run model and number of new infections for all age groups\n",
    "    model_output = model.simulate(parameters)\n",
    "\n",
    "    age_model_reg_new_infections = model.new_infections(model_output)\n",
    "    model_reg_new_infections = age_model_reg_new_infections.sum(axis=1)\n",
    "\n",
    "    for t, time in enumerate(times):\n",
    "    #    r_fix[t] = m_fix.compute_reproduction_number(r+1, time, model_output[t, :len(age_groups)], temp_variation=parameters[8][r][t])\n",
    "        model_reg_deaths_data[t] = np.sum(model.mean_deaths(fatality_ratio, time_to_death, t, age_model_reg_new_infections))\n",
    "    \n",
    "    predicted_new_infec.append(np.array(model_reg_new_infections))\n",
    "    predicted_deaths.append(model_reg_deaths_data)\n",
    "    #predicted_reprod_num.append(r_fix)\n",
    "\n",
    "predicted_new_infec = np.array(predicted_new_infec)\n",
    "predicted_deaths = np.array(predicted_deaths)\n",
    "#predicted_reprod_num = np.array(predicted_reprod_num)"
   ]
  },
  {
   "cell_type": "markdown",
   "metadata": {},
   "source": [
    "## Plot data vs predicted\n",
    "\n",
    "### Setup ``plotly`` and default settings for plotting"
   ]
  },
  {
   "cell_type": "code",
   "execution_count": null,
   "metadata": {},
   "outputs": [],
   "source": [
    "from plotly.subplots import make_subplots\n",
    "\n",
    "colours = ['blue', 'red', 'green', 'purple', 'orange', 'black', 'gray', 'pink']\n",
    "\n",
    "# Group outputs together\n",
    "outputs = [deaths_data, positives_data]\n",
    "\n",
    "# Number of regions\n",
    "n_reg = len(regions)"
   ]
  },
  {
   "cell_type": "markdown",
   "metadata": {},
   "source": [
    "### Select predicted quantities to plot"
   ]
  },
  {
   "cell_type": "code",
   "execution_count": null,
   "metadata": {},
   "outputs": [],
   "source": [
    "# Set up traces to plot\n",
    "new_infec_pred = []\n",
    "deaths_pred = []\n",
    "#reprod_num_pred = []\n",
    "\n",
    "for r, _ in enumerate(model.regions):\n",
    "    # Compute the prediction \n",
    "    new_infec_pred.append(predicted_new_infec[r,:])\n",
    "    deaths_pred.append(predicted_deaths[r,:])\n",
    "    #reprod_num_pred.append(predicted_reprod_num[r,:])"
   ]
  },
  {
   "cell_type": "markdown",
   "metadata": {},
   "source": [
    "### Plot observed versus predicted using model with optimised parameters"
   ]
  },
  {
   "cell_type": "code",
   "execution_count": null,
   "metadata": {},
   "outputs": [
    {
     "name": "stderr",
     "output_type": "stream",
     "text": [
      "<ipython-input-12-e48c6bf424d7>:26: RuntimeWarning:\n",
      "\n",
      "invalid value encountered in true_divide\n",
      "\n"
     ]
    },
    {
     "data": {
      "application/vnd.plotly.v1+json": {
       "config": {
        "plotlyServerURL": "https://plot.ly"
       },
       "data": [
        {
         "line": {
          "color": "blue"
         },
         "mode": "lines",
         "name": "London",
         "type": "scatter",
         "x": [
          1,
          2,
          3,
          4,
          5,
          6,
          7,
          8,
          9,
          10,
          11,
          12,
          13,
          14,
          15,
          16,
          17,
          18,
          19,
          20,
          21,
          22,
          23,
          24,
          25,
          26,
          27,
          28,
          29,
          30,
          31,
          32,
          33,
          34,
          35,
          36,
          37,
          38,
          39,
          40,
          41,
          42,
          43,
          44,
          45,
          46,
          47,
          48,
          49,
          50,
          51,
          52,
          53,
          54,
          55,
          56,
          57,
          58,
          59,
          60,
          61,
          62,
          63,
          64,
          65,
          66,
          67,
          68,
          69,
          70,
          71,
          72,
          73,
          74,
          75,
          76,
          77,
          78,
          79,
          80,
          81,
          82,
          83,
          84,
          85,
          86,
          87,
          88,
          89,
          90,
          91,
          92,
          93,
          94,
          95,
          96,
          97,
          98,
          99,
          100,
          101,
          102,
          103,
          104,
          105,
          106,
          107,
          108,
          109,
          110,
          111,
          112,
          113,
          114,
          115,
          116,
          117,
          118,
          119,
          120,
          121,
          122,
          123,
          124,
          125,
          126,
          127,
          128,
          129,
          130,
          131,
          132
         ],
         "xaxis": "x",
         "y": [
          821.1447342465626,
          1289.1199329396416,
          2910.4906164048416,
          7018.508934069482,
          17063.09771306906,
          41334.56505115493,
          98910.9281692043,
          230058.9376177892,
          500858.8973657326,
          939929.7720928502,
          1330336.9233004258,
          1228655.8803627514,
          714771.5602999934,
          307383.7442823227,
          120900.37062103748,
          48456.456617538504,
          20004.327588897148,
          8449.172621623764,
          3656.0211985944384,
          1630.780058834904,
          754.4953487150618,
          363.6330478276548,
          182.96664930350616,
          96.1626975733556,
          52.75029377317911,
          30.152888735776337,
          17.92265929659966,
          10.866271212237097,
          6.9743820466943545,
          4.616786724236218,
          3.0468892521403865,
          2.0833377077897413,
          1.4733052976552699,
          1.0975036616455793,
          0.8177211755072078,
          0.6246036994782824,
          0.48619792778837434,
          0.38203668164407706,
          0.30919214531418776,
          0.25284184361404,
          0.2087511519060546,
          0.17384534319980666,
          0.14591706999351037,
          0.12335095842949485,
          0.10494786770178452,
          0.08981309624068226,
          0.0772686145434932,
          0.06679486792050192,
          0.05799165139302274,
          0.050546694514531657,
          0.0442141414598311,
          0.038799525381798906,
          0.03414728783302808,
          0.03013207262929654,
          0.026652491785470644,
          0.023625679377566225,
          0.020983507117480142,
          0.018669820439729385,
          0.01663785435444218,
          0.014848492052107238,
          0.013268966619647275,
          0.01187154053382102,
          0.010632665345435886,
          0.009532343696540328,
          0.008553407460555242,
          0.007681091505988853,
          0.006902716390088667,
          0.0062072670920763975,
          0.005585157709866904,
          0.00502808459621852,
          0.004528772109714032,
          0.00408081398662591,
          0.003678608974086062,
          0.003317247308574382,
          0.002992357780812037,
          0.0027000614894220985,
          0.0024369584024652884,
          0.0022000356119552724,
          0.001986583944598672,
          0.0017941833753525509,
          0.0016207031596700578,
          0.0014642358203589,
          0.0013230647326962209,
          0.0011956600579146777,
          0.0010806553734754123,
          0.000976817186390265,
          0.0008874125467525505,
          0.0008022899658446127,
          0.0007292340377468435,
          0.000659380683089492,
          0.0005962583297266578,
          0.0005392110592358038,
          0.00048764740200797104,
          0.00044103700580722224,
          0.0003988991972644764,
          0.00036080128882260294,
          0.0003263545617259749,
          0.0002952061143924932,
          0.0002670378670673796,
          0.00024156455073247454,
          0.0002185267132988002,
          0.00019768960943139096,
          0.00017884318031297701,
          0.00016179681964003702,
          0.0001462455499846967,
          0.00013230983610893236,
          0.00011970400406721014,
          0.00010890925497246934,
          0.00009853484283990939,
          0.00008914974025858187,
          0.00008065928456938471,
          0.00007297785247862888,
          0.00006602856663368603,
          0.00005974146830677119,
          0.00005353845317844171,
          0.00004844115048899448,
          0.00004382946620253147,
          0.00003965686850532737,
          0.000035881620809869865,
          0.00003246601790746613,
          0.000029375631021352574,
          0.000026579376495192553,
          0.000024049432951268857,
          0.00002176040758410438,
          0.000019689214147902476,
          0.000017815200855255027,
          0.000016119635559168888,
          0.000014585431858543196,
          0.000013197254266940974,
          0.000011941250288963415,
          0.000010804780997392362,
          0.000009776475431121146
         ],
         "yaxis": "y"
        },
        {
         "line": {
          "color": "blue"
         },
         "mode": "markers",
         "name": "London",
         "showlegend": false,
         "type": "scatter",
         "x": [
          80,
          87,
          94,
          101,
          108,
          115,
          122,
          129
         ],
         "xaxis": "x",
         "y": [
          14654.651685393257,
          25322.30757373794,
          8013.77416693054,
          4744.591772151899,
          0,
          0,
          9439.017820762754,
          6911.606612127486,
          10868.866666666667,
          4413.902777777777,
          1583.7416383013265,
          2768.9239880873456,
          0,
          0,
          5036.705128911385,
          8907.806201813737,
          0,
          18380.590347820773,
          23147.99732110131,
          21777.116751893347,
          9031.873493975903,
          26794.792792954744,
          54919.345283444105,
          43385.414663852614,
          42221.370117142986,
          0,
          43174.70535720825,
          56572.00312238099,
          55364.35003026083,
          0,
          140605.47543868562,
          129367.55901557437,
          121435.08765904055,
          39436.63554200182,
          26566.593445343973,
          30589.328915894028,
          30597.77551020408,
          8863.059309309308,
          5654.007438919873,
          9740.837014763907,
          33452.73684210526,
          5386.457627118644,
          3907.733719471473,
          6372.901041529254,
          0,
          3644.8068181818185,
          3715.578595104249,
          9541.403999049793,
          8854.18026149799,
          38983.62153193376,
          49381.66467392017,
          37679.74202843691,
          31053.356350966107
         ],
         "yaxis": "y"
        },
        {
         "line": {
          "color": "blue"
         },
         "mode": "lines",
         "name": "London",
         "showlegend": false,
         "type": "scatter",
         "x": [
          1,
          2,
          3,
          4,
          5,
          6,
          7,
          8,
          9,
          10,
          11,
          12,
          13,
          14,
          15,
          16,
          17,
          18,
          19,
          20,
          21,
          22,
          23,
          24,
          25,
          26,
          27,
          28,
          29,
          30,
          31,
          32,
          33,
          34,
          35,
          36,
          37,
          38,
          39,
          40,
          41,
          42,
          43,
          44,
          45,
          46,
          47,
          48,
          49,
          50,
          51,
          52,
          53,
          54,
          55,
          56,
          57,
          58,
          59,
          60,
          61,
          62,
          63,
          64,
          65,
          66,
          67,
          68,
          69,
          70,
          71,
          72,
          73,
          74,
          75,
          76,
          77,
          78,
          79,
          80,
          81,
          82,
          83,
          84,
          85,
          86,
          87,
          88,
          89,
          90,
          91,
          92,
          93,
          94,
          95,
          96,
          97,
          98,
          99,
          100,
          101,
          102,
          103,
          104,
          105,
          106,
          107,
          108,
          109,
          110,
          111,
          112,
          113,
          114,
          115,
          116,
          117,
          118,
          119,
          120,
          121,
          122,
          123,
          124,
          125,
          126,
          127,
          128,
          129,
          130,
          131,
          132
         ],
         "xaxis": "x2",
         "y": [
          0.17189297315060567,
          0.48784139086852907,
          1.175397222181524,
          2.7978725427795954,
          6.731211480752223,
          16.31487410552095,
          39.51915841074054,
          94.69229342082691,
          220.45272473044741,
          481.3466272388721,
          934.9952658090975,
          1540.251021404246,
          2145.277629057486,
          2624.3577814870605,
          2942.4814195581994,
          3119.438496755687,
          3189.652589932718,
          3184.2039697209552,
          3126.6307783527704,
          3033.761030698239,
          2917.5012053012438,
          2786.341680567505,
          2646.409956973858,
          2502.171998510729,
          2356.899548214804,
          2212.988070175203,
          2072.178965364539,
          1935.7187305505213,
          1804.4772794320595,
          1679.034560735551,
          1559.6973992108444,
          1446.6797476603006,
          1339.9727409846284,
          1239.3947856616876,
          1144.497111304221,
          1054.308924051358,
          966.7244538464279,
          877.1882557905726,
          776.5824082834645,
          650.9553817260118,
          492.21829670543264,
          321.62781502573904,
          181.87162525090747,
          92.29596716447374,
          43.749343853516365,
          20.034102482730223,
          9.111647414764295,
          4.205495875689309,
          2.0006113290207117,
          0.9909073527358395,
          0.5139871577878619,
          0.27991681442256094,
          0.16008557729996672,
          0.09600510624099994,
          0.06022231444287973,
          0.03938677126086241,
          0.026762322713389564,
          0.018922001941095026,
          0.01378552684638339,
          0.010313970197582316,
          0.007952462877018816,
          0.006287220482877345,
          0.005073487113328889,
          0.0041501333694268444,
          0.0034433591430085065,
          0.0028900781656621176,
          0.002449357301137391,
          0.002094468034879852,
          0.001802286154809266,
          0.0015594662679517786,
          0.0013559419472012127,
          0.001184048566142429,
          0.0010378722162779036,
          0.0009127978081789098,
          0.000805186817627785,
          0.0007121401524085053,
          0.0006313266288783836,
          0.0005608558683116817,
          0.0004991818437389997,
          0.00044503065420729577,
          0.00039734536716630936,
          0.0003552430125312425,
          0.0003179814570080669,
          0.0002849334176863235,
          0.0002555657193804964,
          0.00022942295861685353,
          0.00020612248245400181,
          0.0001853211190560262,
          0.0001667331921451486,
          0.00015009932778788435,
          0.00013519734963375537,
          0.00012183360231217686,
          0.00010983857796068718,
          0.0000990633928907046,
          0.00008937694161145442,
          0.00008066349635672768,
          0.00007282064789332442,
          0.00006575760689514984,
          0.000059393746480634974,
          0.00005365732060380557,
          0.00004848439523335528,
          0.00004381793246244074,
          0.00003960696947679648,
          0.000035805904784944084,
          0.00003237366465955995,
          0.000029273855895928823,
          0.000026473689976805314,
          0.000023944826811760055,
          0.00002165990028502183,
          0.00001959491558622843,
          0.000017728351452427084,
          0.00001604086270489708,
          0.000014515047484201982,
          0.000013135236034720095,
          0.000011886353693938823,
          0.000010756423149964414,
          0.000009731763523783442,
          0.000008804889017125386,
          0.000007964363825734785,
          0.000007204180518854668,
          0.000006516640823165,
          0.000005894786437453976,
          0.0000053323288507357515,
          0.000004823583055145144,
          0.000004363410505712473,
          0.000003947166233327057,
          0.000003570650325971701,
          0.0000032300659815599425,
          0.0000029219805340301544,
          0.000002643289420290564,
          0.0000023911855182807506,
          0.0000021631308312332185
         ],
         "yaxis": "y2"
        },
        {
         "line": {
          "color": "blue"
         },
         "mode": "markers",
         "name": "London",
         "showlegend": false,
         "type": "scatter",
         "x": [
          27,
          28,
          29,
          30,
          31,
          32,
          33,
          34,
          35,
          36,
          37,
          38,
          39,
          40,
          41,
          42,
          43,
          44,
          45,
          46,
          47,
          48,
          49,
          50,
          51,
          52,
          53,
          54,
          55,
          56,
          57,
          58,
          59,
          60,
          61,
          62,
          63,
          64,
          65,
          66,
          67,
          68,
          69,
          70,
          71,
          72,
          73,
          74,
          75,
          76,
          77,
          78,
          79,
          80,
          81,
          82,
          83,
          84,
          85,
          86,
          87,
          88,
          89,
          90,
          91,
          92,
          93,
          94,
          95,
          96,
          97,
          98,
          99,
          100,
          101,
          102,
          103,
          104,
          105,
          106,
          107,
          108,
          109,
          110,
          111,
          112,
          113,
          114,
          115,
          116,
          117,
          118,
          119,
          120,
          121,
          122,
          123,
          124,
          125,
          126,
          127,
          128,
          129,
          130,
          131,
          132
         ],
         "xaxis": "x2",
         "y": [
          6,
          6,
          11,
          8,
          16,
          23,
          26,
          25,
          46,
          46,
          53,
          56,
          87,
          119,
          122,
          127,
          119,
          142,
          149,
          180,
          189,
          194,
          192,
          225,
          196,
          197,
          221,
          231,
          199,
          174,
          164,
          170,
          170,
          143,
          147,
          138,
          110,
          118,
          116,
          96,
          105,
          110,
          80,
          75,
          58,
          62,
          55,
          58,
          52,
          45,
          42,
          52,
          43,
          37,
          34,
          43,
          28,
          30,
          25,
          27,
          23,
          15,
          12,
          17,
          18,
          10,
          14,
          13,
          20,
          16,
          12,
          8,
          6,
          6,
          9,
          11,
          8,
          9,
          5,
          7,
          5,
          5,
          7,
          6,
          6,
          2,
          3,
          5,
          8,
          2,
          5,
          5,
          5,
          1,
          2,
          3,
          1,
          1,
          0,
          2,
          2,
          2,
          3,
          0,
          4,
          1,
          0,
          0,
          1,
          1,
          1,
          1,
          2,
          1,
          1,
          3,
          3,
          1,
          3,
          2,
          0,
          3,
          1,
          1,
          0,
          1,
          0,
          2,
          0,
          0,
          0,
          0,
          0,
          2,
          0,
          0,
          0,
          2,
          0,
          0,
          0,
          2,
          2,
          1,
          0,
          0,
          0,
          0,
          0,
          1,
          0,
          1,
          1,
          0,
          2,
          0,
          0,
          0,
          2,
          1,
          0,
          1,
          0,
          1,
          0,
          0,
          1,
          0,
          0,
          0,
          0,
          0,
          1,
          0,
          1,
          1,
          0,
          0,
          2,
          0,
          0,
          0,
          2,
          3,
          0,
          0,
          0,
          1,
          2,
          4,
          1,
          3,
          4,
          4,
          6,
          7,
          2,
          1,
          1,
          2,
          5,
          9,
          6,
          5,
          3,
          2,
          2,
          9,
          5,
          6,
          6,
          7,
          5,
          4,
          6,
          5,
          4,
          12,
          7,
          4,
          6,
          11,
          7,
          15,
          11,
          6,
          18,
          11,
          12,
          14,
          21,
          12,
          14,
          8,
          17,
          18,
          13,
          16,
          15,
          16,
          23,
          19,
          28,
          15,
          12,
          20,
          13,
          20,
          19,
          30,
          30,
          20,
          27,
          28,
          19,
          29,
          18,
          30,
          39,
          29,
          21,
          33,
          49,
          26,
          22,
          28,
          35,
          33,
          27,
          27,
          35,
          35,
          30,
          28,
          27,
          41,
          29,
          37,
          45,
          30,
          61,
          44,
          48,
          52,
          63,
          75,
          70,
          65,
          90,
          93,
          104,
          102,
          110,
          124,
          129,
          136,
          146,
          136,
          161,
          177,
          161,
          186,
          175,
          179,
          193,
          185,
          193,
          200,
          196,
          183,
          200,
          207,
          202,
          208,
          185,
          184,
          160,
          158,
          152,
          155,
          126,
          128,
          125,
          122,
          86,
          101,
          93,
          96,
          107,
          67,
          91,
          76,
          66,
          65,
          57,
          64,
          44,
          41,
          41,
          37,
          44,
          43,
          40,
          37,
          33,
          30,
          38,
          21,
          20,
          21,
          19,
          15,
          12,
          10,
          20,
          14,
          7,
          12,
          15,
          13,
          9,
          7,
          9,
          10,
          7,
          1,
          9,
          4,
          7,
          5,
          7,
          2,
          3,
          2,
          3,
          6,
          2,
          5,
          1,
          2,
          7,
          2,
          3,
          2,
          2,
          3,
          1,
          4,
          1,
          1,
          1,
          2,
          2,
          1,
          3,
          3,
          0,
          2,
          0,
          2,
          2,
          1,
          2,
          3,
          2,
          1,
          0,
          1,
          1,
          2,
          0,
          3,
          5,
          0,
          2,
          1,
          1,
          1,
          1,
          3,
          0,
          3,
          0,
          0,
          2,
          1,
          0,
          0,
          0,
          2,
          1,
          0,
          0,
          0,
          2,
          0,
          0,
          2,
          1,
          1,
          3,
          1,
          0,
          1,
          2,
          0,
          0,
          1,
          1,
          2,
          1,
          2,
          0,
          2,
          2,
          0,
          0,
          5,
          1,
          0,
          1,
          2,
          2,
          4,
          2,
          1,
          2,
          0,
          0,
          3,
          4
         ],
         "yaxis": "y2"
        }
       ],
       "layout": {
        "annotations": [
         {
          "font": {
           "size": 16
          },
          "showarrow": false,
          "text": "Infections",
          "x": 0.5,
          "xanchor": "center",
          "xref": "paper",
          "y": 1,
          "yanchor": "bottom",
          "yref": "paper"
         },
         {
          "font": {
           "size": 16
          },
          "showarrow": false,
          "text": "Deaths",
          "x": 0.5,
          "xanchor": "center",
          "xref": "paper",
          "y": 0.6111111111111112,
          "yanchor": "bottom",
          "yref": "paper"
         },
         {
          "font": {
           "size": 16
          },
          "showarrow": false,
          "text": "Reproduction Number",
          "x": 0.5,
          "xanchor": "center",
          "xref": "paper",
          "y": 0.22222222222222224,
          "yanchor": "bottom",
          "yref": "paper"
         }
        ],
        "height": 900,
        "legend": {
         "orientation": "h",
         "x": 1,
         "xanchor": "right",
         "y": 1.075,
         "yanchor": "bottom"
        },
        "plot_bgcolor": "white",
        "template": {
         "data": {
          "bar": [
           {
            "error_x": {
             "color": "#2a3f5f"
            },
            "error_y": {
             "color": "#2a3f5f"
            },
            "marker": {
             "line": {
              "color": "#E5ECF6",
              "width": 0.5
             },
             "pattern": {
              "fillmode": "overlay",
              "size": 10,
              "solidity": 0.2
             }
            },
            "type": "bar"
           }
          ],
          "barpolar": [
           {
            "marker": {
             "line": {
              "color": "#E5ECF6",
              "width": 0.5
             },
             "pattern": {
              "fillmode": "overlay",
              "size": 10,
              "solidity": 0.2
             }
            },
            "type": "barpolar"
           }
          ],
          "carpet": [
           {
            "aaxis": {
             "endlinecolor": "#2a3f5f",
             "gridcolor": "white",
             "linecolor": "white",
             "minorgridcolor": "white",
             "startlinecolor": "#2a3f5f"
            },
            "baxis": {
             "endlinecolor": "#2a3f5f",
             "gridcolor": "white",
             "linecolor": "white",
             "minorgridcolor": "white",
             "startlinecolor": "#2a3f5f"
            },
            "type": "carpet"
           }
          ],
          "choropleth": [
           {
            "colorbar": {
             "outlinewidth": 0,
             "ticks": ""
            },
            "type": "choropleth"
           }
          ],
          "contour": [
           {
            "colorbar": {
             "outlinewidth": 0,
             "ticks": ""
            },
            "colorscale": [
             [
              0,
              "#0d0887"
             ],
             [
              0.1111111111111111,
              "#46039f"
             ],
             [
              0.2222222222222222,
              "#7201a8"
             ],
             [
              0.3333333333333333,
              "#9c179e"
             ],
             [
              0.4444444444444444,
              "#bd3786"
             ],
             [
              0.5555555555555556,
              "#d8576b"
             ],
             [
              0.6666666666666666,
              "#ed7953"
             ],
             [
              0.7777777777777778,
              "#fb9f3a"
             ],
             [
              0.8888888888888888,
              "#fdca26"
             ],
             [
              1,
              "#f0f921"
             ]
            ],
            "type": "contour"
           }
          ],
          "contourcarpet": [
           {
            "colorbar": {
             "outlinewidth": 0,
             "ticks": ""
            },
            "type": "contourcarpet"
           }
          ],
          "heatmap": [
           {
            "colorbar": {
             "outlinewidth": 0,
             "ticks": ""
            },
            "colorscale": [
             [
              0,
              "#0d0887"
             ],
             [
              0.1111111111111111,
              "#46039f"
             ],
             [
              0.2222222222222222,
              "#7201a8"
             ],
             [
              0.3333333333333333,
              "#9c179e"
             ],
             [
              0.4444444444444444,
              "#bd3786"
             ],
             [
              0.5555555555555556,
              "#d8576b"
             ],
             [
              0.6666666666666666,
              "#ed7953"
             ],
             [
              0.7777777777777778,
              "#fb9f3a"
             ],
             [
              0.8888888888888888,
              "#fdca26"
             ],
             [
              1,
              "#f0f921"
             ]
            ],
            "type": "heatmap"
           }
          ],
          "heatmapgl": [
           {
            "colorbar": {
             "outlinewidth": 0,
             "ticks": ""
            },
            "colorscale": [
             [
              0,
              "#0d0887"
             ],
             [
              0.1111111111111111,
              "#46039f"
             ],
             [
              0.2222222222222222,
              "#7201a8"
             ],
             [
              0.3333333333333333,
              "#9c179e"
             ],
             [
              0.4444444444444444,
              "#bd3786"
             ],
             [
              0.5555555555555556,
              "#d8576b"
             ],
             [
              0.6666666666666666,
              "#ed7953"
             ],
             [
              0.7777777777777778,
              "#fb9f3a"
             ],
             [
              0.8888888888888888,
              "#fdca26"
             ],
             [
              1,
              "#f0f921"
             ]
            ],
            "type": "heatmapgl"
           }
          ],
          "histogram": [
           {
            "marker": {
             "pattern": {
              "fillmode": "overlay",
              "size": 10,
              "solidity": 0.2
             }
            },
            "type": "histogram"
           }
          ],
          "histogram2d": [
           {
            "colorbar": {
             "outlinewidth": 0,
             "ticks": ""
            },
            "colorscale": [
             [
              0,
              "#0d0887"
             ],
             [
              0.1111111111111111,
              "#46039f"
             ],
             [
              0.2222222222222222,
              "#7201a8"
             ],
             [
              0.3333333333333333,
              "#9c179e"
             ],
             [
              0.4444444444444444,
              "#bd3786"
             ],
             [
              0.5555555555555556,
              "#d8576b"
             ],
             [
              0.6666666666666666,
              "#ed7953"
             ],
             [
              0.7777777777777778,
              "#fb9f3a"
             ],
             [
              0.8888888888888888,
              "#fdca26"
             ],
             [
              1,
              "#f0f921"
             ]
            ],
            "type": "histogram2d"
           }
          ],
          "histogram2dcontour": [
           {
            "colorbar": {
             "outlinewidth": 0,
             "ticks": ""
            },
            "colorscale": [
             [
              0,
              "#0d0887"
             ],
             [
              0.1111111111111111,
              "#46039f"
             ],
             [
              0.2222222222222222,
              "#7201a8"
             ],
             [
              0.3333333333333333,
              "#9c179e"
             ],
             [
              0.4444444444444444,
              "#bd3786"
             ],
             [
              0.5555555555555556,
              "#d8576b"
             ],
             [
              0.6666666666666666,
              "#ed7953"
             ],
             [
              0.7777777777777778,
              "#fb9f3a"
             ],
             [
              0.8888888888888888,
              "#fdca26"
             ],
             [
              1,
              "#f0f921"
             ]
            ],
            "type": "histogram2dcontour"
           }
          ],
          "mesh3d": [
           {
            "colorbar": {
             "outlinewidth": 0,
             "ticks": ""
            },
            "type": "mesh3d"
           }
          ],
          "parcoords": [
           {
            "line": {
             "colorbar": {
              "outlinewidth": 0,
              "ticks": ""
             }
            },
            "type": "parcoords"
           }
          ],
          "pie": [
           {
            "automargin": true,
            "type": "pie"
           }
          ],
          "scatter": [
           {
            "marker": {
             "colorbar": {
              "outlinewidth": 0,
              "ticks": ""
             }
            },
            "type": "scatter"
           }
          ],
          "scatter3d": [
           {
            "line": {
             "colorbar": {
              "outlinewidth": 0,
              "ticks": ""
             }
            },
            "marker": {
             "colorbar": {
              "outlinewidth": 0,
              "ticks": ""
             }
            },
            "type": "scatter3d"
           }
          ],
          "scattercarpet": [
           {
            "marker": {
             "colorbar": {
              "outlinewidth": 0,
              "ticks": ""
             }
            },
            "type": "scattercarpet"
           }
          ],
          "scattergeo": [
           {
            "marker": {
             "colorbar": {
              "outlinewidth": 0,
              "ticks": ""
             }
            },
            "type": "scattergeo"
           }
          ],
          "scattergl": [
           {
            "marker": {
             "colorbar": {
              "outlinewidth": 0,
              "ticks": ""
             }
            },
            "type": "scattergl"
           }
          ],
          "scattermapbox": [
           {
            "marker": {
             "colorbar": {
              "outlinewidth": 0,
              "ticks": ""
             }
            },
            "type": "scattermapbox"
           }
          ],
          "scatterpolar": [
           {
            "marker": {
             "colorbar": {
              "outlinewidth": 0,
              "ticks": ""
             }
            },
            "type": "scatterpolar"
           }
          ],
          "scatterpolargl": [
           {
            "marker": {
             "colorbar": {
              "outlinewidth": 0,
              "ticks": ""
             }
            },
            "type": "scatterpolargl"
           }
          ],
          "scatterternary": [
           {
            "marker": {
             "colorbar": {
              "outlinewidth": 0,
              "ticks": ""
             }
            },
            "type": "scatterternary"
           }
          ],
          "surface": [
           {
            "colorbar": {
             "outlinewidth": 0,
             "ticks": ""
            },
            "colorscale": [
             [
              0,
              "#0d0887"
             ],
             [
              0.1111111111111111,
              "#46039f"
             ],
             [
              0.2222222222222222,
              "#7201a8"
             ],
             [
              0.3333333333333333,
              "#9c179e"
             ],
             [
              0.4444444444444444,
              "#bd3786"
             ],
             [
              0.5555555555555556,
              "#d8576b"
             ],
             [
              0.6666666666666666,
              "#ed7953"
             ],
             [
              0.7777777777777778,
              "#fb9f3a"
             ],
             [
              0.8888888888888888,
              "#fdca26"
             ],
             [
              1,
              "#f0f921"
             ]
            ],
            "type": "surface"
           }
          ],
          "table": [
           {
            "cells": {
             "fill": {
              "color": "#EBF0F8"
             },
             "line": {
              "color": "white"
             }
            },
            "header": {
             "fill": {
              "color": "#C8D4E3"
             },
             "line": {
              "color": "white"
             }
            },
            "type": "table"
           }
          ]
         },
         "layout": {
          "annotationdefaults": {
           "arrowcolor": "#2a3f5f",
           "arrowhead": 0,
           "arrowwidth": 1
          },
          "autotypenumbers": "strict",
          "coloraxis": {
           "colorbar": {
            "outlinewidth": 0,
            "ticks": ""
           }
          },
          "colorscale": {
           "diverging": [
            [
             0,
             "#8e0152"
            ],
            [
             0.1,
             "#c51b7d"
            ],
            [
             0.2,
             "#de77ae"
            ],
            [
             0.3,
             "#f1b6da"
            ],
            [
             0.4,
             "#fde0ef"
            ],
            [
             0.5,
             "#f7f7f7"
            ],
            [
             0.6,
             "#e6f5d0"
            ],
            [
             0.7,
             "#b8e186"
            ],
            [
             0.8,
             "#7fbc41"
            ],
            [
             0.9,
             "#4d9221"
            ],
            [
             1,
             "#276419"
            ]
           ],
           "sequential": [
            [
             0,
             "#0d0887"
            ],
            [
             0.1111111111111111,
             "#46039f"
            ],
            [
             0.2222222222222222,
             "#7201a8"
            ],
            [
             0.3333333333333333,
             "#9c179e"
            ],
            [
             0.4444444444444444,
             "#bd3786"
            ],
            [
             0.5555555555555556,
             "#d8576b"
            ],
            [
             0.6666666666666666,
             "#ed7953"
            ],
            [
             0.7777777777777778,
             "#fb9f3a"
            ],
            [
             0.8888888888888888,
             "#fdca26"
            ],
            [
             1,
             "#f0f921"
            ]
           ],
           "sequentialminus": [
            [
             0,
             "#0d0887"
            ],
            [
             0.1111111111111111,
             "#46039f"
            ],
            [
             0.2222222222222222,
             "#7201a8"
            ],
            [
             0.3333333333333333,
             "#9c179e"
            ],
            [
             0.4444444444444444,
             "#bd3786"
            ],
            [
             0.5555555555555556,
             "#d8576b"
            ],
            [
             0.6666666666666666,
             "#ed7953"
            ],
            [
             0.7777777777777778,
             "#fb9f3a"
            ],
            [
             0.8888888888888888,
             "#fdca26"
            ],
            [
             1,
             "#f0f921"
            ]
           ]
          },
          "colorway": [
           "#636efa",
           "#EF553B",
           "#00cc96",
           "#ab63fa",
           "#FFA15A",
           "#19d3f3",
           "#FF6692",
           "#B6E880",
           "#FF97FF",
           "#FECB52"
          ],
          "font": {
           "color": "#2a3f5f"
          },
          "geo": {
           "bgcolor": "white",
           "lakecolor": "white",
           "landcolor": "#E5ECF6",
           "showlakes": true,
           "showland": true,
           "subunitcolor": "white"
          },
          "hoverlabel": {
           "align": "left"
          },
          "hovermode": "closest",
          "mapbox": {
           "style": "light"
          },
          "paper_bgcolor": "white",
          "plot_bgcolor": "#E5ECF6",
          "polar": {
           "angularaxis": {
            "gridcolor": "white",
            "linecolor": "white",
            "ticks": ""
           },
           "bgcolor": "#E5ECF6",
           "radialaxis": {
            "gridcolor": "white",
            "linecolor": "white",
            "ticks": ""
           }
          },
          "scene": {
           "xaxis": {
            "backgroundcolor": "#E5ECF6",
            "gridcolor": "white",
            "gridwidth": 2,
            "linecolor": "white",
            "showbackground": true,
            "ticks": "",
            "zerolinecolor": "white"
           },
           "yaxis": {
            "backgroundcolor": "#E5ECF6",
            "gridcolor": "white",
            "gridwidth": 2,
            "linecolor": "white",
            "showbackground": true,
            "ticks": "",
            "zerolinecolor": "white"
           },
           "zaxis": {
            "backgroundcolor": "#E5ECF6",
            "gridcolor": "white",
            "gridwidth": 2,
            "linecolor": "white",
            "showbackground": true,
            "ticks": "",
            "zerolinecolor": "white"
           }
          },
          "shapedefaults": {
           "line": {
            "color": "#2a3f5f"
           }
          },
          "ternary": {
           "aaxis": {
            "gridcolor": "white",
            "linecolor": "white",
            "ticks": ""
           },
           "baxis": {
            "gridcolor": "white",
            "linecolor": "white",
            "ticks": ""
           },
           "bgcolor": "#E5ECF6",
           "caxis": {
            "gridcolor": "white",
            "linecolor": "white",
            "ticks": ""
           }
          },
          "title": {
           "x": 0.05
          },
          "xaxis": {
           "automargin": true,
           "gridcolor": "white",
           "linecolor": "white",
           "ticks": "",
           "title": {
            "standoff": 15
           },
           "zerolinecolor": "white",
           "zerolinewidth": 2
          },
          "yaxis": {
           "automargin": true,
           "gridcolor": "white",
           "linecolor": "white",
           "ticks": "",
           "title": {
            "standoff": 15
           },
           "zerolinecolor": "white",
           "zerolinewidth": 2
          }
         }
        },
        "width": 600,
        "xaxis": {
         "anchor": "y",
         "domain": [
          0,
          1
         ],
         "linecolor": "black",
         "ticktext": [
          "Feb 15",
          "Feb 25",
          "Mar 06",
          "Mar 16",
          "Mar 26",
          "Apr 05",
          "Apr 15",
          "Apr 25",
          "May 05",
          "May 15",
          "May 25",
          "Jun 04",
          "Jun 14",
          "Jun 24"
         ],
         "tickvals": [
          1,
          11,
          21,
          31,
          41,
          51,
          61,
          71,
          81,
          91,
          101,
          111,
          121,
          131
         ]
        },
        "xaxis2": {
         "anchor": "y2",
         "domain": [
          0,
          1
         ],
         "linecolor": "black",
         "ticktext": [
          "Feb 15",
          "Feb 25",
          "Mar 06",
          "Mar 16",
          "Mar 26",
          "Apr 05",
          "Apr 15",
          "Apr 25",
          "May 05",
          "May 15",
          "May 25",
          "Jun 04",
          "Jun 14",
          "Jun 24"
         ],
         "tickvals": [
          1,
          11,
          21,
          31,
          41,
          51,
          61,
          71,
          81,
          91,
          101,
          111,
          121,
          131
         ]
        },
        "xaxis3": {
         "anchor": "y3",
         "domain": [
          0,
          1
         ],
         "linecolor": "black",
         "ticktext": [
          "Feb 15",
          "Feb 25",
          "Mar 06",
          "Mar 16",
          "Mar 26",
          "Apr 05",
          "Apr 15",
          "Apr 25",
          "May 05",
          "May 15",
          "May 25",
          "Jun 04",
          "Jun 14",
          "Jun 24"
         ],
         "tickvals": [
          1,
          11,
          21,
          31,
          41,
          51,
          61,
          71,
          81,
          91,
          101,
          111,
          121,
          131
         ]
        },
        "yaxis": {
         "anchor": "x",
         "domain": [
          0.7777777777777778,
          1
         ],
         "linecolor": "black"
        },
        "yaxis2": {
         "anchor": "x2",
         "domain": [
          0.3888888888888889,
          0.6111111111111112
         ],
         "linecolor": "black"
        },
        "yaxis3": {
         "anchor": "x3",
         "domain": [
          0,
          0.22222222222222224
         ],
         "linecolor": "black"
        }
       }
      }
     },
     "metadata": {},
     "output_type": "display_data"
    }
   ],
   "source": [
    "# Trace names - represent the solver used for the simulation\n",
    "trace_name = regions\n",
    "titles = ['Infections', 'Deaths', 'Reproduction Number']\n",
    "\n",
    "fig = go.Figure()\n",
    "fig = make_subplots(rows=len(titles), cols=1, subplot_titles=tuple(titles), horizontal_spacing = 0.15)\n",
    "\n",
    "# Plot (continuous predicted timeline and pointwise observed numbers each day)\n",
    "for r, region in enumerate(regions):\n",
    "    # Plot of infections\n",
    "    fig.add_trace(\n",
    "        go.Scatter(\n",
    "            x=times,\n",
    "            y=new_infec_pred[r].tolist(),\n",
    "            mode='lines',\n",
    "            name=trace_name[r],\n",
    "            line_color=colours[r]\n",
    "        ),\n",
    "        row= 1,\n",
    "        col= 1\n",
    "    )\n",
    "\n",
    "    fig.add_trace(\n",
    "        go.Scatter(\n",
    "            x=serology_times,\n",
    "            y=np.sum(np.multiply(np.nan_to_num(np.divide(positives_data[r], tests[r])), susceptibles[r]), axis=1).tolist(),\n",
    "            mode='markers',\n",
    "            name=trace_name[r],\n",
    "            showlegend=False,\n",
    "            line_color=colours[r]\n",
    "        ),\n",
    "        row= 1,\n",
    "        col= 1\n",
    "    )\n",
    "\n",
    "    # Plot deaths\n",
    "    fig.add_trace(\n",
    "        go.Scatter(\n",
    "            x=times,\n",
    "            y=deaths_pred[r].tolist(),\n",
    "            mode='lines',\n",
    "            name=trace_name[r],\n",
    "            showlegend=False,\n",
    "            line_color=colours[r]\n",
    "        ),\n",
    "        row= 2,\n",
    "        col= 1\n",
    "    )\n",
    "\n",
    "    fig.add_trace(\n",
    "        go.Scatter(\n",
    "            x=deaths_times,\n",
    "            y=np.sum(deaths_data[r], axis=1).tolist(),\n",
    "            mode='markers',\n",
    "            name=trace_name[r],\n",
    "            showlegend=False,\n",
    "            line_color=colours[r]\n",
    "        ),\n",
    "        row= 2,\n",
    "        col= 1\n",
    "    )\n",
    "\n",
    "    # Plot reproduction number\n",
    "    #fig.add_trace(\n",
    "    #    go.Scatter(\n",
    "    #        x=times,\n",
    "    #        y=reprod_num_pred[r].tolist(),\n",
    "    #        mode='lines',\n",
    "    #        name=trace_name[r],\n",
    "    #        showlegend=False,\n",
    "    #        line_color=colours[r]\n",
    "    #    ),\n",
    "    #    row= 3,\n",
    "    #    col= 1\n",
    "    #)\n",
    "\n",
    "# Add axis labels\n",
    "fig.update_layout(\n",
    "    width=600, \n",
    "    height=900,\n",
    "    plot_bgcolor='white',\n",
    "    xaxis=dict(\n",
    "        linecolor='black',\n",
    "        tickvals=np.arange(1, total_days, 10).tolist(),\n",
    "        ticktext=['Feb 15', 'Feb 25', 'Mar 06', 'Mar 16', 'Mar 26', 'Apr 05', 'Apr 15', 'Apr 25', 'May 05', 'May 15', 'May 25', 'Jun 04', 'Jun 14', 'Jun 24']),\n",
    "    yaxis=dict(linecolor='black'),\n",
    "    xaxis2=dict(\n",
    "        linecolor='black',\n",
    "        tickvals=np.arange(1, total_days, 10).tolist(),\n",
    "        ticktext=['Feb 15', 'Feb 25', 'Mar 06', 'Mar 16', 'Mar 26', 'Apr 05', 'Apr 15', 'Apr 25', 'May 05', 'May 15', 'May 25', 'Jun 04', 'Jun 14', 'Jun 24']),\n",
    "    yaxis2=dict(linecolor='black'),\n",
    "    xaxis3=dict(\n",
    "        linecolor='black',\n",
    "        tickvals=np.arange(1, total_days, 10).tolist(),\n",
    "        ticktext=['Feb 15', 'Feb 25', 'Mar 06', 'Mar 16', 'Mar 26', 'Apr 05', 'Apr 15', 'Apr 25', 'May 05', 'May 15', 'May 25', 'Jun 04', 'Jun 14', 'Jun 24']),\n",
    "    yaxis3=dict(linecolor='black'),\n",
    "    legend=dict(\n",
    "        orientation='h',\n",
    "        yanchor=\"bottom\",\n",
    "        y=1.075,\n",
    "        xanchor=\"right\",\n",
    "        x=1)\n",
    "    )\n",
    "\n",
    "fig.write_image('images/Figure-3-optimisation.pdf')\n",
    "fig.show()"
   ]
  }
 ],
 "metadata": {
  "interpreter": {
   "hash": "684a6128a123c6817f5879bd443c804f1ae947106cccd5e393ee42f0caf0d347"
  },
  "kernelspec": {
   "display_name": "Python 3.8.8 64-bit ('base': conda)",
   "name": "python3"
  },
  "language_info": {
   "codemirror_mode": {
    "name": "ipython",
    "version": 3
   },
   "file_extension": ".py",
   "mimetype": "text/x-python",
   "name": "python",
   "nbconvert_exporter": "python",
   "pygments_lexer": "ipython3",
   "version": "3.8.5"
  },
  "orig_nbformat": 4
 },
 "nbformat": 4,
 "nbformat_minor": 2
}

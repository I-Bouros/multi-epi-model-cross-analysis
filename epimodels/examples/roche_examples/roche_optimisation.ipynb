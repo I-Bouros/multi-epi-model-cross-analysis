{
 "cells": [
  {
   "cell_type": "markdown",
   "metadata": {},
   "source": [
    "# Roche SEIRD Model Optimisation\n",
    "\n",
    "In this notebook we present how to use the `epimodels` module to perform parameter optimisation for the  parameters specified by the Roche model, using time-dependent region-specific contact matrices.\n",
    "\n",
    "The analysis is run for:\n",
    " - Dates: **15 Feb 2020** - **25 June 2020**;\n",
    " - PHE s of interest: **London**.\n",
    "\n",
    "We use realistic serology and mortality data extracted from the REACT survey and GOV.UK data.\n",
    "\n",
    "*The Roche model is built by F. Hoffmann-La Roche Ltd.*"
   ]
  },
  {
   "cell_type": "code",
   "execution_count": 1,
   "metadata": {},
   "outputs": [],
   "source": [
    "# Load necessary libraries\n",
    "import os\n",
    "import numpy as np\n",
    "import pandas as pd\n",
    "from scipy.stats import gamma, nbinom, norm\n",
    "import epimodels as em\n",
    "import matplotlib\n",
    "import plotly.graph_objects as go\n",
    "import plotly.express as px\n",
    "from matplotlib import pyplot as plt\n",
    "from iteration_utilities import deepflatten\n",
    "\n",
    "# Set random seed\n",
    "np.random.seed(28)"
   ]
  },
  {
   "cell_type": "markdown",
   "metadata": {},
   "source": [
    "## Model Setup\n",
    "### Define setup matrices for the Roche Model"
   ]
  },
  {
   "cell_type": "code",
   "execution_count": 2,
   "metadata": {},
   "outputs": [],
   "source": [
    "# Populate the model\n",
    "total_days =  132\n",
    "regions = ['London']\n",
    "age_groups = ['0-1', '1-5', '5-15', '15-25', '25-45', '45-65', '65-75', '75+']\n",
    "\n",
    "weeks = list(range(1,int(np.ceil(total_days/7))+1))\n",
    "matrices_region = []\n",
    "\n",
    "### Variable\n",
    "## Initial state of the system\n",
    "# for w in weeks:\n",
    "#     weeks_matrices_region = []\n",
    "#     for r in regions:\n",
    "#         path = os.path.join('../../data/final_contact_matrices/{}_W{}.csv'.format(r, w))\n",
    "#         region_data_matrix = pd.read_csv(path, header=None, dtype=np.float64)\n",
    "#         regional = em.RegionMatrix(r, age_groups, region_data_matrix)\n",
    "#         weeks_matrices_region.append(regional)\n",
    "\n",
    "#     matrices_region.append(weeks_matrices_region)\n",
    "\n",
    "# contacts = em.ContactMatrix(age_groups, np.ones((len(age_groups), len(age_groups))))\n",
    "# matrices_contact = [contacts]\n",
    "\n",
    "## Matrices contact\n",
    "# time_changes_contact = [1]\n",
    "# time_changes_region = np.arange(1, total_days+1, 7).tolist()\n",
    "\n",
    "### Fixed\n",
    "# Initial state of the system\n",
    "weeks_matrices_region = []\n",
    "for r in regions:\n",
    "    path = os.path.join('../../data/final_contact_matrices/BASE.csv')\n",
    "    region_data_matrix = pd.read_csv(path, header=None, dtype=np.float64)\n",
    "    regional = em.RegionMatrix(r, age_groups, region_data_matrix)\n",
    "    weeks_matrices_region.append(regional)\n",
    "\n",
    "matrices_region.append(weeks_matrices_region)\n",
    "\n",
    "contacts = em.ContactMatrix(age_groups, np.ones((len(age_groups), len(age_groups))))\n",
    "matrices_contact = [contacts]\n",
    "\n",
    "# Matrices contact\n",
    "time_changes_contact = [1]\n",
    "time_changes_region = [1]\n",
    "\n",
    "# NPIs data\n",
    "max_levels_npi = [3, 3, 2, 4, 2, 3, 2, 4, 2]\n",
    "targeted_npi = [True, True, True, True, True, True, True, False, True]\n",
    "path = os.path.join('../../data/npi_data/')\n",
    "general_npi = np.loadtxt(os.path.join(path, 'uk_flags.csv'), dtype=bool, delimiter=',').tolist()\n",
    "time_changes_flag = np.loadtxt(os.path.join(path, 'times_flags.csv'), dtype=int, delimiter=',').tolist()\n",
    "\n",
    "reg_levels_npi = [np.loadtxt(os.path.join(path, 'uk_npis.csv'), dtype=int, delimiter=',').tolist()]\n",
    "time_changes_npi = np.loadtxt(os.path.join(path, 'times_npis.csv'), dtype=int, delimiter=',').tolist()"
   ]
  },
  {
   "cell_type": "markdown",
   "metadata": {},
   "source": [
    "### Set the parameters and initial conditions of the model and bundle everything together"
   ]
  },
  {
   "cell_type": "code",
   "execution_count": 3,
   "metadata": {},
   "outputs": [],
   "source": [
    "# Instantiate model\n",
    "model = em.RocheSEIRModel()\n",
    "\n",
    "# Set the region names, contact and regional data of the model\n",
    "model.set_regions(regions)\n",
    "model.set_age_groups(age_groups)\n",
    "model.read_contact_data(matrices_contact, time_changes_contact)\n",
    "model.read_regional_data(matrices_region, time_changes_region)\n",
    "model.read_npis_data(max_levels_npi, targeted_npi, general_npi, reg_levels_npi, time_changes_npi, time_changes_flag)\n",
    "\n",
    "# Initial number of susceptibles\n",
    "path = os.path.join('../../data/england_population/England_population.csv')\n",
    "total_susceptibles = np.loadtxt(path, dtype=int, delimiter=',').tolist()\n",
    "susceptibles = []\n",
    "susceptibles.append(total_susceptibles[-1])\n",
    "\n",
    "# Initial number of infectives\n",
    "ICs_multiplier = [40, 5]\n",
    "infectives_pre = (ICs_multiplier[0] * np.ones((len(regions), len(age_groups)))).tolist()\n",
    "infectives_pre_ss = (ICs_multiplier[1] * np.ones((len(regions), len(age_groups)))).tolist()\n",
    "\n",
    "infectives = (np.array(infectives_pre) + np.array(infectives_pre_ss)).tolist()\n",
    "\n",
    "# List of times at which we wish to evaluate the states of the compartments of the model\n",
    "times = np.arange(1, total_days+1, 1).tolist()"
   ]
  },
  {
   "cell_type": "code",
   "execution_count": 4,
   "metadata": {},
   "outputs": [],
   "source": [
    "# Set ICs parameters\n",
    "ICs = em.RocheICs(\n",
    "    model=model,\n",
    "    susceptibles_IC=susceptibles,\n",
    "    exposed_IC=np.zeros((len(regions), len(age_groups))).tolist(),\n",
    "    infectives_pre_IC=infectives_pre,\n",
    "    infectives_asym_IC=np.zeros((len(regions), len(age_groups))).tolist(),\n",
    "    infectives_sym_IC=np.zeros((len(regions), len(age_groups))).tolist(),\n",
    "    infectives_pre_ss_IC=infectives_pre_ss,\n",
    "    infectives_asym_ss_IC=np.zeros((len(regions), len(age_groups))).tolist(),\n",
    "    infectives_sym_ss_IC=np.zeros((len(regions), len(age_groups))).tolist(),\n",
    "    infectives_q_IC=np.zeros((len(regions), len(age_groups))).tolist(),\n",
    "    recovered_IC=np.zeros((len(regions), len(age_groups))).tolist(),\n",
    "    recovered_asym_IC=np.zeros((len(regions), len(age_groups))).tolist(),\n",
    "    dead_IC=np.zeros((len(regions), len(age_groups))).tolist()\n",
    ")\n",
    "\n",
    "# Set average times in compartments\n",
    "compartment_times = em.RocheCompartmentTimes(\n",
    "    model=model,\n",
    "    k=1.25,\n",
    "    kS=3.7,\n",
    "    kQ=1,\n",
    "    kR=9,\n",
    "    kRI=10\n",
    ")\n",
    "\n",
    "# Set proportion of asymptomatic, super-spreader and dead cases\n",
    "proportion_parameters = em.RocheProportions(\n",
    "    model=model,\n",
    "    Pa = 0.716,\n",
    "    Pss = 0.106,\n",
    "    Pd = 0.05\n",
    ")\n",
    "\n",
    "# Set transmission parameters\n",
    "transmission_parameters = em.RocheTransmission(\n",
    "    model=model,\n",
    "    beta_min=0.228,\n",
    "    beta_max=2.63,\n",
    "    bss=3.11,\n",
    "    gamma=1,\n",
    "    s50=6\n",
    ")\n",
    "\n",
    "# Set other simulation parameters\n",
    "simulation_parameters = em.RocheSimParameters(\n",
    "    model=model,\n",
    "    region_index=1,\n",
    "    method='RK45',\n",
    "    times=times\n",
    ")\n",
    "\n",
    "# Set all parameters in the controller\n",
    "parameters = em.RocheParametersController(\n",
    "    model=model,\n",
    "    ICs=ICs,\n",
    "    compartment_times=compartment_times,\n",
    "    proportion_parameters=proportion_parameters,\n",
    "    transmission_parameters=transmission_parameters,\n",
    "    simulation_parameters=simulation_parameters\n",
    ")"
   ]
  },
  {
   "cell_type": "markdown",
   "metadata": {},
   "source": [
    "## Read Death and Serology data"
   ]
  },
  {
   "cell_type": "code",
   "execution_count": 5,
   "metadata": {},
   "outputs": [],
   "source": [
    "# Read in death and positive data from external files\n",
    "deaths_data = []\n",
    "positives_data = []\n",
    "tests = []\n",
    "\n",
    "for region in regions:\n",
    "    deaths_data.append(np.loadtxt('../../data/death_data/{}_deaths.csv'.format(region), dtype=int, delimiter=','))\n",
    "    positives_data.append(np.loadtxt('../../data/serology_data/{}_positives_nhs.csv'.format(region), dtype=int, delimiter=','))\n",
    "    tests.append(np.loadtxt('../../data/serology_data/{}_tests_nhs.csv'.format(region), dtype=int, delimiter=','))"
   ]
  },
  {
   "cell_type": "code",
   "execution_count": 6,
   "metadata": {},
   "outputs": [],
   "source": [
    "# Select the time points for which the death and serology data is known\n",
    "deaths_times = np.arange(27, total_days+1, 1).tolist()\n",
    "serology_times = np.arange(80, total_days+1, 7).tolist()"
   ]
  },
  {
   "cell_type": "code",
   "execution_count": 7,
   "metadata": {},
   "outputs": [],
   "source": [
    "# Set time-to-death using a Gamma distribution using the mean and standard deviation from the PHE paper\n",
    "td_mean = 15.0\n",
    "td_var = 12.1**2\n",
    "theta = td_var / td_mean\n",
    "k = td_mean / theta\n",
    "time_to_death = gamma(k, scale=theta).pdf(np.arange(1, 31)).tolist()\n",
    "\n",
    "# Set information\n",
    "fatality_ratio = (1/100 * np.array([0.0016, 0.0016, 0.0043, 0.019, 0.08975, 0.815, 3.1, 6.05])).tolist()\n",
    "time_to_death.extend([0.0] * (len(times)-30))\n",
    "niu = float(gamma.rvs(1, scale=1/0.2, size=1))\n",
    "\n",
    "sens = 0.7\n",
    "spec = 0.95"
   ]
  },
  {
   "cell_type": "markdown",
   "metadata": {},
   "source": [
    "## Optimisation Procedure"
   ]
  },
  {
   "cell_type": "code",
   "execution_count": 8,
   "metadata": {},
   "outputs": [
    {
     "name": "stdout",
     "output_type": "stream",
     "text": [
      "Maximising LogPDF\n",
      "Using Covariance Matrix Adaptation Evolution Strategy (CMA-ES)\n",
      "Running in sequential mode.\n",
      "Population size: 11\n",
      "Iter. Eval.  Best      Current   Time m:s\n",
      "0     11     -9830.034 -9830.034   0:01.2\n",
      "1     22     -9036.554 -9036.554   0:02.4\n",
      "2     33     -9002.996 -9002.996   0:03.8\n",
      "3     44     -8698.003 -8698.003   0:05.0\n",
      "20    231    -7992.63  -7992.63    0:21.0\n",
      "40    451    -5797.107 -6126.431   0:37.4\n",
      "60    671    -3428.587 -3450.132   0:53.7\n",
      "80    891    -3009.021 -3386.568   1:08.4\n",
      "100   1111   -3009.021 -3308.766   1:23.9\n",
      "120   1331   -3009.021 -3032.68    1:38.6\n",
      "140   1551   -3006.838 -3014.068   1:54.5\n",
      "160   1771   -2986.399 -2986.399   2:10.4\n",
      "180   1991   -2968.767 -2980.136   2:28.4\n",
      "200   2211   -2968.767 -2972.932   2:49.0\n",
      "220   2431   -2968.767 -2980.323   3:07.9\n",
      "240   2651   -2968.767 -2975.43    3:27.2\n",
      "260   2871   -2968.767 -2973.14    3:49.5\n",
      "274   3014   -2968.767 -2972.473   4:04.8\n",
      "Halting: No significant change for 100 iterations.\n",
      "[9.98418831e-01 4.33701116e-01 1.56428872e-01 2.84709804e-01\n",
      " 3.61423183e-01 5.94061795e-01 7.64106568e-01 1.23245813e-01\n",
      " 8.32052465e-02 7.89610967e-06 2.40515996e+00 3.39411656e+00] -2968.767189019936\n",
      "Optimisation phase is finished.\n"
     ]
    }
   ],
   "source": [
    "# Initialise optimisation for the model\n",
    "roche_optimisation = em.inference.RocheSEIRInfer(model)\n",
    "\n",
    "# Add model, death, tests and NPIs data to the inference structure\n",
    "roche_optimisation.read_model_data(susceptibles, infectives)\n",
    "roche_optimisation.read_deaths_data(deaths_data, deaths_times, time_to_death, fatality_ratio)\n",
    "roche_optimisation.read_serology_data(tests, positives_data, serology_times, sens, spec)\n",
    "roche_optimisation.read_npis_data(max_levels_npi, targeted_npi, general_npi, reg_levels_npi, time_changes_npi, time_changes_flag)\n",
    "\n",
    "# Run optimisation structure\n",
    "found, log_post_value = roche_optimisation.optimisation_problem_setup(times, wd=1, wp=0)"
   ]
  },
  {
   "cell_type": "markdown",
   "metadata": {},
   "source": [
    "### Run the model with optimised parameter choices to produce predicted timelines for the:\n",
    " - number of new infections\n",
    " - number of deaths\n",
    " - R number"
   ]
  },
  {
   "cell_type": "code",
   "execution_count": 9,
   "metadata": {},
   "outputs": [
    {
     "name": "stdout",
     "output_type": "stream",
     "text": [
      "[1, 53565, 237359, 641486, 635602, 1304264, 1499291, 668999, 584130, 0.0, 0.0, 0.0, 0.0, 0.0, 0.0, 0.0, 0.0, 0.07115260422847436, 0.07115260422847436, 0.07115260422847436, 0.07115260422847436, 0.07115260422847436, 0.07115260422847436, 0.07115260422847436, 0.07115260422847436, 0.0, 0.0, 0.0, 0.0, 0.0, 0.0, 0.0, 0.0, 0.0, 0.0, 0.0, 0.0, 0.0, 0.0, 0.0, 0.0, 44.92884739577153, 44.92884739577153, 44.92884739577153, 44.92884739577153, 44.92884739577153, 44.92884739577153, 44.92884739577153, 44.92884739577153, 0.0, 0.0, 0.0, 0.0, 0.0, 0.0, 0.0, 0.0, 0.0, 0.0, 0.0, 0.0, 0.0, 0.0, 0.0, 0.0, 0.0, 0.0, 0.0, 0.0, 0.0, 0.0, 0.0, 0.0, 0.0, 0.0, 0.0, 0.0, 0.0, 0.0, 0.0, 0.0, 0.0, 0.0, 0.0, 0.0, 0.0, 0.0, 0.0, 0.0, 0.0, 0.0, 0.0, 0.0, 0.0, 0.0, 0.0, 0.0, 1.25, 3.7, 1, 9.0, 9.0, 9.0, 9.0, 9.0, 9.0, 9.0, 9.0, 10.0, 10.0, 10.0, 10.0, 10.0, 10.0, 10.0, 10.0, 0.716, 0.716, 0.716, 0.716, 0.716, 0.716, 0.716, 0.716, 0.106, 0.4337011164991208, 0.1564288722753149, 0.2847098043801899, 0.3614231826732937, 0.5940617954050298, 0.7641065675441949, 0.123245812916214, 0.08320524646151024, 7.896109667937512e-06, 2.4051599566713597, 3.3941165552327472, 1, 6, 'RK45']\n"
     ]
    }
   ],
   "source": [
    "n_parameters = model.n_parameters()\n",
    "\n",
    "predicted_new_infec = []\n",
    "predicted_deaths = []\n",
    "#predicted_reprod_num = []\n",
    "\n",
    "# Run model and number of new infections for all regions\n",
    "for r, _ in enumerate(model.regions):\n",
    "    parameters.simulation_parameters.region_index = r + 1\n",
    "\n",
    "    parameters.ICs.infectives_pre_IC = ((1-found[0]) * np.array(infectives)).tolist()\n",
    "    parameters.ICs.infectives_pre_ss_IC = (found[0] * np.array(infectives)).tolist()\n",
    "\n",
    "    # parameters.proportion_parameters.Pa = found[1:(1+model._num_ages)]\n",
    "    # parameters.proportion_parameters.Pss = found[1+model._num_ages]\n",
    "    parameters.proportion_parameters.Pd = found[-(3+model._num_ages):(-3)]\n",
    "\n",
    "    parameters.transmission_parameters.beta_min = found[-3]\n",
    "    parameters.transmission_parameters.beta_max = found[-2]\n",
    "    parameters.transmission_parameters.bss = found[-1]\n",
    "    \n",
    "    #r_fix = np.empty(len(times))\n",
    "    model_reg_deaths_data = np.empty(len(times))\n",
    "\n",
    "    #m_fix = em.MultiTimesInfectivity(\n",
    "    #    matrices_contact, time_changes_contact, regions, matrices_region, time_changes_region, parameters[0], dI, susceptibles)\n",
    "\n",
    "    # Run model and number of new infections for all age groups\n",
    "    model_output = model.simulate(parameters)\n",
    "\n",
    "    age_model_reg_new_infections = model.new_infections(model_output)\n",
    "    model_reg_new_infections = age_model_reg_new_infections.sum(axis=1)\n",
    "\n",
    "    for t, time in enumerate(times):\n",
    "    #    r_fix[t] = m_fix.compute_reproduction_number(r+1, time, model_output[t, :len(age_groups)], temp_variation=parameters[8][r][t])\n",
    "        model_reg_deaths_data[t] = np.sum(model.mean_deaths(fatality_ratio, time_to_death, t, age_model_reg_new_infections))\n",
    "    \n",
    "    predicted_new_infec.append(np.array(model_reg_new_infections))\n",
    "    predicted_deaths.append(model_reg_deaths_data)\n",
    "    #predicted_reprod_num.append(r_fix)\n",
    "\n",
    "predicted_new_infec = np.array(predicted_new_infec)\n",
    "predicted_deaths = np.array(predicted_deaths)\n",
    "#predicted_reprod_num = np.array(predicted_reprod_num)"
   ]
  },
  {
   "cell_type": "code",
   "execution_count": 10,
   "metadata": {},
   "outputs": [
    {
     "name": "stdout",
     "output_type": "stream",
     "text": [
      "0.056481233743771134\n",
      "0.13608652622269554\n",
      "0.23527345102431718\n",
      "0.35457634265361543\n",
      "0.4964034696575223\n",
      "0.6644917965096017\n",
      "0.8638212363732447\n",
      "1.1007046782800636\n",
      "1.382961809067697\n",
      "1.7201647984690094\n",
      "2.1239519792356614\n",
      "2.60840953288865\n",
      "3.1905402421982654\n",
      "3.8908471181921884\n",
      "4.734012846231007\n",
      "5.7496744310683425\n",
      "6.973439442599936\n",
      "8.448090823462838\n",
      "10.224950747467812\n",
      "12.365210999928486\n",
      "14.941925169431451\n",
      "18.042626711217782\n",
      "21.77108741940917\n",
      "26.250195989821194\n",
      "31.625371947861424\n",
      "38.06743506465674\n",
      "45.7762037296342\n",
      "53.98412116190884\n",
      "63.38497848439028\n",
      "74.17632724938582\n",
      "84.26840960663512\n",
      "93.17795332278851\n",
      "100.67293965716472\n",
      "107.7048183906178\n",
      "113.48985569581131\n",
      "118.07606209473163\n",
      "121.56063995856998\n",
      "123.76335095079786\n",
      "125.22058390240635\n",
      "126.08782634014226\n",
      "126.46409588216841\n",
      "126.42202263087745\n",
      "126.01939794192785\n",
      "125.30257944808277\n",
      "124.3097157519785\n",
      "123.07194563757571\n",
      "121.61432450395641\n",
      "119.9567912660669\n",
      "118.11450837584968\n",
      "116.09844711580347\n",
      "113.9150511803739\n",
      "111.56598496380727\n",
      "109.04933654704475\n",
      "106.35880771900278\n",
      "103.48236081715329\n",
      "100.40350886765648\n",
      "97.100916437518\n",
      "93.83911350949721\n",
      "90.34599089080142\n",
      "86.62974537243248\n",
      "83.33956448602846\n",
      "80.40203579760384\n",
      "77.7690215537972\n",
      "75.09616945589688\n",
      "72.69523205105978\n",
      "70.48173952459399\n",
      "68.41386002699875\n",
      "66.54887556097397\n",
      "64.70914092636745\n",
      "62.90424583900553\n",
      "61.13805490280072\n",
      "59.41188378219246\n",
      "57.725902807367724\n",
      "56.08003479595339\n",
      "54.47373198799309\n",
      "52.906481878501495\n",
      "51.37781827595625\n",
      "49.88714249957828\n",
      "48.433853681589355\n",
      "47.01730466004832\n",
      "45.636922472292994\n",
      "44.29221251123417\n",
      "42.982426804702904\n",
      "41.70684023005028\n",
      "40.465137436192116\n",
      "39.256485939819925\n",
      "38.12493479542089\n",
      "37.03877106682694\n",
      "36.03803396247171\n",
      "35.08525753206068\n",
      "34.17205356018694\n",
      "33.293711864740196\n",
      "32.446769624409555\n",
      "31.62853101288004\n",
      "30.83687053155513\n",
      "30.069864943421635\n",
      "29.325831042524626\n",
      "28.603401748486558\n",
      "27.901391381521588\n",
      "27.21870237575027\n",
      "26.554361022720336\n",
      "25.90749902425228\n",
      "25.277369167992727\n",
      "24.66329910750637\n",
      "24.05925682275319\n",
      "23.468320598941325\n",
      "22.890665425569352\n",
      "22.357327236470752\n",
      "21.846555252797177\n",
      "21.35425269506661\n",
      "20.878150446459923\n",
      "20.416705816025555\n",
      "19.96856528364281\n",
      "19.532706652727324\n",
      "19.064041563262126\n",
      "18.592614094653793\n",
      "18.11036605469885\n",
      "17.633961307117072\n",
      "17.15086880542224\n",
      "16.677050254161493\n",
      "16.212522679063706\n",
      "15.757409663659578\n",
      "15.31189687471682\n",
      "14.876162246515667\n",
      "14.450349359289424\n",
      "14.034522608815774\n",
      "13.628676783074424\n",
      "13.2328325988712\n",
      "12.846955496400005\n",
      "12.470911202281146\n",
      "12.104614448840781\n",
      "11.747973636374565\n"
     ]
    }
   ],
   "source": [
    "for t, time in enumerate(times):\n",
    "    #    r_fix[t] = m_fix.compute_reproduction_number(r+1, time, model_output[t, :len(age_groups)], temp_variation=parameters[8][r][t])\n",
    "        print(np.sum(model.mean_deaths(fatality_ratio, time_to_death, t, age_model_reg_new_infections)))\n",
    "   "
   ]
  },
  {
   "cell_type": "code",
   "execution_count": 11,
   "metadata": {},
   "outputs": [],
   "source": [
    "# Populate the model\n",
    "total_days =  132\n",
    "regions = ['London']\n",
    "age_groups = ['0-1', '1-5', '5-15', '15-25', '25-45', '45-65', '65-75', '75+']\n",
    "\n",
    "weeks = list(range(1,int(np.ceil(total_days/7))+1))\n",
    "matrices_region = []\n",
    "\n",
    "### Variable\n",
    "## Initial state of the system\n",
    "# for w in weeks:\n",
    "#     weeks_matrices_region = []\n",
    "#     for r in regions:\n",
    "#         path = os.path.join('../../data/final_contact_matrices/{}_W{}.csv'.format(r, w))\n",
    "#         region_data_matrix = pd.read_csv(path, header=None, dtype=np.float64)\n",
    "#         regional = em.RegionMatrix(r, age_groups, region_data_matrix)\n",
    "#         weeks_matrices_region.append(regional)\n",
    "\n",
    "#     matrices_region.append(weeks_matrices_region)\n",
    "\n",
    "# contacts = em.ContactMatrix(age_groups, np.ones((len(age_groups), len(age_groups))))\n",
    "# matrices_contact = [contacts]\n",
    "\n",
    "## Matrices contact\n",
    "# time_changes_contact = [1]\n",
    "# time_changes_region = np.arange(1, total_days+1, 7).tolist()\n",
    "\n",
    "### Fixed\n",
    "# Initial state of the system\n",
    "weeks_matrices_region = []\n",
    "for r in regions:\n",
    "    path = os.path.join('../../data/final_contact_matrices/BASE.csv')\n",
    "    region_data_matrix = pd.read_csv(path, header=None, dtype=np.float64)\n",
    "    regional = em.RegionMatrix(r, age_groups, region_data_matrix)\n",
    "    weeks_matrices_region.append(regional)\n",
    "\n",
    "matrices_region.append(weeks_matrices_region)\n",
    "\n",
    "contacts = em.ContactMatrix(age_groups, np.ones((len(age_groups), len(age_groups))))\n",
    "matrices_contact = [contacts]\n",
    "\n",
    "# Matrices contact\n",
    "time_changes_contact = [1]\n",
    "time_changes_region = [1]\n",
    "\n",
    "# NPIs data\n",
    "max_levels_npi = [3, 3, 2, 4, 2, 3, 2, 4, 2]\n",
    "targeted_npi = [True, True, True, True, True, True, True, False, True]\n",
    "path = os.path.join('../../data/npi_data/')\n",
    "general_npi = np.loadtxt(os.path.join(path, 'uk_flags.csv'), dtype=bool, delimiter=',').tolist()\n",
    "time_changes_flag = np.loadtxt(os.path.join(path, 'times_flags.csv'), dtype=int, delimiter=',').tolist()\n",
    "\n",
    "reg_levels_npi = [np.loadtxt(os.path.join(path, 'uk_npis.csv'), dtype=int, delimiter=',').tolist()]\n",
    "time_changes_npi = np.loadtxt(os.path.join(path, 'times_npis.csv'), dtype=int, delimiter=',').tolist()"
   ]
  },
  {
   "cell_type": "markdown",
   "metadata": {},
   "source": [
    "## Plot data vs predicted\n",
    "\n",
    "### Setup ``plotly`` and default settings for plotting"
   ]
  },
  {
   "cell_type": "code",
   "execution_count": 12,
   "metadata": {},
   "outputs": [],
   "source": [
    "from plotly.subplots import make_subplots\n",
    "\n",
    "colours = ['blue', 'red', 'green', 'purple', 'orange', 'black', 'gray', 'pink']\n",
    "\n",
    "# Group outputs together\n",
    "outputs = [deaths_data, positives_data]\n",
    "\n",
    "# Number of regions\n",
    "n_reg = len(regions)"
   ]
  },
  {
   "cell_type": "markdown",
   "metadata": {},
   "source": [
    "### Select predicted quantities to plot"
   ]
  },
  {
   "cell_type": "code",
   "execution_count": 13,
   "metadata": {},
   "outputs": [],
   "source": [
    "# Set up traces to plot\n",
    "new_infec_pred = []\n",
    "deaths_pred = []\n",
    "#reprod_num_pred = []\n",
    "\n",
    "for r, _ in enumerate(model.regions):\n",
    "    # Compute the prediction \n",
    "    new_infec_pred.append(predicted_new_infec[r,:])\n",
    "    deaths_pred.append(predicted_deaths[r,:])\n",
    "    #reprod_num_pred.append(predicted_reprod_num[r,:])"
   ]
  },
  {
   "cell_type": "markdown",
   "metadata": {},
   "source": [
    "### Plot observed versus predicted using model with optimised parameters"
   ]
  },
  {
   "cell_type": "code",
   "execution_count": 14,
   "metadata": {},
   "outputs": [
    {
     "name": "stderr",
     "output_type": "stream",
     "text": [
      "<ipython-input-14-e48c6bf424d7>:26: RuntimeWarning:\n",
      "\n",
      "invalid value encountered in true_divide\n",
      "\n"
     ]
    },
    {
     "data": {
      "application/vnd.plotly.v1+json": {
       "config": {
        "plotlyServerURL": "https://plot.ly"
       },
       "data": [
        {
         "line": {
          "color": "blue"
         },
         "mode": "lines",
         "name": "London",
         "type": "scatter",
         "x": [
          1,
          2,
          3,
          4,
          5,
          6,
          7,
          8,
          9,
          10,
          11,
          12,
          13,
          14,
          15,
          16,
          17,
          18,
          19,
          20,
          21,
          22,
          23,
          24,
          25,
          26,
          27,
          28,
          29,
          30,
          31,
          32,
          33,
          34,
          35,
          36,
          37,
          38,
          39,
          40,
          41,
          42,
          43,
          44,
          45,
          46,
          47,
          48,
          49,
          50,
          51,
          52,
          53,
          54,
          55,
          56,
          57,
          58,
          59,
          60,
          61,
          62,
          63,
          64,
          65,
          66,
          67,
          68,
          69,
          70,
          71,
          72,
          73,
          74,
          75,
          76,
          77,
          78,
          79,
          80,
          81,
          82,
          83,
          84,
          85,
          86,
          87,
          88,
          89,
          90,
          91,
          92,
          93,
          94,
          95,
          96,
          97,
          98,
          99,
          100,
          101,
          102,
          103,
          104,
          105,
          106,
          107,
          108,
          109,
          110,
          111,
          112,
          113,
          114,
          115,
          116,
          117,
          118,
          119,
          120,
          121,
          122,
          123,
          124,
          125,
          126,
          127,
          128,
          129,
          130,
          131,
          132
         ],
         "xaxis": "x",
         "y": [
          269.8147970936037,
          298.8022075663378,
          345.5204774685602,
          409.15410276022214,
          489.6055713977198,
          588.4234199399424,
          708.4880981329208,
          853.7961041500487,
          1029.3565355232363,
          1241.3117306612498,
          1497.0867193887593,
          1805.5923090182007,
          2177.5388047306715,
          2625.842958787363,
          3165.9171401025865,
          3815.980077640622,
          4598.081933202112,
          5538.656153045843,
          6668.959941199761,
          8024.49256187093,
          9648.37373418734,
          11593.452082009579,
          13916.421254123006,
          16684.550274509325,
          19976.633323563176,
          23878.38761750405,
          28486.244776011976,
          29047.330060474964,
          34143.62983102476,
          39453.671455083764,
          34416.18016037915,
          30143.778209740445,
          26322.777555930552,
          27800.23474226719,
          24336.422941667446,
          21972.666198749685,
          20120.657944064817,
          17230.19848247125,
          16993.715975929466,
          16630.7774711812,
          16219.216863223397,
          15790.115743276056,
          15362.334314211834,
          14939.087675146657,
          14524.629948295198,
          14119.204342062843,
          13722.377523625099,
          13334.947248127972,
          12956.635023388084,
          12588.239876418727,
          12228.328240808823,
          11875.316786602818,
          11532.71627573628,
          11200.049955548038,
          10872.597721323827,
          10553.790930223038,
          10245.283997246263,
          9942.87771458498,
          9647.84139390173,
          9361.910886739557,
          9082.763694937461,
          8810.468989433415,
          8546.448797610039,
          8289.573550370445,
          8038.3368222606005,
          7794.730580734697,
          7559.058609162175,
          7329.002033725162,
          7104.297066115896,
          6887.063342360207,
          6676.227548213657,
          6470.254576841305,
          6270.711359415643,
          6077.3202542658455,
          5888.827352904643,
          5705.93621399262,
          5528.770375869158,
          5356.513300244288,
          5189.1375541783345,
          5026.975476521662,
          4869.645625208608,
          4716.740638001569,
          4568.517967715547,
          4424.813150351254,
          4285.7245874230575,
          4150.053016872016,
          4216.645165622866,
          4087.9991675315164,
          4172.463354072717,
          4050.084000680771,
          3938.8611075909903,
          3834.8142589067184,
          3735.1716772792915,
          3638.6640540101625,
          3544.867852899454,
          3453.456166143292,
          3364.2826160144887,
          3277.159711550476,
          3192.090208305455,
          3109.335030300257,
          3028.5260674241244,
          2949.365113796684,
          2872.453445227263,
          2797.5678353504436,
          2700.7148739903487,
          2629.027473826355,
          2558.810909797634,
          2626.1885511595497,
          2558.93480076157,
          2496.937308003569,
          2437.822084663787,
          2380.7905291880666,
          2324.6253187096645,
          2269.8233549814913,
          2023.6491310154452,
          1972.1468817922798,
          1917.469857162332,
          1862.342837070456,
          1807.7782231147294,
          1754.4390115832525,
          1702.5309523929125,
          1652.045750154697,
          1602.981779244537,
          1555.3595925829127,
          1509.2285691758254,
          1464.3798151644078,
          1420.7141846619438,
          1378.495156267778,
          1337.5448621527437,
          1297.616165442636,
          1258.9586137827446,
          1221.4702689564365
         ],
         "yaxis": "y"
        },
        {
         "line": {
          "color": "blue"
         },
         "mode": "markers",
         "name": "London",
         "showlegend": false,
         "type": "scatter",
         "x": [
          80,
          87,
          94,
          101,
          108,
          115,
          122,
          129
         ],
         "xaxis": "x",
         "y": [
          14654.651685393257,
          25322.30757373794,
          8013.77416693054,
          4744.591772151899,
          0,
          0,
          9439.017820762754,
          6911.606612127486,
          10868.866666666667,
          4413.902777777777,
          1583.7416383013265,
          2768.9239880873456,
          0,
          0,
          5036.705128911385,
          8907.806201813737,
          0,
          18380.590347820773,
          23147.99732110131,
          21777.116751893347,
          9031.873493975903,
          26794.792792954744,
          54919.345283444105,
          43385.414663852614,
          42221.370117142986,
          0,
          43174.70535720825,
          56572.00312238099,
          55364.35003026083,
          0,
          140605.47543868562,
          129367.55901557437,
          121435.08765904055,
          39436.63554200182,
          26566.593445343973,
          30589.328915894028,
          30597.77551020408,
          8863.059309309308,
          5654.007438919873,
          9740.837014763907,
          33452.73684210526,
          5386.457627118644,
          3907.733719471473,
          6372.901041529254,
          0,
          3644.8068181818185,
          3715.578595104249,
          9541.403999049793,
          8854.18026149799,
          38983.62153193376,
          49381.66467392017,
          37679.74202843691,
          31053.356350966107
         ],
         "yaxis": "y"
        },
        {
         "line": {
          "color": "blue"
         },
         "mode": "lines",
         "name": "London",
         "showlegend": false,
         "type": "scatter",
         "x": [
          1,
          2,
          3,
          4,
          5,
          6,
          7,
          8,
          9,
          10,
          11,
          12,
          13,
          14,
          15,
          16,
          17,
          18,
          19,
          20,
          21,
          22,
          23,
          24,
          25,
          26,
          27,
          28,
          29,
          30,
          31,
          32,
          33,
          34,
          35,
          36,
          37,
          38,
          39,
          40,
          41,
          42,
          43,
          44,
          45,
          46,
          47,
          48,
          49,
          50,
          51,
          52,
          53,
          54,
          55,
          56,
          57,
          58,
          59,
          60,
          61,
          62,
          63,
          64,
          65,
          66,
          67,
          68,
          69,
          70,
          71,
          72,
          73,
          74,
          75,
          76,
          77,
          78,
          79,
          80,
          81,
          82,
          83,
          84,
          85,
          86,
          87,
          88,
          89,
          90,
          91,
          92,
          93,
          94,
          95,
          96,
          97,
          98,
          99,
          100,
          101,
          102,
          103,
          104,
          105,
          106,
          107,
          108,
          109,
          110,
          111,
          112,
          113,
          114,
          115,
          116,
          117,
          118,
          119,
          120,
          121,
          122,
          123,
          124,
          125,
          126,
          127,
          128,
          129,
          130,
          131,
          132
         ],
         "xaxis": "x2",
         "y": [
          0.056481233743771134,
          0.13608652622269554,
          0.23527345102431718,
          0.35457634265361543,
          0.4964034696575223,
          0.6644917965096017,
          0.8638212363732447,
          1.1007046782800636,
          1.382961809067697,
          1.7201647984690094,
          2.1239519792356614,
          2.60840953288865,
          3.1905402421982654,
          3.8908471181921884,
          4.734012846231007,
          5.7496744310683425,
          6.973439442599936,
          8.448090823462838,
          10.224950747467812,
          12.365210999928486,
          14.941925169431451,
          18.042626711217782,
          21.77108741940917,
          26.250195989821194,
          31.625371947861424,
          38.06743506465674,
          45.7762037296342,
          53.98412116190884,
          63.38497848439028,
          74.17632724938582,
          84.26840960663512,
          93.17795332278851,
          100.67293965716472,
          107.7048183906178,
          113.48985569581131,
          118.07606209473163,
          121.56063995856998,
          123.76335095079786,
          125.22058390240635,
          126.08782634014226,
          126.46409588216841,
          126.42202263087745,
          126.01939794192785,
          125.30257944808277,
          124.3097157519785,
          123.07194563757571,
          121.61432450395641,
          119.9567912660669,
          118.11450837584968,
          116.09844711580347,
          113.9150511803739,
          111.56598496380727,
          109.04933654704475,
          106.35880771900278,
          103.48236081715329,
          100.40350886765648,
          97.100916437518,
          93.83911350949721,
          90.34599089080142,
          86.62974537243248,
          83.33956448602846,
          80.40203579760384,
          77.7690215537972,
          75.09616945589688,
          72.69523205105978,
          70.48173952459399,
          68.41386002699875,
          66.54887556097397,
          64.70914092636745,
          62.90424583900553,
          61.13805490280072,
          59.41188378219246,
          57.725902807367724,
          56.08003479595339,
          54.47373198799309,
          52.906481878501495,
          51.37781827595625,
          49.88714249957828,
          48.433853681589355,
          47.01730466004832,
          45.636922472292994,
          44.29221251123417,
          42.982426804702904,
          41.70684023005028,
          40.465137436192116,
          39.256485939819925,
          38.12493479542089,
          37.03877106682694,
          36.03803396247171,
          35.08525753206068,
          34.17205356018694,
          33.293711864740196,
          32.446769624409555,
          31.62853101288004,
          30.83687053155513,
          30.069864943421635,
          29.325831042524626,
          28.603401748486558,
          27.901391381521588,
          27.21870237575027,
          26.554361022720336,
          25.90749902425228,
          25.277369167992727,
          24.66329910750637,
          24.05925682275319,
          23.468320598941325,
          22.890665425569352,
          22.357327236470752,
          21.846555252797177,
          21.35425269506661,
          20.878150446459923,
          20.416705816025555,
          19.96856528364281,
          19.532706652727324,
          19.064041563262126,
          18.592614094653793,
          18.11036605469885,
          17.633961307117072,
          17.15086880542224,
          16.677050254161493,
          16.212522679063706,
          15.757409663659578,
          15.31189687471682,
          14.876162246515667,
          14.450349359289424,
          14.034522608815774,
          13.628676783074424,
          13.2328325988712,
          12.846955496400005,
          12.470911202281146,
          12.104614448840781,
          11.747973636374565
         ],
         "yaxis": "y2"
        },
        {
         "line": {
          "color": "blue"
         },
         "mode": "markers",
         "name": "London",
         "showlegend": false,
         "type": "scatter",
         "x": [
          27,
          28,
          29,
          30,
          31,
          32,
          33,
          34,
          35,
          36,
          37,
          38,
          39,
          40,
          41,
          42,
          43,
          44,
          45,
          46,
          47,
          48,
          49,
          50,
          51,
          52,
          53,
          54,
          55,
          56,
          57,
          58,
          59,
          60,
          61,
          62,
          63,
          64,
          65,
          66,
          67,
          68,
          69,
          70,
          71,
          72,
          73,
          74,
          75,
          76,
          77,
          78,
          79,
          80,
          81,
          82,
          83,
          84,
          85,
          86,
          87,
          88,
          89,
          90,
          91,
          92,
          93,
          94,
          95,
          96,
          97,
          98,
          99,
          100,
          101,
          102,
          103,
          104,
          105,
          106,
          107,
          108,
          109,
          110,
          111,
          112,
          113,
          114,
          115,
          116,
          117,
          118,
          119,
          120,
          121,
          122,
          123,
          124,
          125,
          126,
          127,
          128,
          129,
          130,
          131,
          132
         ],
         "xaxis": "x2",
         "y": [
          6,
          6,
          11,
          8,
          16,
          23,
          26,
          25,
          46,
          46,
          53,
          56,
          87,
          119,
          122,
          127,
          119,
          142,
          149,
          180,
          189,
          194,
          192,
          225,
          196,
          197,
          221,
          231,
          199,
          174,
          164,
          170,
          170,
          143,
          147,
          138,
          110,
          118,
          116,
          96,
          105,
          110,
          80,
          75,
          58,
          62,
          55,
          58,
          52,
          45,
          42,
          52,
          43,
          37,
          34,
          43,
          28,
          30,
          25,
          27,
          23,
          15,
          12,
          17,
          18,
          10,
          14,
          13,
          20,
          16,
          12,
          8,
          6,
          6,
          9,
          11,
          8,
          9,
          5,
          7,
          5,
          5,
          7,
          6,
          6,
          2,
          3,
          5,
          8,
          2,
          5,
          5,
          5,
          1,
          2,
          3,
          1,
          1,
          0,
          2,
          2,
          2,
          3,
          0,
          4,
          1,
          0,
          0,
          1,
          1,
          1,
          1,
          2,
          1,
          1,
          3,
          3,
          1,
          3,
          2,
          0,
          3,
          1,
          1,
          0,
          1,
          0,
          2,
          0,
          0,
          0,
          0,
          0,
          2,
          0,
          0,
          0,
          2,
          0,
          0,
          0,
          2,
          2,
          1,
          0,
          0,
          0,
          0,
          0,
          1,
          0,
          1,
          1,
          0,
          2,
          0,
          0,
          0,
          2,
          1,
          0,
          1,
          0,
          1,
          0,
          0,
          1,
          0,
          0,
          0,
          0,
          0,
          1,
          0,
          1,
          1,
          0,
          0,
          2,
          0,
          0,
          0,
          2,
          3,
          0,
          0,
          0,
          1,
          2,
          4,
          1,
          3,
          4,
          4,
          6,
          7,
          2,
          1,
          1,
          2,
          5,
          9,
          6,
          5,
          3,
          2,
          2,
          9,
          5,
          6,
          6,
          7,
          5,
          4,
          6,
          5,
          4,
          12,
          7,
          4,
          6,
          11,
          7,
          15,
          11,
          6,
          18,
          11,
          12,
          14,
          21,
          12,
          14,
          8,
          17,
          18,
          13,
          16,
          15,
          16,
          23,
          19,
          28,
          15,
          12,
          20,
          13,
          20,
          19,
          30,
          30,
          20,
          27,
          28,
          19,
          29,
          18,
          30,
          39,
          29,
          21,
          33,
          49,
          26,
          22,
          28,
          35,
          33,
          27,
          27,
          35,
          35,
          30,
          28,
          27,
          41,
          29,
          37,
          45,
          30,
          61,
          44,
          48,
          52,
          63,
          75,
          70,
          65,
          90,
          93,
          104,
          102,
          110,
          124,
          129,
          136,
          146,
          136,
          161,
          177,
          161,
          186,
          175,
          179,
          193,
          185,
          193,
          200,
          196,
          183,
          200,
          207,
          202,
          208,
          185,
          184,
          160,
          158,
          152,
          155,
          126,
          128,
          125,
          122,
          86,
          101,
          93,
          96,
          107,
          67,
          91,
          76,
          66,
          65,
          57,
          64,
          44,
          41,
          41,
          37,
          44,
          43,
          40,
          37,
          33,
          30,
          38,
          21,
          20,
          21,
          19,
          15,
          12,
          10,
          20,
          14,
          7,
          12,
          15,
          13,
          9,
          7,
          9,
          10,
          7,
          1,
          9,
          4,
          7,
          5,
          7,
          2,
          3,
          2,
          3,
          6,
          2,
          5,
          1,
          2,
          7,
          2,
          3,
          2,
          2,
          3,
          1,
          4,
          1,
          1,
          1,
          2,
          2,
          1,
          3,
          3,
          0,
          2,
          0,
          2,
          2,
          1,
          2,
          3,
          2,
          1,
          0,
          1,
          1,
          2,
          0,
          3,
          5,
          0,
          2,
          1,
          1,
          1,
          1,
          3,
          0,
          3,
          0,
          0,
          2,
          1,
          0,
          0,
          0,
          2,
          1,
          0,
          0,
          0,
          2,
          0,
          0,
          2,
          1,
          1,
          3,
          1,
          0,
          1,
          2,
          0,
          0,
          1,
          1,
          2,
          1,
          2,
          0,
          2,
          2,
          0,
          0,
          5,
          1,
          0,
          1,
          2,
          2,
          4,
          2,
          1,
          2,
          0,
          0,
          3,
          4
         ],
         "yaxis": "y2"
        }
       ],
       "layout": {
        "annotations": [
         {
          "font": {
           "size": 16
          },
          "showarrow": false,
          "text": "Infections",
          "x": 0.5,
          "xanchor": "center",
          "xref": "paper",
          "y": 1,
          "yanchor": "bottom",
          "yref": "paper"
         },
         {
          "font": {
           "size": 16
          },
          "showarrow": false,
          "text": "Deaths",
          "x": 0.5,
          "xanchor": "center",
          "xref": "paper",
          "y": 0.6111111111111112,
          "yanchor": "bottom",
          "yref": "paper"
         },
         {
          "font": {
           "size": 16
          },
          "showarrow": false,
          "text": "Reproduction Number",
          "x": 0.5,
          "xanchor": "center",
          "xref": "paper",
          "y": 0.22222222222222224,
          "yanchor": "bottom",
          "yref": "paper"
         }
        ],
        "height": 900,
        "legend": {
         "orientation": "h",
         "x": 1,
         "xanchor": "right",
         "y": 1.075,
         "yanchor": "bottom"
        },
        "plot_bgcolor": "white",
        "template": {
         "data": {
          "bar": [
           {
            "error_x": {
             "color": "#2a3f5f"
            },
            "error_y": {
             "color": "#2a3f5f"
            },
            "marker": {
             "line": {
              "color": "#E5ECF6",
              "width": 0.5
             },
             "pattern": {
              "fillmode": "overlay",
              "size": 10,
              "solidity": 0.2
             }
            },
            "type": "bar"
           }
          ],
          "barpolar": [
           {
            "marker": {
             "line": {
              "color": "#E5ECF6",
              "width": 0.5
             },
             "pattern": {
              "fillmode": "overlay",
              "size": 10,
              "solidity": 0.2
             }
            },
            "type": "barpolar"
           }
          ],
          "carpet": [
           {
            "aaxis": {
             "endlinecolor": "#2a3f5f",
             "gridcolor": "white",
             "linecolor": "white",
             "minorgridcolor": "white",
             "startlinecolor": "#2a3f5f"
            },
            "baxis": {
             "endlinecolor": "#2a3f5f",
             "gridcolor": "white",
             "linecolor": "white",
             "minorgridcolor": "white",
             "startlinecolor": "#2a3f5f"
            },
            "type": "carpet"
           }
          ],
          "choropleth": [
           {
            "colorbar": {
             "outlinewidth": 0,
             "ticks": ""
            },
            "type": "choropleth"
           }
          ],
          "contour": [
           {
            "colorbar": {
             "outlinewidth": 0,
             "ticks": ""
            },
            "colorscale": [
             [
              0,
              "#0d0887"
             ],
             [
              0.1111111111111111,
              "#46039f"
             ],
             [
              0.2222222222222222,
              "#7201a8"
             ],
             [
              0.3333333333333333,
              "#9c179e"
             ],
             [
              0.4444444444444444,
              "#bd3786"
             ],
             [
              0.5555555555555556,
              "#d8576b"
             ],
             [
              0.6666666666666666,
              "#ed7953"
             ],
             [
              0.7777777777777778,
              "#fb9f3a"
             ],
             [
              0.8888888888888888,
              "#fdca26"
             ],
             [
              1,
              "#f0f921"
             ]
            ],
            "type": "contour"
           }
          ],
          "contourcarpet": [
           {
            "colorbar": {
             "outlinewidth": 0,
             "ticks": ""
            },
            "type": "contourcarpet"
           }
          ],
          "heatmap": [
           {
            "colorbar": {
             "outlinewidth": 0,
             "ticks": ""
            },
            "colorscale": [
             [
              0,
              "#0d0887"
             ],
             [
              0.1111111111111111,
              "#46039f"
             ],
             [
              0.2222222222222222,
              "#7201a8"
             ],
             [
              0.3333333333333333,
              "#9c179e"
             ],
             [
              0.4444444444444444,
              "#bd3786"
             ],
             [
              0.5555555555555556,
              "#d8576b"
             ],
             [
              0.6666666666666666,
              "#ed7953"
             ],
             [
              0.7777777777777778,
              "#fb9f3a"
             ],
             [
              0.8888888888888888,
              "#fdca26"
             ],
             [
              1,
              "#f0f921"
             ]
            ],
            "type": "heatmap"
           }
          ],
          "heatmapgl": [
           {
            "colorbar": {
             "outlinewidth": 0,
             "ticks": ""
            },
            "colorscale": [
             [
              0,
              "#0d0887"
             ],
             [
              0.1111111111111111,
              "#46039f"
             ],
             [
              0.2222222222222222,
              "#7201a8"
             ],
             [
              0.3333333333333333,
              "#9c179e"
             ],
             [
              0.4444444444444444,
              "#bd3786"
             ],
             [
              0.5555555555555556,
              "#d8576b"
             ],
             [
              0.6666666666666666,
              "#ed7953"
             ],
             [
              0.7777777777777778,
              "#fb9f3a"
             ],
             [
              0.8888888888888888,
              "#fdca26"
             ],
             [
              1,
              "#f0f921"
             ]
            ],
            "type": "heatmapgl"
           }
          ],
          "histogram": [
           {
            "marker": {
             "pattern": {
              "fillmode": "overlay",
              "size": 10,
              "solidity": 0.2
             }
            },
            "type": "histogram"
           }
          ],
          "histogram2d": [
           {
            "colorbar": {
             "outlinewidth": 0,
             "ticks": ""
            },
            "colorscale": [
             [
              0,
              "#0d0887"
             ],
             [
              0.1111111111111111,
              "#46039f"
             ],
             [
              0.2222222222222222,
              "#7201a8"
             ],
             [
              0.3333333333333333,
              "#9c179e"
             ],
             [
              0.4444444444444444,
              "#bd3786"
             ],
             [
              0.5555555555555556,
              "#d8576b"
             ],
             [
              0.6666666666666666,
              "#ed7953"
             ],
             [
              0.7777777777777778,
              "#fb9f3a"
             ],
             [
              0.8888888888888888,
              "#fdca26"
             ],
             [
              1,
              "#f0f921"
             ]
            ],
            "type": "histogram2d"
           }
          ],
          "histogram2dcontour": [
           {
            "colorbar": {
             "outlinewidth": 0,
             "ticks": ""
            },
            "colorscale": [
             [
              0,
              "#0d0887"
             ],
             [
              0.1111111111111111,
              "#46039f"
             ],
             [
              0.2222222222222222,
              "#7201a8"
             ],
             [
              0.3333333333333333,
              "#9c179e"
             ],
             [
              0.4444444444444444,
              "#bd3786"
             ],
             [
              0.5555555555555556,
              "#d8576b"
             ],
             [
              0.6666666666666666,
              "#ed7953"
             ],
             [
              0.7777777777777778,
              "#fb9f3a"
             ],
             [
              0.8888888888888888,
              "#fdca26"
             ],
             [
              1,
              "#f0f921"
             ]
            ],
            "type": "histogram2dcontour"
           }
          ],
          "mesh3d": [
           {
            "colorbar": {
             "outlinewidth": 0,
             "ticks": ""
            },
            "type": "mesh3d"
           }
          ],
          "parcoords": [
           {
            "line": {
             "colorbar": {
              "outlinewidth": 0,
              "ticks": ""
             }
            },
            "type": "parcoords"
           }
          ],
          "pie": [
           {
            "automargin": true,
            "type": "pie"
           }
          ],
          "scatter": [
           {
            "marker": {
             "colorbar": {
              "outlinewidth": 0,
              "ticks": ""
             }
            },
            "type": "scatter"
           }
          ],
          "scatter3d": [
           {
            "line": {
             "colorbar": {
              "outlinewidth": 0,
              "ticks": ""
             }
            },
            "marker": {
             "colorbar": {
              "outlinewidth": 0,
              "ticks": ""
             }
            },
            "type": "scatter3d"
           }
          ],
          "scattercarpet": [
           {
            "marker": {
             "colorbar": {
              "outlinewidth": 0,
              "ticks": ""
             }
            },
            "type": "scattercarpet"
           }
          ],
          "scattergeo": [
           {
            "marker": {
             "colorbar": {
              "outlinewidth": 0,
              "ticks": ""
             }
            },
            "type": "scattergeo"
           }
          ],
          "scattergl": [
           {
            "marker": {
             "colorbar": {
              "outlinewidth": 0,
              "ticks": ""
             }
            },
            "type": "scattergl"
           }
          ],
          "scattermapbox": [
           {
            "marker": {
             "colorbar": {
              "outlinewidth": 0,
              "ticks": ""
             }
            },
            "type": "scattermapbox"
           }
          ],
          "scatterpolar": [
           {
            "marker": {
             "colorbar": {
              "outlinewidth": 0,
              "ticks": ""
             }
            },
            "type": "scatterpolar"
           }
          ],
          "scatterpolargl": [
           {
            "marker": {
             "colorbar": {
              "outlinewidth": 0,
              "ticks": ""
             }
            },
            "type": "scatterpolargl"
           }
          ],
          "scatterternary": [
           {
            "marker": {
             "colorbar": {
              "outlinewidth": 0,
              "ticks": ""
             }
            },
            "type": "scatterternary"
           }
          ],
          "surface": [
           {
            "colorbar": {
             "outlinewidth": 0,
             "ticks": ""
            },
            "colorscale": [
             [
              0,
              "#0d0887"
             ],
             [
              0.1111111111111111,
              "#46039f"
             ],
             [
              0.2222222222222222,
              "#7201a8"
             ],
             [
              0.3333333333333333,
              "#9c179e"
             ],
             [
              0.4444444444444444,
              "#bd3786"
             ],
             [
              0.5555555555555556,
              "#d8576b"
             ],
             [
              0.6666666666666666,
              "#ed7953"
             ],
             [
              0.7777777777777778,
              "#fb9f3a"
             ],
             [
              0.8888888888888888,
              "#fdca26"
             ],
             [
              1,
              "#f0f921"
             ]
            ],
            "type": "surface"
           }
          ],
          "table": [
           {
            "cells": {
             "fill": {
              "color": "#EBF0F8"
             },
             "line": {
              "color": "white"
             }
            },
            "header": {
             "fill": {
              "color": "#C8D4E3"
             },
             "line": {
              "color": "white"
             }
            },
            "type": "table"
           }
          ]
         },
         "layout": {
          "annotationdefaults": {
           "arrowcolor": "#2a3f5f",
           "arrowhead": 0,
           "arrowwidth": 1
          },
          "autotypenumbers": "strict",
          "coloraxis": {
           "colorbar": {
            "outlinewidth": 0,
            "ticks": ""
           }
          },
          "colorscale": {
           "diverging": [
            [
             0,
             "#8e0152"
            ],
            [
             0.1,
             "#c51b7d"
            ],
            [
             0.2,
             "#de77ae"
            ],
            [
             0.3,
             "#f1b6da"
            ],
            [
             0.4,
             "#fde0ef"
            ],
            [
             0.5,
             "#f7f7f7"
            ],
            [
             0.6,
             "#e6f5d0"
            ],
            [
             0.7,
             "#b8e186"
            ],
            [
             0.8,
             "#7fbc41"
            ],
            [
             0.9,
             "#4d9221"
            ],
            [
             1,
             "#276419"
            ]
           ],
           "sequential": [
            [
             0,
             "#0d0887"
            ],
            [
             0.1111111111111111,
             "#46039f"
            ],
            [
             0.2222222222222222,
             "#7201a8"
            ],
            [
             0.3333333333333333,
             "#9c179e"
            ],
            [
             0.4444444444444444,
             "#bd3786"
            ],
            [
             0.5555555555555556,
             "#d8576b"
            ],
            [
             0.6666666666666666,
             "#ed7953"
            ],
            [
             0.7777777777777778,
             "#fb9f3a"
            ],
            [
             0.8888888888888888,
             "#fdca26"
            ],
            [
             1,
             "#f0f921"
            ]
           ],
           "sequentialminus": [
            [
             0,
             "#0d0887"
            ],
            [
             0.1111111111111111,
             "#46039f"
            ],
            [
             0.2222222222222222,
             "#7201a8"
            ],
            [
             0.3333333333333333,
             "#9c179e"
            ],
            [
             0.4444444444444444,
             "#bd3786"
            ],
            [
             0.5555555555555556,
             "#d8576b"
            ],
            [
             0.6666666666666666,
             "#ed7953"
            ],
            [
             0.7777777777777778,
             "#fb9f3a"
            ],
            [
             0.8888888888888888,
             "#fdca26"
            ],
            [
             1,
             "#f0f921"
            ]
           ]
          },
          "colorway": [
           "#636efa",
           "#EF553B",
           "#00cc96",
           "#ab63fa",
           "#FFA15A",
           "#19d3f3",
           "#FF6692",
           "#B6E880",
           "#FF97FF",
           "#FECB52"
          ],
          "font": {
           "color": "#2a3f5f"
          },
          "geo": {
           "bgcolor": "white",
           "lakecolor": "white",
           "landcolor": "#E5ECF6",
           "showlakes": true,
           "showland": true,
           "subunitcolor": "white"
          },
          "hoverlabel": {
           "align": "left"
          },
          "hovermode": "closest",
          "mapbox": {
           "style": "light"
          },
          "paper_bgcolor": "white",
          "plot_bgcolor": "#E5ECF6",
          "polar": {
           "angularaxis": {
            "gridcolor": "white",
            "linecolor": "white",
            "ticks": ""
           },
           "bgcolor": "#E5ECF6",
           "radialaxis": {
            "gridcolor": "white",
            "linecolor": "white",
            "ticks": ""
           }
          },
          "scene": {
           "xaxis": {
            "backgroundcolor": "#E5ECF6",
            "gridcolor": "white",
            "gridwidth": 2,
            "linecolor": "white",
            "showbackground": true,
            "ticks": "",
            "zerolinecolor": "white"
           },
           "yaxis": {
            "backgroundcolor": "#E5ECF6",
            "gridcolor": "white",
            "gridwidth": 2,
            "linecolor": "white",
            "showbackground": true,
            "ticks": "",
            "zerolinecolor": "white"
           },
           "zaxis": {
            "backgroundcolor": "#E5ECF6",
            "gridcolor": "white",
            "gridwidth": 2,
            "linecolor": "white",
            "showbackground": true,
            "ticks": "",
            "zerolinecolor": "white"
           }
          },
          "shapedefaults": {
           "line": {
            "color": "#2a3f5f"
           }
          },
          "ternary": {
           "aaxis": {
            "gridcolor": "white",
            "linecolor": "white",
            "ticks": ""
           },
           "baxis": {
            "gridcolor": "white",
            "linecolor": "white",
            "ticks": ""
           },
           "bgcolor": "#E5ECF6",
           "caxis": {
            "gridcolor": "white",
            "linecolor": "white",
            "ticks": ""
           }
          },
          "title": {
           "x": 0.05
          },
          "xaxis": {
           "automargin": true,
           "gridcolor": "white",
           "linecolor": "white",
           "ticks": "",
           "title": {
            "standoff": 15
           },
           "zerolinecolor": "white",
           "zerolinewidth": 2
          },
          "yaxis": {
           "automargin": true,
           "gridcolor": "white",
           "linecolor": "white",
           "ticks": "",
           "title": {
            "standoff": 15
           },
           "zerolinecolor": "white",
           "zerolinewidth": 2
          }
         }
        },
        "width": 600,
        "xaxis": {
         "anchor": "y",
         "domain": [
          0,
          1
         ],
         "linecolor": "black",
         "ticktext": [
          "Feb 15",
          "Feb 25",
          "Mar 06",
          "Mar 16",
          "Mar 26",
          "Apr 05",
          "Apr 15",
          "Apr 25",
          "May 05",
          "May 15",
          "May 25",
          "Jun 04",
          "Jun 14",
          "Jun 24"
         ],
         "tickvals": [
          1,
          11,
          21,
          31,
          41,
          51,
          61,
          71,
          81,
          91,
          101,
          111,
          121,
          131
         ]
        },
        "xaxis2": {
         "anchor": "y2",
         "domain": [
          0,
          1
         ],
         "linecolor": "black",
         "ticktext": [
          "Feb 15",
          "Feb 25",
          "Mar 06",
          "Mar 16",
          "Mar 26",
          "Apr 05",
          "Apr 15",
          "Apr 25",
          "May 05",
          "May 15",
          "May 25",
          "Jun 04",
          "Jun 14",
          "Jun 24"
         ],
         "tickvals": [
          1,
          11,
          21,
          31,
          41,
          51,
          61,
          71,
          81,
          91,
          101,
          111,
          121,
          131
         ]
        },
        "xaxis3": {
         "anchor": "y3",
         "domain": [
          0,
          1
         ],
         "linecolor": "black",
         "ticktext": [
          "Feb 15",
          "Feb 25",
          "Mar 06",
          "Mar 16",
          "Mar 26",
          "Apr 05",
          "Apr 15",
          "Apr 25",
          "May 05",
          "May 15",
          "May 25",
          "Jun 04",
          "Jun 14",
          "Jun 24"
         ],
         "tickvals": [
          1,
          11,
          21,
          31,
          41,
          51,
          61,
          71,
          81,
          91,
          101,
          111,
          121,
          131
         ]
        },
        "yaxis": {
         "anchor": "x",
         "domain": [
          0.7777777777777778,
          1
         ],
         "linecolor": "black"
        },
        "yaxis2": {
         "anchor": "x2",
         "domain": [
          0.3888888888888889,
          0.6111111111111112
         ],
         "linecolor": "black"
        },
        "yaxis3": {
         "anchor": "x3",
         "domain": [
          0,
          0.22222222222222224
         ],
         "linecolor": "black"
        }
       }
      }
     },
     "metadata": {},
     "output_type": "display_data"
    }
   ],
   "source": [
    "# Trace names - represent the solver used for the simulation\n",
    "trace_name = regions\n",
    "titles = ['Infections', 'Deaths', 'Reproduction Number']\n",
    "\n",
    "fig = go.Figure()\n",
    "fig = make_subplots(rows=len(titles), cols=1, subplot_titles=tuple(titles), horizontal_spacing = 0.15)\n",
    "\n",
    "# Plot (continuous predicted timeline and pointwise observed numbers each day)\n",
    "for r, region in enumerate(regions):\n",
    "    # Plot of infections\n",
    "    fig.add_trace(\n",
    "        go.Scatter(\n",
    "            x=times,\n",
    "            y=new_infec_pred[r].tolist(),\n",
    "            mode='lines',\n",
    "            name=trace_name[r],\n",
    "            line_color=colours[r]\n",
    "        ),\n",
    "        row= 1,\n",
    "        col= 1\n",
    "    )\n",
    "\n",
    "    fig.add_trace(\n",
    "        go.Scatter(\n",
    "            x=serology_times,\n",
    "            y=np.sum(np.multiply(np.nan_to_num(np.divide(positives_data[r], tests[r])), susceptibles[r]), axis=1).tolist(),\n",
    "            mode='markers',\n",
    "            name=trace_name[r],\n",
    "            showlegend=False,\n",
    "            line_color=colours[r]\n",
    "        ),\n",
    "        row= 1,\n",
    "        col= 1\n",
    "    )\n",
    "\n",
    "    # Plot deaths\n",
    "    fig.add_trace(\n",
    "        go.Scatter(\n",
    "            x=times,\n",
    "            y=deaths_pred[r].tolist(),\n",
    "            mode='lines',\n",
    "            name=trace_name[r],\n",
    "            showlegend=False,\n",
    "            line_color=colours[r]\n",
    "        ),\n",
    "        row= 2,\n",
    "        col= 1\n",
    "    )\n",
    "\n",
    "    fig.add_trace(\n",
    "        go.Scatter(\n",
    "            x=deaths_times,\n",
    "            y=np.sum(deaths_data[r], axis=1).tolist(),\n",
    "            mode='markers',\n",
    "            name=trace_name[r],\n",
    "            showlegend=False,\n",
    "            line_color=colours[r]\n",
    "        ),\n",
    "        row= 2,\n",
    "        col= 1\n",
    "    )\n",
    "\n",
    "    # Plot reproduction number\n",
    "    #fig.add_trace(\n",
    "    #    go.Scatter(\n",
    "    #        x=times,\n",
    "    #        y=reprod_num_pred[r].tolist(),\n",
    "    #        mode='lines',\n",
    "    #        name=trace_name[r],\n",
    "    #        showlegend=False,\n",
    "    #        line_color=colours[r]\n",
    "    #    ),\n",
    "    #    row= 3,\n",
    "    #    col= 1\n",
    "    #)\n",
    "\n",
    "# Add axis labels\n",
    "fig.update_layout(\n",
    "    width=600, \n",
    "    height=900,\n",
    "    plot_bgcolor='white',\n",
    "    xaxis=dict(\n",
    "        linecolor='black',\n",
    "        tickvals=np.arange(1, total_days, 10).tolist(),\n",
    "        ticktext=['Feb 15', 'Feb 25', 'Mar 06', 'Mar 16', 'Mar 26', 'Apr 05', 'Apr 15', 'Apr 25', 'May 05', 'May 15', 'May 25', 'Jun 04', 'Jun 14', 'Jun 24']),\n",
    "    yaxis=dict(linecolor='black'),\n",
    "    xaxis2=dict(\n",
    "        linecolor='black',\n",
    "        tickvals=np.arange(1, total_days, 10).tolist(),\n",
    "        ticktext=['Feb 15', 'Feb 25', 'Mar 06', 'Mar 16', 'Mar 26', 'Apr 05', 'Apr 15', 'Apr 25', 'May 05', 'May 15', 'May 25', 'Jun 04', 'Jun 14', 'Jun 24']),\n",
    "    yaxis2=dict(linecolor='black'),\n",
    "    xaxis3=dict(\n",
    "        linecolor='black',\n",
    "        tickvals=np.arange(1, total_days, 10).tolist(),\n",
    "        ticktext=['Feb 15', 'Feb 25', 'Mar 06', 'Mar 16', 'Mar 26', 'Apr 05', 'Apr 15', 'Apr 25', 'May 05', 'May 15', 'May 25', 'Jun 04', 'Jun 14', 'Jun 24']),\n",
    "    yaxis3=dict(linecolor='black'),\n",
    "    legend=dict(\n",
    "        orientation='h',\n",
    "        yanchor=\"bottom\",\n",
    "        y=1.075,\n",
    "        xanchor=\"right\",\n",
    "        x=1)\n",
    "    )\n",
    "\n",
    "fig.write_image('images/Figure-3-optimisation.pdf')\n",
    "fig.show()"
   ]
  },
  {
   "cell_type": "code",
   "execution_count": 15,
   "metadata": {},
   "outputs": [
    {
     "data": {
      "text/plain": [
       "<matplotlib.collections.PathCollection at 0x7f8b3a00af40>"
      ]
     },
     "execution_count": 15,
     "metadata": {},
     "output_type": "execute_result"
    },
    {
     "data": {
      "image/png": "[encoded data removed]",
      "text/plain": [
       "<Figure size 432x288 with 1 Axes>"
      ]
     },
     "metadata": {
      "needs_background": "light"
     },
     "output_type": "display_data"
    }
   ],
   "source": [
    "plt.plot(model.actual_deaths)\n",
    "plt.scatter(deaths_times, np.sum(deaths_data[r], axis=1).tolist()[:len(deaths_times)])"
   ]
  },
  {
   "cell_type": "code",
   "execution_count": 16,
   "metadata": {},
   "outputs": [],
   "source": [
    "p_after = parameters()"
   ]
  },
  {
   "cell_type": "code",
   "execution_count": 17,
   "metadata": {},
   "outputs": [],
   "source": [
    "roche_optimisation.ll(found)\n",
    "p = roche_optimisation.ll._parameters\n",
    "p_found = list(deepflatten(p, ignore=str))"
   ]
  },
  {
   "cell_type": "code",
   "execution_count": 18,
   "metadata": {},
   "outputs": [
    {
     "name": "stdout",
     "output_type": "stream",
     "text": [
      "1 1\n",
      "53565 53565\n",
      "237359 237359\n",
      "641486 641486\n",
      "635602 635602\n",
      "1304264 1304264\n",
      "1499291 1499291\n",
      "668999 668999\n",
      "584130 584130\n",
      "0.0 0.0\n",
      "0.0 0.0\n",
      "0.0 0.0\n",
      "0.0 0.0\n",
      "0.0 0.0\n",
      "0.0 0.0\n",
      "0.0 0.0\n",
      "0.0 0.0\n",
      "0.07115260422847436 0.07115260422847436\n",
      "0.07115260422847436 0.07115260422847436\n",
      "0.07115260422847436 0.07115260422847436\n",
      "0.07115260422847436 0.07115260422847436\n",
      "0.07115260422847436 0.07115260422847436\n",
      "0.07115260422847436 0.07115260422847436\n",
      "0.07115260422847436 0.07115260422847436\n",
      "0.07115260422847436 0.07115260422847436\n",
      "0.0 0.0\n",
      "0.0 0.0\n",
      "0.0 0.0\n",
      "0.0 0.0\n",
      "0.0 0.0\n",
      "0.0 0.0\n",
      "0.0 0.0\n",
      "0.0 0.0\n",
      "0.0 0.0\n",
      "0.0 0.0\n",
      "0.0 0.0\n",
      "0.0 0.0\n",
      "0.0 0.0\n",
      "0.0 0.0\n",
      "0.0 0.0\n",
      "0.0 0.0\n",
      "44.92884739577153 44.92884739577153\n",
      "44.92884739577153 44.92884739577153\n",
      "44.92884739577153 44.92884739577153\n",
      "44.92884739577153 44.92884739577153\n",
      "44.92884739577153 44.92884739577153\n",
      "44.92884739577153 44.92884739577153\n",
      "44.92884739577153 44.92884739577153\n",
      "44.92884739577153 44.92884739577153\n",
      "0.0 0.0\n",
      "0.0 0.0\n",
      "0.0 0.0\n",
      "0.0 0.0\n",
      "0.0 0.0\n",
      "0.0 0.0\n",
      "0.0 0.0\n",
      "0.0 0.0\n",
      "0.0 0.0\n",
      "0.0 0.0\n",
      "0.0 0.0\n",
      "0.0 0.0\n",
      "0.0 0.0\n",
      "0.0 0.0\n",
      "0.0 0.0\n",
      "0.0 0.0\n",
      "0.0 0.0\n",
      "0.0 0.0\n",
      "0.0 0.0\n",
      "0.0 0.0\n",
      "0.0 0.0\n",
      "0.0 0.0\n",
      "0.0 0.0\n",
      "0.0 0.0\n",
      "0.0 0.0\n",
      "0.0 0.0\n",
      "0.0 0.0\n",
      "0.0 0.0\n",
      "0.0 0.0\n",
      "0.0 0.0\n",
      "0.0 0.0\n",
      "0.0 0.0\n",
      "0.0 0.0\n",
      "0.0 0.0\n",
      "0.0 0.0\n",
      "0.0 0.0\n",
      "0.0 0.0\n",
      "0.0 0.0\n",
      "0.0 0.0\n",
      "0.0 0.0\n",
      "0.0 0.0\n",
      "0.0 0.0\n",
      "0.0 0.0\n",
      "0.0 0.0\n",
      "0.0 0.0\n",
      "0.0 0.0\n",
      "0.0 0.0\n",
      "0.0 0.0\n",
      "1.25 1.25\n",
      "3.7 3.7\n",
      "1 1\n",
      "9.0 9.0\n",
      "9.0 9.0\n",
      "9.0 9.0\n",
      "9.0 9.0\n",
      "9.0 9.0\n",
      "9.0 9.0\n",
      "9.0 9.0\n",
      "9.0 9.0\n",
      "10.0 10.0\n",
      "10.0 10.0\n",
      "10.0 10.0\n",
      "10.0 10.0\n",
      "10.0 10.0\n",
      "10.0 10.0\n",
      "10.0 10.0\n",
      "10.0 10.0\n",
      "0.716 0.716\n",
      "0.716 0.716\n",
      "0.716 0.716\n",
      "0.716 0.716\n",
      "0.716 0.716\n",
      "0.716 0.716\n",
      "0.716 0.716\n",
      "0.716 0.716\n",
      "0.106 0.106\n",
      "0.4337011164991208 0.4337011164991208\n",
      "0.1564288722753149 0.1564288722753149\n",
      "0.2847098043801899 0.2847098043801899\n",
      "0.3614231826732937 0.3614231826732937\n",
      "0.5940617954050298 0.5940617954050298\n",
      "0.7641065675441949 0.7641065675441949\n",
      "0.123245812916214 0.123245812916214\n",
      "0.08320524646151024 0.08320524646151024\n",
      "7.896109667937512e-06 7.896109667937512e-06\n",
      "2.4051599566713597 2.4051599566713597\n",
      "3.3941165552327472 3.3941165552327472\n",
      "1 1\n",
      "6 6\n",
      "RK45 RK45\n"
     ]
    }
   ],
   "source": [
    "for p1, p2 in zip(p_after, p_found):\n",
    "    print(p1, p2)"
   ]
  }
 ],
 "metadata": {
  "interpreter": {
   "hash": "684a6128a123c6817f5879bd443c804f1ae947106cccd5e393ee42f0caf0d347"
  },
  "kernelspec": {
   "display_name": "Python 3.8.8 64-bit ('base': conda)",
   "name": "python3"
  },
  "language_info": {
   "codemirror_mode": {
    "name": "ipython",
    "version": 3
   },
   "file_extension": ".py",
   "mimetype": "text/x-python",
   "name": "python",
   "nbconvert_exporter": "python",
   "pygments_lexer": "ipython3",
   "version": "3.8.8"
  },
  "orig_nbformat": 4
 },
 "nbformat": 4,
 "nbformat_minor": 2
}

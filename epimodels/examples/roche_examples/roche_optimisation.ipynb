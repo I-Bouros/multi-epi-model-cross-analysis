{
 "cells": [
  {
   "cell_type": "markdown",
   "metadata": {},
   "source": [
    "# Roche SEIRD Model Optimisation\n",
    "\n",
    "In this notebook we present how to use the `epimodels` module to perform parameter optimisation for the  parameters specified by the Roche model, using time-dependent region-specific contact matrices.\n",
    "\n",
    "The analysis is run for:\n",
    " - Dates: **15 Feb 2020** - **25 June 2020**;\n",
    " - PHE s of interest: **London**.\n",
    "\n",
    "We use realistic serology and mortality data extracted from the REACT survey and GOV.UK data.\n",
    "\n",
    "*The Roche model is built by F. Hoffmann-La Roche Ltd.*"
   ]
  },
  {
   "cell_type": "code",
   "execution_count": 1,
   "metadata": {},
   "outputs": [],
   "source": [
    "# Load necessary libraries\n",
    "import os\n",
    "import numpy as np\n",
    "import pandas as pd\n",
    "from scipy.stats import gamma, nbinom, norm\n",
    "import epimodels as em\n",
    "import matplotlib\n",
    "import plotly.graph_objects as go\n",
    "import plotly.express as px\n",
    "from matplotlib import pyplot as plt\n",
    "from iteration_utilities import deepflatten\n",
    "\n",
    "# Set random seed\n",
    "np.random.seed(28)"
   ]
  },
  {
   "cell_type": "markdown",
   "metadata": {},
   "source": [
    "## Model Setup\n",
    "### Define setup matrices for the Roche Model"
   ]
  },
  {
   "cell_type": "code",
   "execution_count": 2,
   "metadata": {},
   "outputs": [],
   "source": [
    "# Populate the model\n",
    "total_days =  132\n",
    "regions = ['London']\n",
    "age_groups = ['0-1', '1-5', '5-15', '15-25', '25-45', '45-65', '65-75', '75+']\n",
    "\n",
    "weeks = list(range(1,int(np.ceil(total_days/7))+1))\n",
    "matrices_region = []\n",
    "\n",
    "### Variable\n",
    "## Initial state of the system\n",
    "# for w in weeks:\n",
    "#     weeks_matrices_region = []\n",
    "#     for r in regions:\n",
    "#         path = os.path.join('../../data/final_contact_matrices/{}_W{}.csv'.format(r, w))\n",
    "#         region_data_matrix = pd.read_csv(path, header=None, dtype=np.float64)\n",
    "#         regional = em.RegionMatrix(r, age_groups, region_data_matrix)\n",
    "#         weeks_matrices_region.append(regional)\n",
    "\n",
    "#     matrices_region.append(weeks_matrices_region)\n",
    "\n",
    "# contacts = em.ContactMatrix(age_groups, np.ones((len(age_groups), len(age_groups))))\n",
    "# matrices_contact = [contacts]\n",
    "\n",
    "## Matrices contact\n",
    "# time_changes_contact = [1]\n",
    "# time_changes_region = np.arange(1, total_days+1, 7).tolist()\n",
    "\n",
    "### Fixed\n",
    "# Initial state of the system\n",
    "weeks_matrices_region = []\n",
    "for r in regions:\n",
    "    path = os.path.join('../../data/final_contact_matrices/BASE.csv')\n",
    "    region_data_matrix = pd.read_csv(path, header=None, dtype=np.float64)\n",
    "    regional = em.RegionMatrix(r, age_groups, region_data_matrix)\n",
    "    weeks_matrices_region.append(regional)\n",
    "\n",
    "matrices_region.append(weeks_matrices_region)\n",
    "\n",
    "contacts = em.ContactMatrix(age_groups, np.ones((len(age_groups), len(age_groups))))\n",
    "matrices_contact = [contacts]\n",
    "\n",
    "# Matrices contact\n",
    "time_changes_contact = [1]\n",
    "time_changes_region = [1]\n",
    "\n",
    "# NPIs data\n",
    "max_levels_npi = [3, 3, 2, 4, 2, 3, 2, 4, 2]\n",
    "targeted_npi = [True, True, True, True, True, True, True, False, True]\n",
    "path = os.path.join('../../data/npi_data/')\n",
    "general_npi = np.loadtxt(os.path.join(path, 'uk_flags.csv'), dtype=bool, delimiter=',').tolist()\n",
    "time_changes_flag = np.loadtxt(os.path.join(path, 'times_flags.csv'), dtype=int, delimiter=',').tolist()\n",
    "\n",
    "reg_levels_npi = [np.loadtxt(os.path.join(path, 'uk_npis.csv'), dtype=int, delimiter=',').tolist()]\n",
    "time_changes_npi = np.loadtxt(os.path.join(path, 'times_npis.csv'), dtype=int, delimiter=',').tolist()"
   ]
  },
  {
   "cell_type": "markdown",
   "metadata": {},
   "source": [
    "### Set the parameters and initial conditions of the model and bundle everything together"
   ]
  },
  {
   "cell_type": "code",
   "execution_count": 3,
   "metadata": {},
   "outputs": [],
   "source": [
    "# Instantiate model\n",
    "model = em.RocheSEIRModel()\n",
    "\n",
    "# Set the region names, contact and regional data of the model\n",
    "model.set_regions(regions)\n",
    "model.set_age_groups(age_groups)\n",
    "model.read_contact_data(matrices_contact, time_changes_contact)\n",
    "model.read_regional_data(matrices_region, time_changes_region)\n",
    "model.read_npis_data(max_levels_npi, targeted_npi, general_npi, reg_levels_npi, time_changes_npi, time_changes_flag)\n",
    "\n",
    "# Initial number of susceptibles\n",
    "path = os.path.join('../../data/england_population/England_population.csv')\n",
    "total_susceptibles = np.loadtxt(path, dtype=int, delimiter=',').tolist()\n",
    "susceptibles = []\n",
    "susceptibles.append(total_susceptibles[-1])\n",
    "\n",
    "# Initial number of infectives\n",
    "ICs_multiplier = [40, 5]\n",
    "infectives_pre = (ICs_multiplier[0] * np.ones((len(regions), len(age_groups)))).tolist()\n",
    "infectives_pre_ss = (ICs_multiplier[1] * np.ones((len(regions), len(age_groups)))).tolist()\n",
    "\n",
    "infectives = (np.array(infectives_pre) + np.array(infectives_pre_ss)).tolist()\n",
    "\n",
    "# List of times at which we wish to evaluate the states of the compartments of the model\n",
    "times = np.arange(1, total_days+1, 1).tolist()"
   ]
  },
  {
   "cell_type": "code",
   "execution_count": 4,
   "metadata": {},
   "outputs": [],
   "source": [
    "# Set ICs parameters\n",
    "ICs = em.RocheICs(\n",
    "    model=model,\n",
    "    susceptibles_IC=susceptibles,\n",
    "    exposed_IC=np.zeros((len(regions), len(age_groups))).tolist(),\n",
    "    infectives_pre_IC=infectives_pre,\n",
    "    infectives_asym_IC=np.zeros((len(regions), len(age_groups))).tolist(),\n",
    "    infectives_sym_IC=np.zeros((len(regions), len(age_groups))).tolist(),\n",
    "    infectives_pre_ss_IC=infectives_pre_ss,\n",
    "    infectives_asym_ss_IC=np.zeros((len(regions), len(age_groups))).tolist(),\n",
    "    infectives_sym_ss_IC=np.zeros((len(regions), len(age_groups))).tolist(),\n",
    "    infectives_q_IC=np.zeros((len(regions), len(age_groups))).tolist(),\n",
    "    recovered_IC=np.zeros((len(regions), len(age_groups))).tolist(),\n",
    "    recovered_asym_IC=np.zeros((len(regions), len(age_groups))).tolist(),\n",
    "    dead_IC=np.zeros((len(regions), len(age_groups))).tolist()\n",
    ")\n",
    "\n",
    "# Set average times in compartments\n",
    "compartment_times = em.RocheCompartmentTimes(\n",
    "    model=model,\n",
    "    k=1.25,\n",
    "    kS=3.7,\n",
    "    kQ=1,\n",
    "    kR=9,\n",
    "    kRI=10\n",
    ")\n",
    "\n",
    "# Set proportion of asymptomatic, super-spreader and dead cases\n",
    "proportion_parameters = em.RocheProportions(\n",
    "    model=model,\n",
    "    Pa = 0.716,\n",
    "    Pss = 0.106,\n",
    "    Pd = 0.05\n",
    ")\n",
    "\n",
    "# Set transmission parameters\n",
    "transmission_parameters = em.RocheTransmission(\n",
    "    model=model,\n",
    "    beta_min=0.228,\n",
    "    beta_max=2.63,\n",
    "    bss=3.11,\n",
    "    gamma=1,\n",
    "    s50=6\n",
    ")\n",
    "\n",
    "# Set other simulation parameters\n",
    "simulation_parameters = em.RocheSimParameters(\n",
    "    model=model,\n",
    "    region_index=1,\n",
    "    method='RK45',\n",
    "    times=times\n",
    ")\n",
    "\n",
    "# Set all parameters in the controller\n",
    "parameters = em.RocheParametersController(\n",
    "    model=model,\n",
    "    ICs=ICs,\n",
    "    compartment_times=compartment_times,\n",
    "    proportion_parameters=proportion_parameters,\n",
    "    transmission_parameters=transmission_parameters,\n",
    "    simulation_parameters=simulation_parameters\n",
    ")"
   ]
  },
  {
   "cell_type": "markdown",
   "metadata": {},
   "source": [
    "## Read Death and Serology data"
   ]
  },
  {
   "cell_type": "code",
   "execution_count": 5,
   "metadata": {},
   "outputs": [],
   "source": [
    "# Read in death and positive data from external files\n",
    "deaths_data = []\n",
    "positives_data = []\n",
    "tests = []\n",
    "\n",
    "for region in regions:\n",
    "    deaths_data.append(np.loadtxt('../../data/death_data/{}_deaths.csv'.format(region), dtype=int, delimiter=','))\n",
    "    positives_data.append(np.loadtxt('../../data/serology_data/{}_positives_nhs.csv'.format(region), dtype=int, delimiter=','))\n",
    "    tests.append(np.loadtxt('../../data/serology_data/{}_tests_nhs.csv'.format(region), dtype=int, delimiter=','))"
   ]
  },
  {
   "cell_type": "code",
   "execution_count": 6,
   "metadata": {},
   "outputs": [],
   "source": [
    "# Select the time points for which the death and serology data is known\n",
    "deaths_times = np.arange(27, total_days+1, 1).tolist()\n",
    "serology_times = np.arange(80, total_days+1, 7).tolist()"
   ]
  },
  {
   "cell_type": "code",
   "execution_count": 7,
   "metadata": {},
   "outputs": [],
   "source": [
    "# Set time-to-death using a Gamma distribution using the mean and standard deviation from the PHE paper\n",
    "td_mean = 15.0\n",
    "td_var = 12.1**2\n",
    "theta = td_var / td_mean\n",
    "k = td_mean / theta\n",
    "time_to_death = gamma(k, scale=theta).pdf(np.arange(1, 31)).tolist()\n",
    "\n",
    "# Set information\n",
    "fatality_ratio = (1/100 * np.array([0.0016, 0.0016, 0.0043, 0.019, 0.08975, 0.815, 3.1, 6.05])).tolist()\n",
    "time_to_death.extend([0.0] * (len(times)-30))\n",
    "niu = float(gamma.rvs(1, scale=1/0.2, size=1))\n",
    "\n",
    "sens = 0.7\n",
    "spec = 0.95"
   ]
  },
  {
   "cell_type": "markdown",
   "metadata": {},
   "source": [
    "## Optimisation Procedure"
   ]
  },
  {
   "cell_type": "code",
   "execution_count": 8,
   "metadata": {},
   "outputs": [
    {
     "name": "stdout",
     "output_type": "stream",
     "text": [
      "Maximising LogPDF\n",
      "Using Covariance Matrix Adaptation Evolution Strategy (CMA-ES)\n",
      "Running in sequential mode.\n",
      "Population size: 11\n",
      "Iter. Eval.  Best      Current   Time m:s\n",
      "0     11     -9498.116 -9498.116   0:01.2\n",
      "1     22     -8807.61  -8807.61    0:02.2\n",
      "2     33     -8807.61  -8846.203   0:03.3\n",
      "3     44     -8736.757 -8736.757   0:04.4\n",
      "20    231    -7876.576 -8071.953   0:19.4\n",
      "40    451    -4447.901 -4937.085   0:33.9\n",
      "60    671    -3171.866 -3837.628   0:44.7\n",
      "80    891    -3146.826 -3325.187   0:58.1\n",
      "100   1111   -3129.51  -3140.562   1:14.3\n",
      "120   1331   -3113.685 -3118.485   1:30.5\n",
      "140   1551   -3113.685 -3118.26    1:47.7\n",
      "160   1771   -3113.219 -3114.31    2:06.2\n",
      "180   1991   -3113.08  -3113.552   2:23.7\n",
      "200   2211   -3112.596 -3112.741   2:39.3\n",
      "220   2431   -3112.582 -3112.638   2:54.2\n",
      "240   2651   -3112.418 -3112.418   3:10.6\n",
      "260   2871   -3112.304 -3112.304   3:27.3\n",
      "280   3091   -3112.016 -3112.072   3:44.2\n",
      "300   3311   -3108.027 -3108.027   4:01.6\n",
      "320   3531   -3106.044 -3106.285   4:14.9\n",
      "340   3751   -3105.733 -3105.905   4:28.7\n",
      "360   3971   -3105.545 -3105.63    4:43.9\n",
      "380   4191   -3104.912 -3104.912   4:58.1\n",
      "400   4411   -3103.288 -3103.288   5:11.8\n",
      "420   4631   -3099.727 -3100.772   5:27.6\n",
      "440   4851   -3098.717 -3099.114   5:40.9\n",
      "460   5071   -3096.715 -3096.854   5:56.7\n",
      "480   5291   -3095.307 -3095.351   6:12.3\n",
      "500   5511   -3093.195 -3093.809   6:24.6\n",
      "520   5731   -3092.742 -3093.174   6:35.7\n",
      "540   5951   -3092.742 -3093.018   6:48.2\n",
      "560   6171   -3091.722 -3091.737   7:01.4\n",
      "580   6391   -3089.336 -3089.336   7:16.8\n",
      "600   6611   -3085.477 -3085.765   7:34.3\n",
      "620   6831   -3083.012 -3083.382   7:51.4\n",
      "640   7051   -3081.842 -3082.571   8:07.6\n",
      "660   7271   -3080.922 -3081.008   8:27.1\n",
      "680   7491   -3080.207 -3080.207   8:41.5\n",
      "700   7711   -3079.806 -3079.826   8:54.8\n",
      "720   7931   -3079.48  -3079.501   9:09.2\n",
      "740   8151   -3079.277 -3079.298   9:22.4\n",
      "760   8371   -3079.078 -3079.093   9:36.8\n",
      "780   8591   -3078.94  -3078.94    9:50.0\n",
      "791   8701   -3078.906 -3078.907   9:56.1\n",
      "Halting: No significant change for 100 iterations.\n",
      "[6.56169620e-01 6.06111981e-05 3.84918891e-01 5.02771079e-05\n",
      " 3.05799812e-04 9.46592006e-04 9.99305959e-01 4.04507703e-04\n",
      " 2.96549450e-01 2.65511840e-05 2.13681342e+00 4.80092770e+00] -3078.9061335281735\n",
      "Optimisation phase is finished.\n"
     ]
    }
   ],
   "source": [
    "# Initialise optimisation for the model\n",
    "roche_optimisation = em.inference.RocheSEIRInfer(model)\n",
    "\n",
    "# Add model, death, tests and NPIs data to the inference structure\n",
    "roche_optimisation.read_model_data(susceptibles, infectives)\n",
    "roche_optimisation.read_deaths_data(deaths_data, deaths_times, time_to_death, fatality_ratio)\n",
    "roche_optimisation.read_serology_data(tests, positives_data, serology_times, sens, spec)\n",
    "roche_optimisation.read_npis_data(max_levels_npi, targeted_npi, general_npi, reg_levels_npi, time_changes_npi, time_changes_flag)\n",
    "\n",
    "# Run optimisation structure\n",
    "found, log_post_value = roche_optimisation.optimisation_problem_setup(times, wd=1, wp=0)"
   ]
  },
  {
   "cell_type": "markdown",
   "metadata": {},
   "source": [
    "### Run the model with optimised parameter choices to produce predicted timelines for the:\n",
    " - number of new infections\n",
    " - number of deaths\n",
    " - R number"
   ]
  },
  {
   "cell_type": "code",
   "execution_count": 9,
   "metadata": {},
   "outputs": [
    {
     "name": "stdout",
     "output_type": "stream",
     "text": [
      "[1, 53565, 237359, 641486, 635602, 1304264, 1499291, 668999, 584130, 0.0, 0.0, 0.0, 0.0, 0.0, 0.0, 0.0, 0.0, 15.472367121216188, 15.472367121216188, 15.472367121216188, 15.472367121216188, 15.472367121216188, 15.472367121216188, 15.472367121216188, 15.472367121216188, 0.0, 0.0, 0.0, 0.0, 0.0, 0.0, 0.0, 0.0, 0.0, 0.0, 0.0, 0.0, 0.0, 0.0, 0.0, 0.0, 29.527632878783812, 29.527632878783812, 29.527632878783812, 29.527632878783812, 29.527632878783812, 29.527632878783812, 29.527632878783812, 29.527632878783812, 0.0, 0.0, 0.0, 0.0, 0.0, 0.0, 0.0, 0.0, 0.0, 0.0, 0.0, 0.0, 0.0, 0.0, 0.0, 0.0, 0.0, 0.0, 0.0, 0.0, 0.0, 0.0, 0.0, 0.0, 0.0, 0.0, 0.0, 0.0, 0.0, 0.0, 0.0, 0.0, 0.0, 0.0, 0.0, 0.0, 0.0, 0.0, 0.0, 0.0, 0.0, 0.0, 0.0, 0.0, 0.0, 0.0, 0.0, 0.0, 1.25, 4.28, 1, 9.0, 9.0, 9.0, 9.0, 9.0, 9.0, 9.0, 9.0, 10.0, 10.0, 10.0, 10.0, 10.0, 10.0, 10.0, 10.0, 0.716, 0.716, 0.716, 0.716, 0.716, 0.716, 0.716, 0.716, 0.106, 6.061119812054538e-05, 0.38491889061352713, 5.027710785271772e-05, 0.0003057998117973646, 0.0009465920059900632, 0.9993059590827448, 0.00040450770313245734, 0.2965494500423809, 2.6551184044360156e-05, 2.136813418472615, 4.800927703141166, 1, 6, 'RK45']\n"
     ]
    }
   ],
   "source": [
    "n_parameters = model.n_parameters()\n",
    "\n",
    "predicted_new_infec = []\n",
    "predicted_deaths = []\n",
    "#predicted_reprod_num = []\n",
    "\n",
    "# Run model and number of new infections for all regions\n",
    "for r, _ in enumerate(model.regions):\n",
    "    parameters.simulation_parameters.region_index = r + 1\n",
    "\n",
    "    parameters.ICs.infectives_pre_IC = ((1-found[0]) * np.array(infectives)).tolist()\n",
    "    parameters.ICs.infectives_pre_ss_IC = (found[0] * np.array(infectives)).tolist()\n",
    "\n",
    "    # parameters.proportion_parameters.Pa = found[1:(1+model._num_ages)]\n",
    "    # parameters.proportion_parameters.Pss = found[1+model._num_ages]\n",
    "    parameters.proportion_parameters.Pd = found[-(3+model._num_ages):(-3)]\n",
    "\n",
    "    parameters.transmission_parameters.beta_min = found[-3]\n",
    "    parameters.transmission_parameters.beta_max = found[-2]\n",
    "    parameters.transmission_parameters.bss = found[-1]\n",
    "    \n",
    "    #r_fix = np.empty(len(times))\n",
    "    model_reg_deaths_data = np.empty(len(times))\n",
    "\n",
    "    #m_fix = em.MultiTimesInfectivity(\n",
    "    #    matrices_contact, time_changes_contact, regions, matrices_region, time_changes_region, parameters[0], dI, susceptibles)\n",
    "\n",
    "    # Run model and number of new infections for all age groups\n",
    "    model_output = model.simulate(parameters)\n",
    "\n",
    "    age_model_reg_new_infections = model.new_infections(model_output)\n",
    "    model_reg_new_infections = age_model_reg_new_infections.sum(axis=1)\n",
    "\n",
    "    for t, time in enumerate(times):\n",
    "    #    r_fix[t] = m_fix.compute_reproduction_number(r+1, time, model_output[t, :len(age_groups)], temp_variation=parameters[8][r][t])\n",
    "        model_reg_deaths_data[t] = np.sum(model.mean_deaths(fatality_ratio, time_to_death, t, age_model_reg_new_infections))\n",
    "    \n",
    "    predicted_new_infec.append(np.array(model_reg_new_infections))\n",
    "    predicted_deaths.append(model_reg_deaths_data)\n",
    "    #predicted_reprod_num.append(r_fix)\n",
    "\n",
    "predicted_new_infec = np.array(predicted_new_infec)\n",
    "predicted_deaths = np.array(predicted_deaths)\n",
    "#predicted_reprod_num = np.array(predicted_reprod_num)"
   ]
  },
  {
   "cell_type": "code",
   "execution_count": 10,
   "metadata": {},
   "outputs": [
    {
     "name": "stdout",
     "output_type": "stream",
     "text": [
      "0.047453347875424934\n",
      "0.11422867267257293\n",
      "0.1976245783128711\n",
      "0.29822602338955556\n",
      "0.4181409379709363\n",
      "0.5605891641060503\n",
      "0.7298561911052235\n",
      "0.9313805901765164\n",
      "1.171913761136092\n",
      "1.4597401171726274\n",
      "1.8049506009709984\n",
      "2.219785504984951\n",
      "2.719060889251884\n",
      "3.3206709758786555\n",
      "4.046180397278914\n",
      "4.921599860087829\n",
      "5.978257790259981\n",
      "7.253842510444072\n",
      "8.79352730979771\n",
      "10.651560063081892\n",
      "12.893123605601719\n",
      "15.595996683280148\n",
      "18.852904989918105\n",
      "22.774483492071404\n",
      "27.491879879012107\n",
      "33.160062386498986\n",
      "39.96147355584755\n",
      "47.22176816825816\n",
      "55.538283098792924\n",
      "65.10599345990948\n",
      "74.08593008005143\n",
      "82.04860592098173\n",
      "88.77695624307768\n",
      "95.14721998854537\n",
      "100.45096391055993\n",
      "104.7209518631134\n",
      "108.03647470262625\n",
      "110.22124661091078\n",
      "111.76109775094032\n",
      "112.79417317244788\n",
      "113.40620466234527\n",
      "113.65956901754953\n",
      "113.6024703634725\n",
      "113.27360603745474\n",
      "112.70396017576371\n",
      "111.91890986341444\n",
      "110.93871556835623\n",
      "109.77916611805122\n",
      "108.45208656452846\n",
      "106.96547456706364\n",
      "105.32389690954705\n",
      "103.52818790275472\n",
      "101.57504124730104\n",
      "99.45756942325194\n",
      "97.16477216057096\n",
      "94.68055831125727\n",
      "91.98424851234958\n",
      "89.30960082101633\n",
      "86.42127470123567\n",
      "83.31851182403946\n",
      "80.57521684635293\n",
      "78.12859157026541\n",
      "75.9393893822739\n",
      "73.69194743824293\n",
      "71.67081921800404\n",
      "69.80328011346602\n",
      "68.05296676709234\n",
      "66.47502626893348\n",
      "64.90722482737904\n",
      "63.3582614466262\n",
      "61.832568211499805\n",
      "60.332314361964656\n",
      "58.85823923167196\n",
      "57.41070566842125\n",
      "55.99019362246054\n",
      "54.59670381089611\n",
      "53.2301049831256\n",
      "51.89043319505227\n",
      "50.577654547527786\n",
      "49.29158021860676\n",
      "48.03198795294071\n",
      "46.79870781918397\n",
      "45.591621755858185\n",
      "44.41041618813917\n",
      "43.25477837768816\n",
      "42.124513758066605\n",
      "41.070187062032645\n",
      "40.05562528412755\n",
      "39.12726248077464\n",
      "38.244060666161644\n",
      "37.396794839134884\n",
      "36.58028538567173\n",
      "35.79111657138171\n",
      "35.0264636842764\n",
      "34.28402314353859\n",
      "33.562106468441364\n",
      "32.859228410644945\n",
      "32.174001548327645\n",
      "31.505272694822157\n",
      "30.852176464607066\n",
      "30.21391873562277\n",
      "29.5896876718701\n",
      "28.978863309639557\n",
      "28.38097629154076\n",
      "27.7890279082955\n",
      "27.207002307628997\n",
      "26.63537137226078\n",
      "26.112020583912077\n",
      "25.61022767915342\n",
      "25.1250658421264\n",
      "24.654216404667675\n",
      "24.196233150606883\n",
      "23.74986686589677\n",
      "23.31391533988125\n",
      "22.83298026109756\n",
      "22.345908995877533\n",
      "21.844096912840186\n",
      "21.3464229561061\n",
      "20.838341383540705\n",
      "20.33765535520203\n",
      "19.84441275389661\n",
      "19.35888227473452\n",
      "18.88134196746073\n",
      "18.41206120811273\n",
      "17.95126309483062\n",
      "17.499119999064572\n",
      "17.055791365394235\n",
      "16.62134901219351\n",
      "16.19580274684903\n",
      "15.77922033730535\n",
      "15.371617342599926\n",
      "14.972910949546863\n"
     ]
    }
   ],
   "source": [
    "for t, time in enumerate(times):\n",
    "    #    r_fix[t] = m_fix.compute_reproduction_number(r+1, time, model_output[t, :len(age_groups)], temp_variation=parameters[8][r][t])\n",
    "        print(np.sum(model.mean_deaths(fatality_ratio, time_to_death, t, age_model_reg_new_infections)))\n",
    "   "
   ]
  },
  {
   "cell_type": "code",
   "execution_count": 11,
   "metadata": {},
   "outputs": [],
   "source": [
    "# Populate the model\n",
    "total_days =  132\n",
    "regions = ['London']\n",
    "age_groups = ['0-1', '1-5', '5-15', '15-25', '25-45', '45-65', '65-75', '75+']\n",
    "\n",
    "weeks = list(range(1,int(np.ceil(total_days/7))+1))\n",
    "matrices_region = []\n",
    "\n",
    "### Variable\n",
    "## Initial state of the system\n",
    "# for w in weeks:\n",
    "#     weeks_matrices_region = []\n",
    "#     for r in regions:\n",
    "#         path = os.path.join('../../data/final_contact_matrices/{}_W{}.csv'.format(r, w))\n",
    "#         region_data_matrix = pd.read_csv(path, header=None, dtype=np.float64)\n",
    "#         regional = em.RegionMatrix(r, age_groups, region_data_matrix)\n",
    "#         weeks_matrices_region.append(regional)\n",
    "\n",
    "#     matrices_region.append(weeks_matrices_region)\n",
    "\n",
    "# contacts = em.ContactMatrix(age_groups, np.ones((len(age_groups), len(age_groups))))\n",
    "# matrices_contact = [contacts]\n",
    "\n",
    "## Matrices contact\n",
    "# time_changes_contact = [1]\n",
    "# time_changes_region = np.arange(1, total_days+1, 7).tolist()\n",
    "\n",
    "### Fixed\n",
    "# Initial state of the system\n",
    "weeks_matrices_region = []\n",
    "for r in regions:\n",
    "    path = os.path.join('../../data/final_contact_matrices/BASE.csv')\n",
    "    region_data_matrix = pd.read_csv(path, header=None, dtype=np.float64)\n",
    "    regional = em.RegionMatrix(r, age_groups, region_data_matrix)\n",
    "    weeks_matrices_region.append(regional)\n",
    "\n",
    "matrices_region.append(weeks_matrices_region)\n",
    "\n",
    "contacts = em.ContactMatrix(age_groups, np.ones((len(age_groups), len(age_groups))))\n",
    "matrices_contact = [contacts]\n",
    "\n",
    "# Matrices contact\n",
    "time_changes_contact = [1]\n",
    "time_changes_region = [1]\n",
    "\n",
    "# NPIs data\n",
    "max_levels_npi = [3, 3, 2, 4, 2, 3, 2, 4, 2]\n",
    "targeted_npi = [True, True, True, True, True, True, True, False, True]\n",
    "path = os.path.join('../../data/npi_data/')\n",
    "general_npi = np.loadtxt(os.path.join(path, 'uk_flags.csv'), dtype=bool, delimiter=',').tolist()\n",
    "time_changes_flag = np.loadtxt(os.path.join(path, 'times_flags.csv'), dtype=int, delimiter=',').tolist()\n",
    "\n",
    "reg_levels_npi = [np.loadtxt(os.path.join(path, 'uk_npis.csv'), dtype=int, delimiter=',').tolist()]\n",
    "time_changes_npi = np.loadtxt(os.path.join(path, 'times_npis.csv'), dtype=int, delimiter=',').tolist()"
   ]
  },
  {
   "cell_type": "markdown",
   "metadata": {},
   "source": [
    "## Plot data vs predicted\n",
    "\n",
    "### Setup ``plotly`` and default settings for plotting"
   ]
  },
  {
   "cell_type": "code",
   "execution_count": 12,
   "metadata": {},
   "outputs": [],
   "source": [
    "from plotly.subplots import make_subplots\n",
    "\n",
    "colours = ['blue', 'red', 'green', 'purple', 'orange', 'black', 'gray', 'pink']\n",
    "\n",
    "# Group outputs together\n",
    "outputs = [deaths_data, positives_data]\n",
    "\n",
    "# Number of regions\n",
    "n_reg = len(regions)"
   ]
  },
  {
   "cell_type": "markdown",
   "metadata": {},
   "source": [
    "### Select predicted quantities to plot"
   ]
  },
  {
   "cell_type": "code",
   "execution_count": 13,
   "metadata": {},
   "outputs": [],
   "source": [
    "# Set up traces to plot\n",
    "new_infec_pred = []\n",
    "deaths_pred = []\n",
    "#reprod_num_pred = []\n",
    "\n",
    "for r, _ in enumerate(model.regions):\n",
    "    # Compute the prediction \n",
    "    new_infec_pred.append(predicted_new_infec[r,:])\n",
    "    deaths_pred.append(predicted_deaths[r,:])\n",
    "    #reprod_num_pred.append(predicted_reprod_num[r,:])"
   ]
  },
  {
   "cell_type": "markdown",
   "metadata": {},
   "source": [
    "### Plot observed versus predicted using model with optimised parameters"
   ]
  },
  {
   "cell_type": "code",
   "execution_count": 14,
   "metadata": {},
   "outputs": [
    {
     "name": "stderr",
     "output_type": "stream",
     "text": [
      "<ipython-input-14-e48c6bf424d7>:26: RuntimeWarning:\n",
      "\n",
      "invalid value encountered in true_divide\n",
      "\n"
     ]
    },
    {
     "data": {
      "application/vnd.plotly.v1+json": {
       "config": {
        "plotlyServerURL": "https://plot.ly"
       },
       "data": [
        {
         "line": {
          "color": "blue"
         },
         "mode": "lines",
         "name": "London",
         "type": "scatter",
         "x": [
          1,
          2,
          3,
          4,
          5,
          6,
          7,
          8,
          9,
          10,
          11,
          12,
          13,
          14,
          15,
          16,
          17,
          18,
          19,
          20,
          21,
          22,
          23,
          24,
          25,
          26,
          27,
          28,
          29,
          30,
          31,
          32,
          33,
          34,
          35,
          36,
          37,
          38,
          39,
          40,
          41,
          42,
          43,
          44,
          45,
          46,
          47,
          48,
          49,
          50,
          51,
          52,
          53,
          54,
          55,
          56,
          57,
          58,
          59,
          60,
          61,
          62,
          63,
          64,
          65,
          66,
          67,
          68,
          69,
          70,
          71,
          72,
          73,
          74,
          75,
          76,
          77,
          78,
          79,
          80,
          81,
          82,
          83,
          84,
          85,
          86,
          87,
          88,
          89,
          90,
          91,
          92,
          93,
          94,
          95,
          96,
          97,
          98,
          99,
          100,
          101,
          102,
          103,
          104,
          105,
          106,
          107,
          108,
          109,
          110,
          111,
          112,
          113,
          114,
          115,
          116,
          117,
          118,
          119,
          120,
          121,
          122,
          123,
          124,
          125,
          126,
          127,
          128,
          129,
          130,
          131,
          132
         ],
         "xaxis": "x",
         "y": [
          226.68795597674026,
          250.5072299501974,
          290.66237287589513,
          345.3261179061194,
          414.29420766438136,
          498.957961631068,
          601.8798425298704,
          726.5611597441405,
          877.4000441664101,
          1059.7810297102167,
          1280.19368285942,
          1546.4783431654143,
          1868.1042161775179,
          2256.4097453616014,
          2724.9331412923084,
          3290.154569249737,
          3971.678053029713,
          4792.904107384337,
          5781.124798177475,
          6969.691208060767,
          8398.61511874034,
          10112.864176227136,
          12166.011919225786,
          14622.175179828828,
          17552.71166080427,
          21039.70915192349,
          25176.373523708666,
          25741.676212026145,
          30243.29442341713,
          35060.10128691275,
          30711.774715655025,
          27014.58524358033,
          23654.731151867167,
          25183.22013818336,
          22202.286290934546,
          20166.627345050332,
          18572.808251980547,
          15991.666807012978,
          15856.686862469893,
          15604.794283794468,
          15300.558386505603,
          14976.02513325321,
          14644.014666192466,
          14311.913345006633,
          13980.759040577588,
          13654.036542027456,
          13331.603004136861,
          13013.580002471801,
          12700.34774758861,
          12391.88391202982,
          12089.689393447828,
          11792.85378378853,
          11499.749758403384,
          11213.190756752714,
          10932.93729936383,
          10656.219653399126,
          10385.464751157118,
          10121.58791786468,
          9861.828996403048,
          9606.727958601985,
          9358.659938579649,
          9116.03243596781,
          8876.590028363828,
          8643.532016653404,
          8417.043331982353,
          8193.864059943468,
          7975.32014816473,
          7763.5316559670555,
          7556.488773889456,
          7352.455277941849,
          7154.410336734367,
          6962.119250469801,
          6772.7906630050975,
          6588.0500736928625,
          6409.036850275871,
          6233.9665786260375,
          6062.362798145235,
          5895.780126021171,
          5733.635668795394,
          5574.8197387301725,
          5420.2975160355,
          5269.949268313818,
          5123.152246737922,
          4980.196610794215,
          4841.039459027505,
          4705.162146053012,
          4799.001592706263,
          4667.253843704895,
          4780.503308985189,
          4660.004837810436,
          4550.193850744204,
          4446.507627291054,
          4346.893284585725,
          4249.993076039535,
          4155.292789705472,
          4062.7064639594555,
          3972.082819345781,
          3883.327805547841,
          3796.075270153813,
          3710.572568998477,
          3627.3134016329604,
          3545.48973298557,
          3465.0072650304965,
          3386.704069495754,
          3281.633922103347,
          3206.2855419023913,
          3131.9813574465197,
          3225.1821930426204,
          3151.2591457578196,
          3083.0658310357026,
          3019.377514805973,
          2958.5675720513427,
          2898.8739955477567,
          2839.4114488681985,
          2542.320175534666,
          2493.4023099981414,
          2437.3075800211445,
          2377.569884096141,
          2317.00021644945,
          2256.940304863802,
          2197.7921579806634,
          2140.034074717551,
          2083.620902619668,
          2028.5569967075498,
          1974.840855675549,
          1922.50146139351,
          1871.6422766109108,
          1821.982716148498,
          1773.34375387838,
          1726.2519671423822,
          1680.5880163896618,
          1635.711376466137
         ],
         "yaxis": "y"
        },
        {
         "line": {
          "color": "blue"
         },
         "mode": "markers",
         "name": "London",
         "showlegend": false,
         "type": "scatter",
         "x": [
          80,
          87,
          94,
          101,
          108,
          115,
          122,
          129
         ],
         "xaxis": "x",
         "y": [
          14654.651685393257,
          25322.30757373794,
          8013.77416693054,
          4744.591772151899,
          0,
          0,
          9439.017820762754,
          6911.606612127486,
          10868.866666666667,
          4413.902777777777,
          1583.7416383013265,
          2768.9239880873456,
          0,
          0,
          5036.705128911385,
          8907.806201813737,
          0,
          18380.590347820773,
          23147.99732110131,
          21777.116751893347,
          9031.873493975903,
          26794.792792954744,
          54919.345283444105,
          43385.414663852614,
          42221.370117142986,
          0,
          43174.70535720825,
          56572.00312238099,
          55364.35003026083,
          0,
          140605.47543868562,
          129367.55901557437,
          121435.08765904055,
          39436.63554200182,
          26566.593445343973,
          30589.328915894028,
          30597.77551020408,
          8863.059309309308,
          5654.007438919873,
          9740.837014763907,
          33452.73684210526,
          5386.457627118644,
          3907.733719471473,
          6372.901041529254,
          0,
          3644.8068181818185,
          3715.578595104249,
          9541.403999049793,
          8854.18026149799,
          38983.62153193376,
          49381.66467392017,
          37679.74202843691,
          31053.356350966107
         ],
         "yaxis": "y"
        },
        {
         "line": {
          "color": "blue"
         },
         "mode": "lines",
         "name": "London",
         "showlegend": false,
         "type": "scatter",
         "x": [
          1,
          2,
          3,
          4,
          5,
          6,
          7,
          8,
          9,
          10,
          11,
          12,
          13,
          14,
          15,
          16,
          17,
          18,
          19,
          20,
          21,
          22,
          23,
          24,
          25,
          26,
          27,
          28,
          29,
          30,
          31,
          32,
          33,
          34,
          35,
          36,
          37,
          38,
          39,
          40,
          41,
          42,
          43,
          44,
          45,
          46,
          47,
          48,
          49,
          50,
          51,
          52,
          53,
          54,
          55,
          56,
          57,
          58,
          59,
          60,
          61,
          62,
          63,
          64,
          65,
          66,
          67,
          68,
          69,
          70,
          71,
          72,
          73,
          74,
          75,
          76,
          77,
          78,
          79,
          80,
          81,
          82,
          83,
          84,
          85,
          86,
          87,
          88,
          89,
          90,
          91,
          92,
          93,
          94,
          95,
          96,
          97,
          98,
          99,
          100,
          101,
          102,
          103,
          104,
          105,
          106,
          107,
          108,
          109,
          110,
          111,
          112,
          113,
          114,
          115,
          116,
          117,
          118,
          119,
          120,
          121,
          122,
          123,
          124,
          125,
          126,
          127,
          128,
          129,
          130,
          131,
          132
         ],
         "xaxis": "x2",
         "y": [
          0.047453347875424934,
          0.11422867267257293,
          0.1976245783128711,
          0.29822602338955556,
          0.4181409379709363,
          0.5605891641060503,
          0.7298561911052235,
          0.9313805901765164,
          1.171913761136092,
          1.4597401171726274,
          1.8049506009709984,
          2.219785504984951,
          2.719060889251884,
          3.3206709758786555,
          4.046180397278914,
          4.921599860087829,
          5.978257790259981,
          7.253842510444072,
          8.79352730979771,
          10.651560063081892,
          12.893123605601719,
          15.595996683280148,
          18.852904989918105,
          22.774483492071404,
          27.491879879012107,
          33.160062386498986,
          39.96147355584755,
          47.22176816825816,
          55.538283098792924,
          65.10599345990948,
          74.08593008005143,
          82.04860592098173,
          88.77695624307768,
          95.14721998854537,
          100.45096391055993,
          104.7209518631134,
          108.03647470262625,
          110.22124661091078,
          111.76109775094032,
          112.79417317244788,
          113.40620466234527,
          113.65956901754953,
          113.6024703634725,
          113.27360603745474,
          112.70396017576371,
          111.91890986341444,
          110.93871556835623,
          109.77916611805122,
          108.45208656452846,
          106.96547456706364,
          105.32389690954705,
          103.52818790275472,
          101.57504124730104,
          99.45756942325194,
          97.16477216057096,
          94.68055831125727,
          91.98424851234958,
          89.30960082101633,
          86.42127470123567,
          83.31851182403946,
          80.57521684635293,
          78.12859157026541,
          75.9393893822739,
          73.69194743824293,
          71.67081921800404,
          69.80328011346602,
          68.05296676709234,
          66.47502626893348,
          64.90722482737904,
          63.3582614466262,
          61.832568211499805,
          60.332314361964656,
          58.85823923167196,
          57.41070566842125,
          55.99019362246054,
          54.59670381089611,
          53.2301049831256,
          51.89043319505227,
          50.577654547527786,
          49.29158021860676,
          48.03198795294071,
          46.79870781918397,
          45.591621755858185,
          44.41041618813917,
          43.25477837768816,
          42.124513758066605,
          41.070187062032645,
          40.05562528412755,
          39.12726248077464,
          38.244060666161644,
          37.396794839134884,
          36.58028538567173,
          35.79111657138171,
          35.0264636842764,
          34.28402314353859,
          33.562106468441364,
          32.859228410644945,
          32.174001548327645,
          31.505272694822157,
          30.852176464607066,
          30.21391873562277,
          29.5896876718701,
          28.978863309639557,
          28.38097629154076,
          27.7890279082955,
          27.207002307628997,
          26.63537137226078,
          26.112020583912077,
          25.61022767915342,
          25.1250658421264,
          24.654216404667675,
          24.196233150606883,
          23.74986686589677,
          23.31391533988125,
          22.83298026109756,
          22.345908995877533,
          21.844096912840186,
          21.3464229561061,
          20.838341383540705,
          20.33765535520203,
          19.84441275389661,
          19.35888227473452,
          18.88134196746073,
          18.41206120811273,
          17.95126309483062,
          17.499119999064572,
          17.055791365394235,
          16.62134901219351,
          16.19580274684903,
          15.77922033730535,
          15.371617342599926,
          14.972910949546863
         ],
         "yaxis": "y2"
        },
        {
         "line": {
          "color": "blue"
         },
         "mode": "markers",
         "name": "London",
         "showlegend": false,
         "type": "scatter",
         "x": [
          27,
          28,
          29,
          30,
          31,
          32,
          33,
          34,
          35,
          36,
          37,
          38,
          39,
          40,
          41,
          42,
          43,
          44,
          45,
          46,
          47,
          48,
          49,
          50,
          51,
          52,
          53,
          54,
          55,
          56,
          57,
          58,
          59,
          60,
          61,
          62,
          63,
          64,
          65,
          66,
          67,
          68,
          69,
          70,
          71,
          72,
          73,
          74,
          75,
          76,
          77,
          78,
          79,
          80,
          81,
          82,
          83,
          84,
          85,
          86,
          87,
          88,
          89,
          90,
          91,
          92,
          93,
          94,
          95,
          96,
          97,
          98,
          99,
          100,
          101,
          102,
          103,
          104,
          105,
          106,
          107,
          108,
          109,
          110,
          111,
          112,
          113,
          114,
          115,
          116,
          117,
          118,
          119,
          120,
          121,
          122,
          123,
          124,
          125,
          126,
          127,
          128,
          129,
          130,
          131,
          132
         ],
         "xaxis": "x2",
         "y": [
          6,
          6,
          11,
          8,
          16,
          23,
          26,
          25,
          46,
          46,
          53,
          56,
          87,
          119,
          122,
          127,
          119,
          142,
          149,
          180,
          189,
          194,
          192,
          225,
          196,
          197,
          221,
          231,
          199,
          174,
          164,
          170,
          170,
          143,
          147,
          138,
          110,
          118,
          116,
          96,
          105,
          110,
          80,
          75,
          58,
          62,
          55,
          58,
          52,
          45,
          42,
          52,
          43,
          37,
          34,
          43,
          28,
          30,
          25,
          27,
          23,
          15,
          12,
          17,
          18,
          10,
          14,
          13,
          20,
          16,
          12,
          8,
          6,
          6,
          9,
          11,
          8,
          9,
          5,
          7,
          5,
          5,
          7,
          6,
          6,
          2,
          3,
          5,
          8,
          2,
          5,
          5,
          5,
          1,
          2,
          3,
          1,
          1,
          0,
          2,
          2,
          2,
          3,
          0,
          4,
          1,
          0,
          0,
          1,
          1,
          1,
          1,
          2,
          1,
          1,
          3,
          3,
          1,
          3,
          2,
          0,
          3,
          1,
          1,
          0,
          1,
          0,
          2,
          0,
          0,
          0,
          0,
          0,
          2,
          0,
          0,
          0,
          2,
          0,
          0,
          0,
          2,
          2,
          1,
          0,
          0,
          0,
          0,
          0,
          1,
          0,
          1,
          1,
          0,
          2,
          0,
          0,
          0,
          2,
          1,
          0,
          1,
          0,
          1,
          0,
          0,
          1,
          0,
          0,
          0,
          0,
          0,
          1,
          0,
          1,
          1,
          0,
          0,
          2,
          0,
          0,
          0,
          2,
          3,
          0,
          0,
          0,
          1,
          2,
          4,
          1,
          3,
          4,
          4,
          6,
          7,
          2,
          1,
          1,
          2,
          5,
          9,
          6,
          5,
          3,
          2,
          2,
          9,
          5,
          6,
          6,
          7,
          5,
          4,
          6,
          5,
          4,
          12,
          7,
          4,
          6,
          11,
          7,
          15,
          11,
          6,
          18,
          11,
          12,
          14,
          21,
          12,
          14,
          8,
          17,
          18,
          13,
          16,
          15,
          16,
          23,
          19,
          28,
          15,
          12,
          20,
          13,
          20,
          19,
          30,
          30,
          20,
          27,
          28,
          19,
          29,
          18,
          30,
          39,
          29,
          21,
          33,
          49,
          26,
          22,
          28,
          35,
          33,
          27,
          27,
          35,
          35,
          30,
          28,
          27,
          41,
          29,
          37,
          45,
          30,
          61,
          44,
          48,
          52,
          63,
          75,
          70,
          65,
          90,
          93,
          104,
          102,
          110,
          124,
          129,
          136,
          146,
          136,
          161,
          177,
          161,
          186,
          175,
          179,
          193,
          185,
          193,
          200,
          196,
          183,
          200,
          207,
          202,
          208,
          185,
          184,
          160,
          158,
          152,
          155,
          126,
          128,
          125,
          122,
          86,
          101,
          93,
          96,
          107,
          67,
          91,
          76,
          66,
          65,
          57,
          64,
          44,
          41,
          41,
          37,
          44,
          43,
          40,
          37,
          33,
          30,
          38,
          21,
          20,
          21,
          19,
          15,
          12,
          10,
          20,
          14,
          7,
          12,
          15,
          13,
          9,
          7,
          9,
          10,
          7,
          1,
          9,
          4,
          7,
          5,
          7,
          2,
          3,
          2,
          3,
          6,
          2,
          5,
          1,
          2,
          7,
          2,
          3,
          2,
          2,
          3,
          1,
          4,
          1,
          1,
          1,
          2,
          2,
          1,
          3,
          3,
          0,
          2,
          0,
          2,
          2,
          1,
          2,
          3,
          2,
          1,
          0,
          1,
          1,
          2,
          0,
          3,
          5,
          0,
          2,
          1,
          1,
          1,
          1,
          3,
          0,
          3,
          0,
          0,
          2,
          1,
          0,
          0,
          0,
          2,
          1,
          0,
          0,
          0,
          2,
          0,
          0,
          2,
          1,
          1,
          3,
          1,
          0,
          1,
          2,
          0,
          0,
          1,
          1,
          2,
          1,
          2,
          0,
          2,
          2,
          0,
          0,
          5,
          1,
          0,
          1,
          2,
          2,
          4,
          2,
          1,
          2,
          0,
          0,
          3,
          4
         ],
         "yaxis": "y2"
        }
       ],
       "layout": {
        "annotations": [
         {
          "font": {
           "size": 16
          },
          "showarrow": false,
          "text": "Infections",
          "x": 0.5,
          "xanchor": "center",
          "xref": "paper",
          "y": 1,
          "yanchor": "bottom",
          "yref": "paper"
         },
         {
          "font": {
           "size": 16
          },
          "showarrow": false,
          "text": "Deaths",
          "x": 0.5,
          "xanchor": "center",
          "xref": "paper",
          "y": 0.6111111111111112,
          "yanchor": "bottom",
          "yref": "paper"
         },
         {
          "font": {
           "size": 16
          },
          "showarrow": false,
          "text": "Reproduction Number",
          "x": 0.5,
          "xanchor": "center",
          "xref": "paper",
          "y": 0.22222222222222224,
          "yanchor": "bottom",
          "yref": "paper"
         }
        ],
        "height": 900,
        "legend": {
         "orientation": "h",
         "x": 1,
         "xanchor": "right",
         "y": 1.075,
         "yanchor": "bottom"
        },
        "plot_bgcolor": "white",
        "template": {
         "data": {
          "bar": [
           {
            "error_x": {
             "color": "#2a3f5f"
            },
            "error_y": {
             "color": "#2a3f5f"
            },
            "marker": {
             "line": {
              "color": "#E5ECF6",
              "width": 0.5
             },
             "pattern": {
              "fillmode": "overlay",
              "size": 10,
              "solidity": 0.2
             }
            },
            "type": "bar"
           }
          ],
          "barpolar": [
           {
            "marker": {
             "line": {
              "color": "#E5ECF6",
              "width": 0.5
             },
             "pattern": {
              "fillmode": "overlay",
              "size": 10,
              "solidity": 0.2
             }
            },
            "type": "barpolar"
           }
          ],
          "carpet": [
           {
            "aaxis": {
             "endlinecolor": "#2a3f5f",
             "gridcolor": "white",
             "linecolor": "white",
             "minorgridcolor": "white",
             "startlinecolor": "#2a3f5f"
            },
            "baxis": {
             "endlinecolor": "#2a3f5f",
             "gridcolor": "white",
             "linecolor": "white",
             "minorgridcolor": "white",
             "startlinecolor": "#2a3f5f"
            },
            "type": "carpet"
           }
          ],
          "choropleth": [
           {
            "colorbar": {
             "outlinewidth": 0,
             "ticks": ""
            },
            "type": "choropleth"
           }
          ],
          "contour": [
           {
            "colorbar": {
             "outlinewidth": 0,
             "ticks": ""
            },
            "colorscale": [
             [
              0,
              "#0d0887"
             ],
             [
              0.1111111111111111,
              "#46039f"
             ],
             [
              0.2222222222222222,
              "#7201a8"
             ],
             [
              0.3333333333333333,
              "#9c179e"
             ],
             [
              0.4444444444444444,
              "#bd3786"
             ],
             [
              0.5555555555555556,
              "#d8576b"
             ],
             [
              0.6666666666666666,
              "#ed7953"
             ],
             [
              0.7777777777777778,
              "#fb9f3a"
             ],
             [
              0.8888888888888888,
              "#fdca26"
             ],
             [
              1,
              "#f0f921"
             ]
            ],
            "type": "contour"
           }
          ],
          "contourcarpet": [
           {
            "colorbar": {
             "outlinewidth": 0,
             "ticks": ""
            },
            "type": "contourcarpet"
           }
          ],
          "heatmap": [
           {
            "colorbar": {
             "outlinewidth": 0,
             "ticks": ""
            },
            "colorscale": [
             [
              0,
              "#0d0887"
             ],
             [
              0.1111111111111111,
              "#46039f"
             ],
             [
              0.2222222222222222,
              "#7201a8"
             ],
             [
              0.3333333333333333,
              "#9c179e"
             ],
             [
              0.4444444444444444,
              "#bd3786"
             ],
             [
              0.5555555555555556,
              "#d8576b"
             ],
             [
              0.6666666666666666,
              "#ed7953"
             ],
             [
              0.7777777777777778,
              "#fb9f3a"
             ],
             [
              0.8888888888888888,
              "#fdca26"
             ],
             [
              1,
              "#f0f921"
             ]
            ],
            "type": "heatmap"
           }
          ],
          "heatmapgl": [
           {
            "colorbar": {
             "outlinewidth": 0,
             "ticks": ""
            },
            "colorscale": [
             [
              0,
              "#0d0887"
             ],
             [
              0.1111111111111111,
              "#46039f"
             ],
             [
              0.2222222222222222,
              "#7201a8"
             ],
             [
              0.3333333333333333,
              "#9c179e"
             ],
             [
              0.4444444444444444,
              "#bd3786"
             ],
             [
              0.5555555555555556,
              "#d8576b"
             ],
             [
              0.6666666666666666,
              "#ed7953"
             ],
             [
              0.7777777777777778,
              "#fb9f3a"
             ],
             [
              0.8888888888888888,
              "#fdca26"
             ],
             [
              1,
              "#f0f921"
             ]
            ],
            "type": "heatmapgl"
           }
          ],
          "histogram": [
           {
            "marker": {
             "pattern": {
              "fillmode": "overlay",
              "size": 10,
              "solidity": 0.2
             }
            },
            "type": "histogram"
           }
          ],
          "histogram2d": [
           {
            "colorbar": {
             "outlinewidth": 0,
             "ticks": ""
            },
            "colorscale": [
             [
              0,
              "#0d0887"
             ],
             [
              0.1111111111111111,
              "#46039f"
             ],
             [
              0.2222222222222222,
              "#7201a8"
             ],
             [
              0.3333333333333333,
              "#9c179e"
             ],
             [
              0.4444444444444444,
              "#bd3786"
             ],
             [
              0.5555555555555556,
              "#d8576b"
             ],
             [
              0.6666666666666666,
              "#ed7953"
             ],
             [
              0.7777777777777778,
              "#fb9f3a"
             ],
             [
              0.8888888888888888,
              "#fdca26"
             ],
             [
              1,
              "#f0f921"
             ]
            ],
            "type": "histogram2d"
           }
          ],
          "histogram2dcontour": [
           {
            "colorbar": {
             "outlinewidth": 0,
             "ticks": ""
            },
            "colorscale": [
             [
              0,
              "#0d0887"
             ],
             [
              0.1111111111111111,
              "#46039f"
             ],
             [
              0.2222222222222222,
              "#7201a8"
             ],
             [
              0.3333333333333333,
              "#9c179e"
             ],
             [
              0.4444444444444444,
              "#bd3786"
             ],
             [
              0.5555555555555556,
              "#d8576b"
             ],
             [
              0.6666666666666666,
              "#ed7953"
             ],
             [
              0.7777777777777778,
              "#fb9f3a"
             ],
             [
              0.8888888888888888,
              "#fdca26"
             ],
             [
              1,
              "#f0f921"
             ]
            ],
            "type": "histogram2dcontour"
           }
          ],
          "mesh3d": [
           {
            "colorbar": {
             "outlinewidth": 0,
             "ticks": ""
            },
            "type": "mesh3d"
           }
          ],
          "parcoords": [
           {
            "line": {
             "colorbar": {
              "outlinewidth": 0,
              "ticks": ""
             }
            },
            "type": "parcoords"
           }
          ],
          "pie": [
           {
            "automargin": true,
            "type": "pie"
           }
          ],
          "scatter": [
           {
            "marker": {
             "colorbar": {
              "outlinewidth": 0,
              "ticks": ""
             }
            },
            "type": "scatter"
           }
          ],
          "scatter3d": [
           {
            "line": {
             "colorbar": {
              "outlinewidth": 0,
              "ticks": ""
             }
            },
            "marker": {
             "colorbar": {
              "outlinewidth": 0,
              "ticks": ""
             }
            },
            "type": "scatter3d"
           }
          ],
          "scattercarpet": [
           {
            "marker": {
             "colorbar": {
              "outlinewidth": 0,
              "ticks": ""
             }
            },
            "type": "scattercarpet"
           }
          ],
          "scattergeo": [
           {
            "marker": {
             "colorbar": {
              "outlinewidth": 0,
              "ticks": ""
             }
            },
            "type": "scattergeo"
           }
          ],
          "scattergl": [
           {
            "marker": {
             "colorbar": {
              "outlinewidth": 0,
              "ticks": ""
             }
            },
            "type": "scattergl"
           }
          ],
          "scattermapbox": [
           {
            "marker": {
             "colorbar": {
              "outlinewidth": 0,
              "ticks": ""
             }
            },
            "type": "scattermapbox"
           }
          ],
          "scatterpolar": [
           {
            "marker": {
             "colorbar": {
              "outlinewidth": 0,
              "ticks": ""
             }
            },
            "type": "scatterpolar"
           }
          ],
          "scatterpolargl": [
           {
            "marker": {
             "colorbar": {
              "outlinewidth": 0,
              "ticks": ""
             }
            },
            "type": "scatterpolargl"
           }
          ],
          "scatterternary": [
           {
            "marker": {
             "colorbar": {
              "outlinewidth": 0,
              "ticks": ""
             }
            },
            "type": "scatterternary"
           }
          ],
          "surface": [
           {
            "colorbar": {
             "outlinewidth": 0,
             "ticks": ""
            },
            "colorscale": [
             [
              0,
              "#0d0887"
             ],
             [
              0.1111111111111111,
              "#46039f"
             ],
             [
              0.2222222222222222,
              "#7201a8"
             ],
             [
              0.3333333333333333,
              "#9c179e"
             ],
             [
              0.4444444444444444,
              "#bd3786"
             ],
             [
              0.5555555555555556,
              "#d8576b"
             ],
             [
              0.6666666666666666,
              "#ed7953"
             ],
             [
              0.7777777777777778,
              "#fb9f3a"
             ],
             [
              0.8888888888888888,
              "#fdca26"
             ],
             [
              1,
              "#f0f921"
             ]
            ],
            "type": "surface"
           }
          ],
          "table": [
           {
            "cells": {
             "fill": {
              "color": "#EBF0F8"
             },
             "line": {
              "color": "white"
             }
            },
            "header": {
             "fill": {
              "color": "#C8D4E3"
             },
             "line": {
              "color": "white"
             }
            },
            "type": "table"
           }
          ]
         },
         "layout": {
          "annotationdefaults": {
           "arrowcolor": "#2a3f5f",
           "arrowhead": 0,
           "arrowwidth": 1
          },
          "autotypenumbers": "strict",
          "coloraxis": {
           "colorbar": {
            "outlinewidth": 0,
            "ticks": ""
           }
          },
          "colorscale": {
           "diverging": [
            [
             0,
             "#8e0152"
            ],
            [
             0.1,
             "#c51b7d"
            ],
            [
             0.2,
             "#de77ae"
            ],
            [
             0.3,
             "#f1b6da"
            ],
            [
             0.4,
             "#fde0ef"
            ],
            [
             0.5,
             "#f7f7f7"
            ],
            [
             0.6,
             "#e6f5d0"
            ],
            [
             0.7,
             "#b8e186"
            ],
            [
             0.8,
             "#7fbc41"
            ],
            [
             0.9,
             "#4d9221"
            ],
            [
             1,
             "#276419"
            ]
           ],
           "sequential": [
            [
             0,
             "#0d0887"
            ],
            [
             0.1111111111111111,
             "#46039f"
            ],
            [
             0.2222222222222222,
             "#7201a8"
            ],
            [
             0.3333333333333333,
             "#9c179e"
            ],
            [
             0.4444444444444444,
             "#bd3786"
            ],
            [
             0.5555555555555556,
             "#d8576b"
            ],
            [
             0.6666666666666666,
             "#ed7953"
            ],
            [
             0.7777777777777778,
             "#fb9f3a"
            ],
            [
             0.8888888888888888,
             "#fdca26"
            ],
            [
             1,
             "#f0f921"
            ]
           ],
           "sequentialminus": [
            [
             0,
             "#0d0887"
            ],
            [
             0.1111111111111111,
             "#46039f"
            ],
            [
             0.2222222222222222,
             "#7201a8"
            ],
            [
             0.3333333333333333,
             "#9c179e"
            ],
            [
             0.4444444444444444,
             "#bd3786"
            ],
            [
             0.5555555555555556,
             "#d8576b"
            ],
            [
             0.6666666666666666,
             "#ed7953"
            ],
            [
             0.7777777777777778,
             "#fb9f3a"
            ],
            [
             0.8888888888888888,
             "#fdca26"
            ],
            [
             1,
             "#f0f921"
            ]
           ]
          },
          "colorway": [
           "#636efa",
           "#EF553B",
           "#00cc96",
           "#ab63fa",
           "#FFA15A",
           "#19d3f3",
           "#FF6692",
           "#B6E880",
           "#FF97FF",
           "#FECB52"
          ],
          "font": {
           "color": "#2a3f5f"
          },
          "geo": {
           "bgcolor": "white",
           "lakecolor": "white",
           "landcolor": "#E5ECF6",
           "showlakes": true,
           "showland": true,
           "subunitcolor": "white"
          },
          "hoverlabel": {
           "align": "left"
          },
          "hovermode": "closest",
          "mapbox": {
           "style": "light"
          },
          "paper_bgcolor": "white",
          "plot_bgcolor": "#E5ECF6",
          "polar": {
           "angularaxis": {
            "gridcolor": "white",
            "linecolor": "white",
            "ticks": ""
           },
           "bgcolor": "#E5ECF6",
           "radialaxis": {
            "gridcolor": "white",
            "linecolor": "white",
            "ticks": ""
           }
          },
          "scene": {
           "xaxis": {
            "backgroundcolor": "#E5ECF6",
            "gridcolor": "white",
            "gridwidth": 2,
            "linecolor": "white",
            "showbackground": true,
            "ticks": "",
            "zerolinecolor": "white"
           },
           "yaxis": {
            "backgroundcolor": "#E5ECF6",
            "gridcolor": "white",
            "gridwidth": 2,
            "linecolor": "white",
            "showbackground": true,
            "ticks": "",
            "zerolinecolor": "white"
           },
           "zaxis": {
            "backgroundcolor": "#E5ECF6",
            "gridcolor": "white",
            "gridwidth": 2,
            "linecolor": "white",
            "showbackground": true,
            "ticks": "",
            "zerolinecolor": "white"
           }
          },
          "shapedefaults": {
           "line": {
            "color": "#2a3f5f"
           }
          },
          "ternary": {
           "aaxis": {
            "gridcolor": "white",
            "linecolor": "white",
            "ticks": ""
           },
           "baxis": {
            "gridcolor": "white",
            "linecolor": "white",
            "ticks": ""
           },
           "bgcolor": "#E5ECF6",
           "caxis": {
            "gridcolor": "white",
            "linecolor": "white",
            "ticks": ""
           }
          },
          "title": {
           "x": 0.05
          },
          "xaxis": {
           "automargin": true,
           "gridcolor": "white",
           "linecolor": "white",
           "ticks": "",
           "title": {
            "standoff": 15
           },
           "zerolinecolor": "white",
           "zerolinewidth": 2
          },
          "yaxis": {
           "automargin": true,
           "gridcolor": "white",
           "linecolor": "white",
           "ticks": "",
           "title": {
            "standoff": 15
           },
           "zerolinecolor": "white",
           "zerolinewidth": 2
          }
         }
        },
        "width": 600,
        "xaxis": {
         "anchor": "y",
         "domain": [
          0,
          1
         ],
         "linecolor": "black",
         "ticktext": [
          "Feb 15",
          "Feb 25",
          "Mar 06",
          "Mar 16",
          "Mar 26",
          "Apr 05",
          "Apr 15",
          "Apr 25",
          "May 05",
          "May 15",
          "May 25",
          "Jun 04",
          "Jun 14",
          "Jun 24"
         ],
         "tickvals": [
          1,
          11,
          21,
          31,
          41,
          51,
          61,
          71,
          81,
          91,
          101,
          111,
          121,
          131
         ]
        },
        "xaxis2": {
         "anchor": "y2",
         "domain": [
          0,
          1
         ],
         "linecolor": "black",
         "ticktext": [
          "Feb 15",
          "Feb 25",
          "Mar 06",
          "Mar 16",
          "Mar 26",
          "Apr 05",
          "Apr 15",
          "Apr 25",
          "May 05",
          "May 15",
          "May 25",
          "Jun 04",
          "Jun 14",
          "Jun 24"
         ],
         "tickvals": [
          1,
          11,
          21,
          31,
          41,
          51,
          61,
          71,
          81,
          91,
          101,
          111,
          121,
          131
         ]
        },
        "xaxis3": {
         "anchor": "y3",
         "domain": [
          0,
          1
         ],
         "linecolor": "black",
         "ticktext": [
          "Feb 15",
          "Feb 25",
          "Mar 06",
          "Mar 16",
          "Mar 26",
          "Apr 05",
          "Apr 15",
          "Apr 25",
          "May 05",
          "May 15",
          "May 25",
          "Jun 04",
          "Jun 14",
          "Jun 24"
         ],
         "tickvals": [
          1,
          11,
          21,
          31,
          41,
          51,
          61,
          71,
          81,
          91,
          101,
          111,
          121,
          131
         ]
        },
        "yaxis": {
         "anchor": "x",
         "domain": [
          0.7777777777777778,
          1
         ],
         "linecolor": "black"
        },
        "yaxis2": {
         "anchor": "x2",
         "domain": [
          0.3888888888888889,
          0.6111111111111112
         ],
         "linecolor": "black"
        },
        "yaxis3": {
         "anchor": "x3",
         "domain": [
          0,
          0.22222222222222224
         ],
         "linecolor": "black"
        }
       }
      }
     },
     "metadata": {},
     "output_type": "display_data"
    }
   ],
   "source": [
    "# Trace names - represent the solver used for the simulation\n",
    "trace_name = regions\n",
    "titles = ['Infections', 'Deaths', 'Reproduction Number']\n",
    "\n",
    "fig = go.Figure()\n",
    "fig = make_subplots(rows=len(titles), cols=1, subplot_titles=tuple(titles), horizontal_spacing = 0.15)\n",
    "\n",
    "# Plot (continuous predicted timeline and pointwise observed numbers each day)\n",
    "for r, region in enumerate(regions):\n",
    "    # Plot of infections\n",
    "    fig.add_trace(\n",
    "        go.Scatter(\n",
    "            x=times,\n",
    "            y=new_infec_pred[r].tolist(),\n",
    "            mode='lines',\n",
    "            name=trace_name[r],\n",
    "            line_color=colours[r]\n",
    "        ),\n",
    "        row= 1,\n",
    "        col= 1\n",
    "    )\n",
    "\n",
    "    fig.add_trace(\n",
    "        go.Scatter(\n",
    "            x=serology_times,\n",
    "            y=np.sum(np.multiply(np.nan_to_num(np.divide(positives_data[r], tests[r])), susceptibles[r]), axis=1).tolist(),\n",
    "            mode='markers',\n",
    "            name=trace_name[r],\n",
    "            showlegend=False,\n",
    "            line_color=colours[r]\n",
    "        ),\n",
    "        row= 1,\n",
    "        col= 1\n",
    "    )\n",
    "\n",
    "    # Plot deaths\n",
    "    fig.add_trace(\n",
    "        go.Scatter(\n",
    "            x=times,\n",
    "            y=deaths_pred[r].tolist(),\n",
    "            mode='lines',\n",
    "            name=trace_name[r],\n",
    "            showlegend=False,\n",
    "            line_color=colours[r]\n",
    "        ),\n",
    "        row= 2,\n",
    "        col= 1\n",
    "    )\n",
    "\n",
    "    fig.add_trace(\n",
    "        go.Scatter(\n",
    "            x=deaths_times,\n",
    "            y=np.sum(deaths_data[r], axis=1).tolist(),\n",
    "            mode='markers',\n",
    "            name=trace_name[r],\n",
    "            showlegend=False,\n",
    "            line_color=colours[r]\n",
    "        ),\n",
    "        row= 2,\n",
    "        col= 1\n",
    "    )\n",
    "\n",
    "    # Plot reproduction number\n",
    "    #fig.add_trace(\n",
    "    #    go.Scatter(\n",
    "    #        x=times,\n",
    "    #        y=reprod_num_pred[r].tolist(),\n",
    "    #        mode='lines',\n",
    "    #        name=trace_name[r],\n",
    "    #        showlegend=False,\n",
    "    #        line_color=colours[r]\n",
    "    #    ),\n",
    "    #    row= 3,\n",
    "    #    col= 1\n",
    "    #)\n",
    "\n",
    "# Add axis labels\n",
    "fig.update_layout(\n",
    "    width=600, \n",
    "    height=900,\n",
    "    plot_bgcolor='white',\n",
    "    xaxis=dict(\n",
    "        linecolor='black',\n",
    "        tickvals=np.arange(1, total_days, 10).tolist(),\n",
    "        ticktext=['Feb 15', 'Feb 25', 'Mar 06', 'Mar 16', 'Mar 26', 'Apr 05', 'Apr 15', 'Apr 25', 'May 05', 'May 15', 'May 25', 'Jun 04', 'Jun 14', 'Jun 24']),\n",
    "    yaxis=dict(linecolor='black'),\n",
    "    xaxis2=dict(\n",
    "        linecolor='black',\n",
    "        tickvals=np.arange(1, total_days, 10).tolist(),\n",
    "        ticktext=['Feb 15', 'Feb 25', 'Mar 06', 'Mar 16', 'Mar 26', 'Apr 05', 'Apr 15', 'Apr 25', 'May 05', 'May 15', 'May 25', 'Jun 04', 'Jun 14', 'Jun 24']),\n",
    "    yaxis2=dict(linecolor='black'),\n",
    "    xaxis3=dict(\n",
    "        linecolor='black',\n",
    "        tickvals=np.arange(1, total_days, 10).tolist(),\n",
    "        ticktext=['Feb 15', 'Feb 25', 'Mar 06', 'Mar 16', 'Mar 26', 'Apr 05', 'Apr 15', 'Apr 25', 'May 05', 'May 15', 'May 25', 'Jun 04', 'Jun 14', 'Jun 24']),\n",
    "    yaxis3=dict(linecolor='black'),\n",
    "    legend=dict(\n",
    "        orientation='h',\n",
    "        yanchor=\"bottom\",\n",
    "        y=1.075,\n",
    "        xanchor=\"right\",\n",
    "        x=1)\n",
    "    )\n",
    "\n",
    "fig.write_image('images/Figure-3-optimisation.pdf')\n",
    "fig.show()"
   ]
  },
  {
   "cell_type": "code",
   "execution_count": 15,
   "metadata": {},
   "outputs": [
    {
     "data": {
      "text/plain": [
       "<matplotlib.collections.PathCollection at 0x7ff33a90c520>"
      ]
     },
     "execution_count": 15,
     "metadata": {},
     "output_type": "execute_result"
    },
    {
     "data": {
      "image/png": "[encoded data removed]",
      "text/plain": [
       "<Figure size 432x288 with 1 Axes>"
      ]
     },
     "metadata": {
      "needs_background": "light"
     },
     "output_type": "display_data"
    }
   ],
   "source": [
    "plt.plot(model.actual_deaths)\n",
    "plt.scatter(deaths_times, np.sum(deaths_data[r], axis=1).tolist()[:len(deaths_times)])"
   ]
  },
  {
   "cell_type": "code",
   "execution_count": 16,
   "metadata": {},
   "outputs": [],
   "source": [
    "p_after = parameters()"
   ]
  },
  {
   "cell_type": "code",
   "execution_count": 17,
   "metadata": {},
   "outputs": [],
   "source": [
    "roche_optimisation.ll(found)\n",
    "p = roche_optimisation.ll._parameters\n",
    "p_found = list(deepflatten(p, ignore=str))"
   ]
  },
  {
   "cell_type": "code",
   "execution_count": 18,
   "metadata": {},
   "outputs": [
    {
     "name": "stdout",
     "output_type": "stream",
     "text": [
      "1 1\n",
      "53565 53565\n",
      "237359 237359\n",
      "641486 641486\n",
      "635602 635602\n",
      "1304264 1304264\n",
      "1499291 1499291\n",
      "668999 668999\n",
      "584130 584130\n",
      "0.0 0.0\n",
      "0.0 0.0\n",
      "0.0 0.0\n",
      "0.0 0.0\n",
      "0.0 0.0\n",
      "0.0 0.0\n",
      "0.0 0.0\n",
      "0.0 0.0\n",
      "15.472367121216188 15.472367121216188\n",
      "15.472367121216188 15.472367121216188\n",
      "15.472367121216188 15.472367121216188\n",
      "15.472367121216188 15.472367121216188\n",
      "15.472367121216188 15.472367121216188\n",
      "15.472367121216188 15.472367121216188\n",
      "15.472367121216188 15.472367121216188\n",
      "15.472367121216188 15.472367121216188\n",
      "0.0 0.0\n",
      "0.0 0.0\n",
      "0.0 0.0\n",
      "0.0 0.0\n",
      "0.0 0.0\n",
      "0.0 0.0\n",
      "0.0 0.0\n",
      "0.0 0.0\n",
      "0.0 0.0\n",
      "0.0 0.0\n",
      "0.0 0.0\n",
      "0.0 0.0\n",
      "0.0 0.0\n",
      "0.0 0.0\n",
      "0.0 0.0\n",
      "0.0 0.0\n",
      "29.527632878783812 29.527632878783812\n",
      "29.527632878783812 29.527632878783812\n",
      "29.527632878783812 29.527632878783812\n",
      "29.527632878783812 29.527632878783812\n",
      "29.527632878783812 29.527632878783812\n",
      "29.527632878783812 29.527632878783812\n",
      "29.527632878783812 29.527632878783812\n",
      "29.527632878783812 29.527632878783812\n",
      "0.0 0.0\n",
      "0.0 0.0\n",
      "0.0 0.0\n",
      "0.0 0.0\n",
      "0.0 0.0\n",
      "0.0 0.0\n",
      "0.0 0.0\n",
      "0.0 0.0\n",
      "0.0 0.0\n",
      "0.0 0.0\n",
      "0.0 0.0\n",
      "0.0 0.0\n",
      "0.0 0.0\n",
      "0.0 0.0\n",
      "0.0 0.0\n",
      "0.0 0.0\n",
      "0.0 0.0\n",
      "0.0 0.0\n",
      "0.0 0.0\n",
      "0.0 0.0\n",
      "0.0 0.0\n",
      "0.0 0.0\n",
      "0.0 0.0\n",
      "0.0 0.0\n",
      "0.0 0.0\n",
      "0.0 0.0\n",
      "0.0 0.0\n",
      "0.0 0.0\n",
      "0.0 0.0\n",
      "0.0 0.0\n",
      "0.0 0.0\n",
      "0.0 0.0\n",
      "0.0 0.0\n",
      "0.0 0.0\n",
      "0.0 0.0\n",
      "0.0 0.0\n",
      "0.0 0.0\n",
      "0.0 0.0\n",
      "0.0 0.0\n",
      "0.0 0.0\n",
      "0.0 0.0\n",
      "0.0 0.0\n",
      "0.0 0.0\n",
      "0.0 0.0\n",
      "0.0 0.0\n",
      "0.0 0.0\n",
      "0.0 0.0\n",
      "0.0 0.0\n",
      "1.25 1.25\n",
      "4.28 4.28\n",
      "1 1\n",
      "9.0 9.0\n",
      "9.0 9.0\n",
      "9.0 9.0\n",
      "9.0 9.0\n",
      "9.0 9.0\n",
      "9.0 9.0\n",
      "9.0 9.0\n",
      "9.0 9.0\n",
      "10.0 10.0\n",
      "10.0 10.0\n",
      "10.0 10.0\n",
      "10.0 10.0\n",
      "10.0 10.0\n",
      "10.0 10.0\n",
      "10.0 10.0\n",
      "10.0 10.0\n",
      "0.716 0.716\n",
      "0.716 0.716\n",
      "0.716 0.716\n",
      "0.716 0.716\n",
      "0.716 0.716\n",
      "0.716 0.716\n",
      "0.716 0.716\n",
      "0.716 0.716\n",
      "0.106 0.106\n",
      "6.061119812054538e-05 6.061119812054538e-05\n",
      "0.38491889061352713 0.38491889061352713\n",
      "5.027710785271772e-05 5.027710785271772e-05\n",
      "0.0003057998117973646 0.0003057998117973646\n",
      "0.0009465920059900632 0.0009465920059900632\n",
      "0.9993059590827448 0.9993059590827448\n",
      "0.00040450770313245734 0.00040450770313245734\n",
      "0.2965494500423809 0.2965494500423809\n",
      "2.6551184044360156e-05 2.6551184044360156e-05\n",
      "2.136813418472615 2.136813418472615\n",
      "4.800927703141166 4.800927703141166\n",
      "1 1\n",
      "6 6\n",
      "RK45 RK45\n"
     ]
    }
   ],
   "source": [
    "for p1, p2 in zip(p_after, p_found):\n",
    "    print(p1, p2)"
   ]
  }
 ],
 "metadata": {
  "interpreter": {
   "hash": "684a6128a123c6817f5879bd443c804f1ae947106cccd5e393ee42f0caf0d347"
  },
  "kernelspec": {
   "display_name": "Python 3.8.8 64-bit ('base': conda)",
   "name": "python3"
  },
  "language_info": {
   "codemirror_mode": {
    "name": "ipython",
    "version": 3
   },
   "file_extension": ".py",
   "mimetype": "text/x-python",
   "name": "python",
   "nbconvert_exporter": "python",
   "pygments_lexer": "ipython3",
   "version": "3.8.8"
  },
  "orig_nbformat": 4
 },
 "nbformat": 4,
 "nbformat_minor": 2
}

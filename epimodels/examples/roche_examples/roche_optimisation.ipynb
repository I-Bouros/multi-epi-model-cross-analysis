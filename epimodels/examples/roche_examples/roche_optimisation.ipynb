{
 "cells": [
  {
   "cell_type": "markdown",
   "metadata": {},
   "source": [
    "# Roche SEIRD Model Optimisation\n",
    "\n",
    "In this notebook we present how to use the `epimodels` module to perform parameter optimisation for the  parameters specified by the Roche model, using time-dependent region-specific contact matrices.\n",
    "\n",
    "The analysis is run for:\n",
    " - Dates: **15 Feb 2020** - **25 June 2020**;\n",
    " - PHE s of interest: **London**.\n",
    "\n",
    "We use realistic serology and mortality data extracted from the REACT survey and GOV.UK data.\n",
    "\n",
    "*The Roche model is built by F. Hoffmann-La Roche Ltd.*"
   ]
  },
  {
   "cell_type": "code",
   "execution_count": 1,
   "metadata": {},
   "outputs": [],
   "source": [
    "# Load necessary libraries\n",
    "import os\n",
    "import numpy as np\n",
    "import pandas as pd\n",
    "from scipy.stats import gamma, nbinom, norm\n",
    "import epimodels as em\n",
    "import matplotlib\n",
    "import plotly.graph_objects as go\n",
    "import plotly.express as px\n",
    "from matplotlib import pyplot as plt\n",
    "from iteration_utilities import deepflatten\n",
    "\n",
    "# Set random seed\n",
    "np.random.seed(28)"
   ]
  },
  {
   "cell_type": "markdown",
   "metadata": {},
   "source": [
    "## Model Setup\n",
    "### Define setup matrices for the Roche Model"
   ]
  },
  {
   "cell_type": "code",
   "execution_count": 2,
   "metadata": {},
   "outputs": [],
   "source": [
    "# Populate the model\n",
    "total_days =  132\n",
    "regions = ['London']\n",
    "age_groups = ['0-1', '1-5', '5-15', '15-25', '25-45', '45-65', '65-75', '75+']\n",
    "\n",
    "weeks = list(range(1,int(np.ceil(total_days/7))+1))\n",
    "matrices_region = []\n",
    "\n",
    "### Variable\n",
    "## Initial state of the system\n",
    "# for w in weeks:\n",
    "#     weeks_matrices_region = []\n",
    "#     for r in regions:\n",
    "#         path = os.path.join('../../data/final_contact_matrices/{}_W{}.csv'.format(r, w))\n",
    "#         region_data_matrix = pd.read_csv(path, header=None, dtype=np.float64)\n",
    "#         regional = em.RegionMatrix(r, age_groups, region_data_matrix)\n",
    "#         weeks_matrices_region.append(regional)\n",
    "\n",
    "#     matrices_region.append(weeks_matrices_region)\n",
    "\n",
    "# contacts = em.ContactMatrix(age_groups, np.ones((len(age_groups), len(age_groups))))\n",
    "# matrices_contact = [contacts]\n",
    "\n",
    "## Matrices contact\n",
    "# time_changes_contact = [1]\n",
    "# time_changes_region = np.arange(1, total_days+1, 7).tolist()\n",
    "\n",
    "### Fixed\n",
    "# Initial state of the system\n",
    "weeks_matrices_region = []\n",
    "for r in regions:\n",
    "    path = os.path.join('../../data/final_contact_matrices/BASE.csv')\n",
    "    region_data_matrix = pd.read_csv(path, header=None, dtype=np.float64)\n",
    "    regional = em.RegionMatrix(r, age_groups, region_data_matrix)\n",
    "    weeks_matrices_region.append(regional)\n",
    "\n",
    "matrices_region.append(weeks_matrices_region)\n",
    "\n",
    "contacts = em.ContactMatrix(age_groups, np.ones((len(age_groups), len(age_groups))))\n",
    "matrices_contact = [contacts]\n",
    "\n",
    "# Matrices contact\n",
    "time_changes_contact = [1]\n",
    "time_changes_region = [1]\n",
    "\n",
    "# NPIs data\n",
    "max_levels_npi = [3, 3, 2, 4, 2, 3, 2, 4, 2]\n",
    "targeted_npi = [True, True, True, True, True, True, True, False, True]\n",
    "path = os.path.join('../../data/npi_data/')\n",
    "general_npi = np.loadtxt(os.path.join(path, 'uk_flags.csv'), dtype=bool, delimiter=',').tolist()\n",
    "time_changes_flag = np.loadtxt(os.path.join(path, 'times_flags.csv'), dtype=int, delimiter=',').tolist()\n",
    "\n",
    "reg_levels_npi = [np.loadtxt(os.path.join(path, 'uk_npis.csv'), dtype=int, delimiter=',').tolist()]\n",
    "time_changes_npi = np.loadtxt(os.path.join(path, 'times_npis.csv'), dtype=int, delimiter=',').tolist()"
   ]
  },
  {
   "cell_type": "markdown",
   "metadata": {},
   "source": [
    "### Set the parameters and initial conditions of the model and bundle everything together"
   ]
  },
  {
   "cell_type": "code",
   "execution_count": 3,
   "metadata": {},
   "outputs": [],
   "source": [
    "# Instantiate model\n",
    "model = em.RocheSEIRModel()\n",
    "\n",
    "# Set the region names, contact and regional data of the model\n",
    "model.set_regions(regions)\n",
    "model.set_age_groups(age_groups)\n",
    "model.read_contact_data(matrices_contact, time_changes_contact)\n",
    "model.read_regional_data(matrices_region, time_changes_region)\n",
    "model.read_npis_data(max_levels_npi, targeted_npi, general_npi, reg_levels_npi, time_changes_npi, time_changes_flag)\n",
    "\n",
    "# Initial number of susceptibles\n",
    "path = os.path.join('../../data/england_population/England_population.csv')\n",
    "total_susceptibles = np.loadtxt(path, dtype=int, delimiter=',').tolist()\n",
    "susceptibles = []\n",
    "susceptibles.append(total_susceptibles[-1])\n",
    "\n",
    "# Initial number of infectives\n",
    "ICs_multiplier = [10000, 5000]\n",
    "infectives_pre = (ICs_multiplier[0] * np.ones((len(regions), len(age_groups)))).tolist()\n",
    "infectives_pre_ss = (ICs_multiplier[1] * np.ones((len(regions), len(age_groups)))).tolist()\n",
    "\n",
    "infectives = (np.array(infectives_pre) + np.array(infectives_pre_ss)).tolist()\n",
    "\n",
    "# List of times at which we wish to evaluate the states of the compartments of the model\n",
    "times = np.arange(1, total_days+1, 1).tolist()"
   ]
  },
  {
   "cell_type": "code",
   "execution_count": 4,
   "metadata": {},
   "outputs": [],
   "source": [
    "# Set ICs parameters\n",
    "ICs = em.RocheICs(\n",
    "    model=model,\n",
    "    susceptibles_IC=susceptibles,\n",
    "    exposed_IC=np.zeros((len(regions), len(age_groups))).tolist(),\n",
    "    infectives_pre_IC=infectives_pre,\n",
    "    infectives_asym_IC=np.zeros((len(regions), len(age_groups))).tolist(),\n",
    "    infectives_sym_IC=np.zeros((len(regions), len(age_groups))).tolist(),\n",
    "    infectives_pre_ss_IC=infectives_pre_ss,\n",
    "    infectives_asym_ss_IC=np.zeros((len(regions), len(age_groups))).tolist(),\n",
    "    infectives_sym_ss_IC=np.zeros((len(regions), len(age_groups))).tolist(),\n",
    "    infectives_q_IC=np.zeros((len(regions), len(age_groups))).tolist(),\n",
    "    recovered_IC=np.zeros((len(regions), len(age_groups))).tolist(),\n",
    "    recovered_asym_IC=np.zeros((len(regions), len(age_groups))).tolist(),\n",
    "    dead_IC=np.zeros((len(regions), len(age_groups))).tolist()\n",
    ")\n",
    "\n",
    "# Set average times in compartments\n",
    "compartment_times = em.RocheCompartmentTimes(\n",
    "    model=model,\n",
    "    k=4.5,\n",
    "    kS=1,\n",
    "    kQ=1,\n",
    "    kR=9,\n",
    "    kRI=10\n",
    ")\n",
    "\n",
    "# Set proportion of asymptomatic, super-spreader and dead cases\n",
    "proportion_parameters = em.RocheProportions(\n",
    "    model=model,\n",
    "    Pa = 0.716,\n",
    "    Pss = 0.106,\n",
    "    Pd = 0.05\n",
    ")\n",
    "\n",
    "# Set transmission parameters\n",
    "transmission_parameters = em.RocheTransmission(\n",
    "    model=model,\n",
    "    beta_min=0.228,\n",
    "    beta_max=2.63,\n",
    "    bss=3.11,\n",
    "    gamma=0.5,\n",
    "    s50=51.5\n",
    ")\n",
    "\n",
    "# Set other simulation parameters\n",
    "simulation_parameters = em.RocheSimParameters(\n",
    "    model=model,\n",
    "    region_index=1,\n",
    "    method='RK45',\n",
    "    times=times\n",
    ")\n",
    "\n",
    "# Set all parameters in the controller\n",
    "parameters = em.RocheParametersController(\n",
    "    model=model,\n",
    "    ICs=ICs,\n",
    "    compartment_times=compartment_times,\n",
    "    proportion_parameters=proportion_parameters,\n",
    "    transmission_parameters=transmission_parameters,\n",
    "    simulation_parameters=simulation_parameters\n",
    ")"
   ]
  },
  {
   "cell_type": "markdown",
   "metadata": {},
   "source": [
    "## Read Death and Serology data"
   ]
  },
  {
   "cell_type": "code",
   "execution_count": 5,
   "metadata": {},
   "outputs": [],
   "source": [
    "# Read in death and positive data from external files\n",
    "deaths_data = []\n",
    "positives_data = []\n",
    "tests = []\n",
    "\n",
    "for region in regions:\n",
    "    deaths_data.append(np.loadtxt('../../data/death_data/{}_deaths.csv'.format(region), dtype=int, delimiter=','))\n",
    "    positives_data.append(np.loadtxt('../../data/serology_data/{}_positives_nhs.csv'.format(region), dtype=int, delimiter=','))\n",
    "    tests.append(np.loadtxt('../../data/serology_data/{}_tests_nhs.csv'.format(region), dtype=int, delimiter=','))"
   ]
  },
  {
   "cell_type": "code",
   "execution_count": 6,
   "metadata": {},
   "outputs": [],
   "source": [
    "# Select the time points for which the death and serology data is known\n",
    "deaths_times = np.arange(27, total_days+1, 1).tolist()\n",
    "serology_times = np.arange(80, total_days+1, 7).tolist()"
   ]
  },
  {
   "cell_type": "code",
   "execution_count": 7,
   "metadata": {},
   "outputs": [],
   "source": [
    "# Set time-to-death using a Gamma distribution using the mean and standard deviation from the PHE paper\n",
    "td_mean = 15.0\n",
    "td_var = 12.1**2\n",
    "theta = td_var / td_mean\n",
    "k = td_mean / theta\n",
    "time_to_death = gamma(k, scale=theta).pdf(np.arange(1, 31)).tolist()\n",
    "\n",
    "# Set information\n",
    "fatality_ratio = (1/100 * np.array([0.0016, 0.0016, 0.0043, 0.019, 0.08975, 0.815, 3.1, 6.05])).tolist()\n",
    "time_to_death.extend([0.0] * (len(times)-30))\n",
    "niu = float(gamma.rvs(1, scale=1/0.2, size=1))\n",
    "\n",
    "sens = 0.7\n",
    "spec = 0.95"
   ]
  },
  {
   "cell_type": "markdown",
   "metadata": {},
   "source": [
    "## Optimisation Procedure"
   ]
  },
  {
   "cell_type": "code",
   "execution_count": 8,
   "metadata": {},
   "outputs": [
    {
     "name": "stdout",
     "output_type": "stream",
     "text": [
      "Maximising LogPDF\n",
      "Using Covariance Matrix Adaptation Evolution Strategy (CMA-ES)\n",
      "Running in sequential mode.\n",
      "Population size: 11\n",
      "Iter. Eval.  Best      Current   Time m:s\n",
      "0     11     -15031.93 -15031.93   0:01.2\n",
      "1     22     -14642.13 -14642.13   0:02.3\n",
      "2     33     -14242.44 -14242.44   0:03.4\n",
      "3     44     -14127.43 -14127.43   0:04.5\n",
      "10    110    -12229.99 -12229.99   0:09.2\n",
      "Halting: Maximum number of iterations (10) reached.\n",
      "[5.02143847e-01 4.44396122e-02 4.80553823e-02 7.71251063e-02\n",
      " 2.14960730e-03 6.36510292e-02 1.43526309e-02 1.02597213e-01\n",
      " 5.57651982e-02 4.93960748e-02 9.73881185e-01 3.05016180e+00] -12229.994998768903\n",
      "Optimisation phase is finished.\n"
     ]
    }
   ],
   "source": [
    "# Initialise optimisation for the model\n",
    "roche_optimisation = em.inference.RocheSEIRInfer(model)\n",
    "\n",
    "# Add model, death, tests and NPIs data to the inference structure\n",
    "roche_optimisation.read_model_data(susceptibles, infectives)\n",
    "roche_optimisation.read_deaths_data(deaths_data, deaths_times, time_to_death, fatality_ratio)\n",
    "roche_optimisation.read_serology_data(tests, positives_data, serology_times, sens, spec)\n",
    "roche_optimisation.read_npis_data(max_levels_npi, targeted_npi, general_npi, reg_levels_npi, time_changes_npi, time_changes_flag)\n",
    "\n",
    "# Run optimisation structure\n",
    "found, log_post_value = roche_optimisation.optimisation_problem_setup(times, wd=1, wp=0)"
   ]
  },
  {
   "cell_type": "markdown",
   "metadata": {},
   "source": [
    "### Run the model with optimised parameter choices to produce predicted timelines for the:\n",
    " - number of new infections\n",
    " - number of deaths\n",
    " - R number"
   ]
  },
  {
   "cell_type": "code",
   "execution_count": 9,
   "metadata": {},
   "outputs": [
    {
     "name": "stdout",
     "output_type": "stream",
     "text": [
      "[1, 53565, 237359, 641486, 635602, 1304264, 1499291, 668999, 584130, 0.0, 0.0, 0.0, 0.0, 0.0, 0.0, 0.0, 0.0, 7467.842291927399, 7467.842291927399, 7467.842291927399, 7467.842291927399, 7467.842291927399, 7467.842291927399, 7467.842291927399, 7467.842291927399, 0.0, 0.0, 0.0, 0.0, 0.0, 0.0, 0.0, 0.0, 0.0, 0.0, 0.0, 0.0, 0.0, 0.0, 0.0, 0.0, 7532.157708072601, 7532.157708072601, 7532.157708072601, 7532.157708072601, 7532.157708072601, 7532.157708072601, 7532.157708072601, 7532.157708072601, 0.0, 0.0, 0.0, 0.0, 0.0, 0.0, 0.0, 0.0, 0.0, 0.0, 0.0, 0.0, 0.0, 0.0, 0.0, 0.0, 0.0, 0.0, 0.0, 0.0, 0.0, 0.0, 0.0, 0.0, 0.0, 0.0, 0.0, 0.0, 0.0, 0.0, 0.0, 0.0, 0.0, 0.0, 0.0, 0.0, 0.0, 0.0, 0.0, 0.0, 0.0, 0.0, 0.0, 0.0, 0.0, 0.0, 0.0, 0.0, 4.5, 1, 1, 9.0, 9.0, 9.0, 9.0, 9.0, 9.0, 9.0, 9.0, 10.0, 10.0, 10.0, 10.0, 10.0, 10.0, 10.0, 10.0, 0.716, 0.716, 0.716, 0.716, 0.716, 0.716, 0.716, 0.716, 0.106, 0.04443961221140768, 0.04805538234218324, 0.0771251063490723, 0.002149607295559188, 0.06365102918715745, 0.01435263094313434, 0.10259721289292548, 0.05576519821165289, 0.04939607480097399, 0.9738811847224982, 3.0501617975424984, 0.5, 51.5, 'RK45']\n"
     ]
    }
   ],
   "source": [
    "n_parameters = model.n_parameters()\n",
    "\n",
    "predicted_new_infec = []\n",
    "predicted_deaths = []\n",
    "#predicted_reprod_num = []\n",
    "\n",
    "# Run model and number of new infections for all regions\n",
    "for r, _ in enumerate(model.regions):\n",
    "    parameters.simulation_parameters.region_index = r + 1\n",
    "\n",
    "    parameters.ICs.infectives_pre_IC = ((1-found[0]) * np.array(infectives)).tolist()\n",
    "    parameters.ICs.infectives_pre_ss_IC = (found[0] * np.array(infectives)).tolist()\n",
    "\n",
    "    # parameters.proportion_parameters.Pa = found[1:(1+model._num_ages)]\n",
    "    # parameters.proportion_parameters.Pss = found[1+model._num_ages]\n",
    "    parameters.proportion_parameters.Pd = found[-(3+model._num_ages):(-3)]\n",
    "\n",
    "    parameters.transmission_parameters.beta_min = found[-3]\n",
    "    parameters.transmission_parameters.beta_max = found[-2]\n",
    "    parameters.transmission_parameters.bss = found[-1]\n",
    "    \n",
    "    #r_fix = np.empty(len(times))\n",
    "    model_reg_deaths_data = np.empty(len(times))\n",
    "\n",
    "    #m_fix = em.MultiTimesInfectivity(\n",
    "    #    matrices_contact, time_changes_contact, regions, matrices_region, time_changes_region, parameters[0], dI, susceptibles)\n",
    "\n",
    "    # Run model and number of new infections for all age groups\n",
    "    print(parameters())\n",
    "    model_output = model.simulate(parameters)\n",
    "\n",
    "    age_model_reg_new_infections = model.new_infections(model_output)\n",
    "    model_reg_new_infections = age_model_reg_new_infections.sum(axis=1)\n",
    "\n",
    "    for t, time in enumerate(times):\n",
    "    #    r_fix[t] = m_fix.compute_reproduction_number(r+1, time, model_output[t, :len(age_groups)], temp_variation=parameters[8][r][t])\n",
    "        model_reg_deaths_data[t] = np.sum(model.mean_deaths(fatality_ratio, time_to_death, t, age_model_reg_new_infections))\n",
    "    \n",
    "    predicted_new_infec.append(np.array(model_reg_new_infections))\n",
    "    predicted_deaths.append(model_reg_deaths_data)\n",
    "    #predicted_reprod_num.append(r_fix)\n",
    "\n",
    "predicted_new_infec = np.array(predicted_new_infec)\n",
    "predicted_deaths = np.array(predicted_deaths)\n",
    "#predicted_reprod_num = np.array(predicted_reprod_num)"
   ]
  },
  {
   "cell_type": "code",
   "execution_count": 10,
   "metadata": {},
   "outputs": [
    {
     "name": "stdout",
     "output_type": "stream",
     "text": [
      "9.790372631894401\n",
      "22.869141497966602\n",
      "36.58306695016828\n",
      "50.23837888013003\n",
      "63.7950137851692\n",
      "77.37244399437209\n",
      "91.10202168894018\n",
      "105.09549086559234\n",
      "119.44507154941421\n",
      "134.22799655005264\n",
      "149.51052207703495\n",
      "165.3495463248715\n",
      "181.79344058120935\n",
      "198.88126574592374\n",
      "216.64279968477013\n",
      "235.09934433721727\n",
      "254.25464279075086\n",
      "274.1036429998869\n",
      "294.63476602427846\n",
      "315.81122519347423\n",
      "337.58881336781815\n",
      "359.9093787481544\n",
      "382.69405514082496\n",
      "405.85867269569104\n",
      "429.298296081455\n",
      "452.89109648667164\n",
      "476.51894754538057\n",
      "499.1546747782979\n",
      "521.2421359246143\n",
      "542.7448592707465\n",
      "559.1032200010311\n",
      "572.8935655612108\n",
      "584.3514215404139\n",
      "594.3448312420837\n",
      "602.0266631421485\n",
      "607.3860849619832\n",
      "610.5192314742518\n",
      "611.1900561544668\n",
      "610.0894307410858\n",
      "607.4355310475553\n",
      "603.368889728449\n",
      "597.9987940749755\n",
      "591.4192477551437\n",
      "583.7149982479108\n",
      "574.9685160880721\n",
      "565.2599266673602\n",
      "554.6655087111915\n",
      "543.2637373867319\n",
      "531.1321698816319\n",
      "518.3462637995946\n",
      "504.9825488506748\n",
      "491.11763179083147\n",
      "476.82589629258734\n",
      "462.1805213069934\n",
      "447.25537488279747\n",
      "432.1222423507466\n",
      "416.847798337867\n",
      "401.7594513569102\n",
      "386.64664447775203\n",
      "371.5758425123251\n",
      "357.0756779352821\n",
      "343.1118915946678\n",
      "329.64447811391847\n",
      "316.34323098275763\n",
      "303.5249530081248\n",
      "291.1308897608707\n",
      "279.1328425213077\n",
      "267.62320534261596\n",
      "256.3912017662536\n",
      "245.45883299432523\n",
      "234.84234033291838\n",
      "224.5527710333885\n",
      "214.59623823171023\n",
      "204.97635763427226\n",
      "195.6942191512231\n",
      "186.74814331087947\n",
      "178.13618602250335\n",
      "169.85414016097218\n",
      "161.89605486588195\n",
      "154.25686603336848\n",
      "146.92938949967404\n",
      "139.90567573049105\n",
      "133.17849085804949\n",
      "126.73919039312358\n",
      "120.57909327439666\n",
      "114.68972624260661\n",
      "109.08739436151366\n",
      "103.74423558744162\n",
      "98.67169699271768\n",
      "93.8405292974339\n",
      "89.23729676971308\n",
      "84.85099471587957\n",
      "80.6710822244189\n",
      "76.6882232338159\n",
      "72.89388869132273\n",
      "69.27947078934919\n",
      "65.83704395816176\n",
      "62.558963725192086\n",
      "59.4378599331892\n",
      "56.46684786225742\n",
      "53.639074566009675\n",
      "50.94798424920774\n",
      "48.38755156472576\n",
      "45.9517741475474\n",
      "43.63298210099441\n",
      "41.42716954355284\n",
      "39.32937289199607\n",
      "37.34376737400267\n",
      "35.458865302370555\n",
      "33.668795874591126\n",
      "31.968240088690386\n",
      "30.352630997040574\n",
      "28.817649141882484\n",
      "27.359211981975243\n",
      "25.962638175291122\n",
      "24.632368542591333\n",
      "23.359191334815836\n",
      "22.149259447177496\n",
      "20.992809977421206\n",
      "19.895093858337788\n",
      "18.85323540399658\n",
      "17.864577690882353\n",
      "16.926510564113215\n",
      "16.036572098770925\n",
      "15.19240106371914\n",
      "14.391711844102048\n",
      "13.632382513815452\n",
      "12.912387462927834\n",
      "12.2297055059617\n",
      "11.582459639758799\n",
      "10.968917951441947\n",
      "10.387343958045019\n"
     ]
    }
   ],
   "source": [
    "for t, time in enumerate(times):\n",
    "    #    r_fix[t] = m_fix.compute_reproduction_number(r+1, time, model_output[t, :len(age_groups)], temp_variation=parameters[8][r][t])\n",
    "        print(np.sum(model.mean_deaths(fatality_ratio, time_to_death, t, age_model_reg_new_infections)))\n",
    "   "
   ]
  },
  {
   "cell_type": "markdown",
   "metadata": {},
   "source": [
    "## Plot data vs predicted\n",
    "\n",
    "### Setup ``plotly`` and default settings for plotting"
   ]
  },
  {
   "cell_type": "code",
   "execution_count": 11,
   "metadata": {},
   "outputs": [],
   "source": [
    "from plotly.subplots import make_subplots\n",
    "\n",
    "colours = ['blue', 'red', 'green', 'purple', 'orange', 'black', 'gray', 'pink']\n",
    "\n",
    "# Group outputs together\n",
    "outputs = [deaths_data, positives_data]\n",
    "\n",
    "# Number of regions\n",
    "n_reg = len(regions)"
   ]
  },
  {
   "cell_type": "markdown",
   "metadata": {},
   "source": [
    "### Select predicted quantities to plot"
   ]
  },
  {
   "cell_type": "code",
   "execution_count": 12,
   "metadata": {},
   "outputs": [],
   "source": [
    "# Set up traces to plot\n",
    "new_infec_pred = []\n",
    "deaths_pred = []\n",
    "#reprod_num_pred = []\n",
    "\n",
    "for r, _ in enumerate(model.regions):\n",
    "    # Compute the prediction \n",
    "    new_infec_pred.append(predicted_new_infec[r,:])\n",
    "    deaths_pred.append(predicted_deaths[r,:])\n",
    "    #reprod_num_pred.append(predicted_reprod_num[r,:])"
   ]
  },
  {
   "cell_type": "markdown",
   "metadata": {},
   "source": [
    "### Plot observed versus predicted using model with optimised parameters"
   ]
  },
  {
   "cell_type": "code",
   "execution_count": 13,
   "metadata": {},
   "outputs": [
    {
     "name": "stderr",
     "output_type": "stream",
     "text": [
      "<ipython-input-13-e48c6bf424d7>:26: RuntimeWarning:\n",
      "\n",
      "invalid value encountered in true_divide\n",
      "\n"
     ]
    },
    {
     "data": {
      "application/vnd.plotly.v1+json": {
       "config": {
        "plotlyServerURL": "https://plot.ly"
       },
       "data": [
        {
         "line": {
          "color": "blue"
         },
         "mode": "lines",
         "name": "London",
         "type": "scatter",
         "x": [
          1,
          2,
          3,
          4,
          5,
          6,
          7,
          8,
          9,
          10,
          11,
          12,
          13,
          14,
          15,
          16,
          17,
          18,
          19,
          20,
          21,
          22,
          23,
          24,
          25,
          26,
          27,
          28,
          29,
          30,
          31,
          32,
          33,
          34,
          35,
          36,
          37,
          38,
          39,
          40,
          41,
          42,
          43,
          44,
          45,
          46,
          47,
          48,
          49,
          50,
          51,
          52,
          53,
          54,
          55,
          56,
          57,
          58,
          59,
          60,
          61,
          62,
          63,
          64,
          65,
          66,
          67,
          68,
          69,
          70,
          71,
          72,
          73,
          74,
          75,
          76,
          77,
          78,
          79,
          80,
          81,
          82,
          83,
          84,
          85,
          86,
          87,
          88,
          89,
          90,
          91,
          92,
          93,
          94,
          95,
          96,
          97,
          98,
          99,
          100,
          101,
          102,
          103,
          104,
          105,
          106,
          107,
          108,
          109,
          110,
          111,
          112,
          113,
          114,
          115,
          116,
          117,
          118,
          119,
          120,
          121,
          122,
          123,
          124,
          125,
          126,
          127,
          128,
          129,
          130,
          131,
          132
         ],
         "xaxis": "x",
         "y": [
          46769.29362288721,
          47889.12713313688,
          43165.4152637166,
          40716.52664650573,
          40676.153581363236,
          42113.8678240767,
          44359.63851881196,
          47055.09256040593,
          50026.813609005585,
          53187.60689663472,
          56490.17740328789,
          59900.251327449325,
          63389.80356253312,
          66927.66559121804,
          70485.40566596875,
          74039.90379421518,
          77521.91251538557,
          80921.2964638242,
          84228.74946973448,
          87337.95789804109,
          90259.24547746651,
          92950.03805951127,
          95342.1779104746,
          97454.31814777569,
          99211.61225400142,
          100578.34786223512,
          101608.0245713147,
          98711.1127907051,
          98935.01111613488,
          98734.11346233543,
          91978.00808632238,
          85761.18268436195,
          80213.4815804662,
          78883.19978908214,
          73952.33615157295,
          69840.06390314171,
          66182.70173839328,
          61565.53284444474,
          59445.61358377586,
          57229.87380157423,
          54961.05685491818,
          52680.78710194897,
          50416.60371815112,
          48182.36646250322,
          45999.278021442326,
          43876.029496216215,
          41803.084270613625,
          39803.93218577438,
          37881.61642416583,
          36017.11519686543,
          34231.538714032446,
          32522.544185754945,
          30877.635976303223,
          29309.20588164666,
          27810.515711321597,
          26376.95062101786,
          25014.13738714186,
          23714.326800997103,
          22474.0466462203,
          21298.88077048921,
          20180.44204488327,
          19113.479692295245,
          18104.85982623745,
          17146.58512653171,
          16233.912028308336,
          15371.214985291752,
          14551.802155213643,
          13774.06573290987,
          13038.510774760365,
          12340.030318817735,
          11678.246855130166,
          11052.695786796201,
          10458.674940558973,
          9895.878119154611,
          9364.857669832316,
          8860.813555991375,
          8382.602867518239,
          7931.831931822322,
          7504.349619374034,
          7098.925191139977,
          6716.333943229188,
          6353.629291530007,
          6010.275716011972,
          5685.911958204598,
          5378.4419082728045,
          5087.593073500529,
          4874.98221936385,
          4611.045902473787,
          4420.254275619275,
          4181.631208057459,
          3956.9151218012416,
          3744.5156805376423,
          3544.004828575315,
          3354.2963022914023,
          3174.844772657946,
          3005.265842398681,
          2844.6212743001465,
          2692.460448379374,
          2548.755438526475,
          2412.6922946587215,
          2283.6932746810407,
          2161.7392041875064,
          2046.3500780690704,
          1937.0219518423235,
          1829.412984689814,
          1731.7466862368392,
          1639.1146571159056,
          1573.1310443762181,
          1489.0812311336033,
          1409.7924553176908,
          1334.6243064154423,
          1263.60855474169,
          1196.3714642313432,
          1132.772969784615,
          1047.2347928564357,
          991.4474514747476,
          938.435915867334,
          888.193373303478,
          840.5539311900101,
          795.406048184029,
          752.6215944671872,
          712.140873162195,
          673.8119745650267,
          637.5073066511675,
          603.1476902252864,
          570.622430301384,
          539.8616032010868,
          510.7874652373922,
          483.2306511792343,
          457.1265148736427,
          432.48868484224863,
          409.14013634916813
         ],
         "yaxis": "y"
        },
        {
         "line": {
          "color": "blue"
         },
         "mode": "markers",
         "name": "London",
         "showlegend": false,
         "type": "scatter",
         "x": [
          80,
          87,
          94,
          101,
          108,
          115,
          122,
          129
         ],
         "xaxis": "x",
         "y": [
          14654.651685393257,
          25322.30757373794,
          8013.77416693054,
          4744.591772151899,
          0,
          0,
          9439.017820762754,
          6911.606612127486,
          10868.866666666667,
          4413.902777777777,
          1583.7416383013265,
          2768.9239880873456,
          0,
          0,
          5036.705128911385,
          8907.806201813737,
          0,
          18380.590347820773,
          23147.99732110131,
          21777.116751893347,
          9031.873493975903,
          26794.792792954744,
          54919.345283444105,
          43385.414663852614,
          42221.370117142986,
          0,
          43174.70535720825,
          56572.00312238099,
          55364.35003026083,
          0,
          140605.47543868562,
          129367.55901557437,
          121435.08765904055,
          39436.63554200182,
          26566.593445343973,
          30589.328915894028,
          30597.77551020408,
          8863.059309309308,
          5654.007438919873,
          9740.837014763907,
          33452.73684210526,
          5386.457627118644,
          3907.733719471473,
          6372.901041529254,
          0,
          3644.8068181818185,
          3715.578595104249,
          9541.403999049793,
          8854.18026149799,
          38983.62153193376,
          49381.66467392017,
          37679.74202843691,
          31053.356350966107
         ],
         "yaxis": "y"
        },
        {
         "line": {
          "color": "blue"
         },
         "mode": "lines",
         "name": "London",
         "showlegend": false,
         "type": "scatter",
         "x": [
          1,
          2,
          3,
          4,
          5,
          6,
          7,
          8,
          9,
          10,
          11,
          12,
          13,
          14,
          15,
          16,
          17,
          18,
          19,
          20,
          21,
          22,
          23,
          24,
          25,
          26,
          27,
          28,
          29,
          30,
          31,
          32,
          33,
          34,
          35,
          36,
          37,
          38,
          39,
          40,
          41,
          42,
          43,
          44,
          45,
          46,
          47,
          48,
          49,
          50,
          51,
          52,
          53,
          54,
          55,
          56,
          57,
          58,
          59,
          60,
          61,
          62,
          63,
          64,
          65,
          66,
          67,
          68,
          69,
          70,
          71,
          72,
          73,
          74,
          75,
          76,
          77,
          78,
          79,
          80,
          81,
          82,
          83,
          84,
          85,
          86,
          87,
          88,
          89,
          90,
          91,
          92,
          93,
          94,
          95,
          96,
          97,
          98,
          99,
          100,
          101,
          102,
          103,
          104,
          105,
          106,
          107,
          108,
          109,
          110,
          111,
          112,
          113,
          114,
          115,
          116,
          117,
          118,
          119,
          120,
          121,
          122,
          123,
          124,
          125,
          126,
          127,
          128,
          129,
          130,
          131,
          132
         ],
         "xaxis": "x2",
         "y": [
          9.790372631894401,
          22.869141497966602,
          36.58306695016828,
          50.23837888013003,
          63.7950137851692,
          77.37244399437209,
          91.10202168894018,
          105.09549086559234,
          119.44507154941421,
          134.22799655005264,
          149.51052207703495,
          165.3495463248715,
          181.79344058120935,
          198.88126574592374,
          216.64279968477013,
          235.09934433721727,
          254.25464279075086,
          274.1036429998869,
          294.63476602427846,
          315.81122519347423,
          337.58881336781815,
          359.9093787481544,
          382.69405514082496,
          405.85867269569104,
          429.298296081455,
          452.89109648667164,
          476.51894754538057,
          499.1546747782979,
          521.2421359246143,
          542.7448592707465,
          559.1032200010311,
          572.8935655612108,
          584.3514215404139,
          594.3448312420837,
          602.0266631421485,
          607.3860849619832,
          610.5192314742518,
          611.1900561544668,
          610.0894307410858,
          607.4355310475553,
          603.368889728449,
          597.9987940749755,
          591.4192477551437,
          583.7149982479108,
          574.9685160880721,
          565.2599266673602,
          554.6655087111915,
          543.2637373867319,
          531.1321698816319,
          518.3462637995946,
          504.9825488506748,
          491.11763179083147,
          476.82589629258734,
          462.1805213069934,
          447.25537488279747,
          432.1222423507466,
          416.847798337867,
          401.7594513569102,
          386.64664447775203,
          371.5758425123251,
          357.0756779352821,
          343.1118915946678,
          329.64447811391847,
          316.34323098275763,
          303.5249530081248,
          291.1308897608707,
          279.1328425213077,
          267.62320534261596,
          256.3912017662536,
          245.45883299432523,
          234.84234033291838,
          224.5527710333885,
          214.59623823171023,
          204.97635763427226,
          195.6942191512231,
          186.74814331087947,
          178.13618602250335,
          169.85414016097218,
          161.89605486588195,
          154.25686603336848,
          146.92938949967404,
          139.90567573049105,
          133.17849085804949,
          126.73919039312358,
          120.57909327439666,
          114.68972624260661,
          109.08739436151366,
          103.74423558744162,
          98.67169699271768,
          93.8405292974339,
          89.23729676971308,
          84.85099471587957,
          80.6710822244189,
          76.6882232338159,
          72.89388869132273,
          69.27947078934919,
          65.83704395816176,
          62.558963725192086,
          59.4378599331892,
          56.46684786225742,
          53.639074566009675,
          50.94798424920774,
          48.38755156472576,
          45.9517741475474,
          43.63298210099441,
          41.42716954355284,
          39.32937289199607,
          37.34376737400267,
          35.458865302370555,
          33.668795874591126,
          31.968240088690386,
          30.352630997040574,
          28.817649141882484,
          27.359211981975243,
          25.962638175291122,
          24.632368542591333,
          23.359191334815836,
          22.149259447177496,
          20.992809977421206,
          19.895093858337788,
          18.85323540399658,
          17.864577690882353,
          16.926510564113215,
          16.036572098770925,
          15.19240106371914,
          14.391711844102048,
          13.632382513815452,
          12.912387462927834,
          12.2297055059617,
          11.582459639758799,
          10.968917951441947,
          10.387343958045019
         ],
         "yaxis": "y2"
        },
        {
         "line": {
          "color": "blue"
         },
         "mode": "markers",
         "name": "London",
         "showlegend": false,
         "type": "scatter",
         "x": [
          27,
          28,
          29,
          30,
          31,
          32,
          33,
          34,
          35,
          36,
          37,
          38,
          39,
          40,
          41,
          42,
          43,
          44,
          45,
          46,
          47,
          48,
          49,
          50,
          51,
          52,
          53,
          54,
          55,
          56,
          57,
          58,
          59,
          60,
          61,
          62,
          63,
          64,
          65,
          66,
          67,
          68,
          69,
          70,
          71,
          72,
          73,
          74,
          75,
          76,
          77,
          78,
          79,
          80,
          81,
          82,
          83,
          84,
          85,
          86,
          87,
          88,
          89,
          90,
          91,
          92,
          93,
          94,
          95,
          96,
          97,
          98,
          99,
          100,
          101,
          102,
          103,
          104,
          105,
          106,
          107,
          108,
          109,
          110,
          111,
          112,
          113,
          114,
          115,
          116,
          117,
          118,
          119,
          120,
          121,
          122,
          123,
          124,
          125,
          126,
          127,
          128,
          129,
          130,
          131,
          132
         ],
         "xaxis": "x2",
         "y": [
          6,
          6,
          11,
          8,
          16,
          23,
          26,
          25,
          46,
          46,
          53,
          56,
          87,
          119,
          122,
          127,
          119,
          142,
          149,
          180,
          189,
          194,
          192,
          225,
          196,
          197,
          221,
          231,
          199,
          174,
          164,
          170,
          170,
          143,
          147,
          138,
          110,
          118,
          116,
          96,
          105,
          110,
          80,
          75,
          58,
          62,
          55,
          58,
          52,
          45,
          42,
          52,
          43,
          37,
          34,
          43,
          28,
          30,
          25,
          27,
          23,
          15,
          12,
          17,
          18,
          10,
          14,
          13,
          20,
          16,
          12,
          8,
          6,
          6,
          9,
          11,
          8,
          9,
          5,
          7,
          5,
          5,
          7,
          6,
          6,
          2,
          3,
          5,
          8,
          2,
          5,
          5,
          5,
          1,
          2,
          3,
          1,
          1,
          0,
          2,
          2,
          2,
          3,
          0,
          4,
          1,
          0,
          0,
          1,
          1,
          1,
          1,
          2,
          1,
          1,
          3,
          3,
          1,
          3,
          2,
          0,
          3,
          1,
          1,
          0,
          1,
          0,
          2,
          0,
          0,
          0,
          0,
          0,
          2,
          0,
          0,
          0,
          2,
          0,
          0,
          0,
          2,
          2,
          1,
          0,
          0,
          0,
          0,
          0,
          1,
          0,
          1,
          1,
          0,
          2,
          0,
          0,
          0,
          2,
          1,
          0,
          1,
          0,
          1,
          0,
          0,
          1,
          0,
          0,
          0,
          0,
          0,
          1,
          0,
          1,
          1,
          0,
          0,
          2,
          0,
          0,
          0,
          2,
          3,
          0,
          0,
          0,
          1,
          2,
          4,
          1,
          3,
          4,
          4,
          6,
          7,
          2,
          1,
          1,
          2,
          5,
          9,
          6,
          5,
          3,
          2,
          2,
          9,
          5,
          6,
          6,
          7,
          5,
          4,
          6,
          5,
          4,
          12,
          7,
          4,
          6,
          11,
          7,
          15,
          11,
          6,
          18,
          11,
          12,
          14,
          21,
          12,
          14,
          8,
          17,
          18,
          13,
          16,
          15,
          16,
          23,
          19,
          28,
          15,
          12,
          20,
          13,
          20,
          19,
          30,
          30,
          20,
          27,
          28,
          19,
          29,
          18,
          30,
          39,
          29,
          21,
          33,
          49,
          26,
          22,
          28,
          35,
          33,
          27,
          27,
          35,
          35,
          30,
          28,
          27,
          41,
          29,
          37,
          45,
          30,
          61,
          44,
          48,
          52,
          63,
          75,
          70,
          65,
          90,
          93,
          104,
          102,
          110,
          124,
          129,
          136,
          146,
          136,
          161,
          177,
          161,
          186,
          175,
          179,
          193,
          185,
          193,
          200,
          196,
          183,
          200,
          207,
          202,
          208,
          185,
          184,
          160,
          158,
          152,
          155,
          126,
          128,
          125,
          122,
          86,
          101,
          93,
          96,
          107,
          67,
          91,
          76,
          66,
          65,
          57,
          64,
          44,
          41,
          41,
          37,
          44,
          43,
          40,
          37,
          33,
          30,
          38,
          21,
          20,
          21,
          19,
          15,
          12,
          10,
          20,
          14,
          7,
          12,
          15,
          13,
          9,
          7,
          9,
          10,
          7,
          1,
          9,
          4,
          7,
          5,
          7,
          2,
          3,
          2,
          3,
          6,
          2,
          5,
          1,
          2,
          7,
          2,
          3,
          2,
          2,
          3,
          1,
          4,
          1,
          1,
          1,
          2,
          2,
          1,
          3,
          3,
          0,
          2,
          0,
          2,
          2,
          1,
          2,
          3,
          2,
          1,
          0,
          1,
          1,
          2,
          0,
          3,
          5,
          0,
          2,
          1,
          1,
          1,
          1,
          3,
          0,
          3,
          0,
          0,
          2,
          1,
          0,
          0,
          0,
          2,
          1,
          0,
          0,
          0,
          2,
          0,
          0,
          2,
          1,
          1,
          3,
          1,
          0,
          1,
          2,
          0,
          0,
          1,
          1,
          2,
          1,
          2,
          0,
          2,
          2,
          0,
          0,
          5,
          1,
          0,
          1,
          2,
          2,
          4,
          2,
          1,
          2,
          0,
          0,
          3,
          4
         ],
         "yaxis": "y2"
        }
       ],
       "layout": {
        "annotations": [
         {
          "font": {
           "size": 16
          },
          "showarrow": false,
          "text": "Infections",
          "x": 0.5,
          "xanchor": "center",
          "xref": "paper",
          "y": 1,
          "yanchor": "bottom",
          "yref": "paper"
         },
         {
          "font": {
           "size": 16
          },
          "showarrow": false,
          "text": "Deaths",
          "x": 0.5,
          "xanchor": "center",
          "xref": "paper",
          "y": 0.6111111111111112,
          "yanchor": "bottom",
          "yref": "paper"
         },
         {
          "font": {
           "size": 16
          },
          "showarrow": false,
          "text": "Reproduction Number",
          "x": 0.5,
          "xanchor": "center",
          "xref": "paper",
          "y": 0.22222222222222224,
          "yanchor": "bottom",
          "yref": "paper"
         }
        ],
        "height": 900,
        "legend": {
         "orientation": "h",
         "x": 1,
         "xanchor": "right",
         "y": 1.075,
         "yanchor": "bottom"
        },
        "plot_bgcolor": "white",
        "template": {
         "data": {
          "bar": [
           {
            "error_x": {
             "color": "#2a3f5f"
            },
            "error_y": {
             "color": "#2a3f5f"
            },
            "marker": {
             "line": {
              "color": "#E5ECF6",
              "width": 0.5
             },
             "pattern": {
              "fillmode": "overlay",
              "size": 10,
              "solidity": 0.2
             }
            },
            "type": "bar"
           }
          ],
          "barpolar": [
           {
            "marker": {
             "line": {
              "color": "#E5ECF6",
              "width": 0.5
             },
             "pattern": {
              "fillmode": "overlay",
              "size": 10,
              "solidity": 0.2
             }
            },
            "type": "barpolar"
           }
          ],
          "carpet": [
           {
            "aaxis": {
             "endlinecolor": "#2a3f5f",
             "gridcolor": "white",
             "linecolor": "white",
             "minorgridcolor": "white",
             "startlinecolor": "#2a3f5f"
            },
            "baxis": {
             "endlinecolor": "#2a3f5f",
             "gridcolor": "white",
             "linecolor": "white",
             "minorgridcolor": "white",
             "startlinecolor": "#2a3f5f"
            },
            "type": "carpet"
           }
          ],
          "choropleth": [
           {
            "colorbar": {
             "outlinewidth": 0,
             "ticks": ""
            },
            "type": "choropleth"
           }
          ],
          "contour": [
           {
            "colorbar": {
             "outlinewidth": 0,
             "ticks": ""
            },
            "colorscale": [
             [
              0,
              "#0d0887"
             ],
             [
              0.1111111111111111,
              "#46039f"
             ],
             [
              0.2222222222222222,
              "#7201a8"
             ],
             [
              0.3333333333333333,
              "#9c179e"
             ],
             [
              0.4444444444444444,
              "#bd3786"
             ],
             [
              0.5555555555555556,
              "#d8576b"
             ],
             [
              0.6666666666666666,
              "#ed7953"
             ],
             [
              0.7777777777777778,
              "#fb9f3a"
             ],
             [
              0.8888888888888888,
              "#fdca26"
             ],
             [
              1,
              "#f0f921"
             ]
            ],
            "type": "contour"
           }
          ],
          "contourcarpet": [
           {
            "colorbar": {
             "outlinewidth": 0,
             "ticks": ""
            },
            "type": "contourcarpet"
           }
          ],
          "heatmap": [
           {
            "colorbar": {
             "outlinewidth": 0,
             "ticks": ""
            },
            "colorscale": [
             [
              0,
              "#0d0887"
             ],
             [
              0.1111111111111111,
              "#46039f"
             ],
             [
              0.2222222222222222,
              "#7201a8"
             ],
             [
              0.3333333333333333,
              "#9c179e"
             ],
             [
              0.4444444444444444,
              "#bd3786"
             ],
             [
              0.5555555555555556,
              "#d8576b"
             ],
             [
              0.6666666666666666,
              "#ed7953"
             ],
             [
              0.7777777777777778,
              "#fb9f3a"
             ],
             [
              0.8888888888888888,
              "#fdca26"
             ],
             [
              1,
              "#f0f921"
             ]
            ],
            "type": "heatmap"
           }
          ],
          "heatmapgl": [
           {
            "colorbar": {
             "outlinewidth": 0,
             "ticks": ""
            },
            "colorscale": [
             [
              0,
              "#0d0887"
             ],
             [
              0.1111111111111111,
              "#46039f"
             ],
             [
              0.2222222222222222,
              "#7201a8"
             ],
             [
              0.3333333333333333,
              "#9c179e"
             ],
             [
              0.4444444444444444,
              "#bd3786"
             ],
             [
              0.5555555555555556,
              "#d8576b"
             ],
             [
              0.6666666666666666,
              "#ed7953"
             ],
             [
              0.7777777777777778,
              "#fb9f3a"
             ],
             [
              0.8888888888888888,
              "#fdca26"
             ],
             [
              1,
              "#f0f921"
             ]
            ],
            "type": "heatmapgl"
           }
          ],
          "histogram": [
           {
            "marker": {
             "pattern": {
              "fillmode": "overlay",
              "size": 10,
              "solidity": 0.2
             }
            },
            "type": "histogram"
           }
          ],
          "histogram2d": [
           {
            "colorbar": {
             "outlinewidth": 0,
             "ticks": ""
            },
            "colorscale": [
             [
              0,
              "#0d0887"
             ],
             [
              0.1111111111111111,
              "#46039f"
             ],
             [
              0.2222222222222222,
              "#7201a8"
             ],
             [
              0.3333333333333333,
              "#9c179e"
             ],
             [
              0.4444444444444444,
              "#bd3786"
             ],
             [
              0.5555555555555556,
              "#d8576b"
             ],
             [
              0.6666666666666666,
              "#ed7953"
             ],
             [
              0.7777777777777778,
              "#fb9f3a"
             ],
             [
              0.8888888888888888,
              "#fdca26"
             ],
             [
              1,
              "#f0f921"
             ]
            ],
            "type": "histogram2d"
           }
          ],
          "histogram2dcontour": [
           {
            "colorbar": {
             "outlinewidth": 0,
             "ticks": ""
            },
            "colorscale": [
             [
              0,
              "#0d0887"
             ],
             [
              0.1111111111111111,
              "#46039f"
             ],
             [
              0.2222222222222222,
              "#7201a8"
             ],
             [
              0.3333333333333333,
              "#9c179e"
             ],
             [
              0.4444444444444444,
              "#bd3786"
             ],
             [
              0.5555555555555556,
              "#d8576b"
             ],
             [
              0.6666666666666666,
              "#ed7953"
             ],
             [
              0.7777777777777778,
              "#fb9f3a"
             ],
             [
              0.8888888888888888,
              "#fdca26"
             ],
             [
              1,
              "#f0f921"
             ]
            ],
            "type": "histogram2dcontour"
           }
          ],
          "mesh3d": [
           {
            "colorbar": {
             "outlinewidth": 0,
             "ticks": ""
            },
            "type": "mesh3d"
           }
          ],
          "parcoords": [
           {
            "line": {
             "colorbar": {
              "outlinewidth": 0,
              "ticks": ""
             }
            },
            "type": "parcoords"
           }
          ],
          "pie": [
           {
            "automargin": true,
            "type": "pie"
           }
          ],
          "scatter": [
           {
            "marker": {
             "colorbar": {
              "outlinewidth": 0,
              "ticks": ""
             }
            },
            "type": "scatter"
           }
          ],
          "scatter3d": [
           {
            "line": {
             "colorbar": {
              "outlinewidth": 0,
              "ticks": ""
             }
            },
            "marker": {
             "colorbar": {
              "outlinewidth": 0,
              "ticks": ""
             }
            },
            "type": "scatter3d"
           }
          ],
          "scattercarpet": [
           {
            "marker": {
             "colorbar": {
              "outlinewidth": 0,
              "ticks": ""
             }
            },
            "type": "scattercarpet"
           }
          ],
          "scattergeo": [
           {
            "marker": {
             "colorbar": {
              "outlinewidth": 0,
              "ticks": ""
             }
            },
            "type": "scattergeo"
           }
          ],
          "scattergl": [
           {
            "marker": {
             "colorbar": {
              "outlinewidth": 0,
              "ticks": ""
             }
            },
            "type": "scattergl"
           }
          ],
          "scattermapbox": [
           {
            "marker": {
             "colorbar": {
              "outlinewidth": 0,
              "ticks": ""
             }
            },
            "type": "scattermapbox"
           }
          ],
          "scatterpolar": [
           {
            "marker": {
             "colorbar": {
              "outlinewidth": 0,
              "ticks": ""
             }
            },
            "type": "scatterpolar"
           }
          ],
          "scatterpolargl": [
           {
            "marker": {
             "colorbar": {
              "outlinewidth": 0,
              "ticks": ""
             }
            },
            "type": "scatterpolargl"
           }
          ],
          "scatterternary": [
           {
            "marker": {
             "colorbar": {
              "outlinewidth": 0,
              "ticks": ""
             }
            },
            "type": "scatterternary"
           }
          ],
          "surface": [
           {
            "colorbar": {
             "outlinewidth": 0,
             "ticks": ""
            },
            "colorscale": [
             [
              0,
              "#0d0887"
             ],
             [
              0.1111111111111111,
              "#46039f"
             ],
             [
              0.2222222222222222,
              "#7201a8"
             ],
             [
              0.3333333333333333,
              "#9c179e"
             ],
             [
              0.4444444444444444,
              "#bd3786"
             ],
             [
              0.5555555555555556,
              "#d8576b"
             ],
             [
              0.6666666666666666,
              "#ed7953"
             ],
             [
              0.7777777777777778,
              "#fb9f3a"
             ],
             [
              0.8888888888888888,
              "#fdca26"
             ],
             [
              1,
              "#f0f921"
             ]
            ],
            "type": "surface"
           }
          ],
          "table": [
           {
            "cells": {
             "fill": {
              "color": "#EBF0F8"
             },
             "line": {
              "color": "white"
             }
            },
            "header": {
             "fill": {
              "color": "#C8D4E3"
             },
             "line": {
              "color": "white"
             }
            },
            "type": "table"
           }
          ]
         },
         "layout": {
          "annotationdefaults": {
           "arrowcolor": "#2a3f5f",
           "arrowhead": 0,
           "arrowwidth": 1
          },
          "autotypenumbers": "strict",
          "coloraxis": {
           "colorbar": {
            "outlinewidth": 0,
            "ticks": ""
           }
          },
          "colorscale": {
           "diverging": [
            [
             0,
             "#8e0152"
            ],
            [
             0.1,
             "#c51b7d"
            ],
            [
             0.2,
             "#de77ae"
            ],
            [
             0.3,
             "#f1b6da"
            ],
            [
             0.4,
             "#fde0ef"
            ],
            [
             0.5,
             "#f7f7f7"
            ],
            [
             0.6,
             "#e6f5d0"
            ],
            [
             0.7,
             "#b8e186"
            ],
            [
             0.8,
             "#7fbc41"
            ],
            [
             0.9,
             "#4d9221"
            ],
            [
             1,
             "#276419"
            ]
           ],
           "sequential": [
            [
             0,
             "#0d0887"
            ],
            [
             0.1111111111111111,
             "#46039f"
            ],
            [
             0.2222222222222222,
             "#7201a8"
            ],
            [
             0.3333333333333333,
             "#9c179e"
            ],
            [
             0.4444444444444444,
             "#bd3786"
            ],
            [
             0.5555555555555556,
             "#d8576b"
            ],
            [
             0.6666666666666666,
             "#ed7953"
            ],
            [
             0.7777777777777778,
             "#fb9f3a"
            ],
            [
             0.8888888888888888,
             "#fdca26"
            ],
            [
             1,
             "#f0f921"
            ]
           ],
           "sequentialminus": [
            [
             0,
             "#0d0887"
            ],
            [
             0.1111111111111111,
             "#46039f"
            ],
            [
             0.2222222222222222,
             "#7201a8"
            ],
            [
             0.3333333333333333,
             "#9c179e"
            ],
            [
             0.4444444444444444,
             "#bd3786"
            ],
            [
             0.5555555555555556,
             "#d8576b"
            ],
            [
             0.6666666666666666,
             "#ed7953"
            ],
            [
             0.7777777777777778,
             "#fb9f3a"
            ],
            [
             0.8888888888888888,
             "#fdca26"
            ],
            [
             1,
             "#f0f921"
            ]
           ]
          },
          "colorway": [
           "#636efa",
           "#EF553B",
           "#00cc96",
           "#ab63fa",
           "#FFA15A",
           "#19d3f3",
           "#FF6692",
           "#B6E880",
           "#FF97FF",
           "#FECB52"
          ],
          "font": {
           "color": "#2a3f5f"
          },
          "geo": {
           "bgcolor": "white",
           "lakecolor": "white",
           "landcolor": "#E5ECF6",
           "showlakes": true,
           "showland": true,
           "subunitcolor": "white"
          },
          "hoverlabel": {
           "align": "left"
          },
          "hovermode": "closest",
          "mapbox": {
           "style": "light"
          },
          "paper_bgcolor": "white",
          "plot_bgcolor": "#E5ECF6",
          "polar": {
           "angularaxis": {
            "gridcolor": "white",
            "linecolor": "white",
            "ticks": ""
           },
           "bgcolor": "#E5ECF6",
           "radialaxis": {
            "gridcolor": "white",
            "linecolor": "white",
            "ticks": ""
           }
          },
          "scene": {
           "xaxis": {
            "backgroundcolor": "#E5ECF6",
            "gridcolor": "white",
            "gridwidth": 2,
            "linecolor": "white",
            "showbackground": true,
            "ticks": "",
            "zerolinecolor": "white"
           },
           "yaxis": {
            "backgroundcolor": "#E5ECF6",
            "gridcolor": "white",
            "gridwidth": 2,
            "linecolor": "white",
            "showbackground": true,
            "ticks": "",
            "zerolinecolor": "white"
           },
           "zaxis": {
            "backgroundcolor": "#E5ECF6",
            "gridcolor": "white",
            "gridwidth": 2,
            "linecolor": "white",
            "showbackground": true,
            "ticks": "",
            "zerolinecolor": "white"
           }
          },
          "shapedefaults": {
           "line": {
            "color": "#2a3f5f"
           }
          },
          "ternary": {
           "aaxis": {
            "gridcolor": "white",
            "linecolor": "white",
            "ticks": ""
           },
           "baxis": {
            "gridcolor": "white",
            "linecolor": "white",
            "ticks": ""
           },
           "bgcolor": "#E5ECF6",
           "caxis": {
            "gridcolor": "white",
            "linecolor": "white",
            "ticks": ""
           }
          },
          "title": {
           "x": 0.05
          },
          "xaxis": {
           "automargin": true,
           "gridcolor": "white",
           "linecolor": "white",
           "ticks": "",
           "title": {
            "standoff": 15
           },
           "zerolinecolor": "white",
           "zerolinewidth": 2
          },
          "yaxis": {
           "automargin": true,
           "gridcolor": "white",
           "linecolor": "white",
           "ticks": "",
           "title": {
            "standoff": 15
           },
           "zerolinecolor": "white",
           "zerolinewidth": 2
          }
         }
        },
        "width": 600,
        "xaxis": {
         "anchor": "y",
         "domain": [
          0,
          1
         ],
         "linecolor": "black",
         "ticktext": [
          "Feb 15",
          "Feb 25",
          "Mar 06",
          "Mar 16",
          "Mar 26",
          "Apr 05",
          "Apr 15",
          "Apr 25",
          "May 05",
          "May 15",
          "May 25",
          "Jun 04",
          "Jun 14",
          "Jun 24"
         ],
         "tickvals": [
          1,
          11,
          21,
          31,
          41,
          51,
          61,
          71,
          81,
          91,
          101,
          111,
          121,
          131
         ]
        },
        "xaxis2": {
         "anchor": "y2",
         "domain": [
          0,
          1
         ],
         "linecolor": "black",
         "ticktext": [
          "Feb 15",
          "Feb 25",
          "Mar 06",
          "Mar 16",
          "Mar 26",
          "Apr 05",
          "Apr 15",
          "Apr 25",
          "May 05",
          "May 15",
          "May 25",
          "Jun 04",
          "Jun 14",
          "Jun 24"
         ],
         "tickvals": [
          1,
          11,
          21,
          31,
          41,
          51,
          61,
          71,
          81,
          91,
          101,
          111,
          121,
          131
         ]
        },
        "xaxis3": {
         "anchor": "y3",
         "domain": [
          0,
          1
         ],
         "linecolor": "black",
         "ticktext": [
          "Feb 15",
          "Feb 25",
          "Mar 06",
          "Mar 16",
          "Mar 26",
          "Apr 05",
          "Apr 15",
          "Apr 25",
          "May 05",
          "May 15",
          "May 25",
          "Jun 04",
          "Jun 14",
          "Jun 24"
         ],
         "tickvals": [
          1,
          11,
          21,
          31,
          41,
          51,
          61,
          71,
          81,
          91,
          101,
          111,
          121,
          131
         ]
        },
        "yaxis": {
         "anchor": "x",
         "domain": [
          0.7777777777777778,
          1
         ],
         "linecolor": "black"
        },
        "yaxis2": {
         "anchor": "x2",
         "domain": [
          0.3888888888888889,
          0.6111111111111112
         ],
         "linecolor": "black"
        },
        "yaxis3": {
         "anchor": "x3",
         "domain": [
          0,
          0.22222222222222224
         ],
         "linecolor": "black"
        }
       }
      }
     },
     "metadata": {},
     "output_type": "display_data"
    }
   ],
   "source": [
    "# Trace names - represent the solver used for the simulation\n",
    "trace_name = regions\n",
    "titles = ['Infections', 'Deaths', 'Reproduction Number']\n",
    "\n",
    "fig = go.Figure()\n",
    "fig = make_subplots(rows=len(titles), cols=1, subplot_titles=tuple(titles), horizontal_spacing = 0.15)\n",
    "\n",
    "# Plot (continuous predicted timeline and pointwise observed numbers each day)\n",
    "for r, region in enumerate(regions):\n",
    "    # Plot of infections\n",
    "    fig.add_trace(\n",
    "        go.Scatter(\n",
    "            x=times,\n",
    "            y=new_infec_pred[r].tolist(),\n",
    "            mode='lines',\n",
    "            name=trace_name[r],\n",
    "            line_color=colours[r]\n",
    "        ),\n",
    "        row= 1,\n",
    "        col= 1\n",
    "    )\n",
    "\n",
    "    fig.add_trace(\n",
    "        go.Scatter(\n",
    "            x=serology_times,\n",
    "            y=np.sum(np.multiply(np.nan_to_num(np.divide(positives_data[r], tests[r])), susceptibles[r]), axis=1).tolist(),\n",
    "            mode='markers',\n",
    "            name=trace_name[r],\n",
    "            showlegend=False,\n",
    "            line_color=colours[r]\n",
    "        ),\n",
    "        row= 1,\n",
    "        col= 1\n",
    "    )\n",
    "\n",
    "    # Plot deaths\n",
    "    fig.add_trace(\n",
    "        go.Scatter(\n",
    "            x=times,\n",
    "            y=deaths_pred[r].tolist(),\n",
    "            mode='lines',\n",
    "            name=trace_name[r],\n",
    "            showlegend=False,\n",
    "            line_color=colours[r]\n",
    "        ),\n",
    "        row= 2,\n",
    "        col= 1\n",
    "    )\n",
    "\n",
    "    fig.add_trace(\n",
    "        go.Scatter(\n",
    "            x=deaths_times,\n",
    "            y=np.sum(deaths_data[r], axis=1).tolist(),\n",
    "            mode='markers',\n",
    "            name=trace_name[r],\n",
    "            showlegend=False,\n",
    "            line_color=colours[r]\n",
    "        ),\n",
    "        row= 2,\n",
    "        col= 1\n",
    "    )\n",
    "\n",
    "    # Plot reproduction number\n",
    "    #fig.add_trace(\n",
    "    #    go.Scatter(\n",
    "    #        x=times,\n",
    "    #        y=reprod_num_pred[r].tolist(),\n",
    "    #        mode='lines',\n",
    "    #        name=trace_name[r],\n",
    "    #        showlegend=False,\n",
    "    #        line_color=colours[r]\n",
    "    #    ),\n",
    "    #    row= 3,\n",
    "    #    col= 1\n",
    "    #)\n",
    "\n",
    "# Add axis labels\n",
    "fig.update_layout(\n",
    "    width=600, \n",
    "    height=900,\n",
    "    plot_bgcolor='white',\n",
    "    xaxis=dict(\n",
    "        linecolor='black',\n",
    "        tickvals=np.arange(1, total_days, 10).tolist(),\n",
    "        ticktext=['Feb 15', 'Feb 25', 'Mar 06', 'Mar 16', 'Mar 26', 'Apr 05', 'Apr 15', 'Apr 25', 'May 05', 'May 15', 'May 25', 'Jun 04', 'Jun 14', 'Jun 24']),\n",
    "    yaxis=dict(linecolor='black'),\n",
    "    xaxis2=dict(\n",
    "        linecolor='black',\n",
    "        tickvals=np.arange(1, total_days, 10).tolist(),\n",
    "        ticktext=['Feb 15', 'Feb 25', 'Mar 06', 'Mar 16', 'Mar 26', 'Apr 05', 'Apr 15', 'Apr 25', 'May 05', 'May 15', 'May 25', 'Jun 04', 'Jun 14', 'Jun 24']),\n",
    "    yaxis2=dict(linecolor='black'),\n",
    "    xaxis3=dict(\n",
    "        linecolor='black',\n",
    "        tickvals=np.arange(1, total_days, 10).tolist(),\n",
    "        ticktext=['Feb 15', 'Feb 25', 'Mar 06', 'Mar 16', 'Mar 26', 'Apr 05', 'Apr 15', 'Apr 25', 'May 05', 'May 15', 'May 25', 'Jun 04', 'Jun 14', 'Jun 24']),\n",
    "    yaxis3=dict(linecolor='black'),\n",
    "    legend=dict(\n",
    "        orientation='h',\n",
    "        yanchor=\"bottom\",\n",
    "        y=1.075,\n",
    "        xanchor=\"right\",\n",
    "        x=1)\n",
    "    )\n",
    "\n",
    "fig.write_image('images/Figure-3-optimisation.pdf')\n",
    "fig.show()"
   ]
  },
  {
   "cell_type": "code",
   "execution_count": 14,
   "metadata": {},
   "outputs": [
    {
     "data": {
      "text/plain": [
       "<matplotlib.collections.PathCollection at 0x7f82112dd6a0>"
      ]
     },
     "execution_count": 14,
     "metadata": {},
     "output_type": "execute_result"
    },
    {
     "data": {
      "image/png": "[encoded data removed]",
      "text/plain": [
       "<Figure size 432x288 with 1 Axes>"
      ]
     },
     "metadata": {
      "needs_background": "light"
     },
     "output_type": "display_data"
    }
   ],
   "source": [
    "plt.plot(model.actual_deaths)\n",
    "plt.scatter(deaths_times, np.sum(deaths_data[r], axis=1).tolist()[:len(deaths_times)])"
   ]
  },
  {
   "cell_type": "code",
   "execution_count": 15,
   "metadata": {},
   "outputs": [],
   "source": [
    "p_after = parameters()"
   ]
  },
  {
   "cell_type": "code",
   "execution_count": 16,
   "metadata": {},
   "outputs": [],
   "source": [
    "roche_optimisation.ll(found)\n",
    "p = roche_optimisation.ll._parameters\n",
    "p_found = list(deepflatten(p, ignore=str))"
   ]
  },
  {
   "cell_type": "code",
   "execution_count": 17,
   "metadata": {},
   "outputs": [
    {
     "name": "stdout",
     "output_type": "stream",
     "text": [
      "1 1\n",
      "53565 53565\n",
      "237359 237359\n",
      "641486 641486\n",
      "635602 635602\n",
      "1304264 1304264\n",
      "1499291 1499291\n",
      "668999 668999\n",
      "584130 584130\n",
      "0.0 0.0\n",
      "0.0 0.0\n",
      "0.0 0.0\n",
      "0.0 0.0\n",
      "0.0 0.0\n",
      "0.0 0.0\n",
      "0.0 0.0\n",
      "0.0 0.0\n",
      "7467.842291927399 7467.842291927399\n",
      "7467.842291927399 7467.842291927399\n",
      "7467.842291927399 7467.842291927399\n",
      "7467.842291927399 7467.842291927399\n",
      "7467.842291927399 7467.842291927399\n",
      "7467.842291927399 7467.842291927399\n",
      "7467.842291927399 7467.842291927399\n",
      "7467.842291927399 7467.842291927399\n",
      "0.0 0.0\n",
      "0.0 0.0\n",
      "0.0 0.0\n",
      "0.0 0.0\n",
      "0.0 0.0\n",
      "0.0 0.0\n",
      "0.0 0.0\n",
      "0.0 0.0\n",
      "0.0 0.0\n",
      "0.0 0.0\n",
      "0.0 0.0\n",
      "0.0 0.0\n",
      "0.0 0.0\n",
      "0.0 0.0\n",
      "0.0 0.0\n",
      "0.0 0.0\n",
      "7532.157708072601 7532.157708072601\n",
      "7532.157708072601 7532.157708072601\n",
      "7532.157708072601 7532.157708072601\n",
      "7532.157708072601 7532.157708072601\n",
      "7532.157708072601 7532.157708072601\n",
      "7532.157708072601 7532.157708072601\n",
      "7532.157708072601 7532.157708072601\n",
      "7532.157708072601 7532.157708072601\n",
      "0.0 0.0\n",
      "0.0 0.0\n",
      "0.0 0.0\n",
      "0.0 0.0\n",
      "0.0 0.0\n",
      "0.0 0.0\n",
      "0.0 0.0\n",
      "0.0 0.0\n",
      "0.0 0.0\n",
      "0.0 0.0\n",
      "0.0 0.0\n",
      "0.0 0.0\n",
      "0.0 0.0\n",
      "0.0 0.0\n",
      "0.0 0.0\n",
      "0.0 0.0\n",
      "0.0 0.0\n",
      "0.0 0.0\n",
      "0.0 0.0\n",
      "0.0 0.0\n",
      "0.0 0.0\n",
      "0.0 0.0\n",
      "0.0 0.0\n",
      "0.0 0.0\n",
      "0.0 0.0\n",
      "0.0 0.0\n",
      "0.0 0.0\n",
      "0.0 0.0\n",
      "0.0 0.0\n",
      "0.0 0.0\n",
      "0.0 0.0\n",
      "0.0 0.0\n",
      "0.0 0.0\n",
      "0.0 0.0\n",
      "0.0 0.0\n",
      "0.0 0.0\n",
      "0.0 0.0\n",
      "0.0 0.0\n",
      "0.0 0.0\n",
      "0.0 0.0\n",
      "0.0 0.0\n",
      "0.0 0.0\n",
      "0.0 0.0\n",
      "0.0 0.0\n",
      "0.0 0.0\n",
      "0.0 0.0\n",
      "0.0 0.0\n",
      "0.0 0.0\n",
      "4.5 4.5\n",
      "1 1\n",
      "1 1\n",
      "9.0 9.0\n",
      "9.0 9.0\n",
      "9.0 9.0\n",
      "9.0 9.0\n",
      "9.0 9.0\n",
      "9.0 9.0\n",
      "9.0 9.0\n",
      "9.0 9.0\n",
      "10.0 10.0\n",
      "10.0 10.0\n",
      "10.0 10.0\n",
      "10.0 10.0\n",
      "10.0 10.0\n",
      "10.0 10.0\n",
      "10.0 10.0\n",
      "10.0 10.0\n",
      "0.716 0.716\n",
      "0.716 0.716\n",
      "0.716 0.716\n",
      "0.716 0.716\n",
      "0.716 0.716\n",
      "0.716 0.716\n",
      "0.716 0.716\n",
      "0.716 0.716\n",
      "0.106 0.106\n",
      "0.04443961221140768 0.04443961221140768\n",
      "0.04805538234218324 0.04805538234218324\n",
      "0.0771251063490723 0.0771251063490723\n",
      "0.002149607295559188 0.002149607295559188\n",
      "0.06365102918715745 0.06365102918715745\n",
      "0.01435263094313434 0.01435263094313434\n",
      "0.10259721289292548 0.10259721289292548\n",
      "0.05576519821165289 0.05576519821165289\n",
      "0.04939607480097399 0.04939607480097399\n",
      "0.9738811847224982 0.9738811847224982\n",
      "3.0501617975424984 3.0501617975424984\n",
      "0.5 0.5\n",
      "51.5 51.5\n",
      "RK45 RK45\n"
     ]
    }
   ],
   "source": [
    "for p1, p2 in zip(p_after, p_found):\n",
    "    print(p1, p2)"
   ]
  },
  {
   "cell_type": "code",
   "execution_count": null,
   "metadata": {},
   "outputs": [],
   "source": []
  }
 ],
 "metadata": {
  "interpreter": {
   "hash": "684a6128a123c6817f5879bd443c804f1ae947106cccd5e393ee42f0caf0d347"
  },
  "kernelspec": {
   "display_name": "Python 3",
   "language": "python",
   "name": "python3"
  },
  "language_info": {
   "codemirror_mode": {
    "name": "ipython",
    "version": 3
   },
   "file_extension": ".py",
   "mimetype": "text/x-python",
   "name": "python",
   "nbconvert_exporter": "python",
   "pygments_lexer": "ipython3",
   "version": "3.7.4"
  }
 },
 "nbformat": 4,
 "nbformat_minor": 2
}

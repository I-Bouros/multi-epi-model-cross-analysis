{
 "cells": [
  {
   "cell_type": "markdown",
   "metadata": {},
   "source": [
    "# PHE SEIR Model Inference\n",
    "\n",
    "In this notebook we present how to use the `epimodels` module to set up the inference for some of the parameters of the model built by Public Health England in collaboration with University of Cambridge, using region specific contact matrices from Feb 2020 to Apr 2021."
   ]
  },
  {
   "cell_type": "code",
   "execution_count": 1,
   "metadata": {},
   "outputs": [],
   "source": [
    "# Load necessary libraries\n",
    "import os\n",
    "import numpy as np\n",
    "import pandas as pd\n",
    "from scipy.stats import gamma\n",
    "import epimodels as em\n",
    "import matplotlib\n",
    "import plotly.graph_objects as go\n",
    "from matplotlib import pyplot as plt\n",
    "from iteration_utilities import deepflatten"
   ]
  },
  {
   "cell_type": "markdown",
   "metadata": {},
   "source": [
    "### Define setup matrices for the PHE Model"
   ]
  },
  {
   "cell_type": "code",
   "execution_count": 2,
   "metadata": {},
   "outputs": [],
   "source": [
    "# Populate the model\n",
    "total_days =  496\n",
    "regions = ['EE', 'London', 'Mid', 'NE', 'NW', 'SE', 'SW']\n",
    "age_groups = ['0-1', '1-5', '5-15', '15-25', '25-45', '45-65', '65-75', '75+']\n",
    "\n",
    "weeks = list(range(1,int(np.ceil(total_days/7))+1))\n",
    "matrices_region = []\n",
    "\n",
    "# Initial state of the system\n",
    "for w in weeks:\n",
    "    weeks_matrices_region = []\n",
    "    for r in regions:\n",
    "        path = os.path.join('../../data/final_contact_matrices/{}_W{}.csv'.format(r, w))\n",
    "        region_data_matrix = pd.read_csv(path, header=None, dtype=np.float64)\n",
    "        #region_data_matrix_var.iloc[:, 5] = region_data_matrix_var.iloc[:, 5] * 2\n",
    "        regional = em.RegionMatrix(r, age_groups, region_data_matrix)\n",
    "        weeks_matrices_region.append(regional)\n",
    "\n",
    "    matrices_region.append(weeks_matrices_region)\n",
    "\n",
    "contacts = em.ContactMatrix(age_groups, np.ones((len(age_groups), len(age_groups))))\n",
    "matrices_contact = [contacts]\n",
    "\n",
    "# Matrices contact\n",
    "time_changes_contact = [1]\n",
    "time_changes_region = np.arange(1, total_days+1, 7).tolist()"
   ]
  },
  {
   "cell_type": "markdown",
   "metadata": {},
   "source": [
    "### Set the parameters and initial conditions of the model and bundle everything together to simulate"
   ]
  },
  {
   "cell_type": "code",
   "execution_count": 4,
   "metadata": {},
   "outputs": [],
   "source": [
    "# Instantiate model\n",
    "model = em.PheSEIRModel()\n",
    "\n",
    "# Set the region names, contact and regional data of the model\n",
    "model.set_regions(regions)\n",
    "model.read_contact_data(matrices_contact, time_changes_contact)\n",
    "model.read_regional_data(matrices_region, time_changes_region)\n",
    "\n",
    "# Initial number of susceptibles\n",
    "susceptibles = [\n",
    "    [68124, 299908, 773741, 668994, 1554740, 1632059, 660187, 578319],\n",
    "    [117840, 488164, 1140597, 1033029, 3050671, 2050173, 586472, 495043],\n",
    "    [116401, 508081, 1321675, 1319046, 2689334, 2765974, 1106091, 943363],\n",
    "    [85845, 374034, 978659, 1005275, 2036049, 2128261, 857595, 707190],\n",
    "    [81258, 348379, 894662, 871907, 1864807, 1905072, 750263, 624848],\n",
    "    [95825, 424854, 1141632, 1044242, 2257437, 2424929, 946459, 844757],\n",
    "    [53565, 237359, 641486, 635602, 1304264, 1499291, 668999, 584130]]\n",
    "\n",
    "#infectives1 = (10 * np.ones((len(regions), len(age_groups)))).tolist()\n",
    "#infectives1 = (1 * np.ones((len(regions), len(age_groups)))).tolist()\n",
    "infectives1 = [\n",
    "    [0, 0, 0, 0, 0, 1, 0, 0],\n",
    "    [0, 0, 0, 0, 2, 0, 0, 0],\n",
    "    [0, 0, 0, 0, 0, 0, 1, 0],\n",
    "    [0, 0, 0, 0, 1, 0, 0, 0],\n",
    "    [0, 0, 0, 0, 0, 1, 0, 0],\n",
    "    [0, 0, 0, 1, 0, 0, 0, 0],\n",
    "    [0, 0, 0, 0, 0, 1, 0, 0]]\n",
    "infectives2 = np.zeros((len(regions), len(age_groups))).tolist()\n",
    "\n",
    "dI = 4\n",
    "dL = 4\n",
    "\n",
    "# Initial R number by region\n",
    "#psis = gamma.rvs(31.36, scale=1/224, size=len(regions))\n",
    "psis = (31.36/224)*np.ones(len(regions))\n",
    "initial_r = np.multiply(dI*psis, np.divide(np.square((dL/2)*psis+1), 1 - 1/np.square((dI/2)*psis+1)))\n",
    "\n",
    "# List of times at which we wish to evaluate the states of the compartments of the model\n",
    "times = np.arange(1, total_days+1, 1).tolist()\n",
    "\n",
    "# Simulate for all regions\n",
    "output_scipy_solver = []\n",
    "\n",
    "for r, reg in enumerate(regions):\n",
    "    # List of common initial conditions and parameters that characterise the fixed and variable model\n",
    "    parameters = [\n",
    "        initial_r, r+1, susceptibles, np.zeros((len(regions), len(age_groups))).tolist(), np.zeros((len(regions), len(age_groups))).tolist(),\n",
    "        infectives1, infectives2, np.zeros((len(regions), len(age_groups))).tolist(), np.ones((len(regions), len(times))).tolist(), dL, dI, 0.5]\n",
    "\n",
    "    # Simulate using the ODE solver from scipy\n",
    "    scipy_method = 'RK45'\n",
    "    parameters.append(scipy_method)\n",
    "\n",
    "    output_scipy_solver.append(model.simulate(list(deepflatten(parameters, ignore=str)), times))"
   ]
  },
  {
   "cell_type": "code",
   "execution_count": 5,
   "metadata": {},
   "outputs": [
    {
     "data": {
      "text/plain": [
       "array([2.35469698, 2.35469698, 2.35469698, 2.35469698, 2.35469698,\n",
       "       2.35469698, 2.35469698])"
      ]
     },
     "execution_count": 5,
     "metadata": {},
     "output_type": "execute_result"
    }
   ],
   "source": [
    "initial_r"
   ]
  },
  {
   "cell_type": "markdown",
   "metadata": {},
   "source": [
    "### Inference procedure"
   ]
  },
  {
   "cell_type": "code",
   "execution_count": 6,
   "metadata": {},
   "outputs": [
    {
     "data": {
      "text/plain": [
       "<bound method PheSEIRModel.samples_deaths of <epimodels.phe_model.PheSEIRModel object at 0x7ff1b0e4ea90>>"
      ]
     },
     "execution_count": 6,
     "metadata": {},
     "output_type": "execute_result"
    }
   ],
   "source": [
    "# Sample death and positive test results data for all regions\n",
    "fatality_ratio = (1/100 * np.array([0.0016, 0.0016, 0.0043, 0.019, 0.08975, 0.815, 3.1, 6.05])).tolist()\n",
    "time_to_death = [0.5] * len(times)\n",
    "niu = float(gamma.rvs(1, scale=1/0.2, size=1))\n",
    "\n",
    "tests = [1000] * len(age_groups)\n",
    "sens = 0.7\n",
    "spec = 0.95\n",
    "\n",
    "for r, reg in enumerate(regions):\n",
    "    model.samples_deaths(output=output_scipy_solver[r], )"
   ]
  }
 ],
 "metadata": {
  "interpreter": {
   "hash": "243302a6273492defab173bb199483113e24d9dc0ae7bcf960fe1c665840a980"
  },
  "kernelspec": {
   "display_name": "Python 3.8.5 64-bit ('base': conda)",
   "language": "python",
   "name": "python3"
  },
  "language_info": {
   "codemirror_mode": {
    "name": "ipython",
    "version": 3
   },
   "file_extension": ".py",
   "mimetype": "text/x-python",
   "name": "python",
   "nbconvert_exporter": "python",
   "pygments_lexer": "ipython3",
   "version": "3.8.5"
  },
  "orig_nbformat": 4
 },
 "nbformat": 4,
 "nbformat_minor": 2
}

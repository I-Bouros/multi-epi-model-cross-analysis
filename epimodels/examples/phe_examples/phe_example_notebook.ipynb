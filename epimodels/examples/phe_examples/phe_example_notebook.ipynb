{
 "cells": [
  {
   "cell_type": "markdown",
   "metadata": {},
   "source": [
    "# PHE SEIR Model First Example\n",
    "\n",
    "In this notebook we present how to use the `epimodels` module to set up an instantiation of the model built by Public Health England in collaboration with University of Cambridge, using some toy data. We assess the differences in the quality of simulation using two different ODE solvers:\n",
    " - the bespoke one as presented in the PHE paper (`my-solver`) for different sizes of time steps;\n",
    " - the `scipy` solver using the ``RK45`` method.\n",
    "\n",
    "*The PHE model is built by Public Health England in collaboration with University of Cambridge.*"
   ]
  },
  {
   "cell_type": "code",
   "execution_count": 1,
   "metadata": {},
   "outputs": [],
   "source": [
    "# Load necessary libraries\n",
    "import numpy as np\n",
    "import epimodels as em\n",
    "import matplotlib\n",
    "import plotly.graph_objects as go\n",
    "from matplotlib import pyplot as plt\n",
    "from iteration_utilities import deepflatten"
   ]
  },
  {
   "cell_type": "markdown",
   "metadata": {},
   "source": [
    "## Model Setup\n",
    "### Define setup matrices for the PHE Model"
   ]
  },
  {
   "cell_type": "code",
   "execution_count": 2,
   "metadata": {},
   "outputs": [],
   "source": [
    "# Populate the model\n",
    "regions = ['London', 'Cornwall']\n",
    "age_groups = ['0-10', '10-25']\n",
    "\n",
    "# Initial state of the system\n",
    "contact_data_matrix_0 = np.array([[10, 5.2], [0, 3]])\n",
    "contact_data_matrix_1 = np.array([[1, 0], [0, 3]])\n",
    "\n",
    "region_data_matrix_0_0 = np.array([[1, 10], [1, 6]])\n",
    "region_data_matrix_0_1 = np.array([[0.5, 3], [0.3, 3]])\n",
    "region_data_matrix_1_0 = np.array([[0.85, 1], [0.9, 6]])\n",
    "region_data_matrix_1_1 = np.array([[0.5, 0.2], [0.29, 4.6]])\n",
    "\n",
    "contacts_0 = em.ContactMatrix(age_groups, contact_data_matrix_0)\n",
    "contacts_1 = em.ContactMatrix(age_groups, contact_data_matrix_1)\n",
    "regional_0_0 = em.RegionMatrix(\n",
    "    regions[0], age_groups, region_data_matrix_0_0)\n",
    "regional_0_1 = em.RegionMatrix(\n",
    "    regions[1], age_groups, region_data_matrix_0_1)\n",
    "regional_1_0 = em.RegionMatrix(\n",
    "    regions[0], age_groups, region_data_matrix_1_0)\n",
    "regional_1_1 = em.RegionMatrix(\n",
    "    regions[1], age_groups, region_data_matrix_1_1)\n",
    "\n",
    "# Matrices contact\n",
    "matrices_contact = [contacts_0, contacts_1]\n",
    "time_changes_contact = [1, 14]\n",
    "matrices_region = [\n",
    "    [regional_0_0, regional_0_1],\n",
    "    [regional_1_0, regional_1_1]]\n",
    "time_changes_region = [1, 14]"
   ]
  },
  {
   "cell_type": "markdown",
   "metadata": {},
   "source": [
    "### Set the parameters and initial conditions of the model and bundle everything together"
   ]
  },
  {
   "cell_type": "code",
   "execution_count": 3,
   "metadata": {},
   "outputs": [],
   "source": [
    "# Instantiate model\n",
    "model = em.PheSEIRModel()\n",
    "\n",
    "# Set the region names, contact and regional data of the model\n",
    "model.set_regions(regions)\n",
    "model.set_age_groups(age_groups)\n",
    "model.read_contact_data(matrices_contact, time_changes_contact)\n",
    "model.read_regional_data(matrices_region, time_changes_region)\n",
    "\n",
    "# Set regional and time dependent parameters\n",
    "regional_parameters = em.PheRegParameters(\n",
    "    model=model,\n",
    "    initial_r=[0.5, 1],\n",
    "    region_index=1,\n",
    "    betas=[[1] * np.arange(1, 20.5, 0.5).shape[0], [1] * np.arange(1, 20.5, 0.5).shape[0]],\n",
    "    times=np.arange(1, 20.5, 0.5).tolist()\n",
    ")\n",
    "\n",
    "# Set ICs parameters\n",
    "ICs = em.PheICs(\n",
    "    model=model,\n",
    "    susceptibles_IC=[[500, 600], [700, 800]],\n",
    "    exposed1_IC=[[0, 0], [0, 0]],\n",
    "    exposed2_IC=[[0, 0], [0, 0]],\n",
    "    infectives1_IC=[[5, 20], [50, 32]],\n",
    "    infectives2_IC=[[40, 20], [10, 0]],\n",
    "    recovered_IC=[[0, 0], [0, 0]]\n",
    ")\n",
    "\n",
    "# Set disease-specific parameters\n",
    "disease_parameters = em.PheDiseaseParameters(\n",
    "    model=model,\n",
    "    dL=4,\n",
    "    dI=4\n",
    ")\n",
    "\n",
    "# Set other simulation parameters\n",
    "simulation_parameters = em.PheSimParameters(\n",
    "    model=model,\n",
    "    delta_t=0.5,\n",
    "    method='RK45'\n",
    ")\n",
    "\n",
    "# Set all parameters in the controller\n",
    "parameters = em.PheParametersController(\n",
    "    model=model,\n",
    "    regional_parameters=regional_parameters,\n",
    "    ICs=ICs,\n",
    "    disease_parameters=disease_parameters,\n",
    "    simulation_parameters=simulation_parameters\n",
    ")"
   ]
  },
  {
   "cell_type": "markdown",
   "metadata": {},
   "source": [
    "### Simulate for one of the regions: **London**"
   ]
  },
  {
   "cell_type": "code",
   "execution_count": 4,
   "metadata": {},
   "outputs": [],
   "source": [
    "# Simulate using the ODE solver from scipy\n",
    "scipy_method = 'RK45'\n",
    "\n",
    "parameters.simulation_parameters.method = scipy_method\n",
    "output_scipy_solver = model.simulate(parameters)\n",
    "\n",
    "# Use different time steps for personalised solver\n",
    "outputs_my_solver = []\n",
    "time_steps = [0.5, 0.25, 0.05, 10**(-3)]\n",
    "\n",
    "parameters.simulation_parameters.method = 'my-solver'\n",
    "\n",
    "for ts in time_steps:\n",
    "    # Update value of time step in parameters vector\n",
    "    parameters.simulation_parameters.delta_t = ts\n",
    "\n",
    "    # Simulate using the 'homemade' discretised version of the ODE solver\n",
    "    outputs_my_solver.append(model.simulate(parameters))\n"
   ]
  },
  {
   "cell_type": "markdown",
   "metadata": {},
   "source": [
    "## Plot the comparments of the two methods against each other\n",
    "### Setup ``plotly`` and default settings for plotting"
   ]
  },
  {
   "cell_type": "code",
   "execution_count": 16,
   "metadata": {},
   "outputs": [],
   "source": [
    "from plotly.subplots import make_subplots\n",
    "\n",
    "colours = ['blue', 'red', 'green', 'purple', 'orange', 'gray', 'pink', 'skyblue', 'black']\n",
    "\n",
    "# Group outputs together\n",
    "outputs = outputs_my_solver\n",
    "outputs.append(output_scipy_solver)"
   ]
  },
  {
   "cell_type": "markdown",
   "metadata": {},
   "source": [
    "### Plot the comparments of the two methods against each other"
   ]
  },
  {
   "cell_type": "code",
   "execution_count": 6,
   "metadata": {},
   "outputs": [
    {
     "data": {
      "application/vnd.plotly.v1+json": {
       "config": {
        "plotlyServerURL": "https://plot.ly"
       },
       "data": [
        {
         "line": {
          "color": "blue"
         },
         "mode": "lines",
         "name": "my-solver with delta_t = 0.5",
         "type": "scatter",
         "x": [
          1,
          1.5,
          2,
          2.5,
          3,
          3.5,
          4,
          4.5,
          5,
          5.5,
          6,
          6.5,
          7,
          7.5,
          8,
          8.5,
          9,
          9.5,
          10,
          10.5,
          11,
          11.5,
          12,
          12.5,
          13,
          13.5,
          14,
          14.5,
          15,
          15.5,
          16,
          16.5,
          17,
          17.5,
          18,
          18.5,
          19,
          19.5,
          20
         ],
         "xaxis": "x",
         "y": [
          500,
          500,
          493.797655663191,
          488.61659016214287,
          484.335056579525,
          480.79688301707563,
          477.84230309414073,
          475.326136382919,
          473.1267107711322,
          471.14850357775185,
          469.3208834830929,
          467.59473943937905,
          465.9382534839609,
          464.33263593816207,
          462.76829941434346,
          461.2416978074671,
          459.75288690198295,
          458.3037594930804,
          456.8968539526571,
          455.53461587874614,
          454.2189950921105,
          452.9512749279133,
          451.73205053132574,
          450.5612932019985,
          449.4384561752179,
          448.36259238849243,
          447.33246647273927,
          447.302185581699,
          447.27288678717247,
          447.2445656994529,
          447.2173447251734,
          447.191402883853,
          447.1669247574364,
          447.14406787134584,
          447.1229452213221,
          447.1036189997247,
          447.08610185383867,
          447.0703626694946,
          447.05633461741314
         ],
         "yaxis": "y"
        },
        {
         "line": {
          "color": "red"
         },
         "mode": "lines",
         "name": "my-solver with delta_t = 0.25",
         "type": "scatter",
         "x": [
          1,
          1.5,
          2,
          2.5,
          3,
          3.5,
          4,
          4.5,
          5,
          5.5,
          6,
          6.5,
          7,
          7.5,
          8,
          8.5,
          9,
          9.5,
          10,
          10.5,
          11,
          11.5,
          12,
          12.5,
          13,
          13.5,
          14,
          14.5,
          15,
          15.5,
          16,
          16.5,
          17,
          17.5,
          18,
          18.5,
          19,
          19.5,
          20
         ],
         "xaxis": "x",
         "y": [
          500,
          496.64507711903923,
          490.7219288361089,
          485.74129714145823,
          481.5532552301621,
          478.00534282243507,
          474.95783385184706,
          472.2911994361821,
          469.9084719358405,
          467.7344901912509,
          465.71343057457983,
          463.80558321281114,
          461.98399471995606,
          460.2313484543373,
          458.53727439864394,
          456.89615906923416,
          455.30544869119814,
          453.7643949239886,
          452.27317197991925,
          450.83228910330797,
          449.4422269253908,
          448.1032356971896,
          446.8152447693706,
          445.5778440063064,
          444.3903080050634,
          443.25164254022235,
          442.1606394544118,
          442.1286967405972,
          442.0977909366083,
          442.0680124268186,
          442.0395167386111,
          442.01247516935257,
          441.98704251841616,
          441.96333854610305,
          441.94143965306984,
          441.9213776473999,
          441.9031430363087,
          441.8866908777863,
          441.87194777029316
         ],
         "yaxis": "y"
        },
        {
         "line": {
          "color": "green"
         },
         "mode": "lines",
         "name": "my-solver with delta_t = 0.05",
         "type": "scatter",
         "x": [
          1,
          1.5,
          2,
          2.5,
          3,
          3.5,
          4,
          4.5,
          5,
          5.5,
          6,
          6.5,
          7,
          7.5,
          8,
          8.5,
          9,
          9.5,
          10,
          10.5,
          11,
          11.5,
          12,
          12.5,
          13,
          13.5,
          14,
          14.5,
          15,
          15.5,
          16,
          16.5,
          17,
          17.5,
          18,
          18.5,
          19,
          19.5,
          20
         ],
         "xaxis": "x",
         "y": [
          500,
          493.9852147863022,
          488.25470844020776,
          483.38722532420076,
          479.23332954588625,
          475.65316089432554,
          472.5241628335262,
          469.7440181872704,
          467.2306156631624,
          464.92031814209486,
          462.7653972327097,
          460.7312009075948,
          458.79340510133017,
          456.9355464985447,
          455.1469278209378,
          453.42091731053245,
          451.75362153507257,
          450.14288754757735,
          448.58758074317353,
          447.0870837454127,
          445.6409657866329,
          444.24877880214785,
          442.9099441378707,
          441.62370131088494,
          440.3890970620866,
          439.2049987208758,
          438.07012059519684,
          438.0370234409331,
          438.00503873029936,
          437.97429748236164,
          437.94496159441536,
          437.91718871308456,
          437.89111068926417,
          437.8668223050646,
          437.8443773385943,
          437.8237895466261,
          437.805036674715,
          437.78806608674455,
          437.77280101429574
         ],
         "yaxis": "y"
        },
        {
         "line": {
          "color": "purple"
         },
         "mode": "lines",
         "name": "my-solver with delta_t = 0.001",
         "type": "scatter",
         "x": [
          1,
          1.5,
          2,
          2.5,
          3,
          3.5,
          4,
          4.5,
          5,
          5.5,
          6,
          6.5,
          7,
          7.5,
          8,
          8.5,
          9,
          9.5,
          10,
          10.5,
          11,
          11.5,
          12,
          12.5,
          13,
          13.5,
          14,
          14.5,
          15,
          15.5,
          16,
          16.5,
          17,
          17.5,
          18,
          18.5,
          19,
          19.5,
          20
         ],
         "xaxis": "x",
         "y": [
          500,
          493.3357884212904,
          487.64678233400036,
          482.8013412250108,
          478.65176636647203,
          475.06171384730396,
          471.91261793858007,
          469.1058863997372,
          466.5625066659857,
          464.22119674102794,
          462.0358663292134,
          459.9728860856578,
          458.00847008867663,
          456.12634039557264,
          454.31574924009095,
          452.56987352084514,
          450.88455927258667,
          449.2573740031506,
          447.68691671400603,
          446.1723349284383,
          444.71300202619494,
          443.308314422807,
          441.95757515352926,
          440.659937297219,
          439.4143868800981,
          438.219750189179,
          437.07471473918434,
          437.0413576738157,
          437.00913397279345,
          436.9781810283584,
          436.94866050881217,
          436.9207261934438,
          436.89450454678996,
          436.87008482975943,
          436.8475159702338,
          436.8268079308334,
          436.80793582034113,
          436.79084544957345,
          436.77545941279465
         ],
         "yaxis": "y"
        },
        {
         "line": {
          "color": "orange"
         },
         "mode": "lines",
         "name": "scipy-solver RK45",
         "type": "scatter",
         "x": [
          1,
          1.5,
          2,
          2.5,
          3,
          3.5,
          4,
          4.5,
          5,
          5.5,
          6,
          6.5,
          7,
          7.5,
          8,
          8.5,
          9,
          9.5,
          10,
          10.5,
          11,
          11.5,
          12,
          12.5,
          13,
          13.5,
          14,
          14.5,
          15,
          15.5,
          16,
          16.5,
          17,
          17.5,
          18,
          18.5,
          19,
          19.5,
          20
         ],
         "xaxis": "x",
         "y": [
          500,
          493.32253843680957,
          487.6344612559719,
          482.7894591013214,
          478.6399621893432,
          475.04946758020407,
          471.90024348152934,
          469.09238538083997,
          466.5486767975684,
          464.2067922631574,
          462.0204381748518,
          459.9567510255248,
          457.9917393325909,
          456.1096036868108,
          454.29896510682954,
          452.5520323711702,
          450.86613225504044,
          449.23951080471863,
          447.66969503049773,
          446.1543347377806,
          444.6940026555943,
          443.28911162735375,
          441.9389635210004,
          440.64175479962995,
          439.29778528866433,
          438.02939042243827,
          437.1984159733702,
          436.8954952236885,
          436.93205343414905,
          436.9280473477223,
          436.8984596925517,
          436.8704829606888,
          436.8442225352996,
          436.8197462235238,
          436.7971304444609,
          436.77638862508803,
          436.7574840225292,
          436.7403658262931,
          436.72495822136335
         ],
         "yaxis": "y"
        },
        {
         "line": {
          "color": "blue"
         },
         "mode": "lines",
         "name": "my-solver with delta_t = 0.5",
         "showlegend": false,
         "type": "scatter",
         "x": [
          1,
          1.5,
          2,
          2.5,
          3,
          3.5,
          4,
          4.5,
          5,
          5.5,
          6,
          6.5,
          7,
          7.5,
          8,
          8.5,
          9,
          9.5,
          10,
          10.5,
          11,
          11.5,
          12,
          12.5,
          13,
          13.5,
          14,
          14.5,
          15,
          15.5,
          16,
          16.5,
          17,
          17.5,
          18,
          18.5,
          19,
          19.5,
          20
         ],
         "xaxis": "x2",
         "y": [
          600,
          600,
          597.8202296709368,
          595.957673980427,
          594.3902743554655,
          593.0785721896242,
          591.977175063176,
          591.0419244918061,
          590.2338348766144,
          589.5207771988163,
          588.8777073615507,
          588.2860494443852,
          587.732669424024,
          587.2087287271274,
          586.7085931253167,
          586.2288893631807,
          585.7677452115015,
          585.324213009898,
          584.8978568628148,
          584.4884747345403,
          584.0959248745348,
          583.7200283390523,
          583.3605237535991,
          583.0170554882806,
          582.6891812507281,
          582.3763892947767,
          582.0781188232459,
          581.7937797241451,
          581.5227696086445,
          581.2644873449694,
          581.0183430422576,
          580.783764859086,
          580.5602031997817,
          580.3471329020267,
          580.1440539741855,
          579.9504913539159,
          579.765994059529,
          579.5901340093245,
          579.4225047007019
         ],
         "yaxis": "y2"
        },
        {
         "line": {
          "color": "red"
         },
         "mode": "lines",
         "name": "my-solver with delta_t = 0.25",
         "showlegend": false,
         "type": "scatter",
         "x": [
          1,
          1.5,
          2,
          2.5,
          3,
          3.5,
          4,
          4.5,
          5,
          5.5,
          6,
          6.5,
          7,
          7.5,
          8,
          8.5,
          9,
          9.5,
          10,
          10.5,
          11,
          11.5,
          12,
          12.5,
          13,
          13.5,
          14,
          14.5,
          15,
          15.5,
          16,
          16.5,
          17,
          17.5,
          18,
          18.5,
          19,
          19.5,
          20
         ],
         "xaxis": "x2",
         "y": [
          600,
          598.8325696019069,
          596.7351023770153,
          594.9367430067869,
          593.4032447297484,
          592.0939877608849,
          590.9683804222472,
          589.9894764454393,
          589.1256834170891,
          588.3512342901148,
          587.6459163930392,
          586.9944063173397,
          586.3854442632398,
          585.8109948128413,
          585.265478404983,
          584.7451144434662,
          584.2473886321422,
          583.7706399464432,
          583.3137533953055,
          582.8759408247087,
          582.4565914992991,
          582.0551756395848,
          581.6711864950806,
          581.3041092476726,
          580.9534076691418,
          580.6185217888296,
          580.2988717708233,
          579.9938647411086,
          579.7029024746731,
          579.4253887032937,
          579.160735396573,
          578.908367759851,
          578.6677279344917,
          578.4382775217532,
          578.2194991150785,
          578.0108970430958,
          577.8119975157109,
          577.6223483415063,
          577.4415183548948
         ],
         "yaxis": "y2"
        },
        {
         "line": {
          "color": "green"
         },
         "mode": "lines",
         "name": "my-solver with delta_t = 0.05",
         "showlegend": false,
         "type": "scatter",
         "x": [
          1,
          1.5,
          2,
          2.5,
          3,
          3.5,
          4,
          4.5,
          5,
          5.5,
          6,
          6.5,
          7,
          7.5,
          8,
          8.5,
          9,
          9.5,
          10,
          10.5,
          11,
          11.5,
          12,
          12.5,
          13,
          13.5,
          14,
          14.5,
          15,
          15.5,
          16,
          16.5,
          17,
          17.5,
          18,
          18.5,
          19,
          19.5,
          20
         ],
         "xaxis": "x2",
         "y": [
          600,
          597.9014078325749,
          595.8610326181522,
          594.0994724340785,
          592.5800598911748,
          591.2644352919367,
          590.1163836683443,
          589.1038440426036,
          588.1997091449468,
          587.3818683905033,
          586.632815421271,
          585.9390400405665,
          585.2903482082171,
          584.6791982573043,
          584.1001023540899,
          583.5491157006685,
          583.0234189042259,
          582.5209887111929,
          582.0403468676267,
          581.5803746326809,
          581.1401802590298,
          580.7190077139063,
          580.3161764613947,
          579.9310438759759,
          579.5629835722337,
          579.2113744840979,
          578.8755968482292,
          578.5550323250928,
          578.2490663401275,
          577.9570913729872,
          577.6785103976727,
          577.4127400136869,
          577.1592130387575,
          576.9173804837066,
          576.686712921667,
          576.4667013145012,
          576.256857382401,
          576.0567136081553,
          575.8658229626865
         ],
         "yaxis": "y2"
        },
        {
         "line": {
          "color": "purple"
         },
         "mode": "lines",
         "name": "my-solver with delta_t = 0.001",
         "showlegend": false,
         "type": "scatter",
         "x": [
          1,
          1.5,
          2,
          2.5,
          3,
          3.5,
          4,
          4.5,
          5,
          5.5,
          6,
          6.5,
          7,
          7.5,
          8,
          8.5,
          9,
          9.5,
          10,
          10.5,
          11,
          11.5,
          12,
          12.5,
          13,
          13.5,
          14,
          14.5,
          15,
          15.5,
          16,
          16.5,
          17,
          17.5,
          18,
          18.5,
          19,
          19.5,
          20
         ],
         "xaxis": "x2",
         "y": [
          600,
          597.6732651379477,
          595.6452653931065,
          593.8909729098459,
          592.3736837538611,
          591.055769450319,
          589.902051787459,
          588.8815336097151,
          587.9680486698833,
          587.1402399672269,
          586.3811554169314,
          585.6776575025382,
          585.0197748577106,
          584.4000739183082,
          583.8130938115091,
          583.2548640220975,
          582.7225091992935,
          582.213936395022,
          581.7275952095247,
          581.2622993496901,
          580.8170979314181,
          580.3911857278524,
          579.9838429618083,
          579.5943968217744,
          579.222198435487,
          578.8666104448121,
          578.5270015348906,
          578.2027452642732,
          577.893221330587,
          577.5978180108519,
          577.315934965109,
          577.0469859156682,
          576.7904009391935,
          576.545628258613,
          576.312135516441,
          576.0894105661968,
          575.8769618468233,
          575.6743184153887,
          575.481029712818
         ],
         "yaxis": "y2"
        },
        {
         "line": {
          "color": "orange"
         },
         "mode": "lines",
         "name": "scipy-solver RK45",
         "showlegend": false,
         "type": "scatter",
         "x": [
          1,
          1.5,
          2,
          2.5,
          3,
          3.5,
          4,
          4.5,
          5,
          5.5,
          6,
          6.5,
          7,
          7.5,
          8,
          8.5,
          9,
          9.5,
          10,
          10.5,
          11,
          11.5,
          12,
          12.5,
          13,
          13.5,
          14,
          14.5,
          15,
          15.5,
          16,
          16.5,
          17,
          17.5,
          18,
          18.5,
          19,
          19.5,
          20
         ],
         "xaxis": "x2",
         "y": [
          600,
          597.6686073209023,
          595.640892313546,
          593.8867501585441,
          592.3694987677179,
          591.0514563399629,
          589.8977332397627,
          588.8768163281034,
          587.9632929977128,
          587.1352870832324,
          586.3757821332555,
          585.6720969813928,
          585.0140437913564,
          584.3942556882408,
          583.807198069003,
          583.2486481117281,
          582.7161066728085,
          582.2076769378377,
          581.7215012444626,
          581.2559461064633,
          580.8104056673851,
          580.3844249981594,
          579.9772802831286,
          579.5879783982358,
          579.2155814365274,
          578.8597848094817,
          578.5200374762477,
          578.1957188733707,
          577.8861485377452,
          577.5906262686607,
          577.3086285672281,
          577.0395807970473,
          576.7829103958084,
          576.5380637415543,
          576.3045049689981,
          576.0817197189378,
          575.8692161853287,
          575.6665220395316,
          575.4731856582135
         ],
         "yaxis": "y2"
        }
       ],
       "layout": {
        "annotations": [
         {
          "font": {
           "size": 16
          },
          "showarrow": false,
          "text": "ages 0-10",
          "x": 0.225,
          "xanchor": "center",
          "xref": "paper",
          "y": 1,
          "yanchor": "bottom",
          "yref": "paper"
         },
         {
          "font": {
           "size": 16
          },
          "showarrow": false,
          "text": "ages 10-25",
          "x": 0.775,
          "xanchor": "center",
          "xref": "paper",
          "y": 1,
          "yanchor": "bottom",
          "yref": "paper"
         }
        ],
        "boxmode": "group",
        "legend": {
         "orientation": "h",
         "x": 1,
         "xanchor": "right",
         "y": 1.02,
         "yanchor": "bottom"
        },
        "plot_bgcolor": "white",
        "template": {
         "data": {
          "bar": [
           {
            "error_x": {
             "color": "#2a3f5f"
            },
            "error_y": {
             "color": "#2a3f5f"
            },
            "marker": {
             "line": {
              "color": "#E5ECF6",
              "width": 0.5
             },
             "pattern": {
              "fillmode": "overlay",
              "size": 10,
              "solidity": 0.2
             }
            },
            "type": "bar"
           }
          ],
          "barpolar": [
           {
            "marker": {
             "line": {
              "color": "#E5ECF6",
              "width": 0.5
             },
             "pattern": {
              "fillmode": "overlay",
              "size": 10,
              "solidity": 0.2
             }
            },
            "type": "barpolar"
           }
          ],
          "carpet": [
           {
            "aaxis": {
             "endlinecolor": "#2a3f5f",
             "gridcolor": "white",
             "linecolor": "white",
             "minorgridcolor": "white",
             "startlinecolor": "#2a3f5f"
            },
            "baxis": {
             "endlinecolor": "#2a3f5f",
             "gridcolor": "white",
             "linecolor": "white",
             "minorgridcolor": "white",
             "startlinecolor": "#2a3f5f"
            },
            "type": "carpet"
           }
          ],
          "choropleth": [
           {
            "colorbar": {
             "outlinewidth": 0,
             "ticks": ""
            },
            "type": "choropleth"
           }
          ],
          "contour": [
           {
            "colorbar": {
             "outlinewidth": 0,
             "ticks": ""
            },
            "colorscale": [
             [
              0,
              "#0d0887"
             ],
             [
              0.1111111111111111,
              "#46039f"
             ],
             [
              0.2222222222222222,
              "#7201a8"
             ],
             [
              0.3333333333333333,
              "#9c179e"
             ],
             [
              0.4444444444444444,
              "#bd3786"
             ],
             [
              0.5555555555555556,
              "#d8576b"
             ],
             [
              0.6666666666666666,
              "#ed7953"
             ],
             [
              0.7777777777777778,
              "#fb9f3a"
             ],
             [
              0.8888888888888888,
              "#fdca26"
             ],
             [
              1,
              "#f0f921"
             ]
            ],
            "type": "contour"
           }
          ],
          "contourcarpet": [
           {
            "colorbar": {
             "outlinewidth": 0,
             "ticks": ""
            },
            "type": "contourcarpet"
           }
          ],
          "heatmap": [
           {
            "colorbar": {
             "outlinewidth": 0,
             "ticks": ""
            },
            "colorscale": [
             [
              0,
              "#0d0887"
             ],
             [
              0.1111111111111111,
              "#46039f"
             ],
             [
              0.2222222222222222,
              "#7201a8"
             ],
             [
              0.3333333333333333,
              "#9c179e"
             ],
             [
              0.4444444444444444,
              "#bd3786"
             ],
             [
              0.5555555555555556,
              "#d8576b"
             ],
             [
              0.6666666666666666,
              "#ed7953"
             ],
             [
              0.7777777777777778,
              "#fb9f3a"
             ],
             [
              0.8888888888888888,
              "#fdca26"
             ],
             [
              1,
              "#f0f921"
             ]
            ],
            "type": "heatmap"
           }
          ],
          "heatmapgl": [
           {
            "colorbar": {
             "outlinewidth": 0,
             "ticks": ""
            },
            "colorscale": [
             [
              0,
              "#0d0887"
             ],
             [
              0.1111111111111111,
              "#46039f"
             ],
             [
              0.2222222222222222,
              "#7201a8"
             ],
             [
              0.3333333333333333,
              "#9c179e"
             ],
             [
              0.4444444444444444,
              "#bd3786"
             ],
             [
              0.5555555555555556,
              "#d8576b"
             ],
             [
              0.6666666666666666,
              "#ed7953"
             ],
             [
              0.7777777777777778,
              "#fb9f3a"
             ],
             [
              0.8888888888888888,
              "#fdca26"
             ],
             [
              1,
              "#f0f921"
             ]
            ],
            "type": "heatmapgl"
           }
          ],
          "histogram": [
           {
            "marker": {
             "pattern": {
              "fillmode": "overlay",
              "size": 10,
              "solidity": 0.2
             }
            },
            "type": "histogram"
           }
          ],
          "histogram2d": [
           {
            "colorbar": {
             "outlinewidth": 0,
             "ticks": ""
            },
            "colorscale": [
             [
              0,
              "#0d0887"
             ],
             [
              0.1111111111111111,
              "#46039f"
             ],
             [
              0.2222222222222222,
              "#7201a8"
             ],
             [
              0.3333333333333333,
              "#9c179e"
             ],
             [
              0.4444444444444444,
              "#bd3786"
             ],
             [
              0.5555555555555556,
              "#d8576b"
             ],
             [
              0.6666666666666666,
              "#ed7953"
             ],
             [
              0.7777777777777778,
              "#fb9f3a"
             ],
             [
              0.8888888888888888,
              "#fdca26"
             ],
             [
              1,
              "#f0f921"
             ]
            ],
            "type": "histogram2d"
           }
          ],
          "histogram2dcontour": [
           {
            "colorbar": {
             "outlinewidth": 0,
             "ticks": ""
            },
            "colorscale": [
             [
              0,
              "#0d0887"
             ],
             [
              0.1111111111111111,
              "#46039f"
             ],
             [
              0.2222222222222222,
              "#7201a8"
             ],
             [
              0.3333333333333333,
              "#9c179e"
             ],
             [
              0.4444444444444444,
              "#bd3786"
             ],
             [
              0.5555555555555556,
              "#d8576b"
             ],
             [
              0.6666666666666666,
              "#ed7953"
             ],
             [
              0.7777777777777778,
              "#fb9f3a"
             ],
             [
              0.8888888888888888,
              "#fdca26"
             ],
             [
              1,
              "#f0f921"
             ]
            ],
            "type": "histogram2dcontour"
           }
          ],
          "mesh3d": [
           {
            "colorbar": {
             "outlinewidth": 0,
             "ticks": ""
            },
            "type": "mesh3d"
           }
          ],
          "parcoords": [
           {
            "line": {
             "colorbar": {
              "outlinewidth": 0,
              "ticks": ""
             }
            },
            "type": "parcoords"
           }
          ],
          "pie": [
           {
            "automargin": true,
            "type": "pie"
           }
          ],
          "scatter": [
           {
            "fillpattern": {
             "fillmode": "overlay",
             "size": 10,
             "solidity": 0.2
            },
            "type": "scatter"
           }
          ],
          "scatter3d": [
           {
            "line": {
             "colorbar": {
              "outlinewidth": 0,
              "ticks": ""
             }
            },
            "marker": {
             "colorbar": {
              "outlinewidth": 0,
              "ticks": ""
             }
            },
            "type": "scatter3d"
           }
          ],
          "scattercarpet": [
           {
            "marker": {
             "colorbar": {
              "outlinewidth": 0,
              "ticks": ""
             }
            },
            "type": "scattercarpet"
           }
          ],
          "scattergeo": [
           {
            "marker": {
             "colorbar": {
              "outlinewidth": 0,
              "ticks": ""
             }
            },
            "type": "scattergeo"
           }
          ],
          "scattergl": [
           {
            "marker": {
             "colorbar": {
              "outlinewidth": 0,
              "ticks": ""
             }
            },
            "type": "scattergl"
           }
          ],
          "scattermapbox": [
           {
            "marker": {
             "colorbar": {
              "outlinewidth": 0,
              "ticks": ""
             }
            },
            "type": "scattermapbox"
           }
          ],
          "scatterpolar": [
           {
            "marker": {
             "colorbar": {
              "outlinewidth": 0,
              "ticks": ""
             }
            },
            "type": "scatterpolar"
           }
          ],
          "scatterpolargl": [
           {
            "marker": {
             "colorbar": {
              "outlinewidth": 0,
              "ticks": ""
             }
            },
            "type": "scatterpolargl"
           }
          ],
          "scatterternary": [
           {
            "marker": {
             "colorbar": {
              "outlinewidth": 0,
              "ticks": ""
             }
            },
            "type": "scatterternary"
           }
          ],
          "surface": [
           {
            "colorbar": {
             "outlinewidth": 0,
             "ticks": ""
            },
            "colorscale": [
             [
              0,
              "#0d0887"
             ],
             [
              0.1111111111111111,
              "#46039f"
             ],
             [
              0.2222222222222222,
              "#7201a8"
             ],
             [
              0.3333333333333333,
              "#9c179e"
             ],
             [
              0.4444444444444444,
              "#bd3786"
             ],
             [
              0.5555555555555556,
              "#d8576b"
             ],
             [
              0.6666666666666666,
              "#ed7953"
             ],
             [
              0.7777777777777778,
              "#fb9f3a"
             ],
             [
              0.8888888888888888,
              "#fdca26"
             ],
             [
              1,
              "#f0f921"
             ]
            ],
            "type": "surface"
           }
          ],
          "table": [
           {
            "cells": {
             "fill": {
              "color": "#EBF0F8"
             },
             "line": {
              "color": "white"
             }
            },
            "header": {
             "fill": {
              "color": "#C8D4E3"
             },
             "line": {
              "color": "white"
             }
            },
            "type": "table"
           }
          ]
         },
         "layout": {
          "annotationdefaults": {
           "arrowcolor": "#2a3f5f",
           "arrowhead": 0,
           "arrowwidth": 1
          },
          "autotypenumbers": "strict",
          "coloraxis": {
           "colorbar": {
            "outlinewidth": 0,
            "ticks": ""
           }
          },
          "colorscale": {
           "diverging": [
            [
             0,
             "#8e0152"
            ],
            [
             0.1,
             "#c51b7d"
            ],
            [
             0.2,
             "#de77ae"
            ],
            [
             0.3,
             "#f1b6da"
            ],
            [
             0.4,
             "#fde0ef"
            ],
            [
             0.5,
             "#f7f7f7"
            ],
            [
             0.6,
             "#e6f5d0"
            ],
            [
             0.7,
             "#b8e186"
            ],
            [
             0.8,
             "#7fbc41"
            ],
            [
             0.9,
             "#4d9221"
            ],
            [
             1,
             "#276419"
            ]
           ],
           "sequential": [
            [
             0,
             "#0d0887"
            ],
            [
             0.1111111111111111,
             "#46039f"
            ],
            [
             0.2222222222222222,
             "#7201a8"
            ],
            [
             0.3333333333333333,
             "#9c179e"
            ],
            [
             0.4444444444444444,
             "#bd3786"
            ],
            [
             0.5555555555555556,
             "#d8576b"
            ],
            [
             0.6666666666666666,
             "#ed7953"
            ],
            [
             0.7777777777777778,
             "#fb9f3a"
            ],
            [
             0.8888888888888888,
             "#fdca26"
            ],
            [
             1,
             "#f0f921"
            ]
           ],
           "sequentialminus": [
            [
             0,
             "#0d0887"
            ],
            [
             0.1111111111111111,
             "#46039f"
            ],
            [
             0.2222222222222222,
             "#7201a8"
            ],
            [
             0.3333333333333333,
             "#9c179e"
            ],
            [
             0.4444444444444444,
             "#bd3786"
            ],
            [
             0.5555555555555556,
             "#d8576b"
            ],
            [
             0.6666666666666666,
             "#ed7953"
            ],
            [
             0.7777777777777778,
             "#fb9f3a"
            ],
            [
             0.8888888888888888,
             "#fdca26"
            ],
            [
             1,
             "#f0f921"
            ]
           ]
          },
          "colorway": [
           "#636efa",
           "#EF553B",
           "#00cc96",
           "#ab63fa",
           "#FFA15A",
           "#19d3f3",
           "#FF6692",
           "#B6E880",
           "#FF97FF",
           "#FECB52"
          ],
          "font": {
           "color": "#2a3f5f"
          },
          "geo": {
           "bgcolor": "white",
           "lakecolor": "white",
           "landcolor": "#E5ECF6",
           "showlakes": true,
           "showland": true,
           "subunitcolor": "white"
          },
          "hoverlabel": {
           "align": "left"
          },
          "hovermode": "closest",
          "mapbox": {
           "style": "light"
          },
          "paper_bgcolor": "white",
          "plot_bgcolor": "#E5ECF6",
          "polar": {
           "angularaxis": {
            "gridcolor": "white",
            "linecolor": "white",
            "ticks": ""
           },
           "bgcolor": "#E5ECF6",
           "radialaxis": {
            "gridcolor": "white",
            "linecolor": "white",
            "ticks": ""
           }
          },
          "scene": {
           "xaxis": {
            "backgroundcolor": "#E5ECF6",
            "gridcolor": "white",
            "gridwidth": 2,
            "linecolor": "white",
            "showbackground": true,
            "ticks": "",
            "zerolinecolor": "white"
           },
           "yaxis": {
            "backgroundcolor": "#E5ECF6",
            "gridcolor": "white",
            "gridwidth": 2,
            "linecolor": "white",
            "showbackground": true,
            "ticks": "",
            "zerolinecolor": "white"
           },
           "zaxis": {
            "backgroundcolor": "#E5ECF6",
            "gridcolor": "white",
            "gridwidth": 2,
            "linecolor": "white",
            "showbackground": true,
            "ticks": "",
            "zerolinecolor": "white"
           }
          },
          "shapedefaults": {
           "line": {
            "color": "#2a3f5f"
           }
          },
          "ternary": {
           "aaxis": {
            "gridcolor": "white",
            "linecolor": "white",
            "ticks": ""
           },
           "baxis": {
            "gridcolor": "white",
            "linecolor": "white",
            "ticks": ""
           },
           "bgcolor": "#E5ECF6",
           "caxis": {
            "gridcolor": "white",
            "linecolor": "white",
            "ticks": ""
           }
          },
          "title": {
           "x": 0.05
          },
          "xaxis": {
           "automargin": true,
           "gridcolor": "white",
           "linecolor": "white",
           "ticks": "",
           "title": {
            "standoff": 15
           },
           "zerolinecolor": "white",
           "zerolinewidth": 2
          },
          "yaxis": {
           "automargin": true,
           "gridcolor": "white",
           "linecolor": "white",
           "ticks": "",
           "title": {
            "standoff": 15
           },
           "zerolinecolor": "white",
           "zerolinewidth": 2
          }
         }
        },
        "title": {
         "text": "S in region London"
        },
        "width": 800,
        "xaxis": {
         "anchor": "y",
         "domain": [
          0,
          0.45
         ],
         "linecolor": "black"
        },
        "xaxis2": {
         "anchor": "y2",
         "domain": [
          0.55,
          1
         ],
         "linecolor": "black"
        },
        "xaxis3": {
         "linecolor": "black"
        },
        "xaxis4": {
         "linecolor": "black"
        },
        "xaxis5": {
         "linecolor": "black"
        },
        "xaxis6": {
         "linecolor": "black"
        },
        "xaxis7": {
         "linecolor": "black"
        },
        "xaxis8": {
         "linecolor": "black"
        },
        "yaxis": {
         "anchor": "x",
         "domain": [
          0,
          1
         ],
         "linecolor": "black"
        },
        "yaxis2": {
         "anchor": "x2",
         "domain": [
          0,
          1
         ],
         "linecolor": "black"
        },
        "yaxis3": {
         "linecolor": "black"
        },
        "yaxis4": {
         "linecolor": "black"
        },
        "yaxis5": {
         "linecolor": "black"
        },
        "yaxis6": {
         "linecolor": "black"
        },
        "yaxis7": {
         "linecolor": "black"
        },
        "yaxis8": {
         "linecolor": "black"
        }
       }
      }
     },
     "metadata": {},
     "output_type": "display_data"
    },
    {
     "data": {
      "application/vnd.plotly.v1+json": {
       "config": {
        "plotlyServerURL": "https://plot.ly"
       },
       "data": [
        {
         "line": {
          "color": "blue"
         },
         "mode": "lines",
         "name": "my-solver with delta_t = 0.5",
         "type": "scatter",
         "x": [
          1,
          1.5,
          2,
          2.5,
          3,
          3.5,
          4,
          4.5,
          5,
          5.5,
          6,
          6.5,
          7,
          7.5,
          8,
          8.5,
          9,
          9.5,
          10,
          10.5,
          11,
          11.5,
          12,
          12.5,
          13,
          13.5,
          14,
          14.5,
          15,
          15.5,
          16,
          16.5,
          17,
          17.5,
          18,
          18.5,
          19,
          19.5,
          20
         ],
         "xaxis": "x",
         "y": [
          0,
          0,
          6.202344336809023,
          9.832823753654864,
          11.656151397859052,
          12.280287110843659,
          12.164795256067599,
          11.63976315327244,
          10.929247976741172,
          10.175143175936247,
          9.458977476611135,
          8.82037715117223,
          8.271768818797335,
          7.809444159896871,
          7.421419643741217,
          7.092666339682253,
          6.808310660245836,
          6.5553604040868905,
          6.323425843488495,
          6.10480745652737,
          5.894226379031167,
          5.688389948470599,
          5.485516857940492,
          5.2848949727826025,
          5.086508256367572,
          4.890744979001131,
          4.698184650003982,
          3.5539193785432253,
          2.694738328433925,
          2.04937483404499,
          1.5642520998132186,
          1.1991309161803296,
          0.9238263135519097,
          0.7157266212545161,
          0.55791761596465,
          0.437764433570911,
          0.34584047106418886,
          0.27511953764218244,
          0.2203677053131552
         ],
         "yaxis": "y"
        },
        {
         "line": {
          "color": "red"
         },
         "mode": "lines",
         "name": "my-solver with delta_t = 0.25",
         "type": "scatter",
         "x": [
          1,
          1.5,
          2,
          2.5,
          3,
          3.5,
          4,
          4.5,
          5,
          5.5,
          6,
          6.5,
          7,
          7.5,
          8,
          8.5,
          9,
          9.5,
          10,
          10.5,
          11,
          11.5,
          12,
          12.5,
          13,
          13.5,
          14,
          14.5,
          15,
          15.5,
          16,
          16.5,
          17,
          17.5,
          18,
          18.5,
          19,
          19.5,
          20
         ],
         "xaxis": "x",
         "y": [
          0,
          3.3549228809607867,
          8.105757628009481,
          10.861719120259519,
          12.231120546755477,
          12.681761207078592,
          12.559693155643279,
          12.11085763102089,
          11.50239452771557,
          10.841855328436823,
          10.1935019320383,
          9.5914810295417,
          9.050028362153714,
          8.571054464650995,
          8.149547826224275,
          7.7772425238426655,
          7.444964348505572,
          7.144013175260833,
          6.866874344889493,
          6.607487587465472,
          6.36124408546268,
          6.124833346609368,
          5.89602237238559,
          5.673419675948533,
          5.4562548619492235,
          5.244189293971461,
          5.0371633894402565,
          3.8865084826184058,
          3.004565619765684,
          2.328269183689523,
          1.809274408567601,
          1.4105531774869924,
          1.103771691735945,
          0.8672699357466959,
          0.6845051760055834,
          0.5428536650037202,
          0.4326889892743881,
          0.3466740558900161,
          0.27921797109364194
         ],
         "yaxis": "y"
        },
        {
         "line": {
          "color": "green"
         },
         "mode": "lines",
         "name": "my-solver with delta_t = 0.05",
         "type": "scatter",
         "x": [
          1,
          1.5,
          2,
          2.5,
          3,
          3.5,
          4,
          4.5,
          5,
          5.5,
          6,
          6.5,
          7,
          7.5,
          8,
          8.5,
          9,
          9.5,
          10,
          10.5,
          11,
          11.5,
          12,
          12.5,
          13,
          13.5,
          14,
          14.5,
          15,
          15.5,
          16,
          16.5,
          17,
          17.5,
          18,
          18.5,
          19,
          19.5,
          20
         ],
         "xaxis": "x",
         "y": [
          0,
          5.432457370924787,
          9.326858967772932,
          11.580873240271394,
          12.695034232638562,
          13.049152053204583,
          12.922511452660778,
          12.513799986909167,
          11.959207029605036,
          11.34797447815369,
          10.735202137469267,
          10.152019418633776,
          9.613401892128627,
          9.123985391116188,
          8.682245461707474,
          8.283389387953564,
          7.92126801430843,
          7.58956623176734,
          7.2824815602565485,
          6.995054195491916,
          6.723271581606201,
          6.464036971404067,
          6.215064549755829,
          5.974742963124743,
          5.741993673026193,
          5.516139490531024,
          5.296791035048618,
          4.141647258728847,
          3.2438777578451115,
          2.545797315307401,
          2.0025963637122053,
          1.5794922277930126,
          1.2495054600958957,
          0.9917244133506126,
          0.7899514617095725,
          0.6316476623610593,
          0.5071107869987475,
          0.4088357765965973,
          0.3310177042641174
         ],
         "yaxis": "y"
        },
        {
         "line": {
          "color": "purple"
         },
         "mode": "lines",
         "name": "my-solver with delta_t = 0.001",
         "type": "scatter",
         "x": [
          1,
          1.5,
          2,
          2.5,
          3,
          3.5,
          4,
          4.5,
          5,
          5.5,
          6,
          6.5,
          7,
          7.5,
          8,
          8.5,
          9,
          9.5,
          10,
          10.5,
          11,
          11.5,
          12,
          12.5,
          13,
          13.5,
          14,
          14.5,
          15,
          15.5,
          16,
          16.5,
          17,
          17.5,
          18,
          18.5,
          19,
          19.5,
          20
         ],
         "xaxis": "x",
         "y": [
          0,
          5.879823150012079,
          9.596736702088263,
          11.747506808086463,
          12.809234070037707,
          13.143243673781361,
          13.015112303617158,
          12.613970160639157,
          12.069798831052845,
          11.46817288602219,
          10.8623390384899,
          10.282785461731168,
          9.744589525299515,
          9.25288809951911,
          8.806820324253179,
          8.402268715625796,
          8.033684719540043,
          7.69523878934085,
          7.381488912070527,
          7.087718932118794,
          6.8100609586955,
          6.545485310307954,
          6.2917167672105,
          6.047116823902607,
          5.810557376318702,
          5.581300987408578,
          5.358895724199203,
          4.202752043370206,
          3.3013976520397086,
          2.598338534054098,
          2.0495591004128646,
          1.6207895636438698,
          1.2853666874347343,
          1.0225594564627427,
          0.8162592526703427,
          0.6539558841721524,
          0.525937765355799,
          0.4246677972805104,
          0.34429688198216085
         ],
         "yaxis": "y"
        },
        {
         "line": {
          "color": "orange"
         },
         "mode": "lines",
         "name": "scipy-solver RK45",
         "type": "scatter",
         "x": [
          1,
          1.5,
          2,
          2.5,
          3,
          3.5,
          4,
          4.5,
          5,
          5.5,
          6,
          6.5,
          7,
          7.5,
          8,
          8.5,
          9,
          9.5,
          10,
          10.5,
          11,
          11.5,
          12,
          12.5,
          13,
          13.5,
          14,
          14.5,
          15,
          15.5,
          16,
          16.5,
          17,
          17.5,
          18,
          18.5,
          19,
          19.5,
          20
         ],
         "xaxis": "x",
         "y": [
          0,
          5.888736387747049,
          9.602107081606768,
          11.750971552032963,
          12.811647342131932,
          13.145485785386649,
          13.017496885880776,
          12.616061315577104,
          12.073366108275074,
          11.471675649498277,
          10.86421464336488,
          10.286287350726441,
          9.749222059446682,
          9.2549622565503,
          8.807060149753815,
          8.404446243326577,
          8.036639331766995,
          7.696305237732387,
          7.380544609403698,
          7.087702942071313,
          6.811057304045243,
          6.546579076191103,
          6.2920204023606425,
          6.046857198370301,
          5.8928882715120485,
          5.710512915813616,
          5.1957357004116425,
          4.313038307240882,
          3.3023065708677266,
          2.5714179257670136,
          2.0280386589320347,
          1.604742603085385,
          1.273727535634659,
          1.0132481002266163,
          0.8090258336308436,
          0.6487917286032563,
          0.5220674624205444,
          0.4216918690968421,
          0.3420422337948646
         ],
         "yaxis": "y"
        },
        {
         "line": {
          "color": "blue"
         },
         "mode": "lines",
         "name": "my-solver with delta_t = 0.5",
         "showlegend": false,
         "type": "scatter",
         "x": [
          1,
          1.5,
          2,
          2.5,
          3,
          3.5,
          4,
          4.5,
          5,
          5.5,
          6,
          6.5,
          7,
          7.5,
          8,
          8.5,
          9,
          9.5,
          10,
          10.5,
          11,
          11.5,
          12,
          12.5,
          13,
          13.5,
          14,
          14.5,
          15,
          15.5,
          16,
          16.5,
          17,
          17.5,
          18,
          18.5,
          19,
          19.5,
          20
         ],
         "xaxis": "x2",
         "y": [
          0,
          0,
          2.179770329063224,
          3.49738343730719,
          4.190437202941888,
          4.454530068047745,
          4.442294677484043,
          4.266971579482928,
          4.008318299803822,
          3.7192964026510054,
          3.4325421392537803,
          3.1660645216058545,
          2.9279284115655826,
          2.719887005570757,
          2.5400508559887416,
          2.384741904127581,
          2.249700579774802,
          2.1308076364345476,
          2.024461874409139,
          1.9277285340813233,
          1.8383462605664487,
          1.754656230907358,
          1.675496758633669,
          1.6000908342937072,
          1.5279423632728282,
          1.458748728406082,
          1.3923320178353977,
          1.328588112477326,
          1.2674511998586333,
          1.2088706635689501,
          1.1527973003885181,
          1.0991761584630122,
          1.0479437781515348,
          0.9990281313685628,
          0.9523500263676951,
          0.9078251400452805,
          0.8653661494209278,
          0.8248846622701917,
          0.7862928053252538
         ],
         "yaxis": "y2"
        },
        {
         "line": {
          "color": "red"
         },
         "mode": "lines",
         "name": "my-solver with delta_t = 0.25",
         "showlegend": false,
         "type": "scatter",
         "x": [
          1,
          1.5,
          2,
          2.5,
          3,
          3.5,
          4,
          4.5,
          5,
          5.5,
          6,
          6.5,
          7,
          7.5,
          8,
          8.5,
          9,
          9.5,
          10,
          10.5,
          11,
          11.5,
          12,
          12.5,
          13,
          13.5,
          14,
          14.5,
          15,
          15.5,
          16,
          16.5,
          17,
          17.5,
          18,
          18.5,
          19,
          19.5,
          20
         ],
         "xaxis": "x2",
         "y": [
          0,
          1.16743039809305,
          2.8553105539215964,
          3.8676220571797826,
          4.394974368253672,
          4.589150795864262,
          4.566258692134175,
          4.411735823356697,
          4.185960899385488,
          3.929699737408506,
          3.6689645864873346,
          3.41909957886517,
          3.18805626500913,
          2.978912426273044,
          2.7917333298855564,
          2.6248917158159446,
          2.47596191406133,
          2.3422924071296984,
          2.2213452789821524,
          2.110873855493446,
          2.0089935716186,
          1.914186828984731,
          1.8252707918337236,
          1.7413477391693124,
          1.6617505311244938,
          1.5859906236404993,
          1.513712507596083,
          1.4446561014477142,
          1.3786271770526772,
          1.3154750866184468,
          1.255076679030132,
          1.1973251904669158,
          1.142122954212702,
          1.0893769194373273,
          1.0389961467401494,
          0.9908906274938779,
          0.944970936662841,
          0.9011483664886002,
          0.8593352990238594
         ],
         "yaxis": "y2"
        },
        {
         "line": {
          "color": "green"
         },
         "mode": "lines",
         "name": "my-solver with delta_t = 0.05",
         "showlegend": false,
         "type": "scatter",
         "x": [
          1,
          1.5,
          2,
          2.5,
          3,
          3.5,
          4,
          4.5,
          5,
          5.5,
          6,
          6.5,
          7,
          7.5,
          8,
          8.5,
          9,
          9.5,
          10,
          10.5,
          11,
          11.5,
          12,
          12.5,
          13,
          13.5,
          14,
          14.5,
          15,
          15.5,
          16,
          16.5,
          17,
          17.5,
          18,
          18.5,
          19,
          19.5,
          20
         ],
         "xaxis": "x2",
         "y": [
          0,
          1.8961783892403605,
          3.292034635935321,
          4.126864997761469,
          4.559040916683526,
          4.712931961899434,
          4.683119070229735,
          4.539287407555306,
          4.331097134934824,
          4.092634665915793,
          3.846252936828356,
          3.605742313956981,
          3.3788545288408267,
          3.1692463426397386,
          2.977929470285086,
          2.80431746590802,
          2.6469551110865592,
          2.5040057562620945,
          2.373559981055404,
          2.2538167179016115,
          2.14317670577136,
          2.040278349417006,
          1.9439979417962305,
          1.853429729803906,
          1.7678563088837644,
          1.6867161052623203,
          1.6095720152404316,
          1.5360833999445662,
          1.4659823868195516,
          1.3990546423051147,
          1.3351243213883792,
          1.2740426660287252,
          1.2156796381411727,
          1.1599179772693609,
          1.106649128429155,
          1.0557705649348645,
          1.0071841170390385,
          0.9607949995708632,
          0.9165113049095003
         ],
         "yaxis": "y2"
        },
        {
         "line": {
          "color": "purple"
         },
         "mode": "lines",
         "name": "my-solver with delta_t = 0.001",
         "showlegend": false,
         "type": "scatter",
         "x": [
          1,
          1.5,
          2,
          2.5,
          3,
          3.5,
          4,
          4.5,
          5,
          5.5,
          6,
          6.5,
          7,
          7.5,
          8,
          8.5,
          9,
          9.5,
          10,
          10.5,
          11,
          11.5,
          12,
          12.5,
          13,
          13.5,
          14,
          14.5,
          15,
          15.5,
          16,
          16.5,
          17,
          17.5,
          18,
          18.5,
          19,
          19.5,
          20
         ],
         "xaxis": "x2",
         "y": [
          0,
          2.053870430210143,
          3.388866921512614,
          4.186909013033892,
          4.599339600874498,
          4.744754322971246,
          4.713296610033445,
          4.571445418146078,
          4.366691481764229,
          4.131766921236943,
          3.8882733395445883,
          3.6496689202380828,
          3.4236441902834693,
          3.213953317335753,
          3.0217837292699103,
          2.8467492563294488,
          2.687586445047684,
          2.542624006207576,
          2.410084077402669,
          2.2882627001228846,
          2.175626553005432,
          2.070854003339543,
          1.9728410883515637,
          1.8806870772584783,
          1.7936696495857294,
          1.7112162606732262,
          1.6328757452737144,
          1.5582924383568788,
          1.4871838943779319,
          1.4193225151409676,
          1.3545209324983603,
          1.2926207417692228,
          1.2334840737431654,
          1.176987475046158,
          1.12301760114415,
          1.071468287711347,
          1.0222386376633896,
          0.9752318324387476,
          0.9303544412149849
         ],
         "yaxis": "y2"
        },
        {
         "line": {
          "color": "orange"
         },
         "mode": "lines",
         "name": "scipy-solver RK45",
         "showlegend": false,
         "type": "scatter",
         "x": [
          1,
          1.5,
          2,
          2.5,
          3,
          3.5,
          4,
          4.5,
          5,
          5.5,
          6,
          6.5,
          7,
          7.5,
          8,
          8.5,
          9,
          9.5,
          10,
          10.5,
          11,
          11.5,
          12,
          12.5,
          13,
          13.5,
          14,
          14.5,
          15,
          15.5,
          16,
          16.5,
          17,
          17.5,
          18,
          18.5,
          19,
          19.5,
          20
         ],
         "xaxis": "x2",
         "y": [
          0,
          2.057015345700866,
          3.390783944007831,
          4.18813578072683,
          4.6001747884635416,
          4.74551339814783,
          4.71404466545584,
          4.572167375469747,
          4.367827983647735,
          4.132900505840817,
          3.8889809987395623,
          3.6509001573667232,
          3.425243463215442,
          3.214740456071925,
          3.0219830249186637,
          2.8476324224177425,
          2.688738408332018,
          2.5430896558672242,
          2.409817856126023,
          2.2883506942174963,
          2.1761302587785223,
          2.0713675409084695,
          1.972970143494608,
          1.8805253671236488,
          1.7936950757687153,
          1.711372475229682,
          1.6331266551522021,
          1.5586146960341538,
          1.487560975192972,
          1.4197455493693474,
          1.3549626418770735,
          1.293067854444492,
          1.2339241061533106,
          1.1774067098210785,
          1.1234139878097669,
          1.07184313374694,
          1.0225902528631448,
          0.975560838129446,
          0.9306628044081985
         ],
         "yaxis": "y2"
        }
       ],
       "layout": {
        "annotations": [
         {
          "font": {
           "size": 16
          },
          "showarrow": false,
          "text": "ages 0-10",
          "x": 0.225,
          "xanchor": "center",
          "xref": "paper",
          "y": 1,
          "yanchor": "bottom",
          "yref": "paper"
         },
         {
          "font": {
           "size": 16
          },
          "showarrow": false,
          "text": "ages 10-25",
          "x": 0.775,
          "xanchor": "center",
          "xref": "paper",
          "y": 1,
          "yanchor": "bottom",
          "yref": "paper"
         }
        ],
        "boxmode": "group",
        "legend": {
         "orientation": "h",
         "x": 1,
         "xanchor": "right",
         "y": 1.02,
         "yanchor": "bottom"
        },
        "plot_bgcolor": "white",
        "template": {
         "data": {
          "bar": [
           {
            "error_x": {
             "color": "#2a3f5f"
            },
            "error_y": {
             "color": "#2a3f5f"
            },
            "marker": {
             "line": {
              "color": "#E5ECF6",
              "width": 0.5
             },
             "pattern": {
              "fillmode": "overlay",
              "size": 10,
              "solidity": 0.2
             }
            },
            "type": "bar"
           }
          ],
          "barpolar": [
           {
            "marker": {
             "line": {
              "color": "#E5ECF6",
              "width": 0.5
             },
             "pattern": {
              "fillmode": "overlay",
              "size": 10,
              "solidity": 0.2
             }
            },
            "type": "barpolar"
           }
          ],
          "carpet": [
           {
            "aaxis": {
             "endlinecolor": "#2a3f5f",
             "gridcolor": "white",
             "linecolor": "white",
             "minorgridcolor": "white",
             "startlinecolor": "#2a3f5f"
            },
            "baxis": {
             "endlinecolor": "#2a3f5f",
             "gridcolor": "white",
             "linecolor": "white",
             "minorgridcolor": "white",
             "startlinecolor": "#2a3f5f"
            },
            "type": "carpet"
           }
          ],
          "choropleth": [
           {
            "colorbar": {
             "outlinewidth": 0,
             "ticks": ""
            },
            "type": "choropleth"
           }
          ],
          "contour": [
           {
            "colorbar": {
             "outlinewidth": 0,
             "ticks": ""
            },
            "colorscale": [
             [
              0,
              "#0d0887"
             ],
             [
              0.1111111111111111,
              "#46039f"
             ],
             [
              0.2222222222222222,
              "#7201a8"
             ],
             [
              0.3333333333333333,
              "#9c179e"
             ],
             [
              0.4444444444444444,
              "#bd3786"
             ],
             [
              0.5555555555555556,
              "#d8576b"
             ],
             [
              0.6666666666666666,
              "#ed7953"
             ],
             [
              0.7777777777777778,
              "#fb9f3a"
             ],
             [
              0.8888888888888888,
              "#fdca26"
             ],
             [
              1,
              "#f0f921"
             ]
            ],
            "type": "contour"
           }
          ],
          "contourcarpet": [
           {
            "colorbar": {
             "outlinewidth": 0,
             "ticks": ""
            },
            "type": "contourcarpet"
           }
          ],
          "heatmap": [
           {
            "colorbar": {
             "outlinewidth": 0,
             "ticks": ""
            },
            "colorscale": [
             [
              0,
              "#0d0887"
             ],
             [
              0.1111111111111111,
              "#46039f"
             ],
             [
              0.2222222222222222,
              "#7201a8"
             ],
             [
              0.3333333333333333,
              "#9c179e"
             ],
             [
              0.4444444444444444,
              "#bd3786"
             ],
             [
              0.5555555555555556,
              "#d8576b"
             ],
             [
              0.6666666666666666,
              "#ed7953"
             ],
             [
              0.7777777777777778,
              "#fb9f3a"
             ],
             [
              0.8888888888888888,
              "#fdca26"
             ],
             [
              1,
              "#f0f921"
             ]
            ],
            "type": "heatmap"
           }
          ],
          "heatmapgl": [
           {
            "colorbar": {
             "outlinewidth": 0,
             "ticks": ""
            },
            "colorscale": [
             [
              0,
              "#0d0887"
             ],
             [
              0.1111111111111111,
              "#46039f"
             ],
             [
              0.2222222222222222,
              "#7201a8"
             ],
             [
              0.3333333333333333,
              "#9c179e"
             ],
             [
              0.4444444444444444,
              "#bd3786"
             ],
             [
              0.5555555555555556,
              "#d8576b"
             ],
             [
              0.6666666666666666,
              "#ed7953"
             ],
             [
              0.7777777777777778,
              "#fb9f3a"
             ],
             [
              0.8888888888888888,
              "#fdca26"
             ],
             [
              1,
              "#f0f921"
             ]
            ],
            "type": "heatmapgl"
           }
          ],
          "histogram": [
           {
            "marker": {
             "pattern": {
              "fillmode": "overlay",
              "size": 10,
              "solidity": 0.2
             }
            },
            "type": "histogram"
           }
          ],
          "histogram2d": [
           {
            "colorbar": {
             "outlinewidth": 0,
             "ticks": ""
            },
            "colorscale": [
             [
              0,
              "#0d0887"
             ],
             [
              0.1111111111111111,
              "#46039f"
             ],
             [
              0.2222222222222222,
              "#7201a8"
             ],
             [
              0.3333333333333333,
              "#9c179e"
             ],
             [
              0.4444444444444444,
              "#bd3786"
             ],
             [
              0.5555555555555556,
              "#d8576b"
             ],
             [
              0.6666666666666666,
              "#ed7953"
             ],
             [
              0.7777777777777778,
              "#fb9f3a"
             ],
             [
              0.8888888888888888,
              "#fdca26"
             ],
             [
              1,
              "#f0f921"
             ]
            ],
            "type": "histogram2d"
           }
          ],
          "histogram2dcontour": [
           {
            "colorbar": {
             "outlinewidth": 0,
             "ticks": ""
            },
            "colorscale": [
             [
              0,
              "#0d0887"
             ],
             [
              0.1111111111111111,
              "#46039f"
             ],
             [
              0.2222222222222222,
              "#7201a8"
             ],
             [
              0.3333333333333333,
              "#9c179e"
             ],
             [
              0.4444444444444444,
              "#bd3786"
             ],
             [
              0.5555555555555556,
              "#d8576b"
             ],
             [
              0.6666666666666666,
              "#ed7953"
             ],
             [
              0.7777777777777778,
              "#fb9f3a"
             ],
             [
              0.8888888888888888,
              "#fdca26"
             ],
             [
              1,
              "#f0f921"
             ]
            ],
            "type": "histogram2dcontour"
           }
          ],
          "mesh3d": [
           {
            "colorbar": {
             "outlinewidth": 0,
             "ticks": ""
            },
            "type": "mesh3d"
           }
          ],
          "parcoords": [
           {
            "line": {
             "colorbar": {
              "outlinewidth": 0,
              "ticks": ""
             }
            },
            "type": "parcoords"
           }
          ],
          "pie": [
           {
            "automargin": true,
            "type": "pie"
           }
          ],
          "scatter": [
           {
            "fillpattern": {
             "fillmode": "overlay",
             "size": 10,
             "solidity": 0.2
            },
            "type": "scatter"
           }
          ],
          "scatter3d": [
           {
            "line": {
             "colorbar": {
              "outlinewidth": 0,
              "ticks": ""
             }
            },
            "marker": {
             "colorbar": {
              "outlinewidth": 0,
              "ticks": ""
             }
            },
            "type": "scatter3d"
           }
          ],
          "scattercarpet": [
           {
            "marker": {
             "colorbar": {
              "outlinewidth": 0,
              "ticks": ""
             }
            },
            "type": "scattercarpet"
           }
          ],
          "scattergeo": [
           {
            "marker": {
             "colorbar": {
              "outlinewidth": 0,
              "ticks": ""
             }
            },
            "type": "scattergeo"
           }
          ],
          "scattergl": [
           {
            "marker": {
             "colorbar": {
              "outlinewidth": 0,
              "ticks": ""
             }
            },
            "type": "scattergl"
           }
          ],
          "scattermapbox": [
           {
            "marker": {
             "colorbar": {
              "outlinewidth": 0,
              "ticks": ""
             }
            },
            "type": "scattermapbox"
           }
          ],
          "scatterpolar": [
           {
            "marker": {
             "colorbar": {
              "outlinewidth": 0,
              "ticks": ""
             }
            },
            "type": "scatterpolar"
           }
          ],
          "scatterpolargl": [
           {
            "marker": {
             "colorbar": {
              "outlinewidth": 0,
              "ticks": ""
             }
            },
            "type": "scatterpolargl"
           }
          ],
          "scatterternary": [
           {
            "marker": {
             "colorbar": {
              "outlinewidth": 0,
              "ticks": ""
             }
            },
            "type": "scatterternary"
           }
          ],
          "surface": [
           {
            "colorbar": {
             "outlinewidth": 0,
             "ticks": ""
            },
            "colorscale": [
             [
              0,
              "#0d0887"
             ],
             [
              0.1111111111111111,
              "#46039f"
             ],
             [
              0.2222222222222222,
              "#7201a8"
             ],
             [
              0.3333333333333333,
              "#9c179e"
             ],
             [
              0.4444444444444444,
              "#bd3786"
             ],
             [
              0.5555555555555556,
              "#d8576b"
             ],
             [
              0.6666666666666666,
              "#ed7953"
             ],
             [
              0.7777777777777778,
              "#fb9f3a"
             ],
             [
              0.8888888888888888,
              "#fdca26"
             ],
             [
              1,
              "#f0f921"
             ]
            ],
            "type": "surface"
           }
          ],
          "table": [
           {
            "cells": {
             "fill": {
              "color": "#EBF0F8"
             },
             "line": {
              "color": "white"
             }
            },
            "header": {
             "fill": {
              "color": "#C8D4E3"
             },
             "line": {
              "color": "white"
             }
            },
            "type": "table"
           }
          ]
         },
         "layout": {
          "annotationdefaults": {
           "arrowcolor": "#2a3f5f",
           "arrowhead": 0,
           "arrowwidth": 1
          },
          "autotypenumbers": "strict",
          "coloraxis": {
           "colorbar": {
            "outlinewidth": 0,
            "ticks": ""
           }
          },
          "colorscale": {
           "diverging": [
            [
             0,
             "#8e0152"
            ],
            [
             0.1,
             "#c51b7d"
            ],
            [
             0.2,
             "#de77ae"
            ],
            [
             0.3,
             "#f1b6da"
            ],
            [
             0.4,
             "#fde0ef"
            ],
            [
             0.5,
             "#f7f7f7"
            ],
            [
             0.6,
             "#e6f5d0"
            ],
            [
             0.7,
             "#b8e186"
            ],
            [
             0.8,
             "#7fbc41"
            ],
            [
             0.9,
             "#4d9221"
            ],
            [
             1,
             "#276419"
            ]
           ],
           "sequential": [
            [
             0,
             "#0d0887"
            ],
            [
             0.1111111111111111,
             "#46039f"
            ],
            [
             0.2222222222222222,
             "#7201a8"
            ],
            [
             0.3333333333333333,
             "#9c179e"
            ],
            [
             0.4444444444444444,
             "#bd3786"
            ],
            [
             0.5555555555555556,
             "#d8576b"
            ],
            [
             0.6666666666666666,
             "#ed7953"
            ],
            [
             0.7777777777777778,
             "#fb9f3a"
            ],
            [
             0.8888888888888888,
             "#fdca26"
            ],
            [
             1,
             "#f0f921"
            ]
           ],
           "sequentialminus": [
            [
             0,
             "#0d0887"
            ],
            [
             0.1111111111111111,
             "#46039f"
            ],
            [
             0.2222222222222222,
             "#7201a8"
            ],
            [
             0.3333333333333333,
             "#9c179e"
            ],
            [
             0.4444444444444444,
             "#bd3786"
            ],
            [
             0.5555555555555556,
             "#d8576b"
            ],
            [
             0.6666666666666666,
             "#ed7953"
            ],
            [
             0.7777777777777778,
             "#fb9f3a"
            ],
            [
             0.8888888888888888,
             "#fdca26"
            ],
            [
             1,
             "#f0f921"
            ]
           ]
          },
          "colorway": [
           "#636efa",
           "#EF553B",
           "#00cc96",
           "#ab63fa",
           "#FFA15A",
           "#19d3f3",
           "#FF6692",
           "#B6E880",
           "#FF97FF",
           "#FECB52"
          ],
          "font": {
           "color": "#2a3f5f"
          },
          "geo": {
           "bgcolor": "white",
           "lakecolor": "white",
           "landcolor": "#E5ECF6",
           "showlakes": true,
           "showland": true,
           "subunitcolor": "white"
          },
          "hoverlabel": {
           "align": "left"
          },
          "hovermode": "closest",
          "mapbox": {
           "style": "light"
          },
          "paper_bgcolor": "white",
          "plot_bgcolor": "#E5ECF6",
          "polar": {
           "angularaxis": {
            "gridcolor": "white",
            "linecolor": "white",
            "ticks": ""
           },
           "bgcolor": "#E5ECF6",
           "radialaxis": {
            "gridcolor": "white",
            "linecolor": "white",
            "ticks": ""
           }
          },
          "scene": {
           "xaxis": {
            "backgroundcolor": "#E5ECF6",
            "gridcolor": "white",
            "gridwidth": 2,
            "linecolor": "white",
            "showbackground": true,
            "ticks": "",
            "zerolinecolor": "white"
           },
           "yaxis": {
            "backgroundcolor": "#E5ECF6",
            "gridcolor": "white",
            "gridwidth": 2,
            "linecolor": "white",
            "showbackground": true,
            "ticks": "",
            "zerolinecolor": "white"
           },
           "zaxis": {
            "backgroundcolor": "#E5ECF6",
            "gridcolor": "white",
            "gridwidth": 2,
            "linecolor": "white",
            "showbackground": true,
            "ticks": "",
            "zerolinecolor": "white"
           }
          },
          "shapedefaults": {
           "line": {
            "color": "#2a3f5f"
           }
          },
          "ternary": {
           "aaxis": {
            "gridcolor": "white",
            "linecolor": "white",
            "ticks": ""
           },
           "baxis": {
            "gridcolor": "white",
            "linecolor": "white",
            "ticks": ""
           },
           "bgcolor": "#E5ECF6",
           "caxis": {
            "gridcolor": "white",
            "linecolor": "white",
            "ticks": ""
           }
          },
          "title": {
           "x": 0.05
          },
          "xaxis": {
           "automargin": true,
           "gridcolor": "white",
           "linecolor": "white",
           "ticks": "",
           "title": {
            "standoff": 15
           },
           "zerolinecolor": "white",
           "zerolinewidth": 2
          },
          "yaxis": {
           "automargin": true,
           "gridcolor": "white",
           "linecolor": "white",
           "ticks": "",
           "title": {
            "standoff": 15
           },
           "zerolinecolor": "white",
           "zerolinewidth": 2
          }
         }
        },
        "title": {
         "text": "E1 in region London"
        },
        "width": 800,
        "xaxis": {
         "anchor": "y",
         "domain": [
          0,
          0.45
         ],
         "linecolor": "black"
        },
        "xaxis2": {
         "anchor": "y2",
         "domain": [
          0.55,
          1
         ],
         "linecolor": "black"
        },
        "xaxis3": {
         "linecolor": "black"
        },
        "xaxis4": {
         "linecolor": "black"
        },
        "xaxis5": {
         "linecolor": "black"
        },
        "xaxis6": {
         "linecolor": "black"
        },
        "xaxis7": {
         "linecolor": "black"
        },
        "xaxis8": {
         "linecolor": "black"
        },
        "yaxis": {
         "anchor": "x",
         "domain": [
          0,
          1
         ],
         "linecolor": "black"
        },
        "yaxis2": {
         "anchor": "x2",
         "domain": [
          0,
          1
         ],
         "linecolor": "black"
        },
        "yaxis3": {
         "linecolor": "black"
        },
        "yaxis4": {
         "linecolor": "black"
        },
        "yaxis5": {
         "linecolor": "black"
        },
        "yaxis6": {
         "linecolor": "black"
        },
        "yaxis7": {
         "linecolor": "black"
        },
        "yaxis8": {
         "linecolor": "black"
        }
       }
      }
     },
     "metadata": {},
     "output_type": "display_data"
    },
    {
     "data": {
      "application/vnd.plotly.v1+json": {
       "config": {
        "plotlyServerURL": "https://plot.ly"
       },
       "data": [
        {
         "line": {
          "color": "blue"
         },
         "mode": "lines",
         "name": "my-solver with delta_t = 0.5",
         "type": "scatter",
         "x": [
          1,
          1.5,
          2,
          2.5,
          3,
          3.5,
          4,
          4.5,
          5,
          5.5,
          6,
          6.5,
          7,
          7.5,
          8,
          8.5,
          9,
          9.5,
          10,
          10.5,
          11,
          11.5,
          12,
          12.5,
          13,
          13.5,
          14,
          14.5,
          15,
          15.5,
          16,
          16.5,
          17,
          17.5,
          18,
          18.5,
          19,
          19.5,
          20
         ],
         "xaxis": "x",
         "y": [
          0,
          0,
          0,
          1.5505860842022559,
          3.621145501565408,
          5.629896975638819,
          7.292494509440029,
          8.510569696096923,
          9.292868060390802,
          9.701963039478395,
          9.820258073592859,
          9.729937924347428,
          9.502547731053628,
          9.194853002989555,
          8.848500792216385,
          8.491730505097593,
          8.141964463743758,
          7.808551012869278,
          7.495253360673681,
          7.202296481377385,
          6.927924225164881,
          6.669499763631453,
          6.424222309841239,
          6.189545946866052,
          5.96338320334519,
          5.744164466600786,
          5.530809594700872,
          5.322653358526649,
          4.880469863530793,
          4.3340369797565765,
          3.76287144332868,
          3.2132166074498145,
          2.7096951846324435,
          2.26322796686231,
          1.8763526304603615,
          1.5467438768364334,
          1.2694990160200528,
          1.0385843797810868,
          0.8477181692463607
         ],
         "yaxis": "y"
        },
        {
         "line": {
          "color": "red"
         },
         "mode": "lines",
         "name": "my-solver with delta_t = 0.25",
         "type": "scatter",
         "x": [
          1,
          1.5,
          2,
          2.5,
          3,
          3.5,
          4,
          4.5,
          5,
          5.5,
          6,
          6.5,
          7,
          7.5,
          8,
          8.5,
          9,
          9.5,
          10,
          10.5,
          11,
          11.5,
          12,
          12.5,
          13,
          13.5,
          14,
          14.5,
          15,
          15.5,
          16,
          16.5,
          17,
          17.5,
          18,
          18.5,
          19,
          19.5,
          20
         ],
         "xaxis": "x",
         "y": [
          0,
          0,
          1.1198928658666305,
          2.955435714892067,
          4.9116815927603055,
          6.666666708318003,
          8.07559120171868,
          9.102099248546237,
          9.770753190330485,
          10.135528940719524,
          10.260023368801175,
          10.205925188315607,
          10.027085741460635,
          9.767200990768652,
          9.459671226667151,
          9.12864472992368,
          8.790587760285918,
          8.455971126477754,
          8.13083946228681,
          7.818148685709755,
          7.5188337738624,
          7.2326146363325625,
          6.95857196194409,
          6.6955347682962305,
          6.4423224397824335,
          6.197880168559318,
          5.961340536676656,
          5.668043291069525,
          5.191717616525823,
          4.634037408209589,
          4.059046147994774,
          3.5052000947637474,
          2.9938430658426953,
          2.535120392904808,
          2.1320641108460467,
          1.7833797081632328,
          1.4853172873673792,
          1.2329023745899685,
          1.0207232907116586
         ],
         "yaxis": "y"
        },
        {
         "line": {
          "color": "green"
         },
         "mode": "lines",
         "name": "my-solver with delta_t = 0.05",
         "type": "scatter",
         "x": [
          1,
          1.5,
          2,
          2.5,
          3,
          3.5,
          4,
          4.5,
          5,
          5.5,
          6,
          6.5,
          7,
          7.5,
          8,
          8.5,
          9,
          9.5,
          10,
          10.5,
          11,
          11.5,
          12,
          12.5,
          13,
          13.5,
          14,
          14.5,
          15,
          15.5,
          16,
          16.5,
          17,
          17.5,
          18,
          18.5,
          19,
          19.5,
          20
         ],
         "xaxis": "x",
         "y": [
          0,
          0.5484928220396994,
          2.0870810161867372,
          3.9692594490422217,
          5.806418618148144,
          7.395743970319176,
          8.65376797469142,
          9.569313247960771,
          10.171245499598994,
          10.50722664691748,
          10.630409513047509,
          10.59169129365719,
          10.435720612754512,
          10.199328236227236,
          9.91143030954541,
          9.593746318099296,
          9.261894794171896,
          8.92659123320114,
          8.594786975982723,
          8.270665780006842,
          7.956465604838199,
          7.653124258922007,
          7.360764914635033,
          7.079045623410452,
          6.807399209390392,
          6.545188691362876,
          6.291800334339239,
          5.9421604784294,
          5.4406752695729095,
          4.8725286434853565,
          4.292364897819915,
          3.7336862319095854,
          3.215579870065581,
          2.7474968221745826,
          2.332615557330345,
          1.9701833214074296,
          1.6571233712798015,
          1.3891189188627986,
          1.1613272470529026
         ],
         "yaxis": "y"
        },
        {
         "line": {
          "color": "purple"
         },
         "mode": "lines",
         "name": "my-solver with delta_t = 0.001",
         "type": "scatter",
         "x": [
          1,
          1.5,
          2,
          2.5,
          3,
          3.5,
          4,
          4.5,
          5,
          5.5,
          6,
          6.5,
          7,
          7.5,
          8,
          8.5,
          9,
          9.5,
          10,
          10.5,
          11,
          11.5,
          12,
          12.5,
          13,
          13.5,
          14,
          14.5,
          15,
          15.5,
          16,
          16.5,
          17,
          17.5,
          18,
          18.5,
          19,
          19.5,
          20
         ],
         "xaxis": "x",
         "y": [
          0,
          0.7212284517479776,
          2.3239887283835805,
          4.204422630799053,
          6.011771645903134,
          7.564760152693618,
          8.790781832280453,
          9.682920831127952,
          10.270537608849203,
          10.599900994451719,
          10.72205975080073,
          10.685776963840953,
          10.533883333488882,
          10.301840519046767,
          10.017650659512727,
          9.702514371942373,
          9.371839484786577,
          9.036348818721214,
          8.703138782346837,
          8.376611266285877,
          8.059247581144854,
          7.752221723263173,
          7.455866368918443,
          7.17001274506995,
          6.894227906898935,
          6.627972125020159,
          6.370696539780202,
          6.008576370433429,
          5.501256452857454,
          4.9304773461661595,
          4.348887263067908,
          3.7889129439497133,
          3.269134190320997,
          2.7988302930316142,
          2.381193681377698,
          2.015576916174271,
          1.699042770826964,
          1.4274153964003424,
          1.195977281439836
         ],
         "yaxis": "y"
        },
        {
         "line": {
          "color": "orange"
         },
         "mode": "lines",
         "name": "scipy-solver RK45",
         "type": "scatter",
         "x": [
          1,
          1.5,
          2,
          2.5,
          3,
          3.5,
          4,
          4.5,
          5,
          5.5,
          6,
          6.5,
          7,
          7.5,
          8,
          8.5,
          9,
          9.5,
          10,
          10.5,
          11,
          11.5,
          12,
          12.5,
          13,
          13.5,
          14,
          14.5,
          15,
          15.5,
          16,
          16.5,
          17,
          17.5,
          18,
          18.5,
          19,
          19.5,
          20
         ],
         "xaxis": "x",
         "y": [
          0,
          0.7248678402222729,
          2.328447503764183,
          4.208559061513397,
          6.015324927459878,
          7.5681271532382794,
          8.792134073433907,
          9.686803353248775,
          10.270930574397745,
          10.600436291583252,
          10.727032709758081,
          10.688626043609606,
          10.535175909656415,
          10.305655607581059,
          10.02300745034694,
          9.706811024001551,
          9.375458073972712,
          9.03976901605286,
          8.706361016389831,
          8.379760191118624,
          8.062948110137624,
          7.755385446990778,
          7.457365571731857,
          7.170082213945578,
          6.906983470671342,
          6.658444156506868,
          6.373835662616311,
          6.011986908916865,
          5.542042072485177,
          4.9639789402791905,
          4.372664993544988,
          3.8010803959230777,
          3.2724626258347476,
          2.8002434273033576,
          2.3807908999827188,
          2.012666742453184,
          1.695497156227692,
          1.423962604896462,
          1.1926924335839115
         ],
         "yaxis": "y"
        },
        {
         "line": {
          "color": "blue"
         },
         "mode": "lines",
         "name": "my-solver with delta_t = 0.5",
         "showlegend": false,
         "type": "scatter",
         "x": [
          1,
          1.5,
          2,
          2.5,
          3,
          3.5,
          4,
          4.5,
          5,
          5.5,
          6,
          6.5,
          7,
          7.5,
          8,
          8.5,
          9,
          9.5,
          10,
          10.5,
          11,
          11.5,
          12,
          12.5,
          13,
          13.5,
          14,
          14.5,
          15,
          15.5,
          16,
          16.5,
          17,
          17.5,
          18,
          18.5,
          19,
          19.5,
          20
         ],
         "xaxis": "x2",
         "y": [
          0,
          0,
          0,
          0.544942582265806,
          1.2830527960261522,
          2.009898897755086,
          2.621056690328251,
          3.076366187117199,
          3.3740175352086315,
          3.532592726357429,
          3.5792686454308233,
          3.5425870188865627,
          3.4484563945663855,
          3.318324398816185,
          3.1687150505048285,
          3.0115490018758067,
          2.85484722743875,
          2.7035605655227632,
          2.560372333250709,
          2.4263947185403163,
          2.301728172425568,
          2.185882694460788,
          2.0780760785724306,
          1.9774312485877403,
          1.8830961450142323,
          1.7943076995788814,
          1.7104179567856814,
          1.6308964720481105,
          1.5553193821554143,
          1.4833523365812191,
          1.414731918328152,
          1.3492482638432435,
          1.2867302374981857,
          1.2270336226615228,
          1.170032249838283,
          1.115611693970636,
          1.063665055489297,
          1.0140903289722047,
          0.9667889122967015
         ],
         "yaxis": "y2"
        },
        {
         "line": {
          "color": "red"
         },
         "mode": "lines",
         "name": "my-solver with delta_t = 0.25",
         "showlegend": false,
         "type": "scatter",
         "x": [
          1,
          1.5,
          2,
          2.5,
          3,
          3.5,
          4,
          4.5,
          5,
          5.5,
          6,
          6.5,
          7,
          7.5,
          8,
          8.5,
          9,
          9.5,
          10,
          10.5,
          11,
          11.5,
          12,
          12.5,
          13,
          13.5,
          14,
          14.5,
          15,
          15.5,
          16,
          16.5,
          17,
          17.5,
          18,
          18.5,
          19,
          19.5,
          20
         ],
         "xaxis": "x2",
         "y": [
          0,
          0,
          0.3913459690927427,
          1.041057897151901,
          1.7427743238280384,
          2.380720658429609,
          2.8995332152927333,
          3.282034171479241,
          3.533441992620224,
          3.670596175498217,
          3.7149516864656364,
          3.6883073966080495,
          3.6104422875641995,
          3.4980247864102934,
          3.3643252246805027,
          3.2193962424529152,
          3.0704919281468364,
          2.9225766702109146,
          2.7788331235540316,
          2.641119584322662,
          2.5103543870392775,
          2.3868221553685247,
          2.270406725156307,
          2.1607605928978737,
          2.057422557088468,
          1.9598950810183255,
          1.8676917019610573,
          1.7803631372458386,
          1.6975089661992315,
          1.618780114418501,
          1.5438759411821512,
          1.4725385696429836,
          1.4045461978953897,
          1.3397064591179517,
          1.2778504227679375,
          1.218827506367851,
          1.1625013617241966,
          1.1087466785637043,
          1.0574467866252153
         ],
         "yaxis": "y2"
        },
        {
         "line": {
          "color": "green"
         },
         "mode": "lines",
         "name": "my-solver with delta_t = 0.05",
         "showlegend": false,
         "type": "scatter",
         "x": [
          1,
          1.5,
          2,
          2.5,
          3,
          3.5,
          4,
          4.5,
          5,
          5.5,
          6,
          6.5,
          7,
          7.5,
          8,
          8.5,
          9,
          9.5,
          10,
          10.5,
          11,
          11.5,
          12,
          12.5,
          13,
          13.5,
          14,
          14.5,
          15,
          15.5,
          16,
          16.5,
          17,
          17.5,
          18,
          18.5,
          19,
          19.5,
          20
         ],
         "xaxis": "x2",
         "y": [
          0,
          0.1906764679055813,
          0.7313062199798341,
          1.4008486985885955,
          2.062330121810903,
          2.6411890331243884,
          3.104133577137883,
          3.443758340880492,
          3.667703863588631,
          3.7912912986431264,
          3.8327378609319562,
          3.8102310761741287,
          3.740297597238951,
          3.6370387858547537,
          3.511918316489268,
          3.3738774768074298,
          3.2296238849475345,
          3.0839919821048953,
          2.9403120129948297,
          2.8007512383779223,
          2.666609460716324,
          2.538562807308865,
          2.41685691026233,
          2.3014545674579945,
          2.1921447421559206,
          2.0886201563402245,
          1.9905303214173558,
          1.8975160189775713,
          1.8092302498393549,
          1.7253496698311859,
          1.6455796153607603,
          1.5696550339301831,
          1.4973389875805245,
          1.4284198859662702,
          1.3627082158015749,
          1.3000332459913018,
          1.2402399833179119,
          1.1831865138365028,
          1.128741774181869
         ],
         "yaxis": "y2"
        },
        {
         "line": {
          "color": "purple"
         },
         "mode": "lines",
         "name": "my-solver with delta_t = 0.001",
         "showlegend": false,
         "type": "scatter",
         "x": [
          1,
          1.5,
          2,
          2.5,
          3,
          3.5,
          4,
          4.5,
          5,
          5.5,
          6,
          6.5,
          7,
          7.5,
          8,
          8.5,
          9,
          9.5,
          10,
          10.5,
          11,
          11.5,
          12,
          12.5,
          13,
          13.5,
          14,
          14.5,
          15,
          15.5,
          16,
          16.5,
          17,
          17.5,
          18,
          18.5,
          19,
          19.5,
          20
         ],
         "xaxis": "x2",
         "y": [
          0,
          0.2509356878809622,
          0.8148438868967691,
          1.4844922707851222,
          2.135727826774019,
          2.7015145189574215,
          3.1525283891965303,
          3.4830670961520034,
          3.701131681132541,
          3.821690210195134,
          3.8623000315787555,
          3.8404275442004763,
          3.7719505626632497,
          3.6704536086385406,
          3.54702960901059,
          3.4103836578684255,
          3.2670980279975113,
          3.1219653294162146,
          2.9783315046115195,
          2.838414926293629,
          2.703584600450863,
          2.5745913731422903,
          2.4517527129415484,
          2.3350953628067663,
          2.2244618927752944,
          2.1195876530438147,
          2.0201543374427806,
          1.9258256737668256,
          1.8362698942921152,
          1.751172754151549,
          1.6702440422064462,
          1.5932198115432894,
          1.519861960065206,
          1.4499563142558738,
          1.38331000003795,
          1.3197486082816077,
          1.2591134623009428,
          1.2012591547023885,
          1.1460514270808082
         ],
         "yaxis": "y2"
        },
        {
         "line": {
          "color": "orange"
         },
         "mode": "lines",
         "name": "scipy-solver RK45",
         "showlegend": false,
         "type": "scatter",
         "x": [
          1,
          1.5,
          2,
          2.5,
          3,
          3.5,
          4,
          4.5,
          5,
          5.5,
          6,
          6.5,
          7,
          7.5,
          8,
          8.5,
          9,
          9.5,
          10,
          10.5,
          11,
          11.5,
          12,
          12.5,
          13,
          13.5,
          14,
          14.5,
          15,
          15.5,
          16,
          16.5,
          17,
          17.5,
          18,
          18.5,
          19,
          19.5,
          20
         ],
         "xaxis": "x2",
         "y": [
          0,
          0.25220587428691343,
          0.8164371879994439,
          1.4859865693069012,
          2.137018509773515,
          2.702695348758152,
          3.153025949035151,
          3.484359674371844,
          3.701204390562515,
          3.8218048754128224,
          3.863947876463341,
          3.8412835002339305,
          3.772229962190766,
          3.6717325091296478,
          3.5489412263731657,
          3.411817819407941,
          3.268259316399561,
          3.1232041850243353,
          2.979658207797076,
          2.8396462690440156,
          2.7049184266458393,
          2.575741064445765,
          2.452423235155922,
          2.335343589360132,
          2.224748043190274,
          2.1200429791022652,
          2.020612635198354,
          1.9260793071148758,
          1.8363013281483718,
          1.7512527405325573,
          1.6704096719155976,
          1.5934483749677824,
          1.5201371549657934,
          1.450269079877611,
          1.3836468673024576,
          1.3200979961167918,
          1.2594680158865144,
          1.2016128295435629,
          1.1463995116109784
         ],
         "yaxis": "y2"
        }
       ],
       "layout": {
        "annotations": [
         {
          "font": {
           "size": 16
          },
          "showarrow": false,
          "text": "ages 0-10",
          "x": 0.225,
          "xanchor": "center",
          "xref": "paper",
          "y": 1,
          "yanchor": "bottom",
          "yref": "paper"
         },
         {
          "font": {
           "size": 16
          },
          "showarrow": false,
          "text": "ages 10-25",
          "x": 0.775,
          "xanchor": "center",
          "xref": "paper",
          "y": 1,
          "yanchor": "bottom",
          "yref": "paper"
         }
        ],
        "boxmode": "group",
        "legend": {
         "orientation": "h",
         "x": 1,
         "xanchor": "right",
         "y": 1.02,
         "yanchor": "bottom"
        },
        "plot_bgcolor": "white",
        "template": {
         "data": {
          "bar": [
           {
            "error_x": {
             "color": "#2a3f5f"
            },
            "error_y": {
             "color": "#2a3f5f"
            },
            "marker": {
             "line": {
              "color": "#E5ECF6",
              "width": 0.5
             },
             "pattern": {
              "fillmode": "overlay",
              "size": 10,
              "solidity": 0.2
             }
            },
            "type": "bar"
           }
          ],
          "barpolar": [
           {
            "marker": {
             "line": {
              "color": "#E5ECF6",
              "width": 0.5
             },
             "pattern": {
              "fillmode": "overlay",
              "size": 10,
              "solidity": 0.2
             }
            },
            "type": "barpolar"
           }
          ],
          "carpet": [
           {
            "aaxis": {
             "endlinecolor": "#2a3f5f",
             "gridcolor": "white",
             "linecolor": "white",
             "minorgridcolor": "white",
             "startlinecolor": "#2a3f5f"
            },
            "baxis": {
             "endlinecolor": "#2a3f5f",
             "gridcolor": "white",
             "linecolor": "white",
             "minorgridcolor": "white",
             "startlinecolor": "#2a3f5f"
            },
            "type": "carpet"
           }
          ],
          "choropleth": [
           {
            "colorbar": {
             "outlinewidth": 0,
             "ticks": ""
            },
            "type": "choropleth"
           }
          ],
          "contour": [
           {
            "colorbar": {
             "outlinewidth": 0,
             "ticks": ""
            },
            "colorscale": [
             [
              0,
              "#0d0887"
             ],
             [
              0.1111111111111111,
              "#46039f"
             ],
             [
              0.2222222222222222,
              "#7201a8"
             ],
             [
              0.3333333333333333,
              "#9c179e"
             ],
             [
              0.4444444444444444,
              "#bd3786"
             ],
             [
              0.5555555555555556,
              "#d8576b"
             ],
             [
              0.6666666666666666,
              "#ed7953"
             ],
             [
              0.7777777777777778,
              "#fb9f3a"
             ],
             [
              0.8888888888888888,
              "#fdca26"
             ],
             [
              1,
              "#f0f921"
             ]
            ],
            "type": "contour"
           }
          ],
          "contourcarpet": [
           {
            "colorbar": {
             "outlinewidth": 0,
             "ticks": ""
            },
            "type": "contourcarpet"
           }
          ],
          "heatmap": [
           {
            "colorbar": {
             "outlinewidth": 0,
             "ticks": ""
            },
            "colorscale": [
             [
              0,
              "#0d0887"
             ],
             [
              0.1111111111111111,
              "#46039f"
             ],
             [
              0.2222222222222222,
              "#7201a8"
             ],
             [
              0.3333333333333333,
              "#9c179e"
             ],
             [
              0.4444444444444444,
              "#bd3786"
             ],
             [
              0.5555555555555556,
              "#d8576b"
             ],
             [
              0.6666666666666666,
              "#ed7953"
             ],
             [
              0.7777777777777778,
              "#fb9f3a"
             ],
             [
              0.8888888888888888,
              "#fdca26"
             ],
             [
              1,
              "#f0f921"
             ]
            ],
            "type": "heatmap"
           }
          ],
          "heatmapgl": [
           {
            "colorbar": {
             "outlinewidth": 0,
             "ticks": ""
            },
            "colorscale": [
             [
              0,
              "#0d0887"
             ],
             [
              0.1111111111111111,
              "#46039f"
             ],
             [
              0.2222222222222222,
              "#7201a8"
             ],
             [
              0.3333333333333333,
              "#9c179e"
             ],
             [
              0.4444444444444444,
              "#bd3786"
             ],
             [
              0.5555555555555556,
              "#d8576b"
             ],
             [
              0.6666666666666666,
              "#ed7953"
             ],
             [
              0.7777777777777778,
              "#fb9f3a"
             ],
             [
              0.8888888888888888,
              "#fdca26"
             ],
             [
              1,
              "#f0f921"
             ]
            ],
            "type": "heatmapgl"
           }
          ],
          "histogram": [
           {
            "marker": {
             "pattern": {
              "fillmode": "overlay",
              "size": 10,
              "solidity": 0.2
             }
            },
            "type": "histogram"
           }
          ],
          "histogram2d": [
           {
            "colorbar": {
             "outlinewidth": 0,
             "ticks": ""
            },
            "colorscale": [
             [
              0,
              "#0d0887"
             ],
             [
              0.1111111111111111,
              "#46039f"
             ],
             [
              0.2222222222222222,
              "#7201a8"
             ],
             [
              0.3333333333333333,
              "#9c179e"
             ],
             [
              0.4444444444444444,
              "#bd3786"
             ],
             [
              0.5555555555555556,
              "#d8576b"
             ],
             [
              0.6666666666666666,
              "#ed7953"
             ],
             [
              0.7777777777777778,
              "#fb9f3a"
             ],
             [
              0.8888888888888888,
              "#fdca26"
             ],
             [
              1,
              "#f0f921"
             ]
            ],
            "type": "histogram2d"
           }
          ],
          "histogram2dcontour": [
           {
            "colorbar": {
             "outlinewidth": 0,
             "ticks": ""
            },
            "colorscale": [
             [
              0,
              "#0d0887"
             ],
             [
              0.1111111111111111,
              "#46039f"
             ],
             [
              0.2222222222222222,
              "#7201a8"
             ],
             [
              0.3333333333333333,
              "#9c179e"
             ],
             [
              0.4444444444444444,
              "#bd3786"
             ],
             [
              0.5555555555555556,
              "#d8576b"
             ],
             [
              0.6666666666666666,
              "#ed7953"
             ],
             [
              0.7777777777777778,
              "#fb9f3a"
             ],
             [
              0.8888888888888888,
              "#fdca26"
             ],
             [
              1,
              "#f0f921"
             ]
            ],
            "type": "histogram2dcontour"
           }
          ],
          "mesh3d": [
           {
            "colorbar": {
             "outlinewidth": 0,
             "ticks": ""
            },
            "type": "mesh3d"
           }
          ],
          "parcoords": [
           {
            "line": {
             "colorbar": {
              "outlinewidth": 0,
              "ticks": ""
             }
            },
            "type": "parcoords"
           }
          ],
          "pie": [
           {
            "automargin": true,
            "type": "pie"
           }
          ],
          "scatter": [
           {
            "fillpattern": {
             "fillmode": "overlay",
             "size": 10,
             "solidity": 0.2
            },
            "type": "scatter"
           }
          ],
          "scatter3d": [
           {
            "line": {
             "colorbar": {
              "outlinewidth": 0,
              "ticks": ""
             }
            },
            "marker": {
             "colorbar": {
              "outlinewidth": 0,
              "ticks": ""
             }
            },
            "type": "scatter3d"
           }
          ],
          "scattercarpet": [
           {
            "marker": {
             "colorbar": {
              "outlinewidth": 0,
              "ticks": ""
             }
            },
            "type": "scattercarpet"
           }
          ],
          "scattergeo": [
           {
            "marker": {
             "colorbar": {
              "outlinewidth": 0,
              "ticks": ""
             }
            },
            "type": "scattergeo"
           }
          ],
          "scattergl": [
           {
            "marker": {
             "colorbar": {
              "outlinewidth": 0,
              "ticks": ""
             }
            },
            "type": "scattergl"
           }
          ],
          "scattermapbox": [
           {
            "marker": {
             "colorbar": {
              "outlinewidth": 0,
              "ticks": ""
             }
            },
            "type": "scattermapbox"
           }
          ],
          "scatterpolar": [
           {
            "marker": {
             "colorbar": {
              "outlinewidth": 0,
              "ticks": ""
             }
            },
            "type": "scatterpolar"
           }
          ],
          "scatterpolargl": [
           {
            "marker": {
             "colorbar": {
              "outlinewidth": 0,
              "ticks": ""
             }
            },
            "type": "scatterpolargl"
           }
          ],
          "scatterternary": [
           {
            "marker": {
             "colorbar": {
              "outlinewidth": 0,
              "ticks": ""
             }
            },
            "type": "scatterternary"
           }
          ],
          "surface": [
           {
            "colorbar": {
             "outlinewidth": 0,
             "ticks": ""
            },
            "colorscale": [
             [
              0,
              "#0d0887"
             ],
             [
              0.1111111111111111,
              "#46039f"
             ],
             [
              0.2222222222222222,
              "#7201a8"
             ],
             [
              0.3333333333333333,
              "#9c179e"
             ],
             [
              0.4444444444444444,
              "#bd3786"
             ],
             [
              0.5555555555555556,
              "#d8576b"
             ],
             [
              0.6666666666666666,
              "#ed7953"
             ],
             [
              0.7777777777777778,
              "#fb9f3a"
             ],
             [
              0.8888888888888888,
              "#fdca26"
             ],
             [
              1,
              "#f0f921"
             ]
            ],
            "type": "surface"
           }
          ],
          "table": [
           {
            "cells": {
             "fill": {
              "color": "#EBF0F8"
             },
             "line": {
              "color": "white"
             }
            },
            "header": {
             "fill": {
              "color": "#C8D4E3"
             },
             "line": {
              "color": "white"
             }
            },
            "type": "table"
           }
          ]
         },
         "layout": {
          "annotationdefaults": {
           "arrowcolor": "#2a3f5f",
           "arrowhead": 0,
           "arrowwidth": 1
          },
          "autotypenumbers": "strict",
          "coloraxis": {
           "colorbar": {
            "outlinewidth": 0,
            "ticks": ""
           }
          },
          "colorscale": {
           "diverging": [
            [
             0,
             "#8e0152"
            ],
            [
             0.1,
             "#c51b7d"
            ],
            [
             0.2,
             "#de77ae"
            ],
            [
             0.3,
             "#f1b6da"
            ],
            [
             0.4,
             "#fde0ef"
            ],
            [
             0.5,
             "#f7f7f7"
            ],
            [
             0.6,
             "#e6f5d0"
            ],
            [
             0.7,
             "#b8e186"
            ],
            [
             0.8,
             "#7fbc41"
            ],
            [
             0.9,
             "#4d9221"
            ],
            [
             1,
             "#276419"
            ]
           ],
           "sequential": [
            [
             0,
             "#0d0887"
            ],
            [
             0.1111111111111111,
             "#46039f"
            ],
            [
             0.2222222222222222,
             "#7201a8"
            ],
            [
             0.3333333333333333,
             "#9c179e"
            ],
            [
             0.4444444444444444,
             "#bd3786"
            ],
            [
             0.5555555555555556,
             "#d8576b"
            ],
            [
             0.6666666666666666,
             "#ed7953"
            ],
            [
             0.7777777777777778,
             "#fb9f3a"
            ],
            [
             0.8888888888888888,
             "#fdca26"
            ],
            [
             1,
             "#f0f921"
            ]
           ],
           "sequentialminus": [
            [
             0,
             "#0d0887"
            ],
            [
             0.1111111111111111,
             "#46039f"
            ],
            [
             0.2222222222222222,
             "#7201a8"
            ],
            [
             0.3333333333333333,
             "#9c179e"
            ],
            [
             0.4444444444444444,
             "#bd3786"
            ],
            [
             0.5555555555555556,
             "#d8576b"
            ],
            [
             0.6666666666666666,
             "#ed7953"
            ],
            [
             0.7777777777777778,
             "#fb9f3a"
            ],
            [
             0.8888888888888888,
             "#fdca26"
            ],
            [
             1,
             "#f0f921"
            ]
           ]
          },
          "colorway": [
           "#636efa",
           "#EF553B",
           "#00cc96",
           "#ab63fa",
           "#FFA15A",
           "#19d3f3",
           "#FF6692",
           "#B6E880",
           "#FF97FF",
           "#FECB52"
          ],
          "font": {
           "color": "#2a3f5f"
          },
          "geo": {
           "bgcolor": "white",
           "lakecolor": "white",
           "landcolor": "#E5ECF6",
           "showlakes": true,
           "showland": true,
           "subunitcolor": "white"
          },
          "hoverlabel": {
           "align": "left"
          },
          "hovermode": "closest",
          "mapbox": {
           "style": "light"
          },
          "paper_bgcolor": "white",
          "plot_bgcolor": "#E5ECF6",
          "polar": {
           "angularaxis": {
            "gridcolor": "white",
            "linecolor": "white",
            "ticks": ""
           },
           "bgcolor": "#E5ECF6",
           "radialaxis": {
            "gridcolor": "white",
            "linecolor": "white",
            "ticks": ""
           }
          },
          "scene": {
           "xaxis": {
            "backgroundcolor": "#E5ECF6",
            "gridcolor": "white",
            "gridwidth": 2,
            "linecolor": "white",
            "showbackground": true,
            "ticks": "",
            "zerolinecolor": "white"
           },
           "yaxis": {
            "backgroundcolor": "#E5ECF6",
            "gridcolor": "white",
            "gridwidth": 2,
            "linecolor": "white",
            "showbackground": true,
            "ticks": "",
            "zerolinecolor": "white"
           },
           "zaxis": {
            "backgroundcolor": "#E5ECF6",
            "gridcolor": "white",
            "gridwidth": 2,
            "linecolor": "white",
            "showbackground": true,
            "ticks": "",
            "zerolinecolor": "white"
           }
          },
          "shapedefaults": {
           "line": {
            "color": "#2a3f5f"
           }
          },
          "ternary": {
           "aaxis": {
            "gridcolor": "white",
            "linecolor": "white",
            "ticks": ""
           },
           "baxis": {
            "gridcolor": "white",
            "linecolor": "white",
            "ticks": ""
           },
           "bgcolor": "#E5ECF6",
           "caxis": {
            "gridcolor": "white",
            "linecolor": "white",
            "ticks": ""
           }
          },
          "title": {
           "x": 0.05
          },
          "xaxis": {
           "automargin": true,
           "gridcolor": "white",
           "linecolor": "white",
           "ticks": "",
           "title": {
            "standoff": 15
           },
           "zerolinecolor": "white",
           "zerolinewidth": 2
          },
          "yaxis": {
           "automargin": true,
           "gridcolor": "white",
           "linecolor": "white",
           "ticks": "",
           "title": {
            "standoff": 15
           },
           "zerolinecolor": "white",
           "zerolinewidth": 2
          }
         }
        },
        "title": {
         "text": "E2 in region London"
        },
        "width": 800,
        "xaxis": {
         "anchor": "y",
         "domain": [
          0,
          0.45
         ],
         "linecolor": "black"
        },
        "xaxis2": {
         "anchor": "y2",
         "domain": [
          0.55,
          1
         ],
         "linecolor": "black"
        },
        "xaxis3": {
         "linecolor": "black"
        },
        "xaxis4": {
         "linecolor": "black"
        },
        "xaxis5": {
         "linecolor": "black"
        },
        "xaxis6": {
         "linecolor": "black"
        },
        "xaxis7": {
         "linecolor": "black"
        },
        "xaxis8": {
         "linecolor": "black"
        },
        "yaxis": {
         "anchor": "x",
         "domain": [
          0,
          1
         ],
         "linecolor": "black"
        },
        "yaxis2": {
         "anchor": "x2",
         "domain": [
          0,
          1
         ],
         "linecolor": "black"
        },
        "yaxis3": {
         "linecolor": "black"
        },
        "yaxis4": {
         "linecolor": "black"
        },
        "yaxis5": {
         "linecolor": "black"
        },
        "yaxis6": {
         "linecolor": "black"
        },
        "yaxis7": {
         "linecolor": "black"
        },
        "yaxis8": {
         "linecolor": "black"
        }
       }
      }
     },
     "metadata": {},
     "output_type": "display_data"
    },
    {
     "data": {
      "application/vnd.plotly.v1+json": {
       "config": {
        "plotlyServerURL": "https://plot.ly"
       },
       "data": [
        {
         "line": {
          "color": "blue"
         },
         "mode": "lines",
         "name": "my-solver with delta_t = 0.5",
         "type": "scatter",
         "x": [
          1,
          1.5,
          2,
          2.5,
          3,
          3.5,
          4,
          4.5,
          5,
          5.5,
          6,
          6.5,
          7,
          7.5,
          8,
          8.5,
          9,
          9.5,
          10,
          10.5,
          11,
          11.5,
          12,
          12.5,
          13,
          13.5,
          14,
          14.5,
          15,
          15.5,
          16,
          16.5,
          17,
          17.5,
          18,
          18.5,
          19,
          19.5,
          20
         ],
         "xaxis": "x",
         "y": [
          5,
          3.75,
          2.8125,
          2.109375,
          1.969677771050564,
          2.382544703679275,
          3.194382771669161,
          4.218910706111878,
          5.291825453608139,
          6.292086105303804,
          7.144555338847452,
          7.813481022533804,
          8.29259524798721,
          8.595083368753816,
          8.745025777312751,
          8.77089453103866,
          8.701103524553393,
          8.561318759350984,
          8.373126822730558,
          8.15365845721634,
          7.915817963256601,
          7.668844528733672,
          7.419008337458117,
          7.1703118305538975,
          6.9251203596319355,
          6.684686070560248,
          6.449555669570383,
          6.219869150853006,
          5.995565202771417,
          5.71679136796126,
          5.371102770910089,
          4.969044939014737,
          4.530087856123507,
          4.074989688250741,
          3.622049257903633,
          3.1856251010428154,
          2.77590479499122,
          2.3993033502484282,
          2.0591236076315926
         ],
         "yaxis": "y"
        },
        {
         "line": {
          "color": "red"
         },
         "mode": "lines",
         "name": "my-solver with delta_t = 0.25",
         "type": "scatter",
         "x": [
          1,
          1.5,
          2,
          2.5,
          3,
          3.5,
          4,
          4.5,
          5,
          5.5,
          6,
          6.5,
          7,
          7.5,
          8,
          8.5,
          9,
          9.5,
          10,
          10.5,
          11,
          11.5,
          12,
          12.5,
          13,
          13.5,
          14,
          14.5,
          15,
          15.5,
          16,
          16.5,
          17,
          17.5,
          18,
          18.5,
          19,
          19.5,
          20
         ],
         "xaxis": "x",
         "y": [
          5,
          3.828125,
          2.9833288731400125,
          2.655740195843796,
          2.849517011329601,
          3.4472030687585966,
          4.295750710823467,
          5.251714918907105,
          6.201160595892443,
          7.0648407561105,
          7.795569649186323,
          8.372136592271634,
          8.792330104488599,
          9.066459435352249,
          9.21200594793238,
          9.249581819503922,
          9.200121529663537,
          9.08311168665659,
          8.91562627487691,
          8.711942410716773,
          8.483542926758187,
          8.23935188016699,
          7.986088755991369,
          7.728662170049685,
          7.470552386945786,
          7.214153687175732,
          6.961063161334574,
          6.712312903254806,
          6.439725731516831,
          6.113049579616437,
          5.730378473434831,
          5.303507276231267,
          4.8493001724923674,
          4.384895047900932,
          3.92529394974312,
          3.482387597894736,
          3.0647994043145474,
          2.678160965997352,
          2.3255811661565597
         ],
         "yaxis": "y"
        },
        {
         "line": {
          "color": "green"
         },
         "mode": "lines",
         "name": "my-solver with delta_t = 0.05",
         "type": "scatter",
         "x": [
          1,
          1.5,
          2,
          2.5,
          3,
          3.5,
          4,
          4.5,
          5,
          5.5,
          6,
          6.5,
          7,
          7.5,
          8,
          8.5,
          9,
          9.5,
          10,
          10.5,
          11,
          11.5,
          12,
          12.5,
          13,
          13.5,
          14,
          14.5,
          15,
          15.5,
          16,
          16.5,
          17,
          17.5,
          18,
          18.5,
          19,
          19.5,
          20
         ],
         "xaxis": "x",
         "y": [
          5,
          3.9142045366636093,
          3.311993046509299,
          3.2342595719265015,
          3.5953993653911653,
          4.2630517932268575,
          5.102708187431841,
          5.999614455341406,
          6.866887568289982,
          7.645826298160025,
          8.302286970762731,
          8.821517987460107,
          9.20284124411613,
          9.454906259966208,
          9.591824622370334,
          9.630243180385447,
          9.587278705058653,
          9.479174273124373,
          9.320520067781905,
          9.123889207050695,
          8.899759779042816,
          8.656619397505583,
          8.401173518261023,
          8.138600946442509,
          7.872818335897708,
          7.606729843770943,
          7.34244876117199,
          7.074477038093265,
          6.770304869585496,
          6.413713751533953,
          6.007744184526605,
          5.564604809109233,
          5.099643705790643,
          4.627956083308631,
          4.162662068398818,
          3.7142081418959876,
          3.2902666207646165,
          2.8959586652539104,
          2.534228479816682
         ],
         "yaxis": "y"
        },
        {
         "line": {
          "color": "purple"
         },
         "mode": "lines",
         "name": "my-solver with delta_t = 0.001",
         "type": "scatter",
         "x": [
          1,
          1.5,
          2,
          2.5,
          3,
          3.5,
          4,
          4.5,
          5,
          5.5,
          6,
          6.5,
          7,
          7.5,
          8,
          8.5,
          9,
          9.5,
          10,
          10.5,
          11,
          11.5,
          12,
          12.5,
          13,
          13.5,
          14,
          14.5,
          15,
          15.5,
          16,
          16.5,
          17,
          17.5,
          18,
          18.5,
          19,
          19.5,
          20
         ],
         "xaxis": "x",
         "y": [
          5,
          3.953070095638668,
          3.412752380721473,
          3.3869688813156666,
          3.779174330055718,
          4.457382111310447,
          5.292137417545824,
          6.174770659075825,
          7.023735076631685,
          7.784247728482982,
          8.424602934608917,
          8.931235055183569,
          9.303729493320613,
          9.55040363049687,
          9.684715632966185,
          9.72254281678475,
          9.680253896058659,
          9.573445863460218,
          9.41620174939768,
          9.22073316901149,
          8.997290229041843,
          8.75424398718852,
          8.498269072469315,
          8.234574070526826,
          7.96714389957089,
          7.698971471822568,
          7.432265710024979,
          7.159384004496905,
          6.848223808859705,
          6.485164624513806,
          6.07414757457846,
          5.627426844878049,
          5.160028714984148,
          4.686626086178098,
          4.219949322344359,
          3.770142774140091,
          3.344676431142919,
          2.9485595943127274,
          2.584696846023877
         ],
         "yaxis": "y"
        },
        {
         "line": {
          "color": "orange"
         },
         "mode": "lines",
         "name": "scipy-solver RK45",
         "type": "scatter",
         "x": [
          1,
          1.5,
          2,
          2.5,
          3,
          3.5,
          4,
          4.5,
          5,
          5.5,
          6,
          6.5,
          7,
          7.5,
          8,
          8.5,
          9,
          9.5,
          10,
          10.5,
          11,
          11.5,
          12,
          12.5,
          13,
          13.5,
          14,
          14.5,
          15,
          15.5,
          16,
          16.5,
          17,
          17.5,
          18,
          18.5,
          19,
          19.5,
          20
         ],
         "xaxis": "x",
         "y": [
          5,
          3.953932809856524,
          3.4154170631967076,
          3.3906519538360413,
          3.7834308482303145,
          4.460748597964724,
          5.296668008981841,
          6.176469465976949,
          7.026496709133266,
          7.786733990950515,
          8.425133776118432,
          8.931535719154907,
          9.303814879708964,
          9.551723269523931,
          9.687173142548804,
          9.723557642668203,
          9.680734728455468,
          9.576069921118064,
          9.421107380689465,
          9.224613640863243,
          8.9998106823153,
          8.756679450809944,
          8.501945951107167,
          8.239127768702227,
          7.97682726881422,
          7.720408616751075,
          7.454948613462973,
          7.16820914878809,
          6.851100094682959,
          6.492499079594943,
          6.081518283698068,
          5.640298291671752,
          5.1766670901226455,
          4.699149448338645,
          4.229490495394906,
          3.778435897277477,
          3.350793945168226,
          2.9525697499339696,
          2.587112937928863
         ],
         "yaxis": "y"
        },
        {
         "line": {
          "color": "blue"
         },
         "mode": "lines",
         "name": "my-solver with delta_t = 0.5",
         "showlegend": false,
         "type": "scatter",
         "x": [
          1,
          1.5,
          2,
          2.5,
          3,
          3.5,
          4,
          4.5,
          5,
          5.5,
          6,
          6.5,
          7,
          7.5,
          8,
          8.5,
          9,
          9.5,
          10,
          10.5,
          11,
          11.5,
          12,
          12.5,
          13,
          13.5,
          14,
          14.5,
          15,
          15.5,
          16,
          16.5,
          17,
          17.5,
          18,
          18.5,
          19,
          19.5,
          20
         ],
         "xaxis": "x2",
         "y": [
          20,
          15,
          11.25,
          8.4375,
          6.464360645566451,
          5.169033683181376,
          4.379249986824804,
          3.939701662700666,
          3.723867793804799,
          3.636405229155757,
          3.6104521034561747,
          3.6026562389498364,
          3.587638933934018,
          3.5528432990921095,
          3.494213574023128,
          3.4128389431435533,
          3.3125164578266166,
          3.19809915022965,
          3.074464504052928,
          2.9459414613523736,
          2.8160547756493592,
          2.6874731248434114,
          2.562075517247756,
          2.4410756575789243,
          2.325164555331128,
          2.214647452751904,
          2.1095625144586485,
          2.0097763750404067,
          1.9150563992923328,
          1.8251221450081032,
          1.739679692901382,
          1.6584427492580744,
          1.5811441279043668,
          1.5075406553028217,
          1.437413897142497,
          1.3705684853164435,
          1.3068292874799916,
          1.246038229482318,
          1.1880512543547896
         ],
         "yaxis": "y2"
        },
        {
         "line": {
          "color": "red"
         },
         "mode": "lines",
         "name": "my-solver with delta_t = 0.25",
         "showlegend": false,
         "type": "scatter",
         "x": [
          1,
          1.5,
          2,
          2.5,
          3,
          3.5,
          4,
          4.5,
          5,
          5.5,
          6,
          6.5,
          7,
          7.5,
          8,
          8.5,
          9,
          9.5,
          10,
          10.5,
          11,
          11.5,
          12,
          12.5,
          13,
          13.5,
          14,
          14.5,
          15,
          15.5,
          16,
          16.5,
          17,
          17.5,
          18,
          18.5,
          19,
          19.5,
          20
         ],
         "xaxis": "x2",
         "y": [
          20,
          15.3125,
          11.741873912470204,
          9.120093372379063,
          7.270734497873133,
          6.016559457775464,
          5.198916460076196,
          4.686041097655719,
          4.374628562643693,
          4.18767106821265,
          4.070530133387552,
          3.986472886453067,
          3.912383977618408,
          3.83501661240953,
          3.747923022563815,
          3.6490705403287427,
          3.539076493535393,
          3.419962454552364,
          3.2943207197366924,
          3.164792566809946,
          3.0337716220265323,
          2.9032619448354464,
          2.7748364422043896,
          2.64965547831308,
          2.528517413704382,
          2.41192218127934,
          2.3001360725091358,
          2.193250998249977,
          2.0912349833927864,
          1.993972920157632,
          1.9012979652531472,
          1.8130146898903823,
          1.7289153901577723,
          1.6487909975387345,
          1.572437909788854,
          1.4996618694553925,
          1.4302798018743443,
          1.3641203170725695,
          1.3010233969208809
         ],
         "yaxis": "y2"
        },
        {
         "line": {
          "color": "green"
         },
         "mode": "lines",
         "name": "my-solver with delta_t = 0.05",
         "showlegend": false,
         "type": "scatter",
         "x": [
          1,
          1.5,
          2,
          2.5,
          3,
          3.5,
          4,
          4.5,
          5,
          5.5,
          6,
          6.5,
          7,
          7.5,
          8,
          8.5,
          9,
          9.5,
          10,
          10.5,
          11,
          11.5,
          12,
          12.5,
          13,
          13.5,
          14,
          14.5,
          15,
          15.5,
          16,
          16.5,
          17,
          17.5,
          18,
          18.5,
          19,
          19.5,
          20
         ],
         "xaxis": "x2",
         "y": [
          20,
          15.537886736501697,
          12.157961555596236,
          9.671811182961076,
          7.892532997669309,
          6.651420701182994,
          5.805507965566325,
          5.239326193651124,
          4.863328237453719,
          4.61062431389963,
          4.433087436688057,
          4.297467478672845,
          4.181865511360769,
          4.072730011005392,
          3.9624170350828427,
          3.8472865843307544,
          3.726271135976796,
          3.599837983300959,
          3.469266087614326,
          3.336164761152385,
          3.202171717905313,
          3.068779344477296,
          2.9372489591847075,
          2.8085825460166167,
          2.683529631151439,
          2.5626135601711297,
          2.4461665454240977,
          2.3343666789627595,
          2.2272728698749886,
          2.1248555849169133,
          2.027022546072365,
          1.9336393364703337,
          1.8445453240014311,
          1.759565537225951,
          1.6785192017811394,
          1.6012256265877813,
          1.5275080592862589,
          1.4571960375004118,
          1.3901266646178734
         ],
         "yaxis": "y2"
        },
        {
         "line": {
          "color": "purple"
         },
         "mode": "lines",
         "name": "my-solver with delta_t = 0.001",
         "showlegend": false,
         "type": "scatter",
         "x": [
          1,
          1.5,
          2,
          2.5,
          3,
          3.5,
          4,
          4.5,
          5,
          5.5,
          6,
          6.5,
          7,
          7.5,
          8,
          8.5,
          9,
          9.5,
          10,
          10.5,
          11,
          11.5,
          12,
          12.5,
          13,
          13.5,
          14,
          14.5,
          15,
          15.5,
          16,
          16.5,
          17,
          17.5,
          18,
          18.5,
          19,
          19.5,
          20
         ],
         "xaxis": "x2",
         "y": [
          20,
          15.59563540168519,
          12.261997336202178,
          9.805790408981887,
          8.040735849392604,
          6.801282119811766,
          5.9483152851360455,
          5.36994610867935,
          4.979505089521254,
          4.712169350066115,
          4.521130293100911,
          4.373846574091656,
          4.248677356500085,
          4.132026443708429,
          4.016025039242109,
          3.8967211735849294,
          3.7727133212768105,
          3.644154151281318,
          3.512050353184023,
          3.377790957150618,
          3.242846103795123,
          3.108588646012436,
          2.9762009826239306,
          2.846638441672013,
          2.720628056047538,
          2.5986876614512315,
          2.48115499581971,
          2.368220061926552,
          2.259956628450541,
          2.1563505845197826,
          2.0573241055566394,
          1.9627553856442799,
          1.8724941676649123,
          1.7863735550135034,
          1.704218692451384,
          1.625852913768439,
          1.551101909708178,
          1.479796398087582,
          1.4117736969196775
         ],
         "yaxis": "y2"
        },
        {
         "line": {
          "color": "orange"
         },
         "mode": "lines",
         "name": "scipy-solver RK45",
         "showlegend": false,
         "type": "scatter",
         "x": [
          1,
          1.5,
          2,
          2.5,
          3,
          3.5,
          4,
          4.5,
          5,
          5.5,
          6,
          6.5,
          7,
          7.5,
          8,
          8.5,
          9,
          9.5,
          10,
          10.5,
          11,
          11.5,
          12,
          12.5,
          13,
          13.5,
          14,
          14.5,
          15,
          15.5,
          16,
          16.5,
          17,
          17.5,
          18,
          18.5,
          19,
          19.5,
          20
         ],
         "xaxis": "x2",
         "y": [
          20,
          15.596825382383152,
          12.264260789843476,
          9.808631346890719,
          8.043851589275535,
          6.804120137033566,
          5.951286180828624,
          5.372113524416747,
          4.981464684619959,
          4.713906188540694,
          4.522513040720048,
          4.374602838383264,
          4.248960672742682,
          4.133095658771724,
          4.0176957441528875,
          3.897296413297234,
          3.772834696347923,
          3.6453873758164987,
          3.514478138051618,
          3.3795175436973826,
          3.243658138176698,
          3.109380896235789,
          2.9778543093843894,
          2.848951738337339,
          2.7224819788004186,
          2.600125579833299,
          2.4823347300750243,
          2.3692964495663724,
          2.260972162402231,
          2.157182521185396,
          2.0580079492738266,
          1.963332730533243,
          1.8729997661752869,
          1.7868384659548129,
          1.7046568283162,
          1.6262711077199048,
          1.5515080731593502,
          1.480194145286394,
          1.412163879333694
         ],
         "yaxis": "y2"
        }
       ],
       "layout": {
        "annotations": [
         {
          "font": {
           "size": 16
          },
          "showarrow": false,
          "text": "ages 0-10",
          "x": 0.225,
          "xanchor": "center",
          "xref": "paper",
          "y": 1,
          "yanchor": "bottom",
          "yref": "paper"
         },
         {
          "font": {
           "size": 16
          },
          "showarrow": false,
          "text": "ages 10-25",
          "x": 0.775,
          "xanchor": "center",
          "xref": "paper",
          "y": 1,
          "yanchor": "bottom",
          "yref": "paper"
         }
        ],
        "boxmode": "group",
        "legend": {
         "orientation": "h",
         "x": 1,
         "xanchor": "right",
         "y": 1.02,
         "yanchor": "bottom"
        },
        "plot_bgcolor": "white",
        "template": {
         "data": {
          "bar": [
           {
            "error_x": {
             "color": "#2a3f5f"
            },
            "error_y": {
             "color": "#2a3f5f"
            },
            "marker": {
             "line": {
              "color": "#E5ECF6",
              "width": 0.5
             },
             "pattern": {
              "fillmode": "overlay",
              "size": 10,
              "solidity": 0.2
             }
            },
            "type": "bar"
           }
          ],
          "barpolar": [
           {
            "marker": {
             "line": {
              "color": "#E5ECF6",
              "width": 0.5
             },
             "pattern": {
              "fillmode": "overlay",
              "size": 10,
              "solidity": 0.2
             }
            },
            "type": "barpolar"
           }
          ],
          "carpet": [
           {
            "aaxis": {
             "endlinecolor": "#2a3f5f",
             "gridcolor": "white",
             "linecolor": "white",
             "minorgridcolor": "white",
             "startlinecolor": "#2a3f5f"
            },
            "baxis": {
             "endlinecolor": "#2a3f5f",
             "gridcolor": "white",
             "linecolor": "white",
             "minorgridcolor": "white",
             "startlinecolor": "#2a3f5f"
            },
            "type": "carpet"
           }
          ],
          "choropleth": [
           {
            "colorbar": {
             "outlinewidth": 0,
             "ticks": ""
            },
            "type": "choropleth"
           }
          ],
          "contour": [
           {
            "colorbar": {
             "outlinewidth": 0,
             "ticks": ""
            },
            "colorscale": [
             [
              0,
              "#0d0887"
             ],
             [
              0.1111111111111111,
              "#46039f"
             ],
             [
              0.2222222222222222,
              "#7201a8"
             ],
             [
              0.3333333333333333,
              "#9c179e"
             ],
             [
              0.4444444444444444,
              "#bd3786"
             ],
             [
              0.5555555555555556,
              "#d8576b"
             ],
             [
              0.6666666666666666,
              "#ed7953"
             ],
             [
              0.7777777777777778,
              "#fb9f3a"
             ],
             [
              0.8888888888888888,
              "#fdca26"
             ],
             [
              1,
              "#f0f921"
             ]
            ],
            "type": "contour"
           }
          ],
          "contourcarpet": [
           {
            "colorbar": {
             "outlinewidth": 0,
             "ticks": ""
            },
            "type": "contourcarpet"
           }
          ],
          "heatmap": [
           {
            "colorbar": {
             "outlinewidth": 0,
             "ticks": ""
            },
            "colorscale": [
             [
              0,
              "#0d0887"
             ],
             [
              0.1111111111111111,
              "#46039f"
             ],
             [
              0.2222222222222222,
              "#7201a8"
             ],
             [
              0.3333333333333333,
              "#9c179e"
             ],
             [
              0.4444444444444444,
              "#bd3786"
             ],
             [
              0.5555555555555556,
              "#d8576b"
             ],
             [
              0.6666666666666666,
              "#ed7953"
             ],
             [
              0.7777777777777778,
              "#fb9f3a"
             ],
             [
              0.8888888888888888,
              "#fdca26"
             ],
             [
              1,
              "#f0f921"
             ]
            ],
            "type": "heatmap"
           }
          ],
          "heatmapgl": [
           {
            "colorbar": {
             "outlinewidth": 0,
             "ticks": ""
            },
            "colorscale": [
             [
              0,
              "#0d0887"
             ],
             [
              0.1111111111111111,
              "#46039f"
             ],
             [
              0.2222222222222222,
              "#7201a8"
             ],
             [
              0.3333333333333333,
              "#9c179e"
             ],
             [
              0.4444444444444444,
              "#bd3786"
             ],
             [
              0.5555555555555556,
              "#d8576b"
             ],
             [
              0.6666666666666666,
              "#ed7953"
             ],
             [
              0.7777777777777778,
              "#fb9f3a"
             ],
             [
              0.8888888888888888,
              "#fdca26"
             ],
             [
              1,
              "#f0f921"
             ]
            ],
            "type": "heatmapgl"
           }
          ],
          "histogram": [
           {
            "marker": {
             "pattern": {
              "fillmode": "overlay",
              "size": 10,
              "solidity": 0.2
             }
            },
            "type": "histogram"
           }
          ],
          "histogram2d": [
           {
            "colorbar": {
             "outlinewidth": 0,
             "ticks": ""
            },
            "colorscale": [
             [
              0,
              "#0d0887"
             ],
             [
              0.1111111111111111,
              "#46039f"
             ],
             [
              0.2222222222222222,
              "#7201a8"
             ],
             [
              0.3333333333333333,
              "#9c179e"
             ],
             [
              0.4444444444444444,
              "#bd3786"
             ],
             [
              0.5555555555555556,
              "#d8576b"
             ],
             [
              0.6666666666666666,
              "#ed7953"
             ],
             [
              0.7777777777777778,
              "#fb9f3a"
             ],
             [
              0.8888888888888888,
              "#fdca26"
             ],
             [
              1,
              "#f0f921"
             ]
            ],
            "type": "histogram2d"
           }
          ],
          "histogram2dcontour": [
           {
            "colorbar": {
             "outlinewidth": 0,
             "ticks": ""
            },
            "colorscale": [
             [
              0,
              "#0d0887"
             ],
             [
              0.1111111111111111,
              "#46039f"
             ],
             [
              0.2222222222222222,
              "#7201a8"
             ],
             [
              0.3333333333333333,
              "#9c179e"
             ],
             [
              0.4444444444444444,
              "#bd3786"
             ],
             [
              0.5555555555555556,
              "#d8576b"
             ],
             [
              0.6666666666666666,
              "#ed7953"
             ],
             [
              0.7777777777777778,
              "#fb9f3a"
             ],
             [
              0.8888888888888888,
              "#fdca26"
             ],
             [
              1,
              "#f0f921"
             ]
            ],
            "type": "histogram2dcontour"
           }
          ],
          "mesh3d": [
           {
            "colorbar": {
             "outlinewidth": 0,
             "ticks": ""
            },
            "type": "mesh3d"
           }
          ],
          "parcoords": [
           {
            "line": {
             "colorbar": {
              "outlinewidth": 0,
              "ticks": ""
             }
            },
            "type": "parcoords"
           }
          ],
          "pie": [
           {
            "automargin": true,
            "type": "pie"
           }
          ],
          "scatter": [
           {
            "fillpattern": {
             "fillmode": "overlay",
             "size": 10,
             "solidity": 0.2
            },
            "type": "scatter"
           }
          ],
          "scatter3d": [
           {
            "line": {
             "colorbar": {
              "outlinewidth": 0,
              "ticks": ""
             }
            },
            "marker": {
             "colorbar": {
              "outlinewidth": 0,
              "ticks": ""
             }
            },
            "type": "scatter3d"
           }
          ],
          "scattercarpet": [
           {
            "marker": {
             "colorbar": {
              "outlinewidth": 0,
              "ticks": ""
             }
            },
            "type": "scattercarpet"
           }
          ],
          "scattergeo": [
           {
            "marker": {
             "colorbar": {
              "outlinewidth": 0,
              "ticks": ""
             }
            },
            "type": "scattergeo"
           }
          ],
          "scattergl": [
           {
            "marker": {
             "colorbar": {
              "outlinewidth": 0,
              "ticks": ""
             }
            },
            "type": "scattergl"
           }
          ],
          "scattermapbox": [
           {
            "marker": {
             "colorbar": {
              "outlinewidth": 0,
              "ticks": ""
             }
            },
            "type": "scattermapbox"
           }
          ],
          "scatterpolar": [
           {
            "marker": {
             "colorbar": {
              "outlinewidth": 0,
              "ticks": ""
             }
            },
            "type": "scatterpolar"
           }
          ],
          "scatterpolargl": [
           {
            "marker": {
             "colorbar": {
              "outlinewidth": 0,
              "ticks": ""
             }
            },
            "type": "scatterpolargl"
           }
          ],
          "scatterternary": [
           {
            "marker": {
             "colorbar": {
              "outlinewidth": 0,
              "ticks": ""
             }
            },
            "type": "scatterternary"
           }
          ],
          "surface": [
           {
            "colorbar": {
             "outlinewidth": 0,
             "ticks": ""
            },
            "colorscale": [
             [
              0,
              "#0d0887"
             ],
             [
              0.1111111111111111,
              "#46039f"
             ],
             [
              0.2222222222222222,
              "#7201a8"
             ],
             [
              0.3333333333333333,
              "#9c179e"
             ],
             [
              0.4444444444444444,
              "#bd3786"
             ],
             [
              0.5555555555555556,
              "#d8576b"
             ],
             [
              0.6666666666666666,
              "#ed7953"
             ],
             [
              0.7777777777777778,
              "#fb9f3a"
             ],
             [
              0.8888888888888888,
              "#fdca26"
             ],
             [
              1,
              "#f0f921"
             ]
            ],
            "type": "surface"
           }
          ],
          "table": [
           {
            "cells": {
             "fill": {
              "color": "#EBF0F8"
             },
             "line": {
              "color": "white"
             }
            },
            "header": {
             "fill": {
              "color": "#C8D4E3"
             },
             "line": {
              "color": "white"
             }
            },
            "type": "table"
           }
          ]
         },
         "layout": {
          "annotationdefaults": {
           "arrowcolor": "#2a3f5f",
           "arrowhead": 0,
           "arrowwidth": 1
          },
          "autotypenumbers": "strict",
          "coloraxis": {
           "colorbar": {
            "outlinewidth": 0,
            "ticks": ""
           }
          },
          "colorscale": {
           "diverging": [
            [
             0,
             "#8e0152"
            ],
            [
             0.1,
             "#c51b7d"
            ],
            [
             0.2,
             "#de77ae"
            ],
            [
             0.3,
             "#f1b6da"
            ],
            [
             0.4,
             "#fde0ef"
            ],
            [
             0.5,
             "#f7f7f7"
            ],
            [
             0.6,
             "#e6f5d0"
            ],
            [
             0.7,
             "#b8e186"
            ],
            [
             0.8,
             "#7fbc41"
            ],
            [
             0.9,
             "#4d9221"
            ],
            [
             1,
             "#276419"
            ]
           ],
           "sequential": [
            [
             0,
             "#0d0887"
            ],
            [
             0.1111111111111111,
             "#46039f"
            ],
            [
             0.2222222222222222,
             "#7201a8"
            ],
            [
             0.3333333333333333,
             "#9c179e"
            ],
            [
             0.4444444444444444,
             "#bd3786"
            ],
            [
             0.5555555555555556,
             "#d8576b"
            ],
            [
             0.6666666666666666,
             "#ed7953"
            ],
            [
             0.7777777777777778,
             "#fb9f3a"
            ],
            [
             0.8888888888888888,
             "#fdca26"
            ],
            [
             1,
             "#f0f921"
            ]
           ],
           "sequentialminus": [
            [
             0,
             "#0d0887"
            ],
            [
             0.1111111111111111,
             "#46039f"
            ],
            [
             0.2222222222222222,
             "#7201a8"
            ],
            [
             0.3333333333333333,
             "#9c179e"
            ],
            [
             0.4444444444444444,
             "#bd3786"
            ],
            [
             0.5555555555555556,
             "#d8576b"
            ],
            [
             0.6666666666666666,
             "#ed7953"
            ],
            [
             0.7777777777777778,
             "#fb9f3a"
            ],
            [
             0.8888888888888888,
             "#fdca26"
            ],
            [
             1,
             "#f0f921"
            ]
           ]
          },
          "colorway": [
           "#636efa",
           "#EF553B",
           "#00cc96",
           "#ab63fa",
           "#FFA15A",
           "#19d3f3",
           "#FF6692",
           "#B6E880",
           "#FF97FF",
           "#FECB52"
          ],
          "font": {
           "color": "#2a3f5f"
          },
          "geo": {
           "bgcolor": "white",
           "lakecolor": "white",
           "landcolor": "#E5ECF6",
           "showlakes": true,
           "showland": true,
           "subunitcolor": "white"
          },
          "hoverlabel": {
           "align": "left"
          },
          "hovermode": "closest",
          "mapbox": {
           "style": "light"
          },
          "paper_bgcolor": "white",
          "plot_bgcolor": "#E5ECF6",
          "polar": {
           "angularaxis": {
            "gridcolor": "white",
            "linecolor": "white",
            "ticks": ""
           },
           "bgcolor": "#E5ECF6",
           "radialaxis": {
            "gridcolor": "white",
            "linecolor": "white",
            "ticks": ""
           }
          },
          "scene": {
           "xaxis": {
            "backgroundcolor": "#E5ECF6",
            "gridcolor": "white",
            "gridwidth": 2,
            "linecolor": "white",
            "showbackground": true,
            "ticks": "",
            "zerolinecolor": "white"
           },
           "yaxis": {
            "backgroundcolor": "#E5ECF6",
            "gridcolor": "white",
            "gridwidth": 2,
            "linecolor": "white",
            "showbackground": true,
            "ticks": "",
            "zerolinecolor": "white"
           },
           "zaxis": {
            "backgroundcolor": "#E5ECF6",
            "gridcolor": "white",
            "gridwidth": 2,
            "linecolor": "white",
            "showbackground": true,
            "ticks": "",
            "zerolinecolor": "white"
           }
          },
          "shapedefaults": {
           "line": {
            "color": "#2a3f5f"
           }
          },
          "ternary": {
           "aaxis": {
            "gridcolor": "white",
            "linecolor": "white",
            "ticks": ""
           },
           "baxis": {
            "gridcolor": "white",
            "linecolor": "white",
            "ticks": ""
           },
           "bgcolor": "#E5ECF6",
           "caxis": {
            "gridcolor": "white",
            "linecolor": "white",
            "ticks": ""
           }
          },
          "title": {
           "x": 0.05
          },
          "xaxis": {
           "automargin": true,
           "gridcolor": "white",
           "linecolor": "white",
           "ticks": "",
           "title": {
            "standoff": 15
           },
           "zerolinecolor": "white",
           "zerolinewidth": 2
          },
          "yaxis": {
           "automargin": true,
           "gridcolor": "white",
           "linecolor": "white",
           "ticks": "",
           "title": {
            "standoff": 15
           },
           "zerolinecolor": "white",
           "zerolinewidth": 2
          }
         }
        },
        "title": {
         "text": "I1 in region London"
        },
        "width": 800,
        "xaxis": {
         "anchor": "y",
         "domain": [
          0,
          0.45
         ],
         "linecolor": "black"
        },
        "xaxis2": {
         "anchor": "y2",
         "domain": [
          0.55,
          1
         ],
         "linecolor": "black"
        },
        "xaxis3": {
         "linecolor": "black"
        },
        "xaxis4": {
         "linecolor": "black"
        },
        "xaxis5": {
         "linecolor": "black"
        },
        "xaxis6": {
         "linecolor": "black"
        },
        "xaxis7": {
         "linecolor": "black"
        },
        "xaxis8": {
         "linecolor": "black"
        },
        "yaxis": {
         "anchor": "x",
         "domain": [
          0,
          1
         ],
         "linecolor": "black"
        },
        "yaxis2": {
         "anchor": "x2",
         "domain": [
          0,
          1
         ],
         "linecolor": "black"
        },
        "yaxis3": {
         "linecolor": "black"
        },
        "yaxis4": {
         "linecolor": "black"
        },
        "yaxis5": {
         "linecolor": "black"
        },
        "yaxis6": {
         "linecolor": "black"
        },
        "yaxis7": {
         "linecolor": "black"
        },
        "yaxis8": {
         "linecolor": "black"
        }
       }
      }
     },
     "metadata": {},
     "output_type": "display_data"
    },
    {
     "data": {
      "application/vnd.plotly.v1+json": {
       "config": {
        "plotlyServerURL": "https://plot.ly"
       },
       "data": [
        {
         "line": {
          "color": "blue"
         },
         "mode": "lines",
         "name": "my-solver with delta_t = 0.5",
         "type": "scatter",
         "x": [
          1,
          1.5,
          2,
          2.5,
          3,
          3.5,
          4,
          4.5,
          5,
          5.5,
          6,
          6.5,
          7,
          7.5,
          8,
          8.5,
          9,
          9.5,
          10,
          10.5,
          11,
          11.5,
          12,
          12.5,
          13,
          13.5,
          14,
          14.5,
          15,
          15.5,
          16,
          16.5,
          17,
          17.5,
          18,
          18.5,
          19,
          19.5,
          20
         ],
         "xaxis": "x",
         "y": [
          40,
          31.25,
          24.375,
          18.984375,
          14.765625,
          11.56663819276264,
          9.270614820491799,
          7.751556808286139,
          6.868395282742574,
          6.474252825458965,
          6.428711145420175,
          6.607672193776995,
          6.909124400966197,
          7.25499211272145,
          7.590014926729541,
          7.878767639375344,
          8.101799362291173,
          8.251625402856728,
          8.329048741980293,
          8.340068262167858,
          8.293465810929979,
          8.199053849011634,
          8.066501518942143,
          7.9046282235711365,
          7.721049125316826,
          7.522066933895604,
          7.3127217180617645,
          7.096930205938919,
          6.87766494216744,
          6.657140007318434,
          6.422052847479141,
          6.159315328336878,
          5.861747731006343,
          5.528832762285634,
          5.165371993776911,
          4.779541309808591,
          4.381062257617147,
          3.9797728919606654,
          3.584655506532606
         ],
         "yaxis": "y"
        },
        {
         "line": {
          "color": "red"
         },
         "mode": "lines",
         "name": "my-solver with delta_t = 0.25",
         "type": "scatter",
         "x": [
          1,
          1.5,
          2,
          2.5,
          3,
          3.5,
          4,
          4.5,
          5,
          5.5,
          6,
          6.5,
          7,
          7.5,
          8,
          8.5,
          9,
          9.5,
          10,
          10.5,
          11,
          11.5,
          12,
          12.5,
          13,
          13.5,
          14,
          14.5,
          15,
          15.5,
          16,
          16.5,
          17,
          17.5,
          18,
          18.5,
          19,
          19.5,
          20
         ],
         "xaxis": "x",
         "y": [
          40,
          31.71875,
          25.1220703125,
          19.904186600036358,
          15.866264716538856,
          12.847685794715291,
          10.694751775187306,
          9.25404590839727,
          8.376161837886125,
          7.92217080608195,
          7.769213578504407,
          7.813897871939464,
          7.973388018830503,
          8.184620626984307,
          8.402250684498926,
          8.595906844346372,
          8.747222274624232,
          8.846971572377543,
          8.8925178404089,
          8.88567158579062,
          8.830988283429452,
          8.734482197445628,
          8.602705759898534,
          8.442131199700803,
          8.258769280223923,
          8.057964852937433,
          7.844317337233653,
          7.621683973747025,
          7.392233416410017,
          7.149489300966442,
          6.883464176096802,
          6.587095146950402,
          6.258155690040174,
          5.898963660823505,
          5.515201100685464,
          5.114547395950584,
          4.70546294500419,
          4.2962530195777555,
          3.894430529029108
         ],
         "yaxis": "y"
        },
        {
         "line": {
          "color": "green"
         },
         "mode": "lines",
         "name": "my-solver with delta_t = 0.05",
         "type": "scatter",
         "x": [
          1,
          1.5,
          2,
          2.5,
          3,
          3.5,
          4,
          4.5,
          5,
          5.5,
          6,
          6.5,
          7,
          7.5,
          8,
          8.5,
          9,
          9.5,
          10,
          10.5,
          11,
          11.5,
          12,
          12.5,
          13,
          13.5,
          14,
          14.5,
          15,
          15.5,
          16,
          16.5,
          17,
          17.5,
          18,
          18.5,
          19,
          19.5,
          20
         ],
         "xaxis": "x",
         "y": [
          40,
          32.04972540782432,
          25.68319362909004,
          20.661980673454806,
          16.794939771134104,
          13.908496294134995,
          11.837485197029359,
          10.425424565019863,
          9.528039375311765,
          9.016901114779355,
          8.781851904765835,
          8.731879613664676,
          8.794607049463293,
          8.914757190333548,
          9.05198997388542,
          9.178457686079863,
          9.276345450908753,
          9.33557878401936,
          9.351805738320612,
          9.324702431921098,
          9.256608441489306,
          9.151470896723659,
          9.014060312934696,
          8.84941425220365,
          8.662464081982355,
          8.457803146827803,
          8.239559847844678,
          8.011034387673549,
          7.770436059754194,
          7.510175722026943,
          7.2229991875363,
          6.9050647688877245,
          6.55653515857421,
          6.18098787223735,
          5.78438932085017,
          5.374030661576798,
          4.957614729657489,
          4.542562811605584,
          4.135544755991266
         ],
         "yaxis": "y"
        },
        {
         "line": {
          "color": "purple"
         },
         "mode": "lines",
         "name": "my-solver with delta_t = 0.001",
         "type": "scatter",
         "x": [
          1,
          1.5,
          2,
          2.5,
          3,
          3.5,
          4,
          4.5,
          5,
          5.5,
          6,
          6.5,
          7,
          7.5,
          8,
          8.5,
          9,
          9.5,
          10,
          10.5,
          11,
          11.5,
          12,
          12.5,
          13,
          13.5,
          14,
          14.5,
          15,
          15.5,
          16,
          16.5,
          17,
          17.5,
          18,
          18.5,
          19,
          19.5,
          20
         ],
         "xaxis": "x",
         "y": [
          40,
          32.12767267533097,
          25.8220446232922,
          20.852278681523167,
          17.02670961837106,
          14.169703301701594,
          12.115088840795465,
          10.707004963430636,
          9.803110295772557,
          9.277638580359675,
          9.023267359907802,
          8.95158481891101,
          8.992339158159211,
          9.091808306095878,
          9.210645493120538,
          9.32150753876675,
          9.40669908154099,
          9.455990559683507,
          9.46470203167114,
          9.432093338638742,
          9.3600640607871,
          9.25214255064629,
          9.112729541376257,
          8.9465558016794,
          8.758312660617596,
          8.552416988037502,
          8.332876872851456,
          8.102661053844201,
          7.859088200961837,
          7.5946417175299965,
          7.3026881369632415,
          6.980020408958716,
          6.627247145916771,
          6.24816710041576,
          5.8487803887469925,
          5.436284416164281,
          5.018219170984914,
          4.601820481043754,
          4.1935822762091295
         ],
         "yaxis": "y"
        },
        {
         "line": {
          "color": "orange"
         },
         "mode": "lines",
         "name": "scipy-solver RK45",
         "type": "scatter",
         "x": [
          1,
          1.5,
          2,
          2.5,
          3,
          3.5,
          4,
          4.5,
          5,
          5.5,
          6,
          6.5,
          7,
          7.5,
          8,
          8.5,
          9,
          9.5,
          10,
          10.5,
          11,
          11.5,
          12,
          12.5,
          13,
          13.5,
          14,
          14.5,
          15,
          15.5,
          16,
          16.5,
          17,
          17.5,
          18,
          18.5,
          19,
          19.5,
          20
         ],
         "xaxis": "x",
         "y": [
          40,
          32.12927100648596,
          25.82453758071018,
          20.856031596255423,
          17.031331963727855,
          14.175611881488495,
          12.120861578294218,
          10.71340255912812,
          9.809381775785706,
          9.283446050663379,
          9.027819201075749,
          8.955811854607626,
          8.996413939573321,
          9.094498665380662,
          9.21227455653461,
          9.322506096131427,
          9.407524071677777,
          9.457401514586701,
          9.466810739896424,
          9.433540932602222,
          9.360091512037895,
          9.252624957137607,
          9.115533686849004,
          8.951374325584348,
          8.759948144075342,
          8.550169030485648,
          8.33412422681779,
          8.113152842629939,
          7.877671352492888,
          7.613109451213742,
          7.321659939322491,
          6.995040703632391,
          6.6388103664844325,
          6.260335811005413,
          5.860720715510085,
          5.447455611094893,
          5.0284548651783805,
          4.610884050136085,
          4.201381516934577
         ],
         "yaxis": "y"
        },
        {
         "line": {
          "color": "blue"
         },
         "mode": "lines",
         "name": "my-solver with delta_t = 0.5",
         "showlegend": false,
         "type": "scatter",
         "x": [
          1,
          1.5,
          2,
          2.5,
          3,
          3.5,
          4,
          4.5,
          5,
          5.5,
          6,
          6.5,
          7,
          7.5,
          8,
          8.5,
          9,
          9.5,
          10,
          10.5,
          11,
          11.5,
          12,
          12.5,
          13,
          13.5,
          14,
          14.5,
          15,
          15.5,
          16,
          16.5,
          17,
          17.5,
          18,
          18.5,
          19,
          19.5,
          20
         ],
         "xaxis": "x2",
         "y": [
          20,
          20,
          18.75,
          16.875,
          14.765625,
          12.690308911391613,
          10.809990104339054,
          9.202305074960492,
          7.886654221895536,
          6.845957614872852,
          6.043569518443578,
          5.4352901646967275,
          4.977131683260005,
          4.629758495928508,
          4.360529696719408,
          4.143950666045338,
          3.961172735319892,
          3.799008665946573,
          3.6487812870173424,
          3.5052020912762387,
          3.365386933795272,
          3.228053894258794,
          3.0929087019049484,
          2.9602004057406504,
          2.830419218700219,
          2.7041055528579463,
          2.581741027831436,
          2.463696399488239,
          2.350216393376281,
          2.241426394855294,
          2.1373503323934964,
          2.037932672520468,
          1.9430601917048695,
          1.852581175754744,
          1.7663210456417633,
          1.6840942585169465,
          1.6057128152168207,
          1.5309919332826134,
          1.4597535073325396
         ],
         "yaxis": "y2"
        },
        {
         "line": {
          "color": "red"
         },
         "mode": "lines",
         "name": "my-solver with delta_t = 0.25",
         "showlegend": false,
         "type": "scatter",
         "x": [
          1,
          1.5,
          2,
          2.5,
          3,
          3.5,
          4,
          4.5,
          5,
          5.5,
          6,
          6.5,
          7,
          7.5,
          8,
          8.5,
          9,
          9.5,
          10,
          10.5,
          11,
          11.5,
          12,
          12.5,
          13,
          13.5,
          14,
          14.5,
          15,
          15.5,
          16,
          16.5,
          17,
          17.5,
          18,
          18.5,
          19,
          19.5,
          20
         ],
         "xaxis": "x2",
         "y": [
          20,
          19.6875,
          18.4228515625,
          16.679645426658993,
          14.78164048463671,
          12.934897516269542,
          11.256602052570212,
          9.800904128629686,
          8.580170497523653,
          7.581353066379546,
          6.777879552860517,
          6.1377886194383855,
          5.628915158741123,
          5.22188532425839,
          4.891572472637576,
          4.617535917184612,
          4.383838183579709,
          4.1785255286413765,
          3.992965655271429,
          3.8211662548151213,
          3.6591462813375446,
          3.50439570126485,
          3.3554356053912877,
          3.211475962190482,
          3.0721603036971032,
          2.9373831442204357,
          2.807165307589538,
          2.681573387327755,
          2.560671454559461,
          2.4444953126111226,
          2.3330417392901617,
          2.2262670731241267,
          2.1240911064248524,
          2.026403529295656,
          1.9330711462523027,
          1.8439448019714801,
          1.7588654527397791,
          1.677669152690847,
          1.6001909312411122
         ],
         "yaxis": "y2"
        },
        {
         "line": {
          "color": "green"
         },
         "mode": "lines",
         "name": "my-solver with delta_t = 0.05",
         "showlegend": false,
         "type": "scatter",
         "x": [
          1,
          1.5,
          2,
          2.5,
          3,
          3.5,
          4,
          4.5,
          5,
          5.5,
          6,
          6.5,
          7,
          7.5,
          8,
          8.5,
          9,
          9.5,
          10,
          10.5,
          11,
          11.5,
          12,
          12.5,
          13,
          13.5,
          14,
          14.5,
          15,
          15.5,
          16,
          16.5,
          17,
          17.5,
          18,
          18.5,
          19,
          19.5,
          20
         ],
         "xaxis": "x2",
         "y": [
          20,
          19.50820173455513,
          18.245727930879774,
          16.60735330511418,
          14.857159583584563,
          13.160060247638498,
          11.608982451232057,
          10.246992382596302,
          9.084476497031384,
          8.111924962368311,
          7.30904405482191,
          6.650951351285916,
          6.1121495223864075,
          5.668875991708642,
          5.300314593477933,
          4.989047924248554,
          4.721033846163955,
          4.4853100499818686,
          4.273567164533157,
          4.079682339224331,
          3.8992694448347605,
          3.729276696865762,
          3.5676453419853593,
          3.413032048783869,
          3.264591119912515,
          3.1218092392359775,
          2.9843841406632783,
          2.852138559005186,
          2.7249615424164917,
          2.602770289665279,
          2.4854868748318375,
          2.373025385180225,
          2.265286041306361,
          2.162153754835152,
          2.0634993000188957,
          1.969181841182145,
          1.8790519868130156,
          1.792954855570671,
          1.710732862055763
         ],
         "yaxis": "y2"
        },
        {
         "line": {
          "color": "purple"
         },
         "mode": "lines",
         "name": "my-solver with delta_t = 0.001",
         "showlegend": false,
         "type": "scatter",
         "x": [
          1,
          1.5,
          2,
          2.5,
          3,
          3.5,
          4,
          4.5,
          5,
          5.5,
          6,
          6.5,
          7,
          7.5,
          8,
          8.5,
          9,
          9.5,
          10,
          10.5,
          11,
          11.5,
          12,
          12.5,
          13,
          13.5,
          14,
          14.5,
          15,
          15.5,
          16,
          16.5,
          17,
          17.5,
          18,
          18.5,
          19,
          19.5,
          20
         ],
         "xaxis": "x2",
         "y": [
          20,
          19.47202008674936,
          18.21304184294667,
          16.59952072305549,
          14.882314878590616,
          13.217784604178746,
          11.694057552656894,
          10.352132999787544,
          9.202137899370005,
          8.235364503728213,
          7.432832659598005,
          6.771112247378041,
          6.226068467863336,
          5.775091084502281,
          5.398260704951604,
          5.0788035628850565,
          4.803097488579978,
          4.560418211014529,
          4.342556742413969,
          4.143393944751647,
          3.9584854402455467,
          3.7846866210183316,
          3.6198315621700643,
          3.4624693190828673,
          3.3116548659175225,
          3.1667885841388177,
          3.0274967927569976,
          2.893545621412138,
          2.764781056536175,
          2.6410888886573733,
          2.522369323446435,
          2.4085220459572687,
          2.2994384646074733,
          2.1949986692492005,
          2.0950713043441165,
          1.999515088750461,
          1.908181122143014,
          1.8209154228920836,
          1.7375613624115471
         ],
         "yaxis": "y2"
        },
        {
         "line": {
          "color": "orange"
         },
         "mode": "lines",
         "name": "scipy-solver RK45",
         "showlegend": false,
         "type": "scatter",
         "x": [
          1,
          1.5,
          2,
          2.5,
          3,
          3.5,
          4,
          4.5,
          5,
          5.5,
          6,
          6.5,
          7,
          7.5,
          8,
          8.5,
          9,
          9.5,
          10,
          10.5,
          11,
          11.5,
          12,
          12.5,
          13,
          13.5,
          14,
          14.5,
          15,
          15.5,
          16,
          16.5,
          17,
          17.5,
          18,
          18.5,
          19,
          19.5,
          20
         ],
         "xaxis": "x2",
         "y": [
          20,
          19.471313449536748,
          18.212490888797664,
          16.599633087281493,
          14.883084529107196,
          13.219170256564192,
          11.696510248037459,
          10.353779400356604,
          9.205705199316977,
          8.238842107315882,
          7.433875316904231,
          6.773526586413088,
          6.229455526982283,
          5.776304473143903,
          5.397983895845552,
          5.079601529556852,
          4.804388559614533,
          4.56097924679293,
          4.3423435056081345,
          4.14348931153743,
          3.958626645225295,
          3.7850483702047986,
          3.6206024330729796,
          3.463636115451494,
          3.312845492012677,
          3.167744715688363,
          3.028458460763301,
          2.8948293639308407,
          2.766404919738119,
          2.6426184966060933,
          2.523723554493342,
          2.4097243708560283,
          2.3005061239973585,
          2.195940299749345,
          2.095907671958981,
          2.0002659284430653,
          1.908861049672108,
          1.8215373579509322,
          1.7381360992035202
         ],
         "yaxis": "y2"
        }
       ],
       "layout": {
        "annotations": [
         {
          "font": {
           "size": 16
          },
          "showarrow": false,
          "text": "ages 0-10",
          "x": 0.225,
          "xanchor": "center",
          "xref": "paper",
          "y": 1,
          "yanchor": "bottom",
          "yref": "paper"
         },
         {
          "font": {
           "size": 16
          },
          "showarrow": false,
          "text": "ages 10-25",
          "x": 0.775,
          "xanchor": "center",
          "xref": "paper",
          "y": 1,
          "yanchor": "bottom",
          "yref": "paper"
         }
        ],
        "boxmode": "group",
        "legend": {
         "orientation": "h",
         "x": 1,
         "xanchor": "right",
         "y": 1.02,
         "yanchor": "bottom"
        },
        "plot_bgcolor": "white",
        "template": {
         "data": {
          "bar": [
           {
            "error_x": {
             "color": "#2a3f5f"
            },
            "error_y": {
             "color": "#2a3f5f"
            },
            "marker": {
             "line": {
              "color": "#E5ECF6",
              "width": 0.5
             },
             "pattern": {
              "fillmode": "overlay",
              "size": 10,
              "solidity": 0.2
             }
            },
            "type": "bar"
           }
          ],
          "barpolar": [
           {
            "marker": {
             "line": {
              "color": "#E5ECF6",
              "width": 0.5
             },
             "pattern": {
              "fillmode": "overlay",
              "size": 10,
              "solidity": 0.2
             }
            },
            "type": "barpolar"
           }
          ],
          "carpet": [
           {
            "aaxis": {
             "endlinecolor": "#2a3f5f",
             "gridcolor": "white",
             "linecolor": "white",
             "minorgridcolor": "white",
             "startlinecolor": "#2a3f5f"
            },
            "baxis": {
             "endlinecolor": "#2a3f5f",
             "gridcolor": "white",
             "linecolor": "white",
             "minorgridcolor": "white",
             "startlinecolor": "#2a3f5f"
            },
            "type": "carpet"
           }
          ],
          "choropleth": [
           {
            "colorbar": {
             "outlinewidth": 0,
             "ticks": ""
            },
            "type": "choropleth"
           }
          ],
          "contour": [
           {
            "colorbar": {
             "outlinewidth": 0,
             "ticks": ""
            },
            "colorscale": [
             [
              0,
              "#0d0887"
             ],
             [
              0.1111111111111111,
              "#46039f"
             ],
             [
              0.2222222222222222,
              "#7201a8"
             ],
             [
              0.3333333333333333,
              "#9c179e"
             ],
             [
              0.4444444444444444,
              "#bd3786"
             ],
             [
              0.5555555555555556,
              "#d8576b"
             ],
             [
              0.6666666666666666,
              "#ed7953"
             ],
             [
              0.7777777777777778,
              "#fb9f3a"
             ],
             [
              0.8888888888888888,
              "#fdca26"
             ],
             [
              1,
              "#f0f921"
             ]
            ],
            "type": "contour"
           }
          ],
          "contourcarpet": [
           {
            "colorbar": {
             "outlinewidth": 0,
             "ticks": ""
            },
            "type": "contourcarpet"
           }
          ],
          "heatmap": [
           {
            "colorbar": {
             "outlinewidth": 0,
             "ticks": ""
            },
            "colorscale": [
             [
              0,
              "#0d0887"
             ],
             [
              0.1111111111111111,
              "#46039f"
             ],
             [
              0.2222222222222222,
              "#7201a8"
             ],
             [
              0.3333333333333333,
              "#9c179e"
             ],
             [
              0.4444444444444444,
              "#bd3786"
             ],
             [
              0.5555555555555556,
              "#d8576b"
             ],
             [
              0.6666666666666666,
              "#ed7953"
             ],
             [
              0.7777777777777778,
              "#fb9f3a"
             ],
             [
              0.8888888888888888,
              "#fdca26"
             ],
             [
              1,
              "#f0f921"
             ]
            ],
            "type": "heatmap"
           }
          ],
          "heatmapgl": [
           {
            "colorbar": {
             "outlinewidth": 0,
             "ticks": ""
            },
            "colorscale": [
             [
              0,
              "#0d0887"
             ],
             [
              0.1111111111111111,
              "#46039f"
             ],
             [
              0.2222222222222222,
              "#7201a8"
             ],
             [
              0.3333333333333333,
              "#9c179e"
             ],
             [
              0.4444444444444444,
              "#bd3786"
             ],
             [
              0.5555555555555556,
              "#d8576b"
             ],
             [
              0.6666666666666666,
              "#ed7953"
             ],
             [
              0.7777777777777778,
              "#fb9f3a"
             ],
             [
              0.8888888888888888,
              "#fdca26"
             ],
             [
              1,
              "#f0f921"
             ]
            ],
            "type": "heatmapgl"
           }
          ],
          "histogram": [
           {
            "marker": {
             "pattern": {
              "fillmode": "overlay",
              "size": 10,
              "solidity": 0.2
             }
            },
            "type": "histogram"
           }
          ],
          "histogram2d": [
           {
            "colorbar": {
             "outlinewidth": 0,
             "ticks": ""
            },
            "colorscale": [
             [
              0,
              "#0d0887"
             ],
             [
              0.1111111111111111,
              "#46039f"
             ],
             [
              0.2222222222222222,
              "#7201a8"
             ],
             [
              0.3333333333333333,
              "#9c179e"
             ],
             [
              0.4444444444444444,
              "#bd3786"
             ],
             [
              0.5555555555555556,
              "#d8576b"
             ],
             [
              0.6666666666666666,
              "#ed7953"
             ],
             [
              0.7777777777777778,
              "#fb9f3a"
             ],
             [
              0.8888888888888888,
              "#fdca26"
             ],
             [
              1,
              "#f0f921"
             ]
            ],
            "type": "histogram2d"
           }
          ],
          "histogram2dcontour": [
           {
            "colorbar": {
             "outlinewidth": 0,
             "ticks": ""
            },
            "colorscale": [
             [
              0,
              "#0d0887"
             ],
             [
              0.1111111111111111,
              "#46039f"
             ],
             [
              0.2222222222222222,
              "#7201a8"
             ],
             [
              0.3333333333333333,
              "#9c179e"
             ],
             [
              0.4444444444444444,
              "#bd3786"
             ],
             [
              0.5555555555555556,
              "#d8576b"
             ],
             [
              0.6666666666666666,
              "#ed7953"
             ],
             [
              0.7777777777777778,
              "#fb9f3a"
             ],
             [
              0.8888888888888888,
              "#fdca26"
             ],
             [
              1,
              "#f0f921"
             ]
            ],
            "type": "histogram2dcontour"
           }
          ],
          "mesh3d": [
           {
            "colorbar": {
             "outlinewidth": 0,
             "ticks": ""
            },
            "type": "mesh3d"
           }
          ],
          "parcoords": [
           {
            "line": {
             "colorbar": {
              "outlinewidth": 0,
              "ticks": ""
             }
            },
            "type": "parcoords"
           }
          ],
          "pie": [
           {
            "automargin": true,
            "type": "pie"
           }
          ],
          "scatter": [
           {
            "fillpattern": {
             "fillmode": "overlay",
             "size": 10,
             "solidity": 0.2
            },
            "type": "scatter"
           }
          ],
          "scatter3d": [
           {
            "line": {
             "colorbar": {
              "outlinewidth": 0,
              "ticks": ""
             }
            },
            "marker": {
             "colorbar": {
              "outlinewidth": 0,
              "ticks": ""
             }
            },
            "type": "scatter3d"
           }
          ],
          "scattercarpet": [
           {
            "marker": {
             "colorbar": {
              "outlinewidth": 0,
              "ticks": ""
             }
            },
            "type": "scattercarpet"
           }
          ],
          "scattergeo": [
           {
            "marker": {
             "colorbar": {
              "outlinewidth": 0,
              "ticks": ""
             }
            },
            "type": "scattergeo"
           }
          ],
          "scattergl": [
           {
            "marker": {
             "colorbar": {
              "outlinewidth": 0,
              "ticks": ""
             }
            },
            "type": "scattergl"
           }
          ],
          "scattermapbox": [
           {
            "marker": {
             "colorbar": {
              "outlinewidth": 0,
              "ticks": ""
             }
            },
            "type": "scattermapbox"
           }
          ],
          "scatterpolar": [
           {
            "marker": {
             "colorbar": {
              "outlinewidth": 0,
              "ticks": ""
             }
            },
            "type": "scatterpolar"
           }
          ],
          "scatterpolargl": [
           {
            "marker": {
             "colorbar": {
              "outlinewidth": 0,
              "ticks": ""
             }
            },
            "type": "scatterpolargl"
           }
          ],
          "scatterternary": [
           {
            "marker": {
             "colorbar": {
              "outlinewidth": 0,
              "ticks": ""
             }
            },
            "type": "scatterternary"
           }
          ],
          "surface": [
           {
            "colorbar": {
             "outlinewidth": 0,
             "ticks": ""
            },
            "colorscale": [
             [
              0,
              "#0d0887"
             ],
             [
              0.1111111111111111,
              "#46039f"
             ],
             [
              0.2222222222222222,
              "#7201a8"
             ],
             [
              0.3333333333333333,
              "#9c179e"
             ],
             [
              0.4444444444444444,
              "#bd3786"
             ],
             [
              0.5555555555555556,
              "#d8576b"
             ],
             [
              0.6666666666666666,
              "#ed7953"
             ],
             [
              0.7777777777777778,
              "#fb9f3a"
             ],
             [
              0.8888888888888888,
              "#fdca26"
             ],
             [
              1,
              "#f0f921"
             ]
            ],
            "type": "surface"
           }
          ],
          "table": [
           {
            "cells": {
             "fill": {
              "color": "#EBF0F8"
             },
             "line": {
              "color": "white"
             }
            },
            "header": {
             "fill": {
              "color": "#C8D4E3"
             },
             "line": {
              "color": "white"
             }
            },
            "type": "table"
           }
          ]
         },
         "layout": {
          "annotationdefaults": {
           "arrowcolor": "#2a3f5f",
           "arrowhead": 0,
           "arrowwidth": 1
          },
          "autotypenumbers": "strict",
          "coloraxis": {
           "colorbar": {
            "outlinewidth": 0,
            "ticks": ""
           }
          },
          "colorscale": {
           "diverging": [
            [
             0,
             "#8e0152"
            ],
            [
             0.1,
             "#c51b7d"
            ],
            [
             0.2,
             "#de77ae"
            ],
            [
             0.3,
             "#f1b6da"
            ],
            [
             0.4,
             "#fde0ef"
            ],
            [
             0.5,
             "#f7f7f7"
            ],
            [
             0.6,
             "#e6f5d0"
            ],
            [
             0.7,
             "#b8e186"
            ],
            [
             0.8,
             "#7fbc41"
            ],
            [
             0.9,
             "#4d9221"
            ],
            [
             1,
             "#276419"
            ]
           ],
           "sequential": [
            [
             0,
             "#0d0887"
            ],
            [
             0.1111111111111111,
             "#46039f"
            ],
            [
             0.2222222222222222,
             "#7201a8"
            ],
            [
             0.3333333333333333,
             "#9c179e"
            ],
            [
             0.4444444444444444,
             "#bd3786"
            ],
            [
             0.5555555555555556,
             "#d8576b"
            ],
            [
             0.6666666666666666,
             "#ed7953"
            ],
            [
             0.7777777777777778,
             "#fb9f3a"
            ],
            [
             0.8888888888888888,
             "#fdca26"
            ],
            [
             1,
             "#f0f921"
            ]
           ],
           "sequentialminus": [
            [
             0,
             "#0d0887"
            ],
            [
             0.1111111111111111,
             "#46039f"
            ],
            [
             0.2222222222222222,
             "#7201a8"
            ],
            [
             0.3333333333333333,
             "#9c179e"
            ],
            [
             0.4444444444444444,
             "#bd3786"
            ],
            [
             0.5555555555555556,
             "#d8576b"
            ],
            [
             0.6666666666666666,
             "#ed7953"
            ],
            [
             0.7777777777777778,
             "#fb9f3a"
            ],
            [
             0.8888888888888888,
             "#fdca26"
            ],
            [
             1,
             "#f0f921"
            ]
           ]
          },
          "colorway": [
           "#636efa",
           "#EF553B",
           "#00cc96",
           "#ab63fa",
           "#FFA15A",
           "#19d3f3",
           "#FF6692",
           "#B6E880",
           "#FF97FF",
           "#FECB52"
          ],
          "font": {
           "color": "#2a3f5f"
          },
          "geo": {
           "bgcolor": "white",
           "lakecolor": "white",
           "landcolor": "#E5ECF6",
           "showlakes": true,
           "showland": true,
           "subunitcolor": "white"
          },
          "hoverlabel": {
           "align": "left"
          },
          "hovermode": "closest",
          "mapbox": {
           "style": "light"
          },
          "paper_bgcolor": "white",
          "plot_bgcolor": "#E5ECF6",
          "polar": {
           "angularaxis": {
            "gridcolor": "white",
            "linecolor": "white",
            "ticks": ""
           },
           "bgcolor": "#E5ECF6",
           "radialaxis": {
            "gridcolor": "white",
            "linecolor": "white",
            "ticks": ""
           }
          },
          "scene": {
           "xaxis": {
            "backgroundcolor": "#E5ECF6",
            "gridcolor": "white",
            "gridwidth": 2,
            "linecolor": "white",
            "showbackground": true,
            "ticks": "",
            "zerolinecolor": "white"
           },
           "yaxis": {
            "backgroundcolor": "#E5ECF6",
            "gridcolor": "white",
            "gridwidth": 2,
            "linecolor": "white",
            "showbackground": true,
            "ticks": "",
            "zerolinecolor": "white"
           },
           "zaxis": {
            "backgroundcolor": "#E5ECF6",
            "gridcolor": "white",
            "gridwidth": 2,
            "linecolor": "white",
            "showbackground": true,
            "ticks": "",
            "zerolinecolor": "white"
           }
          },
          "shapedefaults": {
           "line": {
            "color": "#2a3f5f"
           }
          },
          "ternary": {
           "aaxis": {
            "gridcolor": "white",
            "linecolor": "white",
            "ticks": ""
           },
           "baxis": {
            "gridcolor": "white",
            "linecolor": "white",
            "ticks": ""
           },
           "bgcolor": "#E5ECF6",
           "caxis": {
            "gridcolor": "white",
            "linecolor": "white",
            "ticks": ""
           }
          },
          "title": {
           "x": 0.05
          },
          "xaxis": {
           "automargin": true,
           "gridcolor": "white",
           "linecolor": "white",
           "ticks": "",
           "title": {
            "standoff": 15
           },
           "zerolinecolor": "white",
           "zerolinewidth": 2
          },
          "yaxis": {
           "automargin": true,
           "gridcolor": "white",
           "linecolor": "white",
           "ticks": "",
           "title": {
            "standoff": 15
           },
           "zerolinecolor": "white",
           "zerolinewidth": 2
          }
         }
        },
        "title": {
         "text": "I2 in region London"
        },
        "width": 800,
        "xaxis": {
         "anchor": "y",
         "domain": [
          0,
          0.45
         ],
         "linecolor": "black"
        },
        "xaxis2": {
         "anchor": "y2",
         "domain": [
          0.55,
          1
         ],
         "linecolor": "black"
        },
        "xaxis3": {
         "linecolor": "black"
        },
        "xaxis4": {
         "linecolor": "black"
        },
        "xaxis5": {
         "linecolor": "black"
        },
        "xaxis6": {
         "linecolor": "black"
        },
        "xaxis7": {
         "linecolor": "black"
        },
        "xaxis8": {
         "linecolor": "black"
        },
        "yaxis": {
         "anchor": "x",
         "domain": [
          0,
          1
         ],
         "linecolor": "black"
        },
        "yaxis2": {
         "anchor": "x2",
         "domain": [
          0,
          1
         ],
         "linecolor": "black"
        },
        "yaxis3": {
         "linecolor": "black"
        },
        "yaxis4": {
         "linecolor": "black"
        },
        "yaxis5": {
         "linecolor": "black"
        },
        "yaxis6": {
         "linecolor": "black"
        },
        "yaxis7": {
         "linecolor": "black"
        },
        "yaxis8": {
         "linecolor": "black"
        }
       }
      }
     },
     "metadata": {},
     "output_type": "display_data"
    },
    {
     "data": {
      "application/vnd.plotly.v1+json": {
       "config": {
        "plotlyServerURL": "https://plot.ly"
       },
       "data": [
        {
         "line": {
          "color": "blue"
         },
         "mode": "lines",
         "name": "my-solver with delta_t = 0.5",
         "type": "scatter",
         "x": [
          1,
          1.5,
          2,
          2.5,
          3,
          3.5,
          4,
          4.5,
          5,
          5.5,
          6,
          6.5,
          7,
          7.5,
          8,
          8.5,
          9,
          9.5,
          10,
          10.5,
          11,
          11.5,
          12,
          12.5,
          13,
          13.5,
          14,
          14.5,
          15,
          15.5,
          16,
          16.5,
          17,
          17.5,
          18,
          18.5,
          19,
          19.5,
          20
         ],
         "xaxis": "x",
         "y": [
          0,
          10,
          17.8125,
          23.90625,
          28.65234375,
          32.34375,
          35.23540954819066,
          37.55306325331361,
          39.49095245538514,
          41.20805127607078,
          42.826614482435524,
          44.43379226879057,
          46.08571031723482,
          47.81299141747637,
          49.62673944565673,
          51.524243177339116,
          53.493935087182955,
          55.519384927755745,
          57.582291278469924,
          59.664553463965,
          61.74957052950696,
          63.822936982239455,
          65.87270044449237,
          67.8893258242279,
          69.86548288012068,
          71.79574516144989,
          73.67626189492378,
          75.50444232443922,
          77.27867487592395,
          78.99809111146581,
          80.66237611329542,
          82.26788932516521,
          83.80771815724944,
          85.27315509000103,
          86.65536328057243,
          87.94670627901665,
          89.1415916064688,
          90.23685717087308,
          91.23180039386325
         ],
         "yaxis": "y"
        },
        {
         "line": {
          "color": "red"
         },
         "mode": "lines",
         "name": "my-solver with delta_t = 0.25",
         "type": "scatter",
         "x": [
          1,
          1.5,
          2,
          2.5,
          3,
          3.5,
          4,
          4.5,
          5,
          5.5,
          6,
          6.5,
          7,
          7.5,
          8,
          8.5,
          9,
          9.5,
          10,
          10.5,
          11,
          11.5,
          12,
          12.5,
          13,
          13.5,
          14,
          14.5,
          15,
          15.5,
          16,
          16.5,
          17,
          17.5,
          18,
          18.5,
          19,
          19.5,
          20
         ],
         "xaxis": "x",
         "y": [
          0,
          9.453125,
          16.947021484375,
          22.88162122751,
          27.58816090245358,
          31.3513403986944,
          34.41637930478015,
          36.99008285694629,
          39.24105791233482,
          41.3011139774002,
          43.268260896889885,
          45.210976105120395,
          47.173173053110446,
          49.17931602790648,
          51.23924991603331,
          53.35246501314919,
          55.51165539572262,
          57.70553751523867,
          59.920970097618664,
          62.14446062700945,
          64.36316400509658,
          66.56548224225595,
          68.74136638040987,
          70.88240817969846,
          72.98179302603536,
          75.03416945713387,
          77.0354761209032,
          78.98275460871318,
          80.87396667917349,
          82.70714210069954,
          84.47832005529506,
          86.18116913521517,
          87.8078868614728,
          89.35041241652115,
          90.80149600965011,
          92.155453985588,
          93.40858833773102,
          94.55931870615879,
          95.60809927271603
         ],
         "yaxis": "y"
        },
        {
         "line": {
          "color": "green"
         },
         "mode": "lines",
         "name": "my-solver with delta_t = 0.05",
         "type": "scatter",
         "x": [
          1,
          1.5,
          2,
          2.5,
          3,
          3.5,
          4,
          4.5,
          5,
          5.5,
          6,
          6.5,
          7,
          7.5,
          8,
          8.5,
          9,
          9.5,
          10,
          10.5,
          11,
          11.5,
          12,
          12.5,
          13,
          13.5,
          14,
          14.5,
          15,
          15.5,
          16,
          16.5,
          17,
          17.5,
          18,
          18.5,
          19,
          19.5,
          20
         ],
         "xaxis": "x",
         "y": [
          0,
          9.069905076245398,
          16.33616490023316,
          22.166401741104256,
          26.874878466801682,
          30.73039499478887,
          33.959364354660394,
          36.747829557498406,
          39.24400486403188,
          41.56175331989459,
          43.78485224124499,
          45.971690778989384,
          48.16002410020731,
          50.37147642381238,
          52.61558181155372,
          54.893246116949456,
          57.19959150047976,
          59.526201930310435,
          61.86282491448467,
          64.19860464011684,
          66.5229288063907,
          68.82596967329695,
          71.0989925665429,
          73.33449490393383,
          75.52622763761684,
          77.66914010663163,
          79.75927942639862,
          81.79365739614168,
          83.76966731294284,
          85.68348708528463,
          87.52933377198949,
          89.29996324921588,
          90.98762511620947,
          92.58501250386418,
          94.08600425311677,
          95.48614066613256,
          96.78284781658431,
          97.97545774093662,
          99.06508079857936
         ],
         "yaxis": "y"
        },
        {
         "line": {
          "color": "purple"
         },
         "mode": "lines",
         "name": "my-solver with delta_t = 0.001",
         "type": "scatter",
         "x": [
          1,
          1.5,
          2,
          2.5,
          3,
          3.5,
          4,
          4.5,
          5,
          5.5,
          6,
          6.5,
          7,
          7.5,
          8,
          8.5,
          9,
          9.5,
          10,
          10.5,
          11,
          11.5,
          12,
          12.5,
          13,
          13.5,
          14,
          14.5,
          15,
          15.5,
          16,
          16.5,
          17,
          17.5,
          18,
          18.5,
          19,
          19.5,
          20
         ],
         "xaxis": "x",
         "y": [
          0,
          8.982417205980902,
          16.19769523151547,
          22.007481773267337,
          26.721343969163456,
          30.603196913213345,
          33.874261667187135,
          36.715446985996174,
          39.2703115217167,
          41.64884306966587,
          43.931864586991445,
          46.1757316146881,
          48.416988401068735,
          50.676719049282774,
          52.96441865007185,
          55.28129303605111,
          57.62296354550391,
          59.98160196566111,
          62.3475518105265,
          64.71050836552749,
          67.06033514415756,
          69.38759200580894,
          71.68384309651934,
          73.94180326162623,
          76.15537127651989,
          78.31958823855649,
          80.43055041398553,
          82.48526885406564,
          84.48089991251544,
          86.41319674940574,
          88.2760574161942,
          90.06212404515504,
          91.76371871458308,
          93.37373223418278,
          94.88630138465709,
          96.29723207854579,
          97.60418804137807,
          98.80669128141984,
          99.90598730158146
         ],
         "yaxis": "y"
        },
        {
         "line": {
          "color": "orange"
         },
         "mode": "lines",
         "name": "scipy-solver RK45",
         "type": "scatter",
         "x": [
          1,
          1.5,
          2,
          2.5,
          3,
          3.5,
          4,
          4.5,
          5,
          5.5,
          6,
          6.5,
          7,
          7.5,
          8,
          8.5,
          9,
          9.5,
          10,
          10.5,
          11,
          11.5,
          12,
          12.5,
          13,
          13.5,
          14,
          14.5,
          15,
          15.5,
          16,
          16.5,
          17,
          17.5,
          18,
          18.5,
          19,
          19.5,
          20
         ],
         "xaxis": "x",
         "y": [
          0,
          8.980653518878587,
          16.19502951475025,
          22.004326735040692,
          26.718302729106828,
          30.600559001717777,
          33.87259597187988,
          36.71487792522904,
          39.271148034839726,
          41.650915754147135,
          43.935361494831,
          46.18098800637655,
          48.42363387902368,
          50.68355651415322,
          52.97151959398627,
          55.29064662270204,
          57.633511539086555,
          59.990943505791286,
          62.35548122312281,
          64.72004755556402,
          67.07208973586961,
          69.39961944151682,
          71.6941708669509,
          73.95080369376754,
          76.1655675562627,
          78.33107485800447,
          80.44293982332104,
          82.4981175687357,
          84.49482647532213,
          86.43094725542272,
          88.29765843195068,
          90.08835504499855,
          91.79410984662385,
          93.40727698960214,
          94.92284161102049,
          96.33626139548312,
          97.64570254847594,
          98.85052589964349,
          99.95181265639438
         ],
         "yaxis": "y"
        },
        {
         "line": {
          "color": "blue"
         },
         "mode": "lines",
         "name": "my-solver with delta_t = 0.5",
         "showlegend": false,
         "type": "scatter",
         "x": [
          1,
          1.5,
          2,
          2.5,
          3,
          3.5,
          4,
          4.5,
          5,
          5.5,
          6,
          6.5,
          7,
          7.5,
          8,
          8.5,
          9,
          9.5,
          10,
          10.5,
          11,
          11.5,
          12,
          12.5,
          13,
          13.5,
          14,
          14.5,
          15,
          15.5,
          16,
          16.5,
          17,
          17.5,
          18,
          18.5,
          19,
          19.5,
          20
         ],
         "xaxis": "x2",
         "y": [
          0,
          5,
          10,
          14.6875,
          18.90625,
          22.59765625,
          25.770233477847903,
          28.472731003932665,
          30.77330727267279,
          32.74497082814667,
          34.45646023186488,
          35.967352611475775,
          37.32617515264996,
          38.57045807346496,
          39.72789769744709,
          40.81803012162694,
          41.85401778813827,
          42.84431097196825,
          43.79406313845489,
          44.70625846020922,
          45.58255898302828,
          46.423905716477094,
          47.230919190041796,
          48.00414636551803,
          48.7441964669532,
          49.451801271628256,
          50.127827659842744,
          50.773262916800604,
          51.389187016672665,
          51.976741115016736,
          52.53709771373056,
          53.07143529682894,
          53.580918464959055,
          54.06668351288527,
          54.52982880682396,
          54.9714090682344,
          55.39243263286364,
          55.79386083666785,
          56.1766088199885
         ],
         "yaxis": "y2"
        },
        {
         "line": {
          "color": "red"
         },
         "mode": "lines",
         "name": "my-solver with delta_t = 0.25",
         "showlegend": false,
         "type": "scatter",
         "x": [
          1,
          1.5,
          2,
          2.5,
          3,
          3.5,
          4,
          4.5,
          5,
          5.5,
          6,
          6.5,
          7,
          7.5,
          8,
          8.5,
          9,
          9.5,
          10,
          10.5,
          11,
          11.5,
          12,
          12.5,
          13,
          13.5,
          14,
          14.5,
          15,
          15.5,
          16,
          16.5,
          17,
          17.5,
          18,
          18.5,
          19,
          19.5,
          20
         ],
         "xaxis": "x2",
         "y": [
          0,
          5,
          9.853515625,
          14.354838239843284,
          18.40663159565991,
          21.984683810775905,
          25.110309157679318,
          27.82980833343915,
          30.200114630737605,
          32.27944566238602,
          34.12175764775955,
          35.77392520129541,
          37.27475804782711,
          38.65516603780735,
          39.938967545249305,
          41.1439911407513,
          42.28324284853408,
          43.366002993022065,
          44.39878182714977,
          45.38610691384989,
          46.33114263867859,
          47.23615772996124,
          48.10286394033324,
          48.93265097975627,
          49.726741525243305,
          50.48628718101145,
          51.212422639520604,
          51.906291634619855,
          52.569054944122456,
          53.20188786290034,
          53.80597227867104,
          54.38248671702425,
          54.932596416817255,
          55.457444572856794,
          55.958145259372,
          56.43577815161534,
          56.89138493128765,
          57.325967143677815,
          57.74048523129399
         ],
         "yaxis": "y2"
        },
        {
         "line": {
          "color": "green"
         },
         "mode": "lines",
         "name": "my-solver with delta_t = 0.05",
         "showlegend": false,
         "type": "scatter",
         "x": [
          1,
          1.5,
          2,
          2.5,
          3,
          3.5,
          4,
          4.5,
          5,
          5.5,
          6,
          6.5,
          7,
          7.5,
          8,
          8.5,
          9,
          9.5,
          10,
          10.5,
          11,
          11.5,
          12,
          12.5,
          13,
          13.5,
          14,
          14.5,
          15,
          15.5,
          16,
          16.5,
          17,
          17.5,
          18,
          18.5,
          19,
          19.5,
          20
         ],
         "xaxis": "x2",
         "y": [
          0,
          4.9656488392223315,
          9.711937039456634,
          14.093649381495933,
          18.048876489076722,
          21.569962764217724,
          24.681873267489426,
          27.4267916327126,
          29.85368512204402,
          32.01165636866925,
          33.946062289458226,
          35.696567739342946,
          37.2964846319552,
          38.77291061148652,
          40.14731823057415,
          41.436354848036004,
          42.65269711759887,
          43.80586551715676,
          44.90294788617501,
          45.94921031066228,
          46.9485924117419,
          47.90409508802412,
          48.81807438537617,
          49.69245723196124,
          50.52889462566189,
          51.32886645489198,
          52.0937501290252,
          52.824863018016856,
          53.523486610922085,
          54.1908784402943,
          54.82827624467415,
          55.43689756470421,
          56.017936970213725,
          56.57256236099707,
          57.10191123230271,
          57.60708740680309,
          58.089158471143165,
          58.549153985366615,
          58.98806443154882
         ],
         "yaxis": "y2"
        },
        {
         "line": {
          "color": "purple"
         },
         "mode": "lines",
         "name": "my-solver with delta_t = 0.001",
         "showlegend": false,
         "type": "scatter",
         "x": [
          1,
          1.5,
          2,
          2.5,
          3,
          3.5,
          4,
          4.5,
          5,
          5.5,
          6,
          6.5,
          7,
          7.5,
          8,
          8.5,
          9,
          9.5,
          10,
          10.5,
          11,
          11.5,
          12,
          12.5,
          13,
          13.5,
          14,
          14.5,
          15,
          15.5,
          16,
          16.5,
          17,
          17.5,
          18,
          18.5,
          19,
          19.5,
          20
         ],
         "xaxis": "x2",
         "y": [
          0,
          4.954273255526505,
          9.675984619335216,
          14.032314674297519,
          17.96819809050817,
          21.478894983763084,
          24.589750375520026,
          27.341874767521208,
          29.782485178330244,
          31.958769047548085,
          33.914308259248116,
          35.68728721155544,
          37.30988456498058,
          38.808401627507926,
          40.203807106019056,
          41.51247832723723,
          42.74699551780691,
          43.91690190705951,
          45.029382112864006,
          46.08983812199203,
          47.102359371085285,
          48.07009362863477,
          48.99553069210383,
          49.88071297740525,
          50.72738710018808,
          51.537109395883,
          52.31131659381793,
          53.05137094026609,
          53.75858719575816,
          54.434247246679526,
          55.079606631183935,
          55.695896099417965,
          56.28432039472697,
          56.846055727822325,
          57.38224688558065,
          57.894004535290506,
          58.3824030213601,
          58.848478776489486,
          59.293229359554296
         ],
         "yaxis": "y2"
        },
        {
         "line": {
          "color": "orange"
         },
         "mode": "lines",
         "name": "scipy-solver RK45",
         "showlegend": false,
         "type": "scatter",
         "x": [
          1,
          1.5,
          2,
          2.5,
          3,
          3.5,
          4,
          4.5,
          5,
          5.5,
          6,
          6.5,
          7,
          7.5,
          8,
          8.5,
          9,
          9.5,
          10,
          10.5,
          11,
          11.5,
          12,
          12.5,
          13,
          13.5,
          14,
          14.5,
          15,
          15.5,
          16,
          16.5,
          17,
          17.5,
          18,
          18.5,
          19,
          19.5,
          20
         ],
         "xaxis": "x2",
         "y": [
          0,
          4.954032627189942,
          9.675134875805487,
          14.030863057249812,
          17.96637181566222,
          21.47704451953326,
          24.58739971688014,
          27.340763697281695,
          29.78050474414007,
          31.957259239657393,
          33.91490063391734,
          35.68758993621017,
          37.310066583512466,
          38.80987121464199,
          40.20619803970678,
          41.51500370359209,
          42.74967234649755,
          43.919662598661276,
          45.032201047954466,
          46.093050075040296,
          47.106260863788464,
          48.074037130045795,
          48.99886959576345,
          49.88356479149151,
          50.7306479737005,
          51.54092944066465,
          52.315430042563385,
          53.05546130998301,
          53.76261207677304,
          54.43857442364582,
          55.08426761521195,
          55.70084587215102,
          56.28952245289979,
          56.851481703042715,
          57.38786967561437,
          57.89980211503532,
          58.3883564230901,
          58.85457278955793,
          59.29945204723
         ],
         "yaxis": "y2"
        }
       ],
       "layout": {
        "annotations": [
         {
          "font": {
           "size": 16
          },
          "showarrow": false,
          "text": "ages 0-10",
          "x": 0.225,
          "xanchor": "center",
          "xref": "paper",
          "y": 1,
          "yanchor": "bottom",
          "yref": "paper"
         },
         {
          "font": {
           "size": 16
          },
          "showarrow": false,
          "text": "ages 10-25",
          "x": 0.775,
          "xanchor": "center",
          "xref": "paper",
          "y": 1,
          "yanchor": "bottom",
          "yref": "paper"
         }
        ],
        "boxmode": "group",
        "legend": {
         "orientation": "h",
         "x": 1,
         "xanchor": "right",
         "y": 1.02,
         "yanchor": "bottom"
        },
        "plot_bgcolor": "white",
        "template": {
         "data": {
          "bar": [
           {
            "error_x": {
             "color": "#2a3f5f"
            },
            "error_y": {
             "color": "#2a3f5f"
            },
            "marker": {
             "line": {
              "color": "#E5ECF6",
              "width": 0.5
             },
             "pattern": {
              "fillmode": "overlay",
              "size": 10,
              "solidity": 0.2
             }
            },
            "type": "bar"
           }
          ],
          "barpolar": [
           {
            "marker": {
             "line": {
              "color": "#E5ECF6",
              "width": 0.5
             },
             "pattern": {
              "fillmode": "overlay",
              "size": 10,
              "solidity": 0.2
             }
            },
            "type": "barpolar"
           }
          ],
          "carpet": [
           {
            "aaxis": {
             "endlinecolor": "#2a3f5f",
             "gridcolor": "white",
             "linecolor": "white",
             "minorgridcolor": "white",
             "startlinecolor": "#2a3f5f"
            },
            "baxis": {
             "endlinecolor": "#2a3f5f",
             "gridcolor": "white",
             "linecolor": "white",
             "minorgridcolor": "white",
             "startlinecolor": "#2a3f5f"
            },
            "type": "carpet"
           }
          ],
          "choropleth": [
           {
            "colorbar": {
             "outlinewidth": 0,
             "ticks": ""
            },
            "type": "choropleth"
           }
          ],
          "contour": [
           {
            "colorbar": {
             "outlinewidth": 0,
             "ticks": ""
            },
            "colorscale": [
             [
              0,
              "#0d0887"
             ],
             [
              0.1111111111111111,
              "#46039f"
             ],
             [
              0.2222222222222222,
              "#7201a8"
             ],
             [
              0.3333333333333333,
              "#9c179e"
             ],
             [
              0.4444444444444444,
              "#bd3786"
             ],
             [
              0.5555555555555556,
              "#d8576b"
             ],
             [
              0.6666666666666666,
              "#ed7953"
             ],
             [
              0.7777777777777778,
              "#fb9f3a"
             ],
             [
              0.8888888888888888,
              "#fdca26"
             ],
             [
              1,
              "#f0f921"
             ]
            ],
            "type": "contour"
           }
          ],
          "contourcarpet": [
           {
            "colorbar": {
             "outlinewidth": 0,
             "ticks": ""
            },
            "type": "contourcarpet"
           }
          ],
          "heatmap": [
           {
            "colorbar": {
             "outlinewidth": 0,
             "ticks": ""
            },
            "colorscale": [
             [
              0,
              "#0d0887"
             ],
             [
              0.1111111111111111,
              "#46039f"
             ],
             [
              0.2222222222222222,
              "#7201a8"
             ],
             [
              0.3333333333333333,
              "#9c179e"
             ],
             [
              0.4444444444444444,
              "#bd3786"
             ],
             [
              0.5555555555555556,
              "#d8576b"
             ],
             [
              0.6666666666666666,
              "#ed7953"
             ],
             [
              0.7777777777777778,
              "#fb9f3a"
             ],
             [
              0.8888888888888888,
              "#fdca26"
             ],
             [
              1,
              "#f0f921"
             ]
            ],
            "type": "heatmap"
           }
          ],
          "heatmapgl": [
           {
            "colorbar": {
             "outlinewidth": 0,
             "ticks": ""
            },
            "colorscale": [
             [
              0,
              "#0d0887"
             ],
             [
              0.1111111111111111,
              "#46039f"
             ],
             [
              0.2222222222222222,
              "#7201a8"
             ],
             [
              0.3333333333333333,
              "#9c179e"
             ],
             [
              0.4444444444444444,
              "#bd3786"
             ],
             [
              0.5555555555555556,
              "#d8576b"
             ],
             [
              0.6666666666666666,
              "#ed7953"
             ],
             [
              0.7777777777777778,
              "#fb9f3a"
             ],
             [
              0.8888888888888888,
              "#fdca26"
             ],
             [
              1,
              "#f0f921"
             ]
            ],
            "type": "heatmapgl"
           }
          ],
          "histogram": [
           {
            "marker": {
             "pattern": {
              "fillmode": "overlay",
              "size": 10,
              "solidity": 0.2
             }
            },
            "type": "histogram"
           }
          ],
          "histogram2d": [
           {
            "colorbar": {
             "outlinewidth": 0,
             "ticks": ""
            },
            "colorscale": [
             [
              0,
              "#0d0887"
             ],
             [
              0.1111111111111111,
              "#46039f"
             ],
             [
              0.2222222222222222,
              "#7201a8"
             ],
             [
              0.3333333333333333,
              "#9c179e"
             ],
             [
              0.4444444444444444,
              "#bd3786"
             ],
             [
              0.5555555555555556,
              "#d8576b"
             ],
             [
              0.6666666666666666,
              "#ed7953"
             ],
             [
              0.7777777777777778,
              "#fb9f3a"
             ],
             [
              0.8888888888888888,
              "#fdca26"
             ],
             [
              1,
              "#f0f921"
             ]
            ],
            "type": "histogram2d"
           }
          ],
          "histogram2dcontour": [
           {
            "colorbar": {
             "outlinewidth": 0,
             "ticks": ""
            },
            "colorscale": [
             [
              0,
              "#0d0887"
             ],
             [
              0.1111111111111111,
              "#46039f"
             ],
             [
              0.2222222222222222,
              "#7201a8"
             ],
             [
              0.3333333333333333,
              "#9c179e"
             ],
             [
              0.4444444444444444,
              "#bd3786"
             ],
             [
              0.5555555555555556,
              "#d8576b"
             ],
             [
              0.6666666666666666,
              "#ed7953"
             ],
             [
              0.7777777777777778,
              "#fb9f3a"
             ],
             [
              0.8888888888888888,
              "#fdca26"
             ],
             [
              1,
              "#f0f921"
             ]
            ],
            "type": "histogram2dcontour"
           }
          ],
          "mesh3d": [
           {
            "colorbar": {
             "outlinewidth": 0,
             "ticks": ""
            },
            "type": "mesh3d"
           }
          ],
          "parcoords": [
           {
            "line": {
             "colorbar": {
              "outlinewidth": 0,
              "ticks": ""
             }
            },
            "type": "parcoords"
           }
          ],
          "pie": [
           {
            "automargin": true,
            "type": "pie"
           }
          ],
          "scatter": [
           {
            "fillpattern": {
             "fillmode": "overlay",
             "size": 10,
             "solidity": 0.2
            },
            "type": "scatter"
           }
          ],
          "scatter3d": [
           {
            "line": {
             "colorbar": {
              "outlinewidth": 0,
              "ticks": ""
             }
            },
            "marker": {
             "colorbar": {
              "outlinewidth": 0,
              "ticks": ""
             }
            },
            "type": "scatter3d"
           }
          ],
          "scattercarpet": [
           {
            "marker": {
             "colorbar": {
              "outlinewidth": 0,
              "ticks": ""
             }
            },
            "type": "scattercarpet"
           }
          ],
          "scattergeo": [
           {
            "marker": {
             "colorbar": {
              "outlinewidth": 0,
              "ticks": ""
             }
            },
            "type": "scattergeo"
           }
          ],
          "scattergl": [
           {
            "marker": {
             "colorbar": {
              "outlinewidth": 0,
              "ticks": ""
             }
            },
            "type": "scattergl"
           }
          ],
          "scattermapbox": [
           {
            "marker": {
             "colorbar": {
              "outlinewidth": 0,
              "ticks": ""
             }
            },
            "type": "scattermapbox"
           }
          ],
          "scatterpolar": [
           {
            "marker": {
             "colorbar": {
              "outlinewidth": 0,
              "ticks": ""
             }
            },
            "type": "scatterpolar"
           }
          ],
          "scatterpolargl": [
           {
            "marker": {
             "colorbar": {
              "outlinewidth": 0,
              "ticks": ""
             }
            },
            "type": "scatterpolargl"
           }
          ],
          "scatterternary": [
           {
            "marker": {
             "colorbar": {
              "outlinewidth": 0,
              "ticks": ""
             }
            },
            "type": "scatterternary"
           }
          ],
          "surface": [
           {
            "colorbar": {
             "outlinewidth": 0,
             "ticks": ""
            },
            "colorscale": [
             [
              0,
              "#0d0887"
             ],
             [
              0.1111111111111111,
              "#46039f"
             ],
             [
              0.2222222222222222,
              "#7201a8"
             ],
             [
              0.3333333333333333,
              "#9c179e"
             ],
             [
              0.4444444444444444,
              "#bd3786"
             ],
             [
              0.5555555555555556,
              "#d8576b"
             ],
             [
              0.6666666666666666,
              "#ed7953"
             ],
             [
              0.7777777777777778,
              "#fb9f3a"
             ],
             [
              0.8888888888888888,
              "#fdca26"
             ],
             [
              1,
              "#f0f921"
             ]
            ],
            "type": "surface"
           }
          ],
          "table": [
           {
            "cells": {
             "fill": {
              "color": "#EBF0F8"
             },
             "line": {
              "color": "white"
             }
            },
            "header": {
             "fill": {
              "color": "#C8D4E3"
             },
             "line": {
              "color": "white"
             }
            },
            "type": "table"
           }
          ]
         },
         "layout": {
          "annotationdefaults": {
           "arrowcolor": "#2a3f5f",
           "arrowhead": 0,
           "arrowwidth": 1
          },
          "autotypenumbers": "strict",
          "coloraxis": {
           "colorbar": {
            "outlinewidth": 0,
            "ticks": ""
           }
          },
          "colorscale": {
           "diverging": [
            [
             0,
             "#8e0152"
            ],
            [
             0.1,
             "#c51b7d"
            ],
            [
             0.2,
             "#de77ae"
            ],
            [
             0.3,
             "#f1b6da"
            ],
            [
             0.4,
             "#fde0ef"
            ],
            [
             0.5,
             "#f7f7f7"
            ],
            [
             0.6,
             "#e6f5d0"
            ],
            [
             0.7,
             "#b8e186"
            ],
            [
             0.8,
             "#7fbc41"
            ],
            [
             0.9,
             "#4d9221"
            ],
            [
             1,
             "#276419"
            ]
           ],
           "sequential": [
            [
             0,
             "#0d0887"
            ],
            [
             0.1111111111111111,
             "#46039f"
            ],
            [
             0.2222222222222222,
             "#7201a8"
            ],
            [
             0.3333333333333333,
             "#9c179e"
            ],
            [
             0.4444444444444444,
             "#bd3786"
            ],
            [
             0.5555555555555556,
             "#d8576b"
            ],
            [
             0.6666666666666666,
             "#ed7953"
            ],
            [
             0.7777777777777778,
             "#fb9f3a"
            ],
            [
             0.8888888888888888,
             "#fdca26"
            ],
            [
             1,
             "#f0f921"
            ]
           ],
           "sequentialminus": [
            [
             0,
             "#0d0887"
            ],
            [
             0.1111111111111111,
             "#46039f"
            ],
            [
             0.2222222222222222,
             "#7201a8"
            ],
            [
             0.3333333333333333,
             "#9c179e"
            ],
            [
             0.4444444444444444,
             "#bd3786"
            ],
            [
             0.5555555555555556,
             "#d8576b"
            ],
            [
             0.6666666666666666,
             "#ed7953"
            ],
            [
             0.7777777777777778,
             "#fb9f3a"
            ],
            [
             0.8888888888888888,
             "#fdca26"
            ],
            [
             1,
             "#f0f921"
            ]
           ]
          },
          "colorway": [
           "#636efa",
           "#EF553B",
           "#00cc96",
           "#ab63fa",
           "#FFA15A",
           "#19d3f3",
           "#FF6692",
           "#B6E880",
           "#FF97FF",
           "#FECB52"
          ],
          "font": {
           "color": "#2a3f5f"
          },
          "geo": {
           "bgcolor": "white",
           "lakecolor": "white",
           "landcolor": "#E5ECF6",
           "showlakes": true,
           "showland": true,
           "subunitcolor": "white"
          },
          "hoverlabel": {
           "align": "left"
          },
          "hovermode": "closest",
          "mapbox": {
           "style": "light"
          },
          "paper_bgcolor": "white",
          "plot_bgcolor": "#E5ECF6",
          "polar": {
           "angularaxis": {
            "gridcolor": "white",
            "linecolor": "white",
            "ticks": ""
           },
           "bgcolor": "#E5ECF6",
           "radialaxis": {
            "gridcolor": "white",
            "linecolor": "white",
            "ticks": ""
           }
          },
          "scene": {
           "xaxis": {
            "backgroundcolor": "#E5ECF6",
            "gridcolor": "white",
            "gridwidth": 2,
            "linecolor": "white",
            "showbackground": true,
            "ticks": "",
            "zerolinecolor": "white"
           },
           "yaxis": {
            "backgroundcolor": "#E5ECF6",
            "gridcolor": "white",
            "gridwidth": 2,
            "linecolor": "white",
            "showbackground": true,
            "ticks": "",
            "zerolinecolor": "white"
           },
           "zaxis": {
            "backgroundcolor": "#E5ECF6",
            "gridcolor": "white",
            "gridwidth": 2,
            "linecolor": "white",
            "showbackground": true,
            "ticks": "",
            "zerolinecolor": "white"
           }
          },
          "shapedefaults": {
           "line": {
            "color": "#2a3f5f"
           }
          },
          "ternary": {
           "aaxis": {
            "gridcolor": "white",
            "linecolor": "white",
            "ticks": ""
           },
           "baxis": {
            "gridcolor": "white",
            "linecolor": "white",
            "ticks": ""
           },
           "bgcolor": "#E5ECF6",
           "caxis": {
            "gridcolor": "white",
            "linecolor": "white",
            "ticks": ""
           }
          },
          "title": {
           "x": 0.05
          },
          "xaxis": {
           "automargin": true,
           "gridcolor": "white",
           "linecolor": "white",
           "ticks": "",
           "title": {
            "standoff": 15
           },
           "zerolinecolor": "white",
           "zerolinewidth": 2
          },
          "yaxis": {
           "automargin": true,
           "gridcolor": "white",
           "linecolor": "white",
           "ticks": "",
           "title": {
            "standoff": 15
           },
           "zerolinecolor": "white",
           "zerolinewidth": 2
          }
         }
        },
        "title": {
         "text": "R in region London"
        },
        "width": 800,
        "xaxis": {
         "anchor": "y",
         "domain": [
          0,
          0.45
         ],
         "linecolor": "black"
        },
        "xaxis2": {
         "anchor": "y2",
         "domain": [
          0.55,
          1
         ],
         "linecolor": "black"
        },
        "xaxis3": {
         "linecolor": "black"
        },
        "xaxis4": {
         "linecolor": "black"
        },
        "xaxis5": {
         "linecolor": "black"
        },
        "xaxis6": {
         "linecolor": "black"
        },
        "xaxis7": {
         "linecolor": "black"
        },
        "xaxis8": {
         "linecolor": "black"
        },
        "yaxis": {
         "anchor": "x",
         "domain": [
          0,
          1
         ],
         "linecolor": "black"
        },
        "yaxis2": {
         "anchor": "x2",
         "domain": [
          0,
          1
         ],
         "linecolor": "black"
        },
        "yaxis3": {
         "linecolor": "black"
        },
        "yaxis4": {
         "linecolor": "black"
        },
        "yaxis5": {
         "linecolor": "black"
        },
        "yaxis6": {
         "linecolor": "black"
        },
        "yaxis7": {
         "linecolor": "black"
        },
        "yaxis8": {
         "linecolor": "black"
        }
       }
      }
     },
     "metadata": {},
     "output_type": "display_data"
    },
    {
     "data": {
      "application/vnd.plotly.v1+json": {
       "config": {
        "plotlyServerURL": "https://plot.ly"
       },
       "data": [
        {
         "line": {
          "color": "blue"
         },
         "mode": "lines",
         "name": "my-solver with delta_t = 0.5",
         "type": "scatter",
         "x": [
          1,
          1.5,
          2,
          2.5,
          3,
          3.5,
          4,
          4.5,
          5,
          5.5,
          6,
          6.5,
          7,
          7.5,
          8,
          8.5,
          9,
          9.5,
          10,
          10.5,
          11,
          11.5,
          12,
          12.5,
          13,
          13.5,
          14,
          14.5,
          15,
          15.5,
          16,
          16.5,
          17,
          17.5,
          18,
          18.5,
          19,
          19.5,
          20
         ],
         "xaxis": "x",
         "y": [
          0,
          0,
          0,
          0,
          0.38764652105056285,
          0.9052863753913485,
          1.4074742439097108,
          1.8231236273600047,
          2.1276424240242235,
          2.323217015097704,
          2.4254907598695965,
          2.455064518398217,
          2.4324844810868598,
          2.375636932763406,
          2.29871325074739,
          2.212125198054096,
          2.122932626274391,
          2.0354911159359403,
          1.952137753217329,
          1.8738133401684252,
          1.8005741203443364,
          1.7319810562912181,
          1.6673749409078624,
          1.6060555774603102,
          1.5473864867165048,
          1.490845800836297,
          1.4360411166502018,
          1.382702398675221,
          1.3306633396316556,
          1.2201174658826943,
          1.083509244939151,
          0.9407178608321658,
          0.8033041518624628,
          0.6774237961581093,
          0.5658069917155757,
          0.46908815761509004,
          0.3866859692090969,
          0.3173747540050158,
          0.2596460949452819
         ],
         "yaxis": "y"
        },
        {
         "line": {
          "color": "red"
         },
         "mode": "lines",
         "name": "my-solver with delta_t = 0.25",
         "type": "scatter",
         "x": [
          1,
          1.5,
          2,
          2.5,
          3,
          3.5,
          4,
          4.5,
          5,
          5.5,
          6,
          6.5,
          7,
          7.5,
          8,
          8.5,
          9,
          9.5,
          10,
          10.5,
          11,
          11.5,
          12,
          12.5,
          13,
          13.5,
          14,
          14.5,
          15,
          15.5,
          16,
          16.5,
          17,
          17.5,
          18,
          18.5,
          19,
          19.5,
          20
         ],
         "xaxis": "x",
         "y": [
          0,
          0,
          0.05242067001501027,
          0.3891273533751445,
          0.8623946069318862,
          1.3422866318462496,
          1.7606525286226287,
          2.0889618934597394,
          2.3225366618627277,
          2.4697451934792625,
          2.544918584987961,
          2.563966444750882,
          2.541880607098058,
          2.491504913813486,
          2.4231104582215863,
          2.344447128534867,
          2.2610455230109068,
          2.1766215742624127,
          2.0934934386316684,
          2.012960410612365,
          1.9356205917673748,
          1.8616211045843443,
          1.790844576431212,
          1.7230406531491695,
          1.657913143756133,
          1.595173304041964,
          1.5345686222243842,
          1.4758948662435785,
          1.389174341385342,
          1.2637551541820784,
          1.1224817235442686,
          0.9796088535701557,
          0.8435711656084948,
          0.7189284012402481,
          0.6077199348330993,
          0.5103979193546309,
          0.42646170761643987,
          0.35488200468414277,
          0.2943782761677909
         ],
         "yaxis": "y"
        },
        {
         "line": {
          "color": "green"
         },
         "mode": "lines",
         "name": "my-solver with delta_t = 0.05",
         "type": "scatter",
         "x": [
          1,
          1.5,
          2,
          2.5,
          3,
          3.5,
          4,
          4.5,
          5,
          5.5,
          6,
          6.5,
          7,
          7.5,
          8,
          8.5,
          9,
          9.5,
          10,
          10.5,
          11,
          11.5,
          12,
          12.5,
          13,
          13.5,
          14,
          14.5,
          15,
          15.5,
          16,
          16.5,
          17,
          17.5,
          18,
          18.5,
          19,
          19.5,
          20
         ],
         "xaxis": "x",
         "y": [
          0,
          0.03383502073332778,
          0.29751655509917185,
          0.7312904106530596,
          1.2025756168413935,
          1.6367254788237702,
          1.9976146569708675,
          2.273310838738084,
          2.466063229773951,
          2.5855489252003423,
          2.64451038393959,
          2.6560972633406124,
          2.6323840136725636,
          2.5836674803254027,
          2.5182565336973397,
          2.4425505756052814,
          2.361268673032413,
          2.277739331006998,
          2.1941957331330144,
          2.1120455585014497,
          2.0321007478341926,
          1.9547629406033735,
          1.8801664302124266,
          1.8082837048413722,
          1.7389999529169131,
          1.6721630417334694,
          1.6076149381849092,
          1.5378807864932043,
          1.431239420374041,
          1.2969683165629817,
          1.1527005852068726,
          1.0095556831604426,
          0.8741711533614875,
          0.7501524788358438,
          0.6390991829555901,
          0.5413238272395944,
          0.4563496974010661,
          0.3832500507896981,
          0.3208748165911999
         ],
         "yaxis": "y"
        },
        {
         "line": {
          "color": "purple"
         },
         "mode": "lines",
         "name": "my-solver with delta_t = 0.001",
         "type": "scatter",
         "x": [
          1,
          1.5,
          2,
          2.5,
          3,
          3.5,
          4,
          4.5,
          5,
          5.5,
          6,
          6.5,
          7,
          7.5,
          8,
          8.5,
          9,
          9.5,
          10,
          10.5,
          11,
          11.5,
          12,
          12.5,
          13,
          13.5,
          14,
          14.5,
          15,
          15.5,
          16,
          16.5,
          17,
          17.5,
          18,
          18.5,
          19,
          19.5,
          20
         ],
         "xaxis": "x",
         "y": [
          0,
          0.0631599769505371,
          0.3693322585786021,
          0.8142371005770315,
          1.2804985814840677,
          1.703054408635147,
          2.0512055993030387,
          2.3157346829742096,
          2.499934285618309,
          2.613572484387589,
          2.6690055029996316,
          2.67881660727452,
          2.6545055637658805,
          2.6058739333269614,
          2.54084879028305,
          2.46556361544404,
          2.384573131500943,
          2.301121865701276,
          2.217417202790486,
          2.1348792815824,
          2.0543545608087896,
          1.9762891096572446,
          1.900863166721166,
          1.8280914234675407,
          1.757894702875916,
          1.690148861708181,
          1.6247162984454064,
          1.551620915544774,
          1.440898009930251,
          1.3047911691125478,
          1.1598900362863702,
          1.0166781712559043,
          0.8814232764921854,
          0.7575308452926492,
          0.6465056749717917,
          0.5486281731017186,
          0.4634243746557445,
          0.389987713270429,
          0.32719506703813295
         ],
         "yaxis": "y"
        },
        {
         "line": {
          "color": "orange"
         },
         "mode": "lines",
         "name": "scipy-solver RK45",
         "type": "scatter",
         "x": [
          1,
          1.5,
          2,
          2.5,
          3,
          3.5,
          4,
          4.5,
          5,
          5.5,
          6,
          6.5,
          7,
          7.5,
          8,
          8.5,
          9,
          9.5,
          10,
          10.5,
          11,
          11.5,
          12,
          12.5,
          13,
          13.5,
          14,
          14.5,
          15,
          15.5,
          16,
          16.5,
          17,
          17.5,
          18,
          18.5,
          19,
          19.5,
          20
         ],
         "xaxis": "x",
         "y": [
          0,
          0.06385733522107273,
          0.3711268234360645,
          0.8160261264750162,
          1.2820552559328462,
          1.7038539401059936,
          2.053206077984946,
          2.314624391178171,
          2.5022765694245876,
          2.6140692760023327,
          2.6672186762641488,
          2.6800211081139125,
          2.655527118166873,
          2.605915750751848,
          2.54118884401187,
          2.4657430684319905,
          2.3850599777181287,
          2.3026446022762457,
          2.218984402212641,
          2.134802785320801,
          2.053789801193318,
          1.976931919241565,
          1.9027266554427058,
          1.8296552831470336,
          1.7610371810981462,
          1.6993095360889328,
          1.6303601583606167,
          1.54746689655191,
          1.4441183623442555,
          1.3129578637334305,
          1.1642808687398372,
          1.0228573853314487,
          0.8858932629282492,
          0.7571749457152634,
          0.6462905729792681,
          0.5491000819300211,
          0.4627984549670572,
          0.38902834089098803,
          0.326327411544284
         ],
         "yaxis": "y"
        },
        {
         "line": {
          "color": "blue"
         },
         "mode": "lines",
         "name": "my-solver with delta_t = 0.5",
         "showlegend": false,
         "type": "scatter",
         "x": [
          1,
          1.5,
          2,
          2.5,
          3,
          3.5,
          4,
          4.5,
          5,
          5.5,
          6,
          6.5,
          7,
          7.5,
          8,
          8.5,
          9,
          9.5,
          10,
          10.5,
          11,
          11.5,
          12,
          12.5,
          13,
          13.5,
          14,
          14.5,
          15,
          15.5,
          16,
          16.5,
          17,
          17.5,
          18,
          18.5,
          19,
          19.5,
          20
         ],
         "xaxis": "x2",
         "y": [
          0,
          0,
          0,
          0,
          0.13623564556645107,
          0.32076319900654227,
          0.5024747244387697,
          0.6552641725820578,
          0.7690915467793005,
          0.8435043838021556,
          0.8831481815893554,
          0.8948171613577074,
          0.8856467547216411,
          0.862114098641598,
          0.8295810997040505,
          0.7921787626262002,
          0.7528872504689517,
          0.7137118068596919,
          0.6758901413806839,
          0.6400930833126779,
          0.6065986796350771,
          0.5754320431063888,
          0.5464706736151967,
          0.5195190196431128,
          0.4943578121469372,
          0.47077403625355885,
          0.44857692489472356,
          0.427604489196419,
          0.4077241180120268,
          0.3888298455388579,
          0.37083808414530495,
          0.35368297958203954,
          0.3373120659608162,
          0.32168255937453694,
          0.30675840566538426,
          0.29250806245957506,
          0.27890292349265877,
          0.26591626387232736,
          0.25352258224305046
         ],
         "yaxis": "y2"
        },
        {
         "line": {
          "color": "red"
         },
         "mode": "lines",
         "name": "my-solver with delta_t = 0.25",
         "showlegend": false,
         "type": "scatter",
         "x": [
          1,
          1.5,
          2,
          2.5,
          3,
          3.5,
          4,
          4.5,
          5,
          5.5,
          6,
          6.5,
          7,
          7.5,
          8,
          8.5,
          9,
          9.5,
          10,
          10.5,
          11,
          11.5,
          12,
          12.5,
          13,
          13.5,
          14,
          14.5,
          15,
          15.5,
          16,
          16.5,
          17,
          17.5,
          18,
          18.5,
          19,
          19.5,
          20
         ],
         "xaxis": "x2",
         "y": [
          0,
          0,
          0.01824109997020429,
          0.13633593891113804,
          0.30442953928840666,
          0.4771342066511579,
          0.6296868855048174,
          0.7509258893988289,
          0.8381601311803948,
          0.8935561060732624,
          0.9216975370294094,
          0.9280193731792465,
          0.9178704769997807,
          0.8960107902886207,
          0.866395065975432,
          0.8321345578139514,
          0.7955599273845309,
          0.7583334505666244,
          0.7215772259420845,
          0.6859975333170709,
          0.651994806567707,
          0.6197548340188703,
          0.5893206118673788,
          0.5606464323309126,
          0.5336368223849632,
          0.508173263866432,
          0.48413151310805347,
          0.4613920005783072,
          0.43984536187711853,
          0.41939471359439295,
          0.3999558875452536,
          0.38145649682440563,
          0.3638344333611201,
          0.34703618629130517,
          0.3310152157219761,
          0.3157305076290484,
          0.3011453628595646,
          0.2872264275394585,
          0.2739429460147491
         ],
         "yaxis": "y2"
        },
        {
         "line": {
          "color": "green"
         },
         "mode": "lines",
         "name": "my-solver with delta_t = 0.05",
         "showlegend": false,
         "type": "scatter",
         "x": [
          1,
          1.5,
          2,
          2.5,
          3,
          3.5,
          4,
          4.5,
          5,
          5.5,
          6,
          6.5,
          7,
          7.5,
          8,
          8.5,
          9,
          9.5,
          10,
          10.5,
          11,
          11.5,
          12,
          12.5,
          13,
          13.5,
          14,
          14.5,
          15,
          15.5,
          16,
          16.5,
          17,
          17.5,
          18,
          18.5,
          19,
          19.5,
          20
         ],
         "xaxis": "x2",
         "y": [
          0,
          0.011737310279158919,
          0.10388921565348852,
          0.2571873436385417,
          0.4257552007594043,
          0.5828746427086244,
          0.714919971248591,
          0.8167465246722188,
          0.8883796475690957,
          0.9327157884080677,
          0.9539881360310005,
          0.9567927883335159,
          0.9455130964006742,
          0.9240169484981777,
          0.89553324493437,
          0.8626394974803873,
          0.8273127431243026,
          0.791011450699969,
          0.7547675878829097,
          0.719276272716499,
          0.6849761634429754,
          0.6521175548852085,
          0.6208175571790591,
          0.5911031402154876,
          0.5629435499641176,
          0.5362738775732439,
          0.5110115608134933,
          0.48706744087222376,
          0.4643527672287604,
          0.44278329166292707,
          0.42228135070185857,
          0.4027766207764216,
          0.3842060491667425,
          0.3665133175366577,
          0.34964808104457035,
          0.3335651404702702,
          0.31822364266942316,
          0.30358636119525784,
          0.28961907978476376
         ],
         "yaxis": "y2"
        },
        {
         "line": {
          "color": "purple"
         },
         "mode": "lines",
         "name": "my-solver with delta_t = 0.001",
         "showlegend": false,
         "type": "scatter",
         "x": [
          1,
          1.5,
          2,
          2.5,
          3,
          3.5,
          4,
          4.5,
          5,
          5.5,
          6,
          6.5,
          7,
          7.5,
          8,
          8.5,
          9,
          9.5,
          10,
          10.5,
          11,
          11.5,
          12,
          12.5,
          13,
          13.5,
          14,
          14.5,
          15,
          15.5,
          16,
          16.5,
          17,
          17.5,
          18,
          18.5,
          19,
          19.5,
          20
         ],
         "xaxis": "x2",
         "y": [
          0,
          0.021928743961055375,
          0.12909505452300607,
          0.28660200785083134,
          0.45362301215649836,
          0.6067128892622051,
          0.7341615055593707,
          0.8318306626751379,
          0.9001742912333981,
          0.9421747341209112,
          0.9619683106046182,
          0.9639748210781107,
          0.9523843563188592,
          0.9308887663746361,
          0.90257369449413,
          0.8699102134944496,
          0.8348032639564806,
          0.7986679416916616,
          0.7625149391066373,
          0.7270338154323,
          0.6926678912316575,
          0.659677980539584,
          0.6281943412322804,
          0.5982575012623172,
          0.5698492839930083,
          0.5429156193199063,
          0.5173827409215832,
          0.49316824121014236,
          0.4701882571401015,
          0.4483618391118043,
          0.42761334033032483,
          0.4078734708325058,
          0.3890794959798427,
          0.3711749250856755,
          0.3541089302911189,
          0.33783565543325267,
          0.3223135154018877,
          0.3075045442578599,
          0.2933738214163668
         ],
         "yaxis": "y2"
        },
        {
         "line": {
          "color": "orange"
         },
         "mode": "lines",
         "name": "scipy-solver RK45",
         "showlegend": false,
         "type": "scatter",
         "x": [
          1,
          1.5,
          2,
          2.5,
          3,
          3.5,
          4,
          4.5,
          5,
          5.5,
          6,
          6.5,
          7,
          7.5,
          8,
          8.5,
          9,
          9.5,
          10,
          10.5,
          11,
          11.5,
          12,
          12.5,
          13,
          13.5,
          14,
          14.5,
          15,
          15.5,
          16,
          16.5,
          17,
          17.5,
          18,
          18.5,
          19,
          19.5,
          20
         ],
         "xaxis": "x2",
         "y": [
          0,
          0.022171459109841862,
          0.1297150953367847,
          0.2872409369753939,
          0.4541804426229348,
          0.6070269790860578,
          0.7348612326152093,
          0.8314604763088269,
          0.9010180060219568,
          0.9423329074369633,
          0.961281456027649,
          0.9644303694649068,
          0.9527634222309018,
          0.930788563320192,
          0.9026063331476024,
          0.870023966740959,
          0.8349939560138182,
          0.799133618810707,
          0.7629934703435097,
          0.7270342386608917,
          0.6924887169153493,
          0.659920749295928,
          0.62885994173444,
          0.5988263070595181,
          0.5698227992332505,
          0.5428242916727157,
          0.5174234972154039,
          0.49336389007850556,
          0.4704020354331675,
          0.44838628252392,
          0.42762367754180985,
          0.4079038545611766,
          0.38912536953214527,
          0.37123212567443886,
          0.35417370714267093,
          0.33790497530874575,
          0.32238639472326724,
          0.3075787468736948,
          0.2934477329719556
         ],
         "yaxis": "y2"
        }
       ],
       "layout": {
        "annotations": [
         {
          "font": {
           "size": 16
          },
          "showarrow": false,
          "text": "ages 0-10",
          "x": 0.225,
          "xanchor": "center",
          "xref": "paper",
          "y": 1,
          "yanchor": "bottom",
          "yref": "paper"
         },
         {
          "font": {
           "size": 16
          },
          "showarrow": false,
          "text": "ages 10-25",
          "x": 0.775,
          "xanchor": "center",
          "xref": "paper",
          "y": 1,
          "yanchor": "bottom",
          "yref": "paper"
         }
        ],
        "boxmode": "group",
        "legend": {
         "orientation": "h",
         "x": 1,
         "xanchor": "right",
         "y": 1.02,
         "yanchor": "bottom"
        },
        "plot_bgcolor": "white",
        "template": {
         "data": {
          "bar": [
           {
            "error_x": {
             "color": "#2a3f5f"
            },
            "error_y": {
             "color": "#2a3f5f"
            },
            "marker": {
             "line": {
              "color": "#E5ECF6",
              "width": 0.5
             },
             "pattern": {
              "fillmode": "overlay",
              "size": 10,
              "solidity": 0.2
             }
            },
            "type": "bar"
           }
          ],
          "barpolar": [
           {
            "marker": {
             "line": {
              "color": "#E5ECF6",
              "width": 0.5
             },
             "pattern": {
              "fillmode": "overlay",
              "size": 10,
              "solidity": 0.2
             }
            },
            "type": "barpolar"
           }
          ],
          "carpet": [
           {
            "aaxis": {
             "endlinecolor": "#2a3f5f",
             "gridcolor": "white",
             "linecolor": "white",
             "minorgridcolor": "white",
             "startlinecolor": "#2a3f5f"
            },
            "baxis": {
             "endlinecolor": "#2a3f5f",
             "gridcolor": "white",
             "linecolor": "white",
             "minorgridcolor": "white",
             "startlinecolor": "#2a3f5f"
            },
            "type": "carpet"
           }
          ],
          "choropleth": [
           {
            "colorbar": {
             "outlinewidth": 0,
             "ticks": ""
            },
            "type": "choropleth"
           }
          ],
          "contour": [
           {
            "colorbar": {
             "outlinewidth": 0,
             "ticks": ""
            },
            "colorscale": [
             [
              0,
              "#0d0887"
             ],
             [
              0.1111111111111111,
              "#46039f"
             ],
             [
              0.2222222222222222,
              "#7201a8"
             ],
             [
              0.3333333333333333,
              "#9c179e"
             ],
             [
              0.4444444444444444,
              "#bd3786"
             ],
             [
              0.5555555555555556,
              "#d8576b"
             ],
             [
              0.6666666666666666,
              "#ed7953"
             ],
             [
              0.7777777777777778,
              "#fb9f3a"
             ],
             [
              0.8888888888888888,
              "#fdca26"
             ],
             [
              1,
              "#f0f921"
             ]
            ],
            "type": "contour"
           }
          ],
          "contourcarpet": [
           {
            "colorbar": {
             "outlinewidth": 0,
             "ticks": ""
            },
            "type": "contourcarpet"
           }
          ],
          "heatmap": [
           {
            "colorbar": {
             "outlinewidth": 0,
             "ticks": ""
            },
            "colorscale": [
             [
              0,
              "#0d0887"
             ],
             [
              0.1111111111111111,
              "#46039f"
             ],
             [
              0.2222222222222222,
              "#7201a8"
             ],
             [
              0.3333333333333333,
              "#9c179e"
             ],
             [
              0.4444444444444444,
              "#bd3786"
             ],
             [
              0.5555555555555556,
              "#d8576b"
             ],
             [
              0.6666666666666666,
              "#ed7953"
             ],
             [
              0.7777777777777778,
              "#fb9f3a"
             ],
             [
              0.8888888888888888,
              "#fdca26"
             ],
             [
              1,
              "#f0f921"
             ]
            ],
            "type": "heatmap"
           }
          ],
          "heatmapgl": [
           {
            "colorbar": {
             "outlinewidth": 0,
             "ticks": ""
            },
            "colorscale": [
             [
              0,
              "#0d0887"
             ],
             [
              0.1111111111111111,
              "#46039f"
             ],
             [
              0.2222222222222222,
              "#7201a8"
             ],
             [
              0.3333333333333333,
              "#9c179e"
             ],
             [
              0.4444444444444444,
              "#bd3786"
             ],
             [
              0.5555555555555556,
              "#d8576b"
             ],
             [
              0.6666666666666666,
              "#ed7953"
             ],
             [
              0.7777777777777778,
              "#fb9f3a"
             ],
             [
              0.8888888888888888,
              "#fdca26"
             ],
             [
              1,
              "#f0f921"
             ]
            ],
            "type": "heatmapgl"
           }
          ],
          "histogram": [
           {
            "marker": {
             "pattern": {
              "fillmode": "overlay",
              "size": 10,
              "solidity": 0.2
             }
            },
            "type": "histogram"
           }
          ],
          "histogram2d": [
           {
            "colorbar": {
             "outlinewidth": 0,
             "ticks": ""
            },
            "colorscale": [
             [
              0,
              "#0d0887"
             ],
             [
              0.1111111111111111,
              "#46039f"
             ],
             [
              0.2222222222222222,
              "#7201a8"
             ],
             [
              0.3333333333333333,
              "#9c179e"
             ],
             [
              0.4444444444444444,
              "#bd3786"
             ],
             [
              0.5555555555555556,
              "#d8576b"
             ],
             [
              0.6666666666666666,
              "#ed7953"
             ],
             [
              0.7777777777777778,
              "#fb9f3a"
             ],
             [
              0.8888888888888888,
              "#fdca26"
             ],
             [
              1,
              "#f0f921"
             ]
            ],
            "type": "histogram2d"
           }
          ],
          "histogram2dcontour": [
           {
            "colorbar": {
             "outlinewidth": 0,
             "ticks": ""
            },
            "colorscale": [
             [
              0,
              "#0d0887"
             ],
             [
              0.1111111111111111,
              "#46039f"
             ],
             [
              0.2222222222222222,
              "#7201a8"
             ],
             [
              0.3333333333333333,
              "#9c179e"
             ],
             [
              0.4444444444444444,
              "#bd3786"
             ],
             [
              0.5555555555555556,
              "#d8576b"
             ],
             [
              0.6666666666666666,
              "#ed7953"
             ],
             [
              0.7777777777777778,
              "#fb9f3a"
             ],
             [
              0.8888888888888888,
              "#fdca26"
             ],
             [
              1,
              "#f0f921"
             ]
            ],
            "type": "histogram2dcontour"
           }
          ],
          "mesh3d": [
           {
            "colorbar": {
             "outlinewidth": 0,
             "ticks": ""
            },
            "type": "mesh3d"
           }
          ],
          "parcoords": [
           {
            "line": {
             "colorbar": {
              "outlinewidth": 0,
              "ticks": ""
             }
            },
            "type": "parcoords"
           }
          ],
          "pie": [
           {
            "automargin": true,
            "type": "pie"
           }
          ],
          "scatter": [
           {
            "fillpattern": {
             "fillmode": "overlay",
             "size": 10,
             "solidity": 0.2
            },
            "type": "scatter"
           }
          ],
          "scatter3d": [
           {
            "line": {
             "colorbar": {
              "outlinewidth": 0,
              "ticks": ""
             }
            },
            "marker": {
             "colorbar": {
              "outlinewidth": 0,
              "ticks": ""
             }
            },
            "type": "scatter3d"
           }
          ],
          "scattercarpet": [
           {
            "marker": {
             "colorbar": {
              "outlinewidth": 0,
              "ticks": ""
             }
            },
            "type": "scattercarpet"
           }
          ],
          "scattergeo": [
           {
            "marker": {
             "colorbar": {
              "outlinewidth": 0,
              "ticks": ""
             }
            },
            "type": "scattergeo"
           }
          ],
          "scattergl": [
           {
            "marker": {
             "colorbar": {
              "outlinewidth": 0,
              "ticks": ""
             }
            },
            "type": "scattergl"
           }
          ],
          "scattermapbox": [
           {
            "marker": {
             "colorbar": {
              "outlinewidth": 0,
              "ticks": ""
             }
            },
            "type": "scattermapbox"
           }
          ],
          "scatterpolar": [
           {
            "marker": {
             "colorbar": {
              "outlinewidth": 0,
              "ticks": ""
             }
            },
            "type": "scatterpolar"
           }
          ],
          "scatterpolargl": [
           {
            "marker": {
             "colorbar": {
              "outlinewidth": 0,
              "ticks": ""
             }
            },
            "type": "scatterpolargl"
           }
          ],
          "scatterternary": [
           {
            "marker": {
             "colorbar": {
              "outlinewidth": 0,
              "ticks": ""
             }
            },
            "type": "scatterternary"
           }
          ],
          "surface": [
           {
            "colorbar": {
             "outlinewidth": 0,
             "ticks": ""
            },
            "colorscale": [
             [
              0,
              "#0d0887"
             ],
             [
              0.1111111111111111,
              "#46039f"
             ],
             [
              0.2222222222222222,
              "#7201a8"
             ],
             [
              0.3333333333333333,
              "#9c179e"
             ],
             [
              0.4444444444444444,
              "#bd3786"
             ],
             [
              0.5555555555555556,
              "#d8576b"
             ],
             [
              0.6666666666666666,
              "#ed7953"
             ],
             [
              0.7777777777777778,
              "#fb9f3a"
             ],
             [
              0.8888888888888888,
              "#fdca26"
             ],
             [
              1,
              "#f0f921"
             ]
            ],
            "type": "surface"
           }
          ],
          "table": [
           {
            "cells": {
             "fill": {
              "color": "#EBF0F8"
             },
             "line": {
              "color": "white"
             }
            },
            "header": {
             "fill": {
              "color": "#C8D4E3"
             },
             "line": {
              "color": "white"
             }
            },
            "type": "table"
           }
          ]
         },
         "layout": {
          "annotationdefaults": {
           "arrowcolor": "#2a3f5f",
           "arrowhead": 0,
           "arrowwidth": 1
          },
          "autotypenumbers": "strict",
          "coloraxis": {
           "colorbar": {
            "outlinewidth": 0,
            "ticks": ""
           }
          },
          "colorscale": {
           "diverging": [
            [
             0,
             "#8e0152"
            ],
            [
             0.1,
             "#c51b7d"
            ],
            [
             0.2,
             "#de77ae"
            ],
            [
             0.3,
             "#f1b6da"
            ],
            [
             0.4,
             "#fde0ef"
            ],
            [
             0.5,
             "#f7f7f7"
            ],
            [
             0.6,
             "#e6f5d0"
            ],
            [
             0.7,
             "#b8e186"
            ],
            [
             0.8,
             "#7fbc41"
            ],
            [
             0.9,
             "#4d9221"
            ],
            [
             1,
             "#276419"
            ]
           ],
           "sequential": [
            [
             0,
             "#0d0887"
            ],
            [
             0.1111111111111111,
             "#46039f"
            ],
            [
             0.2222222222222222,
             "#7201a8"
            ],
            [
             0.3333333333333333,
             "#9c179e"
            ],
            [
             0.4444444444444444,
             "#bd3786"
            ],
            [
             0.5555555555555556,
             "#d8576b"
            ],
            [
             0.6666666666666666,
             "#ed7953"
            ],
            [
             0.7777777777777778,
             "#fb9f3a"
            ],
            [
             0.8888888888888888,
             "#fdca26"
            ],
            [
             1,
             "#f0f921"
            ]
           ],
           "sequentialminus": [
            [
             0,
             "#0d0887"
            ],
            [
             0.1111111111111111,
             "#46039f"
            ],
            [
             0.2222222222222222,
             "#7201a8"
            ],
            [
             0.3333333333333333,
             "#9c179e"
            ],
            [
             0.4444444444444444,
             "#bd3786"
            ],
            [
             0.5555555555555556,
             "#d8576b"
            ],
            [
             0.6666666666666666,
             "#ed7953"
            ],
            [
             0.7777777777777778,
             "#fb9f3a"
            ],
            [
             0.8888888888888888,
             "#fdca26"
            ],
            [
             1,
             "#f0f921"
            ]
           ]
          },
          "colorway": [
           "#636efa",
           "#EF553B",
           "#00cc96",
           "#ab63fa",
           "#FFA15A",
           "#19d3f3",
           "#FF6692",
           "#B6E880",
           "#FF97FF",
           "#FECB52"
          ],
          "font": {
           "color": "#2a3f5f"
          },
          "geo": {
           "bgcolor": "white",
           "lakecolor": "white",
           "landcolor": "#E5ECF6",
           "showlakes": true,
           "showland": true,
           "subunitcolor": "white"
          },
          "hoverlabel": {
           "align": "left"
          },
          "hovermode": "closest",
          "mapbox": {
           "style": "light"
          },
          "paper_bgcolor": "white",
          "plot_bgcolor": "#E5ECF6",
          "polar": {
           "angularaxis": {
            "gridcolor": "white",
            "linecolor": "white",
            "ticks": ""
           },
           "bgcolor": "#E5ECF6",
           "radialaxis": {
            "gridcolor": "white",
            "linecolor": "white",
            "ticks": ""
           }
          },
          "scene": {
           "xaxis": {
            "backgroundcolor": "#E5ECF6",
            "gridcolor": "white",
            "gridwidth": 2,
            "linecolor": "white",
            "showbackground": true,
            "ticks": "",
            "zerolinecolor": "white"
           },
           "yaxis": {
            "backgroundcolor": "#E5ECF6",
            "gridcolor": "white",
            "gridwidth": 2,
            "linecolor": "white",
            "showbackground": true,
            "ticks": "",
            "zerolinecolor": "white"
           },
           "zaxis": {
            "backgroundcolor": "#E5ECF6",
            "gridcolor": "white",
            "gridwidth": 2,
            "linecolor": "white",
            "showbackground": true,
            "ticks": "",
            "zerolinecolor": "white"
           }
          },
          "shapedefaults": {
           "line": {
            "color": "#2a3f5f"
           }
          },
          "ternary": {
           "aaxis": {
            "gridcolor": "white",
            "linecolor": "white",
            "ticks": ""
           },
           "baxis": {
            "gridcolor": "white",
            "linecolor": "white",
            "ticks": ""
           },
           "bgcolor": "#E5ECF6",
           "caxis": {
            "gridcolor": "white",
            "linecolor": "white",
            "ticks": ""
           }
          },
          "title": {
           "x": 0.05
          },
          "xaxis": {
           "automargin": true,
           "gridcolor": "white",
           "linecolor": "white",
           "ticks": "",
           "title": {
            "standoff": 15
           },
           "zerolinecolor": "white",
           "zerolinewidth": 2
          },
          "yaxis": {
           "automargin": true,
           "gridcolor": "white",
           "linecolor": "white",
           "ticks": "",
           "title": {
            "standoff": 15
           },
           "zerolinecolor": "white",
           "zerolinewidth": 2
          }
         }
        },
        "title": {
         "text": "Incidence in region London"
        },
        "width": 800,
        "xaxis": {
         "anchor": "y",
         "domain": [
          0,
          0.45
         ],
         "linecolor": "black"
        },
        "xaxis2": {
         "anchor": "y2",
         "domain": [
          0.55,
          1
         ],
         "linecolor": "black"
        },
        "xaxis3": {
         "linecolor": "black"
        },
        "xaxis4": {
         "linecolor": "black"
        },
        "xaxis5": {
         "linecolor": "black"
        },
        "xaxis6": {
         "linecolor": "black"
        },
        "xaxis7": {
         "linecolor": "black"
        },
        "xaxis8": {
         "linecolor": "black"
        },
        "yaxis": {
         "anchor": "x",
         "domain": [
          0,
          1
         ],
         "linecolor": "black"
        },
        "yaxis2": {
         "anchor": "x2",
         "domain": [
          0,
          1
         ],
         "linecolor": "black"
        },
        "yaxis3": {
         "linecolor": "black"
        },
        "yaxis4": {
         "linecolor": "black"
        },
        "yaxis5": {
         "linecolor": "black"
        },
        "yaxis6": {
         "linecolor": "black"
        },
        "yaxis7": {
         "linecolor": "black"
        },
        "yaxis8": {
         "linecolor": "black"
        }
       }
      }
     },
     "metadata": {},
     "output_type": "display_data"
    }
   ],
   "source": [
    "# Trace names - represent the solver used for the simulation\n",
    "trace_name = ['my-solver with delta_t = {}'.format(ts) for ts in time_steps]\n",
    "trace_name.append('scipy-solver {}'.format(scipy_method))\n",
    "\n",
    "# Compartment list - type and age\n",
    "comparments = []\n",
    "for n in model.output_names():\n",
    "    comparments.append('{} in region {}'.format(n, regions[parameters.regional_parameters.region_index-1]))\n",
    "\n",
    "# Plot for each comparment\n",
    "for c, comparment in enumerate(comparments):\n",
    "    fig = go.Figure()\n",
    "    fig = make_subplots(rows=int(np.ceil(len(age_groups)/2)), cols=2, subplot_titles=tuple('ages {}'.format(a) for a in age_groups))\n",
    "    # Plot (line plot for each solver method for each age)\n",
    "    for a, age in enumerate(age_groups):\n",
    "        if a != 0:\n",
    "            for o, out in enumerate(outputs):\n",
    "                fig.add_trace(\n",
    "                    go.Scatter(\n",
    "                        y=out[:, c*len(age_groups)+a],\n",
    "                        x=parameters.regional_parameters.times,\n",
    "                        mode='lines',\n",
    "                        name=trace_name[o],\n",
    "                        line_color=colours[o],\n",
    "                        showlegend=False\n",
    "                    ),\n",
    "                    row= int(np.floor(a / 2)) + 1,\n",
    "                    col= a % 2 + 1\n",
    "                )\n",
    "        \n",
    "        else:\n",
    "            for o, out in enumerate(outputs):\n",
    "                fig.add_trace(\n",
    "                    go.Scatter(\n",
    "                        y=out[:, c*len(age_groups)+a],\n",
    "                        x=parameters.regional_parameters.times,\n",
    "                        mode='lines',\n",
    "                        name=trace_name[o],\n",
    "                        line_color=colours[o]\n",
    "                    ),\n",
    "                    row= int(np.floor(a / 2)) + 1,\n",
    "                    col= a % 2 + 1\n",
    "                )\n",
    "\n",
    "    # Add axis labels\n",
    "    fig.update_layout(\n",
    "        boxmode='group',\n",
    "        title=comparment, \n",
    "        width=800,\n",
    "        plot_bgcolor='white',\n",
    "        xaxis=dict(linecolor='black'),\n",
    "        yaxis=dict(linecolor='black'),\n",
    "        xaxis2=dict(linecolor='black'),\n",
    "        yaxis2=dict(linecolor='black'),\n",
    "        xaxis3=dict(linecolor='black'),\n",
    "        yaxis3=dict(linecolor='black'),\n",
    "        xaxis4=dict(linecolor='black'),\n",
    "        yaxis4=dict(linecolor='black'),\n",
    "        xaxis5=dict(linecolor='black'),\n",
    "        yaxis5=dict(linecolor='black'),\n",
    "        xaxis6=dict(linecolor='black'),\n",
    "        yaxis6=dict(linecolor='black'),\n",
    "        xaxis7=dict(linecolor='black'),\n",
    "        yaxis7=dict(linecolor='black'),\n",
    "        xaxis8=dict(linecolor='black'),\n",
    "        yaxis8=dict(linecolor='black'),\n",
    "        legend=dict(\n",
    "            orientation=\"h\",\n",
    "            yanchor=\"bottom\",\n",
    "            y=1.02,\n",
    "            xanchor=\"right\",\n",
    "            x=1\n",
    "        ))\n",
    "\n",
    "    fig.show()"
   ]
  },
  {
   "cell_type": "markdown",
   "metadata": {},
   "source": [
    "### Plot the first infectious comparment for one region (London) and one age group (0-10)"
   ]
  },
  {
   "cell_type": "code",
   "execution_count": 7,
   "metadata": {},
   "outputs": [
    {
     "data": {
      "application/vnd.plotly.v1+json": {
       "config": {
        "plotlyServerURL": "https://plot.ly"
       },
       "data": [
        {
         "line": {
          "color": "blue"
         },
         "mode": "lines",
         "name": "my-solver with delta_t = 0.5",
         "type": "scatter",
         "x": [
          1,
          1.5,
          2,
          2.5,
          3,
          3.5,
          4,
          4.5,
          5,
          5.5,
          6,
          6.5,
          7,
          7.5,
          8,
          8.5,
          9,
          9.5,
          10,
          10.5,
          11,
          11.5,
          12,
          12.5,
          13,
          13.5,
          14,
          14.5,
          15,
          15.5,
          16,
          16.5,
          17,
          17.5,
          18,
          18.5,
          19,
          19.5,
          20
         ],
         "y": [
          5,
          3.75,
          2.8125,
          2.109375,
          1.969677771050564,
          2.382544703679275,
          3.194382771669161,
          4.218910706111878,
          5.291825453608139,
          6.292086105303804,
          7.144555338847452,
          7.813481022533804,
          8.29259524798721,
          8.595083368753816,
          8.745025777312751,
          8.77089453103866,
          8.701103524553393,
          8.561318759350984,
          8.373126822730558,
          8.15365845721634,
          7.915817963256601,
          7.668844528733672,
          7.419008337458117,
          7.1703118305538975,
          6.9251203596319355,
          6.684686070560248,
          6.449555669570383,
          6.219869150853006,
          5.995565202771417,
          5.71679136796126,
          5.371102770910089,
          4.969044939014737,
          4.530087856123507,
          4.074989688250741,
          3.622049257903633,
          3.1856251010428154,
          2.77590479499122,
          2.3993033502484282,
          2.0591236076315926
         ]
        },
        {
         "line": {
          "color": "red"
         },
         "mode": "lines",
         "name": "my-solver with delta_t = 0.25",
         "type": "scatter",
         "x": [
          1,
          1.5,
          2,
          2.5,
          3,
          3.5,
          4,
          4.5,
          5,
          5.5,
          6,
          6.5,
          7,
          7.5,
          8,
          8.5,
          9,
          9.5,
          10,
          10.5,
          11,
          11.5,
          12,
          12.5,
          13,
          13.5,
          14,
          14.5,
          15,
          15.5,
          16,
          16.5,
          17,
          17.5,
          18,
          18.5,
          19,
          19.5,
          20
         ],
         "y": [
          5,
          3.828125,
          2.9833288731400125,
          2.655740195843796,
          2.849517011329601,
          3.4472030687585966,
          4.295750710823467,
          5.251714918907105,
          6.201160595892443,
          7.0648407561105,
          7.795569649186323,
          8.372136592271634,
          8.792330104488599,
          9.066459435352249,
          9.21200594793238,
          9.249581819503922,
          9.200121529663537,
          9.08311168665659,
          8.91562627487691,
          8.711942410716773,
          8.483542926758187,
          8.23935188016699,
          7.986088755991369,
          7.728662170049685,
          7.470552386945786,
          7.214153687175732,
          6.961063161334574,
          6.712312903254806,
          6.439725731516831,
          6.113049579616437,
          5.730378473434831,
          5.303507276231267,
          4.8493001724923674,
          4.384895047900932,
          3.92529394974312,
          3.482387597894736,
          3.0647994043145474,
          2.678160965997352,
          2.3255811661565597
         ]
        },
        {
         "line": {
          "color": "green"
         },
         "mode": "lines",
         "name": "my-solver with delta_t = 0.05",
         "type": "scatter",
         "x": [
          1,
          1.5,
          2,
          2.5,
          3,
          3.5,
          4,
          4.5,
          5,
          5.5,
          6,
          6.5,
          7,
          7.5,
          8,
          8.5,
          9,
          9.5,
          10,
          10.5,
          11,
          11.5,
          12,
          12.5,
          13,
          13.5,
          14,
          14.5,
          15,
          15.5,
          16,
          16.5,
          17,
          17.5,
          18,
          18.5,
          19,
          19.5,
          20
         ],
         "y": [
          5,
          3.9142045366636093,
          3.311993046509299,
          3.2342595719265015,
          3.5953993653911653,
          4.2630517932268575,
          5.102708187431841,
          5.999614455341406,
          6.866887568289982,
          7.645826298160025,
          8.302286970762731,
          8.821517987460107,
          9.20284124411613,
          9.454906259966208,
          9.591824622370334,
          9.630243180385447,
          9.587278705058653,
          9.479174273124373,
          9.320520067781905,
          9.123889207050695,
          8.899759779042816,
          8.656619397505583,
          8.401173518261023,
          8.138600946442509,
          7.872818335897708,
          7.606729843770943,
          7.34244876117199,
          7.074477038093265,
          6.770304869585496,
          6.413713751533953,
          6.007744184526605,
          5.564604809109233,
          5.099643705790643,
          4.627956083308631,
          4.162662068398818,
          3.7142081418959876,
          3.2902666207646165,
          2.8959586652539104,
          2.534228479816682
         ]
        },
        {
         "line": {
          "color": "purple"
         },
         "mode": "lines",
         "name": "my-solver with delta_t = 0.001",
         "type": "scatter",
         "x": [
          1,
          1.5,
          2,
          2.5,
          3,
          3.5,
          4,
          4.5,
          5,
          5.5,
          6,
          6.5,
          7,
          7.5,
          8,
          8.5,
          9,
          9.5,
          10,
          10.5,
          11,
          11.5,
          12,
          12.5,
          13,
          13.5,
          14,
          14.5,
          15,
          15.5,
          16,
          16.5,
          17,
          17.5,
          18,
          18.5,
          19,
          19.5,
          20
         ],
         "y": [
          5,
          3.953070095638668,
          3.412752380721473,
          3.3869688813156666,
          3.779174330055718,
          4.457382111310447,
          5.292137417545824,
          6.174770659075825,
          7.023735076631685,
          7.784247728482982,
          8.424602934608917,
          8.931235055183569,
          9.303729493320613,
          9.55040363049687,
          9.684715632966185,
          9.72254281678475,
          9.680253896058659,
          9.573445863460218,
          9.41620174939768,
          9.22073316901149,
          8.997290229041843,
          8.75424398718852,
          8.498269072469315,
          8.234574070526826,
          7.96714389957089,
          7.698971471822568,
          7.432265710024979,
          7.159384004496905,
          6.848223808859705,
          6.485164624513806,
          6.07414757457846,
          5.627426844878049,
          5.160028714984148,
          4.686626086178098,
          4.219949322344359,
          3.770142774140091,
          3.344676431142919,
          2.9485595943127274,
          2.584696846023877
         ]
        },
        {
         "line": {
          "color": "orange"
         },
         "mode": "lines",
         "name": "scipy-solver RK45",
         "type": "scatter",
         "x": [
          1,
          1.5,
          2,
          2.5,
          3,
          3.5,
          4,
          4.5,
          5,
          5.5,
          6,
          6.5,
          7,
          7.5,
          8,
          8.5,
          9,
          9.5,
          10,
          10.5,
          11,
          11.5,
          12,
          12.5,
          13,
          13.5,
          14,
          14.5,
          15,
          15.5,
          16,
          16.5,
          17,
          17.5,
          18,
          18.5,
          19,
          19.5,
          20
         ],
         "y": [
          5,
          3.953932809856524,
          3.4154170631967076,
          3.3906519538360413,
          3.7834308482303145,
          4.460748597964724,
          5.296668008981841,
          6.176469465976949,
          7.026496709133266,
          7.786733990950515,
          8.425133776118432,
          8.931535719154907,
          9.303814879708964,
          9.551723269523931,
          9.687173142548804,
          9.723557642668203,
          9.680734728455468,
          9.576069921118064,
          9.421107380689465,
          9.224613640863243,
          8.9998106823153,
          8.756679450809944,
          8.501945951107167,
          8.239127768702227,
          7.97682726881422,
          7.720408616751075,
          7.454948613462973,
          7.16820914878809,
          6.851100094682959,
          6.492499079594943,
          6.081518283698068,
          5.640298291671752,
          5.1766670901226455,
          4.699149448338645,
          4.229490495394906,
          3.778435897277477,
          3.350793945168226,
          2.9525697499339696,
          2.587112937928863
         ]
        }
       ],
       "layout": {
        "boxmode": "group",
        "plot_bgcolor": "white",
        "template": {
         "data": {
          "bar": [
           {
            "error_x": {
             "color": "#2a3f5f"
            },
            "error_y": {
             "color": "#2a3f5f"
            },
            "marker": {
             "line": {
              "color": "#E5ECF6",
              "width": 0.5
             },
             "pattern": {
              "fillmode": "overlay",
              "size": 10,
              "solidity": 0.2
             }
            },
            "type": "bar"
           }
          ],
          "barpolar": [
           {
            "marker": {
             "line": {
              "color": "#E5ECF6",
              "width": 0.5
             },
             "pattern": {
              "fillmode": "overlay",
              "size": 10,
              "solidity": 0.2
             }
            },
            "type": "barpolar"
           }
          ],
          "carpet": [
           {
            "aaxis": {
             "endlinecolor": "#2a3f5f",
             "gridcolor": "white",
             "linecolor": "white",
             "minorgridcolor": "white",
             "startlinecolor": "#2a3f5f"
            },
            "baxis": {
             "endlinecolor": "#2a3f5f",
             "gridcolor": "white",
             "linecolor": "white",
             "minorgridcolor": "white",
             "startlinecolor": "#2a3f5f"
            },
            "type": "carpet"
           }
          ],
          "choropleth": [
           {
            "colorbar": {
             "outlinewidth": 0,
             "ticks": ""
            },
            "type": "choropleth"
           }
          ],
          "contour": [
           {
            "colorbar": {
             "outlinewidth": 0,
             "ticks": ""
            },
            "colorscale": [
             [
              0,
              "#0d0887"
             ],
             [
              0.1111111111111111,
              "#46039f"
             ],
             [
              0.2222222222222222,
              "#7201a8"
             ],
             [
              0.3333333333333333,
              "#9c179e"
             ],
             [
              0.4444444444444444,
              "#bd3786"
             ],
             [
              0.5555555555555556,
              "#d8576b"
             ],
             [
              0.6666666666666666,
              "#ed7953"
             ],
             [
              0.7777777777777778,
              "#fb9f3a"
             ],
             [
              0.8888888888888888,
              "#fdca26"
             ],
             [
              1,
              "#f0f921"
             ]
            ],
            "type": "contour"
           }
          ],
          "contourcarpet": [
           {
            "colorbar": {
             "outlinewidth": 0,
             "ticks": ""
            },
            "type": "contourcarpet"
           }
          ],
          "heatmap": [
           {
            "colorbar": {
             "outlinewidth": 0,
             "ticks": ""
            },
            "colorscale": [
             [
              0,
              "#0d0887"
             ],
             [
              0.1111111111111111,
              "#46039f"
             ],
             [
              0.2222222222222222,
              "#7201a8"
             ],
             [
              0.3333333333333333,
              "#9c179e"
             ],
             [
              0.4444444444444444,
              "#bd3786"
             ],
             [
              0.5555555555555556,
              "#d8576b"
             ],
             [
              0.6666666666666666,
              "#ed7953"
             ],
             [
              0.7777777777777778,
              "#fb9f3a"
             ],
             [
              0.8888888888888888,
              "#fdca26"
             ],
             [
              1,
              "#f0f921"
             ]
            ],
            "type": "heatmap"
           }
          ],
          "heatmapgl": [
           {
            "colorbar": {
             "outlinewidth": 0,
             "ticks": ""
            },
            "colorscale": [
             [
              0,
              "#0d0887"
             ],
             [
              0.1111111111111111,
              "#46039f"
             ],
             [
              0.2222222222222222,
              "#7201a8"
             ],
             [
              0.3333333333333333,
              "#9c179e"
             ],
             [
              0.4444444444444444,
              "#bd3786"
             ],
             [
              0.5555555555555556,
              "#d8576b"
             ],
             [
              0.6666666666666666,
              "#ed7953"
             ],
             [
              0.7777777777777778,
              "#fb9f3a"
             ],
             [
              0.8888888888888888,
              "#fdca26"
             ],
             [
              1,
              "#f0f921"
             ]
            ],
            "type": "heatmapgl"
           }
          ],
          "histogram": [
           {
            "marker": {
             "pattern": {
              "fillmode": "overlay",
              "size": 10,
              "solidity": 0.2
             }
            },
            "type": "histogram"
           }
          ],
          "histogram2d": [
           {
            "colorbar": {
             "outlinewidth": 0,
             "ticks": ""
            },
            "colorscale": [
             [
              0,
              "#0d0887"
             ],
             [
              0.1111111111111111,
              "#46039f"
             ],
             [
              0.2222222222222222,
              "#7201a8"
             ],
             [
              0.3333333333333333,
              "#9c179e"
             ],
             [
              0.4444444444444444,
              "#bd3786"
             ],
             [
              0.5555555555555556,
              "#d8576b"
             ],
             [
              0.6666666666666666,
              "#ed7953"
             ],
             [
              0.7777777777777778,
              "#fb9f3a"
             ],
             [
              0.8888888888888888,
              "#fdca26"
             ],
             [
              1,
              "#f0f921"
             ]
            ],
            "type": "histogram2d"
           }
          ],
          "histogram2dcontour": [
           {
            "colorbar": {
             "outlinewidth": 0,
             "ticks": ""
            },
            "colorscale": [
             [
              0,
              "#0d0887"
             ],
             [
              0.1111111111111111,
              "#46039f"
             ],
             [
              0.2222222222222222,
              "#7201a8"
             ],
             [
              0.3333333333333333,
              "#9c179e"
             ],
             [
              0.4444444444444444,
              "#bd3786"
             ],
             [
              0.5555555555555556,
              "#d8576b"
             ],
             [
              0.6666666666666666,
              "#ed7953"
             ],
             [
              0.7777777777777778,
              "#fb9f3a"
             ],
             [
              0.8888888888888888,
              "#fdca26"
             ],
             [
              1,
              "#f0f921"
             ]
            ],
            "type": "histogram2dcontour"
           }
          ],
          "mesh3d": [
           {
            "colorbar": {
             "outlinewidth": 0,
             "ticks": ""
            },
            "type": "mesh3d"
           }
          ],
          "parcoords": [
           {
            "line": {
             "colorbar": {
              "outlinewidth": 0,
              "ticks": ""
             }
            },
            "type": "parcoords"
           }
          ],
          "pie": [
           {
            "automargin": true,
            "type": "pie"
           }
          ],
          "scatter": [
           {
            "fillpattern": {
             "fillmode": "overlay",
             "size": 10,
             "solidity": 0.2
            },
            "type": "scatter"
           }
          ],
          "scatter3d": [
           {
            "line": {
             "colorbar": {
              "outlinewidth": 0,
              "ticks": ""
             }
            },
            "marker": {
             "colorbar": {
              "outlinewidth": 0,
              "ticks": ""
             }
            },
            "type": "scatter3d"
           }
          ],
          "scattercarpet": [
           {
            "marker": {
             "colorbar": {
              "outlinewidth": 0,
              "ticks": ""
             }
            },
            "type": "scattercarpet"
           }
          ],
          "scattergeo": [
           {
            "marker": {
             "colorbar": {
              "outlinewidth": 0,
              "ticks": ""
             }
            },
            "type": "scattergeo"
           }
          ],
          "scattergl": [
           {
            "marker": {
             "colorbar": {
              "outlinewidth": 0,
              "ticks": ""
             }
            },
            "type": "scattergl"
           }
          ],
          "scattermapbox": [
           {
            "marker": {
             "colorbar": {
              "outlinewidth": 0,
              "ticks": ""
             }
            },
            "type": "scattermapbox"
           }
          ],
          "scatterpolar": [
           {
            "marker": {
             "colorbar": {
              "outlinewidth": 0,
              "ticks": ""
             }
            },
            "type": "scatterpolar"
           }
          ],
          "scatterpolargl": [
           {
            "marker": {
             "colorbar": {
              "outlinewidth": 0,
              "ticks": ""
             }
            },
            "type": "scatterpolargl"
           }
          ],
          "scatterternary": [
           {
            "marker": {
             "colorbar": {
              "outlinewidth": 0,
              "ticks": ""
             }
            },
            "type": "scatterternary"
           }
          ],
          "surface": [
           {
            "colorbar": {
             "outlinewidth": 0,
             "ticks": ""
            },
            "colorscale": [
             [
              0,
              "#0d0887"
             ],
             [
              0.1111111111111111,
              "#46039f"
             ],
             [
              0.2222222222222222,
              "#7201a8"
             ],
             [
              0.3333333333333333,
              "#9c179e"
             ],
             [
              0.4444444444444444,
              "#bd3786"
             ],
             [
              0.5555555555555556,
              "#d8576b"
             ],
             [
              0.6666666666666666,
              "#ed7953"
             ],
             [
              0.7777777777777778,
              "#fb9f3a"
             ],
             [
              0.8888888888888888,
              "#fdca26"
             ],
             [
              1,
              "#f0f921"
             ]
            ],
            "type": "surface"
           }
          ],
          "table": [
           {
            "cells": {
             "fill": {
              "color": "#EBF0F8"
             },
             "line": {
              "color": "white"
             }
            },
            "header": {
             "fill": {
              "color": "#C8D4E3"
             },
             "line": {
              "color": "white"
             }
            },
            "type": "table"
           }
          ]
         },
         "layout": {
          "annotationdefaults": {
           "arrowcolor": "#2a3f5f",
           "arrowhead": 0,
           "arrowwidth": 1
          },
          "autotypenumbers": "strict",
          "coloraxis": {
           "colorbar": {
            "outlinewidth": 0,
            "ticks": ""
           }
          },
          "colorscale": {
           "diverging": [
            [
             0,
             "#8e0152"
            ],
            [
             0.1,
             "#c51b7d"
            ],
            [
             0.2,
             "#de77ae"
            ],
            [
             0.3,
             "#f1b6da"
            ],
            [
             0.4,
             "#fde0ef"
            ],
            [
             0.5,
             "#f7f7f7"
            ],
            [
             0.6,
             "#e6f5d0"
            ],
            [
             0.7,
             "#b8e186"
            ],
            [
             0.8,
             "#7fbc41"
            ],
            [
             0.9,
             "#4d9221"
            ],
            [
             1,
             "#276419"
            ]
           ],
           "sequential": [
            [
             0,
             "#0d0887"
            ],
            [
             0.1111111111111111,
             "#46039f"
            ],
            [
             0.2222222222222222,
             "#7201a8"
            ],
            [
             0.3333333333333333,
             "#9c179e"
            ],
            [
             0.4444444444444444,
             "#bd3786"
            ],
            [
             0.5555555555555556,
             "#d8576b"
            ],
            [
             0.6666666666666666,
             "#ed7953"
            ],
            [
             0.7777777777777778,
             "#fb9f3a"
            ],
            [
             0.8888888888888888,
             "#fdca26"
            ],
            [
             1,
             "#f0f921"
            ]
           ],
           "sequentialminus": [
            [
             0,
             "#0d0887"
            ],
            [
             0.1111111111111111,
             "#46039f"
            ],
            [
             0.2222222222222222,
             "#7201a8"
            ],
            [
             0.3333333333333333,
             "#9c179e"
            ],
            [
             0.4444444444444444,
             "#bd3786"
            ],
            [
             0.5555555555555556,
             "#d8576b"
            ],
            [
             0.6666666666666666,
             "#ed7953"
            ],
            [
             0.7777777777777778,
             "#fb9f3a"
            ],
            [
             0.8888888888888888,
             "#fdca26"
            ],
            [
             1,
             "#f0f921"
            ]
           ]
          },
          "colorway": [
           "#636efa",
           "#EF553B",
           "#00cc96",
           "#ab63fa",
           "#FFA15A",
           "#19d3f3",
           "#FF6692",
           "#B6E880",
           "#FF97FF",
           "#FECB52"
          ],
          "font": {
           "color": "#2a3f5f"
          },
          "geo": {
           "bgcolor": "white",
           "lakecolor": "white",
           "landcolor": "#E5ECF6",
           "showlakes": true,
           "showland": true,
           "subunitcolor": "white"
          },
          "hoverlabel": {
           "align": "left"
          },
          "hovermode": "closest",
          "mapbox": {
           "style": "light"
          },
          "paper_bgcolor": "white",
          "plot_bgcolor": "#E5ECF6",
          "polar": {
           "angularaxis": {
            "gridcolor": "white",
            "linecolor": "white",
            "ticks": ""
           },
           "bgcolor": "#E5ECF6",
           "radialaxis": {
            "gridcolor": "white",
            "linecolor": "white",
            "ticks": ""
           }
          },
          "scene": {
           "xaxis": {
            "backgroundcolor": "#E5ECF6",
            "gridcolor": "white",
            "gridwidth": 2,
            "linecolor": "white",
            "showbackground": true,
            "ticks": "",
            "zerolinecolor": "white"
           },
           "yaxis": {
            "backgroundcolor": "#E5ECF6",
            "gridcolor": "white",
            "gridwidth": 2,
            "linecolor": "white",
            "showbackground": true,
            "ticks": "",
            "zerolinecolor": "white"
           },
           "zaxis": {
            "backgroundcolor": "#E5ECF6",
            "gridcolor": "white",
            "gridwidth": 2,
            "linecolor": "white",
            "showbackground": true,
            "ticks": "",
            "zerolinecolor": "white"
           }
          },
          "shapedefaults": {
           "line": {
            "color": "#2a3f5f"
           }
          },
          "ternary": {
           "aaxis": {
            "gridcolor": "white",
            "linecolor": "white",
            "ticks": ""
           },
           "baxis": {
            "gridcolor": "white",
            "linecolor": "white",
            "ticks": ""
           },
           "bgcolor": "#E5ECF6",
           "caxis": {
            "gridcolor": "white",
            "linecolor": "white",
            "ticks": ""
           }
          },
          "title": {
           "x": 0.05
          },
          "xaxis": {
           "automargin": true,
           "gridcolor": "white",
           "linecolor": "white",
           "ticks": "",
           "title": {
            "standoff": 15
           },
           "zerolinecolor": "white",
           "zerolinewidth": 2
          },
          "yaxis": {
           "automargin": true,
           "gridcolor": "white",
           "linecolor": "white",
           "ticks": "",
           "title": {
            "standoff": 15
           },
           "zerolinecolor": "white",
           "zerolinewidth": 2
          }
         }
        },
        "title": {
         "text": "I1 in region London for ages 0-10"
        },
        "xaxis": {
         "linecolor": "black"
        },
        "yaxis": {
         "linecolor": "black"
        }
       }
      }
     },
     "metadata": {},
     "output_type": "display_data"
    }
   ],
   "source": [
    "# Trace names - represent the solver used for the simulation\n",
    "trace_name = ['my-solver with delta_t = {}'.format(ts) for ts in time_steps]\n",
    "trace_name.append('scipy-solver {}'.format(scipy_method))\n",
    "\n",
    "# Compartment list - type and age\n",
    "fig = go.Figure()\n",
    "\n",
    "# Plot (line plot for each method of simulation)\n",
    "for o, out in enumerate(outputs):\n",
    "    fig.add_trace(\n",
    "        go.Scatter(\n",
    "            y=out[:, 3*len(age_groups)],\n",
    "            x=parameters.regional_parameters.times,\n",
    "            mode='lines',\n",
    "            name=trace_name[o],\n",
    "            line_color=colours[o]\n",
    "        )\n",
    "    )\n",
    "\n",
    "# Add axis labels\n",
    "fig.update_layout(\n",
    "    boxmode='group',\n",
    "    title='I1 in region {} for ages {}'. format(regions[0], age_groups[0]),\n",
    "    plot_bgcolor='white',\n",
    "    xaxis=dict(linecolor='black'),\n",
    "    yaxis=dict(linecolor='black'),\n",
    "    )\n",
    "\n",
    "fig.write_image('images/Toy.pdf')\n",
    "fig.show()\n"
   ]
  },
  {
   "cell_type": "markdown",
   "metadata": {},
   "source": [
    "## Varying rtol and atol"
   ]
  },
  {
   "cell_type": "code",
   "execution_count": 14,
   "metadata": {},
   "outputs": [],
   "source": [
    "# Simulate using the ODE solver from scipy\n",
    "scipy_method = 'RK45'\n",
    "\n",
    "# Use different tolerance levels\n",
    "outputs_scipy_solver = []\n",
    "rtol_range = [1e-4, 1e-3, 1e-2]\n",
    "atol_range = [1e-7, 1e-6, 1e-5]\n",
    "\n",
    "parameters.simulation_parameters.method = scipy_method\n",
    "\n",
    "for rtol, atol in [(rtol, atol) for rtol in rtol_range for atol in atol_range]:\n",
    "    parameters.simulation_parameters.method = scipy_method\n",
    "    outputs_scipy_solver.append(model.simulate(parameters, rtol=rtol, atol=atol))"
   ]
  },
  {
   "cell_type": "code",
   "execution_count": 17,
   "metadata": {},
   "outputs": [
    {
     "data": {
      "application/vnd.plotly.v1+json": {
       "config": {
        "plotlyServerURL": "https://plot.ly"
       },
       "data": [
        {
         "line": {
          "color": "blue"
         },
         "mode": "lines",
         "name": "scipy-solver RK45, rtol = 0.0001, atol = 1e-07",
         "type": "scatter",
         "x": [
          1,
          1.5,
          2,
          2.5,
          3,
          3.5,
          4,
          4.5,
          5,
          5.5,
          6,
          6.5,
          7,
          7.5,
          8,
          8.5,
          9,
          9.5,
          10,
          10.5,
          11,
          11.5,
          12,
          12.5,
          13,
          13.5,
          14,
          14.5,
          15,
          15.5,
          16,
          16.5,
          17,
          17.5,
          18,
          18.5,
          19,
          19.5,
          20
         ],
         "y": [
          5,
          3.953973890183725,
          3.414976129606551,
          3.3901408642350592,
          3.782829819024058,
          4.4613952423867484,
          5.295895594483796,
          6.178260585851309,
          7.026769960638324,
          7.786958308012554,
          8.426921047251792,
          8.933273640571771,
          9.305792725041684,
          9.552181363840367,
          9.68658345783578,
          9.724636532067647,
          9.6820944891049,
          9.575475814278073,
          9.418458752934054,
          9.222802719300025,
          8.999367272655695,
          8.756501705711248,
          8.500438978746057,
          8.2366471090345,
          7.969161318213552,
          7.700941203539079,
          7.434128118516888,
          7.158675139608362,
          6.842575688624299,
          6.475129748773674,
          6.05918167393299,
          5.609147672603946,
          5.138989727877667,
          4.664415556168543,
          4.197258045710996,
          3.7476754930126974,
          3.323150943537353,
          2.928227985369294,
          2.565826102959373
         ]
        },
        {
         "line": {
          "color": "red"
         },
         "mode": "lines",
         "name": "scipy-solver RK45, rtol = 0.0001, atol = 1e-06",
         "type": "scatter",
         "x": [
          1,
          1.5,
          2,
          2.5,
          3,
          3.5,
          4,
          4.5,
          5,
          5.5,
          6,
          6.5,
          7,
          7.5,
          8,
          8.5,
          9,
          9.5,
          10,
          10.5,
          11,
          11.5,
          12,
          12.5,
          13,
          13.5,
          14,
          14.5,
          15,
          15.5,
          16,
          16.5,
          17,
          17.5,
          18,
          18.5,
          19,
          19.5,
          20
         ],
         "y": [
          5,
          3.953971922617935,
          3.4149650403189495,
          3.390106786722498,
          3.782851927793657,
          4.461411238336331,
          5.29585843452886,
          6.1782962932744745,
          7.026749976757187,
          7.786963696666774,
          8.42693930002882,
          8.933250973709548,
          9.305782869510518,
          9.552222995416914,
          9.686529545962797,
          9.724662360802089,
          9.682131540418109,
          9.575418245096854,
          9.41848019235756,
          9.222842899021025,
          8.99934668531407,
          8.756472331886744,
          8.500452219342305,
          8.236660927190949,
          7.969158356048371,
          7.700939816942619,
          7.434124191623142,
          7.160481001279316,
          6.848403243337032,
          6.4851175260700495,
          6.072999025412045,
          5.625864416405917,
          5.157709989621017,
          4.684283693224829,
          4.2174009414896325,
          3.7675513810161716,
          3.3422596018533595,
          2.946243504321669,
          2.582540155133191
         ]
        },
        {
         "line": {
          "color": "green"
         },
         "mode": "lines",
         "name": "scipy-solver RK45, rtol = 0.0001, atol = 1e-05",
         "type": "scatter",
         "x": [
          1,
          1.5,
          2,
          2.5,
          3,
          3.5,
          4,
          4.5,
          5,
          5.5,
          6,
          6.5,
          7,
          7.5,
          8,
          8.5,
          9,
          9.5,
          10,
          10.5,
          11,
          11.5,
          12,
          12.5,
          13,
          13.5,
          14,
          14.5,
          15,
          15.5,
          16,
          16.5,
          17,
          17.5,
          18,
          18.5,
          19,
          19.5,
          20
         ],
         "y": [
          5,
          3.9539466620840615,
          3.4148715435555763,
          3.3900641218359553,
          3.7829886337367347,
          4.461352227484589,
          5.295823701682302,
          6.178327147041099,
          7.026710755808656,
          7.786905120951124,
          8.426963088433876,
          8.933271500363839,
          9.30564189032661,
          9.552440693970501,
          9.686452593458863,
          9.724491666234947,
          9.682386338848673,
          9.575348679832471,
          9.41828871321973,
          9.223019076853404,
          8.999411224132603,
          8.756324855966934,
          8.500467289375376,
          8.236687940736493,
          7.969141571640053,
          7.7008714813272805,
          7.4342071543830475,
          7.159632390605188,
          6.845166789382203,
          6.478742450892143,
          6.0653194398677,
          5.615969262489478,
          5.147245778883712,
          4.6726910855849315,
          4.205783223666643,
          3.7561915458223334,
          3.3311708251228063,
          2.9358592076152217,
          2.572909031086328
         ]
        },
        {
         "line": {
          "color": "purple"
         },
         "mode": "lines",
         "name": "scipy-solver RK45, rtol = 0.001, atol = 1e-07",
         "type": "scatter",
         "x": [
          1,
          1.5,
          2,
          2.5,
          3,
          3.5,
          4,
          4.5,
          5,
          5.5,
          6,
          6.5,
          7,
          7.5,
          8,
          8.5,
          9,
          9.5,
          10,
          10.5,
          11,
          11.5,
          12,
          12.5,
          13,
          13.5,
          14,
          14.5,
          15,
          15.5,
          16,
          16.5,
          17,
          17.5,
          18,
          18.5,
          19,
          19.5,
          20
         ],
         "y": [
          5,
          3.9539329928623688,
          3.41539566112267,
          3.39069393606462,
          3.783387335316446,
          4.4607918405746405,
          5.2966446723974085,
          6.176467384476273,
          7.0265341373858385,
          7.786713616625233,
          8.425124352172746,
          8.931524116508848,
          9.303839463882515,
          9.551753703534843,
          9.6871504684226,
          9.723500253490645,
          9.68074925423237,
          9.576143597907771,
          9.421110426478327,
          9.224557579209344,
          8.99977403690888,
          8.756696726691496,
          8.501999815595402,
          8.239125402745081,
          7.977247900877301,
          7.720737540922745,
          7.45462387338238,
          7.166776356242302,
          6.848199322653563,
          6.4872550356965695,
          6.074354013692969,
          5.631760310483305,
          5.166657700811238,
          4.688526844134551,
          4.218764509880395,
          3.7678829285171487,
          3.340595274417699,
          2.942965479761737,
          2.5782136486931
         ]
        },
        {
         "line": {
          "color": "orange"
         },
         "mode": "lines",
         "name": "scipy-solver RK45, rtol = 0.001, atol = 1e-06",
         "type": "scatter",
         "x": [
          1,
          1.5,
          2,
          2.5,
          3,
          3.5,
          4,
          4.5,
          5,
          5.5,
          6,
          6.5,
          7,
          7.5,
          8,
          8.5,
          9,
          9.5,
          10,
          10.5,
          11,
          11.5,
          12,
          12.5,
          13,
          13.5,
          14,
          14.5,
          15,
          15.5,
          16,
          16.5,
          17,
          17.5,
          18,
          18.5,
          19,
          19.5,
          20
         ],
         "y": [
          5,
          3.953932809856524,
          3.4154170631967076,
          3.3906519538360413,
          3.7834308482303145,
          4.460748597964724,
          5.296668008981841,
          6.176469465976949,
          7.026496709133266,
          7.786733990950515,
          8.425133776118432,
          8.931535719154907,
          9.303814879708964,
          9.551723269523931,
          9.687173142548804,
          9.723557642668203,
          9.680734728455468,
          9.576069921118064,
          9.421107380689465,
          9.224613640863243,
          8.9998106823153,
          8.756679450809944,
          8.501945951107167,
          8.239127768702227,
          7.97682726881422,
          7.720408616751075,
          7.454948613462973,
          7.16820914878809,
          6.851100094682959,
          6.492499079594943,
          6.081518283698068,
          5.640298291671752,
          5.1766670901226455,
          4.699149448338645,
          4.229490495394906,
          3.778435897277477,
          3.350793945168226,
          2.9525697499339696,
          2.587112937928863
         ]
        },
        {
         "line": {
          "color": "gray"
         },
         "mode": "lines",
         "name": "scipy-solver RK45, rtol = 0.001, atol = 1e-05",
         "type": "scatter",
         "x": [
          1,
          1.5,
          2,
          2.5,
          3,
          3.5,
          4,
          4.5,
          5,
          5.5,
          6,
          6.5,
          7,
          7.5,
          8,
          8.5,
          9,
          9.5,
          10,
          10.5,
          11,
          11.5,
          12,
          12.5,
          13,
          13.5,
          14,
          14.5,
          15,
          15.5,
          16,
          16.5,
          17,
          17.5,
          18,
          18.5,
          19,
          19.5,
          20
         ],
         "y": [
          5,
          3.953933684237181,
          3.4155751974206874,
          3.390331732481279,
          3.783734797906398,
          4.4604396778048025,
          5.29679526324228,
          6.1765899006847915,
          7.026205834309571,
          7.786835708094484,
          8.425284920241582,
          8.931646476652082,
          9.30365753586072,
          9.551463742041062,
          9.68724066077188,
          9.724021542574677,
          9.680703459714797,
          9.575532986800457,
          9.420938013143004,
          9.225017966785636,
          9.000124907278312,
          8.756613338904987,
          8.50156197659586,
          8.239018971906964,
          7.973967317239029,
          7.717518227954782,
          7.456416542715832,
          7.177581654776775,
          6.871176858162216,
          6.529119278463552,
          6.133791558850772,
          5.703273010542092,
          5.2505609272236775,
          4.7790002492222365,
          4.310615794701655,
          3.8584588875592343,
          3.428466380114006,
          3.025921881493113,
          2.6552409951003635
         ]
        },
        {
         "line": {
          "color": "pink"
         },
         "mode": "lines",
         "name": "scipy-solver RK45, rtol = 0.01, atol = 1e-07",
         "type": "scatter",
         "x": [
          1,
          1.5,
          2,
          2.5,
          3,
          3.5,
          4,
          4.5,
          5,
          5.5,
          6,
          6.5,
          7,
          7.5,
          8,
          8.5,
          9,
          9.5,
          10,
          10.5,
          11,
          11.5,
          12,
          12.5,
          13,
          13.5,
          14,
          14.5,
          15,
          15.5,
          16,
          16.5,
          17,
          17.5,
          18,
          18.5,
          19,
          19.5,
          20
         ],
         "y": [
          5,
          3.9542847723765737,
          3.4211655723531114,
          3.4044280139130247,
          3.7741546264528596,
          4.460848075917871,
          5.304634842892409,
          6.169697709343473,
          7.012174139148671,
          7.783347552788038,
          8.427201399951242,
          8.925565532505573,
          9.28855310973345,
          9.539429329866628,
          9.668469247929902,
          9.704469255178381,
          9.67113397403943,
          9.581490815302256,
          9.437889978117918,
          9.240014310564094,
          9.008835371030356,
          8.759865724247865,
          8.503448736965217,
          8.245172345925013,
          7.985869057863864,
          7.721615949512385,
          7.47964482061309,
          7.241441628530185,
          6.819787138134249,
          6.386270882719087,
          5.9797286672939185,
          5.537508485780541,
          5.074032418253331,
          4.591599131080024,
          4.11531273525656,
          3.6704994417332073,
          3.2671395849688176,
          2.8998676229308216,
          2.547972137095236
         ]
        },
        {
         "line": {
          "color": "skyblue"
         },
         "mode": "lines",
         "name": "scipy-solver RK45, rtol = 0.01, atol = 1e-06",
         "type": "scatter",
         "x": [
          1,
          1.5,
          2,
          2.5,
          3,
          3.5,
          4,
          4.5,
          5,
          5.5,
          6,
          6.5,
          7,
          7.5,
          8,
          8.5,
          9,
          9.5,
          10,
          10.5,
          11,
          11.5,
          12,
          12.5,
          13,
          13.5,
          14,
          14.5,
          15,
          15.5,
          16,
          16.5,
          17,
          17.5,
          18,
          18.5,
          19,
          19.5,
          20
         ],
         "y": [
          5,
          3.9542872355965004,
          3.4211423487658013,
          3.4044581084128507,
          3.774177244472381,
          4.460801125577809,
          5.304639075440583,
          6.169743314747438,
          7.012145595900379,
          7.783312400231354,
          8.427194015218475,
          8.925596291852482,
          9.288568632503686,
          9.539446024374298,
          9.668493909681356,
          9.704461240002544,
          9.671089679337381,
          9.581438903661986,
          9.437886600929081,
          9.240054361075511,
          9.008882701108774,
          8.759898153433994,
          8.50345109094234,
          8.245142979359947,
          7.985826377247917,
          7.7216049360023264,
          7.479245933428233,
          7.2417314921459495,
          6.820916509800939,
          6.386939596238229,
          5.9806952108408895,
          5.53868012510697,
          5.07538063426542,
          4.593135781308664,
          4.11689591743438,
          3.6719989622272893,
          3.2684665323581803,
          2.9010039415839115,
          2.549000200747411
         ]
        },
        {
         "line": {
          "color": "black"
         },
         "mode": "lines",
         "name": "scipy-solver RK45, rtol = 0.01, atol = 1e-05",
         "type": "scatter",
         "x": [
          1,
          1.5,
          2,
          2.5,
          3,
          3.5,
          4,
          4.5,
          5,
          5.5,
          6,
          6.5,
          7,
          7.5,
          8,
          8.5,
          9,
          9.5,
          10,
          10.5,
          11,
          11.5,
          12,
          12.5,
          13,
          13.5,
          14,
          14.5,
          15,
          15.5,
          16,
          16.5,
          17,
          17.5,
          18,
          18.5,
          19,
          19.5,
          20
         ],
         "y": [
          5,
          3.954311518712169,
          3.420917503626987,
          3.404742606584121,
          3.774404684081701,
          4.460349453551137,
          5.304672195840485,
          6.170182496012236,
          7.0118744754442055,
          7.782974043171548,
          8.427116342289704,
          8.925885540020507,
          9.288728316753057,
          9.539600860142425,
          9.668735887402459,
          9.704392525829249,
          9.670668802996465,
          9.580935811502153,
          9.43783770896873,
          9.240434342349735,
          9.00933698728212,
          8.760214656486148,
          8.503482538511593,
          8.244869484829058,
          7.985418009829983,
          7.721484290826642,
          7.475438832118188,
          7.2442385690880675,
          6.831695315909816,
          6.393265767960752,
          5.989911736668942,
          5.549881630215984,
          5.088257278267691,
          4.607833513238543,
          4.1320656735504535,
          3.6863982990369566,
          3.2812416990417788,
          2.9119716281428376,
          2.5589292861522392
         ]
        }
       ],
       "layout": {
        "boxmode": "group",
        "plot_bgcolor": "white",
        "template": {
         "data": {
          "bar": [
           {
            "error_x": {
             "color": "#2a3f5f"
            },
            "error_y": {
             "color": "#2a3f5f"
            },
            "marker": {
             "line": {
              "color": "#E5ECF6",
              "width": 0.5
             },
             "pattern": {
              "fillmode": "overlay",
              "size": 10,
              "solidity": 0.2
             }
            },
            "type": "bar"
           }
          ],
          "barpolar": [
           {
            "marker": {
             "line": {
              "color": "#E5ECF6",
              "width": 0.5
             },
             "pattern": {
              "fillmode": "overlay",
              "size": 10,
              "solidity": 0.2
             }
            },
            "type": "barpolar"
           }
          ],
          "carpet": [
           {
            "aaxis": {
             "endlinecolor": "#2a3f5f",
             "gridcolor": "white",
             "linecolor": "white",
             "minorgridcolor": "white",
             "startlinecolor": "#2a3f5f"
            },
            "baxis": {
             "endlinecolor": "#2a3f5f",
             "gridcolor": "white",
             "linecolor": "white",
             "minorgridcolor": "white",
             "startlinecolor": "#2a3f5f"
            },
            "type": "carpet"
           }
          ],
          "choropleth": [
           {
            "colorbar": {
             "outlinewidth": 0,
             "ticks": ""
            },
            "type": "choropleth"
           }
          ],
          "contour": [
           {
            "colorbar": {
             "outlinewidth": 0,
             "ticks": ""
            },
            "colorscale": [
             [
              0,
              "#0d0887"
             ],
             [
              0.1111111111111111,
              "#46039f"
             ],
             [
              0.2222222222222222,
              "#7201a8"
             ],
             [
              0.3333333333333333,
              "#9c179e"
             ],
             [
              0.4444444444444444,
              "#bd3786"
             ],
             [
              0.5555555555555556,
              "#d8576b"
             ],
             [
              0.6666666666666666,
              "#ed7953"
             ],
             [
              0.7777777777777778,
              "#fb9f3a"
             ],
             [
              0.8888888888888888,
              "#fdca26"
             ],
             [
              1,
              "#f0f921"
             ]
            ],
            "type": "contour"
           }
          ],
          "contourcarpet": [
           {
            "colorbar": {
             "outlinewidth": 0,
             "ticks": ""
            },
            "type": "contourcarpet"
           }
          ],
          "heatmap": [
           {
            "colorbar": {
             "outlinewidth": 0,
             "ticks": ""
            },
            "colorscale": [
             [
              0,
              "#0d0887"
             ],
             [
              0.1111111111111111,
              "#46039f"
             ],
             [
              0.2222222222222222,
              "#7201a8"
             ],
             [
              0.3333333333333333,
              "#9c179e"
             ],
             [
              0.4444444444444444,
              "#bd3786"
             ],
             [
              0.5555555555555556,
              "#d8576b"
             ],
             [
              0.6666666666666666,
              "#ed7953"
             ],
             [
              0.7777777777777778,
              "#fb9f3a"
             ],
             [
              0.8888888888888888,
              "#fdca26"
             ],
             [
              1,
              "#f0f921"
             ]
            ],
            "type": "heatmap"
           }
          ],
          "heatmapgl": [
           {
            "colorbar": {
             "outlinewidth": 0,
             "ticks": ""
            },
            "colorscale": [
             [
              0,
              "#0d0887"
             ],
             [
              0.1111111111111111,
              "#46039f"
             ],
             [
              0.2222222222222222,
              "#7201a8"
             ],
             [
              0.3333333333333333,
              "#9c179e"
             ],
             [
              0.4444444444444444,
              "#bd3786"
             ],
             [
              0.5555555555555556,
              "#d8576b"
             ],
             [
              0.6666666666666666,
              "#ed7953"
             ],
             [
              0.7777777777777778,
              "#fb9f3a"
             ],
             [
              0.8888888888888888,
              "#fdca26"
             ],
             [
              1,
              "#f0f921"
             ]
            ],
            "type": "heatmapgl"
           }
          ],
          "histogram": [
           {
            "marker": {
             "pattern": {
              "fillmode": "overlay",
              "size": 10,
              "solidity": 0.2
             }
            },
            "type": "histogram"
           }
          ],
          "histogram2d": [
           {
            "colorbar": {
             "outlinewidth": 0,
             "ticks": ""
            },
            "colorscale": [
             [
              0,
              "#0d0887"
             ],
             [
              0.1111111111111111,
              "#46039f"
             ],
             [
              0.2222222222222222,
              "#7201a8"
             ],
             [
              0.3333333333333333,
              "#9c179e"
             ],
             [
              0.4444444444444444,
              "#bd3786"
             ],
             [
              0.5555555555555556,
              "#d8576b"
             ],
             [
              0.6666666666666666,
              "#ed7953"
             ],
             [
              0.7777777777777778,
              "#fb9f3a"
             ],
             [
              0.8888888888888888,
              "#fdca26"
             ],
             [
              1,
              "#f0f921"
             ]
            ],
            "type": "histogram2d"
           }
          ],
          "histogram2dcontour": [
           {
            "colorbar": {
             "outlinewidth": 0,
             "ticks": ""
            },
            "colorscale": [
             [
              0,
              "#0d0887"
             ],
             [
              0.1111111111111111,
              "#46039f"
             ],
             [
              0.2222222222222222,
              "#7201a8"
             ],
             [
              0.3333333333333333,
              "#9c179e"
             ],
             [
              0.4444444444444444,
              "#bd3786"
             ],
             [
              0.5555555555555556,
              "#d8576b"
             ],
             [
              0.6666666666666666,
              "#ed7953"
             ],
             [
              0.7777777777777778,
              "#fb9f3a"
             ],
             [
              0.8888888888888888,
              "#fdca26"
             ],
             [
              1,
              "#f0f921"
             ]
            ],
            "type": "histogram2dcontour"
           }
          ],
          "mesh3d": [
           {
            "colorbar": {
             "outlinewidth": 0,
             "ticks": ""
            },
            "type": "mesh3d"
           }
          ],
          "parcoords": [
           {
            "line": {
             "colorbar": {
              "outlinewidth": 0,
              "ticks": ""
             }
            },
            "type": "parcoords"
           }
          ],
          "pie": [
           {
            "automargin": true,
            "type": "pie"
           }
          ],
          "scatter": [
           {
            "fillpattern": {
             "fillmode": "overlay",
             "size": 10,
             "solidity": 0.2
            },
            "type": "scatter"
           }
          ],
          "scatter3d": [
           {
            "line": {
             "colorbar": {
              "outlinewidth": 0,
              "ticks": ""
             }
            },
            "marker": {
             "colorbar": {
              "outlinewidth": 0,
              "ticks": ""
             }
            },
            "type": "scatter3d"
           }
          ],
          "scattercarpet": [
           {
            "marker": {
             "colorbar": {
              "outlinewidth": 0,
              "ticks": ""
             }
            },
            "type": "scattercarpet"
           }
          ],
          "scattergeo": [
           {
            "marker": {
             "colorbar": {
              "outlinewidth": 0,
              "ticks": ""
             }
            },
            "type": "scattergeo"
           }
          ],
          "scattergl": [
           {
            "marker": {
             "colorbar": {
              "outlinewidth": 0,
              "ticks": ""
             }
            },
            "type": "scattergl"
           }
          ],
          "scattermapbox": [
           {
            "marker": {
             "colorbar": {
              "outlinewidth": 0,
              "ticks": ""
             }
            },
            "type": "scattermapbox"
           }
          ],
          "scatterpolar": [
           {
            "marker": {
             "colorbar": {
              "outlinewidth": 0,
              "ticks": ""
             }
            },
            "type": "scatterpolar"
           }
          ],
          "scatterpolargl": [
           {
            "marker": {
             "colorbar": {
              "outlinewidth": 0,
              "ticks": ""
             }
            },
            "type": "scatterpolargl"
           }
          ],
          "scatterternary": [
           {
            "marker": {
             "colorbar": {
              "outlinewidth": 0,
              "ticks": ""
             }
            },
            "type": "scatterternary"
           }
          ],
          "surface": [
           {
            "colorbar": {
             "outlinewidth": 0,
             "ticks": ""
            },
            "colorscale": [
             [
              0,
              "#0d0887"
             ],
             [
              0.1111111111111111,
              "#46039f"
             ],
             [
              0.2222222222222222,
              "#7201a8"
             ],
             [
              0.3333333333333333,
              "#9c179e"
             ],
             [
              0.4444444444444444,
              "#bd3786"
             ],
             [
              0.5555555555555556,
              "#d8576b"
             ],
             [
              0.6666666666666666,
              "#ed7953"
             ],
             [
              0.7777777777777778,
              "#fb9f3a"
             ],
             [
              0.8888888888888888,
              "#fdca26"
             ],
             [
              1,
              "#f0f921"
             ]
            ],
            "type": "surface"
           }
          ],
          "table": [
           {
            "cells": {
             "fill": {
              "color": "#EBF0F8"
             },
             "line": {
              "color": "white"
             }
            },
            "header": {
             "fill": {
              "color": "#C8D4E3"
             },
             "line": {
              "color": "white"
             }
            },
            "type": "table"
           }
          ]
         },
         "layout": {
          "annotationdefaults": {
           "arrowcolor": "#2a3f5f",
           "arrowhead": 0,
           "arrowwidth": 1
          },
          "autotypenumbers": "strict",
          "coloraxis": {
           "colorbar": {
            "outlinewidth": 0,
            "ticks": ""
           }
          },
          "colorscale": {
           "diverging": [
            [
             0,
             "#8e0152"
            ],
            [
             0.1,
             "#c51b7d"
            ],
            [
             0.2,
             "#de77ae"
            ],
            [
             0.3,
             "#f1b6da"
            ],
            [
             0.4,
             "#fde0ef"
            ],
            [
             0.5,
             "#f7f7f7"
            ],
            [
             0.6,
             "#e6f5d0"
            ],
            [
             0.7,
             "#b8e186"
            ],
            [
             0.8,
             "#7fbc41"
            ],
            [
             0.9,
             "#4d9221"
            ],
            [
             1,
             "#276419"
            ]
           ],
           "sequential": [
            [
             0,
             "#0d0887"
            ],
            [
             0.1111111111111111,
             "#46039f"
            ],
            [
             0.2222222222222222,
             "#7201a8"
            ],
            [
             0.3333333333333333,
             "#9c179e"
            ],
            [
             0.4444444444444444,
             "#bd3786"
            ],
            [
             0.5555555555555556,
             "#d8576b"
            ],
            [
             0.6666666666666666,
             "#ed7953"
            ],
            [
             0.7777777777777778,
             "#fb9f3a"
            ],
            [
             0.8888888888888888,
             "#fdca26"
            ],
            [
             1,
             "#f0f921"
            ]
           ],
           "sequentialminus": [
            [
             0,
             "#0d0887"
            ],
            [
             0.1111111111111111,
             "#46039f"
            ],
            [
             0.2222222222222222,
             "#7201a8"
            ],
            [
             0.3333333333333333,
             "#9c179e"
            ],
            [
             0.4444444444444444,
             "#bd3786"
            ],
            [
             0.5555555555555556,
             "#d8576b"
            ],
            [
             0.6666666666666666,
             "#ed7953"
            ],
            [
             0.7777777777777778,
             "#fb9f3a"
            ],
            [
             0.8888888888888888,
             "#fdca26"
            ],
            [
             1,
             "#f0f921"
            ]
           ]
          },
          "colorway": [
           "#636efa",
           "#EF553B",
           "#00cc96",
           "#ab63fa",
           "#FFA15A",
           "#19d3f3",
           "#FF6692",
           "#B6E880",
           "#FF97FF",
           "#FECB52"
          ],
          "font": {
           "color": "#2a3f5f"
          },
          "geo": {
           "bgcolor": "white",
           "lakecolor": "white",
           "landcolor": "#E5ECF6",
           "showlakes": true,
           "showland": true,
           "subunitcolor": "white"
          },
          "hoverlabel": {
           "align": "left"
          },
          "hovermode": "closest",
          "mapbox": {
           "style": "light"
          },
          "paper_bgcolor": "white",
          "plot_bgcolor": "#E5ECF6",
          "polar": {
           "angularaxis": {
            "gridcolor": "white",
            "linecolor": "white",
            "ticks": ""
           },
           "bgcolor": "#E5ECF6",
           "radialaxis": {
            "gridcolor": "white",
            "linecolor": "white",
            "ticks": ""
           }
          },
          "scene": {
           "xaxis": {
            "backgroundcolor": "#E5ECF6",
            "gridcolor": "white",
            "gridwidth": 2,
            "linecolor": "white",
            "showbackground": true,
            "ticks": "",
            "zerolinecolor": "white"
           },
           "yaxis": {
            "backgroundcolor": "#E5ECF6",
            "gridcolor": "white",
            "gridwidth": 2,
            "linecolor": "white",
            "showbackground": true,
            "ticks": "",
            "zerolinecolor": "white"
           },
           "zaxis": {
            "backgroundcolor": "#E5ECF6",
            "gridcolor": "white",
            "gridwidth": 2,
            "linecolor": "white",
            "showbackground": true,
            "ticks": "",
            "zerolinecolor": "white"
           }
          },
          "shapedefaults": {
           "line": {
            "color": "#2a3f5f"
           }
          },
          "ternary": {
           "aaxis": {
            "gridcolor": "white",
            "linecolor": "white",
            "ticks": ""
           },
           "baxis": {
            "gridcolor": "white",
            "linecolor": "white",
            "ticks": ""
           },
           "bgcolor": "#E5ECF6",
           "caxis": {
            "gridcolor": "white",
            "linecolor": "white",
            "ticks": ""
           }
          },
          "title": {
           "x": 0.05
          },
          "xaxis": {
           "automargin": true,
           "gridcolor": "white",
           "linecolor": "white",
           "ticks": "",
           "title": {
            "standoff": 15
           },
           "zerolinecolor": "white",
           "zerolinewidth": 2
          },
          "yaxis": {
           "automargin": true,
           "gridcolor": "white",
           "linecolor": "white",
           "ticks": "",
           "title": {
            "standoff": 15
           },
           "zerolinecolor": "white",
           "zerolinewidth": 2
          }
         }
        },
        "title": {
         "text": "I1 in region London for ages 0-10"
        },
        "xaxis": {
         "linecolor": "black"
        },
        "yaxis": {
         "linecolor": "black"
        }
       }
      }
     },
     "metadata": {},
     "output_type": "display_data"
    }
   ],
   "source": [
    "# Trace names - represent the solver used for the simulation\n",
    "trace_name = ['scipy-solver {}, rtol = {}, atol = {}'.format(scipy_method, rtol, atol) for rtol, atol in [(rtol, atol) for rtol in rtol_range for atol in atol_range]]\n",
    "\n",
    "# Compartment list - type and age\n",
    "fig = go.Figure()\n",
    "\n",
    "# Plot (line plot for each method of simulation)\n",
    "for o, out in enumerate(outputs_scipy_solver):\n",
    "    fig.add_trace(\n",
    "        go.Scatter(\n",
    "            y=out[:, 3*len(age_groups)],\n",
    "            x=parameters.regional_parameters.times,\n",
    "            mode='lines',\n",
    "            name=trace_name[o],\n",
    "            line_color=colours[o]\n",
    "        )\n",
    "    )\n",
    "\n",
    "# Add axis labels\n",
    "fig.update_layout(\n",
    "    boxmode='group',\n",
    "    title='I1 in region {} for ages {}'. format(regions[0], age_groups[0]),\n",
    "    plot_bgcolor='white',\n",
    "    xaxis=dict(linecolor='black'),\n",
    "    yaxis=dict(linecolor='black'),\n",
    "    )\n",
    "\n",
    "fig.write_image('images/Tol-Toy.pdf')\n",
    "fig.show()"
   ]
  }
 ],
 "metadata": {
  "interpreter": {
   "hash": "df47f448575d07052416cc1eb7c128b6c1833d71679a831545035757d10d2b5f"
  },
  "kernelspec": {
   "display_name": "Python 3.12.0 64-bit ('epimodels': conda)",
   "name": "python3"
  },
  "language_info": {
   "codemirror_mode": {
    "name": "ipython",
    "version": 3
   },
   "file_extension": ".py",
   "mimetype": "text/x-python",
   "name": "python",
   "nbconvert_exporter": "python",
   "pygments_lexer": "ipython3",
   "version": "3.12.0"
  },
  "orig_nbformat": 4
 },
 "nbformat": 4,
 "nbformat_minor": 2
}

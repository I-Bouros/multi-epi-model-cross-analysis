{
 "cells": [
  {
   "cell_type": "markdown",
   "metadata": {},
   "source": [
    "# PHE SEIR Model First Example\n",
    "\n",
    "In this notebook we present how to use the `epimodels` module to set up an instantiation of the model built by Public Health England in collaboration with University of Cambridge, using some toy data. We assess the differences in the qualtiy of simulation using two different ODE solvers:\n",
    " - the bespoke one as presented in the PHE paper (`my-solver`) for different sizes of time steps;\n",
    " - the `scipy` solver using the ``RK45`` method.\n",
    "\n",
    "*The PHE model is built by Public Health England in collaboration with University of Cambridge.*"
   ]
  },
  {
   "cell_type": "code",
   "execution_count": 1,
   "metadata": {},
   "outputs": [],
   "source": [
    "# Load necessary libraries\n",
    "import numpy as np\n",
    "import epimodels as em\n",
    "import matplotlib\n",
    "import plotly.graph_objects as go\n",
    "from matplotlib import pyplot as plt\n",
    "from iteration_utilities import deepflatten"
   ]
  },
  {
   "cell_type": "markdown",
   "metadata": {},
   "source": [
    "## Model Setup\n",
    "### Define setup matrices for the PHE Model"
   ]
  },
  {
   "cell_type": "code",
   "execution_count": 2,
   "metadata": {},
   "outputs": [],
   "source": [
    "# Populate the model\n",
    "regions = ['London', 'Cornwall']\n",
    "age_groups = ['0-10', '10-25']\n",
    "\n",
    "# Initial state of the system\n",
    "contact_data_matrix_0 = np.array([[1, 0], [0, 3]])\n",
    "contact_data_matrix_1 = np.array([[10, 5.2], [0, 3]])\n",
    "\n",
    "region_data_matrix_0_0 = np.array([[0.5, 0], [0, 6]])\n",
    "region_data_matrix_0_1 = np.array([[1, 10], [1, 0]])\n",
    "region_data_matrix_1_0 = np.array([[0.5, 1.2], [0.29, 6]])\n",
    "region_data_matrix_1_1 = np.array([[0.85, 1], [0.9, 6]])\n",
    "\n",
    "contacts_0 = em.ContactMatrix(age_groups, contact_data_matrix_0)\n",
    "contacts_1 = em.ContactMatrix(age_groups, contact_data_matrix_1)\n",
    "regional_0_0 = em.RegionMatrix(\n",
    "    regions[0], age_groups, region_data_matrix_0_0)\n",
    "regional_0_1 = em.RegionMatrix(\n",
    "    regions[1], age_groups, region_data_matrix_0_1)\n",
    "regional_1_0 = em.RegionMatrix(\n",
    "    regions[0], age_groups, region_data_matrix_1_0)\n",
    "regional_1_1 = em.RegionMatrix(\n",
    "    regions[1], age_groups, region_data_matrix_1_1)\n",
    "\n",
    "# Matrices contact\n",
    "matrices_contact = [contacts_0, contacts_1]\n",
    "time_changes_contact = [1, 3]\n",
    "matrices_region = [\n",
    "    [regional_0_0, regional_0_1],\n",
    "    [regional_1_0, regional_1_1]]\n",
    "time_changes_region = [1, 2]"
   ]
  },
  {
   "cell_type": "markdown",
   "metadata": {},
   "source": [
    "### Set the parameters and initial conditions of the model and bundle everything together"
   ]
  },
  {
   "cell_type": "code",
   "execution_count": 3,
   "metadata": {},
   "outputs": [],
   "source": [
    "# Instantiate model\n",
    "model = em.PheSEIRModel()\n",
    "\n",
    "# Set the region names, contact and regional data of the model\n",
    "model.set_regions(regions)\n",
    "model.set_age_groups(age_groups)\n",
    "model.read_contact_data(matrices_contact, time_changes_contact)\n",
    "model.read_regional_data(matrices_region, time_changes_region)\n",
    "\n",
    "# Set regional and time dependent parameters\n",
    "regional_parameters = em.PheRegParameters(\n",
    "    model=model,\n",
    "    initial_r=[0.5, 1],\n",
    "    region_index=1,\n",
    "    betas=[[1] * np.arange(1, 20.5, 0.5).shape[0], [1] * np.arange(1, 20.5, 0.5).shape[0]],\n",
    "    times=np.arange(1, 20.5, 0.5).tolist()\n",
    ")\n",
    "\n",
    "# Set ICs parameters\n",
    "ICs = em.PheICs(\n",
    "    model=model,\n",
    "    susceptibles_IC=[[500, 600], [700, 800]],\n",
    "    exposed1_IC=[[0, 0], [0, 0]],\n",
    "    exposed2_IC=[[0, 0], [0, 0]],\n",
    "    infectives1_IC=[[5, 20], [50, 32]],\n",
    "    infectives2_IC=[[40, 20], [10, 0]],\n",
    "    recovered_IC=[[0, 0], [0, 0]]\n",
    ")\n",
    "\n",
    "# Set disease-specific parameters\n",
    "disease_parameters = em.PheDiseaseParameters(\n",
    "    model=model,\n",
    "    dL=4,\n",
    "    dI=4\n",
    ")\n",
    "\n",
    "# Set other simulation parameters\n",
    "simulation_parameters = em.PheSimParameters(\n",
    "    model=model,\n",
    "    delta_t=0.5,\n",
    "    method='RK45'\n",
    ")\n",
    "\n",
    "# Set all parameters in the controller\n",
    "parameters = em.PheParametersController(\n",
    "    model=model,\n",
    "    regional_parameters=regional_parameters,\n",
    "    ICs=ICs,\n",
    "    disease_parameters=disease_parameters,\n",
    "    simulation_parameters=simulation_parameters\n",
    ")"
   ]
  },
  {
   "cell_type": "markdown",
   "metadata": {},
   "source": [
    "### Simulate for one of the regions: **London**"
   ]
  },
  {
   "cell_type": "code",
   "execution_count": 4,
   "metadata": {},
   "outputs": [],
   "source": [
    "# Simulate using the ODE solver from scipy\n",
    "scipy_method = 'RK45'\n",
    "\n",
    "parameters.simulation_parameters.method = scipy_method\n",
    "output_scipy_solver = model.simulate(parameters)\n",
    "\n",
    "# Use different time steps for personalised solver\n",
    "outputs_my_solver = []\n",
    "time_steps = [0.5, 0.25, 0.05, 10**(-3)]\n",
    "\n",
    "parameters.simulation_parameters.method = 'my-solver'\n",
    "\n",
    "for ts in time_steps:\n",
    "    # Update value of time step in parameters vector\n",
    "    parameters.simulation_parameters.delta_t = ts\n",
    "\n",
    "    # Simulate using the 'homemade' discretised version of the ODE solver\n",
    "    outputs_my_solver.append(model.simulate(parameters))\n"
   ]
  },
  {
   "cell_type": "markdown",
   "metadata": {},
   "source": [
    "## Plot the comparments of the two methods against each other\n",
    "### Setup ``plotly`` and default settings for plotting"
   ]
  },
  {
   "cell_type": "code",
   "execution_count": 5,
   "metadata": {},
   "outputs": [],
   "source": [
    "from plotly.subplots import make_subplots\n",
    "\n",
    "colours = ['blue', 'red', 'green', 'purple', 'orange', 'black', 'gray', 'pink']\n",
    "\n",
    "# Group outputs together\n",
    "outputs = outputs_my_solver\n",
    "outputs.append(output_scipy_solver)"
   ]
  },
  {
   "cell_type": "markdown",
   "metadata": {},
   "source": [
    "### Plot the comparments of the two methods against each other"
   ]
  },
  {
   "cell_type": "code",
   "execution_count": 6,
   "metadata": {},
   "outputs": [
    {
     "data": {
      "application/vnd.plotly.v1+json": {
       "config": {
        "plotlyServerURL": "https://plot.ly"
       },
       "data": [
        {
         "line": {
          "color": "blue"
         },
         "mode": "lines",
         "name": "my-solver with delta_t = 0.5",
         "type": "scatter",
         "x": [
          1,
          1.5,
          2,
          2.5,
          3,
          3.5,
          4,
          4.5,
          5,
          5.5,
          6,
          6.5,
          7,
          7.5,
          8,
          8.5,
          9,
          9.5,
          10,
          10.5,
          11,
          11.5,
          12,
          12.5,
          13,
          13.5,
          14,
          14.5,
          15,
          15.5,
          16,
          16.5,
          17,
          17.5,
          18,
          18.5,
          19,
          19.5,
          20
         ],
         "xaxis": "x",
         "y": [
          500,
          500,
          499.94936840721635,
          499.91004160294887,
          499.8795312894062,
          499.2605514843147,
          498.75607705664646,
          498.3412676925632,
          497.9948973524821,
          497.6996448534437,
          497.4419405917354,
          497.2115489903334,
          497.00102725233836,
          496.8051594396393,
          496.62042825266565,
          496.44455805272526,
          496.2761419701581,
          496.11435241570655,
          495.95872648314713,
          495.8090140601793,
          495.6650755856143,
          495.526817206785,
          495.39415278857626,
          495.26698424652477,
          495.14519367050104,
          495.02864247790706,
          494.9171743004233,
          494.81061945076374,
          494.70879966120754,
          494.61153237941636,
          494.51863430096626,
          494.42992406175017,
          494.3452241500665,
          494.2643621627406,
          494.1871715487212,
          494.1134919765733,
          494.0431694423642,
          493.97605621009023,
          493.9120106530002
         ],
         "yaxis": "y"
        },
        {
         "line": {
          "color": "red"
         },
         "mode": "lines",
         "name": "my-solver with delta_t = 0.25",
         "type": "scatter",
         "x": [
          1,
          1.5,
          2,
          2.5,
          3,
          3.5,
          4,
          4.5,
          5,
          5.5,
          6,
          6.5,
          7,
          7.5,
          8,
          8.5,
          9,
          9.5,
          10,
          10.5,
          11,
          11.5,
          12,
          12.5,
          13,
          13.5,
          14,
          14.5,
          15,
          15.5,
          16,
          16.5,
          17,
          17.5,
          18,
          18.5,
          19,
          19.5,
          20
         ],
         "xaxis": "x",
         "y": [
          500,
          499.97106807983084,
          499.92251697244114,
          499.8842106523552,
          499.854008251742,
          499.23358316478215,
          498.717129530827,
          498.28279732154056,
          497.9123144073823,
          497.59088435006726,
          497.30686157523076,
          497.05131585234864,
          496.81756413985374,
          496.6007199841283,
          496.397289273678,
          496.2048257425978,
          496.02164923969156,
          495.8466233520428,
          495.67898546725985,
          495.51822089146134,
          495.36397249881634,
          495.21597803404444,
          495.0740282355258,
          494.93794013302005,
          494.8075410371586,
          494.68265978590546,
          494.56312270362605,
          494.44875245109904,
          494.3393685089409,
          494.2347884618813,
          494.13482956054435,
          494.03931025441284,
          493.94805153600174,
          493.860878030332,
          493.77761882056484,
          493.69810803182526,
          493.6221852096181,
          493.54969553320603,
          493.480489902332
         ],
         "yaxis": "y"
        },
        {
         "line": {
          "color": "green"
         },
         "mode": "lines",
         "name": "my-solver with delta_t = 0.05",
         "type": "scatter",
         "x": [
          1,
          1.5,
          2,
          2.5,
          3,
          3.5,
          4,
          4.5,
          5,
          5.5,
          6,
          6.5,
          7,
          7.5,
          8,
          8.5,
          9,
          9.5,
          10,
          10.5,
          11,
          11.5,
          12,
          12.5,
          13,
          13.5,
          14,
          14.5,
          15,
          15.5,
          16,
          16.5,
          17,
          17.5,
          18,
          18.5,
          19,
          19.5,
          20
         ],
         "xaxis": "x",
         "y": [
          500,
          499.9475591415232,
          499.90050825077475,
          499.8629775137662,
          499.83305388897327,
          499.2097142919282,
          498.6834594893816,
          498.2346013558733,
          497.84679704292523,
          497.5068094347038,
          497.20414772136417,
          496.9306600002612,
          496.68012561983664,
          496.44787641938154,
          496.2304624416594,
          496.0253682575283,
          495.8307798688762,
          495.64539844426326,
          495.46829520175993,
          495.29880102674935,
          495.1364244661129,
          494.9807922534188,
          494.8316072651246,
          494.68861963236685,
          494.55160754008637,
          494.42036497967916,
          494.29469435640556,
          494.17440238070117,
          494.05929809730566,
          493.94919223820597,
          493.84389733815743,
          493.74322823901764,
          493.6470027445157,
          493.55504228213005,
          493.4671724933707,
          493.3832237160461,
          493.30303134843115,
          493.22643610052677,
          493.15328414548827
         ],
         "yaxis": "y"
        },
        {
         "line": {
          "color": "purple"
         },
         "mode": "lines",
         "name": "my-solver with delta_t = 0.001",
         "type": "scatter",
         "x": [
          1,
          1.5,
          2,
          2.5,
          3,
          3.5,
          4,
          4.5,
          5,
          5.5,
          6,
          6.5,
          7,
          7.5,
          8,
          8.5,
          9,
          9.5,
          10,
          10.5,
          11,
          11.5,
          12,
          12.5,
          13,
          13.5,
          14,
          14.5,
          15,
          15.5,
          16,
          16.5,
          17,
          17.5,
          18,
          18.5,
          19,
          19.5,
          20
         ],
         "xaxis": "x",
         "y": [
          500,
          499.9417577055987,
          499.8950545198009,
          499.85770819297045,
          499.82785589157464,
          499.203654375111,
          498.67502570577915,
          498.22277049023666,
          497.8309670282825,
          497.486712331879,
          497.1797612183303,
          496.90212781781094,
          496.64769176808454,
          496.4118346238217,
          496.1911198581168,
          495.98302144118327,
          495.78570052331173,
          495.59782648844333,
          495.41843695890844,
          495.24683072119734,
          495.0824876221935,
          494.9250099708016,
          494.77408067027613,
          494.6294340662155,
          494.49083623861867,
          494.35807214423426,
          494.23093760368135,
          494.1092346193022,
          493.9927689075681,
          493.88134884327445,
          493.77478525338466,
          493.67289167872707,
          493.5754848536143,
          493.4823852473946,
          493.3934175770603,
          493.3084112436272,
          493.2272006730629,
          493.1496255596295,
          493.07553101908564
         ],
         "yaxis": "y"
        },
        {
         "line": {
          "color": "orange"
         },
         "mode": "lines",
         "name": "scipy-solver RK45",
         "type": "scatter",
         "x": [
          1,
          1.5,
          2,
          2.5,
          3,
          3.5,
          4,
          4.5,
          5,
          5.5,
          6,
          6.5,
          7,
          7.5,
          8,
          8.5,
          9,
          9.5,
          10,
          10.5,
          11,
          11.5,
          12,
          12.5,
          13,
          13.5,
          14,
          14.5,
          15,
          15.5,
          16,
          16.5,
          17,
          17.5,
          18,
          18.5,
          19,
          19.5,
          20
         ],
         "xaxis": "x",
         "y": [
          500,
          499.94163914487393,
          499.8949426043989,
          499.85760049291116,
          499.82760980050153,
          499.22980170296955,
          498.70112252983193,
          498.24881631542786,
          497.85699296366323,
          497.51273218652796,
          497.2057979831098,
          496.9282274933582,
          496.6738630941666,
          496.438047400083,
          496.2174666448261,
          496.0095278604369,
          495.81224129965545,
          495.6244300003902,
          495.44523504437825,
          495.27382879688787,
          495.1095150564842,
          494.9520464560468,
          494.8012196385018,
          494.65674424564105,
          494.51824524492326,
          494.38547733807565,
          494.25834231621354,
          494.1366749814947,
          494.02027496553075,
          493.90890672938696,
          493.802340975835,
          493.7004424707123,
          493.6030346130061,
          493.50993881816936,
          493.42097767996285,
          493.33597497045525,
          493.2547581151309,
          493.17717584602656,
          493.1030751224223
         ],
         "yaxis": "y"
        },
        {
         "line": {
          "color": "blue"
         },
         "mode": "lines",
         "name": "my-solver with delta_t = 0.5",
         "showlegend": false,
         "type": "scatter",
         "x": [
          1,
          1.5,
          2,
          2.5,
          3,
          3.5,
          4,
          4.5,
          5,
          5.5,
          6,
          6.5,
          7,
          7.5,
          8,
          8.5,
          9,
          9.5,
          10,
          10.5,
          11,
          11.5,
          12,
          12.5,
          13,
          13.5,
          14,
          14.5,
          15,
          15.5,
          16,
          16.5,
          17,
          17.5,
          18,
          18.5,
          19,
          19.5,
          20
         ],
         "xaxis": "x2",
         "y": [
          600,
          600,
          597.8202296709368,
          595.957673980427,
          594.3902743554655,
          593.0785721896242,
          591.977175063176,
          591.0419244918061,
          590.2338348766144,
          589.5207771988163,
          588.8777073615507,
          588.2860494443852,
          587.732669424024,
          587.2087287271274,
          586.7085931253167,
          586.2288893631807,
          585.7677452115015,
          585.324213009898,
          584.8978568628148,
          584.4884747345403,
          584.0959248745348,
          583.7200283390523,
          583.3605237535991,
          583.0170554882806,
          582.6891812507281,
          582.3763892947767,
          582.0781188232459,
          581.7937797241451,
          581.5227696086445,
          581.2644873449694,
          581.0183430422576,
          580.783764859086,
          580.5602031997817,
          580.3471329020267,
          580.1440539741855,
          579.9504913539159,
          579.765994059529,
          579.5901340093245,
          579.4225047007019
         ],
         "yaxis": "y2"
        },
        {
         "line": {
          "color": "red"
         },
         "mode": "lines",
         "name": "my-solver with delta_t = 0.25",
         "showlegend": false,
         "type": "scatter",
         "x": [
          1,
          1.5,
          2,
          2.5,
          3,
          3.5,
          4,
          4.5,
          5,
          5.5,
          6,
          6.5,
          7,
          7.5,
          8,
          8.5,
          9,
          9.5,
          10,
          10.5,
          11,
          11.5,
          12,
          12.5,
          13,
          13.5,
          14,
          14.5,
          15,
          15.5,
          16,
          16.5,
          17,
          17.5,
          18,
          18.5,
          19,
          19.5,
          20
         ],
         "xaxis": "x2",
         "y": [
          600,
          598.8325696019069,
          596.7351023770153,
          594.9367430067869,
          593.4032447297484,
          592.0939877608849,
          590.9683804222472,
          589.9894764454393,
          589.1256834170891,
          588.3512342901148,
          587.6459163930392,
          586.9944063173397,
          586.3854442632398,
          585.8109948128413,
          585.265478404983,
          584.7451144434662,
          584.2473886321422,
          583.7706399464432,
          583.3137533953055,
          582.8759408247087,
          582.4565914992991,
          582.0551756395848,
          581.6711864950806,
          581.3041092476726,
          580.9534076691418,
          580.6185217888296,
          580.2988717708233,
          579.9938647411086,
          579.7029024746731,
          579.4253887032937,
          579.160735396573,
          578.908367759851,
          578.6677279344917,
          578.4382775217532,
          578.2194991150785,
          578.0108970430958,
          577.8119975157109,
          577.6223483415063,
          577.4415183548948
         ],
         "yaxis": "y2"
        },
        {
         "line": {
          "color": "green"
         },
         "mode": "lines",
         "name": "my-solver with delta_t = 0.05",
         "showlegend": false,
         "type": "scatter",
         "x": [
          1,
          1.5,
          2,
          2.5,
          3,
          3.5,
          4,
          4.5,
          5,
          5.5,
          6,
          6.5,
          7,
          7.5,
          8,
          8.5,
          9,
          9.5,
          10,
          10.5,
          11,
          11.5,
          12,
          12.5,
          13,
          13.5,
          14,
          14.5,
          15,
          15.5,
          16,
          16.5,
          17,
          17.5,
          18,
          18.5,
          19,
          19.5,
          20
         ],
         "xaxis": "x2",
         "y": [
          600,
          597.9014078325749,
          595.8610326181522,
          594.0994724340785,
          592.5800598911748,
          591.2644352919367,
          590.1163836683443,
          589.1038440426036,
          588.1997091449468,
          587.3818683905033,
          586.632815421271,
          585.9390400405665,
          585.2903482082171,
          584.6791982573043,
          584.1001023540899,
          583.5491157006685,
          583.0234189042259,
          582.5209887111929,
          582.0403468676267,
          581.5803746326809,
          581.1401802590298,
          580.7190077139063,
          580.3161764613947,
          579.9310438759759,
          579.5629835722337,
          579.2113744840979,
          578.8755968482292,
          578.5550323250928,
          578.2490663401275,
          577.9570913729872,
          577.6785103976727,
          577.4127400136869,
          577.1592130387575,
          576.9173804837066,
          576.686712921667,
          576.4667013145012,
          576.256857382401,
          576.0567136081553,
          575.8658229626865
         ],
         "yaxis": "y2"
        },
        {
         "line": {
          "color": "purple"
         },
         "mode": "lines",
         "name": "my-solver with delta_t = 0.001",
         "showlegend": false,
         "type": "scatter",
         "x": [
          1,
          1.5,
          2,
          2.5,
          3,
          3.5,
          4,
          4.5,
          5,
          5.5,
          6,
          6.5,
          7,
          7.5,
          8,
          8.5,
          9,
          9.5,
          10,
          10.5,
          11,
          11.5,
          12,
          12.5,
          13,
          13.5,
          14,
          14.5,
          15,
          15.5,
          16,
          16.5,
          17,
          17.5,
          18,
          18.5,
          19,
          19.5,
          20
         ],
         "xaxis": "x2",
         "y": [
          600,
          597.6732651379477,
          595.6452653931065,
          593.8909729098459,
          592.3736837538611,
          591.055769450319,
          589.902051787459,
          588.8815336097151,
          587.9680486698833,
          587.1402399672269,
          586.3811554169314,
          585.6776575025382,
          585.0197748577106,
          584.4000739183082,
          583.8130938115091,
          583.2548640220975,
          582.7225091992935,
          582.213936395022,
          581.7275952095247,
          581.2622993496901,
          580.8170979314181,
          580.3911857278524,
          579.9838429618083,
          579.5943968217744,
          579.222198435487,
          578.8666104448121,
          578.5270015348906,
          578.2027452642732,
          577.893221330587,
          577.5978180108519,
          577.315934965109,
          577.0469859156682,
          576.7904009391935,
          576.545628258613,
          576.312135516441,
          576.0894105661968,
          575.8769618468233,
          575.6743184153887,
          575.481029712818
         ],
         "yaxis": "y2"
        },
        {
         "line": {
          "color": "orange"
         },
         "mode": "lines",
         "name": "scipy-solver RK45",
         "showlegend": false,
         "type": "scatter",
         "x": [
          1,
          1.5,
          2,
          2.5,
          3,
          3.5,
          4,
          4.5,
          5,
          5.5,
          6,
          6.5,
          7,
          7.5,
          8,
          8.5,
          9,
          9.5,
          10,
          10.5,
          11,
          11.5,
          12,
          12.5,
          13,
          13.5,
          14,
          14.5,
          15,
          15.5,
          16,
          16.5,
          17,
          17.5,
          18,
          18.5,
          19,
          19.5,
          20
         ],
         "xaxis": "x2",
         "y": [
          600,
          597.6686084160231,
          595.6409000734703,
          593.886683656402,
          592.369437604661,
          591.0514783606412,
          589.8976631701768,
          588.876963319428,
          587.9633085985726,
          587.1352597302889,
          586.3759752658619,
          585.672284102112,
          585.0142044864533,
          584.3942602319247,
          583.8071779570311,
          583.2488897989901,
          582.7162745399314,
          582.2074988027658,
          581.7212053589674,
          581.2559861845938,
          580.8105764330937,
          580.3844376072561,
          579.9770458725856,
          579.5876886215815,
          579.2154693550974,
          578.8597104807002,
          578.5199519753746,
          578.1956088666213,
          577.8860515270862,
          577.5906056745614,
          577.3086195349952,
          577.0395841600374,
          576.7829218605488,
          576.5380739125119,
          576.3045061678588,
          576.08170905447,
          575.8691968526662,
          575.666498567508,
          575.4731609162659
         ],
         "yaxis": "y2"
        }
       ],
       "layout": {
        "annotations": [
         {
          "font": {
           "size": 16
          },
          "showarrow": false,
          "text": "ages 0-10",
          "x": 0.225,
          "xanchor": "center",
          "xref": "paper",
          "y": 1,
          "yanchor": "bottom",
          "yref": "paper"
         },
         {
          "font": {
           "size": 16
          },
          "showarrow": false,
          "text": "ages 10-25",
          "x": 0.775,
          "xanchor": "center",
          "xref": "paper",
          "y": 1,
          "yanchor": "bottom",
          "yref": "paper"
         }
        ],
        "boxmode": "group",
        "legend": {
         "orientation": "h",
         "x": 1,
         "xanchor": "right",
         "y": 1.02,
         "yanchor": "bottom"
        },
        "plot_bgcolor": "white",
        "template": {
         "data": {
          "bar": [
           {
            "error_x": {
             "color": "#2a3f5f"
            },
            "error_y": {
             "color": "#2a3f5f"
            },
            "marker": {
             "line": {
              "color": "#E5ECF6",
              "width": 0.5
             },
             "pattern": {
              "fillmode": "overlay",
              "size": 10,
              "solidity": 0.2
             }
            },
            "type": "bar"
           }
          ],
          "barpolar": [
           {
            "marker": {
             "line": {
              "color": "#E5ECF6",
              "width": 0.5
             },
             "pattern": {
              "fillmode": "overlay",
              "size": 10,
              "solidity": 0.2
             }
            },
            "type": "barpolar"
           }
          ],
          "carpet": [
           {
            "aaxis": {
             "endlinecolor": "#2a3f5f",
             "gridcolor": "white",
             "linecolor": "white",
             "minorgridcolor": "white",
             "startlinecolor": "#2a3f5f"
            },
            "baxis": {
             "endlinecolor": "#2a3f5f",
             "gridcolor": "white",
             "linecolor": "white",
             "minorgridcolor": "white",
             "startlinecolor": "#2a3f5f"
            },
            "type": "carpet"
           }
          ],
          "choropleth": [
           {
            "colorbar": {
             "outlinewidth": 0,
             "ticks": ""
            },
            "type": "choropleth"
           }
          ],
          "contour": [
           {
            "colorbar": {
             "outlinewidth": 0,
             "ticks": ""
            },
            "colorscale": [
             [
              0,
              "#0d0887"
             ],
             [
              0.1111111111111111,
              "#46039f"
             ],
             [
              0.2222222222222222,
              "#7201a8"
             ],
             [
              0.3333333333333333,
              "#9c179e"
             ],
             [
              0.4444444444444444,
              "#bd3786"
             ],
             [
              0.5555555555555556,
              "#d8576b"
             ],
             [
              0.6666666666666666,
              "#ed7953"
             ],
             [
              0.7777777777777778,
              "#fb9f3a"
             ],
             [
              0.8888888888888888,
              "#fdca26"
             ],
             [
              1,
              "#f0f921"
             ]
            ],
            "type": "contour"
           }
          ],
          "contourcarpet": [
           {
            "colorbar": {
             "outlinewidth": 0,
             "ticks": ""
            },
            "type": "contourcarpet"
           }
          ],
          "heatmap": [
           {
            "colorbar": {
             "outlinewidth": 0,
             "ticks": ""
            },
            "colorscale": [
             [
              0,
              "#0d0887"
             ],
             [
              0.1111111111111111,
              "#46039f"
             ],
             [
              0.2222222222222222,
              "#7201a8"
             ],
             [
              0.3333333333333333,
              "#9c179e"
             ],
             [
              0.4444444444444444,
              "#bd3786"
             ],
             [
              0.5555555555555556,
              "#d8576b"
             ],
             [
              0.6666666666666666,
              "#ed7953"
             ],
             [
              0.7777777777777778,
              "#fb9f3a"
             ],
             [
              0.8888888888888888,
              "#fdca26"
             ],
             [
              1,
              "#f0f921"
             ]
            ],
            "type": "heatmap"
           }
          ],
          "heatmapgl": [
           {
            "colorbar": {
             "outlinewidth": 0,
             "ticks": ""
            },
            "colorscale": [
             [
              0,
              "#0d0887"
             ],
             [
              0.1111111111111111,
              "#46039f"
             ],
             [
              0.2222222222222222,
              "#7201a8"
             ],
             [
              0.3333333333333333,
              "#9c179e"
             ],
             [
              0.4444444444444444,
              "#bd3786"
             ],
             [
              0.5555555555555556,
              "#d8576b"
             ],
             [
              0.6666666666666666,
              "#ed7953"
             ],
             [
              0.7777777777777778,
              "#fb9f3a"
             ],
             [
              0.8888888888888888,
              "#fdca26"
             ],
             [
              1,
              "#f0f921"
             ]
            ],
            "type": "heatmapgl"
           }
          ],
          "histogram": [
           {
            "marker": {
             "pattern": {
              "fillmode": "overlay",
              "size": 10,
              "solidity": 0.2
             }
            },
            "type": "histogram"
           }
          ],
          "histogram2d": [
           {
            "colorbar": {
             "outlinewidth": 0,
             "ticks": ""
            },
            "colorscale": [
             [
              0,
              "#0d0887"
             ],
             [
              0.1111111111111111,
              "#46039f"
             ],
             [
              0.2222222222222222,
              "#7201a8"
             ],
             [
              0.3333333333333333,
              "#9c179e"
             ],
             [
              0.4444444444444444,
              "#bd3786"
             ],
             [
              0.5555555555555556,
              "#d8576b"
             ],
             [
              0.6666666666666666,
              "#ed7953"
             ],
             [
              0.7777777777777778,
              "#fb9f3a"
             ],
             [
              0.8888888888888888,
              "#fdca26"
             ],
             [
              1,
              "#f0f921"
             ]
            ],
            "type": "histogram2d"
           }
          ],
          "histogram2dcontour": [
           {
            "colorbar": {
             "outlinewidth": 0,
             "ticks": ""
            },
            "colorscale": [
             [
              0,
              "#0d0887"
             ],
             [
              0.1111111111111111,
              "#46039f"
             ],
             [
              0.2222222222222222,
              "#7201a8"
             ],
             [
              0.3333333333333333,
              "#9c179e"
             ],
             [
              0.4444444444444444,
              "#bd3786"
             ],
             [
              0.5555555555555556,
              "#d8576b"
             ],
             [
              0.6666666666666666,
              "#ed7953"
             ],
             [
              0.7777777777777778,
              "#fb9f3a"
             ],
             [
              0.8888888888888888,
              "#fdca26"
             ],
             [
              1,
              "#f0f921"
             ]
            ],
            "type": "histogram2dcontour"
           }
          ],
          "mesh3d": [
           {
            "colorbar": {
             "outlinewidth": 0,
             "ticks": ""
            },
            "type": "mesh3d"
           }
          ],
          "parcoords": [
           {
            "line": {
             "colorbar": {
              "outlinewidth": 0,
              "ticks": ""
             }
            },
            "type": "parcoords"
           }
          ],
          "pie": [
           {
            "automargin": true,
            "type": "pie"
           }
          ],
          "scatter": [
           {
            "marker": {
             "colorbar": {
              "outlinewidth": 0,
              "ticks": ""
             }
            },
            "type": "scatter"
           }
          ],
          "scatter3d": [
           {
            "line": {
             "colorbar": {
              "outlinewidth": 0,
              "ticks": ""
             }
            },
            "marker": {
             "colorbar": {
              "outlinewidth": 0,
              "ticks": ""
             }
            },
            "type": "scatter3d"
           }
          ],
          "scattercarpet": [
           {
            "marker": {
             "colorbar": {
              "outlinewidth": 0,
              "ticks": ""
             }
            },
            "type": "scattercarpet"
           }
          ],
          "scattergeo": [
           {
            "marker": {
             "colorbar": {
              "outlinewidth": 0,
              "ticks": ""
             }
            },
            "type": "scattergeo"
           }
          ],
          "scattergl": [
           {
            "marker": {
             "colorbar": {
              "outlinewidth": 0,
              "ticks": ""
             }
            },
            "type": "scattergl"
           }
          ],
          "scattermapbox": [
           {
            "marker": {
             "colorbar": {
              "outlinewidth": 0,
              "ticks": ""
             }
            },
            "type": "scattermapbox"
           }
          ],
          "scatterpolar": [
           {
            "marker": {
             "colorbar": {
              "outlinewidth": 0,
              "ticks": ""
             }
            },
            "type": "scatterpolar"
           }
          ],
          "scatterpolargl": [
           {
            "marker": {
             "colorbar": {
              "outlinewidth": 0,
              "ticks": ""
             }
            },
            "type": "scatterpolargl"
           }
          ],
          "scatterternary": [
           {
            "marker": {
             "colorbar": {
              "outlinewidth": 0,
              "ticks": ""
             }
            },
            "type": "scatterternary"
           }
          ],
          "surface": [
           {
            "colorbar": {
             "outlinewidth": 0,
             "ticks": ""
            },
            "colorscale": [
             [
              0,
              "#0d0887"
             ],
             [
              0.1111111111111111,
              "#46039f"
             ],
             [
              0.2222222222222222,
              "#7201a8"
             ],
             [
              0.3333333333333333,
              "#9c179e"
             ],
             [
              0.4444444444444444,
              "#bd3786"
             ],
             [
              0.5555555555555556,
              "#d8576b"
             ],
             [
              0.6666666666666666,
              "#ed7953"
             ],
             [
              0.7777777777777778,
              "#fb9f3a"
             ],
             [
              0.8888888888888888,
              "#fdca26"
             ],
             [
              1,
              "#f0f921"
             ]
            ],
            "type": "surface"
           }
          ],
          "table": [
           {
            "cells": {
             "fill": {
              "color": "#EBF0F8"
             },
             "line": {
              "color": "white"
             }
            },
            "header": {
             "fill": {
              "color": "#C8D4E3"
             },
             "line": {
              "color": "white"
             }
            },
            "type": "table"
           }
          ]
         },
         "layout": {
          "annotationdefaults": {
           "arrowcolor": "#2a3f5f",
           "arrowhead": 0,
           "arrowwidth": 1
          },
          "autotypenumbers": "strict",
          "coloraxis": {
           "colorbar": {
            "outlinewidth": 0,
            "ticks": ""
           }
          },
          "colorscale": {
           "diverging": [
            [
             0,
             "#8e0152"
            ],
            [
             0.1,
             "#c51b7d"
            ],
            [
             0.2,
             "#de77ae"
            ],
            [
             0.3,
             "#f1b6da"
            ],
            [
             0.4,
             "#fde0ef"
            ],
            [
             0.5,
             "#f7f7f7"
            ],
            [
             0.6,
             "#e6f5d0"
            ],
            [
             0.7,
             "#b8e186"
            ],
            [
             0.8,
             "#7fbc41"
            ],
            [
             0.9,
             "#4d9221"
            ],
            [
             1,
             "#276419"
            ]
           ],
           "sequential": [
            [
             0,
             "#0d0887"
            ],
            [
             0.1111111111111111,
             "#46039f"
            ],
            [
             0.2222222222222222,
             "#7201a8"
            ],
            [
             0.3333333333333333,
             "#9c179e"
            ],
            [
             0.4444444444444444,
             "#bd3786"
            ],
            [
             0.5555555555555556,
             "#d8576b"
            ],
            [
             0.6666666666666666,
             "#ed7953"
            ],
            [
             0.7777777777777778,
             "#fb9f3a"
            ],
            [
             0.8888888888888888,
             "#fdca26"
            ],
            [
             1,
             "#f0f921"
            ]
           ],
           "sequentialminus": [
            [
             0,
             "#0d0887"
            ],
            [
             0.1111111111111111,
             "#46039f"
            ],
            [
             0.2222222222222222,
             "#7201a8"
            ],
            [
             0.3333333333333333,
             "#9c179e"
            ],
            [
             0.4444444444444444,
             "#bd3786"
            ],
            [
             0.5555555555555556,
             "#d8576b"
            ],
            [
             0.6666666666666666,
             "#ed7953"
            ],
            [
             0.7777777777777778,
             "#fb9f3a"
            ],
            [
             0.8888888888888888,
             "#fdca26"
            ],
            [
             1,
             "#f0f921"
            ]
           ]
          },
          "colorway": [
           "#636efa",
           "#EF553B",
           "#00cc96",
           "#ab63fa",
           "#FFA15A",
           "#19d3f3",
           "#FF6692",
           "#B6E880",
           "#FF97FF",
           "#FECB52"
          ],
          "font": {
           "color": "#2a3f5f"
          },
          "geo": {
           "bgcolor": "white",
           "lakecolor": "white",
           "landcolor": "#E5ECF6",
           "showlakes": true,
           "showland": true,
           "subunitcolor": "white"
          },
          "hoverlabel": {
           "align": "left"
          },
          "hovermode": "closest",
          "mapbox": {
           "style": "light"
          },
          "paper_bgcolor": "white",
          "plot_bgcolor": "#E5ECF6",
          "polar": {
           "angularaxis": {
            "gridcolor": "white",
            "linecolor": "white",
            "ticks": ""
           },
           "bgcolor": "#E5ECF6",
           "radialaxis": {
            "gridcolor": "white",
            "linecolor": "white",
            "ticks": ""
           }
          },
          "scene": {
           "xaxis": {
            "backgroundcolor": "#E5ECF6",
            "gridcolor": "white",
            "gridwidth": 2,
            "linecolor": "white",
            "showbackground": true,
            "ticks": "",
            "zerolinecolor": "white"
           },
           "yaxis": {
            "backgroundcolor": "#E5ECF6",
            "gridcolor": "white",
            "gridwidth": 2,
            "linecolor": "white",
            "showbackground": true,
            "ticks": "",
            "zerolinecolor": "white"
           },
           "zaxis": {
            "backgroundcolor": "#E5ECF6",
            "gridcolor": "white",
            "gridwidth": 2,
            "linecolor": "white",
            "showbackground": true,
            "ticks": "",
            "zerolinecolor": "white"
           }
          },
          "shapedefaults": {
           "line": {
            "color": "#2a3f5f"
           }
          },
          "ternary": {
           "aaxis": {
            "gridcolor": "white",
            "linecolor": "white",
            "ticks": ""
           },
           "baxis": {
            "gridcolor": "white",
            "linecolor": "white",
            "ticks": ""
           },
           "bgcolor": "#E5ECF6",
           "caxis": {
            "gridcolor": "white",
            "linecolor": "white",
            "ticks": ""
           }
          },
          "title": {
           "x": 0.05
          },
          "xaxis": {
           "automargin": true,
           "gridcolor": "white",
           "linecolor": "white",
           "ticks": "",
           "title": {
            "standoff": 15
           },
           "zerolinecolor": "white",
           "zerolinewidth": 2
          },
          "yaxis": {
           "automargin": true,
           "gridcolor": "white",
           "linecolor": "white",
           "ticks": "",
           "title": {
            "standoff": 15
           },
           "zerolinecolor": "white",
           "zerolinewidth": 2
          }
         }
        },
        "title": {
         "text": "S in region London"
        },
        "width": 800,
        "xaxis": {
         "anchor": "y",
         "domain": [
          0,
          0.45
         ],
         "linecolor": "black"
        },
        "xaxis2": {
         "anchor": "y2",
         "domain": [
          0.55,
          1
         ],
         "linecolor": "black"
        },
        "xaxis3": {
         "linecolor": "black"
        },
        "xaxis4": {
         "linecolor": "black"
        },
        "xaxis5": {
         "linecolor": "black"
        },
        "xaxis6": {
         "linecolor": "black"
        },
        "xaxis7": {
         "linecolor": "black"
        },
        "xaxis8": {
         "linecolor": "black"
        },
        "yaxis": {
         "anchor": "x",
         "domain": [
          0,
          1
         ],
         "linecolor": "black"
        },
        "yaxis2": {
         "anchor": "x2",
         "domain": [
          0,
          1
         ],
         "linecolor": "black"
        },
        "yaxis3": {
         "linecolor": "black"
        },
        "yaxis4": {
         "linecolor": "black"
        },
        "yaxis5": {
         "linecolor": "black"
        },
        "yaxis6": {
         "linecolor": "black"
        },
        "yaxis7": {
         "linecolor": "black"
        },
        "yaxis8": {
         "linecolor": "black"
        }
       }
      }
     },
     "metadata": {},
     "output_type": "display_data"
    },
    {
     "data": {
      "application/vnd.plotly.v1+json": {
       "config": {
        "plotlyServerURL": "https://plot.ly"
       },
       "data": [
        {
         "line": {
          "color": "blue"
         },
         "mode": "lines",
         "name": "my-solver with delta_t = 0.5",
         "type": "scatter",
         "x": [
          1,
          1.5,
          2,
          2.5,
          3,
          3.5,
          4,
          4.5,
          5,
          5.5,
          6,
          6.5,
          7,
          7.5,
          8,
          8.5,
          9,
          9.5,
          10,
          10.5,
          11,
          11.5,
          12,
          12.5,
          13,
          13.5,
          14,
          14.5,
          15,
          15.5,
          16,
          16.5,
          17,
          17.5,
          18,
          18.5,
          19,
          19.5,
          20
         ],
         "xaxis": "x",
         "y": [
          0,
          0,
          0.05063159278362317,
          0.077300498855212,
          0.08848568768408561,
          0.6853440708545891,
          1.0184824808091801,
          1.1786712246901943,
          1.2303737585986956,
          1.2180328179874311,
          1.1712288751989024,
          1.1088132578011363,
          1.0421316813459247,
          0.9774665737085677,
          0.9178311172550655,
          0.8642435378816937,
          0.816598735978411,
          0.7742386064353335,
          0.7363048873859274,
          0.7019410885072535,
          0.6703942909454679,
          0.6410540970384092,
          0.6134549909875253,
          0.5872597852921166,
          0.562235414992851,
          0.5382277538385813,
          0.515138992862659,
          0.49290909430662194,
          0.47150161028617243,
          0.45089348950575725,
          0.4310681955794396,
          0.41201138590070246,
          0.3937084511092125,
          0.3761433256578113,
          0.3592981082627302,
          0.3431531533449541,
          0.32768739921776485,
          0.3128787816873002,
          0.2987046433554871
         ],
         "yaxis": "y"
        },
        {
         "line": {
          "color": "red"
         },
         "mode": "lines",
         "name": "my-solver with delta_t = 0.25",
         "type": "scatter",
         "x": [
          1,
          1.5,
          2,
          2.5,
          3,
          3.5,
          4,
          4.5,
          5,
          5.5,
          6,
          6.5,
          7,
          7.5,
          8,
          8.5,
          9,
          9.5,
          10,
          10.5,
          11,
          11.5,
          12,
          12.5,
          13,
          13.5,
          14,
          14.5,
          15,
          15.5,
          16,
          16.5,
          17,
          17.5,
          18,
          18.5,
          19,
          19.5,
          20
         ],
         "xaxis": "x",
         "y": [
          0,
          0.02893192016915902,
          0.06748838036040994,
          0.0874410428960112,
          0.0951496245982801,
          0.6526852309822002,
          0.9824439272542836,
          1.158240190542977,
          1.2332331335586344,
          1.2448679594367609,
          1.2188659321443625,
          1.1723815033915403,
          1.1164491002193073,
          1.0578393915352606,
          1.0004367208277025,
          0.9462375730805118,
          0.8960561962896302,
          0.850009285981389,
          0.8078380348792437,
          0.7691135350035921,
          0.7333608576230475,
          0.7001282429706066,
          0.6690206519056151,
          0.6397113066018962,
          0.6119405642820227,
          0.5855082977331832,
          0.5602636771917754,
          0.5360946604565427,
          0.5129184308862987,
          0.4906733359829886,
          0.46931246145319705,
          0.4487987418292964,
          0.429101395666027,
          0.41019343551465837,
          0.39205000868539047,
          0.3746473530963763,
          0.35796218979203726,
          0.34197141193600217,
          0.3266519648687794
         ],
         "yaxis": "y"
        },
        {
         "line": {
          "color": "green"
         },
         "mode": "lines",
         "name": "my-solver with delta_t = 0.05",
         "type": "scatter",
         "x": [
          1,
          1.5,
          2,
          2.5,
          3,
          3.5,
          4,
          4.5,
          5,
          5.5,
          6,
          6.5,
          7,
          7.5,
          8,
          8.5,
          9,
          9.5,
          10,
          10.5,
          11,
          11.5,
          12,
          12.5,
          13,
          13.5,
          14,
          14.5,
          15,
          15.5,
          16,
          16.5,
          17,
          17.5,
          18,
          18.5,
          19,
          19.5,
          20
         ],
         "xaxis": "x",
         "y": [
          0,
          0.047311408757155046,
          0.07862683315085911,
          0.09446011370407245,
          0.09997789946575303,
          0.6332917540272102,
          0.9608582241449044,
          1.1462479288955347,
          1.235822489452252,
          1.2628010570592454,
          1.2505229350175187,
          1.2150222738956953,
          1.167026416259486,
          1.113481017486531,
          1.0586940638552584,
          1.0051786792637005,
          0.9542622122753041,
          0.9065172812667073,
          0.8620597102036602,
          0.8207488695207438,
          0.7823179338460938,
          0.7464549494509359,
          0.7128502616194929,
          0.6812216358975048,
          0.6513251509026529,
          0.6229574782370892,
          0.5959533428349568,
          0.5701806382960454,
          0.5455347400822713,
          0.5219329188621397,
          0.4993093296715706,
          0.47761077953474507,
          0.45679331058612355,
          0.43681954306570336,
          0.4176566776700584,
          0.39927504174341255,
          0.3816470663185083,
          0.364746592787895,
          0.3485484236840743
         ],
         "yaxis": "y"
        },
        {
         "line": {
          "color": "purple"
         },
         "mode": "lines",
         "name": "my-solver with delta_t = 0.001",
         "type": "scatter",
         "x": [
          1,
          1.5,
          2,
          2.5,
          3,
          3.5,
          4,
          4.5,
          5,
          5.5,
          6,
          6.5,
          7,
          7.5,
          8,
          8.5,
          9,
          9.5,
          10,
          10.5,
          11,
          11.5,
          12,
          12.5,
          13,
          13.5,
          14,
          14.5,
          15,
          15.5,
          16,
          16.5,
          17,
          17.5,
          18,
          18.5,
          19,
          19.5,
          20
         ],
         "xaxis": "x",
         "y": [
          0,
          0.05131863038117914,
          0.08110459604095363,
          0.09605784678308907,
          0.1011012451579744,
          0.6291904377945822,
          0.9562442875932978,
          1.1436709275938473,
          1.236394700963703,
          1.2667349767765572,
          1.2575155697755513,
          1.2245185091200954,
          1.1783901614471923,
          1.126098545213874,
          1.0720294813087428,
          1.0187971996853236,
          0.9678330743788359,
          0.9198049233427857,
          0.8749091760292392,
          0.8330693768030067,
          0.7940670073580819,
          0.7576244275345512,
          0.7234547400966062,
          0.6912894366767238,
          0.6608916228957143,
          0.632060296997173,
          0.6046294263124409,
          0.578464304287866,
          0.5534567710291459,
          0.5295202542028031,
          0.5065851636912474,
          0.4845948967888032,
          0.4635025380058816,
          0.44326823640124063,
          0.4238571900024832,
          0.40523814419741416,
          0.3873823069903142,
          0.3702625905473738,
          0.35385310012920096
         ],
         "yaxis": "y"
        },
        {
         "line": {
          "color": "orange"
         },
         "mode": "lines",
         "name": "scipy-solver RK45",
         "type": "scatter",
         "x": [
          1,
          1.5,
          2,
          2.5,
          3,
          3.5,
          4,
          4.5,
          5,
          5.5,
          6,
          6.5,
          7,
          7.5,
          8,
          8.5,
          9,
          9.5,
          10,
          10.5,
          11,
          11.5,
          12,
          12.5,
          13,
          13.5,
          14,
          14.5,
          15,
          15.5,
          16,
          16.5,
          17,
          17.5,
          18,
          18.5,
          19,
          19.5,
          20
         ],
         "xaxis": "x",
         "y": [
          0,
          0.05139865035681932,
          0.08115702608731588,
          0.09608906314514779,
          0.1012623320905203,
          0.6086901474271975,
          0.9402843115812856,
          1.1312317607341593,
          1.2267655602785832,
          1.2591335800469636,
          1.251762365850706,
          1.2198831047533512,
          1.1746556388457714,
          1.1233947074397,
          1.0697257156273399,
          1.0166356815598347,
          0.9662940657331528,
          0.9187030614533725,
          0.8737431296545839,
          0.8317636791510019,
          0.7930801178558634,
          0.7569364571450411,
          0.7228328947678279,
          0.6905575501655847,
          0.6601759519571301,
          0.631509975372294,
          0.6042083139953688,
          0.5781141907954266,
          0.5531307578802988,
          0.5292210964965757,
          0.5063515363571104,
          0.4844033933342357,
          0.46334661001622834,
          0.4431513953009441,
          0.4237831988672306,
          0.40520271117492734,
          0.3873686918081063,
          0.37026207030790526,
          0.35386179547655316
         ],
         "yaxis": "y"
        },
        {
         "line": {
          "color": "blue"
         },
         "mode": "lines",
         "name": "my-solver with delta_t = 0.5",
         "showlegend": false,
         "type": "scatter",
         "x": [
          1,
          1.5,
          2,
          2.5,
          3,
          3.5,
          4,
          4.5,
          5,
          5.5,
          6,
          6.5,
          7,
          7.5,
          8,
          8.5,
          9,
          9.5,
          10,
          10.5,
          11,
          11.5,
          12,
          12.5,
          13,
          13.5,
          14,
          14.5,
          15,
          15.5,
          16,
          16.5,
          17,
          17.5,
          18,
          18.5,
          19,
          19.5,
          20
         ],
         "xaxis": "x2",
         "y": [
          0,
          0,
          2.179770329063224,
          3.49738343730719,
          4.190437202941888,
          4.454530068047745,
          4.442294677484043,
          4.266971579482928,
          4.008318299803822,
          3.7192964026510054,
          3.4325421392537803,
          3.1660645216058545,
          2.9279284115655826,
          2.719887005570757,
          2.5400508559887416,
          2.384741904127581,
          2.249700579774802,
          2.1308076364345476,
          2.024461874409139,
          1.9277285340813233,
          1.8383462605664487,
          1.754656230907358,
          1.675496758633669,
          1.6000908342937072,
          1.5279423632728282,
          1.458748728406082,
          1.3923320178353977,
          1.328588112477326,
          1.2674511998586333,
          1.2088706635689501,
          1.1527973003885181,
          1.0991761584630122,
          1.0479437781515348,
          0.9990281313685628,
          0.9523500263676951,
          0.9078251400452805,
          0.8653661494209278,
          0.8248846622701917,
          0.7862928053252538
         ],
         "yaxis": "y2"
        },
        {
         "line": {
          "color": "red"
         },
         "mode": "lines",
         "name": "my-solver with delta_t = 0.25",
         "showlegend": false,
         "type": "scatter",
         "x": [
          1,
          1.5,
          2,
          2.5,
          3,
          3.5,
          4,
          4.5,
          5,
          5.5,
          6,
          6.5,
          7,
          7.5,
          8,
          8.5,
          9,
          9.5,
          10,
          10.5,
          11,
          11.5,
          12,
          12.5,
          13,
          13.5,
          14,
          14.5,
          15,
          15.5,
          16,
          16.5,
          17,
          17.5,
          18,
          18.5,
          19,
          19.5,
          20
         ],
         "xaxis": "x2",
         "y": [
          0,
          1.16743039809305,
          2.8553105539215964,
          3.8676220571797826,
          4.394974368253672,
          4.589150795864262,
          4.566258692134175,
          4.411735823356697,
          4.185960899385488,
          3.929699737408506,
          3.6689645864873346,
          3.41909957886517,
          3.18805626500913,
          2.978912426273044,
          2.7917333298855564,
          2.6248917158159446,
          2.47596191406133,
          2.3422924071296984,
          2.2213452789821524,
          2.110873855493446,
          2.0089935716186,
          1.914186828984731,
          1.8252707918337236,
          1.7413477391693124,
          1.6617505311244938,
          1.5859906236404993,
          1.513712507596083,
          1.4446561014477142,
          1.3786271770526772,
          1.3154750866184468,
          1.255076679030132,
          1.1973251904669158,
          1.142122954212702,
          1.0893769194373273,
          1.0389961467401494,
          0.9908906274938779,
          0.944970936662841,
          0.9011483664886002,
          0.8593352990238594
         ],
         "yaxis": "y2"
        },
        {
         "line": {
          "color": "green"
         },
         "mode": "lines",
         "name": "my-solver with delta_t = 0.05",
         "showlegend": false,
         "type": "scatter",
         "x": [
          1,
          1.5,
          2,
          2.5,
          3,
          3.5,
          4,
          4.5,
          5,
          5.5,
          6,
          6.5,
          7,
          7.5,
          8,
          8.5,
          9,
          9.5,
          10,
          10.5,
          11,
          11.5,
          12,
          12.5,
          13,
          13.5,
          14,
          14.5,
          15,
          15.5,
          16,
          16.5,
          17,
          17.5,
          18,
          18.5,
          19,
          19.5,
          20
         ],
         "xaxis": "x2",
         "y": [
          0,
          1.8961783892403605,
          3.292034635935321,
          4.126864997761469,
          4.559040916683526,
          4.712931961899434,
          4.683119070229735,
          4.539287407555306,
          4.331097134934824,
          4.092634665915793,
          3.846252936828356,
          3.605742313956981,
          3.3788545288408267,
          3.1692463426397386,
          2.977929470285086,
          2.80431746590802,
          2.6469551110865592,
          2.5040057562620945,
          2.373559981055404,
          2.2538167179016115,
          2.14317670577136,
          2.040278349417006,
          1.9439979417962305,
          1.853429729803906,
          1.7678563088837644,
          1.6867161052623203,
          1.6095720152404316,
          1.5360833999445662,
          1.4659823868195516,
          1.3990546423051147,
          1.3351243213883792,
          1.2740426660287252,
          1.2156796381411727,
          1.1599179772693609,
          1.106649128429155,
          1.0557705649348645,
          1.0071841170390385,
          0.9607949995708632,
          0.9165113049095003
         ],
         "yaxis": "y2"
        },
        {
         "line": {
          "color": "purple"
         },
         "mode": "lines",
         "name": "my-solver with delta_t = 0.001",
         "showlegend": false,
         "type": "scatter",
         "x": [
          1,
          1.5,
          2,
          2.5,
          3,
          3.5,
          4,
          4.5,
          5,
          5.5,
          6,
          6.5,
          7,
          7.5,
          8,
          8.5,
          9,
          9.5,
          10,
          10.5,
          11,
          11.5,
          12,
          12.5,
          13,
          13.5,
          14,
          14.5,
          15,
          15.5,
          16,
          16.5,
          17,
          17.5,
          18,
          18.5,
          19,
          19.5,
          20
         ],
         "xaxis": "x2",
         "y": [
          0,
          2.053870430210143,
          3.388866921512614,
          4.186909013033892,
          4.599339600874498,
          4.744754322971246,
          4.713296610033445,
          4.571445418146078,
          4.366691481764229,
          4.131766921236943,
          3.8882733395445883,
          3.6496689202380828,
          3.4236441902834693,
          3.213953317335753,
          3.0217837292699103,
          2.8467492563294488,
          2.687586445047684,
          2.542624006207576,
          2.410084077402669,
          2.2882627001228846,
          2.175626553005432,
          2.070854003339543,
          1.9728410883515637,
          1.8806870772584783,
          1.7936696495857294,
          1.7112162606732262,
          1.6328757452737144,
          1.5582924383568788,
          1.4871838943779319,
          1.4193225151409676,
          1.3545209324983603,
          1.2926207417692228,
          1.2334840737431654,
          1.176987475046158,
          1.12301760114415,
          1.071468287711347,
          1.0222386376633896,
          0.9752318324387476,
          0.9303544412149849
         ],
         "yaxis": "y2"
        },
        {
         "line": {
          "color": "orange"
         },
         "mode": "lines",
         "name": "scipy-solver RK45",
         "showlegend": false,
         "type": "scatter",
         "x": [
          1,
          1.5,
          2,
          2.5,
          3,
          3.5,
          4,
          4.5,
          5,
          5.5,
          6,
          6.5,
          7,
          7.5,
          8,
          8.5,
          9,
          9.5,
          10,
          10.5,
          11,
          11.5,
          12,
          12.5,
          13,
          13.5,
          14,
          14.5,
          15,
          15.5,
          16,
          16.5,
          17,
          17.5,
          18,
          18.5,
          19,
          19.5,
          20
         ],
         "xaxis": "x2",
         "y": [
          0,
          2.0570144930560215,
          3.3907808775420296,
          4.188146023641778,
          4.600176529979223,
          4.745416480692539,
          4.713939220117071,
          4.572129492370518,
          4.367487497600142,
          4.132542715714618,
          3.889318481409827,
          3.65058359102827,
          3.4244950527271123,
          3.215145204286543,
          3.0227421169362723,
          2.8473010726425327,
          2.688440841758364,
          2.5436502810547905,
          2.4107265793468198,
          2.288475781562932,
          2.176005384703642,
          2.071399125840961,
          1.9733416032001405,
          1.8809787422648685,
          1.7939021954780685,
          1.7115045866436311,
          1.6331897209252355,
          1.5586371267947767,
          1.4875672739690011,
          1.4197415734095065,
          1.3549327079535312,
          1.2929693897932335,
          1.2337937901545335,
          1.17731711056953,
          1.1234149639584334,
          1.0719273746295654,
          1.0226786154739087,
          0.975633257090937,
          0.9307202646789006
         ],
         "yaxis": "y2"
        }
       ],
       "layout": {
        "annotations": [
         {
          "font": {
           "size": 16
          },
          "showarrow": false,
          "text": "ages 0-10",
          "x": 0.225,
          "xanchor": "center",
          "xref": "paper",
          "y": 1,
          "yanchor": "bottom",
          "yref": "paper"
         },
         {
          "font": {
           "size": 16
          },
          "showarrow": false,
          "text": "ages 10-25",
          "x": 0.775,
          "xanchor": "center",
          "xref": "paper",
          "y": 1,
          "yanchor": "bottom",
          "yref": "paper"
         }
        ],
        "boxmode": "group",
        "legend": {
         "orientation": "h",
         "x": 1,
         "xanchor": "right",
         "y": 1.02,
         "yanchor": "bottom"
        },
        "plot_bgcolor": "white",
        "template": {
         "data": {
          "bar": [
           {
            "error_x": {
             "color": "#2a3f5f"
            },
            "error_y": {
             "color": "#2a3f5f"
            },
            "marker": {
             "line": {
              "color": "#E5ECF6",
              "width": 0.5
             },
             "pattern": {
              "fillmode": "overlay",
              "size": 10,
              "solidity": 0.2
             }
            },
            "type": "bar"
           }
          ],
          "barpolar": [
           {
            "marker": {
             "line": {
              "color": "#E5ECF6",
              "width": 0.5
             },
             "pattern": {
              "fillmode": "overlay",
              "size": 10,
              "solidity": 0.2
             }
            },
            "type": "barpolar"
           }
          ],
          "carpet": [
           {
            "aaxis": {
             "endlinecolor": "#2a3f5f",
             "gridcolor": "white",
             "linecolor": "white",
             "minorgridcolor": "white",
             "startlinecolor": "#2a3f5f"
            },
            "baxis": {
             "endlinecolor": "#2a3f5f",
             "gridcolor": "white",
             "linecolor": "white",
             "minorgridcolor": "white",
             "startlinecolor": "#2a3f5f"
            },
            "type": "carpet"
           }
          ],
          "choropleth": [
           {
            "colorbar": {
             "outlinewidth": 0,
             "ticks": ""
            },
            "type": "choropleth"
           }
          ],
          "contour": [
           {
            "colorbar": {
             "outlinewidth": 0,
             "ticks": ""
            },
            "colorscale": [
             [
              0,
              "#0d0887"
             ],
             [
              0.1111111111111111,
              "#46039f"
             ],
             [
              0.2222222222222222,
              "#7201a8"
             ],
             [
              0.3333333333333333,
              "#9c179e"
             ],
             [
              0.4444444444444444,
              "#bd3786"
             ],
             [
              0.5555555555555556,
              "#d8576b"
             ],
             [
              0.6666666666666666,
              "#ed7953"
             ],
             [
              0.7777777777777778,
              "#fb9f3a"
             ],
             [
              0.8888888888888888,
              "#fdca26"
             ],
             [
              1,
              "#f0f921"
             ]
            ],
            "type": "contour"
           }
          ],
          "contourcarpet": [
           {
            "colorbar": {
             "outlinewidth": 0,
             "ticks": ""
            },
            "type": "contourcarpet"
           }
          ],
          "heatmap": [
           {
            "colorbar": {
             "outlinewidth": 0,
             "ticks": ""
            },
            "colorscale": [
             [
              0,
              "#0d0887"
             ],
             [
              0.1111111111111111,
              "#46039f"
             ],
             [
              0.2222222222222222,
              "#7201a8"
             ],
             [
              0.3333333333333333,
              "#9c179e"
             ],
             [
              0.4444444444444444,
              "#bd3786"
             ],
             [
              0.5555555555555556,
              "#d8576b"
             ],
             [
              0.6666666666666666,
              "#ed7953"
             ],
             [
              0.7777777777777778,
              "#fb9f3a"
             ],
             [
              0.8888888888888888,
              "#fdca26"
             ],
             [
              1,
              "#f0f921"
             ]
            ],
            "type": "heatmap"
           }
          ],
          "heatmapgl": [
           {
            "colorbar": {
             "outlinewidth": 0,
             "ticks": ""
            },
            "colorscale": [
             [
              0,
              "#0d0887"
             ],
             [
              0.1111111111111111,
              "#46039f"
             ],
             [
              0.2222222222222222,
              "#7201a8"
             ],
             [
              0.3333333333333333,
              "#9c179e"
             ],
             [
              0.4444444444444444,
              "#bd3786"
             ],
             [
              0.5555555555555556,
              "#d8576b"
             ],
             [
              0.6666666666666666,
              "#ed7953"
             ],
             [
              0.7777777777777778,
              "#fb9f3a"
             ],
             [
              0.8888888888888888,
              "#fdca26"
             ],
             [
              1,
              "#f0f921"
             ]
            ],
            "type": "heatmapgl"
           }
          ],
          "histogram": [
           {
            "marker": {
             "pattern": {
              "fillmode": "overlay",
              "size": 10,
              "solidity": 0.2
             }
            },
            "type": "histogram"
           }
          ],
          "histogram2d": [
           {
            "colorbar": {
             "outlinewidth": 0,
             "ticks": ""
            },
            "colorscale": [
             [
              0,
              "#0d0887"
             ],
             [
              0.1111111111111111,
              "#46039f"
             ],
             [
              0.2222222222222222,
              "#7201a8"
             ],
             [
              0.3333333333333333,
              "#9c179e"
             ],
             [
              0.4444444444444444,
              "#bd3786"
             ],
             [
              0.5555555555555556,
              "#d8576b"
             ],
             [
              0.6666666666666666,
              "#ed7953"
             ],
             [
              0.7777777777777778,
              "#fb9f3a"
             ],
             [
              0.8888888888888888,
              "#fdca26"
             ],
             [
              1,
              "#f0f921"
             ]
            ],
            "type": "histogram2d"
           }
          ],
          "histogram2dcontour": [
           {
            "colorbar": {
             "outlinewidth": 0,
             "ticks": ""
            },
            "colorscale": [
             [
              0,
              "#0d0887"
             ],
             [
              0.1111111111111111,
              "#46039f"
             ],
             [
              0.2222222222222222,
              "#7201a8"
             ],
             [
              0.3333333333333333,
              "#9c179e"
             ],
             [
              0.4444444444444444,
              "#bd3786"
             ],
             [
              0.5555555555555556,
              "#d8576b"
             ],
             [
              0.6666666666666666,
              "#ed7953"
             ],
             [
              0.7777777777777778,
              "#fb9f3a"
             ],
             [
              0.8888888888888888,
              "#fdca26"
             ],
             [
              1,
              "#f0f921"
             ]
            ],
            "type": "histogram2dcontour"
           }
          ],
          "mesh3d": [
           {
            "colorbar": {
             "outlinewidth": 0,
             "ticks": ""
            },
            "type": "mesh3d"
           }
          ],
          "parcoords": [
           {
            "line": {
             "colorbar": {
              "outlinewidth": 0,
              "ticks": ""
             }
            },
            "type": "parcoords"
           }
          ],
          "pie": [
           {
            "automargin": true,
            "type": "pie"
           }
          ],
          "scatter": [
           {
            "marker": {
             "colorbar": {
              "outlinewidth": 0,
              "ticks": ""
             }
            },
            "type": "scatter"
           }
          ],
          "scatter3d": [
           {
            "line": {
             "colorbar": {
              "outlinewidth": 0,
              "ticks": ""
             }
            },
            "marker": {
             "colorbar": {
              "outlinewidth": 0,
              "ticks": ""
             }
            },
            "type": "scatter3d"
           }
          ],
          "scattercarpet": [
           {
            "marker": {
             "colorbar": {
              "outlinewidth": 0,
              "ticks": ""
             }
            },
            "type": "scattercarpet"
           }
          ],
          "scattergeo": [
           {
            "marker": {
             "colorbar": {
              "outlinewidth": 0,
              "ticks": ""
             }
            },
            "type": "scattergeo"
           }
          ],
          "scattergl": [
           {
            "marker": {
             "colorbar": {
              "outlinewidth": 0,
              "ticks": ""
             }
            },
            "type": "scattergl"
           }
          ],
          "scattermapbox": [
           {
            "marker": {
             "colorbar": {
              "outlinewidth": 0,
              "ticks": ""
             }
            },
            "type": "scattermapbox"
           }
          ],
          "scatterpolar": [
           {
            "marker": {
             "colorbar": {
              "outlinewidth": 0,
              "ticks": ""
             }
            },
            "type": "scatterpolar"
           }
          ],
          "scatterpolargl": [
           {
            "marker": {
             "colorbar": {
              "outlinewidth": 0,
              "ticks": ""
             }
            },
            "type": "scatterpolargl"
           }
          ],
          "scatterternary": [
           {
            "marker": {
             "colorbar": {
              "outlinewidth": 0,
              "ticks": ""
             }
            },
            "type": "scatterternary"
           }
          ],
          "surface": [
           {
            "colorbar": {
             "outlinewidth": 0,
             "ticks": ""
            },
            "colorscale": [
             [
              0,
              "#0d0887"
             ],
             [
              0.1111111111111111,
              "#46039f"
             ],
             [
              0.2222222222222222,
              "#7201a8"
             ],
             [
              0.3333333333333333,
              "#9c179e"
             ],
             [
              0.4444444444444444,
              "#bd3786"
             ],
             [
              0.5555555555555556,
              "#d8576b"
             ],
             [
              0.6666666666666666,
              "#ed7953"
             ],
             [
              0.7777777777777778,
              "#fb9f3a"
             ],
             [
              0.8888888888888888,
              "#fdca26"
             ],
             [
              1,
              "#f0f921"
             ]
            ],
            "type": "surface"
           }
          ],
          "table": [
           {
            "cells": {
             "fill": {
              "color": "#EBF0F8"
             },
             "line": {
              "color": "white"
             }
            },
            "header": {
             "fill": {
              "color": "#C8D4E3"
             },
             "line": {
              "color": "white"
             }
            },
            "type": "table"
           }
          ]
         },
         "layout": {
          "annotationdefaults": {
           "arrowcolor": "#2a3f5f",
           "arrowhead": 0,
           "arrowwidth": 1
          },
          "autotypenumbers": "strict",
          "coloraxis": {
           "colorbar": {
            "outlinewidth": 0,
            "ticks": ""
           }
          },
          "colorscale": {
           "diverging": [
            [
             0,
             "#8e0152"
            ],
            [
             0.1,
             "#c51b7d"
            ],
            [
             0.2,
             "#de77ae"
            ],
            [
             0.3,
             "#f1b6da"
            ],
            [
             0.4,
             "#fde0ef"
            ],
            [
             0.5,
             "#f7f7f7"
            ],
            [
             0.6,
             "#e6f5d0"
            ],
            [
             0.7,
             "#b8e186"
            ],
            [
             0.8,
             "#7fbc41"
            ],
            [
             0.9,
             "#4d9221"
            ],
            [
             1,
             "#276419"
            ]
           ],
           "sequential": [
            [
             0,
             "#0d0887"
            ],
            [
             0.1111111111111111,
             "#46039f"
            ],
            [
             0.2222222222222222,
             "#7201a8"
            ],
            [
             0.3333333333333333,
             "#9c179e"
            ],
            [
             0.4444444444444444,
             "#bd3786"
            ],
            [
             0.5555555555555556,
             "#d8576b"
            ],
            [
             0.6666666666666666,
             "#ed7953"
            ],
            [
             0.7777777777777778,
             "#fb9f3a"
            ],
            [
             0.8888888888888888,
             "#fdca26"
            ],
            [
             1,
             "#f0f921"
            ]
           ],
           "sequentialminus": [
            [
             0,
             "#0d0887"
            ],
            [
             0.1111111111111111,
             "#46039f"
            ],
            [
             0.2222222222222222,
             "#7201a8"
            ],
            [
             0.3333333333333333,
             "#9c179e"
            ],
            [
             0.4444444444444444,
             "#bd3786"
            ],
            [
             0.5555555555555556,
             "#d8576b"
            ],
            [
             0.6666666666666666,
             "#ed7953"
            ],
            [
             0.7777777777777778,
             "#fb9f3a"
            ],
            [
             0.8888888888888888,
             "#fdca26"
            ],
            [
             1,
             "#f0f921"
            ]
           ]
          },
          "colorway": [
           "#636efa",
           "#EF553B",
           "#00cc96",
           "#ab63fa",
           "#FFA15A",
           "#19d3f3",
           "#FF6692",
           "#B6E880",
           "#FF97FF",
           "#FECB52"
          ],
          "font": {
           "color": "#2a3f5f"
          },
          "geo": {
           "bgcolor": "white",
           "lakecolor": "white",
           "landcolor": "#E5ECF6",
           "showlakes": true,
           "showland": true,
           "subunitcolor": "white"
          },
          "hoverlabel": {
           "align": "left"
          },
          "hovermode": "closest",
          "mapbox": {
           "style": "light"
          },
          "paper_bgcolor": "white",
          "plot_bgcolor": "#E5ECF6",
          "polar": {
           "angularaxis": {
            "gridcolor": "white",
            "linecolor": "white",
            "ticks": ""
           },
           "bgcolor": "#E5ECF6",
           "radialaxis": {
            "gridcolor": "white",
            "linecolor": "white",
            "ticks": ""
           }
          },
          "scene": {
           "xaxis": {
            "backgroundcolor": "#E5ECF6",
            "gridcolor": "white",
            "gridwidth": 2,
            "linecolor": "white",
            "showbackground": true,
            "ticks": "",
            "zerolinecolor": "white"
           },
           "yaxis": {
            "backgroundcolor": "#E5ECF6",
            "gridcolor": "white",
            "gridwidth": 2,
            "linecolor": "white",
            "showbackground": true,
            "ticks": "",
            "zerolinecolor": "white"
           },
           "zaxis": {
            "backgroundcolor": "#E5ECF6",
            "gridcolor": "white",
            "gridwidth": 2,
            "linecolor": "white",
            "showbackground": true,
            "ticks": "",
            "zerolinecolor": "white"
           }
          },
          "shapedefaults": {
           "line": {
            "color": "#2a3f5f"
           }
          },
          "ternary": {
           "aaxis": {
            "gridcolor": "white",
            "linecolor": "white",
            "ticks": ""
           },
           "baxis": {
            "gridcolor": "white",
            "linecolor": "white",
            "ticks": ""
           },
           "bgcolor": "#E5ECF6",
           "caxis": {
            "gridcolor": "white",
            "linecolor": "white",
            "ticks": ""
           }
          },
          "title": {
           "x": 0.05
          },
          "xaxis": {
           "automargin": true,
           "gridcolor": "white",
           "linecolor": "white",
           "ticks": "",
           "title": {
            "standoff": 15
           },
           "zerolinecolor": "white",
           "zerolinewidth": 2
          },
          "yaxis": {
           "automargin": true,
           "gridcolor": "white",
           "linecolor": "white",
           "ticks": "",
           "title": {
            "standoff": 15
           },
           "zerolinecolor": "white",
           "zerolinewidth": 2
          }
         }
        },
        "title": {
         "text": "E1 in region London"
        },
        "width": 800,
        "xaxis": {
         "anchor": "y",
         "domain": [
          0,
          0.45
         ],
         "linecolor": "black"
        },
        "xaxis2": {
         "anchor": "y2",
         "domain": [
          0.55,
          1
         ],
         "linecolor": "black"
        },
        "xaxis3": {
         "linecolor": "black"
        },
        "xaxis4": {
         "linecolor": "black"
        },
        "xaxis5": {
         "linecolor": "black"
        },
        "xaxis6": {
         "linecolor": "black"
        },
        "xaxis7": {
         "linecolor": "black"
        },
        "xaxis8": {
         "linecolor": "black"
        },
        "yaxis": {
         "anchor": "x",
         "domain": [
          0,
          1
         ],
         "linecolor": "black"
        },
        "yaxis2": {
         "anchor": "x2",
         "domain": [
          0,
          1
         ],
         "linecolor": "black"
        },
        "yaxis3": {
         "linecolor": "black"
        },
        "yaxis4": {
         "linecolor": "black"
        },
        "yaxis5": {
         "linecolor": "black"
        },
        "yaxis6": {
         "linecolor": "black"
        },
        "yaxis7": {
         "linecolor": "black"
        },
        "yaxis8": {
         "linecolor": "black"
        }
       }
      }
     },
     "metadata": {},
     "output_type": "display_data"
    },
    {
     "data": {
      "application/vnd.plotly.v1+json": {
       "config": {
        "plotlyServerURL": "https://plot.ly"
       },
       "data": [
        {
         "line": {
          "color": "blue"
         },
         "mode": "lines",
         "name": "my-solver with delta_t = 0.5",
         "type": "scatter",
         "x": [
          1,
          1.5,
          2,
          2.5,
          3,
          3.5,
          4,
          4.5,
          5,
          5.5,
          6,
          6.5,
          7,
          7.5,
          8,
          8.5,
          9,
          9.5,
          10,
          10.5,
          11,
          11.5,
          12,
          12.5,
          13,
          13.5,
          14,
          14.5,
          15,
          15.5,
          16,
          16.5,
          17,
          17.5,
          18,
          18.5,
          19,
          19.5,
          20
         ],
         "xaxis": "x",
         "y": [
          0,
          0,
          0,
          0.012657898195905792,
          0.028818548360732343,
          0.04373533319157066,
          0.2041375176073253,
          0.407723758407789,
          0.6004606249783904,
          0.7579389083834667,
          0.8729623857844578,
          0.947529008138069,
          0.9878500705538358,
          1.0014204732518581,
          0.9954319983660356,
          0.976031778088293,
          0.9480847180366432,
          0.9152132225220851,
          0.8799695685003972,
          0.8440533982217798,
          0.8085253207931482,
          0.7739925633312281,
          0.7407579467580234,
          0.7089322078153989,
          0.6785141021845783,
          0.6494444303866465,
          0.6216402612496301,
          0.5950149441528874,
          0.569488481691321,
          0.5449917638400339,
          0.5214671952564647,
          0.4988674453372084,
          0.4771534304780819,
          0.4562921856358645,
          0.4362549706413512,
          0.41701575504669597,
          0.3985501046212605,
          0.3808344282703866,
          0.363845516624615
         ],
         "yaxis": "y"
        },
        {
         "line": {
          "color": "red"
         },
         "mode": "lines",
         "name": "my-solver with delta_t = 0.25",
         "type": "scatter",
         "x": [
          1,
          1.5,
          2,
          2.5,
          3,
          3.5,
          4,
          4.5,
          5,
          5.5,
          6,
          6.5,
          7,
          7.5,
          8,
          8.5,
          9,
          9.5,
          10,
          10.5,
          11,
          11.5,
          12,
          12.5,
          13,
          13.5,
          14,
          14.5,
          15,
          15.5,
          16,
          16.5,
          17,
          17.5,
          18,
          18.5,
          19,
          19.5,
          20
         ],
         "xaxis": "x",
         "y": [
          0,
          0,
          0.009542585945858422,
          0.024605193972011323,
          0.03996590425049889,
          0.09200166313336867,
          0.2469355042855043,
          0.4322452551029967,
          0.608330241603589,
          0.7562788049528353,
          0.8695997003047099,
          0.9487726419908991,
          0.9977697087009649,
          1.021926780442705,
          1.026717331941598,
          1.0171113123322206,
          0.9972987661221255,
          0.970628787702226,
          0.9396654063761828,
          0.9062979331359717,
          0.8718680260983616,
          0.8372922735055569,
          0.8031697826899251,
          0.7698708649954702,
          0.7376067300277922,
          0.7064820991626362,
          0.6765334928401553,
          0.647756104761842,
          0.6201219603670847,
          0.5935916673863848,
          0.5681216253347434,
          0.5436681379421173,
          0.520189502345233,
          0.4976468442469418,
          0.47600422929308905,
          0.4552284009954208,
          0.4352883651314431,
          0.41615494960641,
          0.39780040792216803
         ],
         "yaxis": "y"
        },
        {
         "line": {
          "color": "green"
         },
         "mode": "lines",
         "name": "my-solver with delta_t = 0.05",
         "type": "scatter",
         "x": [
          1,
          1.5,
          2,
          2.5,
          3,
          3.5,
          4,
          4.5,
          5,
          5.5,
          6,
          6.5,
          7,
          7.5,
          8,
          8.5,
          9,
          9.5,
          10,
          10.5,
          11,
          11.5,
          12,
          12.5,
          13,
          13.5,
          14,
          14.5,
          15,
          15.5,
          16,
          16.5,
          17,
          17.5,
          18,
          18.5,
          19,
          19.5,
          20
         ],
         "xaxis": "x",
         "y": [
          0,
          0.0048298037039279,
          0.017977355419514018,
          0.03344486984550212,
          0.04782694046215721,
          0.12020861832199199,
          0.2726447569716973,
          0.44826917181545756,
          0.6152573663727736,
          0.7578206707420283,
          0.870037444106564,
          0.9517192149970622,
          1.0057146116569984,
          1.0362116267966237,
          1.0477189958813085,
          1.0444981970041407,
          1.030285245749539,
          1.0081912659314196,
          0.9807069475155411,
          0.9497617855016515,
          0.9168070513962927,
          0.8829038249652367,
          0.8488056783240552,
          0.8150309469604347,
          0.7819228310536427,
          0.7496974974728139,
          0.7184813682498626,
          0.6883392174271107,
          0.659294784515166,
          0.6313455036977932,
          0.604472743751715,
          0.5786487168861936,
          0.5538409818905389,
          0.5300152574244035,
          0.5071370833027244,
          0.48517272283786284,
          0.46408958557622393,
          0.4438563631401842,
          0.4244430067589798
         ],
         "yaxis": "y"
        },
        {
         "line": {
          "color": "purple"
         },
         "mode": "lines",
         "name": "my-solver with delta_t = 0.001",
         "type": "scatter",
         "x": [
          1,
          1.5,
          2,
          2.5,
          3,
          3.5,
          4,
          4.5,
          5,
          5.5,
          6,
          6.5,
          7,
          7.5,
          8,
          8.5,
          9,
          9.5,
          10,
          10.5,
          11,
          11.5,
          12,
          12.5,
          13,
          13.5,
          14,
          14.5,
          15,
          15.5,
          16,
          16.5,
          17,
          17.5,
          18,
          18.5,
          19,
          19.5,
          20
         ],
         "xaxis": "x",
         "y": [
          0,
          0.0063632441485683144,
          0.020063393425523917,
          0.03551041460461384,
          0.049632327336097785,
          0.1261323213067306,
          0.27811703330200416,
          0.4518134346889931,
          0.6169571635918218,
          0.7584056017248981,
          0.8703741111441181,
          0.9525579825654275,
          1.0075903881824269,
          1.0394311445606883,
          1.0523913452330735,
          1.0505821917446265,
          1.037638532167103,
          1.0166134683400858,
          0.989973736259867,
          0.9596494353304402,
          0.9271084726990791,
          0.893437659753045,
          0.8594201798294914,
          0.8256042246143692,
          0.7923607831287021,
          0.7599304591284541,
          0.728460222723892,
          0.6980314773702492,
          0.6686809578359197,
          0.6404159133192926,
          0.6132248679846729,
          0.5870850492094487,
          0.5619673679776823,
          0.5378396460706,
          0.514668620396942,
          0.49242111883713063,
          0.4710646934026223,
          0.45056791240948707,
          0.43090044998487337
         ],
         "yaxis": "y"
        },
        {
         "line": {
          "color": "orange"
         },
         "mode": "lines",
         "name": "scipy-solver RK45",
         "type": "scatter",
         "x": [
          1,
          1.5,
          2,
          2.5,
          3,
          3.5,
          4,
          4.5,
          5,
          5.5,
          6,
          6.5,
          7,
          7.5,
          8,
          8.5,
          9,
          9.5,
          10,
          10.5,
          11,
          11.5,
          12,
          12.5,
          13,
          13.5,
          14,
          14.5,
          15,
          15.5,
          16,
          16.5,
          17,
          17.5,
          18,
          18.5,
          19,
          19.5,
          20
         ],
         "xaxis": "x",
         "y": [
          0,
          0.0063954994134103734,
          0.020099434980493824,
          0.0355548338837431,
          0.049671482678902076,
          0.12109589898171835,
          0.2701352469350592,
          0.4425503519860264,
          0.6071357814239876,
          0.7491393017915806,
          0.8612560559127429,
          0.944534576835673,
          1.000602929750712,
          1.0328561388668431,
          1.0468590461199254,
          1.0462241111881985,
          1.033653839438484,
          1.013040195427775,
          0.9870992520675548,
          0.9574262976790245,
          0.925143764696396,
          0.8917275440208536,
          0.8579279041275604,
          0.8242953013791006,
          0.7911926790797159,
          0.7589537653137783,
          0.7276650552798605,
          0.6973224878401094,
          0.667972808272567,
          0.6397135682711703,
          0.612634696244784,
          0.5866296160535124,
          0.5616110874467566,
          0.5375262579072404,
          0.5143536285606045,
          0.492103054175407,
          0.47079966453903044,
          0.45036084344722116,
          0.43074090184013736
         ],
         "yaxis": "y"
        },
        {
         "line": {
          "color": "blue"
         },
         "mode": "lines",
         "name": "my-solver with delta_t = 0.5",
         "showlegend": false,
         "type": "scatter",
         "x": [
          1,
          1.5,
          2,
          2.5,
          3,
          3.5,
          4,
          4.5,
          5,
          5.5,
          6,
          6.5,
          7,
          7.5,
          8,
          8.5,
          9,
          9.5,
          10,
          10.5,
          11,
          11.5,
          12,
          12.5,
          13,
          13.5,
          14,
          14.5,
          15,
          15.5,
          16,
          16.5,
          17,
          17.5,
          18,
          18.5,
          19,
          19.5,
          20
         ],
         "xaxis": "x2",
         "y": [
          0,
          0,
          0,
          0.544942582265806,
          1.2830527960261522,
          2.009898897755086,
          2.621056690328251,
          3.076366187117199,
          3.3740175352086315,
          3.532592726357429,
          3.5792686454308233,
          3.5425870188865627,
          3.4484563945663855,
          3.318324398816185,
          3.1687150505048285,
          3.0115490018758067,
          2.85484722743875,
          2.7035605655227632,
          2.560372333250709,
          2.4263947185403163,
          2.301728172425568,
          2.185882694460788,
          2.0780760785724306,
          1.9774312485877403,
          1.8830961450142323,
          1.7943076995788814,
          1.7104179567856814,
          1.6308964720481105,
          1.5553193821554143,
          1.4833523365812191,
          1.414731918328152,
          1.3492482638432435,
          1.2867302374981857,
          1.2270336226615228,
          1.170032249838283,
          1.115611693970636,
          1.063665055489297,
          1.0140903289722047,
          0.9667889122967015
         ],
         "yaxis": "y2"
        },
        {
         "line": {
          "color": "red"
         },
         "mode": "lines",
         "name": "my-solver with delta_t = 0.25",
         "showlegend": false,
         "type": "scatter",
         "x": [
          1,
          1.5,
          2,
          2.5,
          3,
          3.5,
          4,
          4.5,
          5,
          5.5,
          6,
          6.5,
          7,
          7.5,
          8,
          8.5,
          9,
          9.5,
          10,
          10.5,
          11,
          11.5,
          12,
          12.5,
          13,
          13.5,
          14,
          14.5,
          15,
          15.5,
          16,
          16.5,
          17,
          17.5,
          18,
          18.5,
          19,
          19.5,
          20
         ],
         "xaxis": "x2",
         "y": [
          0,
          0,
          0.3913459690927427,
          1.041057897151901,
          1.7427743238280384,
          2.380720658429609,
          2.8995332152927333,
          3.282034171479241,
          3.533441992620224,
          3.670596175498217,
          3.7149516864656364,
          3.6883073966080495,
          3.6104422875641995,
          3.4980247864102934,
          3.3643252246805027,
          3.2193962424529152,
          3.0704919281468364,
          2.9225766702109146,
          2.7788331235540316,
          2.641119584322662,
          2.5103543870392775,
          2.3868221553685247,
          2.270406725156307,
          2.1607605928978737,
          2.057422557088468,
          1.9598950810183255,
          1.8676917019610573,
          1.7803631372458386,
          1.6975089661992315,
          1.618780114418501,
          1.5438759411821512,
          1.4725385696429836,
          1.4045461978953897,
          1.3397064591179517,
          1.2778504227679375,
          1.218827506367851,
          1.1625013617241966,
          1.1087466785637043,
          1.0574467866252153
         ],
         "yaxis": "y2"
        },
        {
         "line": {
          "color": "green"
         },
         "mode": "lines",
         "name": "my-solver with delta_t = 0.05",
         "showlegend": false,
         "type": "scatter",
         "x": [
          1,
          1.5,
          2,
          2.5,
          3,
          3.5,
          4,
          4.5,
          5,
          5.5,
          6,
          6.5,
          7,
          7.5,
          8,
          8.5,
          9,
          9.5,
          10,
          10.5,
          11,
          11.5,
          12,
          12.5,
          13,
          13.5,
          14,
          14.5,
          15,
          15.5,
          16,
          16.5,
          17,
          17.5,
          18,
          18.5,
          19,
          19.5,
          20
         ],
         "xaxis": "x2",
         "y": [
          0,
          0.1906764679055813,
          0.7313062199798341,
          1.4008486985885955,
          2.062330121810903,
          2.6411890331243884,
          3.104133577137883,
          3.443758340880492,
          3.667703863588631,
          3.7912912986431264,
          3.8327378609319562,
          3.8102310761741287,
          3.740297597238951,
          3.6370387858547537,
          3.511918316489268,
          3.3738774768074298,
          3.2296238849475345,
          3.0839919821048953,
          2.9403120129948297,
          2.8007512383779223,
          2.666609460716324,
          2.538562807308865,
          2.41685691026233,
          2.3014545674579945,
          2.1921447421559206,
          2.0886201563402245,
          1.9905303214173558,
          1.8975160189775713,
          1.8092302498393549,
          1.7253496698311859,
          1.6455796153607603,
          1.5696550339301831,
          1.4973389875805245,
          1.4284198859662702,
          1.3627082158015749,
          1.3000332459913018,
          1.2402399833179119,
          1.1831865138365028,
          1.128741774181869
         ],
         "yaxis": "y2"
        },
        {
         "line": {
          "color": "purple"
         },
         "mode": "lines",
         "name": "my-solver with delta_t = 0.001",
         "showlegend": false,
         "type": "scatter",
         "x": [
          1,
          1.5,
          2,
          2.5,
          3,
          3.5,
          4,
          4.5,
          5,
          5.5,
          6,
          6.5,
          7,
          7.5,
          8,
          8.5,
          9,
          9.5,
          10,
          10.5,
          11,
          11.5,
          12,
          12.5,
          13,
          13.5,
          14,
          14.5,
          15,
          15.5,
          16,
          16.5,
          17,
          17.5,
          18,
          18.5,
          19,
          19.5,
          20
         ],
         "xaxis": "x2",
         "y": [
          0,
          0.2509356878809622,
          0.8148438868967691,
          1.4844922707851222,
          2.135727826774019,
          2.7015145189574215,
          3.1525283891965303,
          3.4830670961520034,
          3.701131681132541,
          3.821690210195134,
          3.8623000315787555,
          3.8404275442004763,
          3.7719505626632497,
          3.6704536086385406,
          3.54702960901059,
          3.4103836578684255,
          3.2670980279975113,
          3.1219653294162146,
          2.9783315046115195,
          2.838414926293629,
          2.703584600450863,
          2.5745913731422903,
          2.4517527129415484,
          2.3350953628067663,
          2.2244618927752944,
          2.1195876530438147,
          2.0201543374427806,
          1.9258256737668256,
          1.8362698942921152,
          1.751172754151549,
          1.6702440422064462,
          1.5932198115432894,
          1.519861960065206,
          1.4499563142558738,
          1.38331000003795,
          1.3197486082816077,
          1.2591134623009428,
          1.2012591547023885,
          1.1460514270808082
         ],
         "yaxis": "y2"
        },
        {
         "line": {
          "color": "orange"
         },
         "mode": "lines",
         "name": "scipy-solver RK45",
         "showlegend": false,
         "type": "scatter",
         "x": [
          1,
          1.5,
          2,
          2.5,
          3,
          3.5,
          4,
          4.5,
          5,
          5.5,
          6,
          6.5,
          7,
          7.5,
          8,
          8.5,
          9,
          9.5,
          10,
          10.5,
          11,
          11.5,
          12,
          12.5,
          13,
          13.5,
          14,
          14.5,
          15,
          15.5,
          16,
          16.5,
          17,
          17.5,
          18,
          18.5,
          19,
          19.5,
          20
         ],
         "xaxis": "x2",
         "y": [
          0,
          0.25220303095152796,
          0.8164126746303074,
          1.4862201523957028,
          2.1372430468193913,
          2.702762000206861,
          3.153448297747056,
          3.4838742617347918,
          3.7016821126635615,
          3.82246313987668,
          3.8627116457296307,
          3.8411058184090305,
          3.7728232064178746,
          3.6710729888483375,
          3.547818772027786,
          3.4114772757192133,
          3.268121086033652,
          3.122942459877167,
          2.9792704576252897,
          2.8393031137499083,
          2.7045087878358665,
          2.575630517845963,
          2.45263993262584,
          2.335625018383702,
          2.2247966682233757,
          2.120074593236758,
          2.0207811272266865,
          1.9263891107473288,
          1.836590782270392,
          1.7512977781851229,
          1.6704518422570154,
          1.5935441939022592,
          1.520250224393412,
          1.4503272507289047,
          1.383601688032853,
          1.319969049555057,
          1.2593652933636241,
          1.2015505194907838,
          1.1463652745532023
         ],
         "yaxis": "y2"
        }
       ],
       "layout": {
        "annotations": [
         {
          "font": {
           "size": 16
          },
          "showarrow": false,
          "text": "ages 0-10",
          "x": 0.225,
          "xanchor": "center",
          "xref": "paper",
          "y": 1,
          "yanchor": "bottom",
          "yref": "paper"
         },
         {
          "font": {
           "size": 16
          },
          "showarrow": false,
          "text": "ages 10-25",
          "x": 0.775,
          "xanchor": "center",
          "xref": "paper",
          "y": 1,
          "yanchor": "bottom",
          "yref": "paper"
         }
        ],
        "boxmode": "group",
        "legend": {
         "orientation": "h",
         "x": 1,
         "xanchor": "right",
         "y": 1.02,
         "yanchor": "bottom"
        },
        "plot_bgcolor": "white",
        "template": {
         "data": {
          "bar": [
           {
            "error_x": {
             "color": "#2a3f5f"
            },
            "error_y": {
             "color": "#2a3f5f"
            },
            "marker": {
             "line": {
              "color": "#E5ECF6",
              "width": 0.5
             },
             "pattern": {
              "fillmode": "overlay",
              "size": 10,
              "solidity": 0.2
             }
            },
            "type": "bar"
           }
          ],
          "barpolar": [
           {
            "marker": {
             "line": {
              "color": "#E5ECF6",
              "width": 0.5
             },
             "pattern": {
              "fillmode": "overlay",
              "size": 10,
              "solidity": 0.2
             }
            },
            "type": "barpolar"
           }
          ],
          "carpet": [
           {
            "aaxis": {
             "endlinecolor": "#2a3f5f",
             "gridcolor": "white",
             "linecolor": "white",
             "minorgridcolor": "white",
             "startlinecolor": "#2a3f5f"
            },
            "baxis": {
             "endlinecolor": "#2a3f5f",
             "gridcolor": "white",
             "linecolor": "white",
             "minorgridcolor": "white",
             "startlinecolor": "#2a3f5f"
            },
            "type": "carpet"
           }
          ],
          "choropleth": [
           {
            "colorbar": {
             "outlinewidth": 0,
             "ticks": ""
            },
            "type": "choropleth"
           }
          ],
          "contour": [
           {
            "colorbar": {
             "outlinewidth": 0,
             "ticks": ""
            },
            "colorscale": [
             [
              0,
              "#0d0887"
             ],
             [
              0.1111111111111111,
              "#46039f"
             ],
             [
              0.2222222222222222,
              "#7201a8"
             ],
             [
              0.3333333333333333,
              "#9c179e"
             ],
             [
              0.4444444444444444,
              "#bd3786"
             ],
             [
              0.5555555555555556,
              "#d8576b"
             ],
             [
              0.6666666666666666,
              "#ed7953"
             ],
             [
              0.7777777777777778,
              "#fb9f3a"
             ],
             [
              0.8888888888888888,
              "#fdca26"
             ],
             [
              1,
              "#f0f921"
             ]
            ],
            "type": "contour"
           }
          ],
          "contourcarpet": [
           {
            "colorbar": {
             "outlinewidth": 0,
             "ticks": ""
            },
            "type": "contourcarpet"
           }
          ],
          "heatmap": [
           {
            "colorbar": {
             "outlinewidth": 0,
             "ticks": ""
            },
            "colorscale": [
             [
              0,
              "#0d0887"
             ],
             [
              0.1111111111111111,
              "#46039f"
             ],
             [
              0.2222222222222222,
              "#7201a8"
             ],
             [
              0.3333333333333333,
              "#9c179e"
             ],
             [
              0.4444444444444444,
              "#bd3786"
             ],
             [
              0.5555555555555556,
              "#d8576b"
             ],
             [
              0.6666666666666666,
              "#ed7953"
             ],
             [
              0.7777777777777778,
              "#fb9f3a"
             ],
             [
              0.8888888888888888,
              "#fdca26"
             ],
             [
              1,
              "#f0f921"
             ]
            ],
            "type": "heatmap"
           }
          ],
          "heatmapgl": [
           {
            "colorbar": {
             "outlinewidth": 0,
             "ticks": ""
            },
            "colorscale": [
             [
              0,
              "#0d0887"
             ],
             [
              0.1111111111111111,
              "#46039f"
             ],
             [
              0.2222222222222222,
              "#7201a8"
             ],
             [
              0.3333333333333333,
              "#9c179e"
             ],
             [
              0.4444444444444444,
              "#bd3786"
             ],
             [
              0.5555555555555556,
              "#d8576b"
             ],
             [
              0.6666666666666666,
              "#ed7953"
             ],
             [
              0.7777777777777778,
              "#fb9f3a"
             ],
             [
              0.8888888888888888,
              "#fdca26"
             ],
             [
              1,
              "#f0f921"
             ]
            ],
            "type": "heatmapgl"
           }
          ],
          "histogram": [
           {
            "marker": {
             "pattern": {
              "fillmode": "overlay",
              "size": 10,
              "solidity": 0.2
             }
            },
            "type": "histogram"
           }
          ],
          "histogram2d": [
           {
            "colorbar": {
             "outlinewidth": 0,
             "ticks": ""
            },
            "colorscale": [
             [
              0,
              "#0d0887"
             ],
             [
              0.1111111111111111,
              "#46039f"
             ],
             [
              0.2222222222222222,
              "#7201a8"
             ],
             [
              0.3333333333333333,
              "#9c179e"
             ],
             [
              0.4444444444444444,
              "#bd3786"
             ],
             [
              0.5555555555555556,
              "#d8576b"
             ],
             [
              0.6666666666666666,
              "#ed7953"
             ],
             [
              0.7777777777777778,
              "#fb9f3a"
             ],
             [
              0.8888888888888888,
              "#fdca26"
             ],
             [
              1,
              "#f0f921"
             ]
            ],
            "type": "histogram2d"
           }
          ],
          "histogram2dcontour": [
           {
            "colorbar": {
             "outlinewidth": 0,
             "ticks": ""
            },
            "colorscale": [
             [
              0,
              "#0d0887"
             ],
             [
              0.1111111111111111,
              "#46039f"
             ],
             [
              0.2222222222222222,
              "#7201a8"
             ],
             [
              0.3333333333333333,
              "#9c179e"
             ],
             [
              0.4444444444444444,
              "#bd3786"
             ],
             [
              0.5555555555555556,
              "#d8576b"
             ],
             [
              0.6666666666666666,
              "#ed7953"
             ],
             [
              0.7777777777777778,
              "#fb9f3a"
             ],
             [
              0.8888888888888888,
              "#fdca26"
             ],
             [
              1,
              "#f0f921"
             ]
            ],
            "type": "histogram2dcontour"
           }
          ],
          "mesh3d": [
           {
            "colorbar": {
             "outlinewidth": 0,
             "ticks": ""
            },
            "type": "mesh3d"
           }
          ],
          "parcoords": [
           {
            "line": {
             "colorbar": {
              "outlinewidth": 0,
              "ticks": ""
             }
            },
            "type": "parcoords"
           }
          ],
          "pie": [
           {
            "automargin": true,
            "type": "pie"
           }
          ],
          "scatter": [
           {
            "marker": {
             "colorbar": {
              "outlinewidth": 0,
              "ticks": ""
             }
            },
            "type": "scatter"
           }
          ],
          "scatter3d": [
           {
            "line": {
             "colorbar": {
              "outlinewidth": 0,
              "ticks": ""
             }
            },
            "marker": {
             "colorbar": {
              "outlinewidth": 0,
              "ticks": ""
             }
            },
            "type": "scatter3d"
           }
          ],
          "scattercarpet": [
           {
            "marker": {
             "colorbar": {
              "outlinewidth": 0,
              "ticks": ""
             }
            },
            "type": "scattercarpet"
           }
          ],
          "scattergeo": [
           {
            "marker": {
             "colorbar": {
              "outlinewidth": 0,
              "ticks": ""
             }
            },
            "type": "scattergeo"
           }
          ],
          "scattergl": [
           {
            "marker": {
             "colorbar": {
              "outlinewidth": 0,
              "ticks": ""
             }
            },
            "type": "scattergl"
           }
          ],
          "scattermapbox": [
           {
            "marker": {
             "colorbar": {
              "outlinewidth": 0,
              "ticks": ""
             }
            },
            "type": "scattermapbox"
           }
          ],
          "scatterpolar": [
           {
            "marker": {
             "colorbar": {
              "outlinewidth": 0,
              "ticks": ""
             }
            },
            "type": "scatterpolar"
           }
          ],
          "scatterpolargl": [
           {
            "marker": {
             "colorbar": {
              "outlinewidth": 0,
              "ticks": ""
             }
            },
            "type": "scatterpolargl"
           }
          ],
          "scatterternary": [
           {
            "marker": {
             "colorbar": {
              "outlinewidth": 0,
              "ticks": ""
             }
            },
            "type": "scatterternary"
           }
          ],
          "surface": [
           {
            "colorbar": {
             "outlinewidth": 0,
             "ticks": ""
            },
            "colorscale": [
             [
              0,
              "#0d0887"
             ],
             [
              0.1111111111111111,
              "#46039f"
             ],
             [
              0.2222222222222222,
              "#7201a8"
             ],
             [
              0.3333333333333333,
              "#9c179e"
             ],
             [
              0.4444444444444444,
              "#bd3786"
             ],
             [
              0.5555555555555556,
              "#d8576b"
             ],
             [
              0.6666666666666666,
              "#ed7953"
             ],
             [
              0.7777777777777778,
              "#fb9f3a"
             ],
             [
              0.8888888888888888,
              "#fdca26"
             ],
             [
              1,
              "#f0f921"
             ]
            ],
            "type": "surface"
           }
          ],
          "table": [
           {
            "cells": {
             "fill": {
              "color": "#EBF0F8"
             },
             "line": {
              "color": "white"
             }
            },
            "header": {
             "fill": {
              "color": "#C8D4E3"
             },
             "line": {
              "color": "white"
             }
            },
            "type": "table"
           }
          ]
         },
         "layout": {
          "annotationdefaults": {
           "arrowcolor": "#2a3f5f",
           "arrowhead": 0,
           "arrowwidth": 1
          },
          "autotypenumbers": "strict",
          "coloraxis": {
           "colorbar": {
            "outlinewidth": 0,
            "ticks": ""
           }
          },
          "colorscale": {
           "diverging": [
            [
             0,
             "#8e0152"
            ],
            [
             0.1,
             "#c51b7d"
            ],
            [
             0.2,
             "#de77ae"
            ],
            [
             0.3,
             "#f1b6da"
            ],
            [
             0.4,
             "#fde0ef"
            ],
            [
             0.5,
             "#f7f7f7"
            ],
            [
             0.6,
             "#e6f5d0"
            ],
            [
             0.7,
             "#b8e186"
            ],
            [
             0.8,
             "#7fbc41"
            ],
            [
             0.9,
             "#4d9221"
            ],
            [
             1,
             "#276419"
            ]
           ],
           "sequential": [
            [
             0,
             "#0d0887"
            ],
            [
             0.1111111111111111,
             "#46039f"
            ],
            [
             0.2222222222222222,
             "#7201a8"
            ],
            [
             0.3333333333333333,
             "#9c179e"
            ],
            [
             0.4444444444444444,
             "#bd3786"
            ],
            [
             0.5555555555555556,
             "#d8576b"
            ],
            [
             0.6666666666666666,
             "#ed7953"
            ],
            [
             0.7777777777777778,
             "#fb9f3a"
            ],
            [
             0.8888888888888888,
             "#fdca26"
            ],
            [
             1,
             "#f0f921"
            ]
           ],
           "sequentialminus": [
            [
             0,
             "#0d0887"
            ],
            [
             0.1111111111111111,
             "#46039f"
            ],
            [
             0.2222222222222222,
             "#7201a8"
            ],
            [
             0.3333333333333333,
             "#9c179e"
            ],
            [
             0.4444444444444444,
             "#bd3786"
            ],
            [
             0.5555555555555556,
             "#d8576b"
            ],
            [
             0.6666666666666666,
             "#ed7953"
            ],
            [
             0.7777777777777778,
             "#fb9f3a"
            ],
            [
             0.8888888888888888,
             "#fdca26"
            ],
            [
             1,
             "#f0f921"
            ]
           ]
          },
          "colorway": [
           "#636efa",
           "#EF553B",
           "#00cc96",
           "#ab63fa",
           "#FFA15A",
           "#19d3f3",
           "#FF6692",
           "#B6E880",
           "#FF97FF",
           "#FECB52"
          ],
          "font": {
           "color": "#2a3f5f"
          },
          "geo": {
           "bgcolor": "white",
           "lakecolor": "white",
           "landcolor": "#E5ECF6",
           "showlakes": true,
           "showland": true,
           "subunitcolor": "white"
          },
          "hoverlabel": {
           "align": "left"
          },
          "hovermode": "closest",
          "mapbox": {
           "style": "light"
          },
          "paper_bgcolor": "white",
          "plot_bgcolor": "#E5ECF6",
          "polar": {
           "angularaxis": {
            "gridcolor": "white",
            "linecolor": "white",
            "ticks": ""
           },
           "bgcolor": "#E5ECF6",
           "radialaxis": {
            "gridcolor": "white",
            "linecolor": "white",
            "ticks": ""
           }
          },
          "scene": {
           "xaxis": {
            "backgroundcolor": "#E5ECF6",
            "gridcolor": "white",
            "gridwidth": 2,
            "linecolor": "white",
            "showbackground": true,
            "ticks": "",
            "zerolinecolor": "white"
           },
           "yaxis": {
            "backgroundcolor": "#E5ECF6",
            "gridcolor": "white",
            "gridwidth": 2,
            "linecolor": "white",
            "showbackground": true,
            "ticks": "",
            "zerolinecolor": "white"
           },
           "zaxis": {
            "backgroundcolor": "#E5ECF6",
            "gridcolor": "white",
            "gridwidth": 2,
            "linecolor": "white",
            "showbackground": true,
            "ticks": "",
            "zerolinecolor": "white"
           }
          },
          "shapedefaults": {
           "line": {
            "color": "#2a3f5f"
           }
          },
          "ternary": {
           "aaxis": {
            "gridcolor": "white",
            "linecolor": "white",
            "ticks": ""
           },
           "baxis": {
            "gridcolor": "white",
            "linecolor": "white",
            "ticks": ""
           },
           "bgcolor": "#E5ECF6",
           "caxis": {
            "gridcolor": "white",
            "linecolor": "white",
            "ticks": ""
           }
          },
          "title": {
           "x": 0.05
          },
          "xaxis": {
           "automargin": true,
           "gridcolor": "white",
           "linecolor": "white",
           "ticks": "",
           "title": {
            "standoff": 15
           },
           "zerolinecolor": "white",
           "zerolinewidth": 2
          },
          "yaxis": {
           "automargin": true,
           "gridcolor": "white",
           "linecolor": "white",
           "ticks": "",
           "title": {
            "standoff": 15
           },
           "zerolinecolor": "white",
           "zerolinewidth": 2
          }
         }
        },
        "title": {
         "text": "E2 in region London"
        },
        "width": 800,
        "xaxis": {
         "anchor": "y",
         "domain": [
          0,
          0.45
         ],
         "linecolor": "black"
        },
        "xaxis2": {
         "anchor": "y2",
         "domain": [
          0.55,
          1
         ],
         "linecolor": "black"
        },
        "xaxis3": {
         "linecolor": "black"
        },
        "xaxis4": {
         "linecolor": "black"
        },
        "xaxis5": {
         "linecolor": "black"
        },
        "xaxis6": {
         "linecolor": "black"
        },
        "xaxis7": {
         "linecolor": "black"
        },
        "xaxis8": {
         "linecolor": "black"
        },
        "yaxis": {
         "anchor": "x",
         "domain": [
          0,
          1
         ],
         "linecolor": "black"
        },
        "yaxis2": {
         "anchor": "x2",
         "domain": [
          0,
          1
         ],
         "linecolor": "black"
        },
        "yaxis3": {
         "linecolor": "black"
        },
        "yaxis4": {
         "linecolor": "black"
        },
        "yaxis5": {
         "linecolor": "black"
        },
        "yaxis6": {
         "linecolor": "black"
        },
        "yaxis7": {
         "linecolor": "black"
        },
        "yaxis8": {
         "linecolor": "black"
        }
       }
      }
     },
     "metadata": {},
     "output_type": "display_data"
    },
    {
     "data": {
      "application/vnd.plotly.v1+json": {
       "config": {
        "plotlyServerURL": "https://plot.ly"
       },
       "data": [
        {
         "line": {
          "color": "blue"
         },
         "mode": "lines",
         "name": "my-solver with delta_t = 0.5",
         "type": "scatter",
         "x": [
          1,
          1.5,
          2,
          2.5,
          3,
          3.5,
          4,
          4.5,
          5,
          5.5,
          6,
          6.5,
          7,
          7.5,
          8,
          8.5,
          9,
          9.5,
          10,
          10.5,
          11,
          11.5,
          12,
          12.5,
          13,
          13.5,
          14,
          14.5,
          15,
          15.5,
          16,
          16.5,
          17,
          17.5,
          18,
          18.5,
          19,
          19.5,
          20
         ],
         "xaxis": "x",
         "y": [
          5,
          3.75,
          2.8125,
          2.109375,
          1.5851957245489765,
          1.1961014305019155,
          0.9080099061743293,
          0.7320418090325783,
          0.6509622963763809,
          0.6383368785268833,
          0.6682373859910291,
          0.7194186359393864,
          0.776446228989057,
          0.8292971893802517,
          0.8723280103481533,
          0.9031040073526239,
          0.9213359500365412,
          0.9280231420365668,
          0.9248206621579463,
          0.913607888743559,
          0.8962192661131142,
          0.8742957797831228,
          0.8492199756701492,
          0.8221044684421177,
          0.7938114032854381,
          0.7649870780102231,
          0.7361014161043289,
          0.7074861273906542,
          0.6793683315812125,
          0.6518983691087397,
          0.6251717177915632,
          0.5992455871577886,
          0.5741510517026436,
          0.5499016463965032,
          0.5264992812063435,
          0.5039382035650954,
          0.4822075914354956,
          0.4612932197319368,
          0.44117852186654927
         ],
         "yaxis": "y"
        },
        {
         "line": {
          "color": "red"
         },
         "mode": "lines",
         "name": "my-solver with delta_t = 0.25",
         "type": "scatter",
         "x": [
          1,
          1.5,
          2,
          2.5,
          3,
          3.5,
          4,
          4.5,
          5,
          5.5,
          6,
          6.5,
          7,
          7.5,
          8,
          8.5,
          9,
          9.5,
          10,
          10.5,
          11,
          11.5,
          12,
          12.5,
          13,
          13.5,
          14,
          14.5,
          15,
          15.5,
          16,
          16.5,
          17,
          17.5,
          18,
          18.5,
          19,
          19.5,
          20
         ],
         "xaxis": "x",
         "y": [
          5,
          3.828125,
          2.931360264377643,
          2.2474646490329206,
          1.7274637743924575,
          1.33281870670837,
          1.050762892868117,
          0.8738581677779543,
          0.7816988122360109,
          0.7508296611808347,
          0.7597410097912086,
          0.7909464252528051,
          0.8314308332601809,
          0.8722708726840888,
          0.9079076106133356,
          0.9353430045009925,
          0.9534000494731285,
          0.9621068960341045,
          0.9622195346794324,
          0.9548736081787187,
          0.9413451781197564,
          0.9228972961073152,
          0.9006904309579195,
          0.8757379488516034,
          0.8488916079729225,
          0.820845680864755,
          0.7921515007559856,
          0.7632368142812069,
          0.7344263129203356,
          0.7059611751425301,
          0.6780164728340053,
          0.6507159747657167,
          0.6241443036959229,
          0.5983566454624923,
          0.5733863262911558,
          0.5492506126102386,
          0.5259550778895931,
          0.5034968455972234,
          0.4818669709482764
         ],
         "yaxis": "y"
        },
        {
         "line": {
          "color": "green"
         },
         "mode": "lines",
         "name": "my-solver with delta_t = 0.05",
         "type": "scatter",
         "x": [
          1,
          1.5,
          2,
          2.5,
          3,
          3.5,
          4,
          4.5,
          5,
          5.5,
          6,
          6.5,
          7,
          7.5,
          8,
          8.5,
          9,
          9.5,
          10,
          10.5,
          11,
          11.5,
          12,
          12.5,
          13,
          13.5,
          14,
          14.5,
          15,
          15.5,
          16,
          16.5,
          17,
          17.5,
          18,
          18.5,
          19,
          19.5,
          20
         ],
         "xaxis": "x",
         "y": [
          5,
          3.8819363894999417,
          3.0160383504912067,
          2.3470861094598447,
          1.8311482510324633,
          1.4376797209598873,
          1.158200050246706,
          0.9785585797776266,
          0.8778878876455198,
          0.834696916654512,
          0.829902895191645,
          0.8480325104000678,
          0.8773907381699864,
          0.9097009816832451,
          0.9395225066953707,
          0.9636213619568711,
          0.9803879622939209,
          0.9893432351491206,
          0.9907450542677733,
          0.9852901932580255,
          0.9738991394532494,
          0.9575683887437343,
          0.9372750402942974,
          0.9139201856171346,
          0.8882998538721387,
          0.8610946197758913,
          0.8328711282753366,
          0.8040906184995349,
          0.7751210061227539,
          0.7462502260336236,
          0.7176993884801717,
          0.6896349127438728,
          0.6621792236064177,
          0.63541987300767,
          0.6094171208151941,
          0.5842101054827484,
          0.5598217815168075,
          0.5362628139914747,
          0.5135346137746275
         ],
         "yaxis": "y"
        },
        {
         "line": {
          "color": "purple"
         },
         "mode": "lines",
         "name": "my-solver with delta_t = 0.001",
         "type": "scatter",
         "x": [
          1,
          1.5,
          2,
          2.5,
          3,
          3.5,
          4,
          4.5,
          5,
          5.5,
          6,
          6.5,
          7,
          7.5,
          8,
          8.5,
          9,
          9.5,
          10,
          10.5,
          11,
          11.5,
          12,
          12.5,
          13,
          13.5,
          14,
          14.5,
          15,
          15.5,
          16,
          16.5,
          17,
          17.5,
          18,
          18.5,
          19,
          19.5,
          20
         ],
         "xaxis": "x",
         "y": [
          5,
          3.8942866125266957,
          3.0355945063076772,
          2.3701941463654466,
          1.8553166653317452,
          1.4625491637275472,
          1.1835547017580736,
          1.003149198818739,
          0.9004981858937775,
          0.8545472673081181,
          0.8467127927613393,
          0.8619305548980595,
          0.8887767609887466,
          0.9191132066270339,
          0.9475321814213572,
          0.9707604361048857,
          0.9871069494323412,
          0.9959929463157045,
          0.9975752160811742,
          0.9924586781525385,
          0.9814868104399345,
          0.9655959304636584,
          0.9457193762120667,
          0.9227290716813219,
          0.8974039750649857,
          0.8704170219902403,
          0.8423341355811919,
          0.8136205603993389,
          0.7846511524566293,
          0.7557223334579753,
          0.7270642288003253,
          0.6988520994255104,
          0.6712165919051217,
          0.6442526098073097,
          0.6180267872508058,
          0.5925836509532699,
          0.5679506122715904,
          0.5441419525688459,
          0.5211619660960406
         ],
         "yaxis": "y"
        },
        {
         "line": {
          "color": "orange"
         },
         "mode": "lines",
         "name": "scipy-solver RK45",
         "type": "scatter",
         "x": [
          1,
          1.5,
          2,
          2.5,
          3,
          3.5,
          4,
          4.5,
          5,
          5.5,
          6,
          6.5,
          7,
          7.5,
          8,
          8.5,
          9,
          9.5,
          10,
          10.5,
          11,
          11.5,
          12,
          12.5,
          13,
          13.5,
          14,
          14.5,
          15,
          15.5,
          16,
          16.5,
          17,
          17.5,
          18,
          18.5,
          19,
          19.5,
          20
         ],
         "xaxis": "x",
         "y": [
          5,
          3.894535532809148,
          3.0359823487454123,
          2.3706613389573983,
          1.8558060422028642,
          1.4624167151291503,
          1.1821876181313242,
          1.0001319955415777,
          0.8962530187981282,
          0.8488662283563979,
          0.8405300921734148,
          0.855092985760914,
          0.8816222609313987,
          0.9120985417636188,
          0.9407286198196493,
          0.9642617492322118,
          0.980945904110826,
          0.9902348887462588,
          0.9925233231910326,
          0.9881448019240953,
          0.9775147254403198,
          0.9618777018672555,
          0.9424920435367188,
          0.920173635417502,
          0.8953016036402902,
          0.8684853622661509,
          0.8405629552784636,
          0.8120670724276983,
          0.7833658331416835,
          0.7546627865256065,
          0.7261168155670455,
          0.6980324180560991,
          0.6705055603644923,
          0.6436150541810168,
          0.6174332244213877,
          0.5920259092282433,
          0.5674474495972984,
          0.5436991369755765,
          0.5207775337593399
         ],
         "yaxis": "y"
        },
        {
         "line": {
          "color": "blue"
         },
         "mode": "lines",
         "name": "my-solver with delta_t = 0.5",
         "showlegend": false,
         "type": "scatter",
         "x": [
          1,
          1.5,
          2,
          2.5,
          3,
          3.5,
          4,
          4.5,
          5,
          5.5,
          6,
          6.5,
          7,
          7.5,
          8,
          8.5,
          9,
          9.5,
          10,
          10.5,
          11,
          11.5,
          12,
          12.5,
          13,
          13.5,
          14,
          14.5,
          15,
          15.5,
          16,
          16.5,
          17,
          17.5,
          18,
          18.5,
          19,
          19.5,
          20
         ],
         "xaxis": "x2",
         "y": [
          20,
          15,
          11.25,
          8.4375,
          6.464360645566451,
          5.169033683181376,
          4.379249986824804,
          3.939701662700666,
          3.723867793804799,
          3.636405229155757,
          3.6104521034561747,
          3.6026562389498364,
          3.587638933934018,
          3.5528432990921095,
          3.494213574023128,
          3.4128389431435533,
          3.3125164578266166,
          3.19809915022965,
          3.074464504052928,
          2.9459414613523736,
          2.8160547756493592,
          2.6874731248434114,
          2.562075517247756,
          2.4410756575789243,
          2.325164555331128,
          2.214647452751904,
          2.1095625144586485,
          2.0097763750404067,
          1.9150563992923328,
          1.8251221450081032,
          1.739679692901382,
          1.6584427492580744,
          1.5811441279043668,
          1.5075406553028217,
          1.437413897142497,
          1.3705684853164435,
          1.3068292874799916,
          1.246038229482318,
          1.1880512543547896
         ],
         "yaxis": "y2"
        },
        {
         "line": {
          "color": "red"
         },
         "mode": "lines",
         "name": "my-solver with delta_t = 0.25",
         "showlegend": false,
         "type": "scatter",
         "x": [
          1,
          1.5,
          2,
          2.5,
          3,
          3.5,
          4,
          4.5,
          5,
          5.5,
          6,
          6.5,
          7,
          7.5,
          8,
          8.5,
          9,
          9.5,
          10,
          10.5,
          11,
          11.5,
          12,
          12.5,
          13,
          13.5,
          14,
          14.5,
          15,
          15.5,
          16,
          16.5,
          17,
          17.5,
          18,
          18.5,
          19,
          19.5,
          20
         ],
         "xaxis": "x2",
         "y": [
          20,
          15.3125,
          11.741873912470204,
          9.120093372379063,
          7.270734497873133,
          6.016559457775464,
          5.198916460076196,
          4.686041097655719,
          4.374628562643693,
          4.18767106821265,
          4.070530133387552,
          3.986472886453067,
          3.912383977618408,
          3.83501661240953,
          3.747923022563815,
          3.6490705403287427,
          3.539076493535393,
          3.419962454552364,
          3.2943207197366924,
          3.164792566809946,
          3.0337716220265323,
          2.9032619448354464,
          2.7748364422043896,
          2.64965547831308,
          2.528517413704382,
          2.41192218127934,
          2.3001360725091358,
          2.193250998249977,
          2.0912349833927864,
          1.993972920157632,
          1.9012979652531472,
          1.8130146898903823,
          1.7289153901577723,
          1.6487909975387345,
          1.572437909788854,
          1.4996618694553925,
          1.4302798018743443,
          1.3641203170725695,
          1.3010233969208809
         ],
         "yaxis": "y2"
        },
        {
         "line": {
          "color": "green"
         },
         "mode": "lines",
         "name": "my-solver with delta_t = 0.05",
         "showlegend": false,
         "type": "scatter",
         "x": [
          1,
          1.5,
          2,
          2.5,
          3,
          3.5,
          4,
          4.5,
          5,
          5.5,
          6,
          6.5,
          7,
          7.5,
          8,
          8.5,
          9,
          9.5,
          10,
          10.5,
          11,
          11.5,
          12,
          12.5,
          13,
          13.5,
          14,
          14.5,
          15,
          15.5,
          16,
          16.5,
          17,
          17.5,
          18,
          18.5,
          19,
          19.5,
          20
         ],
         "xaxis": "x2",
         "y": [
          20,
          15.537886736501697,
          12.157961555596236,
          9.671811182961076,
          7.892532997669309,
          6.651420701182994,
          5.805507965566325,
          5.239326193651124,
          4.863328237453719,
          4.61062431389963,
          4.433087436688057,
          4.297467478672845,
          4.181865511360769,
          4.072730011005392,
          3.9624170350828427,
          3.8472865843307544,
          3.726271135976796,
          3.599837983300959,
          3.469266087614326,
          3.336164761152385,
          3.202171717905313,
          3.068779344477296,
          2.9372489591847075,
          2.8085825460166167,
          2.683529631151439,
          2.5626135601711297,
          2.4461665454240977,
          2.3343666789627595,
          2.2272728698749886,
          2.1248555849169133,
          2.027022546072365,
          1.9336393364703337,
          1.8445453240014311,
          1.759565537225951,
          1.6785192017811394,
          1.6012256265877813,
          1.5275080592862589,
          1.4571960375004118,
          1.3901266646178734
         ],
         "yaxis": "y2"
        },
        {
         "line": {
          "color": "purple"
         },
         "mode": "lines",
         "name": "my-solver with delta_t = 0.001",
         "showlegend": false,
         "type": "scatter",
         "x": [
          1,
          1.5,
          2,
          2.5,
          3,
          3.5,
          4,
          4.5,
          5,
          5.5,
          6,
          6.5,
          7,
          7.5,
          8,
          8.5,
          9,
          9.5,
          10,
          10.5,
          11,
          11.5,
          12,
          12.5,
          13,
          13.5,
          14,
          14.5,
          15,
          15.5,
          16,
          16.5,
          17,
          17.5,
          18,
          18.5,
          19,
          19.5,
          20
         ],
         "xaxis": "x2",
         "y": [
          20,
          15.59563540168519,
          12.261997336202178,
          9.805790408981887,
          8.040735849392604,
          6.801282119811766,
          5.9483152851360455,
          5.36994610867935,
          4.979505089521254,
          4.712169350066115,
          4.521130293100911,
          4.373846574091656,
          4.248677356500085,
          4.132026443708429,
          4.016025039242109,
          3.8967211735849294,
          3.7727133212768105,
          3.644154151281318,
          3.512050353184023,
          3.377790957150618,
          3.242846103795123,
          3.108588646012436,
          2.9762009826239306,
          2.846638441672013,
          2.720628056047538,
          2.5986876614512315,
          2.48115499581971,
          2.368220061926552,
          2.259956628450541,
          2.1563505845197826,
          2.0573241055566394,
          1.9627553856442799,
          1.8724941676649123,
          1.7863735550135034,
          1.704218692451384,
          1.625852913768439,
          1.551101909708178,
          1.479796398087582,
          1.4117736969196775
         ],
         "yaxis": "y2"
        },
        {
         "line": {
          "color": "orange"
         },
         "mode": "lines",
         "name": "scipy-solver RK45",
         "showlegend": false,
         "type": "scatter",
         "x": [
          1,
          1.5,
          2,
          2.5,
          3,
          3.5,
          4,
          4.5,
          5,
          5.5,
          6,
          6.5,
          7,
          7.5,
          8,
          8.5,
          9,
          9.5,
          10,
          10.5,
          11,
          11.5,
          12,
          12.5,
          13,
          13.5,
          14,
          14.5,
          15,
          15.5,
          16,
          16.5,
          17,
          17.5,
          18,
          18.5,
          19,
          19.5,
          20
         ],
         "xaxis": "x2",
         "y": [
          20,
          15.596829455707166,
          12.26428633847261,
          9.808434320609734,
          8.043685464509092,
          6.804280705720407,
          5.951206332278489,
          5.372539015060796,
          4.98181484835291,
          4.714172110618028,
          4.522680644699734,
          4.375318985141707,
          4.250010060879791,
          4.13274431106607,
          4.016948723730333,
          3.8981031769111607,
          3.773465839875585,
          3.6445044580755885,
          3.513018800454405,
          3.3794729786079265,
          3.2441036158704533,
          3.109383867239882,
          2.9770619243781358,
          2.8479770486081746,
          2.722085261569927,
          2.5998743329569916,
          2.482138846322649,
          2.36910317348474,
          2.2608221765042655,
          2.1571812076853845,
          2.0580465451205256,
          1.963450685661263,
          1.8731587714632834,
          1.7869612698757722,
          1.704688455358919,
          1.6262104094839178,
          1.551421355818102,
          1.4801087880944432,
          1.4120870979811029
         ],
         "yaxis": "y2"
        }
       ],
       "layout": {
        "annotations": [
         {
          "font": {
           "size": 16
          },
          "showarrow": false,
          "text": "ages 0-10",
          "x": 0.225,
          "xanchor": "center",
          "xref": "paper",
          "y": 1,
          "yanchor": "bottom",
          "yref": "paper"
         },
         {
          "font": {
           "size": 16
          },
          "showarrow": false,
          "text": "ages 10-25",
          "x": 0.775,
          "xanchor": "center",
          "xref": "paper",
          "y": 1,
          "yanchor": "bottom",
          "yref": "paper"
         }
        ],
        "boxmode": "group",
        "legend": {
         "orientation": "h",
         "x": 1,
         "xanchor": "right",
         "y": 1.02,
         "yanchor": "bottom"
        },
        "plot_bgcolor": "white",
        "template": {
         "data": {
          "bar": [
           {
            "error_x": {
             "color": "#2a3f5f"
            },
            "error_y": {
             "color": "#2a3f5f"
            },
            "marker": {
             "line": {
              "color": "#E5ECF6",
              "width": 0.5
             },
             "pattern": {
              "fillmode": "overlay",
              "size": 10,
              "solidity": 0.2
             }
            },
            "type": "bar"
           }
          ],
          "barpolar": [
           {
            "marker": {
             "line": {
              "color": "#E5ECF6",
              "width": 0.5
             },
             "pattern": {
              "fillmode": "overlay",
              "size": 10,
              "solidity": 0.2
             }
            },
            "type": "barpolar"
           }
          ],
          "carpet": [
           {
            "aaxis": {
             "endlinecolor": "#2a3f5f",
             "gridcolor": "white",
             "linecolor": "white",
             "minorgridcolor": "white",
             "startlinecolor": "#2a3f5f"
            },
            "baxis": {
             "endlinecolor": "#2a3f5f",
             "gridcolor": "white",
             "linecolor": "white",
             "minorgridcolor": "white",
             "startlinecolor": "#2a3f5f"
            },
            "type": "carpet"
           }
          ],
          "choropleth": [
           {
            "colorbar": {
             "outlinewidth": 0,
             "ticks": ""
            },
            "type": "choropleth"
           }
          ],
          "contour": [
           {
            "colorbar": {
             "outlinewidth": 0,
             "ticks": ""
            },
            "colorscale": [
             [
              0,
              "#0d0887"
             ],
             [
              0.1111111111111111,
              "#46039f"
             ],
             [
              0.2222222222222222,
              "#7201a8"
             ],
             [
              0.3333333333333333,
              "#9c179e"
             ],
             [
              0.4444444444444444,
              "#bd3786"
             ],
             [
              0.5555555555555556,
              "#d8576b"
             ],
             [
              0.6666666666666666,
              "#ed7953"
             ],
             [
              0.7777777777777778,
              "#fb9f3a"
             ],
             [
              0.8888888888888888,
              "#fdca26"
             ],
             [
              1,
              "#f0f921"
             ]
            ],
            "type": "contour"
           }
          ],
          "contourcarpet": [
           {
            "colorbar": {
             "outlinewidth": 0,
             "ticks": ""
            },
            "type": "contourcarpet"
           }
          ],
          "heatmap": [
           {
            "colorbar": {
             "outlinewidth": 0,
             "ticks": ""
            },
            "colorscale": [
             [
              0,
              "#0d0887"
             ],
             [
              0.1111111111111111,
              "#46039f"
             ],
             [
              0.2222222222222222,
              "#7201a8"
             ],
             [
              0.3333333333333333,
              "#9c179e"
             ],
             [
              0.4444444444444444,
              "#bd3786"
             ],
             [
              0.5555555555555556,
              "#d8576b"
             ],
             [
              0.6666666666666666,
              "#ed7953"
             ],
             [
              0.7777777777777778,
              "#fb9f3a"
             ],
             [
              0.8888888888888888,
              "#fdca26"
             ],
             [
              1,
              "#f0f921"
             ]
            ],
            "type": "heatmap"
           }
          ],
          "heatmapgl": [
           {
            "colorbar": {
             "outlinewidth": 0,
             "ticks": ""
            },
            "colorscale": [
             [
              0,
              "#0d0887"
             ],
             [
              0.1111111111111111,
              "#46039f"
             ],
             [
              0.2222222222222222,
              "#7201a8"
             ],
             [
              0.3333333333333333,
              "#9c179e"
             ],
             [
              0.4444444444444444,
              "#bd3786"
             ],
             [
              0.5555555555555556,
              "#d8576b"
             ],
             [
              0.6666666666666666,
              "#ed7953"
             ],
             [
              0.7777777777777778,
              "#fb9f3a"
             ],
             [
              0.8888888888888888,
              "#fdca26"
             ],
             [
              1,
              "#f0f921"
             ]
            ],
            "type": "heatmapgl"
           }
          ],
          "histogram": [
           {
            "marker": {
             "pattern": {
              "fillmode": "overlay",
              "size": 10,
              "solidity": 0.2
             }
            },
            "type": "histogram"
           }
          ],
          "histogram2d": [
           {
            "colorbar": {
             "outlinewidth": 0,
             "ticks": ""
            },
            "colorscale": [
             [
              0,
              "#0d0887"
             ],
             [
              0.1111111111111111,
              "#46039f"
             ],
             [
              0.2222222222222222,
              "#7201a8"
             ],
             [
              0.3333333333333333,
              "#9c179e"
             ],
             [
              0.4444444444444444,
              "#bd3786"
             ],
             [
              0.5555555555555556,
              "#d8576b"
             ],
             [
              0.6666666666666666,
              "#ed7953"
             ],
             [
              0.7777777777777778,
              "#fb9f3a"
             ],
             [
              0.8888888888888888,
              "#fdca26"
             ],
             [
              1,
              "#f0f921"
             ]
            ],
            "type": "histogram2d"
           }
          ],
          "histogram2dcontour": [
           {
            "colorbar": {
             "outlinewidth": 0,
             "ticks": ""
            },
            "colorscale": [
             [
              0,
              "#0d0887"
             ],
             [
              0.1111111111111111,
              "#46039f"
             ],
             [
              0.2222222222222222,
              "#7201a8"
             ],
             [
              0.3333333333333333,
              "#9c179e"
             ],
             [
              0.4444444444444444,
              "#bd3786"
             ],
             [
              0.5555555555555556,
              "#d8576b"
             ],
             [
              0.6666666666666666,
              "#ed7953"
             ],
             [
              0.7777777777777778,
              "#fb9f3a"
             ],
             [
              0.8888888888888888,
              "#fdca26"
             ],
             [
              1,
              "#f0f921"
             ]
            ],
            "type": "histogram2dcontour"
           }
          ],
          "mesh3d": [
           {
            "colorbar": {
             "outlinewidth": 0,
             "ticks": ""
            },
            "type": "mesh3d"
           }
          ],
          "parcoords": [
           {
            "line": {
             "colorbar": {
              "outlinewidth": 0,
              "ticks": ""
             }
            },
            "type": "parcoords"
           }
          ],
          "pie": [
           {
            "automargin": true,
            "type": "pie"
           }
          ],
          "scatter": [
           {
            "marker": {
             "colorbar": {
              "outlinewidth": 0,
              "ticks": ""
             }
            },
            "type": "scatter"
           }
          ],
          "scatter3d": [
           {
            "line": {
             "colorbar": {
              "outlinewidth": 0,
              "ticks": ""
             }
            },
            "marker": {
             "colorbar": {
              "outlinewidth": 0,
              "ticks": ""
             }
            },
            "type": "scatter3d"
           }
          ],
          "scattercarpet": [
           {
            "marker": {
             "colorbar": {
              "outlinewidth": 0,
              "ticks": ""
             }
            },
            "type": "scattercarpet"
           }
          ],
          "scattergeo": [
           {
            "marker": {
             "colorbar": {
              "outlinewidth": 0,
              "ticks": ""
             }
            },
            "type": "scattergeo"
           }
          ],
          "scattergl": [
           {
            "marker": {
             "colorbar": {
              "outlinewidth": 0,
              "ticks": ""
             }
            },
            "type": "scattergl"
           }
          ],
          "scattermapbox": [
           {
            "marker": {
             "colorbar": {
              "outlinewidth": 0,
              "ticks": ""
             }
            },
            "type": "scattermapbox"
           }
          ],
          "scatterpolar": [
           {
            "marker": {
             "colorbar": {
              "outlinewidth": 0,
              "ticks": ""
             }
            },
            "type": "scatterpolar"
           }
          ],
          "scatterpolargl": [
           {
            "marker": {
             "colorbar": {
              "outlinewidth": 0,
              "ticks": ""
             }
            },
            "type": "scatterpolargl"
           }
          ],
          "scatterternary": [
           {
            "marker": {
             "colorbar": {
              "outlinewidth": 0,
              "ticks": ""
             }
            },
            "type": "scatterternary"
           }
          ],
          "surface": [
           {
            "colorbar": {
             "outlinewidth": 0,
             "ticks": ""
            },
            "colorscale": [
             [
              0,
              "#0d0887"
             ],
             [
              0.1111111111111111,
              "#46039f"
             ],
             [
              0.2222222222222222,
              "#7201a8"
             ],
             [
              0.3333333333333333,
              "#9c179e"
             ],
             [
              0.4444444444444444,
              "#bd3786"
             ],
             [
              0.5555555555555556,
              "#d8576b"
             ],
             [
              0.6666666666666666,
              "#ed7953"
             ],
             [
              0.7777777777777778,
              "#fb9f3a"
             ],
             [
              0.8888888888888888,
              "#fdca26"
             ],
             [
              1,
              "#f0f921"
             ]
            ],
            "type": "surface"
           }
          ],
          "table": [
           {
            "cells": {
             "fill": {
              "color": "#EBF0F8"
             },
             "line": {
              "color": "white"
             }
            },
            "header": {
             "fill": {
              "color": "#C8D4E3"
             },
             "line": {
              "color": "white"
             }
            },
            "type": "table"
           }
          ]
         },
         "layout": {
          "annotationdefaults": {
           "arrowcolor": "#2a3f5f",
           "arrowhead": 0,
           "arrowwidth": 1
          },
          "autotypenumbers": "strict",
          "coloraxis": {
           "colorbar": {
            "outlinewidth": 0,
            "ticks": ""
           }
          },
          "colorscale": {
           "diverging": [
            [
             0,
             "#8e0152"
            ],
            [
             0.1,
             "#c51b7d"
            ],
            [
             0.2,
             "#de77ae"
            ],
            [
             0.3,
             "#f1b6da"
            ],
            [
             0.4,
             "#fde0ef"
            ],
            [
             0.5,
             "#f7f7f7"
            ],
            [
             0.6,
             "#e6f5d0"
            ],
            [
             0.7,
             "#b8e186"
            ],
            [
             0.8,
             "#7fbc41"
            ],
            [
             0.9,
             "#4d9221"
            ],
            [
             1,
             "#276419"
            ]
           ],
           "sequential": [
            [
             0,
             "#0d0887"
            ],
            [
             0.1111111111111111,
             "#46039f"
            ],
            [
             0.2222222222222222,
             "#7201a8"
            ],
            [
             0.3333333333333333,
             "#9c179e"
            ],
            [
             0.4444444444444444,
             "#bd3786"
            ],
            [
             0.5555555555555556,
             "#d8576b"
            ],
            [
             0.6666666666666666,
             "#ed7953"
            ],
            [
             0.7777777777777778,
             "#fb9f3a"
            ],
            [
             0.8888888888888888,
             "#fdca26"
            ],
            [
             1,
             "#f0f921"
            ]
           ],
           "sequentialminus": [
            [
             0,
             "#0d0887"
            ],
            [
             0.1111111111111111,
             "#46039f"
            ],
            [
             0.2222222222222222,
             "#7201a8"
            ],
            [
             0.3333333333333333,
             "#9c179e"
            ],
            [
             0.4444444444444444,
             "#bd3786"
            ],
            [
             0.5555555555555556,
             "#d8576b"
            ],
            [
             0.6666666666666666,
             "#ed7953"
            ],
            [
             0.7777777777777778,
             "#fb9f3a"
            ],
            [
             0.8888888888888888,
             "#fdca26"
            ],
            [
             1,
             "#f0f921"
            ]
           ]
          },
          "colorway": [
           "#636efa",
           "#EF553B",
           "#00cc96",
           "#ab63fa",
           "#FFA15A",
           "#19d3f3",
           "#FF6692",
           "#B6E880",
           "#FF97FF",
           "#FECB52"
          ],
          "font": {
           "color": "#2a3f5f"
          },
          "geo": {
           "bgcolor": "white",
           "lakecolor": "white",
           "landcolor": "#E5ECF6",
           "showlakes": true,
           "showland": true,
           "subunitcolor": "white"
          },
          "hoverlabel": {
           "align": "left"
          },
          "hovermode": "closest",
          "mapbox": {
           "style": "light"
          },
          "paper_bgcolor": "white",
          "plot_bgcolor": "#E5ECF6",
          "polar": {
           "angularaxis": {
            "gridcolor": "white",
            "linecolor": "white",
            "ticks": ""
           },
           "bgcolor": "#E5ECF6",
           "radialaxis": {
            "gridcolor": "white",
            "linecolor": "white",
            "ticks": ""
           }
          },
          "scene": {
           "xaxis": {
            "backgroundcolor": "#E5ECF6",
            "gridcolor": "white",
            "gridwidth": 2,
            "linecolor": "white",
            "showbackground": true,
            "ticks": "",
            "zerolinecolor": "white"
           },
           "yaxis": {
            "backgroundcolor": "#E5ECF6",
            "gridcolor": "white",
            "gridwidth": 2,
            "linecolor": "white",
            "showbackground": true,
            "ticks": "",
            "zerolinecolor": "white"
           },
           "zaxis": {
            "backgroundcolor": "#E5ECF6",
            "gridcolor": "white",
            "gridwidth": 2,
            "linecolor": "white",
            "showbackground": true,
            "ticks": "",
            "zerolinecolor": "white"
           }
          },
          "shapedefaults": {
           "line": {
            "color": "#2a3f5f"
           }
          },
          "ternary": {
           "aaxis": {
            "gridcolor": "white",
            "linecolor": "white",
            "ticks": ""
           },
           "baxis": {
            "gridcolor": "white",
            "linecolor": "white",
            "ticks": ""
           },
           "bgcolor": "#E5ECF6",
           "caxis": {
            "gridcolor": "white",
            "linecolor": "white",
            "ticks": ""
           }
          },
          "title": {
           "x": 0.05
          },
          "xaxis": {
           "automargin": true,
           "gridcolor": "white",
           "linecolor": "white",
           "ticks": "",
           "title": {
            "standoff": 15
           },
           "zerolinecolor": "white",
           "zerolinewidth": 2
          },
          "yaxis": {
           "automargin": true,
           "gridcolor": "white",
           "linecolor": "white",
           "ticks": "",
           "title": {
            "standoff": 15
           },
           "zerolinecolor": "white",
           "zerolinewidth": 2
          }
         }
        },
        "title": {
         "text": "I1 in region London"
        },
        "width": 800,
        "xaxis": {
         "anchor": "y",
         "domain": [
          0,
          0.45
         ],
         "linecolor": "black"
        },
        "xaxis2": {
         "anchor": "y2",
         "domain": [
          0.55,
          1
         ],
         "linecolor": "black"
        },
        "xaxis3": {
         "linecolor": "black"
        },
        "xaxis4": {
         "linecolor": "black"
        },
        "xaxis5": {
         "linecolor": "black"
        },
        "xaxis6": {
         "linecolor": "black"
        },
        "xaxis7": {
         "linecolor": "black"
        },
        "xaxis8": {
         "linecolor": "black"
        },
        "yaxis": {
         "anchor": "x",
         "domain": [
          0,
          1
         ],
         "linecolor": "black"
        },
        "yaxis2": {
         "anchor": "x2",
         "domain": [
          0,
          1
         ],
         "linecolor": "black"
        },
        "yaxis3": {
         "linecolor": "black"
        },
        "yaxis4": {
         "linecolor": "black"
        },
        "yaxis5": {
         "linecolor": "black"
        },
        "yaxis6": {
         "linecolor": "black"
        },
        "yaxis7": {
         "linecolor": "black"
        },
        "yaxis8": {
         "linecolor": "black"
        }
       }
      }
     },
     "metadata": {},
     "output_type": "display_data"
    },
    {
     "data": {
      "application/vnd.plotly.v1+json": {
       "config": {
        "plotlyServerURL": "https://plot.ly"
       },
       "data": [
        {
         "line": {
          "color": "blue"
         },
         "mode": "lines",
         "name": "my-solver with delta_t = 0.5",
         "type": "scatter",
         "x": [
          1,
          1.5,
          2,
          2.5,
          3,
          3.5,
          4,
          4.5,
          5,
          5.5,
          6,
          6.5,
          7,
          7.5,
          8,
          8.5,
          9,
          9.5,
          10,
          10.5,
          11,
          11.5,
          12,
          12.5,
          13,
          13.5,
          14,
          14.5,
          15,
          15.5,
          16,
          16.5,
          17,
          17.5,
          18,
          18.5,
          19,
          19.5,
          20
         ],
         "xaxis": "x",
         "y": [
          40,
          31.25,
          24.375,
          18.984375,
          14.765625,
          11.470517681137244,
          8.90191361847841,
          6.90343769040239,
          5.360588720059936,
          4.183182114139047,
          3.2969708052360063,
          2.639787450424762,
          2.159695246803418,
          1.8138829923498276,
          1.5677365416074336,
          1.3938844087926134,
          1.271189308432616,
          1.1837259688335973,
          1.1198002621343397,
          1.0710553621402414,
          1.031693493791071,
          0.9978249368715817,
          0.9669426475994669,
          0.9375119796171375,
          0.9086601018233826,
          0.8799479271888965,
          0.8512077148942282,
          0.8224311401967533,
          0.7936948869952286,
          0.7651132481417245,
          0.7368095283834784,
          0.7089000757354995,
          0.6814864535910719,
          0.6546526031189648,
          0.6284648639383494,
          0.6029734682553479,
          0.5782146520827849,
          0.5542128869209626,
          0.5309829701237061
         ],
         "yaxis": "y"
        },
        {
         "line": {
          "color": "red"
         },
         "mode": "lines",
         "name": "my-solver with delta_t = 0.25",
         "type": "scatter",
         "x": [
          1,
          1.5,
          2,
          2.5,
          3,
          3.5,
          4,
          4.5,
          5,
          5.5,
          6,
          6.5,
          7,
          7.5,
          8,
          8.5,
          9,
          9.5,
          10,
          10.5,
          11,
          11.5,
          12,
          12.5,
          13,
          13.5,
          14,
          14.5,
          15,
          15.5,
          16,
          16.5,
          17,
          17.5,
          18,
          18.5,
          19,
          19.5,
          20
         ],
         "xaxis": "x",
         "y": [
          40,
          31.71875,
          25.1220703125,
          19.875469243745826,
          15.70917348787466,
          12.4058431195563,
          9.791215256489206,
          7.73011193081891,
          6.11627725334564,
          4.863276547294438,
          3.899506951233,
          3.165340850746854,
          2.611308191908219,
          2.1967484809038473,
          1.8886624150360698,
          1.6606544096452456,
          1.4919371788744242,
          1.366403456618636,
          1.271779604788951,
          1.1988740551022943,
          1.1409274554320383,
          1.093064778686638,
          1.0518441964789569,
          1.0148937725557763,
          0.9806249531898587,
          0.9480111241867466,
          0.9164197924440592,
          0.8854878802059822,
          0.8550309005436229,
          0.8249781948107704,
          0.7953278072673369,
          0.7661158562673488,
          0.737396386590035,
          0.709228635890623,
          0.6816694224900368,
          0.6547689765528293,
          0.628569012947303,
          0.6031022045313061,
          0.578392481406274
         ],
         "yaxis": "y"
        },
        {
         "line": {
          "color": "green"
         },
         "mode": "lines",
         "name": "my-solver with delta_t = 0.05",
         "type": "scatter",
         "x": [
          1,
          1.5,
          2,
          2.5,
          3,
          3.5,
          4,
          4.5,
          5,
          5.5,
          6,
          6.5,
          7,
          7.5,
          8,
          8.5,
          9,
          9.5,
          10,
          10.5,
          11,
          11.5,
          12,
          12.5,
          13,
          13.5,
          14,
          14.5,
          15,
          15.5,
          16,
          16.5,
          17,
          17.5,
          18,
          18.5,
          19,
          19.5,
          20
         ],
         "xaxis": "x",
         "y": [
          40,
          32.048490292233154,
          25.653126149369015,
          20.516199023313234,
          16.395467206370785,
          13.094240265811198,
          10.455546378609164,
          8.355408660936103,
          6.69355610099327,
          5.387332419146408,
          4.3679798067060105,
          3.578220869588298,
          2.9705296231237854,
          2.5057640290851015,
          2.1519961491805764,
          1.8834663800631473,
          1.679634633817771,
          1.524322358588232,
          1.4049465385375872,
          1.3118472420398355,
          1.2377079150467813,
          1.1770646061547727,
          1.125897705202602,
          1.081297975987903,
          1.0411977149493943,
          1.0041576533743986,
          0.9692005614492064,
          0.9356832250357753,
          0.9031993911712156,
          0.8715072909613117,
          0.84047635869811,
          0.8100487143625423,
          0.7802118286416955,
          0.7509795292498229,
          0.7223791317789698,
          0.6944429930655325,
          0.6672032006191528,
          0.6406884408523696,
          0.6149223450939512
         ],
         "yaxis": "y"
        },
        {
         "line": {
          "color": "purple"
         },
         "mode": "lines",
         "name": "my-solver with delta_t = 0.001",
         "type": "scatter",
         "x": [
          1,
          1.5,
          2,
          2.5,
          3,
          3.5,
          4,
          4.5,
          5,
          5.5,
          6,
          6.5,
          7,
          7.5,
          8,
          8.5,
          9,
          9.5,
          10,
          10.5,
          11,
          11.5,
          12,
          12.5,
          13,
          13.5,
          14,
          14.5,
          15,
          15.5,
          16,
          16.5,
          17,
          17.5,
          18,
          18.5,
          19,
          19.5,
          20
         ],
         "xaxis": "x",
         "y": [
          40,
          32.124043405192616,
          25.775500882891734,
          20.66468734777182,
          16.555421836277777,
          13.255714981335894,
          10.612428244805145,
          8.503931327005951,
          6.831361648052417,
          5.5130247935878485,
          4.48089562195479,
          3.6782837768944283,
          3.0581306465144547,
          2.581648713982947,
          2.2171565827527955,
          1.9390421006311471,
          1.7268270029097748,
          1.564325377484018,
          1.438895034962517,
          1.3407815986780074,
          1.262553320014507,
          1.1986221799880805,
          1.144844691703314,
          1.0981943370141007,
          1.056496812740034,
          1.0182191349402043,
          0.9823040041716249,
          0.9480415139267624,
          0.9149711507514996,
          0.8828079785397783,
          0.8513878415035933,
          0.8206273071891564,
          0.7904948711565936,
          0.7609906434982027,
          0.7321323308530703,
          0.703945820305519,
          0.6764590724574564,
          0.6496983512775281,
          0.6236860700007867
         ],
         "yaxis": "y"
        },
        {
         "line": {
          "color": "orange"
         },
         "mode": "lines",
         "name": "scipy-solver RK45",
         "type": "scatter",
         "x": [
          1,
          1.5,
          2,
          2.5,
          3,
          3.5,
          4,
          4.5,
          5,
          5.5,
          6,
          6.5,
          7,
          7.5,
          8,
          8.5,
          9,
          9.5,
          10,
          10.5,
          11,
          11.5,
          12,
          12.5,
          13,
          13.5,
          14,
          14.5,
          15,
          15.5,
          16,
          16.5,
          17,
          17.5,
          18,
          18.5,
          19,
          19.5,
          20
         ],
         "xaxis": "x",
         "y": [
          40,
          32.12556487038914,
          25.777924968709137,
          20.667696660656585,
          16.55866417431056,
          13.25893272117789,
          10.615171827428622,
          8.506090782160948,
          6.832429112814703,
          5.513281088541092,
          4.479760816500694,
          3.6762787825773904,
          3.0552651693623645,
          2.577754584486946,
          2.2127804184755746,
          1.9344085523584789,
          1.7216114077338165,
          1.5588257784919999,
          1.4336696592935683,
          1.3359406439844737,
          1.257586555564314,
          1.1935275376742145,
          1.1402081191953448,
          1.0944197411137253,
          1.0532965896179185,
          1.014940535241166,
          0.9789955651562328,
          0.9451251107400027,
          0.9127933589982269,
          0.8812652525655225,
          0.8498896410492391,
          0.8190090798983651,
          0.7888883816024086,
          0.7596318631297815,
          0.7311979520825127,
          0.7033991866962488,
          0.6759808223612443,
          0.64922212859768,
          0.6232248848582712
         ],
         "yaxis": "y"
        },
        {
         "line": {
          "color": "blue"
         },
         "mode": "lines",
         "name": "my-solver with delta_t = 0.5",
         "showlegend": false,
         "type": "scatter",
         "x": [
          1,
          1.5,
          2,
          2.5,
          3,
          3.5,
          4,
          4.5,
          5,
          5.5,
          6,
          6.5,
          7,
          7.5,
          8,
          8.5,
          9,
          9.5,
          10,
          10.5,
          11,
          11.5,
          12,
          12.5,
          13,
          13.5,
          14,
          14.5,
          15,
          15.5,
          16,
          16.5,
          17,
          17.5,
          18,
          18.5,
          19,
          19.5,
          20
         ],
         "xaxis": "x2",
         "y": [
          20,
          20,
          18.75,
          16.875,
          14.765625,
          12.690308911391613,
          10.809990104339054,
          9.202305074960492,
          7.886654221895536,
          6.845957614872852,
          6.043569518443578,
          5.4352901646967275,
          4.977131683260005,
          4.629758495928508,
          4.360529696719408,
          4.143950666045338,
          3.961172735319892,
          3.799008665946573,
          3.6487812870173424,
          3.5052020912762387,
          3.365386933795272,
          3.228053894258794,
          3.0929087019049484,
          2.9602004057406504,
          2.830419218700219,
          2.7041055528579463,
          2.581741027831436,
          2.463696399488239,
          2.350216393376281,
          2.241426394855294,
          2.1373503323934964,
          2.037932672520468,
          1.9430601917048695,
          1.852581175754744,
          1.7663210456417633,
          1.6840942585169465,
          1.6057128152168207,
          1.5309919332826134,
          1.4597535073325396
         ],
         "yaxis": "y2"
        },
        {
         "line": {
          "color": "red"
         },
         "mode": "lines",
         "name": "my-solver with delta_t = 0.25",
         "showlegend": false,
         "type": "scatter",
         "x": [
          1,
          1.5,
          2,
          2.5,
          3,
          3.5,
          4,
          4.5,
          5,
          5.5,
          6,
          6.5,
          7,
          7.5,
          8,
          8.5,
          9,
          9.5,
          10,
          10.5,
          11,
          11.5,
          12,
          12.5,
          13,
          13.5,
          14,
          14.5,
          15,
          15.5,
          16,
          16.5,
          17,
          17.5,
          18,
          18.5,
          19,
          19.5,
          20
         ],
         "xaxis": "x2",
         "y": [
          20,
          19.6875,
          18.4228515625,
          16.679645426658993,
          14.78164048463671,
          12.934897516269542,
          11.256602052570212,
          9.800904128629686,
          8.580170497523653,
          7.581353066379546,
          6.777879552860517,
          6.1377886194383855,
          5.628915158741123,
          5.22188532425839,
          4.891572472637576,
          4.617535917184612,
          4.383838183579709,
          4.1785255286413765,
          3.992965655271429,
          3.8211662548151213,
          3.6591462813375446,
          3.50439570126485,
          3.3554356053912877,
          3.211475962190482,
          3.0721603036971032,
          2.9373831442204357,
          2.807165307589538,
          2.681573387327755,
          2.560671454559461,
          2.4444953126111226,
          2.3330417392901617,
          2.2262670731241267,
          2.1240911064248524,
          2.026403529295656,
          1.9330711462523027,
          1.8439448019714801,
          1.7588654527397791,
          1.677669152690847,
          1.6001909312411122
         ],
         "yaxis": "y2"
        },
        {
         "line": {
          "color": "green"
         },
         "mode": "lines",
         "name": "my-solver with delta_t = 0.05",
         "showlegend": false,
         "type": "scatter",
         "x": [
          1,
          1.5,
          2,
          2.5,
          3,
          3.5,
          4,
          4.5,
          5,
          5.5,
          6,
          6.5,
          7,
          7.5,
          8,
          8.5,
          9,
          9.5,
          10,
          10.5,
          11,
          11.5,
          12,
          12.5,
          13,
          13.5,
          14,
          14.5,
          15,
          15.5,
          16,
          16.5,
          17,
          17.5,
          18,
          18.5,
          19,
          19.5,
          20
         ],
         "xaxis": "x2",
         "y": [
          20,
          19.50820173455513,
          18.245727930879774,
          16.60735330511418,
          14.857159583584563,
          13.160060247638498,
          11.608982451232057,
          10.246992382596302,
          9.084476497031384,
          8.111924962368311,
          7.30904405482191,
          6.650951351285916,
          6.1121495223864075,
          5.668875991708642,
          5.300314593477933,
          4.989047924248554,
          4.721033846163955,
          4.4853100499818686,
          4.273567164533157,
          4.079682339224331,
          3.8992694448347605,
          3.729276696865762,
          3.5676453419853593,
          3.413032048783869,
          3.264591119912515,
          3.1218092392359775,
          2.9843841406632783,
          2.852138559005186,
          2.7249615424164917,
          2.602770289665279,
          2.4854868748318375,
          2.373025385180225,
          2.265286041306361,
          2.162153754835152,
          2.0634993000188957,
          1.969181841182145,
          1.8790519868130156,
          1.792954855570671,
          1.710732862055763
         ],
         "yaxis": "y2"
        },
        {
         "line": {
          "color": "purple"
         },
         "mode": "lines",
         "name": "my-solver with delta_t = 0.001",
         "showlegend": false,
         "type": "scatter",
         "x": [
          1,
          1.5,
          2,
          2.5,
          3,
          3.5,
          4,
          4.5,
          5,
          5.5,
          6,
          6.5,
          7,
          7.5,
          8,
          8.5,
          9,
          9.5,
          10,
          10.5,
          11,
          11.5,
          12,
          12.5,
          13,
          13.5,
          14,
          14.5,
          15,
          15.5,
          16,
          16.5,
          17,
          17.5,
          18,
          18.5,
          19,
          19.5,
          20
         ],
         "xaxis": "x2",
         "y": [
          20,
          19.47202008674936,
          18.21304184294667,
          16.59952072305549,
          14.882314878590616,
          13.217784604178746,
          11.694057552656894,
          10.352132999787544,
          9.202137899370005,
          8.235364503728213,
          7.432832659598005,
          6.771112247378041,
          6.226068467863336,
          5.775091084502281,
          5.398260704951604,
          5.0788035628850565,
          4.803097488579978,
          4.560418211014529,
          4.342556742413969,
          4.143393944751647,
          3.9584854402455467,
          3.7846866210183316,
          3.6198315621700643,
          3.4624693190828673,
          3.3116548659175225,
          3.1667885841388177,
          3.0274967927569976,
          2.893545621412138,
          2.764781056536175,
          2.6410888886573733,
          2.522369323446435,
          2.4085220459572687,
          2.2994384646074733,
          2.1949986692492005,
          2.0950713043441165,
          1.999515088750461,
          1.908181122143014,
          1.8209154228920836,
          1.7375613624115471
         ],
         "yaxis": "y2"
        },
        {
         "line": {
          "color": "orange"
         },
         "mode": "lines",
         "name": "scipy-solver RK45",
         "showlegend": false,
         "type": "scatter",
         "x": [
          1,
          1.5,
          2,
          2.5,
          3,
          3.5,
          4,
          4.5,
          5,
          5.5,
          6,
          6.5,
          7,
          7.5,
          8,
          8.5,
          9,
          9.5,
          10,
          10.5,
          11,
          11.5,
          12,
          12.5,
          13,
          13.5,
          14,
          14.5,
          15,
          15.5,
          16,
          16.5,
          17,
          17.5,
          18,
          18.5,
          19,
          19.5,
          20
         ],
         "xaxis": "x2",
         "y": [
          20,
          19.47131492667477,
          18.21251093327106,
          16.599400573895547,
          14.882837703719419,
          13.218950633471005,
          11.69588638187186,
          10.354283172171016,
          9.204753334083476,
          8.237651225477297,
          7.435760112548254,
          6.773482160626822,
          6.228012101462193,
          5.777549120876518,
          5.400188039306411,
          5.079866606929284,
          4.804377797886776,
          4.561794624362699,
          4.343617554037506,
          4.144128094832025,
          3.9591978665893834,
          3.785254696381185,
          3.6205358003018975,
          3.463521899873724,
          3.3129143721097702,
          3.1677876841538186,
          3.02823076870679,
          2.894341979008175,
          2.7659316492737935,
          2.6425220946957917,
          2.52363023135561,
          2.4095293694642117,
          2.30027560377521,
          2.195807205387669,
          2.095962731092588,
          2.0004810233729002,
          1.909048732093821,
          1.8216643656275204,
          1.7382169342215263
         ],
         "yaxis": "y2"
        }
       ],
       "layout": {
        "annotations": [
         {
          "font": {
           "size": 16
          },
          "showarrow": false,
          "text": "ages 0-10",
          "x": 0.225,
          "xanchor": "center",
          "xref": "paper",
          "y": 1,
          "yanchor": "bottom",
          "yref": "paper"
         },
         {
          "font": {
           "size": 16
          },
          "showarrow": false,
          "text": "ages 10-25",
          "x": 0.775,
          "xanchor": "center",
          "xref": "paper",
          "y": 1,
          "yanchor": "bottom",
          "yref": "paper"
         }
        ],
        "boxmode": "group",
        "legend": {
         "orientation": "h",
         "x": 1,
         "xanchor": "right",
         "y": 1.02,
         "yanchor": "bottom"
        },
        "plot_bgcolor": "white",
        "template": {
         "data": {
          "bar": [
           {
            "error_x": {
             "color": "#2a3f5f"
            },
            "error_y": {
             "color": "#2a3f5f"
            },
            "marker": {
             "line": {
              "color": "#E5ECF6",
              "width": 0.5
             },
             "pattern": {
              "fillmode": "overlay",
              "size": 10,
              "solidity": 0.2
             }
            },
            "type": "bar"
           }
          ],
          "barpolar": [
           {
            "marker": {
             "line": {
              "color": "#E5ECF6",
              "width": 0.5
             },
             "pattern": {
              "fillmode": "overlay",
              "size": 10,
              "solidity": 0.2
             }
            },
            "type": "barpolar"
           }
          ],
          "carpet": [
           {
            "aaxis": {
             "endlinecolor": "#2a3f5f",
             "gridcolor": "white",
             "linecolor": "white",
             "minorgridcolor": "white",
             "startlinecolor": "#2a3f5f"
            },
            "baxis": {
             "endlinecolor": "#2a3f5f",
             "gridcolor": "white",
             "linecolor": "white",
             "minorgridcolor": "white",
             "startlinecolor": "#2a3f5f"
            },
            "type": "carpet"
           }
          ],
          "choropleth": [
           {
            "colorbar": {
             "outlinewidth": 0,
             "ticks": ""
            },
            "type": "choropleth"
           }
          ],
          "contour": [
           {
            "colorbar": {
             "outlinewidth": 0,
             "ticks": ""
            },
            "colorscale": [
             [
              0,
              "#0d0887"
             ],
             [
              0.1111111111111111,
              "#46039f"
             ],
             [
              0.2222222222222222,
              "#7201a8"
             ],
             [
              0.3333333333333333,
              "#9c179e"
             ],
             [
              0.4444444444444444,
              "#bd3786"
             ],
             [
              0.5555555555555556,
              "#d8576b"
             ],
             [
              0.6666666666666666,
              "#ed7953"
             ],
             [
              0.7777777777777778,
              "#fb9f3a"
             ],
             [
              0.8888888888888888,
              "#fdca26"
             ],
             [
              1,
              "#f0f921"
             ]
            ],
            "type": "contour"
           }
          ],
          "contourcarpet": [
           {
            "colorbar": {
             "outlinewidth": 0,
             "ticks": ""
            },
            "type": "contourcarpet"
           }
          ],
          "heatmap": [
           {
            "colorbar": {
             "outlinewidth": 0,
             "ticks": ""
            },
            "colorscale": [
             [
              0,
              "#0d0887"
             ],
             [
              0.1111111111111111,
              "#46039f"
             ],
             [
              0.2222222222222222,
              "#7201a8"
             ],
             [
              0.3333333333333333,
              "#9c179e"
             ],
             [
              0.4444444444444444,
              "#bd3786"
             ],
             [
              0.5555555555555556,
              "#d8576b"
             ],
             [
              0.6666666666666666,
              "#ed7953"
             ],
             [
              0.7777777777777778,
              "#fb9f3a"
             ],
             [
              0.8888888888888888,
              "#fdca26"
             ],
             [
              1,
              "#f0f921"
             ]
            ],
            "type": "heatmap"
           }
          ],
          "heatmapgl": [
           {
            "colorbar": {
             "outlinewidth": 0,
             "ticks": ""
            },
            "colorscale": [
             [
              0,
              "#0d0887"
             ],
             [
              0.1111111111111111,
              "#46039f"
             ],
             [
              0.2222222222222222,
              "#7201a8"
             ],
             [
              0.3333333333333333,
              "#9c179e"
             ],
             [
              0.4444444444444444,
              "#bd3786"
             ],
             [
              0.5555555555555556,
              "#d8576b"
             ],
             [
              0.6666666666666666,
              "#ed7953"
             ],
             [
              0.7777777777777778,
              "#fb9f3a"
             ],
             [
              0.8888888888888888,
              "#fdca26"
             ],
             [
              1,
              "#f0f921"
             ]
            ],
            "type": "heatmapgl"
           }
          ],
          "histogram": [
           {
            "marker": {
             "pattern": {
              "fillmode": "overlay",
              "size": 10,
              "solidity": 0.2
             }
            },
            "type": "histogram"
           }
          ],
          "histogram2d": [
           {
            "colorbar": {
             "outlinewidth": 0,
             "ticks": ""
            },
            "colorscale": [
             [
              0,
              "#0d0887"
             ],
             [
              0.1111111111111111,
              "#46039f"
             ],
             [
              0.2222222222222222,
              "#7201a8"
             ],
             [
              0.3333333333333333,
              "#9c179e"
             ],
             [
              0.4444444444444444,
              "#bd3786"
             ],
             [
              0.5555555555555556,
              "#d8576b"
             ],
             [
              0.6666666666666666,
              "#ed7953"
             ],
             [
              0.7777777777777778,
              "#fb9f3a"
             ],
             [
              0.8888888888888888,
              "#fdca26"
             ],
             [
              1,
              "#f0f921"
             ]
            ],
            "type": "histogram2d"
           }
          ],
          "histogram2dcontour": [
           {
            "colorbar": {
             "outlinewidth": 0,
             "ticks": ""
            },
            "colorscale": [
             [
              0,
              "#0d0887"
             ],
             [
              0.1111111111111111,
              "#46039f"
             ],
             [
              0.2222222222222222,
              "#7201a8"
             ],
             [
              0.3333333333333333,
              "#9c179e"
             ],
             [
              0.4444444444444444,
              "#bd3786"
             ],
             [
              0.5555555555555556,
              "#d8576b"
             ],
             [
              0.6666666666666666,
              "#ed7953"
             ],
             [
              0.7777777777777778,
              "#fb9f3a"
             ],
             [
              0.8888888888888888,
              "#fdca26"
             ],
             [
              1,
              "#f0f921"
             ]
            ],
            "type": "histogram2dcontour"
           }
          ],
          "mesh3d": [
           {
            "colorbar": {
             "outlinewidth": 0,
             "ticks": ""
            },
            "type": "mesh3d"
           }
          ],
          "parcoords": [
           {
            "line": {
             "colorbar": {
              "outlinewidth": 0,
              "ticks": ""
             }
            },
            "type": "parcoords"
           }
          ],
          "pie": [
           {
            "automargin": true,
            "type": "pie"
           }
          ],
          "scatter": [
           {
            "marker": {
             "colorbar": {
              "outlinewidth": 0,
              "ticks": ""
             }
            },
            "type": "scatter"
           }
          ],
          "scatter3d": [
           {
            "line": {
             "colorbar": {
              "outlinewidth": 0,
              "ticks": ""
             }
            },
            "marker": {
             "colorbar": {
              "outlinewidth": 0,
              "ticks": ""
             }
            },
            "type": "scatter3d"
           }
          ],
          "scattercarpet": [
           {
            "marker": {
             "colorbar": {
              "outlinewidth": 0,
              "ticks": ""
             }
            },
            "type": "scattercarpet"
           }
          ],
          "scattergeo": [
           {
            "marker": {
             "colorbar": {
              "outlinewidth": 0,
              "ticks": ""
             }
            },
            "type": "scattergeo"
           }
          ],
          "scattergl": [
           {
            "marker": {
             "colorbar": {
              "outlinewidth": 0,
              "ticks": ""
             }
            },
            "type": "scattergl"
           }
          ],
          "scattermapbox": [
           {
            "marker": {
             "colorbar": {
              "outlinewidth": 0,
              "ticks": ""
             }
            },
            "type": "scattermapbox"
           }
          ],
          "scatterpolar": [
           {
            "marker": {
             "colorbar": {
              "outlinewidth": 0,
              "ticks": ""
             }
            },
            "type": "scatterpolar"
           }
          ],
          "scatterpolargl": [
           {
            "marker": {
             "colorbar": {
              "outlinewidth": 0,
              "ticks": ""
             }
            },
            "type": "scatterpolargl"
           }
          ],
          "scatterternary": [
           {
            "marker": {
             "colorbar": {
              "outlinewidth": 0,
              "ticks": ""
             }
            },
            "type": "scatterternary"
           }
          ],
          "surface": [
           {
            "colorbar": {
             "outlinewidth": 0,
             "ticks": ""
            },
            "colorscale": [
             [
              0,
              "#0d0887"
             ],
             [
              0.1111111111111111,
              "#46039f"
             ],
             [
              0.2222222222222222,
              "#7201a8"
             ],
             [
              0.3333333333333333,
              "#9c179e"
             ],
             [
              0.4444444444444444,
              "#bd3786"
             ],
             [
              0.5555555555555556,
              "#d8576b"
             ],
             [
              0.6666666666666666,
              "#ed7953"
             ],
             [
              0.7777777777777778,
              "#fb9f3a"
             ],
             [
              0.8888888888888888,
              "#fdca26"
             ],
             [
              1,
              "#f0f921"
             ]
            ],
            "type": "surface"
           }
          ],
          "table": [
           {
            "cells": {
             "fill": {
              "color": "#EBF0F8"
             },
             "line": {
              "color": "white"
             }
            },
            "header": {
             "fill": {
              "color": "#C8D4E3"
             },
             "line": {
              "color": "white"
             }
            },
            "type": "table"
           }
          ]
         },
         "layout": {
          "annotationdefaults": {
           "arrowcolor": "#2a3f5f",
           "arrowhead": 0,
           "arrowwidth": 1
          },
          "autotypenumbers": "strict",
          "coloraxis": {
           "colorbar": {
            "outlinewidth": 0,
            "ticks": ""
           }
          },
          "colorscale": {
           "diverging": [
            [
             0,
             "#8e0152"
            ],
            [
             0.1,
             "#c51b7d"
            ],
            [
             0.2,
             "#de77ae"
            ],
            [
             0.3,
             "#f1b6da"
            ],
            [
             0.4,
             "#fde0ef"
            ],
            [
             0.5,
             "#f7f7f7"
            ],
            [
             0.6,
             "#e6f5d0"
            ],
            [
             0.7,
             "#b8e186"
            ],
            [
             0.8,
             "#7fbc41"
            ],
            [
             0.9,
             "#4d9221"
            ],
            [
             1,
             "#276419"
            ]
           ],
           "sequential": [
            [
             0,
             "#0d0887"
            ],
            [
             0.1111111111111111,
             "#46039f"
            ],
            [
             0.2222222222222222,
             "#7201a8"
            ],
            [
             0.3333333333333333,
             "#9c179e"
            ],
            [
             0.4444444444444444,
             "#bd3786"
            ],
            [
             0.5555555555555556,
             "#d8576b"
            ],
            [
             0.6666666666666666,
             "#ed7953"
            ],
            [
             0.7777777777777778,
             "#fb9f3a"
            ],
            [
             0.8888888888888888,
             "#fdca26"
            ],
            [
             1,
             "#f0f921"
            ]
           ],
           "sequentialminus": [
            [
             0,
             "#0d0887"
            ],
            [
             0.1111111111111111,
             "#46039f"
            ],
            [
             0.2222222222222222,
             "#7201a8"
            ],
            [
             0.3333333333333333,
             "#9c179e"
            ],
            [
             0.4444444444444444,
             "#bd3786"
            ],
            [
             0.5555555555555556,
             "#d8576b"
            ],
            [
             0.6666666666666666,
             "#ed7953"
            ],
            [
             0.7777777777777778,
             "#fb9f3a"
            ],
            [
             0.8888888888888888,
             "#fdca26"
            ],
            [
             1,
             "#f0f921"
            ]
           ]
          },
          "colorway": [
           "#636efa",
           "#EF553B",
           "#00cc96",
           "#ab63fa",
           "#FFA15A",
           "#19d3f3",
           "#FF6692",
           "#B6E880",
           "#FF97FF",
           "#FECB52"
          ],
          "font": {
           "color": "#2a3f5f"
          },
          "geo": {
           "bgcolor": "white",
           "lakecolor": "white",
           "landcolor": "#E5ECF6",
           "showlakes": true,
           "showland": true,
           "subunitcolor": "white"
          },
          "hoverlabel": {
           "align": "left"
          },
          "hovermode": "closest",
          "mapbox": {
           "style": "light"
          },
          "paper_bgcolor": "white",
          "plot_bgcolor": "#E5ECF6",
          "polar": {
           "angularaxis": {
            "gridcolor": "white",
            "linecolor": "white",
            "ticks": ""
           },
           "bgcolor": "#E5ECF6",
           "radialaxis": {
            "gridcolor": "white",
            "linecolor": "white",
            "ticks": ""
           }
          },
          "scene": {
           "xaxis": {
            "backgroundcolor": "#E5ECF6",
            "gridcolor": "white",
            "gridwidth": 2,
            "linecolor": "white",
            "showbackground": true,
            "ticks": "",
            "zerolinecolor": "white"
           },
           "yaxis": {
            "backgroundcolor": "#E5ECF6",
            "gridcolor": "white",
            "gridwidth": 2,
            "linecolor": "white",
            "showbackground": true,
            "ticks": "",
            "zerolinecolor": "white"
           },
           "zaxis": {
            "backgroundcolor": "#E5ECF6",
            "gridcolor": "white",
            "gridwidth": 2,
            "linecolor": "white",
            "showbackground": true,
            "ticks": "",
            "zerolinecolor": "white"
           }
          },
          "shapedefaults": {
           "line": {
            "color": "#2a3f5f"
           }
          },
          "ternary": {
           "aaxis": {
            "gridcolor": "white",
            "linecolor": "white",
            "ticks": ""
           },
           "baxis": {
            "gridcolor": "white",
            "linecolor": "white",
            "ticks": ""
           },
           "bgcolor": "#E5ECF6",
           "caxis": {
            "gridcolor": "white",
            "linecolor": "white",
            "ticks": ""
           }
          },
          "title": {
           "x": 0.05
          },
          "xaxis": {
           "automargin": true,
           "gridcolor": "white",
           "linecolor": "white",
           "ticks": "",
           "title": {
            "standoff": 15
           },
           "zerolinecolor": "white",
           "zerolinewidth": 2
          },
          "yaxis": {
           "automargin": true,
           "gridcolor": "white",
           "linecolor": "white",
           "ticks": "",
           "title": {
            "standoff": 15
           },
           "zerolinecolor": "white",
           "zerolinewidth": 2
          }
         }
        },
        "title": {
         "text": "I2 in region London"
        },
        "width": 800,
        "xaxis": {
         "anchor": "y",
         "domain": [
          0,
          0.45
         ],
         "linecolor": "black"
        },
        "xaxis2": {
         "anchor": "y2",
         "domain": [
          0.55,
          1
         ],
         "linecolor": "black"
        },
        "xaxis3": {
         "linecolor": "black"
        },
        "xaxis4": {
         "linecolor": "black"
        },
        "xaxis5": {
         "linecolor": "black"
        },
        "xaxis6": {
         "linecolor": "black"
        },
        "xaxis7": {
         "linecolor": "black"
        },
        "xaxis8": {
         "linecolor": "black"
        },
        "yaxis": {
         "anchor": "x",
         "domain": [
          0,
          1
         ],
         "linecolor": "black"
        },
        "yaxis2": {
         "anchor": "x2",
         "domain": [
          0,
          1
         ],
         "linecolor": "black"
        },
        "yaxis3": {
         "linecolor": "black"
        },
        "yaxis4": {
         "linecolor": "black"
        },
        "yaxis5": {
         "linecolor": "black"
        },
        "yaxis6": {
         "linecolor": "black"
        },
        "yaxis7": {
         "linecolor": "black"
        },
        "yaxis8": {
         "linecolor": "black"
        }
       }
      }
     },
     "metadata": {},
     "output_type": "display_data"
    },
    {
     "data": {
      "application/vnd.plotly.v1+json": {
       "config": {
        "plotlyServerURL": "https://plot.ly"
       },
       "data": [
        {
         "line": {
          "color": "blue"
         },
         "mode": "lines",
         "name": "my-solver with delta_t = 0.5",
         "type": "scatter",
         "x": [
          1,
          1.5,
          2,
          2.5,
          3,
          3.5,
          4,
          4.5,
          5,
          5.5,
          6,
          6.5,
          7,
          7.5,
          8,
          8.5,
          9,
          9.5,
          10,
          10.5,
          11,
          11.5,
          12,
          12.5,
          13,
          13.5,
          14,
          14.5,
          15,
          15.5,
          16,
          16.5,
          17,
          17.5,
          18,
          18.5,
          19,
          19.5,
          20
         ],
         "xaxis": "x",
         "y": [
          0,
          10,
          17.8125,
          23.90625,
          28.65234375,
          32.34375,
          35.21137942028431,
          37.43685782490391,
          39.16271724750451,
          40.50286442751949,
          41.54865995605425,
          42.372902657363255,
          43.032849519969446,
          43.5727733316703,
          44.02624407975775,
          44.418178215159614,
          44.76664931735777,
          45.08444664446592,
          45.38037813667432,
          45.6603282022079,
          45.92809204274296,
          46.18601541619073,
          46.43547165040862,
          46.67720731230849,
          46.911585307212775,
          47.13875033266862,
          47.35873731446585,
          47.571539243189406,
          47.777147028238595,
          47.975570749987405,
          48.166849062022834,
          48.3510514441187,
          48.52827646305258,
          48.69864807645035,
          48.86231122723009,
          49.019427443214674,
          49.17017081027851,
          49.31472447329921,
          49.45327769502945
         ],
         "yaxis": "y"
        },
        {
         "line": {
          "color": "red"
         },
         "mode": "lines",
         "name": "my-solver with delta_t = 0.25",
         "type": "scatter",
         "x": [
          1,
          1.5,
          2,
          2.5,
          3,
          3.5,
          4,
          4.5,
          5,
          5.5,
          6,
          6.5,
          7,
          7.5,
          8,
          8.5,
          9,
          9.5,
          10,
          10.5,
          11,
          11.5,
          12,
          12.5,
          13,
          13.5,
          14,
          14.5,
          15,
          15.5,
          16,
          16.5,
          17,
          17.5,
          18,
          18.5,
          19,
          19.5,
          20
         ],
         "xaxis": "x",
         "y": [
          0,
          9.453125,
          16.947021484375,
          22.880809217998088,
          27.574238957142153,
          31.28306811483766,
          34.21151288827599,
          36.52274713421671,
          38.34814615187392,
          39.79386267706799,
          40.94542483129608,
          41.8712427262693,
          42.62547802605767,
          43.25049449030585,
          43.77898664790338,
          44.2358279578433,
          44.63965856954923,
          45.00422822162094,
          45.339511952016466,
          45.65261997711824,
          45.948525983910635,
          46.230639374685644,
          46.501246702442,
          46.761845973975475,
          47.013395107369035,
          47.25649301214749,
          47.49150883314227,
          47.71867208919566,
          47.93813388634208,
          48.15000716479637,
          48.35439207256675,
          48.551391034783066,
          48.74111687570144,
          48.923696408553724,
          49.099271192675936,
          49.267996624920336,
          49.43004014462194,
          49.58557905512349,
          49.73479827252297
         ],
         "yaxis": "y"
        },
        {
         "line": {
          "color": "green"
         },
         "mode": "lines",
         "name": "my-solver with delta_t = 0.05",
         "type": "scatter",
         "x": [
          1,
          1.5,
          2,
          2.5,
          3,
          3.5,
          4,
          4.5,
          5,
          5.5,
          6,
          6.5,
          7,
          7.5,
          8,
          8.5,
          9,
          9.5,
          10,
          10.5,
          11,
          11.5,
          12,
          12.5,
          13,
          13.5,
          14,
          14.5,
          15,
          15.5,
          16,
          16.5,
          17,
          17.5,
          18,
          18.5,
          19,
          19.5,
          20
         ],
         "xaxis": "x",
         "y": [
          0,
          9.069872964282695,
          16.33372306079483,
          22.14583236991123,
          26.792525813695633,
          30.50486534895157,
          33.46929110064589,
          35.83691430270195,
          37.73067911261102,
          39.25053950169407,
          40.47740919761421,
          41.476345130857716,
          42.299212990953066,
          42.98696592556692,
          43.571605842727955,
          44.07786712418377,
          44.52465007698719,
          44.92622741480115,
          45.29324654771532,
          45.63355088293035,
          45.952843494144574,
          46.25521597726634,
          46.54356404943476,
          46.81990962316992,
          47.08564690913567,
          47.34172777146051,
          47.58879924278487,
          47.82730392004023,
          48.05755198080275,
          48.27977182223899,
          48.49414484124084,
          48.70082863745492,
          48.89997191075947,
          49.091723515122155,
          49.276237493062034,
          49.45367542082385,
          49.62420701753761,
          49.788009688700754,
          49.945267465199564
         ],
         "yaxis": "y"
        },
        {
         "line": {
          "color": "purple"
         },
         "mode": "lines",
         "name": "my-solver with delta_t = 0.001",
         "type": "scatter",
         "x": [
          1,
          1.5,
          2,
          2.5,
          3,
          3.5,
          4,
          4.5,
          5,
          5.5,
          6,
          6.5,
          7,
          7.5,
          8,
          8.5,
          9,
          9.5,
          10,
          10.5,
          11,
          11.5,
          12,
          12.5,
          13,
          13.5,
          14,
          14.5,
          15,
          15.5,
          16,
          16.5,
          17,
          17.5,
          18,
          18.5,
          19,
          19.5,
          20
         ],
         "xaxis": "x",
         "y": [
          0,
          8.982230402154256,
          16.19268210153608,
          21.975842051508987,
          26.61067203432733,
          30.32275872072982,
          33.29463002676873,
          35.674664621662295,
          37.58382127322165,
          39.12057502872874,
          40.36474068603941,
          41.38058135871697,
          42.219420274788284,
          42.92187376579939,
          43.519770551172826,
          44.03779663065672,
          44.4948939178059,
          44.90543679607971,
          45.28020987776499,
          45.62721018984444,
          45.95229676730109,
          46.25970983146592,
          46.55248034188953,
          46.832748863804596,
          47.10201056755779,
          47.36130094271609,
          47.611334607536,
          47.85260752472029,
          48.08547106036541,
          48.310184677212554,
          48.52695264464277,
          48.73594896866664,
          48.93733377734735,
          49.13126361683591,
          49.31789749444512,
          49.497400022088726,
          49.66994264182494,
          49.83570363357754,
          49.99486739471324
         ],
         "yaxis": "y"
        },
        {
         "line": {
          "color": "orange"
         },
         "mode": "lines",
         "name": "scipy-solver RK45",
         "type": "scatter",
         "x": [
          1,
          1.5,
          2,
          2.5,
          3,
          3.5,
          4,
          4.5,
          5,
          5.5,
          6,
          6.5,
          7,
          7.5,
          8,
          8.5,
          9,
          9.5,
          10,
          10.5,
          11,
          11.5,
          12,
          12.5,
          13,
          13.5,
          14,
          14.5,
          15,
          15.5,
          16,
          16.5,
          17,
          17.5,
          18,
          18.5,
          19,
          19.5,
          20
         ],
         "xaxis": "x",
         "y": [
          0,
          8.980466302157526,
          16.189893617078745,
          21.97239761044598,
          26.606986168215624,
          30.31906281431444,
          33.29109846609174,
          35.67117879414938,
          37.580423563021334,
          39.116847614736,
          40.36089268645264,
          41.3759830567145,
          42.21399090694311,
          42.91584862735986,
          43.51243955513137,
          44.028942045224376,
          44.485253483328215,
          44.89476607549039,
          45.267729591415005,
          45.612895780373485,
          45.93715977995889,
          46.243884303245835,
          46.53531939987074,
          46.81380952628304,
          47.08178793078171,
          47.34063302373099,
          47.59022579407655,
          47.830696156702054,
          48.062462276176475,
          48.286230566754156,
          48.50266633494679,
          48.71148302194548,
          48.91261374756401,
          49.10613661131166,
          49.292254316105414,
          49.47129416826993,
          49.64364525656337,
          49.80927997464508,
          49.9683197616434
         ],
         "yaxis": "y"
        },
        {
         "line": {
          "color": "blue"
         },
         "mode": "lines",
         "name": "my-solver with delta_t = 0.5",
         "showlegend": false,
         "type": "scatter",
         "x": [
          1,
          1.5,
          2,
          2.5,
          3,
          3.5,
          4,
          4.5,
          5,
          5.5,
          6,
          6.5,
          7,
          7.5,
          8,
          8.5,
          9,
          9.5,
          10,
          10.5,
          11,
          11.5,
          12,
          12.5,
          13,
          13.5,
          14,
          14.5,
          15,
          15.5,
          16,
          16.5,
          17,
          17.5,
          18,
          18.5,
          19,
          19.5,
          20
         ],
         "xaxis": "x2",
         "y": [
          0,
          5,
          10,
          14.6875,
          18.90625,
          22.59765625,
          25.770233477847903,
          28.472731003932665,
          30.77330727267279,
          32.74497082814667,
          34.45646023186488,
          35.967352611475775,
          37.32617515264996,
          38.57045807346496,
          39.72789769744709,
          40.81803012162694,
          41.85401778813827,
          42.84431097196825,
          43.79406313845489,
          44.70625846020922,
          45.58255898302828,
          46.423905716477094,
          47.230919190041796,
          48.00414636551803,
          48.7441964669532,
          49.451801271628256,
          50.127827659842744,
          50.773262916800604,
          51.389187016672665,
          51.976741115016736,
          52.53709771373056,
          53.07143529682894,
          53.580918464959055,
          54.06668351288527,
          54.52982880682396,
          54.9714090682344,
          55.39243263286364,
          55.79386083666785,
          56.1766088199885
         ],
         "yaxis": "y2"
        },
        {
         "line": {
          "color": "red"
         },
         "mode": "lines",
         "name": "my-solver with delta_t = 0.25",
         "showlegend": false,
         "type": "scatter",
         "x": [
          1,
          1.5,
          2,
          2.5,
          3,
          3.5,
          4,
          4.5,
          5,
          5.5,
          6,
          6.5,
          7,
          7.5,
          8,
          8.5,
          9,
          9.5,
          10,
          10.5,
          11,
          11.5,
          12,
          12.5,
          13,
          13.5,
          14,
          14.5,
          15,
          15.5,
          16,
          16.5,
          17,
          17.5,
          18,
          18.5,
          19,
          19.5,
          20
         ],
         "xaxis": "x2",
         "y": [
          0,
          5,
          9.853515625,
          14.354838239843284,
          18.40663159565991,
          21.984683810775905,
          25.110309157679318,
          27.82980833343915,
          30.200114630737605,
          32.27944566238602,
          34.12175764775955,
          35.77392520129541,
          37.27475804782711,
          38.65516603780735,
          39.938967545249305,
          41.1439911407513,
          42.28324284853408,
          43.366002993022065,
          44.39878182714977,
          45.38610691384989,
          46.33114263867859,
          47.23615772996124,
          48.10286394033324,
          48.93265097975627,
          49.726741525243305,
          50.48628718101145,
          51.212422639520604,
          51.906291634619855,
          52.569054944122456,
          53.20188786290034,
          53.80597227867104,
          54.38248671702425,
          54.932596416817255,
          55.457444572856794,
          55.958145259372,
          56.43577815161534,
          56.89138493128765,
          57.325967143677815,
          57.74048523129399
         ],
         "yaxis": "y2"
        },
        {
         "line": {
          "color": "green"
         },
         "mode": "lines",
         "name": "my-solver with delta_t = 0.05",
         "showlegend": false,
         "type": "scatter",
         "x": [
          1,
          1.5,
          2,
          2.5,
          3,
          3.5,
          4,
          4.5,
          5,
          5.5,
          6,
          6.5,
          7,
          7.5,
          8,
          8.5,
          9,
          9.5,
          10,
          10.5,
          11,
          11.5,
          12,
          12.5,
          13,
          13.5,
          14,
          14.5,
          15,
          15.5,
          16,
          16.5,
          17,
          17.5,
          18,
          18.5,
          19,
          19.5,
          20
         ],
         "xaxis": "x2",
         "y": [
          0,
          4.9656488392223315,
          9.711937039456634,
          14.093649381495933,
          18.048876489076722,
          21.569962764217724,
          24.681873267489426,
          27.4267916327126,
          29.85368512204402,
          32.01165636866925,
          33.946062289458226,
          35.696567739342946,
          37.2964846319552,
          38.77291061148652,
          40.14731823057415,
          41.436354848036004,
          42.65269711759887,
          43.80586551715676,
          44.90294788617501,
          45.94921031066228,
          46.9485924117419,
          47.90409508802412,
          48.81807438537617,
          49.69245723196124,
          50.52889462566189,
          51.32886645489198,
          52.0937501290252,
          52.824863018016856,
          53.523486610922085,
          54.1908784402943,
          54.82827624467415,
          55.43689756470421,
          56.017936970213725,
          56.57256236099707,
          57.10191123230271,
          57.60708740680309,
          58.089158471143165,
          58.549153985366615,
          58.98806443154882
         ],
         "yaxis": "y2"
        },
        {
         "line": {
          "color": "purple"
         },
         "mode": "lines",
         "name": "my-solver with delta_t = 0.001",
         "showlegend": false,
         "type": "scatter",
         "x": [
          1,
          1.5,
          2,
          2.5,
          3,
          3.5,
          4,
          4.5,
          5,
          5.5,
          6,
          6.5,
          7,
          7.5,
          8,
          8.5,
          9,
          9.5,
          10,
          10.5,
          11,
          11.5,
          12,
          12.5,
          13,
          13.5,
          14,
          14.5,
          15,
          15.5,
          16,
          16.5,
          17,
          17.5,
          18,
          18.5,
          19,
          19.5,
          20
         ],
         "xaxis": "x2",
         "y": [
          0,
          4.954273255526505,
          9.675984619335216,
          14.032314674297519,
          17.96819809050817,
          21.478894983763084,
          24.589750375520026,
          27.341874767521208,
          29.782485178330244,
          31.958769047548085,
          33.914308259248116,
          35.68728721155544,
          37.30988456498058,
          38.808401627507926,
          40.203807106019056,
          41.51247832723723,
          42.74699551780691,
          43.91690190705951,
          45.029382112864006,
          46.08983812199203,
          47.102359371085285,
          48.07009362863477,
          48.99553069210383,
          49.88071297740525,
          50.72738710018808,
          51.537109395883,
          52.31131659381793,
          53.05137094026609,
          53.75858719575816,
          54.434247246679526,
          55.079606631183935,
          55.695896099417965,
          56.28432039472697,
          56.846055727822325,
          57.38224688558065,
          57.894004535290506,
          58.3824030213601,
          58.848478776489486,
          59.293229359554296
         ],
         "yaxis": "y2"
        },
        {
         "line": {
          "color": "orange"
         },
         "mode": "lines",
         "name": "scipy-solver RK45",
         "showlegend": false,
         "type": "scatter",
         "x": [
          1,
          1.5,
          2,
          2.5,
          3,
          3.5,
          4,
          4.5,
          5,
          5.5,
          6,
          6.5,
          7,
          7.5,
          8,
          8.5,
          9,
          9.5,
          10,
          10.5,
          11,
          11.5,
          12,
          12.5,
          13,
          13.5,
          14,
          14.5,
          15,
          15.5,
          16,
          16.5,
          17,
          17.5,
          18,
          18.5,
          19,
          19.5,
          20
         ],
         "xaxis": "x2",
         "y": [
          0,
          4.95402967758744,
          9.67510910261363,
          14.031115273055162,
          17.9666196503119,
          21.477111819267986,
          24.587856597808802,
          27.340210739234916,
          29.780953608727366,
          31.957911078024452,
          33.91355384975055,
          35.687225342682126,
          37.31045509205975,
          38.80922814299779,
          40.20512439096818,
          41.51436206880762,
          42.74931989451417,
          43.91960937386382,
          45.032161249568496,
          46.09263384665337,
          47.10560791190693,
          48.07389418543587,
          48.99937486690841,
          49.88420866928802,
          50.73083214752143,
          51.54104832230856,
          52.31570756144392,
          53.05591974334361,
          53.76303659089619,
          54.438651671462765,
          55.08431913831809,
          55.70092220114158,
          56.289599749664816,
          56.851513250926146,
          57.38782599369834,
          57.89970308848853,
          58.3882891505843,
          58.854544502188254,
          59.29944951229926
         ],
         "yaxis": "y2"
        }
       ],
       "layout": {
        "annotations": [
         {
          "font": {
           "size": 16
          },
          "showarrow": false,
          "text": "ages 0-10",
          "x": 0.225,
          "xanchor": "center",
          "xref": "paper",
          "y": 1,
          "yanchor": "bottom",
          "yref": "paper"
         },
         {
          "font": {
           "size": 16
          },
          "showarrow": false,
          "text": "ages 10-25",
          "x": 0.775,
          "xanchor": "center",
          "xref": "paper",
          "y": 1,
          "yanchor": "bottom",
          "yref": "paper"
         }
        ],
        "boxmode": "group",
        "legend": {
         "orientation": "h",
         "x": 1,
         "xanchor": "right",
         "y": 1.02,
         "yanchor": "bottom"
        },
        "plot_bgcolor": "white",
        "template": {
         "data": {
          "bar": [
           {
            "error_x": {
             "color": "#2a3f5f"
            },
            "error_y": {
             "color": "#2a3f5f"
            },
            "marker": {
             "line": {
              "color": "#E5ECF6",
              "width": 0.5
             },
             "pattern": {
              "fillmode": "overlay",
              "size": 10,
              "solidity": 0.2
             }
            },
            "type": "bar"
           }
          ],
          "barpolar": [
           {
            "marker": {
             "line": {
              "color": "#E5ECF6",
              "width": 0.5
             },
             "pattern": {
              "fillmode": "overlay",
              "size": 10,
              "solidity": 0.2
             }
            },
            "type": "barpolar"
           }
          ],
          "carpet": [
           {
            "aaxis": {
             "endlinecolor": "#2a3f5f",
             "gridcolor": "white",
             "linecolor": "white",
             "minorgridcolor": "white",
             "startlinecolor": "#2a3f5f"
            },
            "baxis": {
             "endlinecolor": "#2a3f5f",
             "gridcolor": "white",
             "linecolor": "white",
             "minorgridcolor": "white",
             "startlinecolor": "#2a3f5f"
            },
            "type": "carpet"
           }
          ],
          "choropleth": [
           {
            "colorbar": {
             "outlinewidth": 0,
             "ticks": ""
            },
            "type": "choropleth"
           }
          ],
          "contour": [
           {
            "colorbar": {
             "outlinewidth": 0,
             "ticks": ""
            },
            "colorscale": [
             [
              0,
              "#0d0887"
             ],
             [
              0.1111111111111111,
              "#46039f"
             ],
             [
              0.2222222222222222,
              "#7201a8"
             ],
             [
              0.3333333333333333,
              "#9c179e"
             ],
             [
              0.4444444444444444,
              "#bd3786"
             ],
             [
              0.5555555555555556,
              "#d8576b"
             ],
             [
              0.6666666666666666,
              "#ed7953"
             ],
             [
              0.7777777777777778,
              "#fb9f3a"
             ],
             [
              0.8888888888888888,
              "#fdca26"
             ],
             [
              1,
              "#f0f921"
             ]
            ],
            "type": "contour"
           }
          ],
          "contourcarpet": [
           {
            "colorbar": {
             "outlinewidth": 0,
             "ticks": ""
            },
            "type": "contourcarpet"
           }
          ],
          "heatmap": [
           {
            "colorbar": {
             "outlinewidth": 0,
             "ticks": ""
            },
            "colorscale": [
             [
              0,
              "#0d0887"
             ],
             [
              0.1111111111111111,
              "#46039f"
             ],
             [
              0.2222222222222222,
              "#7201a8"
             ],
             [
              0.3333333333333333,
              "#9c179e"
             ],
             [
              0.4444444444444444,
              "#bd3786"
             ],
             [
              0.5555555555555556,
              "#d8576b"
             ],
             [
              0.6666666666666666,
              "#ed7953"
             ],
             [
              0.7777777777777778,
              "#fb9f3a"
             ],
             [
              0.8888888888888888,
              "#fdca26"
             ],
             [
              1,
              "#f0f921"
             ]
            ],
            "type": "heatmap"
           }
          ],
          "heatmapgl": [
           {
            "colorbar": {
             "outlinewidth": 0,
             "ticks": ""
            },
            "colorscale": [
             [
              0,
              "#0d0887"
             ],
             [
              0.1111111111111111,
              "#46039f"
             ],
             [
              0.2222222222222222,
              "#7201a8"
             ],
             [
              0.3333333333333333,
              "#9c179e"
             ],
             [
              0.4444444444444444,
              "#bd3786"
             ],
             [
              0.5555555555555556,
              "#d8576b"
             ],
             [
              0.6666666666666666,
              "#ed7953"
             ],
             [
              0.7777777777777778,
              "#fb9f3a"
             ],
             [
              0.8888888888888888,
              "#fdca26"
             ],
             [
              1,
              "#f0f921"
             ]
            ],
            "type": "heatmapgl"
           }
          ],
          "histogram": [
           {
            "marker": {
             "pattern": {
              "fillmode": "overlay",
              "size": 10,
              "solidity": 0.2
             }
            },
            "type": "histogram"
           }
          ],
          "histogram2d": [
           {
            "colorbar": {
             "outlinewidth": 0,
             "ticks": ""
            },
            "colorscale": [
             [
              0,
              "#0d0887"
             ],
             [
              0.1111111111111111,
              "#46039f"
             ],
             [
              0.2222222222222222,
              "#7201a8"
             ],
             [
              0.3333333333333333,
              "#9c179e"
             ],
             [
              0.4444444444444444,
              "#bd3786"
             ],
             [
              0.5555555555555556,
              "#d8576b"
             ],
             [
              0.6666666666666666,
              "#ed7953"
             ],
             [
              0.7777777777777778,
              "#fb9f3a"
             ],
             [
              0.8888888888888888,
              "#fdca26"
             ],
             [
              1,
              "#f0f921"
             ]
            ],
            "type": "histogram2d"
           }
          ],
          "histogram2dcontour": [
           {
            "colorbar": {
             "outlinewidth": 0,
             "ticks": ""
            },
            "colorscale": [
             [
              0,
              "#0d0887"
             ],
             [
              0.1111111111111111,
              "#46039f"
             ],
             [
              0.2222222222222222,
              "#7201a8"
             ],
             [
              0.3333333333333333,
              "#9c179e"
             ],
             [
              0.4444444444444444,
              "#bd3786"
             ],
             [
              0.5555555555555556,
              "#d8576b"
             ],
             [
              0.6666666666666666,
              "#ed7953"
             ],
             [
              0.7777777777777778,
              "#fb9f3a"
             ],
             [
              0.8888888888888888,
              "#fdca26"
             ],
             [
              1,
              "#f0f921"
             ]
            ],
            "type": "histogram2dcontour"
           }
          ],
          "mesh3d": [
           {
            "colorbar": {
             "outlinewidth": 0,
             "ticks": ""
            },
            "type": "mesh3d"
           }
          ],
          "parcoords": [
           {
            "line": {
             "colorbar": {
              "outlinewidth": 0,
              "ticks": ""
             }
            },
            "type": "parcoords"
           }
          ],
          "pie": [
           {
            "automargin": true,
            "type": "pie"
           }
          ],
          "scatter": [
           {
            "marker": {
             "colorbar": {
              "outlinewidth": 0,
              "ticks": ""
             }
            },
            "type": "scatter"
           }
          ],
          "scatter3d": [
           {
            "line": {
             "colorbar": {
              "outlinewidth": 0,
              "ticks": ""
             }
            },
            "marker": {
             "colorbar": {
              "outlinewidth": 0,
              "ticks": ""
             }
            },
            "type": "scatter3d"
           }
          ],
          "scattercarpet": [
           {
            "marker": {
             "colorbar": {
              "outlinewidth": 0,
              "ticks": ""
             }
            },
            "type": "scattercarpet"
           }
          ],
          "scattergeo": [
           {
            "marker": {
             "colorbar": {
              "outlinewidth": 0,
              "ticks": ""
             }
            },
            "type": "scattergeo"
           }
          ],
          "scattergl": [
           {
            "marker": {
             "colorbar": {
              "outlinewidth": 0,
              "ticks": ""
             }
            },
            "type": "scattergl"
           }
          ],
          "scattermapbox": [
           {
            "marker": {
             "colorbar": {
              "outlinewidth": 0,
              "ticks": ""
             }
            },
            "type": "scattermapbox"
           }
          ],
          "scatterpolar": [
           {
            "marker": {
             "colorbar": {
              "outlinewidth": 0,
              "ticks": ""
             }
            },
            "type": "scatterpolar"
           }
          ],
          "scatterpolargl": [
           {
            "marker": {
             "colorbar": {
              "outlinewidth": 0,
              "ticks": ""
             }
            },
            "type": "scatterpolargl"
           }
          ],
          "scatterternary": [
           {
            "marker": {
             "colorbar": {
              "outlinewidth": 0,
              "ticks": ""
             }
            },
            "type": "scatterternary"
           }
          ],
          "surface": [
           {
            "colorbar": {
             "outlinewidth": 0,
             "ticks": ""
            },
            "colorscale": [
             [
              0,
              "#0d0887"
             ],
             [
              0.1111111111111111,
              "#46039f"
             ],
             [
              0.2222222222222222,
              "#7201a8"
             ],
             [
              0.3333333333333333,
              "#9c179e"
             ],
             [
              0.4444444444444444,
              "#bd3786"
             ],
             [
              0.5555555555555556,
              "#d8576b"
             ],
             [
              0.6666666666666666,
              "#ed7953"
             ],
             [
              0.7777777777777778,
              "#fb9f3a"
             ],
             [
              0.8888888888888888,
              "#fdca26"
             ],
             [
              1,
              "#f0f921"
             ]
            ],
            "type": "surface"
           }
          ],
          "table": [
           {
            "cells": {
             "fill": {
              "color": "#EBF0F8"
             },
             "line": {
              "color": "white"
             }
            },
            "header": {
             "fill": {
              "color": "#C8D4E3"
             },
             "line": {
              "color": "white"
             }
            },
            "type": "table"
           }
          ]
         },
         "layout": {
          "annotationdefaults": {
           "arrowcolor": "#2a3f5f",
           "arrowhead": 0,
           "arrowwidth": 1
          },
          "autotypenumbers": "strict",
          "coloraxis": {
           "colorbar": {
            "outlinewidth": 0,
            "ticks": ""
           }
          },
          "colorscale": {
           "diverging": [
            [
             0,
             "#8e0152"
            ],
            [
             0.1,
             "#c51b7d"
            ],
            [
             0.2,
             "#de77ae"
            ],
            [
             0.3,
             "#f1b6da"
            ],
            [
             0.4,
             "#fde0ef"
            ],
            [
             0.5,
             "#f7f7f7"
            ],
            [
             0.6,
             "#e6f5d0"
            ],
            [
             0.7,
             "#b8e186"
            ],
            [
             0.8,
             "#7fbc41"
            ],
            [
             0.9,
             "#4d9221"
            ],
            [
             1,
             "#276419"
            ]
           ],
           "sequential": [
            [
             0,
             "#0d0887"
            ],
            [
             0.1111111111111111,
             "#46039f"
            ],
            [
             0.2222222222222222,
             "#7201a8"
            ],
            [
             0.3333333333333333,
             "#9c179e"
            ],
            [
             0.4444444444444444,
             "#bd3786"
            ],
            [
             0.5555555555555556,
             "#d8576b"
            ],
            [
             0.6666666666666666,
             "#ed7953"
            ],
            [
             0.7777777777777778,
             "#fb9f3a"
            ],
            [
             0.8888888888888888,
             "#fdca26"
            ],
            [
             1,
             "#f0f921"
            ]
           ],
           "sequentialminus": [
            [
             0,
             "#0d0887"
            ],
            [
             0.1111111111111111,
             "#46039f"
            ],
            [
             0.2222222222222222,
             "#7201a8"
            ],
            [
             0.3333333333333333,
             "#9c179e"
            ],
            [
             0.4444444444444444,
             "#bd3786"
            ],
            [
             0.5555555555555556,
             "#d8576b"
            ],
            [
             0.6666666666666666,
             "#ed7953"
            ],
            [
             0.7777777777777778,
             "#fb9f3a"
            ],
            [
             0.8888888888888888,
             "#fdca26"
            ],
            [
             1,
             "#f0f921"
            ]
           ]
          },
          "colorway": [
           "#636efa",
           "#EF553B",
           "#00cc96",
           "#ab63fa",
           "#FFA15A",
           "#19d3f3",
           "#FF6692",
           "#B6E880",
           "#FF97FF",
           "#FECB52"
          ],
          "font": {
           "color": "#2a3f5f"
          },
          "geo": {
           "bgcolor": "white",
           "lakecolor": "white",
           "landcolor": "#E5ECF6",
           "showlakes": true,
           "showland": true,
           "subunitcolor": "white"
          },
          "hoverlabel": {
           "align": "left"
          },
          "hovermode": "closest",
          "mapbox": {
           "style": "light"
          },
          "paper_bgcolor": "white",
          "plot_bgcolor": "#E5ECF6",
          "polar": {
           "angularaxis": {
            "gridcolor": "white",
            "linecolor": "white",
            "ticks": ""
           },
           "bgcolor": "#E5ECF6",
           "radialaxis": {
            "gridcolor": "white",
            "linecolor": "white",
            "ticks": ""
           }
          },
          "scene": {
           "xaxis": {
            "backgroundcolor": "#E5ECF6",
            "gridcolor": "white",
            "gridwidth": 2,
            "linecolor": "white",
            "showbackground": true,
            "ticks": "",
            "zerolinecolor": "white"
           },
           "yaxis": {
            "backgroundcolor": "#E5ECF6",
            "gridcolor": "white",
            "gridwidth": 2,
            "linecolor": "white",
            "showbackground": true,
            "ticks": "",
            "zerolinecolor": "white"
           },
           "zaxis": {
            "backgroundcolor": "#E5ECF6",
            "gridcolor": "white",
            "gridwidth": 2,
            "linecolor": "white",
            "showbackground": true,
            "ticks": "",
            "zerolinecolor": "white"
           }
          },
          "shapedefaults": {
           "line": {
            "color": "#2a3f5f"
           }
          },
          "ternary": {
           "aaxis": {
            "gridcolor": "white",
            "linecolor": "white",
            "ticks": ""
           },
           "baxis": {
            "gridcolor": "white",
            "linecolor": "white",
            "ticks": ""
           },
           "bgcolor": "#E5ECF6",
           "caxis": {
            "gridcolor": "white",
            "linecolor": "white",
            "ticks": ""
           }
          },
          "title": {
           "x": 0.05
          },
          "xaxis": {
           "automargin": true,
           "gridcolor": "white",
           "linecolor": "white",
           "ticks": "",
           "title": {
            "standoff": 15
           },
           "zerolinecolor": "white",
           "zerolinewidth": 2
          },
          "yaxis": {
           "automargin": true,
           "gridcolor": "white",
           "linecolor": "white",
           "ticks": "",
           "title": {
            "standoff": 15
           },
           "zerolinecolor": "white",
           "zerolinewidth": 2
          }
         }
        },
        "title": {
         "text": "R in region London"
        },
        "width": 800,
        "xaxis": {
         "anchor": "y",
         "domain": [
          0,
          0.45
         ],
         "linecolor": "black"
        },
        "xaxis2": {
         "anchor": "y2",
         "domain": [
          0.55,
          1
         ],
         "linecolor": "black"
        },
        "xaxis3": {
         "linecolor": "black"
        },
        "xaxis4": {
         "linecolor": "black"
        },
        "xaxis5": {
         "linecolor": "black"
        },
        "xaxis6": {
         "linecolor": "black"
        },
        "xaxis7": {
         "linecolor": "black"
        },
        "xaxis8": {
         "linecolor": "black"
        },
        "yaxis": {
         "anchor": "x",
         "domain": [
          0,
          1
         ],
         "linecolor": "black"
        },
        "yaxis2": {
         "anchor": "x2",
         "domain": [
          0,
          1
         ],
         "linecolor": "black"
        },
        "yaxis3": {
         "linecolor": "black"
        },
        "yaxis4": {
         "linecolor": "black"
        },
        "yaxis5": {
         "linecolor": "black"
        },
        "yaxis6": {
         "linecolor": "black"
        },
        "yaxis7": {
         "linecolor": "black"
        },
        "yaxis8": {
         "linecolor": "black"
        }
       }
      }
     },
     "metadata": {},
     "output_type": "display_data"
    },
    {
     "data": {
      "application/vnd.plotly.v1+json": {
       "config": {
        "plotlyServerURL": "https://plot.ly"
       },
       "data": [
        {
         "line": {
          "color": "blue"
         },
         "mode": "lines",
         "name": "my-solver with delta_t = 0.5",
         "type": "scatter",
         "x": [
          1,
          1.5,
          2,
          2.5,
          3,
          3.5,
          4,
          4.5,
          5,
          5.5,
          6,
          6.5,
          7,
          7.5,
          8,
          8.5,
          9,
          9.5,
          10,
          10.5,
          11,
          11.5,
          12,
          12.5,
          13,
          13.5,
          14,
          14.5,
          15,
          15.5,
          16,
          16.5,
          17,
          17.5,
          18,
          18.5,
          19,
          19.5,
          20
         ],
         "xaxis": "x",
         "y": [
          0,
          0,
          0,
          0,
          0.0031644745489813886,
          0.007204637090175936,
          0.010933833297890772,
          0.05103437940182687,
          0.10193093960194943,
          0.15011515624459548,
          0.1894847270958664,
          0.21824059644611538,
          0.23688225203451907,
          0.24696251763845822,
          0.2503551183129602,
          0.24885799959151456,
          0.24400794452206753,
          0.23702117950916346,
          0.22880330563052098,
          0.2199923921250928,
          0.2110133495554507,
          0.20213133019828433,
          0.19349814083280847,
          0.1851894866895023,
          0.17723305195384853,
          0.16962852554614472,
          0.16236110759666644,
          0.15541006531240953,
          0.1487537360382234,
          0.14237212042283431,
          0.13624794096000414,
          0.13036679881411573,
          0.12471686133429927,
          0.11928835761952428,
          0.11407304640896854,
          0.10906374266033225,
          0.10425393876167988,
          0.09963752615531263,
          0.09520860706759748
         ],
         "yaxis": "y"
        },
        {
         "line": {
          "color": "red"
         },
         "mode": "lines",
         "name": "my-solver with delta_t = 0.25",
         "type": "scatter",
         "x": [
          1,
          1.5,
          2,
          2.5,
          3,
          3.5,
          4,
          4.5,
          5,
          5.5,
          6,
          6.5,
          7,
          7.5,
          8,
          8.5,
          9,
          9.5,
          10,
          10.5,
          11,
          11.5,
          12,
          12.5,
          13,
          13.5,
          14,
          14.5,
          15,
          15.5,
          16,
          16.5,
          17,
          17.5,
          18,
          18.5,
          19,
          19.5,
          20
         ],
         "xaxis": "x",
         "y": [
          0,
          0,
          0.0004520612526448531,
          0.0032910495241935678,
          0.0071331086324306625,
          0.010853721693059981,
          0.031761096530985355,
          0.0732261951802613,
          0.11940498464199578,
          0.16184666808769066,
          0.19670390677702443,
          0.2228572099486712,
          0.24068704895711335,
          0.2512967926677092,
          0.2560428296590018,
          0.2562686984367559,
          0.2531704259072498,
          0.2477427763768958,
          0.24077251721116255,
          0.23285654891440544,
          0.22443097706317872,
          0.2158028320171681,
          0.2071798803992806,
          0.1986963655039773,
          0.19043397314896282,
          0.1824381486671669,
          0.1747303091433281,
          0.16731665734053536,
          0.16019431612318868,
          0.15335543494363435,
          0.1467898179184246,
          0.1404865131480335,
          0.13443470017126202,
          0.1286241239194439,
          0.12304525155029467,
          0.11768927262627216,
          0.11254802137543152,
          0.10761386979318388,
          0.1028796196255044
         ],
         "yaxis": "y"
        },
        {
         "line": {
          "color": "green"
         },
         "mode": "lines",
         "name": "my-solver with delta_t = 0.05",
         "type": "scatter",
         "x": [
          1,
          1.5,
          2,
          2.5,
          3,
          3.5,
          4,
          4.5,
          5,
          5.5,
          6,
          6.5,
          7,
          7.5,
          8,
          8.5,
          9,
          9.5,
          10,
          10.5,
          11,
          11.5,
          12,
          12.5,
          13,
          13.5,
          14,
          14.5,
          15,
          15.5,
          16,
          16.5,
          17,
          17.5,
          18,
          18.5,
          19,
          19.5,
          20
         ],
         "xaxis": "x",
         "y": [
          0,
          0.00029964601579024475,
          0.0025879146392639996,
          0.006229942029250424,
          0.01002376841457675,
          0.01764406462377366,
          0.046252193779103834,
          0.08784401391391583,
          0.13124155783413727,
          0.17044573624517767,
          0.2027230620168723,
          0.22730661133422103,
          0.24453484140075687,
          0.2552975840884244,
          0.26069356226863505,
          0.26183036759988454,
          0.2597178068951038,
          0.25522033543960987,
          0.2490451319821858,
          0.24175017770753016,
          0.23376223041638866,
          0.22539842352024664,
          0.2168878227668074,
          0.20839098984330207,
          0.20001669318224202,
          0.19183556665360157,
          0.1838908878986132,
          0.1762068310661249,
          0.1687946145211754,
          0.1616569611372114,
          0.1547912491851946,
          0.1481916761422113,
          0.1418506984462482,
          0.13575995437206956,
          0.1299108282765502,
          0.12429477371593123,
          0.11890348030143372,
          0.11372894387103116,
          0.10876348052354246
         ],
         "yaxis": "y"
        },
        {
         "line": {
          "color": "purple"
         },
         "mode": "lines",
         "name": "my-solver with delta_t = 0.001",
         "type": "scatter",
         "x": [
          1,
          1.5,
          2,
          2.5,
          3,
          3.5,
          4,
          4.5,
          5,
          5.5,
          6,
          6.5,
          7,
          7.5,
          8,
          8.5,
          9,
          9.5,
          10,
          10.5,
          11,
          11.5,
          12,
          12.5,
          13,
          13.5,
          14,
          14.5,
          15,
          15.5,
          16,
          16.5,
          17,
          17.5,
          18,
          18.5,
          19,
          19.5,
          20
         ],
         "xaxis": "x",
         "y": [
          0,
          0.0005604198735724708,
          0.003217070861914806,
          0.006946054910770272,
          0.010686990290594167,
          0.019612329856407484,
          0.04959010753868398,
          0.09113217415504238,
          0.13393595968086203,
          0.17246598245685618,
          0.2042020111308389,
          0.22844658975390786,
          0.24553199178203755,
          0.25630800411788357,
          0.2618236289376057,
          0.26313985204577506,
          0.2612287027552682,
          0.2569272497314117,
          0.25092500892925074,
          0.24377033786630165,
          0.23588643108055152,
          0.22759104416212494,
          0.2191164678872468,
          0.21062786269511236,
          0.20223908286278913,
          0.19402574428372787,
          0.18603564764227798,
          0.1782968517575796,
          0.17082376452714243,
          0.16362162563677174,
          0.15668972573637774,
          0.15002366033461811,
          0.14361686512776117,
          0.13746162973235698,
          0.13154974240757156,
          0.12587288079851788,
          0.12042283320647584,
          0.11519161086992113,
          0.1101714933861544
         ],
         "yaxis": "y"
        },
        {
         "line": {
          "color": "orange"
         },
         "mode": "lines",
         "name": "scipy-solver RK45",
         "type": "scatter",
         "x": [
          1,
          1.5,
          2,
          2.5,
          3,
          3.5,
          4,
          4.5,
          5,
          5.5,
          6,
          6.5,
          7,
          7.5,
          8,
          8.5,
          9,
          9.5,
          10,
          10.5,
          11,
          11.5,
          12,
          12.5,
          13,
          13.5,
          14,
          14.5,
          15,
          15.5,
          16,
          16.5,
          17,
          17.5,
          18,
          18.5,
          19,
          19.5,
          20
         ],
         "xaxis": "x",
         "y": [
          0,
          0.0005667053558155999,
          0.0032342291774796195,
          0.006954675526664289,
          0.010700774669089697,
          0.018955865892429813,
          0.048045661030208464,
          0.08894366020021494,
          0.13170412278225996,
          0.16988923699933167,
          0.20218866349325282,
          0.22617122992605942,
          0.2435235121840691,
          0.2548234163735472,
          0.26024683981617613,
          0.2616637533884685,
          0.2601984483577908,
          0.25601594755578816,
          0.25009583117095957,
          0.2430586523824516,
          0.23527983468146374,
          0.22702848182378688,
          0.21873001981548867,
          0.21038334021146454,
          0.20198322122565315,
          0.19367279719838848,
          0.18572539327294635,
          0.17810402535850756,
          0.1707331284466278,
          0.1635371375288983,
          0.1565141857177892,
          0.149851728336877,
          0.14348316963096153,
          0.13737583909154694,
          0.13150196398685665,
          0.125833771585107,
          0.12035426432748864,
          0.11512771169642377,
          0.11012094004267681
         ],
         "yaxis": "y"
        },
        {
         "line": {
          "color": "blue"
         },
         "mode": "lines",
         "name": "my-solver with delta_t = 0.5",
         "showlegend": false,
         "type": "scatter",
         "x": [
          1,
          1.5,
          2,
          2.5,
          3,
          3.5,
          4,
          4.5,
          5,
          5.5,
          6,
          6.5,
          7,
          7.5,
          8,
          8.5,
          9,
          9.5,
          10,
          10.5,
          11,
          11.5,
          12,
          12.5,
          13,
          13.5,
          14,
          14.5,
          15,
          15.5,
          16,
          16.5,
          17,
          17.5,
          18,
          18.5,
          19,
          19.5,
          20
         ],
         "xaxis": "x2",
         "y": [
          0,
          0,
          0,
          0,
          0.13623564556645107,
          0.32076319900654227,
          0.5024747244387697,
          0.6552641725820578,
          0.7690915467793005,
          0.8435043838021556,
          0.8831481815893554,
          0.8948171613577074,
          0.8856467547216411,
          0.862114098641598,
          0.8295810997040505,
          0.7921787626262002,
          0.7528872504689517,
          0.7137118068596919,
          0.6758901413806839,
          0.6400930833126779,
          0.6065986796350771,
          0.5754320431063888,
          0.5464706736151967,
          0.5195190196431128,
          0.4943578121469372,
          0.47077403625355885,
          0.44857692489472356,
          0.427604489196419,
          0.4077241180120268,
          0.3888298455388579,
          0.37083808414530495,
          0.35368297958203954,
          0.3373120659608162,
          0.32168255937453694,
          0.30675840566538426,
          0.29250806245957506,
          0.27890292349265877,
          0.26591626387232736,
          0.25352258224305046
         ],
         "yaxis": "y2"
        },
        {
         "line": {
          "color": "red"
         },
         "mode": "lines",
         "name": "my-solver with delta_t = 0.25",
         "showlegend": false,
         "type": "scatter",
         "x": [
          1,
          1.5,
          2,
          2.5,
          3,
          3.5,
          4,
          4.5,
          5,
          5.5,
          6,
          6.5,
          7,
          7.5,
          8,
          8.5,
          9,
          9.5,
          10,
          10.5,
          11,
          11.5,
          12,
          12.5,
          13,
          13.5,
          14,
          14.5,
          15,
          15.5,
          16,
          16.5,
          17,
          17.5,
          18,
          18.5,
          19,
          19.5,
          20
         ],
         "xaxis": "x2",
         "y": [
          0,
          0,
          0.01824109997020429,
          0.13633593891113804,
          0.30442953928840666,
          0.4771342066511579,
          0.6296868855048174,
          0.7509258893988289,
          0.8381601311803948,
          0.8935561060732624,
          0.9216975370294094,
          0.9280193731792465,
          0.9178704769997807,
          0.8960107902886207,
          0.866395065975432,
          0.8321345578139514,
          0.7955599273845309,
          0.7583334505666244,
          0.7215772259420845,
          0.6859975333170709,
          0.651994806567707,
          0.6197548340188703,
          0.5893206118673788,
          0.5606464323309126,
          0.5336368223849632,
          0.508173263866432,
          0.48413151310805347,
          0.4613920005783072,
          0.43984536187711853,
          0.41939471359439295,
          0.3999558875452536,
          0.38145649682440563,
          0.3638344333611201,
          0.34703618629130517,
          0.3310152157219761,
          0.3157305076290484,
          0.3011453628595646,
          0.2872264275394585,
          0.2739429460147491
         ],
         "yaxis": "y2"
        },
        {
         "line": {
          "color": "green"
         },
         "mode": "lines",
         "name": "my-solver with delta_t = 0.05",
         "showlegend": false,
         "type": "scatter",
         "x": [
          1,
          1.5,
          2,
          2.5,
          3,
          3.5,
          4,
          4.5,
          5,
          5.5,
          6,
          6.5,
          7,
          7.5,
          8,
          8.5,
          9,
          9.5,
          10,
          10.5,
          11,
          11.5,
          12,
          12.5,
          13,
          13.5,
          14,
          14.5,
          15,
          15.5,
          16,
          16.5,
          17,
          17.5,
          18,
          18.5,
          19,
          19.5,
          20
         ],
         "xaxis": "x2",
         "y": [
          0,
          0.011737310279158919,
          0.10388921565348852,
          0.2571873436385417,
          0.4257552007594043,
          0.5828746427086244,
          0.714919971248591,
          0.8167465246722188,
          0.8883796475690957,
          0.9327157884080677,
          0.9539881360310005,
          0.9567927883335159,
          0.9455130964006742,
          0.9240169484981777,
          0.89553324493437,
          0.8626394974803873,
          0.8273127431243026,
          0.791011450699969,
          0.7547675878829097,
          0.719276272716499,
          0.6849761634429754,
          0.6521175548852085,
          0.6208175571790591,
          0.5911031402154876,
          0.5629435499641176,
          0.5362738775732439,
          0.5110115608134933,
          0.48706744087222376,
          0.4643527672287604,
          0.44278329166292707,
          0.42228135070185857,
          0.4027766207764216,
          0.3842060491667425,
          0.3665133175366577,
          0.34964808104457035,
          0.3335651404702702,
          0.31822364266942316,
          0.30358636119525784,
          0.28961907978476376
         ],
         "yaxis": "y2"
        },
        {
         "line": {
          "color": "purple"
         },
         "mode": "lines",
         "name": "my-solver with delta_t = 0.001",
         "showlegend": false,
         "type": "scatter",
         "x": [
          1,
          1.5,
          2,
          2.5,
          3,
          3.5,
          4,
          4.5,
          5,
          5.5,
          6,
          6.5,
          7,
          7.5,
          8,
          8.5,
          9,
          9.5,
          10,
          10.5,
          11,
          11.5,
          12,
          12.5,
          13,
          13.5,
          14,
          14.5,
          15,
          15.5,
          16,
          16.5,
          17,
          17.5,
          18,
          18.5,
          19,
          19.5,
          20
         ],
         "xaxis": "x2",
         "y": [
          0,
          0.021928743961055375,
          0.12909505452300607,
          0.28660200785083134,
          0.45362301215649836,
          0.6067128892622051,
          0.7341615055593707,
          0.8318306626751379,
          0.9001742912333981,
          0.9421747341209112,
          0.9619683106046182,
          0.9639748210781107,
          0.9523843563188592,
          0.9308887663746361,
          0.90257369449413,
          0.8699102134944496,
          0.8348032639564806,
          0.7986679416916616,
          0.7625149391066373,
          0.7270338154323,
          0.6926678912316575,
          0.659677980539584,
          0.6281943412322804,
          0.5982575012623172,
          0.5698492839930083,
          0.5429156193199063,
          0.5173827409215832,
          0.49316824121014236,
          0.4701882571401015,
          0.4483618391118043,
          0.42761334033032483,
          0.4078734708325058,
          0.3890794959798427,
          0.3711749250856755,
          0.3541089302911189,
          0.33783565543325267,
          0.3223135154018877,
          0.3075045442578599,
          0.2933738214163668
         ],
         "yaxis": "y2"
        },
        {
         "line": {
          "color": "orange"
         },
         "mode": "lines",
         "name": "scipy-solver RK45",
         "showlegend": false,
         "type": "scatter",
         "x": [
          1,
          1.5,
          2,
          2.5,
          3,
          3.5,
          4,
          4.5,
          5,
          5.5,
          6,
          6.5,
          7,
          7.5,
          8,
          8.5,
          9,
          9.5,
          10,
          10.5,
          11,
          11.5,
          12,
          12.5,
          13,
          13.5,
          14,
          14.5,
          15,
          15.5,
          16,
          16.5,
          17,
          17.5,
          18,
          18.5,
          19,
          19.5,
          20
         ],
         "xaxis": "x2",
         "y": [
          0,
          0.02217405996937316,
          0.12973231438792965,
          0.28704379320313933,
          0.4541926509799694,
          0.6072003399189896,
          0.7346061534997546,
          0.8320836145075674,
          0.9004888646970244,
          0.9422126229560277,
          0.962260192878766,
          0.9640318814521152,
          0.9524507659510704,
          0.9310443205386463,
          0.9027395790645514,
          0.8700706986431399,
          0.8348316796284649,
          0.7987449240255842,
          0.762889147758294,
          0.727437316032912,
          0.6926744742734456,
          0.6596233546901686,
          0.6284398425315132,
          0.5987350261814726,
          0.5701241634312098,
          0.5428785582182414,
          0.5173668370539914,
          0.49328771936315974,
          0.47042552083772904,
          0.44856455716968924,
          0.42764094095028327,
          0.407906341472831,
          0.38913186863625526,
          0.371247601286278,
          0.35419545396025853,
          0.33791734119549943,
          0.3223647171508759,
          0.30755841741399337,
          0.2934358885916737
         ],
         "yaxis": "y2"
        }
       ],
       "layout": {
        "annotations": [
         {
          "font": {
           "size": 16
          },
          "showarrow": false,
          "text": "ages 0-10",
          "x": 0.225,
          "xanchor": "center",
          "xref": "paper",
          "y": 1,
          "yanchor": "bottom",
          "yref": "paper"
         },
         {
          "font": {
           "size": 16
          },
          "showarrow": false,
          "text": "ages 10-25",
          "x": 0.775,
          "xanchor": "center",
          "xref": "paper",
          "y": 1,
          "yanchor": "bottom",
          "yref": "paper"
         }
        ],
        "boxmode": "group",
        "legend": {
         "orientation": "h",
         "x": 1,
         "xanchor": "right",
         "y": 1.02,
         "yanchor": "bottom"
        },
        "plot_bgcolor": "white",
        "template": {
         "data": {
          "bar": [
           {
            "error_x": {
             "color": "#2a3f5f"
            },
            "error_y": {
             "color": "#2a3f5f"
            },
            "marker": {
             "line": {
              "color": "#E5ECF6",
              "width": 0.5
             },
             "pattern": {
              "fillmode": "overlay",
              "size": 10,
              "solidity": 0.2
             }
            },
            "type": "bar"
           }
          ],
          "barpolar": [
           {
            "marker": {
             "line": {
              "color": "#E5ECF6",
              "width": 0.5
             },
             "pattern": {
              "fillmode": "overlay",
              "size": 10,
              "solidity": 0.2
             }
            },
            "type": "barpolar"
           }
          ],
          "carpet": [
           {
            "aaxis": {
             "endlinecolor": "#2a3f5f",
             "gridcolor": "white",
             "linecolor": "white",
             "minorgridcolor": "white",
             "startlinecolor": "#2a3f5f"
            },
            "baxis": {
             "endlinecolor": "#2a3f5f",
             "gridcolor": "white",
             "linecolor": "white",
             "minorgridcolor": "white",
             "startlinecolor": "#2a3f5f"
            },
            "type": "carpet"
           }
          ],
          "choropleth": [
           {
            "colorbar": {
             "outlinewidth": 0,
             "ticks": ""
            },
            "type": "choropleth"
           }
          ],
          "contour": [
           {
            "colorbar": {
             "outlinewidth": 0,
             "ticks": ""
            },
            "colorscale": [
             [
              0,
              "#0d0887"
             ],
             [
              0.1111111111111111,
              "#46039f"
             ],
             [
              0.2222222222222222,
              "#7201a8"
             ],
             [
              0.3333333333333333,
              "#9c179e"
             ],
             [
              0.4444444444444444,
              "#bd3786"
             ],
             [
              0.5555555555555556,
              "#d8576b"
             ],
             [
              0.6666666666666666,
              "#ed7953"
             ],
             [
              0.7777777777777778,
              "#fb9f3a"
             ],
             [
              0.8888888888888888,
              "#fdca26"
             ],
             [
              1,
              "#f0f921"
             ]
            ],
            "type": "contour"
           }
          ],
          "contourcarpet": [
           {
            "colorbar": {
             "outlinewidth": 0,
             "ticks": ""
            },
            "type": "contourcarpet"
           }
          ],
          "heatmap": [
           {
            "colorbar": {
             "outlinewidth": 0,
             "ticks": ""
            },
            "colorscale": [
             [
              0,
              "#0d0887"
             ],
             [
              0.1111111111111111,
              "#46039f"
             ],
             [
              0.2222222222222222,
              "#7201a8"
             ],
             [
              0.3333333333333333,
              "#9c179e"
             ],
             [
              0.4444444444444444,
              "#bd3786"
             ],
             [
              0.5555555555555556,
              "#d8576b"
             ],
             [
              0.6666666666666666,
              "#ed7953"
             ],
             [
              0.7777777777777778,
              "#fb9f3a"
             ],
             [
              0.8888888888888888,
              "#fdca26"
             ],
             [
              1,
              "#f0f921"
             ]
            ],
            "type": "heatmap"
           }
          ],
          "heatmapgl": [
           {
            "colorbar": {
             "outlinewidth": 0,
             "ticks": ""
            },
            "colorscale": [
             [
              0,
              "#0d0887"
             ],
             [
              0.1111111111111111,
              "#46039f"
             ],
             [
              0.2222222222222222,
              "#7201a8"
             ],
             [
              0.3333333333333333,
              "#9c179e"
             ],
             [
              0.4444444444444444,
              "#bd3786"
             ],
             [
              0.5555555555555556,
              "#d8576b"
             ],
             [
              0.6666666666666666,
              "#ed7953"
             ],
             [
              0.7777777777777778,
              "#fb9f3a"
             ],
             [
              0.8888888888888888,
              "#fdca26"
             ],
             [
              1,
              "#f0f921"
             ]
            ],
            "type": "heatmapgl"
           }
          ],
          "histogram": [
           {
            "marker": {
             "pattern": {
              "fillmode": "overlay",
              "size": 10,
              "solidity": 0.2
             }
            },
            "type": "histogram"
           }
          ],
          "histogram2d": [
           {
            "colorbar": {
             "outlinewidth": 0,
             "ticks": ""
            },
            "colorscale": [
             [
              0,
              "#0d0887"
             ],
             [
              0.1111111111111111,
              "#46039f"
             ],
             [
              0.2222222222222222,
              "#7201a8"
             ],
             [
              0.3333333333333333,
              "#9c179e"
             ],
             [
              0.4444444444444444,
              "#bd3786"
             ],
             [
              0.5555555555555556,
              "#d8576b"
             ],
             [
              0.6666666666666666,
              "#ed7953"
             ],
             [
              0.7777777777777778,
              "#fb9f3a"
             ],
             [
              0.8888888888888888,
              "#fdca26"
             ],
             [
              1,
              "#f0f921"
             ]
            ],
            "type": "histogram2d"
           }
          ],
          "histogram2dcontour": [
           {
            "colorbar": {
             "outlinewidth": 0,
             "ticks": ""
            },
            "colorscale": [
             [
              0,
              "#0d0887"
             ],
             [
              0.1111111111111111,
              "#46039f"
             ],
             [
              0.2222222222222222,
              "#7201a8"
             ],
             [
              0.3333333333333333,
              "#9c179e"
             ],
             [
              0.4444444444444444,
              "#bd3786"
             ],
             [
              0.5555555555555556,
              "#d8576b"
             ],
             [
              0.6666666666666666,
              "#ed7953"
             ],
             [
              0.7777777777777778,
              "#fb9f3a"
             ],
             [
              0.8888888888888888,
              "#fdca26"
             ],
             [
              1,
              "#f0f921"
             ]
            ],
            "type": "histogram2dcontour"
           }
          ],
          "mesh3d": [
           {
            "colorbar": {
             "outlinewidth": 0,
             "ticks": ""
            },
            "type": "mesh3d"
           }
          ],
          "parcoords": [
           {
            "line": {
             "colorbar": {
              "outlinewidth": 0,
              "ticks": ""
             }
            },
            "type": "parcoords"
           }
          ],
          "pie": [
           {
            "automargin": true,
            "type": "pie"
           }
          ],
          "scatter": [
           {
            "marker": {
             "colorbar": {
              "outlinewidth": 0,
              "ticks": ""
             }
            },
            "type": "scatter"
           }
          ],
          "scatter3d": [
           {
            "line": {
             "colorbar": {
              "outlinewidth": 0,
              "ticks": ""
             }
            },
            "marker": {
             "colorbar": {
              "outlinewidth": 0,
              "ticks": ""
             }
            },
            "type": "scatter3d"
           }
          ],
          "scattercarpet": [
           {
            "marker": {
             "colorbar": {
              "outlinewidth": 0,
              "ticks": ""
             }
            },
            "type": "scattercarpet"
           }
          ],
          "scattergeo": [
           {
            "marker": {
             "colorbar": {
              "outlinewidth": 0,
              "ticks": ""
             }
            },
            "type": "scattergeo"
           }
          ],
          "scattergl": [
           {
            "marker": {
             "colorbar": {
              "outlinewidth": 0,
              "ticks": ""
             }
            },
            "type": "scattergl"
           }
          ],
          "scattermapbox": [
           {
            "marker": {
             "colorbar": {
              "outlinewidth": 0,
              "ticks": ""
             }
            },
            "type": "scattermapbox"
           }
          ],
          "scatterpolar": [
           {
            "marker": {
             "colorbar": {
              "outlinewidth": 0,
              "ticks": ""
             }
            },
            "type": "scatterpolar"
           }
          ],
          "scatterpolargl": [
           {
            "marker": {
             "colorbar": {
              "outlinewidth": 0,
              "ticks": ""
             }
            },
            "type": "scatterpolargl"
           }
          ],
          "scatterternary": [
           {
            "marker": {
             "colorbar": {
              "outlinewidth": 0,
              "ticks": ""
             }
            },
            "type": "scatterternary"
           }
          ],
          "surface": [
           {
            "colorbar": {
             "outlinewidth": 0,
             "ticks": ""
            },
            "colorscale": [
             [
              0,
              "#0d0887"
             ],
             [
              0.1111111111111111,
              "#46039f"
             ],
             [
              0.2222222222222222,
              "#7201a8"
             ],
             [
              0.3333333333333333,
              "#9c179e"
             ],
             [
              0.4444444444444444,
              "#bd3786"
             ],
             [
              0.5555555555555556,
              "#d8576b"
             ],
             [
              0.6666666666666666,
              "#ed7953"
             ],
             [
              0.7777777777777778,
              "#fb9f3a"
             ],
             [
              0.8888888888888888,
              "#fdca26"
             ],
             [
              1,
              "#f0f921"
             ]
            ],
            "type": "surface"
           }
          ],
          "table": [
           {
            "cells": {
             "fill": {
              "color": "#EBF0F8"
             },
             "line": {
              "color": "white"
             }
            },
            "header": {
             "fill": {
              "color": "#C8D4E3"
             },
             "line": {
              "color": "white"
             }
            },
            "type": "table"
           }
          ]
         },
         "layout": {
          "annotationdefaults": {
           "arrowcolor": "#2a3f5f",
           "arrowhead": 0,
           "arrowwidth": 1
          },
          "autotypenumbers": "strict",
          "coloraxis": {
           "colorbar": {
            "outlinewidth": 0,
            "ticks": ""
           }
          },
          "colorscale": {
           "diverging": [
            [
             0,
             "#8e0152"
            ],
            [
             0.1,
             "#c51b7d"
            ],
            [
             0.2,
             "#de77ae"
            ],
            [
             0.3,
             "#f1b6da"
            ],
            [
             0.4,
             "#fde0ef"
            ],
            [
             0.5,
             "#f7f7f7"
            ],
            [
             0.6,
             "#e6f5d0"
            ],
            [
             0.7,
             "#b8e186"
            ],
            [
             0.8,
             "#7fbc41"
            ],
            [
             0.9,
             "#4d9221"
            ],
            [
             1,
             "#276419"
            ]
           ],
           "sequential": [
            [
             0,
             "#0d0887"
            ],
            [
             0.1111111111111111,
             "#46039f"
            ],
            [
             0.2222222222222222,
             "#7201a8"
            ],
            [
             0.3333333333333333,
             "#9c179e"
            ],
            [
             0.4444444444444444,
             "#bd3786"
            ],
            [
             0.5555555555555556,
             "#d8576b"
            ],
            [
             0.6666666666666666,
             "#ed7953"
            ],
            [
             0.7777777777777778,
             "#fb9f3a"
            ],
            [
             0.8888888888888888,
             "#fdca26"
            ],
            [
             1,
             "#f0f921"
            ]
           ],
           "sequentialminus": [
            [
             0,
             "#0d0887"
            ],
            [
             0.1111111111111111,
             "#46039f"
            ],
            [
             0.2222222222222222,
             "#7201a8"
            ],
            [
             0.3333333333333333,
             "#9c179e"
            ],
            [
             0.4444444444444444,
             "#bd3786"
            ],
            [
             0.5555555555555556,
             "#d8576b"
            ],
            [
             0.6666666666666666,
             "#ed7953"
            ],
            [
             0.7777777777777778,
             "#fb9f3a"
            ],
            [
             0.8888888888888888,
             "#fdca26"
            ],
            [
             1,
             "#f0f921"
            ]
           ]
          },
          "colorway": [
           "#636efa",
           "#EF553B",
           "#00cc96",
           "#ab63fa",
           "#FFA15A",
           "#19d3f3",
           "#FF6692",
           "#B6E880",
           "#FF97FF",
           "#FECB52"
          ],
          "font": {
           "color": "#2a3f5f"
          },
          "geo": {
           "bgcolor": "white",
           "lakecolor": "white",
           "landcolor": "#E5ECF6",
           "showlakes": true,
           "showland": true,
           "subunitcolor": "white"
          },
          "hoverlabel": {
           "align": "left"
          },
          "hovermode": "closest",
          "mapbox": {
           "style": "light"
          },
          "paper_bgcolor": "white",
          "plot_bgcolor": "#E5ECF6",
          "polar": {
           "angularaxis": {
            "gridcolor": "white",
            "linecolor": "white",
            "ticks": ""
           },
           "bgcolor": "#E5ECF6",
           "radialaxis": {
            "gridcolor": "white",
            "linecolor": "white",
            "ticks": ""
           }
          },
          "scene": {
           "xaxis": {
            "backgroundcolor": "#E5ECF6",
            "gridcolor": "white",
            "gridwidth": 2,
            "linecolor": "white",
            "showbackground": true,
            "ticks": "",
            "zerolinecolor": "white"
           },
           "yaxis": {
            "backgroundcolor": "#E5ECF6",
            "gridcolor": "white",
            "gridwidth": 2,
            "linecolor": "white",
            "showbackground": true,
            "ticks": "",
            "zerolinecolor": "white"
           },
           "zaxis": {
            "backgroundcolor": "#E5ECF6",
            "gridcolor": "white",
            "gridwidth": 2,
            "linecolor": "white",
            "showbackground": true,
            "ticks": "",
            "zerolinecolor": "white"
           }
          },
          "shapedefaults": {
           "line": {
            "color": "#2a3f5f"
           }
          },
          "ternary": {
           "aaxis": {
            "gridcolor": "white",
            "linecolor": "white",
            "ticks": ""
           },
           "baxis": {
            "gridcolor": "white",
            "linecolor": "white",
            "ticks": ""
           },
           "bgcolor": "#E5ECF6",
           "caxis": {
            "gridcolor": "white",
            "linecolor": "white",
            "ticks": ""
           }
          },
          "title": {
           "x": 0.05
          },
          "xaxis": {
           "automargin": true,
           "gridcolor": "white",
           "linecolor": "white",
           "ticks": "",
           "title": {
            "standoff": 15
           },
           "zerolinecolor": "white",
           "zerolinewidth": 2
          },
          "yaxis": {
           "automargin": true,
           "gridcolor": "white",
           "linecolor": "white",
           "ticks": "",
           "title": {
            "standoff": 15
           },
           "zerolinecolor": "white",
           "zerolinewidth": 2
          }
         }
        },
        "title": {
         "text": "Incidence in region London"
        },
        "width": 800,
        "xaxis": {
         "anchor": "y",
         "domain": [
          0,
          0.45
         ],
         "linecolor": "black"
        },
        "xaxis2": {
         "anchor": "y2",
         "domain": [
          0.55,
          1
         ],
         "linecolor": "black"
        },
        "xaxis3": {
         "linecolor": "black"
        },
        "xaxis4": {
         "linecolor": "black"
        },
        "xaxis5": {
         "linecolor": "black"
        },
        "xaxis6": {
         "linecolor": "black"
        },
        "xaxis7": {
         "linecolor": "black"
        },
        "xaxis8": {
         "linecolor": "black"
        },
        "yaxis": {
         "anchor": "x",
         "domain": [
          0,
          1
         ],
         "linecolor": "black"
        },
        "yaxis2": {
         "anchor": "x2",
         "domain": [
          0,
          1
         ],
         "linecolor": "black"
        },
        "yaxis3": {
         "linecolor": "black"
        },
        "yaxis4": {
         "linecolor": "black"
        },
        "yaxis5": {
         "linecolor": "black"
        },
        "yaxis6": {
         "linecolor": "black"
        },
        "yaxis7": {
         "linecolor": "black"
        },
        "yaxis8": {
         "linecolor": "black"
        }
       }
      }
     },
     "metadata": {},
     "output_type": "display_data"
    }
   ],
   "source": [
    "# Trace names - represent the solver used for the simulation\n",
    "trace_name = ['my-solver with delta_t = {}'.format(ts) for ts in time_steps]\n",
    "trace_name.append('scipy-solver {}'.format(scipy_method))\n",
    "\n",
    "# Compartment list - type and age\n",
    "comparments = []\n",
    "for n in model.output_names():\n",
    "    comparments.append('{} in region {}'.format(n, regions[parameters.regional_parameters.region_index-1]))\n",
    "\n",
    "# Plot for each comparment\n",
    "for c, comparment in enumerate(comparments):\n",
    "    fig = go.Figure()\n",
    "    fig = make_subplots(rows=int(np.ceil(len(age_groups)/2)), cols=2, subplot_titles=tuple('ages {}'.format(a) for a in age_groups))\n",
    "    # Plot (line plot for each solver method for each age)\n",
    "    for a, age in enumerate(age_groups):\n",
    "        if a != 0:\n",
    "            for o, out in enumerate(outputs):\n",
    "                fig.add_trace(\n",
    "                    go.Scatter(\n",
    "                        y=out[:, c*len(age_groups)+a],\n",
    "                        x=parameters.regional_parameters.times,\n",
    "                        mode='lines',\n",
    "                        name=trace_name[o],\n",
    "                        line_color=colours[o],\n",
    "                        showlegend=False\n",
    "                    ),\n",
    "                    row= int(np.floor(a / 2)) + 1,\n",
    "                    col= a % 2 + 1\n",
    "                )\n",
    "        \n",
    "        else:\n",
    "            for o, out in enumerate(outputs):\n",
    "                fig.add_trace(\n",
    "                    go.Scatter(\n",
    "                        y=out[:, c*len(age_groups)+a],\n",
    "                        x=parameters.regional_parameters.times,\n",
    "                        mode='lines',\n",
    "                        name=trace_name[o],\n",
    "                        line_color=colours[o]\n",
    "                    ),\n",
    "                    row= int(np.floor(a / 2)) + 1,\n",
    "                    col= a % 2 + 1\n",
    "                )\n",
    "\n",
    "    # Add axis labels\n",
    "    fig.update_layout(\n",
    "        boxmode='group',\n",
    "        title=comparment, \n",
    "        width=800,\n",
    "        plot_bgcolor='white',\n",
    "        xaxis=dict(linecolor='black'),\n",
    "        yaxis=dict(linecolor='black'),\n",
    "        xaxis2=dict(linecolor='black'),\n",
    "        yaxis2=dict(linecolor='black'),\n",
    "        xaxis3=dict(linecolor='black'),\n",
    "        yaxis3=dict(linecolor='black'),\n",
    "        xaxis4=dict(linecolor='black'),\n",
    "        yaxis4=dict(linecolor='black'),\n",
    "        xaxis5=dict(linecolor='black'),\n",
    "        yaxis5=dict(linecolor='black'),\n",
    "        xaxis6=dict(linecolor='black'),\n",
    "        yaxis6=dict(linecolor='black'),\n",
    "        xaxis7=dict(linecolor='black'),\n",
    "        yaxis7=dict(linecolor='black'),\n",
    "        xaxis8=dict(linecolor='black'),\n",
    "        yaxis8=dict(linecolor='black'),\n",
    "        legend=dict(\n",
    "            orientation=\"h\",\n",
    "            yanchor=\"bottom\",\n",
    "            y=1.02,\n",
    "            xanchor=\"right\",\n",
    "            x=1\n",
    "        ))\n",
    "\n",
    "    fig.show()"
   ]
  },
  {
   "cell_type": "markdown",
   "metadata": {},
   "source": [
    "### Plot the first infectious comparment for one region (London) and one age group (0-10)"
   ]
  },
  {
   "cell_type": "code",
   "execution_count": 7,
   "metadata": {},
   "outputs": [
    {
     "data": {
      "application/vnd.plotly.v1+json": {
       "config": {
        "plotlyServerURL": "https://plot.ly"
       },
       "data": [
        {
         "line": {
          "color": "blue"
         },
         "mode": "lines",
         "name": "my-solver with delta_t = 0.5",
         "type": "scatter",
         "x": [
          1,
          1.5,
          2,
          2.5,
          3,
          3.5,
          4,
          4.5,
          5,
          5.5,
          6,
          6.5,
          7,
          7.5,
          8,
          8.5,
          9,
          9.5,
          10,
          10.5,
          11,
          11.5,
          12,
          12.5,
          13,
          13.5,
          14,
          14.5,
          15,
          15.5,
          16,
          16.5,
          17,
          17.5,
          18,
          18.5,
          19,
          19.5,
          20
         ],
         "y": [
          5,
          3.75,
          2.8125,
          2.109375,
          1.5851957245489765,
          1.1961014305019155,
          0.9080099061743293,
          0.7320418090325783,
          0.6509622963763809,
          0.6383368785268833,
          0.6682373859910291,
          0.7194186359393864,
          0.776446228989057,
          0.8292971893802517,
          0.8723280103481533,
          0.9031040073526239,
          0.9213359500365412,
          0.9280231420365668,
          0.9248206621579463,
          0.913607888743559,
          0.8962192661131142,
          0.8742957797831228,
          0.8492199756701492,
          0.8221044684421177,
          0.7938114032854381,
          0.7649870780102231,
          0.7361014161043289,
          0.7074861273906542,
          0.6793683315812125,
          0.6518983691087397,
          0.6251717177915632,
          0.5992455871577886,
          0.5741510517026436,
          0.5499016463965032,
          0.5264992812063435,
          0.5039382035650954,
          0.4822075914354956,
          0.4612932197319368,
          0.44117852186654927
         ]
        },
        {
         "line": {
          "color": "red"
         },
         "mode": "lines",
         "name": "my-solver with delta_t = 0.25",
         "type": "scatter",
         "x": [
          1,
          1.5,
          2,
          2.5,
          3,
          3.5,
          4,
          4.5,
          5,
          5.5,
          6,
          6.5,
          7,
          7.5,
          8,
          8.5,
          9,
          9.5,
          10,
          10.5,
          11,
          11.5,
          12,
          12.5,
          13,
          13.5,
          14,
          14.5,
          15,
          15.5,
          16,
          16.5,
          17,
          17.5,
          18,
          18.5,
          19,
          19.5,
          20
         ],
         "y": [
          5,
          3.828125,
          2.931360264377643,
          2.2474646490329206,
          1.7274637743924575,
          1.33281870670837,
          1.050762892868117,
          0.8738581677779543,
          0.7816988122360109,
          0.7508296611808347,
          0.7597410097912086,
          0.7909464252528051,
          0.8314308332601809,
          0.8722708726840888,
          0.9079076106133356,
          0.9353430045009925,
          0.9534000494731285,
          0.9621068960341045,
          0.9622195346794324,
          0.9548736081787187,
          0.9413451781197564,
          0.9228972961073152,
          0.9006904309579195,
          0.8757379488516034,
          0.8488916079729225,
          0.820845680864755,
          0.7921515007559856,
          0.7632368142812069,
          0.7344263129203356,
          0.7059611751425301,
          0.6780164728340053,
          0.6507159747657167,
          0.6241443036959229,
          0.5983566454624923,
          0.5733863262911558,
          0.5492506126102386,
          0.5259550778895931,
          0.5034968455972234,
          0.4818669709482764
         ]
        },
        {
         "line": {
          "color": "green"
         },
         "mode": "lines",
         "name": "my-solver with delta_t = 0.05",
         "type": "scatter",
         "x": [
          1,
          1.5,
          2,
          2.5,
          3,
          3.5,
          4,
          4.5,
          5,
          5.5,
          6,
          6.5,
          7,
          7.5,
          8,
          8.5,
          9,
          9.5,
          10,
          10.5,
          11,
          11.5,
          12,
          12.5,
          13,
          13.5,
          14,
          14.5,
          15,
          15.5,
          16,
          16.5,
          17,
          17.5,
          18,
          18.5,
          19,
          19.5,
          20
         ],
         "y": [
          5,
          3.8819363894999417,
          3.0160383504912067,
          2.3470861094598447,
          1.8311482510324633,
          1.4376797209598873,
          1.158200050246706,
          0.9785585797776266,
          0.8778878876455198,
          0.834696916654512,
          0.829902895191645,
          0.8480325104000678,
          0.8773907381699864,
          0.9097009816832451,
          0.9395225066953707,
          0.9636213619568711,
          0.9803879622939209,
          0.9893432351491206,
          0.9907450542677733,
          0.9852901932580255,
          0.9738991394532494,
          0.9575683887437343,
          0.9372750402942974,
          0.9139201856171346,
          0.8882998538721387,
          0.8610946197758913,
          0.8328711282753366,
          0.8040906184995349,
          0.7751210061227539,
          0.7462502260336236,
          0.7176993884801717,
          0.6896349127438728,
          0.6621792236064177,
          0.63541987300767,
          0.6094171208151941,
          0.5842101054827484,
          0.5598217815168075,
          0.5362628139914747,
          0.5135346137746275
         ]
        },
        {
         "line": {
          "color": "purple"
         },
         "mode": "lines",
         "name": "my-solver with delta_t = 0.001",
         "type": "scatter",
         "x": [
          1,
          1.5,
          2,
          2.5,
          3,
          3.5,
          4,
          4.5,
          5,
          5.5,
          6,
          6.5,
          7,
          7.5,
          8,
          8.5,
          9,
          9.5,
          10,
          10.5,
          11,
          11.5,
          12,
          12.5,
          13,
          13.5,
          14,
          14.5,
          15,
          15.5,
          16,
          16.5,
          17,
          17.5,
          18,
          18.5,
          19,
          19.5,
          20
         ],
         "y": [
          5,
          3.8942866125266957,
          3.0355945063076772,
          2.3701941463654466,
          1.8553166653317452,
          1.4625491637275472,
          1.1835547017580736,
          1.003149198818739,
          0.9004981858937775,
          0.8545472673081181,
          0.8467127927613393,
          0.8619305548980595,
          0.8887767609887466,
          0.9191132066270339,
          0.9475321814213572,
          0.9707604361048857,
          0.9871069494323412,
          0.9959929463157045,
          0.9975752160811742,
          0.9924586781525385,
          0.9814868104399345,
          0.9655959304636584,
          0.9457193762120667,
          0.9227290716813219,
          0.8974039750649857,
          0.8704170219902403,
          0.8423341355811919,
          0.8136205603993389,
          0.7846511524566293,
          0.7557223334579753,
          0.7270642288003253,
          0.6988520994255104,
          0.6712165919051217,
          0.6442526098073097,
          0.6180267872508058,
          0.5925836509532699,
          0.5679506122715904,
          0.5441419525688459,
          0.5211619660960406
         ]
        },
        {
         "line": {
          "color": "orange"
         },
         "mode": "lines",
         "name": "scipy-solver RK45",
         "type": "scatter",
         "x": [
          1,
          1.5,
          2,
          2.5,
          3,
          3.5,
          4,
          4.5,
          5,
          5.5,
          6,
          6.5,
          7,
          7.5,
          8,
          8.5,
          9,
          9.5,
          10,
          10.5,
          11,
          11.5,
          12,
          12.5,
          13,
          13.5,
          14,
          14.5,
          15,
          15.5,
          16,
          16.5,
          17,
          17.5,
          18,
          18.5,
          19,
          19.5,
          20
         ],
         "y": [
          5,
          3.894535532809148,
          3.0359823487454123,
          2.3706613389573983,
          1.8558060422028642,
          1.4624167151291503,
          1.1821876181313242,
          1.0001319955415777,
          0.8962530187981282,
          0.8488662283563979,
          0.8405300921734148,
          0.855092985760914,
          0.8816222609313987,
          0.9120985417636188,
          0.9407286198196493,
          0.9642617492322118,
          0.980945904110826,
          0.9902348887462588,
          0.9925233231910326,
          0.9881448019240953,
          0.9775147254403198,
          0.9618777018672555,
          0.9424920435367188,
          0.920173635417502,
          0.8953016036402902,
          0.8684853622661509,
          0.8405629552784636,
          0.8120670724276983,
          0.7833658331416835,
          0.7546627865256065,
          0.7261168155670455,
          0.6980324180560991,
          0.6705055603644923,
          0.6436150541810168,
          0.6174332244213877,
          0.5920259092282433,
          0.5674474495972984,
          0.5436991369755765,
          0.5207775337593399
         ]
        }
       ],
       "layout": {
        "boxmode": "group",
        "plot_bgcolor": "white",
        "template": {
         "data": {
          "bar": [
           {
            "error_x": {
             "color": "#2a3f5f"
            },
            "error_y": {
             "color": "#2a3f5f"
            },
            "marker": {
             "line": {
              "color": "#E5ECF6",
              "width": 0.5
             },
             "pattern": {
              "fillmode": "overlay",
              "size": 10,
              "solidity": 0.2
             }
            },
            "type": "bar"
           }
          ],
          "barpolar": [
           {
            "marker": {
             "line": {
              "color": "#E5ECF6",
              "width": 0.5
             },
             "pattern": {
              "fillmode": "overlay",
              "size": 10,
              "solidity": 0.2
             }
            },
            "type": "barpolar"
           }
          ],
          "carpet": [
           {
            "aaxis": {
             "endlinecolor": "#2a3f5f",
             "gridcolor": "white",
             "linecolor": "white",
             "minorgridcolor": "white",
             "startlinecolor": "#2a3f5f"
            },
            "baxis": {
             "endlinecolor": "#2a3f5f",
             "gridcolor": "white",
             "linecolor": "white",
             "minorgridcolor": "white",
             "startlinecolor": "#2a3f5f"
            },
            "type": "carpet"
           }
          ],
          "choropleth": [
           {
            "colorbar": {
             "outlinewidth": 0,
             "ticks": ""
            },
            "type": "choropleth"
           }
          ],
          "contour": [
           {
            "colorbar": {
             "outlinewidth": 0,
             "ticks": ""
            },
            "colorscale": [
             [
              0,
              "#0d0887"
             ],
             [
              0.1111111111111111,
              "#46039f"
             ],
             [
              0.2222222222222222,
              "#7201a8"
             ],
             [
              0.3333333333333333,
              "#9c179e"
             ],
             [
              0.4444444444444444,
              "#bd3786"
             ],
             [
              0.5555555555555556,
              "#d8576b"
             ],
             [
              0.6666666666666666,
              "#ed7953"
             ],
             [
              0.7777777777777778,
              "#fb9f3a"
             ],
             [
              0.8888888888888888,
              "#fdca26"
             ],
             [
              1,
              "#f0f921"
             ]
            ],
            "type": "contour"
           }
          ],
          "contourcarpet": [
           {
            "colorbar": {
             "outlinewidth": 0,
             "ticks": ""
            },
            "type": "contourcarpet"
           }
          ],
          "heatmap": [
           {
            "colorbar": {
             "outlinewidth": 0,
             "ticks": ""
            },
            "colorscale": [
             [
              0,
              "#0d0887"
             ],
             [
              0.1111111111111111,
              "#46039f"
             ],
             [
              0.2222222222222222,
              "#7201a8"
             ],
             [
              0.3333333333333333,
              "#9c179e"
             ],
             [
              0.4444444444444444,
              "#bd3786"
             ],
             [
              0.5555555555555556,
              "#d8576b"
             ],
             [
              0.6666666666666666,
              "#ed7953"
             ],
             [
              0.7777777777777778,
              "#fb9f3a"
             ],
             [
              0.8888888888888888,
              "#fdca26"
             ],
             [
              1,
              "#f0f921"
             ]
            ],
            "type": "heatmap"
           }
          ],
          "heatmapgl": [
           {
            "colorbar": {
             "outlinewidth": 0,
             "ticks": ""
            },
            "colorscale": [
             [
              0,
              "#0d0887"
             ],
             [
              0.1111111111111111,
              "#46039f"
             ],
             [
              0.2222222222222222,
              "#7201a8"
             ],
             [
              0.3333333333333333,
              "#9c179e"
             ],
             [
              0.4444444444444444,
              "#bd3786"
             ],
             [
              0.5555555555555556,
              "#d8576b"
             ],
             [
              0.6666666666666666,
              "#ed7953"
             ],
             [
              0.7777777777777778,
              "#fb9f3a"
             ],
             [
              0.8888888888888888,
              "#fdca26"
             ],
             [
              1,
              "#f0f921"
             ]
            ],
            "type": "heatmapgl"
           }
          ],
          "histogram": [
           {
            "marker": {
             "pattern": {
              "fillmode": "overlay",
              "size": 10,
              "solidity": 0.2
             }
            },
            "type": "histogram"
           }
          ],
          "histogram2d": [
           {
            "colorbar": {
             "outlinewidth": 0,
             "ticks": ""
            },
            "colorscale": [
             [
              0,
              "#0d0887"
             ],
             [
              0.1111111111111111,
              "#46039f"
             ],
             [
              0.2222222222222222,
              "#7201a8"
             ],
             [
              0.3333333333333333,
              "#9c179e"
             ],
             [
              0.4444444444444444,
              "#bd3786"
             ],
             [
              0.5555555555555556,
              "#d8576b"
             ],
             [
              0.6666666666666666,
              "#ed7953"
             ],
             [
              0.7777777777777778,
              "#fb9f3a"
             ],
             [
              0.8888888888888888,
              "#fdca26"
             ],
             [
              1,
              "#f0f921"
             ]
            ],
            "type": "histogram2d"
           }
          ],
          "histogram2dcontour": [
           {
            "colorbar": {
             "outlinewidth": 0,
             "ticks": ""
            },
            "colorscale": [
             [
              0,
              "#0d0887"
             ],
             [
              0.1111111111111111,
              "#46039f"
             ],
             [
              0.2222222222222222,
              "#7201a8"
             ],
             [
              0.3333333333333333,
              "#9c179e"
             ],
             [
              0.4444444444444444,
              "#bd3786"
             ],
             [
              0.5555555555555556,
              "#d8576b"
             ],
             [
              0.6666666666666666,
              "#ed7953"
             ],
             [
              0.7777777777777778,
              "#fb9f3a"
             ],
             [
              0.8888888888888888,
              "#fdca26"
             ],
             [
              1,
              "#f0f921"
             ]
            ],
            "type": "histogram2dcontour"
           }
          ],
          "mesh3d": [
           {
            "colorbar": {
             "outlinewidth": 0,
             "ticks": ""
            },
            "type": "mesh3d"
           }
          ],
          "parcoords": [
           {
            "line": {
             "colorbar": {
              "outlinewidth": 0,
              "ticks": ""
             }
            },
            "type": "parcoords"
           }
          ],
          "pie": [
           {
            "automargin": true,
            "type": "pie"
           }
          ],
          "scatter": [
           {
            "marker": {
             "colorbar": {
              "outlinewidth": 0,
              "ticks": ""
             }
            },
            "type": "scatter"
           }
          ],
          "scatter3d": [
           {
            "line": {
             "colorbar": {
              "outlinewidth": 0,
              "ticks": ""
             }
            },
            "marker": {
             "colorbar": {
              "outlinewidth": 0,
              "ticks": ""
             }
            },
            "type": "scatter3d"
           }
          ],
          "scattercarpet": [
           {
            "marker": {
             "colorbar": {
              "outlinewidth": 0,
              "ticks": ""
             }
            },
            "type": "scattercarpet"
           }
          ],
          "scattergeo": [
           {
            "marker": {
             "colorbar": {
              "outlinewidth": 0,
              "ticks": ""
             }
            },
            "type": "scattergeo"
           }
          ],
          "scattergl": [
           {
            "marker": {
             "colorbar": {
              "outlinewidth": 0,
              "ticks": ""
             }
            },
            "type": "scattergl"
           }
          ],
          "scattermapbox": [
           {
            "marker": {
             "colorbar": {
              "outlinewidth": 0,
              "ticks": ""
             }
            },
            "type": "scattermapbox"
           }
          ],
          "scatterpolar": [
           {
            "marker": {
             "colorbar": {
              "outlinewidth": 0,
              "ticks": ""
             }
            },
            "type": "scatterpolar"
           }
          ],
          "scatterpolargl": [
           {
            "marker": {
             "colorbar": {
              "outlinewidth": 0,
              "ticks": ""
             }
            },
            "type": "scatterpolargl"
           }
          ],
          "scatterternary": [
           {
            "marker": {
             "colorbar": {
              "outlinewidth": 0,
              "ticks": ""
             }
            },
            "type": "scatterternary"
           }
          ],
          "surface": [
           {
            "colorbar": {
             "outlinewidth": 0,
             "ticks": ""
            },
            "colorscale": [
             [
              0,
              "#0d0887"
             ],
             [
              0.1111111111111111,
              "#46039f"
             ],
             [
              0.2222222222222222,
              "#7201a8"
             ],
             [
              0.3333333333333333,
              "#9c179e"
             ],
             [
              0.4444444444444444,
              "#bd3786"
             ],
             [
              0.5555555555555556,
              "#d8576b"
             ],
             [
              0.6666666666666666,
              "#ed7953"
             ],
             [
              0.7777777777777778,
              "#fb9f3a"
             ],
             [
              0.8888888888888888,
              "#fdca26"
             ],
             [
              1,
              "#f0f921"
             ]
            ],
            "type": "surface"
           }
          ],
          "table": [
           {
            "cells": {
             "fill": {
              "color": "#EBF0F8"
             },
             "line": {
              "color": "white"
             }
            },
            "header": {
             "fill": {
              "color": "#C8D4E3"
             },
             "line": {
              "color": "white"
             }
            },
            "type": "table"
           }
          ]
         },
         "layout": {
          "annotationdefaults": {
           "arrowcolor": "#2a3f5f",
           "arrowhead": 0,
           "arrowwidth": 1
          },
          "autotypenumbers": "strict",
          "coloraxis": {
           "colorbar": {
            "outlinewidth": 0,
            "ticks": ""
           }
          },
          "colorscale": {
           "diverging": [
            [
             0,
             "#8e0152"
            ],
            [
             0.1,
             "#c51b7d"
            ],
            [
             0.2,
             "#de77ae"
            ],
            [
             0.3,
             "#f1b6da"
            ],
            [
             0.4,
             "#fde0ef"
            ],
            [
             0.5,
             "#f7f7f7"
            ],
            [
             0.6,
             "#e6f5d0"
            ],
            [
             0.7,
             "#b8e186"
            ],
            [
             0.8,
             "#7fbc41"
            ],
            [
             0.9,
             "#4d9221"
            ],
            [
             1,
             "#276419"
            ]
           ],
           "sequential": [
            [
             0,
             "#0d0887"
            ],
            [
             0.1111111111111111,
             "#46039f"
            ],
            [
             0.2222222222222222,
             "#7201a8"
            ],
            [
             0.3333333333333333,
             "#9c179e"
            ],
            [
             0.4444444444444444,
             "#bd3786"
            ],
            [
             0.5555555555555556,
             "#d8576b"
            ],
            [
             0.6666666666666666,
             "#ed7953"
            ],
            [
             0.7777777777777778,
             "#fb9f3a"
            ],
            [
             0.8888888888888888,
             "#fdca26"
            ],
            [
             1,
             "#f0f921"
            ]
           ],
           "sequentialminus": [
            [
             0,
             "#0d0887"
            ],
            [
             0.1111111111111111,
             "#46039f"
            ],
            [
             0.2222222222222222,
             "#7201a8"
            ],
            [
             0.3333333333333333,
             "#9c179e"
            ],
            [
             0.4444444444444444,
             "#bd3786"
            ],
            [
             0.5555555555555556,
             "#d8576b"
            ],
            [
             0.6666666666666666,
             "#ed7953"
            ],
            [
             0.7777777777777778,
             "#fb9f3a"
            ],
            [
             0.8888888888888888,
             "#fdca26"
            ],
            [
             1,
             "#f0f921"
            ]
           ]
          },
          "colorway": [
           "#636efa",
           "#EF553B",
           "#00cc96",
           "#ab63fa",
           "#FFA15A",
           "#19d3f3",
           "#FF6692",
           "#B6E880",
           "#FF97FF",
           "#FECB52"
          ],
          "font": {
           "color": "#2a3f5f"
          },
          "geo": {
           "bgcolor": "white",
           "lakecolor": "white",
           "landcolor": "#E5ECF6",
           "showlakes": true,
           "showland": true,
           "subunitcolor": "white"
          },
          "hoverlabel": {
           "align": "left"
          },
          "hovermode": "closest",
          "mapbox": {
           "style": "light"
          },
          "paper_bgcolor": "white",
          "plot_bgcolor": "#E5ECF6",
          "polar": {
           "angularaxis": {
            "gridcolor": "white",
            "linecolor": "white",
            "ticks": ""
           },
           "bgcolor": "#E5ECF6",
           "radialaxis": {
            "gridcolor": "white",
            "linecolor": "white",
            "ticks": ""
           }
          },
          "scene": {
           "xaxis": {
            "backgroundcolor": "#E5ECF6",
            "gridcolor": "white",
            "gridwidth": 2,
            "linecolor": "white",
            "showbackground": true,
            "ticks": "",
            "zerolinecolor": "white"
           },
           "yaxis": {
            "backgroundcolor": "#E5ECF6",
            "gridcolor": "white",
            "gridwidth": 2,
            "linecolor": "white",
            "showbackground": true,
            "ticks": "",
            "zerolinecolor": "white"
           },
           "zaxis": {
            "backgroundcolor": "#E5ECF6",
            "gridcolor": "white",
            "gridwidth": 2,
            "linecolor": "white",
            "showbackground": true,
            "ticks": "",
            "zerolinecolor": "white"
           }
          },
          "shapedefaults": {
           "line": {
            "color": "#2a3f5f"
           }
          },
          "ternary": {
           "aaxis": {
            "gridcolor": "white",
            "linecolor": "white",
            "ticks": ""
           },
           "baxis": {
            "gridcolor": "white",
            "linecolor": "white",
            "ticks": ""
           },
           "bgcolor": "#E5ECF6",
           "caxis": {
            "gridcolor": "white",
            "linecolor": "white",
            "ticks": ""
           }
          },
          "title": {
           "x": 0.05
          },
          "xaxis": {
           "automargin": true,
           "gridcolor": "white",
           "linecolor": "white",
           "ticks": "",
           "title": {
            "standoff": 15
           },
           "zerolinecolor": "white",
           "zerolinewidth": 2
          },
          "yaxis": {
           "automargin": true,
           "gridcolor": "white",
           "linecolor": "white",
           "ticks": "",
           "title": {
            "standoff": 15
           },
           "zerolinecolor": "white",
           "zerolinewidth": 2
          }
         }
        },
        "title": {
         "text": "I1 in region London for ages 0-10"
        },
        "xaxis": {
         "linecolor": "black"
        },
        "yaxis": {
         "linecolor": "black"
        }
       }
      }
     },
     "metadata": {},
     "output_type": "display_data"
    }
   ],
   "source": [
    "# Trace names - represent the solver used for the simulation\n",
    "trace_name = ['my-solver with delta_t = {}'.format(ts) for ts in time_steps]\n",
    "trace_name.append('scipy-solver {}'.format(scipy_method))\n",
    "\n",
    "# Compartment list - type and age\n",
    "fig = go.Figure()\n",
    "\n",
    "# Plot (line plot for each method of simulation)\n",
    "for o, out in enumerate(outputs):\n",
    "    fig.add_trace(\n",
    "        go.Scatter(\n",
    "            y=out[:, 3*len(age_groups)],\n",
    "            x=parameters.regional_parameters.times,\n",
    "            mode='lines',\n",
    "            name=trace_name[o],\n",
    "            line_color=colours[o]\n",
    "        )\n",
    "    )\n",
    "\n",
    "# Add axis labels\n",
    "fig.update_layout(\n",
    "    boxmode='group',\n",
    "    title='I1 in region {} for ages {}'. format(regions[0], age_groups[0]),\n",
    "    plot_bgcolor='white',\n",
    "    xaxis=dict(linecolor='black'),\n",
    "    yaxis=dict(linecolor='black'),\n",
    "    )\n",
    "\n",
    "fig.write_image('images/Toy.pdf')\n",
    "fig.show()\n"
   ]
  }
 ],
 "metadata": {
  "interpreter": {
   "hash": "df47f448575d07052416cc1eb7c128b6c1833d71679a831545035757d10d2b5f"
  },
  "kernelspec": {
   "display_name": "Python 3.12.0 64-bit ('epimodels': conda)",
   "name": "python3"
  },
  "language_info": {
   "codemirror_mode": {
    "name": "ipython",
    "version": 3
   },
   "file_extension": ".py",
   "mimetype": "text/x-python",
   "name": "python",
   "nbconvert_exporter": "python",
   "pygments_lexer": "ipython3",
   "version": "3.12.0"
  },
  "orig_nbformat": 4
 },
 "nbformat": 4,
 "nbformat_minor": 2
}

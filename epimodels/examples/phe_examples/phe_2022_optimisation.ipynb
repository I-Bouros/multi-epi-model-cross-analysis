{
 "cells": [
  {
   "cell_type": "markdown",
   "metadata": {},
   "source": [
    "# PHE SEIR Model"
   ]
  },
  {
   "cell_type": "code",
   "execution_count": 85,
   "metadata": {},
   "outputs": [],
   "source": [
    "# Load necessary libraries\n",
    "import os\n",
    "import numpy as np\n",
    "import pandas as pd\n",
    "from scipy.stats import gamma, nbinom, norm\n",
    "import epimodels as em\n",
    "import matplotlib\n",
    "import plotly.graph_objects as go\n",
    "import plotly.express as px\n",
    "from matplotlib import pyplot as plt\n",
    "from iteration_utilities import deepflatten"
   ]
  },
  {
   "cell_type": "markdown",
   "metadata": {},
   "source": [
    "### Define setup matrices for the PHE Model"
   ]
  },
  {
   "cell_type": "code",
   "execution_count": 86,
   "metadata": {},
   "outputs": [],
   "source": [
    "# Populate the model\n",
    "total_days =  132\n",
    "regions = ['London']\n",
    "age_groups = ['0-1', '1-5', '5-15', '15-25', '25-45', '45-65', '65-75', '75+']\n",
    "\n",
    "weeks = list(range(1,int(np.ceil(total_days/7))+1))\n",
    "matrices_region = []\n",
    "\n",
    "### Variable\n",
    "# Initial state of the system\n",
    "for w in weeks:\n",
    "    weeks_matrices_region = []\n",
    "    for r in regions:\n",
    "        path = os.path.join('../../data/final_contact_matrices/{}_W{}.csv'.format(r, w))\n",
    "        region_data_matrix = pd.read_csv(path, header=None, dtype=np.float64)\n",
    "        #region_data_matrix_var.iloc[:, 5] = region_data_matrix_var.iloc[:, 5] * 2\n",
    "        regional = em.RegionMatrix(r, age_groups, region_data_matrix)\n",
    "        weeks_matrices_region.append(regional)\n",
    "\n",
    "    matrices_region.append(weeks_matrices_region)\n",
    "\n",
    "contacts = em.ContactMatrix(age_groups, np.ones((len(age_groups), len(age_groups))))\n",
    "matrices_contact = [contacts]\n",
    "\n",
    "# Matrices contact\n",
    "time_changes_contact = [1]\n",
    "time_changes_region = np.arange(1, total_days+1, 7).tolist()\n",
    "\n",
    "### Fixed\n",
    "## Initial state of the system\n",
    "#weeks_matrices_region = []\n",
    "#for r in regions:\n",
    "#    path = os.path.join('../../data/final_contact_matrices/BASE.csv')\n",
    "#    region_data_matrix = pd.read_csv(path, header=None, dtype=np.float64)\n",
    "#    regional = em.RegionMatrix(r, age_groups, region_data_matrix)\n",
    "#    #region_data_matrix_fix.iloc[:, 5] = region_data_matrix_fix.iloc[:, 5] * 2\n",
    "#    weeks_matrices_region.append(regional)\n",
    "#\n",
    "#matrices_region.append(weeks_matrices_region)\n",
    "#\n",
    "#contacts = em.ContactMatrix(age_groups, np.ones((len(age_groups), len(age_groups))))\n",
    "#matrices_contact = [contacts]\n",
    "#\n",
    "## Matrices contact\n",
    "#time_changes_contact = [1]\n",
    "#time_changes_region = [1]"
   ]
  },
  {
   "cell_type": "markdown",
   "metadata": {},
   "source": [
    "### Set the parameters and initial conditions of the model and bundle everything together to simulate"
   ]
  },
  {
   "cell_type": "code",
   "execution_count": 87,
   "metadata": {},
   "outputs": [],
   "source": [
    "# Instantiate model\n",
    "model = em.PheSEIRModel()\n",
    "\n",
    "# Set the region names, contact and regional data of the model\n",
    "model.set_regions(regions)\n",
    "model.read_contact_data(matrices_contact, time_changes_contact)\n",
    "model.read_regional_data(matrices_region, time_changes_region)\n",
    "\n",
    "# Initial number of susceptibles\n",
    "susceptibles = [\n",
    "    #[68124, 299908, 773741, 668994, 1554740, 1632059, 660187, 578319],\n",
    "    [117840, 488164, 1140597, 1033029, 3050671, 2050173, 586472, 495043],\n",
    "    #[116401, 508081, 1321675, 1319046, 2689334, 2765974, 1106091, 943363],\n",
    "    #[85845, 374034, 978659, 1005275, 2036049, 2128261, 857595, 707190],\n",
    "    #[81258, 348379, 894662, 871907, 1864807, 1905072, 750263, 624848],\n",
    "    #[95825, 424854, 1141632, 1044242, 2257437, 2424929, 946459, 844757],\n",
    "    #[53565, 237359, 641486, 635602, 1304264, 1499291, 668999, 584130]\n",
    "    ]\n",
    "\n",
    "ICs_multiplier = 50\n",
    "infectives1 = (ICs_multiplier * np.ones((len(regions), len(age_groups)))).tolist()\n",
    "\n",
    "infectives2 = np.zeros((len(regions), len(age_groups))).tolist()\n",
    "\n",
    "dI = 4\n",
    "dL = 4\n",
    "\n",
    "# Initial R number by region\n",
    "#psis = gamma.rvs(31.36, scale=1/224, size=len(regions))\n",
    "psis = (31.36/224)*np.ones(len(regions))\n",
    "#initial_r = np.multiply(dI*psis, np.divide(np.square((dL/2)*psis+1), 1 - 1/np.square((dI/2)*psis+1)))\n",
    "\n",
    "initial_r = 2.50837101*np.ones(len(regions))\n",
    "\n",
    "# List of times at which we wish to evaluate the states of the compartments of the model\n",
    "times = np.arange(1, total_days+1, 1).tolist()"
   ]
  },
  {
   "cell_type": "markdown",
   "metadata": {},
   "source": [
    "## Read Death and Serology data"
   ]
  },
  {
   "cell_type": "code",
   "execution_count": 88,
   "metadata": {},
   "outputs": [],
   "source": [
    "# Read in death and positive data from external files\n",
    "deaths_data = []\n",
    "positives_data = []\n",
    "tests = []\n",
    "\n",
    "for region in regions:\n",
    "    deaths_data.append(np.loadtxt('../../data/death_data/{}_deaths.csv'.format(region), dtype=int, delimiter=','))\n",
    "    positives_data.append(np.loadtxt('../../data/serology_data/{}_positives_nhs.csv'.format(region), dtype=int, delimiter=','))\n",
    "    tests.append(np.loadtxt('../../data/serology_data/{}_tests_nhs.csv'.format(region), dtype=int, delimiter=','))"
   ]
  },
  {
   "cell_type": "code",
   "execution_count": 89,
   "metadata": {},
   "outputs": [],
   "source": [
    "# Select the time points for which the death and serology data is known\n",
    "deaths_times = np.arange(27, total_days+1, 1).tolist()\n",
    "serology_times = np.arange(80, total_days+1, 7).tolist()"
   ]
  },
  {
   "cell_type": "code",
   "execution_count": 90,
   "metadata": {},
   "outputs": [],
   "source": [
    "td_mean = 15.0\n",
    "td_var = 12.1**2\n",
    "theta = td_var / td_mean\n",
    "k = td_mean / theta\n",
    "time_to_death = gamma(k, scale=theta).pdf(np.arange(1, 31)).tolist()\n",
    "\n",
    "# Set information\n",
    "fatality_ratio = (1/100 * np.array([0.0016, 0.0016, 0.0043, 0.019, 0.08975, 0.815, 3.1, 6.05])).tolist()\n",
    "time_to_death.extend([0.0] * (len(times)-30))\n",
    "niu = float(gamma.rvs(1, scale=1/0.2, size=1))\n",
    "\n",
    "sens = 0.7\n",
    "spec = 0.95"
   ]
  },
  {
   "cell_type": "markdown",
   "metadata": {},
   "source": [
    "### Plot data vs predicted"
   ]
  },
  {
   "cell_type": "code",
   "execution_count": 94,
   "metadata": {},
   "outputs": [],
   "source": [
    "from plotly.subplots import make_subplots\n",
    "\n",
    "colours = ['blue', 'red', 'green', 'purple', 'orange', 'black', 'gray', 'pink']\n",
    "\n",
    "# Group outputs together\n",
    "outputs = [deaths_data, positives_data]\n",
    "\n",
    "# Number of regions\n",
    "n_reg = len(regions)"
   ]
  },
  {
   "cell_type": "markdown",
   "metadata": {},
   "source": [
    "### Optimisation"
   ]
  },
  {
   "cell_type": "code",
   "execution_count": 97,
   "metadata": {},
   "outputs": [
    {
     "name": "stdout",
     "output_type": "stream",
     "text": [
      "Maximising LogPDF\n",
      "Using Covariance Matrix Adaptation Evolution Strategy (CMA-ES)\n",
      "Running in sequential mode.\n",
      "Population size: 12\n",
      "Iter. Eval.  Best      Time m:s\n",
      "0     12     -7331.694   0:00.9\n",
      "1     24     -7128.026   0:01.8\n",
      "2     36     -6843.429   0:02.7\n",
      "3     48     -6549.628   0:03.5\n"
     ]
    },
    {
     "name": "stderr",
     "output_type": "stream",
     "text": [
      "/Users/ioaros/Desktop/DPhil Project/multi-epi-model-cross-analysis/epimodels/inference/phe_inference.py:316: RuntimeWarning:\n",
      "\n",
      "invalid value encountered in log\n",
      "\n",
      "/Users/ioaros/Desktop/DPhil Project/multi-epi-model-cross-analysis/epimodels/inference/phe_inference.py:317: RuntimeWarning:\n",
      "\n",
      "invalid value encountered in log\n",
      "\n"
     ]
    },
    {
     "name": "stdout",
     "output_type": "stream",
     "text": [
      "20    252    -3137.361   0:19.7\n",
      "40    492    -2873.73    0:40.2\n",
      "60    732    -2834.531   1:00.5\n",
      "80    972    -2800.871   1:20.4\n",
      "100   1212   -2787.822   1:39.9\n",
      "120   1452   -2785.568   1:59.3\n",
      "140   1692   -2784.171   2:18.2\n",
      "160   1932   -2781.706   2:36.9\n",
      "180   2172   -2779.521   2:55.8\n",
      "200   2412   -2776.054   3:14.4\n",
      "216   2592   -2774.865   3:28.0\n",
      "Halting: No significant change for 100 iterations.\n",
      "[3.27950868 0.51873771 0.3353944  0.34811127 0.42257361 0.48641589\n",
      " 0.47578484 0.48113902 0.45866777 0.47702134 0.49684737 0.50826516\n",
      " 0.52418758 0.57819172 0.15608379] -2774.8649144097703\n",
      "Optimisation phase is finished.\n"
     ]
    }
   ],
   "source": [
    "## Initialise optimisation for the model\n",
    "phe_inference = em.inference.PheSEIRInfer(model)\n",
    "\n",
    "# Add death and tests data to the optimisation structure\n",
    "phe_inference.read_deaths_data(deaths_data, deaths_times, time_to_death, fatality_ratio)\n",
    "phe_inference.read_serology_data(tests, positives_data, serology_times, sens, spec)\n",
    "\n",
    "# Run optimisation structure\n",
    "found, log_post_value = phe_inference.optimisation_problem_setup(times, wd=1, wp=0, ic_weight=ICs_multiplier)"
   ]
  },
  {
   "cell_type": "code",
   "execution_count": 98,
   "metadata": {},
   "outputs": [
    {
     "name": "stderr",
     "output_type": "stream",
     "text": [
      "<ipython-input-98-45cc017f8b29>:37: ComplexWarning:\n",
      "\n",
      "Casting complex values to real discards the imaginary part\n",
      "\n"
     ]
    }
   ],
   "source": [
    "n_parameters = model.n_parameters()\n",
    "\n",
    "predicted_new_infec = []\n",
    "predicted_deaths = []\n",
    "predicted_reprod_num = []\n",
    "\n",
    "# Run model and number of new infections for all regions\n",
    "for r, _ in enumerate(model.regions):\n",
    "    parameters[1] = r+1\n",
    "\n",
    "    parameters[0] = [found[0]] * len(model.regions)\n",
    "    # parameters[5] = [found[-1]] * model._num_ages\n",
    "    LEN = len(np.arange(44, len(times), 7))\n",
    "\n",
    "    betas = np.array(parameters[8])\n",
    "    for r in range(len(model.regions)):\n",
    "        for d, day in enumerate(np.arange(44, len(times), 7)):\n",
    "            betas[r, day:(day+7)] = found[r*LEN+d+1]\n",
    "\n",
    "    parameters[8] = betas.tolist()\n",
    "    \n",
    "    r_fix = np.empty(len(times))\n",
    "    model_reg_deaths_data = np.empty(len(times))\n",
    "\n",
    "    m_fix = em.MultiTimesInfectivity(\n",
    "        matrices_contact, time_changes_contact, regions, matrices_region, time_changes_region, parameters[0], dI, susceptibles)\n",
    "\n",
    "    # Run model and number of new infections for all age groups\n",
    "    model_output = model.simulate(\n",
    "        parameters=list(deepflatten(parameters, ignore=str)),\n",
    "        times=times\n",
    "    )\n",
    "    age_model_reg_new_infections = model.new_infections(model_output)\n",
    "    model_reg_new_infections = age_model_reg_new_infections.sum(axis=1)\n",
    "\n",
    "    for t, time in enumerate(times):\n",
    "        r_fix[t] = m_fix.compute_reproduction_number(r+1, time, model_output[t, :len(age_groups)], temp_variation=parameters[8][r][t])\n",
    "        model_reg_deaths_data[t] = np.sum(model.mean_deaths(fatality_ratio, time_to_death, t, age_model_reg_new_infections))\n",
    "    \n",
    "    predicted_new_infec.append(np.array(model_reg_new_infections))\n",
    "    predicted_deaths.append(model_reg_deaths_data)\n",
    "    predicted_reprod_num.append(r_fix)\n",
    "\n",
    "predicted_new_infec = np.array(predicted_new_infec)\n",
    "predicted_deaths = np.array(predicted_deaths)\n",
    "predicted_reprod_num = np.array(predicted_reprod_num)"
   ]
  },
  {
   "cell_type": "markdown",
   "metadata": {},
   "source": [
    "### Plot observed versus simulated model with optimised parameters"
   ]
  },
  {
   "cell_type": "code",
   "execution_count": 99,
   "metadata": {},
   "outputs": [],
   "source": [
    "# Set up traces to plot\n",
    "new_infec_pred = []\n",
    "deaths_pred = []\n",
    "reprod_num_pred = []\n",
    "\n",
    "for r, _ in enumerate(model.regions):\n",
    "    # Compute the prediction \n",
    "    new_infec_pred.append(predicted_new_infec[r,:])\n",
    "    deaths_pred.append(predicted_deaths[r,:])\n",
    "    reprod_num_pred.append(predicted_reprod_num[r,:])"
   ]
  },
  {
   "cell_type": "code",
   "execution_count": 100,
   "metadata": {},
   "outputs": [
    {
     "name": "stderr",
     "output_type": "stream",
     "text": [
      "<ipython-input-100-44083b33ee9e>:26: RuntimeWarning:\n",
      "\n",
      "invalid value encountered in true_divide\n",
      "\n"
     ]
    },
    {
     "data": {
      "application/vnd.plotly.v1+json": {
       "config": {
        "plotlyServerURL": "https://plot.ly"
       },
       "data": [
        {
         "line": {
          "color": "blue"
         },
         "mode": "lines",
         "name": "London",
         "type": "scatter",
         "x": [
          1,
          2,
          3,
          4,
          5,
          6,
          7,
          8,
          9,
          10,
          11,
          12,
          13,
          14,
          15,
          16,
          17,
          18,
          19,
          20,
          21,
          22,
          23,
          24,
          25,
          26,
          27,
          28,
          29,
          30,
          31,
          32,
          33,
          34,
          35,
          36,
          37,
          38,
          39,
          40,
          41,
          42,
          43,
          44,
          45,
          46,
          47,
          48,
          49,
          50,
          51,
          52,
          53,
          54,
          55,
          56,
          57,
          58,
          59,
          60,
          61,
          62,
          63,
          64,
          65,
          66,
          67,
          68,
          69,
          70,
          71,
          72,
          73,
          74,
          75,
          76,
          77,
          78,
          79,
          80,
          81,
          82,
          83,
          84,
          85,
          86,
          87,
          88,
          89,
          90,
          91,
          92,
          93,
          94,
          95,
          96,
          97,
          98,
          99,
          100,
          101,
          102,
          103,
          104,
          105,
          106,
          107,
          108,
          109,
          110,
          111,
          112,
          113,
          114,
          115,
          116,
          117,
          118,
          119,
          120,
          121,
          122,
          123,
          124,
          125,
          126,
          127,
          128,
          129,
          130,
          131,
          132
         ],
         "xaxis": "x",
         "y": [
          113.03533571499156,
          105.73867986701465,
          100.6475894862686,
          107.39217914965586,
          125.67231019289682,
          153.1814911590409,
          188.75124300145274,
          243.51651301070225,
          300.14076180427423,
          370.90790655515,
          459.27702206362306,
          569.5266764245106,
          706.2455849050905,
          875.8414361982293,
          1093.1970833378111,
          1355.7918054173306,
          1681.8122420437612,
          2086.7430061415657,
          2589.1094772316906,
          3213.5459543377174,
          3987.436457629873,
          4859.4532717668935,
          6010.083548547292,
          7424.470572106204,
          9155.189606059439,
          11280.33579793597,
          13886.97010692382,
          17073.213775559314,
          18450.770841122714,
          22522.98586731214,
          27208.143851154164,
          32508.328353531302,
          38572.15460432442,
          45498.9986265444,
          53410.16790672239,
          46588.91616055319,
          54246.80402916856,
          61963.19410165878,
          69197.46374756348,
          76021.80036769775,
          82555.6772698585,
          88925.0877417317,
          82040.16060999947,
          87334.01448660035,
          47908.091423278034,
          50165.98934620137,
          51207.630838161815,
          50754.06983130631,
          49168.6286576538,
          48441.92021565864,
          45726.34518016719,
          27880.802030572657,
          26178.581721104507,
          24314.173168284033,
          22322.97262755815,
          20284.09755359996,
          18011.782392989073,
          16162.306596769598,
          14994.925516076353,
          13378.279623049568,
          11931.260232280449,
          10641.294476464145,
          9494.443803421811,
          9025.102110011487,
          8055.932427529156,
          8738.944610061626,
          7823.268720895223,
          7034.639685449001,
          6362.791000053092,
          5785.682296874647,
          5147.082030167501,
          4711.229276111711,
          4966.219335001237,
          4552.683830827419,
          4185.241151178863,
          3860.2190664468326,
          3571.3864499992956,
          3522.1661544687154,
          3270.7698160249456,
          2977.37522864017,
          2775.3158086809613,
          2589.312360240218,
          2416.628195182865,
          2255.269733813676,
          2113.658093860566,
          1972.3938241396636,
          1861.25912365064,
          1736.7592724070278,
          1621.1311344959056,
          1513.5448768625329,
          1413.3991831228213,
          1450.3826804446526,
          1355.6167433311061,
          1210.0089206420007,
          1135.4594703513549,
          1066.3000052290092,
          1002.0324587725506,
          941.3644226801898,
          904.9451194724015,
          850.0390667072734,
          830.5482920576623,
          780.770617109886,
          735.0919045577646,
          693.1422983753738,
          654.4004713464675,
          626.2546881654229,
          591.9799284236096,
          583.2522513298827,
          552.2801942251518,
          523.7735286741994,
          497.4750809185846,
          472.98316068381394,
          433.02028603611024,
          412.24160386194274,
          401.35633076120337,
          381.6844265459136,
          362.89724827353393,
          345.0897274723172,
          327.95855176114725,
          335.59354253295453,
          319.1306287134062,
          313.52891117453714,
          299.3590081238152,
          286.7099467766218,
          275.2975545783339,
          264.76682694939416,
          268.0343042933315,
          258.2129287637211,
          274.87767047156944,
          265.83289866773896,
          258.0905829859676,
          251.63076522159616
         ],
         "yaxis": "y"
        },
        {
         "line": {
          "color": "blue"
         },
         "mode": "markers",
         "name": "London",
         "showlegend": false,
         "type": "scatter",
         "x": [
          80,
          87,
          94,
          101,
          108,
          115,
          122,
          129
         ],
         "xaxis": "x",
         "y": [
          34277.20224719101,
          37807.4654628501,
          14031.191833583483,
          6487.889240506329,
          0,
          0,
          14486.8610143571,
          10472.468777436545,
          25422.25833333333,
          7173.8125,
          2969.1290150600007,
          5686.130383533138,
          0,
          0,
          9226.603372163994,
          17415.186642305576,
          0,
          29015.110146428062,
          42431.09835214171,
          39503.99426372972,
          12350.439759036146,
          44767.46902042197,
          91530.60864503897,
          72760.38635516269,
          78239.2844705775,
          0,
          78429.45954317278,
          98949.92506869856,
          88019.72830973854,
          0,
          228657.47020018473,
          207248.23146771168,
          196942.9565404556,
          56432.443907508816,
          42712.35890468615,
          49947.73306638392,
          41840.26530612245,
          18299.344125375377,
          10449.397739804204,
          14686.401194652595,
          54369.947368421046,
          8754.483050847457,
          5656.990221164606,
          11019.996727099864,
          0,
          6480.664772727273,
          6191.62990530826,
          14890.701772056549,
          15738.355124832531,
          64307.851610145335,
          83842.10168635352,
          65667.94655858193,
          67960.52644916059
         ],
         "yaxis": "y"
        },
        {
         "line": {
          "color": "blue"
         },
         "mode": "lines",
         "name": "London",
         "showlegend": false,
         "type": "scatter",
         "x": [
          1,
          2,
          3,
          4,
          5,
          6,
          7,
          8,
          9,
          10,
          11,
          12,
          13,
          14,
          15,
          16,
          17,
          18,
          19,
          20,
          21,
          22,
          23,
          24,
          25,
          26,
          27,
          28,
          29,
          30,
          31,
          32,
          33,
          34,
          35,
          36,
          37,
          38,
          39,
          40,
          41,
          42,
          43,
          44,
          45,
          46,
          47,
          48,
          49,
          50,
          51,
          52,
          53,
          54,
          55,
          56,
          57,
          58,
          59,
          60,
          61,
          62,
          63,
          64,
          65,
          66,
          67,
          68,
          69,
          70,
          71,
          72,
          73,
          74,
          75,
          76,
          77,
          78,
          79,
          80,
          81,
          82,
          83,
          84,
          85,
          86,
          87,
          88,
          89,
          90,
          91,
          92,
          93,
          94,
          95,
          96,
          97,
          98,
          99,
          100,
          101,
          102,
          103,
          104,
          105,
          106,
          107,
          108,
          109,
          110,
          111,
          112,
          113,
          114,
          115,
          116,
          117,
          118,
          119,
          120,
          121,
          122,
          123,
          124,
          125,
          126,
          127,
          128,
          129,
          130,
          131,
          132
         ],
         "xaxis": "x2",
         "y": [
          0.014469883061049037,
          0.03244602466050881,
          0.051594425828226424,
          0.07198141396683509,
          0.0946084901475335,
          0.12074364154010711,
          0.15174862157786304,
          0.18997360540242272,
          0.23677974354969847,
          0.29437664614084497,
          0.3655614796779358,
          0.4538211197018069,
          0.5634009467977491,
          0.6995418671490518,
          0.8697938075905405,
          1.0817007707218456,
          1.3452287608645233,
          1.6728515234306778,
          2.080038586973623,
          2.5861472062416775,
          3.2150252454036594,
          3.986356329742625,
          4.9391418801921345,
          6.1164865468125615,
          7.569870428936106,
          9.362910229443695,
          11.57361810239369,
          14.296698744987909,
          17.370215135402887,
          21.04958461995089,
          25.468089352493983,
          30.755406472385513,
          37.04931607034116,
          44.50272351630666,
          53.290272582268344,
          61.554970721030955,
          70.58259855525807,
          80.64174506625261,
          91.79936997353293,
          104.051001616802,
          117.36865929249402,
          131.72611105515782,
          145.15512945450456,
          158.81744349985684,
          167.17867910754634,
          173.84227739567777,
          179.40980220165665,
          184.04969761339757,
          187.7848495821458,
          191.02468625878092,
          193.45066139166406,
          192.93038168538956,
          191.02320046130546,
          188.06979992896154,
          184.25541189786117,
          179.70350954284538,
          174.44110167317217,
          168.60765334304767,
          162.44499927755388,
          155.895933639213,
          149.016947256394,
          141.86299860096526,
          134.47851336102667,
          126.99013048835262,
          119.34801933920004,
          112.37218298739838,
          105.33931906899844,
          98.25342902824461,
          91.15346850924065,
          84.07618638055811,
          77.01121947584784,
          70.00634708595679,
          63.73969522814839,
          57.582898379063195,
          53.21008616181883,
          48.94090002881617,
          44.824848486796384,
          40.9687548306807,
          37.37039629016845,
          33.90585435456323,
          30.720458754172157,
          28.41200022087767,
          26.269745166717325,
          24.293046962777666,
          22.47596582007962,
          20.81559058979558,
          19.3266848568623,
          17.971206176999615,
          16.71485799483619,
          15.572054177814314,
          14.530502002193861,
          13.60886692559419,
          12.774923973024448,
          11.97932607745593,
          11.251322098901355,
          10.518910259091184,
          9.851669491256493,
          9.240993668985118,
          8.684909111330553,
          8.172943503704419,
          7.7156505320872935,
          7.291753209876847,
          6.870604798492056,
          6.480596750466336,
          6.118388457067824,
          5.778778802696925,
          5.460906995745449,
          5.151577560469916,
          4.864033458528524,
          4.598856751227167,
          4.350948255144706,
          4.118906764467213,
          3.896900057594472,
          3.687330615827553,
          3.492379124227075,
          3.3092499044426065,
          3.1362088056511164,
          2.973552276857667,
          2.8205251390565196,
          2.6816912681903187,
          2.5525974555369415,
          2.424724987114972,
          2.306075381119913,
          2.198292831991914,
          2.097470238817363,
          2.003034137375078,
          1.9176677755746914,
          1.838641183420026,
          1.7675971275174374,
          1.7028858078713642,
          1.641994113395015,
          1.5860107629015288
         ],
         "yaxis": "y2"
        },
        {
         "line": {
          "color": "blue"
         },
         "mode": "markers",
         "name": "London",
         "showlegend": false,
         "type": "scatter",
         "x": [
          27,
          28,
          29,
          30,
          31,
          32,
          33,
          34,
          35,
          36,
          37,
          38,
          39,
          40,
          41,
          42,
          43,
          44,
          45,
          46,
          47,
          48,
          49,
          50,
          51,
          52,
          53,
          54,
          55,
          56,
          57,
          58,
          59,
          60,
          61,
          62,
          63,
          64,
          65,
          66,
          67,
          68,
          69,
          70,
          71,
          72,
          73,
          74,
          75,
          76,
          77,
          78,
          79,
          80,
          81,
          82,
          83,
          84,
          85,
          86,
          87,
          88,
          89,
          90,
          91,
          92,
          93,
          94,
          95,
          96,
          97,
          98,
          99,
          100,
          101,
          102,
          103,
          104,
          105,
          106,
          107,
          108,
          109,
          110,
          111,
          112,
          113,
          114,
          115,
          116,
          117,
          118,
          119,
          120,
          121,
          122,
          123,
          124,
          125,
          126,
          127,
          128,
          129,
          130,
          131,
          132
         ],
         "xaxis": "x2",
         "y": [
          6,
          6,
          11,
          8,
          16,
          23,
          26,
          25,
          46,
          46,
          53,
          56,
          87,
          119,
          122,
          127,
          119,
          142,
          149,
          180,
          189,
          194,
          192,
          225,
          196,
          197,
          221,
          231,
          199,
          174,
          164,
          170,
          170,
          143,
          147,
          138,
          110,
          118,
          116,
          96,
          105,
          110,
          80,
          75,
          58,
          62,
          55,
          58,
          52,
          45,
          42,
          52,
          43,
          37,
          34,
          43,
          28,
          30,
          25,
          27,
          23,
          15,
          12,
          17,
          18,
          10,
          14,
          13,
          20,
          16,
          12,
          8,
          6,
          6,
          9,
          11,
          8,
          9,
          5,
          7,
          5,
          5,
          7,
          6,
          6,
          2,
          3,
          5,
          8,
          2,
          5,
          5,
          5,
          1,
          2,
          3,
          1,
          1,
          0,
          2,
          2,
          2,
          3,
          0,
          4,
          1,
          0,
          0,
          1,
          1,
          1,
          1,
          2,
          1,
          1,
          3,
          3,
          1,
          3,
          2,
          0,
          3,
          1,
          1,
          0,
          1,
          0,
          2,
          0,
          0,
          0,
          0,
          0,
          2,
          0,
          0,
          0,
          2,
          0,
          0,
          0,
          2,
          2,
          1,
          0,
          0,
          0,
          0,
          0,
          1,
          0,
          1,
          1,
          0,
          2,
          0,
          0,
          0,
          2,
          1,
          0,
          1,
          0,
          1,
          0,
          0,
          1,
          0,
          0,
          0,
          0,
          0,
          1,
          0,
          1,
          1,
          0,
          0,
          2,
          0,
          0,
          0,
          2,
          3,
          0,
          0,
          0,
          1,
          2,
          4,
          1,
          3,
          4,
          4,
          6,
          7,
          2,
          1,
          1,
          2,
          5,
          9,
          6,
          5,
          3,
          2,
          2,
          9,
          5,
          6,
          6,
          7,
          5,
          4,
          6,
          5,
          4,
          12,
          7,
          4,
          6,
          11,
          7,
          15,
          11,
          6,
          18,
          11,
          12,
          14,
          21,
          12,
          14,
          8,
          17,
          18,
          13,
          16,
          15,
          16,
          23,
          19,
          28,
          15,
          12,
          20,
          13,
          20,
          19,
          30,
          30,
          20,
          27,
          28,
          19,
          29,
          18,
          30,
          39,
          29,
          21,
          33,
          49,
          26,
          22,
          28,
          35,
          33,
          27,
          27,
          35,
          35,
          30,
          28,
          27,
          41,
          29,
          37,
          45,
          30,
          61,
          44,
          48,
          52,
          63,
          75,
          70,
          65,
          90,
          93,
          104,
          102,
          110,
          124,
          129,
          136,
          146,
          136,
          161,
          177,
          161,
          186,
          175,
          179,
          193,
          185,
          193,
          200,
          196,
          183,
          200,
          207,
          202,
          208,
          185,
          184,
          160,
          158,
          152,
          155,
          126,
          128,
          125,
          122,
          86,
          101,
          93,
          96,
          107,
          67,
          91,
          76,
          66,
          65,
          57,
          64,
          44,
          41,
          41,
          37,
          44,
          43,
          40,
          37,
          33,
          30,
          38,
          21,
          20,
          21,
          19,
          15,
          12,
          10,
          20,
          14,
          7,
          12,
          15,
          13,
          9,
          7,
          9,
          10,
          7,
          1,
          9,
          4,
          7,
          5,
          7,
          2,
          3,
          2,
          3,
          6,
          2,
          5,
          1,
          2,
          7,
          2,
          3,
          2,
          2,
          3,
          1,
          4,
          1,
          1,
          1,
          2,
          2,
          1,
          3,
          3,
          0,
          2,
          0,
          2,
          2,
          1,
          2,
          3,
          2,
          1,
          0,
          1,
          1,
          2,
          0,
          3,
          5,
          0,
          2,
          1,
          1,
          1,
          1,
          3,
          0,
          3,
          0,
          0,
          2,
          1,
          0,
          0,
          0,
          2,
          1,
          0,
          0,
          0,
          2,
          0,
          0,
          2,
          1,
          1,
          3,
          1,
          0,
          1,
          2,
          0,
          0,
          1,
          1,
          2,
          1,
          2,
          0,
          2,
          2,
          0,
          0,
          5,
          1,
          0,
          1,
          2,
          2,
          4,
          2,
          1,
          2,
          0,
          0,
          3,
          4
         ],
         "yaxis": "y2"
        },
        {
         "line": {
          "color": "blue"
         },
         "mode": "lines",
         "name": "London",
         "showlegend": false,
         "type": "scatter",
         "x": [
          1,
          2,
          3,
          4,
          5,
          6,
          7,
          8,
          9,
          10,
          11,
          12,
          13,
          14,
          15,
          16,
          17,
          18,
          19,
          20,
          21,
          22,
          23,
          24,
          25,
          26,
          27,
          28,
          29,
          30,
          31,
          32,
          33,
          34,
          35,
          36,
          37,
          38,
          39,
          40,
          41,
          42,
          43,
          44,
          45,
          46,
          47,
          48,
          49,
          50,
          51,
          52,
          53,
          54,
          55,
          56,
          57,
          58,
          59,
          60,
          61,
          62,
          63,
          64,
          65,
          66,
          67,
          68,
          69,
          70,
          71,
          72,
          73,
          74,
          75,
          76,
          77,
          78,
          79,
          80,
          81,
          82,
          83,
          84,
          85,
          86,
          87,
          88,
          89,
          90,
          91,
          92,
          93,
          94,
          95,
          96,
          97,
          98,
          99,
          100,
          101,
          102,
          103,
          104,
          105,
          106,
          107,
          108,
          109,
          110,
          111,
          112,
          113,
          114,
          115,
          116,
          117,
          118,
          119,
          120,
          121,
          122,
          123,
          124,
          125,
          126,
          127,
          128,
          129,
          130,
          131,
          132
         ],
         "xaxis": "x3",
         "y": [
          3.279508684879025,
          3.2794162888661242,
          3.279330171950753,
          3.2792430265038743,
          3.279144415513783,
          3.2790254512050216,
          3.2788789175433384,
          3.4495193464344154,
          3.4492715980226176,
          3.4489660666856077,
          3.4485876810250833,
          3.4481188018249442,
          3.4475369957381283,
          3.446815213700648,
          3.4670417897537265,
          3.4659207032871477,
          3.464527095983663,
          3.4627986924480627,
          3.460654099600228,
          3.4579892931853813,
          3.454692310603052,
          3.3935786651503057,
          3.388683162573803,
          3.3826346747626537,
          3.375166682124347,
          3.3659844939660295,
          3.3546932120044,
          3.3406917007655066,
          2.9156057927094836,
          2.8993628188554186,
          2.880162353916803,
          2.8570545178033,
          2.829638189879928,
          2.797211310951061,
          2.759114819229946,
          2.039747260313719,
          2.008782658614728,
          1.9756306842487357,
          1.9382393386739056,
          1.896906864443931,
          1.8518167170407314,
          1.8031341752096428,
          1.524461304425879,
          1.482109696685608,
          0.7453626041227105,
          0.7309170743563551,
          0.7178311411061012,
          0.704684719686877,
          0.6918435176118649,
          0.6978767354017221,
          0.685364845287483,
          0.43616758098393604,
          0.4315694413661812,
          0.4273182060308527,
          0.42339867081303845,
          0.41982039063202004,
          0.4110527129111815,
          0.4082127970684627,
          0.42099960564077354,
          0.41855389382393166,
          0.41637919611344365,
          0.4144404379951418,
          0.4127215761825448,
          0.4365898426037512,
          0.4350497837758348,
          0.5264439613515123,
          0.5246875779468732,
          0.5230605160505737,
          0.5215940111306817,
          0.5202647362928333,
          0.5080651346423966,
          0.5070019056301599,
          0.5824727599971707,
          0.5812942970267703,
          0.5802135229009233,
          0.5792174610259133,
          0.5783000232915405,
          0.6097912883790888,
          0.6089163269147119,
          0.5948170986575172,
          0.5940914676403978,
          0.5934147671086331,
          0.5927835788736527,
          0.5921949200901341,
          0.5956931727867592,
          0.5951749366089986,
          0.6013799079272448,
          0.6009176094479619,
          0.6004862057540107,
          0.6000833735903334,
          0.5997094687499752,
          0.6530915868839677,
          0.6527125182424609,
          0.6218830478122503,
          0.6215750658790362,
          0.6212853430242753,
          0.6210135418348476,
          0.6207586007192463,
          0.6333653600311361,
          0.6331328904204933,
          0.658234347095775,
          0.6580110744805915,
          0.657801007253869,
          0.6576031648845965,
          0.6574167687593988,
          0.6698661795192877,
          0.6696935442187624,
          0.6973545039638409,
          0.697186313689028,
          0.6970269536441362,
          0.6968757241932345,
          0.6967319780203808,
          0.6735571752010588,
          0.6734329791053623,
          0.6887892038394157,
          0.6886737404819511,
          0.6885639284227275,
          0.6884595524979664,
          0.6883607790197054,
          0.7371391222540136,
          0.7370377575663299,
          0.7600251569841778,
          0.7599258183171288,
          0.7598310256680086,
          0.7597401029508312,
          0.7596531289371417,
          0.7954382661895515,
          0.7953496851047668,
          0.8771959125945995,
          0.8770965387411089,
          0.876999291036678,
          0.8769046921117797
         ],
         "yaxis": "y3"
        }
       ],
       "layout": {
        "annotations": [
         {
          "font": {
           "size": 16
          },
          "showarrow": false,
          "text": "Infections",
          "x": 0.5,
          "xanchor": "center",
          "xref": "paper",
          "y": 1,
          "yanchor": "bottom",
          "yref": "paper"
         },
         {
          "font": {
           "size": 16
          },
          "showarrow": false,
          "text": "Deaths",
          "x": 0.5,
          "xanchor": "center",
          "xref": "paper",
          "y": 0.6111111111111112,
          "yanchor": "bottom",
          "yref": "paper"
         },
         {
          "font": {
           "size": 16
          },
          "showarrow": false,
          "text": "Reproduction Number",
          "x": 0.5,
          "xanchor": "center",
          "xref": "paper",
          "y": 0.22222222222222224,
          "yanchor": "bottom",
          "yref": "paper"
         }
        ],
        "height": 900,
        "legend": {
         "orientation": "h",
         "x": 1,
         "xanchor": "right",
         "y": 1.075,
         "yanchor": "bottom"
        },
        "plot_bgcolor": "white",
        "template": {
         "data": {
          "bar": [
           {
            "error_x": {
             "color": "#2a3f5f"
            },
            "error_y": {
             "color": "#2a3f5f"
            },
            "marker": {
             "line": {
              "color": "#E5ECF6",
              "width": 0.5
             },
             "pattern": {
              "fillmode": "overlay",
              "size": 10,
              "solidity": 0.2
             }
            },
            "type": "bar"
           }
          ],
          "barpolar": [
           {
            "marker": {
             "line": {
              "color": "#E5ECF6",
              "width": 0.5
             },
             "pattern": {
              "fillmode": "overlay",
              "size": 10,
              "solidity": 0.2
             }
            },
            "type": "barpolar"
           }
          ],
          "carpet": [
           {
            "aaxis": {
             "endlinecolor": "#2a3f5f",
             "gridcolor": "white",
             "linecolor": "white",
             "minorgridcolor": "white",
             "startlinecolor": "#2a3f5f"
            },
            "baxis": {
             "endlinecolor": "#2a3f5f",
             "gridcolor": "white",
             "linecolor": "white",
             "minorgridcolor": "white",
             "startlinecolor": "#2a3f5f"
            },
            "type": "carpet"
           }
          ],
          "choropleth": [
           {
            "colorbar": {
             "outlinewidth": 0,
             "ticks": ""
            },
            "type": "choropleth"
           }
          ],
          "contour": [
           {
            "colorbar": {
             "outlinewidth": 0,
             "ticks": ""
            },
            "colorscale": [
             [
              0,
              "#0d0887"
             ],
             [
              0.1111111111111111,
              "#46039f"
             ],
             [
              0.2222222222222222,
              "#7201a8"
             ],
             [
              0.3333333333333333,
              "#9c179e"
             ],
             [
              0.4444444444444444,
              "#bd3786"
             ],
             [
              0.5555555555555556,
              "#d8576b"
             ],
             [
              0.6666666666666666,
              "#ed7953"
             ],
             [
              0.7777777777777778,
              "#fb9f3a"
             ],
             [
              0.8888888888888888,
              "#fdca26"
             ],
             [
              1,
              "#f0f921"
             ]
            ],
            "type": "contour"
           }
          ],
          "contourcarpet": [
           {
            "colorbar": {
             "outlinewidth": 0,
             "ticks": ""
            },
            "type": "contourcarpet"
           }
          ],
          "heatmap": [
           {
            "colorbar": {
             "outlinewidth": 0,
             "ticks": ""
            },
            "colorscale": [
             [
              0,
              "#0d0887"
             ],
             [
              0.1111111111111111,
              "#46039f"
             ],
             [
              0.2222222222222222,
              "#7201a8"
             ],
             [
              0.3333333333333333,
              "#9c179e"
             ],
             [
              0.4444444444444444,
              "#bd3786"
             ],
             [
              0.5555555555555556,
              "#d8576b"
             ],
             [
              0.6666666666666666,
              "#ed7953"
             ],
             [
              0.7777777777777778,
              "#fb9f3a"
             ],
             [
              0.8888888888888888,
              "#fdca26"
             ],
             [
              1,
              "#f0f921"
             ]
            ],
            "type": "heatmap"
           }
          ],
          "heatmapgl": [
           {
            "colorbar": {
             "outlinewidth": 0,
             "ticks": ""
            },
            "colorscale": [
             [
              0,
              "#0d0887"
             ],
             [
              0.1111111111111111,
              "#46039f"
             ],
             [
              0.2222222222222222,
              "#7201a8"
             ],
             [
              0.3333333333333333,
              "#9c179e"
             ],
             [
              0.4444444444444444,
              "#bd3786"
             ],
             [
              0.5555555555555556,
              "#d8576b"
             ],
             [
              0.6666666666666666,
              "#ed7953"
             ],
             [
              0.7777777777777778,
              "#fb9f3a"
             ],
             [
              0.8888888888888888,
              "#fdca26"
             ],
             [
              1,
              "#f0f921"
             ]
            ],
            "type": "heatmapgl"
           }
          ],
          "histogram": [
           {
            "marker": {
             "pattern": {
              "fillmode": "overlay",
              "size": 10,
              "solidity": 0.2
             }
            },
            "type": "histogram"
           }
          ],
          "histogram2d": [
           {
            "colorbar": {
             "outlinewidth": 0,
             "ticks": ""
            },
            "colorscale": [
             [
              0,
              "#0d0887"
             ],
             [
              0.1111111111111111,
              "#46039f"
             ],
             [
              0.2222222222222222,
              "#7201a8"
             ],
             [
              0.3333333333333333,
              "#9c179e"
             ],
             [
              0.4444444444444444,
              "#bd3786"
             ],
             [
              0.5555555555555556,
              "#d8576b"
             ],
             [
              0.6666666666666666,
              "#ed7953"
             ],
             [
              0.7777777777777778,
              "#fb9f3a"
             ],
             [
              0.8888888888888888,
              "#fdca26"
             ],
             [
              1,
              "#f0f921"
             ]
            ],
            "type": "histogram2d"
           }
          ],
          "histogram2dcontour": [
           {
            "colorbar": {
             "outlinewidth": 0,
             "ticks": ""
            },
            "colorscale": [
             [
              0,
              "#0d0887"
             ],
             [
              0.1111111111111111,
              "#46039f"
             ],
             [
              0.2222222222222222,
              "#7201a8"
             ],
             [
              0.3333333333333333,
              "#9c179e"
             ],
             [
              0.4444444444444444,
              "#bd3786"
             ],
             [
              0.5555555555555556,
              "#d8576b"
             ],
             [
              0.6666666666666666,
              "#ed7953"
             ],
             [
              0.7777777777777778,
              "#fb9f3a"
             ],
             [
              0.8888888888888888,
              "#fdca26"
             ],
             [
              1,
              "#f0f921"
             ]
            ],
            "type": "histogram2dcontour"
           }
          ],
          "mesh3d": [
           {
            "colorbar": {
             "outlinewidth": 0,
             "ticks": ""
            },
            "type": "mesh3d"
           }
          ],
          "parcoords": [
           {
            "line": {
             "colorbar": {
              "outlinewidth": 0,
              "ticks": ""
             }
            },
            "type": "parcoords"
           }
          ],
          "pie": [
           {
            "automargin": true,
            "type": "pie"
           }
          ],
          "scatter": [
           {
            "marker": {
             "colorbar": {
              "outlinewidth": 0,
              "ticks": ""
             }
            },
            "type": "scatter"
           }
          ],
          "scatter3d": [
           {
            "line": {
             "colorbar": {
              "outlinewidth": 0,
              "ticks": ""
             }
            },
            "marker": {
             "colorbar": {
              "outlinewidth": 0,
              "ticks": ""
             }
            },
            "type": "scatter3d"
           }
          ],
          "scattercarpet": [
           {
            "marker": {
             "colorbar": {
              "outlinewidth": 0,
              "ticks": ""
             }
            },
            "type": "scattercarpet"
           }
          ],
          "scattergeo": [
           {
            "marker": {
             "colorbar": {
              "outlinewidth": 0,
              "ticks": ""
             }
            },
            "type": "scattergeo"
           }
          ],
          "scattergl": [
           {
            "marker": {
             "colorbar": {
              "outlinewidth": 0,
              "ticks": ""
             }
            },
            "type": "scattergl"
           }
          ],
          "scattermapbox": [
           {
            "marker": {
             "colorbar": {
              "outlinewidth": 0,
              "ticks": ""
             }
            },
            "type": "scattermapbox"
           }
          ],
          "scatterpolar": [
           {
            "marker": {
             "colorbar": {
              "outlinewidth": 0,
              "ticks": ""
             }
            },
            "type": "scatterpolar"
           }
          ],
          "scatterpolargl": [
           {
            "marker": {
             "colorbar": {
              "outlinewidth": 0,
              "ticks": ""
             }
            },
            "type": "scatterpolargl"
           }
          ],
          "scatterternary": [
           {
            "marker": {
             "colorbar": {
              "outlinewidth": 0,
              "ticks": ""
             }
            },
            "type": "scatterternary"
           }
          ],
          "surface": [
           {
            "colorbar": {
             "outlinewidth": 0,
             "ticks": ""
            },
            "colorscale": [
             [
              0,
              "#0d0887"
             ],
             [
              0.1111111111111111,
              "#46039f"
             ],
             [
              0.2222222222222222,
              "#7201a8"
             ],
             [
              0.3333333333333333,
              "#9c179e"
             ],
             [
              0.4444444444444444,
              "#bd3786"
             ],
             [
              0.5555555555555556,
              "#d8576b"
             ],
             [
              0.6666666666666666,
              "#ed7953"
             ],
             [
              0.7777777777777778,
              "#fb9f3a"
             ],
             [
              0.8888888888888888,
              "#fdca26"
             ],
             [
              1,
              "#f0f921"
             ]
            ],
            "type": "surface"
           }
          ],
          "table": [
           {
            "cells": {
             "fill": {
              "color": "#EBF0F8"
             },
             "line": {
              "color": "white"
             }
            },
            "header": {
             "fill": {
              "color": "#C8D4E3"
             },
             "line": {
              "color": "white"
             }
            },
            "type": "table"
           }
          ]
         },
         "layout": {
          "annotationdefaults": {
           "arrowcolor": "#2a3f5f",
           "arrowhead": 0,
           "arrowwidth": 1
          },
          "autotypenumbers": "strict",
          "coloraxis": {
           "colorbar": {
            "outlinewidth": 0,
            "ticks": ""
           }
          },
          "colorscale": {
           "diverging": [
            [
             0,
             "#8e0152"
            ],
            [
             0.1,
             "#c51b7d"
            ],
            [
             0.2,
             "#de77ae"
            ],
            [
             0.3,
             "#f1b6da"
            ],
            [
             0.4,
             "#fde0ef"
            ],
            [
             0.5,
             "#f7f7f7"
            ],
            [
             0.6,
             "#e6f5d0"
            ],
            [
             0.7,
             "#b8e186"
            ],
            [
             0.8,
             "#7fbc41"
            ],
            [
             0.9,
             "#4d9221"
            ],
            [
             1,
             "#276419"
            ]
           ],
           "sequential": [
            [
             0,
             "#0d0887"
            ],
            [
             0.1111111111111111,
             "#46039f"
            ],
            [
             0.2222222222222222,
             "#7201a8"
            ],
            [
             0.3333333333333333,
             "#9c179e"
            ],
            [
             0.4444444444444444,
             "#bd3786"
            ],
            [
             0.5555555555555556,
             "#d8576b"
            ],
            [
             0.6666666666666666,
             "#ed7953"
            ],
            [
             0.7777777777777778,
             "#fb9f3a"
            ],
            [
             0.8888888888888888,
             "#fdca26"
            ],
            [
             1,
             "#f0f921"
            ]
           ],
           "sequentialminus": [
            [
             0,
             "#0d0887"
            ],
            [
             0.1111111111111111,
             "#46039f"
            ],
            [
             0.2222222222222222,
             "#7201a8"
            ],
            [
             0.3333333333333333,
             "#9c179e"
            ],
            [
             0.4444444444444444,
             "#bd3786"
            ],
            [
             0.5555555555555556,
             "#d8576b"
            ],
            [
             0.6666666666666666,
             "#ed7953"
            ],
            [
             0.7777777777777778,
             "#fb9f3a"
            ],
            [
             0.8888888888888888,
             "#fdca26"
            ],
            [
             1,
             "#f0f921"
            ]
           ]
          },
          "colorway": [
           "#636efa",
           "#EF553B",
           "#00cc96",
           "#ab63fa",
           "#FFA15A",
           "#19d3f3",
           "#FF6692",
           "#B6E880",
           "#FF97FF",
           "#FECB52"
          ],
          "font": {
           "color": "#2a3f5f"
          },
          "geo": {
           "bgcolor": "white",
           "lakecolor": "white",
           "landcolor": "#E5ECF6",
           "showlakes": true,
           "showland": true,
           "subunitcolor": "white"
          },
          "hoverlabel": {
           "align": "left"
          },
          "hovermode": "closest",
          "mapbox": {
           "style": "light"
          },
          "paper_bgcolor": "white",
          "plot_bgcolor": "#E5ECF6",
          "polar": {
           "angularaxis": {
            "gridcolor": "white",
            "linecolor": "white",
            "ticks": ""
           },
           "bgcolor": "#E5ECF6",
           "radialaxis": {
            "gridcolor": "white",
            "linecolor": "white",
            "ticks": ""
           }
          },
          "scene": {
           "xaxis": {
            "backgroundcolor": "#E5ECF6",
            "gridcolor": "white",
            "gridwidth": 2,
            "linecolor": "white",
            "showbackground": true,
            "ticks": "",
            "zerolinecolor": "white"
           },
           "yaxis": {
            "backgroundcolor": "#E5ECF6",
            "gridcolor": "white",
            "gridwidth": 2,
            "linecolor": "white",
            "showbackground": true,
            "ticks": "",
            "zerolinecolor": "white"
           },
           "zaxis": {
            "backgroundcolor": "#E5ECF6",
            "gridcolor": "white",
            "gridwidth": 2,
            "linecolor": "white",
            "showbackground": true,
            "ticks": "",
            "zerolinecolor": "white"
           }
          },
          "shapedefaults": {
           "line": {
            "color": "#2a3f5f"
           }
          },
          "ternary": {
           "aaxis": {
            "gridcolor": "white",
            "linecolor": "white",
            "ticks": ""
           },
           "baxis": {
            "gridcolor": "white",
            "linecolor": "white",
            "ticks": ""
           },
           "bgcolor": "#E5ECF6",
           "caxis": {
            "gridcolor": "white",
            "linecolor": "white",
            "ticks": ""
           }
          },
          "title": {
           "x": 0.05
          },
          "xaxis": {
           "automargin": true,
           "gridcolor": "white",
           "linecolor": "white",
           "ticks": "",
           "title": {
            "standoff": 15
           },
           "zerolinecolor": "white",
           "zerolinewidth": 2
          },
          "yaxis": {
           "automargin": true,
           "gridcolor": "white",
           "linecolor": "white",
           "ticks": "",
           "title": {
            "standoff": 15
           },
           "zerolinecolor": "white",
           "zerolinewidth": 2
          }
         }
        },
        "width": 600,
        "xaxis": {
         "anchor": "y",
         "domain": [
          0,
          1
         ],
         "linecolor": "black",
         "ticktext": [
          "Mar 01",
          "Mar 11",
          "Mar 21",
          "Mar 31",
          "Apr 09",
          "Apr 19",
          "Apr 29",
          "May 09",
          "May 19",
          "May 29"
         ],
         "tickvals": [
          1,
          11,
          21,
          31,
          41,
          51,
          61,
          71,
          81,
          91
         ]
        },
        "xaxis2": {
         "anchor": "y2",
         "domain": [
          0,
          1
         ],
         "linecolor": "black",
         "ticktext": [
          "Mar 01",
          "Mar 11",
          "Mar 21",
          "Mar 31",
          "Apr 09",
          "Apr 19",
          "Apr 29",
          "May 09",
          "May 19",
          "May 29"
         ],
         "tickvals": [
          1,
          11,
          21,
          31,
          41,
          51,
          61,
          71,
          81,
          91
         ]
        },
        "xaxis3": {
         "anchor": "y3",
         "domain": [
          0,
          1
         ],
         "linecolor": "black",
         "ticktext": [
          "Mar 01",
          "Mar 11",
          "Mar 21",
          "Mar 31",
          "Apr 09",
          "Apr 19",
          "Apr 29",
          "May 09",
          "May 19",
          "May 29"
         ],
         "tickvals": [
          1,
          11,
          21,
          31,
          41,
          51,
          61,
          71,
          81,
          91
         ]
        },
        "yaxis": {
         "anchor": "x",
         "domain": [
          0.7777777777777778,
          1
         ],
         "linecolor": "black"
        },
        "yaxis2": {
         "anchor": "x2",
         "domain": [
          0.3888888888888889,
          0.6111111111111112
         ],
         "linecolor": "black"
        },
        "yaxis3": {
         "anchor": "x3",
         "domain": [
          0,
          0.22222222222222224
         ],
         "linecolor": "black"
        }
       }
      }
     },
     "metadata": {},
     "output_type": "display_data"
    }
   ],
   "source": [
    "# Trace names - represent the solver used for the simulation\n",
    "trace_name = regions\n",
    "titles = ['Infections', 'Deaths', 'Reproduction Number']\n",
    "\n",
    "fig = go.Figure()\n",
    "fig = make_subplots(rows=len(titles), cols=1, subplot_titles=tuple(titles), horizontal_spacing = 0.15)\n",
    "\n",
    "# Plot (bar chart cases each day)\n",
    "for r, region in enumerate(regions):\n",
    "    # Plot of infections\n",
    "    fig.add_trace(\n",
    "        go.Scatter(\n",
    "            x=times,\n",
    "            y=new_infec_pred[r].tolist(),\n",
    "            mode='lines',\n",
    "            name=trace_name[r],\n",
    "            line_color=colours[r]\n",
    "        ),\n",
    "        row= 1,\n",
    "        col= 1\n",
    "    )\n",
    "\n",
    "    fig.add_trace(\n",
    "        go.Scatter(\n",
    "            x=serology_times,\n",
    "            y=np.sum(np.multiply(np.nan_to_num(np.divide(positives_data[r], tests[r])), susceptibles[r]), axis=1).tolist(),\n",
    "            mode='markers',\n",
    "            name=trace_name[r],\n",
    "            showlegend=False,\n",
    "            line_color=colours[r]\n",
    "        ),\n",
    "        row= 1,\n",
    "        col= 1\n",
    "    )\n",
    "\n",
    "    # Plot deaths\n",
    "    fig.add_trace(\n",
    "        go.Scatter(\n",
    "            x=times,\n",
    "            y=deaths_pred[r].tolist(),\n",
    "            mode='lines',\n",
    "            name=trace_name[r],\n",
    "            showlegend=False,\n",
    "            line_color=colours[r]\n",
    "        ),\n",
    "        row= 2,\n",
    "        col= 1\n",
    "    )\n",
    "\n",
    "    fig.add_trace(\n",
    "        go.Scatter(\n",
    "            x=deaths_times,\n",
    "            y=np.sum(deaths_data[r], axis=1).tolist(),\n",
    "            mode='markers',\n",
    "            name=trace_name[r],\n",
    "            showlegend=False,\n",
    "            line_color=colours[r]\n",
    "        ),\n",
    "        row= 2,\n",
    "        col= 1\n",
    "    )\n",
    "\n",
    "    # Plot reproduction number\n",
    "    fig.add_trace(\n",
    "        go.Scatter(\n",
    "            x=times,\n",
    "            y=reprod_num_pred[r].tolist(),\n",
    "            mode='lines',\n",
    "            name=trace_name[r],\n",
    "            showlegend=False,\n",
    "            line_color=colours[r]\n",
    "        ),\n",
    "        row= 3,\n",
    "        col= 1\n",
    "    )\n",
    "\n",
    "# Add axis labels\n",
    "fig.update_layout(\n",
    "    width=600, \n",
    "    height=900,\n",
    "    plot_bgcolor='white',\n",
    "    xaxis=dict(\n",
    "        linecolor='black',\n",
    "        tickvals=np.arange(1, 93, 10).tolist(),\n",
    "        ticktext=['Mar 01', 'Mar 11', 'Mar 21', 'Mar 31', 'Apr 09', 'Apr 19', 'Apr 29', 'May 09', 'May 19', 'May 29']),\n",
    "    yaxis=dict(linecolor='black'),\n",
    "    xaxis2=dict(\n",
    "        linecolor='black',\n",
    "        tickvals=np.arange(1, 93, 10).tolist(),\n",
    "        ticktext=['Mar 01', 'Mar 11', 'Mar 21', 'Mar 31', 'Apr 09', 'Apr 19', 'Apr 29', 'May 09', 'May 19', 'May 29']),\n",
    "    yaxis2=dict(linecolor='black'),\n",
    "    xaxis3=dict(\n",
    "        linecolor='black',\n",
    "        tickvals=np.arange(1, 93, 10).tolist(),\n",
    "        ticktext=['Mar 01', 'Mar 11', 'Mar 21', 'Mar 31', 'Apr 09', 'Apr 19', 'Apr 29', 'May 09', 'May 19', 'May 29']),\n",
    "    yaxis3=dict(linecolor='black'),\n",
    "    legend=dict(\n",
    "        orientation='h',\n",
    "        yanchor=\"bottom\",\n",
    "        y=1.075,\n",
    "        xanchor=\"right\",\n",
    "        x=1)\n",
    "    )\n",
    "\n",
    "fig.write_image('images/Figure-2.pdf')\n",
    "fig.show()"
   ]
  }
 ],
 "metadata": {
  "interpreter": {
   "hash": "684a6128a123c6817f5879bd443c804f1ae947106cccd5e393ee42f0caf0d347"
  },
  "kernelspec": {
   "display_name": "Python 3.8.8 64-bit ('base': conda)",
   "name": "python3"
  },
  "language_info": {
   "codemirror_mode": {
    "name": "ipython",
    "version": 3
   },
   "file_extension": ".py",
   "mimetype": "text/x-python",
   "name": "python",
   "nbconvert_exporter": "python",
   "pygments_lexer": "ipython3",
   "version": "3.8.8"
  },
  "orig_nbformat": 4
 },
 "nbformat": 4,
 "nbformat_minor": 2
}

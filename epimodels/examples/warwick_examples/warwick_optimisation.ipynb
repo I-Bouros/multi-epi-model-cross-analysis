{
 "cells": [
  {
   "cell_type": "markdown",
   "metadata": {},
   "source": [
    "# Warwick SEIRD Model Optimisation\n",
    "\n",
    "In this notebook we present how to use the `epimodels` module to perform parameter optimisation for the parameters specified by the Warwick Household model, using time-dependent region-specific contact matrices.\n",
    "\n",
    "The analysis is run for:\n",
    " - Dates: **15 Feb 2020** - **25 June 2020**;\n",
    " - PHE regions of interest: **London**.\n",
    "\n",
    "We use realistic serology and mortality data extracted from the REACT survey and GOV.UK data.\n",
    "\n",
    "*The Warwick model is built by University of Warwick.*"
   ]
  },
  {
   "cell_type": "code",
   "execution_count": 1,
   "metadata": {},
   "outputs": [],
   "source": [
    "# Load necessary libraries\n",
    "import os\n",
    "import numpy as np\n",
    "import pandas as pd\n",
    "import scipy\n",
    "from scipy.stats import gamma, nbinom, norm\n",
    "import epimodels as em\n",
    "import matplotlib\n",
    "import plotly.graph_objects as go\n",
    "import plotly.express as px\n",
    "from matplotlib import pyplot as plt\n",
    "from iteration_utilities import deepflatten\n",
    "\n",
    "# Set random seed\n",
    "np.random.seed(28)"
   ]
  },
  {
   "cell_type": "markdown",
   "metadata": {},
   "source": [
    "## Model Setup\n",
    "### Define setup matrices for the Roche Model"
   ]
  },
  {
   "cell_type": "code",
   "execution_count": 2,
   "metadata": {},
   "outputs": [],
   "source": [
    "# Populate the model\n",
    "total_days =  132\n",
    "regions = ['London']\n",
    "age_groups = ['0-1', '1-5', '5-15', '15-25', '25-45', '45-65', '65-75', '75+']\n",
    "\n",
    "weeks = list(range(1,int(np.ceil(total_days/7))+1))\n",
    "\n",
    "house_matrices_region = []\n",
    "school_matrices_region = []\n",
    "work_matrices_region = []\n",
    "other_matrices_region = []\n",
    "\n",
    "for w in weeks:\n",
    "    house_weeks_matrices_region = []\n",
    "    school_weeks_matrices_region = []\n",
    "    work_weeks_matrices_region = []\n",
    "    other_weeks_matrices_region = []\n",
    "\n",
    "    for r in regions:\n",
    "        path = os.path.join('../../data/final_contact_matrices/house_{}_W{}.csv'.format(r, w))\n",
    "        house_region_data_matrix = pd.read_csv(path, header=None, dtype=np.float64)\n",
    "        house_regional = em.RegionMatrix(r, age_groups, house_region_data_matrix)\n",
    "        house_weeks_matrices_region.append(house_regional)\n",
    "\n",
    "        path2 = os.path.join('../../data/final_contact_matrices/school_{}_W{}.csv'.format(r, w))\n",
    "        school_region_data_matrix = pd.read_csv(path2, header=None, dtype=np.float64)\n",
    "        school_regional = em.RegionMatrix(r, age_groups, school_region_data_matrix)\n",
    "        school_weeks_matrices_region.append(school_regional)\n",
    "\n",
    "        path3 = os.path.join('../../data/final_contact_matrices/work_{}_W{}.csv'.format(r, w))\n",
    "        work_region_data_matrix = pd.read_csv(path3, header=None, dtype=np.float64)\n",
    "        work_regional = em.RegionMatrix(r, age_groups, work_region_data_matrix)\n",
    "        work_weeks_matrices_region.append(work_regional)\n",
    "\n",
    "        path4 = os.path.join('../../data/final_contact_matrices/other_{}_W{}.csv'.format(r, w))\n",
    "        other_region_data_matrix = pd.read_csv(path4, header=None, dtype=np.float64)\n",
    "        other_regional = em.RegionMatrix(r, age_groups, other_region_data_matrix)\n",
    "        other_weeks_matrices_region.append(other_regional)\n",
    "\n",
    "    house_matrices_region.append(house_weeks_matrices_region)\n",
    "    school_matrices_region.append(school_weeks_matrices_region)\n",
    "    work_matrices_region.append(work_weeks_matrices_region)\n",
    "    other_matrices_region.append(other_weeks_matrices_region)\n",
    "\n",
    "contacts = em.ContactMatrix(age_groups, np.ones((len(age_groups), len(age_groups))))\n",
    "house_matrices_contact = [contacts]\n",
    "school_matrices_contact = [contacts]\n",
    "work_matrices_contact = [contacts]\n",
    "other_matrices_contact = [contacts]\n",
    "\n",
    "# Matrices contact\n",
    "time_changes_contact = [1]\n",
    "time_changes_region = np.arange(1, total_days+1, 7).tolist()"
   ]
  },
  {
   "cell_type": "markdown",
   "metadata": {},
   "source": [
    "### Set the parameters and initial conditions of the model and bundle everything together"
   ]
  },
  {
   "cell_type": "code",
   "execution_count": 3,
   "metadata": {},
   "outputs": [],
   "source": [
    "# Instantiate model\n",
    "model = em.WarwickSEIRModel()\n",
    "\n",
    "# Set the region names, contact and regional data of the model\n",
    "model.set_regions(regions)\n",
    "model.set_age_groups(age_groups)\n",
    "model.read_contact_data(house_matrices_contact, school_matrices_contact, work_matrices_contact, other_matrices_contact, time_changes_contact)\n",
    "model.read_regional_data(house_matrices_region, school_matrices_region, work_matrices_region, other_matrices_region, time_changes_region)\n",
    "\n",
    "# Initial number of susceptibles\n",
    "path = os.path.join('../../data/england_population/England_population.csv')\n",
    "total_susceptibles = np.loadtxt(path, dtype=int, delimiter=',').tolist()\n",
    "susceptibles = total_susceptibles[1]\n",
    "\n",
    "# Initial number of infectives\n",
    "ICs_multiplier = 40\n",
    "infectives = (ICs_multiplier * np.ones((len(regions), len(age_groups)))).tolist()\n",
    "\n",
    "# List of times at which we wish to evaluate the states of the compartments of the model\n",
    "times = np.arange(1, total_days+1, 1).tolist()"
   ]
  },
  {
   "cell_type": "code",
   "execution_count": 4,
   "metadata": {},
   "outputs": [],
   "source": [
    "# Read extended age-group data for optimisation\n",
    "extended_susceptibles = np.loadtxt('../../data/england_population/UK_PP.csv', delimiter=',').astype(int)\n",
    "extended_infectives_prop = np.loadtxt('../../data/england_population/UK_Ages.csv', delimiter=',')\n",
    "\n",
    "extended_house_cont_mat = np.loadtxt('../../data/england_population/UK_from_toH.csv', delimiter=',')\n",
    "extended_school_cont_mat = np.loadtxt('../../data/england_population/UK_from_toS.csv', delimiter=',')\n",
    "extended_work_cont_mat = np.loadtxt('../../data/england_population/UK_from_toW.csv', delimiter=',')\n",
    "extended_other_cont_mat = np.loadtxt('../../data/england_population/UK_from_toO.csv', delimiter=',')"
   ]
  },
  {
   "cell_type": "code",
   "execution_count": 5,
   "metadata": {},
   "outputs": [],
   "source": [
    "def update_age_groups(population, parameter_vector):\n",
    "    \"\"\"\n",
    "    \"\"\"\n",
    "    new_vector = np.empty(8)\n",
    "\n",
    "    ind_old = [\n",
    "        np.array([0]),\n",
    "        np.array([0]),\n",
    "        np.array(range(1, 3)),\n",
    "        np.array(range(3, 5)),\n",
    "        np.array(range(5, 9)),\n",
    "        np.array(range(9, 13)),\n",
    "        np.array(range(13, 15)),\n",
    "        np.array(range(15, 21))]\n",
    "\n",
    "    for _ in range(8):\n",
    "        new_vector[_] = np.average(\n",
    "            np.array(parameter_vector)[ind_old[_][:, None]],\n",
    "            weights=population[ind_old[_][:, None]])\n",
    "\n",
    "    return new_vector"
   ]
  },
  {
   "cell_type": "code",
   "execution_count": 6,
   "metadata": {},
   "outputs": [],
   "source": [
    "def stack_age_groups(population, parameter_vector, r):\n",
    "        \"\"\"\n",
    "        \"\"\"\n",
    "        new_vector = np.empty(8)\n",
    "\n",
    "        ind_old = [\n",
    "            np.array([0]),\n",
    "            np.array([0]),\n",
    "            np.array(range(1, 3)),\n",
    "            np.array(range(3, 5)),\n",
    "            np.array(range(5, 9)),\n",
    "            np.array(range(9, 13)),\n",
    "            np.array(range(13, 15)),\n",
    "            np.array(range(15, 21))]\n",
    "\n",
    "        if np.asarray(population).ndim != 1:\n",
    "            new_vector[0] = \\\n",
    "                parameter_vector[0] * population[r, 0] / (\n",
    "                    population[r, 0] + population[r, 1])\n",
    "\n",
    "            new_vector[1] = \\\n",
    "                parameter_vector[0] * population[r, 1] / (\n",
    "                    population[r, 0] + population[r, 1])\n",
    "\n",
    "        else:\n",
    "            new_vector[0] = \\\n",
    "                parameter_vector[0] * population[0] / (\n",
    "                    population[0] + population[1])\n",
    "\n",
    "            new_vector[1] = \\\n",
    "                parameter_vector[0] * population[1] / (\n",
    "                    population[0] + population[1])\n",
    "\n",
    "        for _ in range(2, 8):\n",
    "            new_vector[_] = np.sum(parameter_vector[ind_old[_][:, None]])\n",
    "\n",
    "        return new_vector"
   ]
  },
  {
   "cell_type": "code",
   "execution_count": 7,
   "metadata": {},
   "outputs": [],
   "source": [
    "pop = extended_susceptibles\n",
    "N = np.sum(pop)"
   ]
  },
  {
   "cell_type": "code",
   "execution_count": 8,
   "metadata": {},
   "outputs": [],
   "source": [
    "# Add folder path to data file\n",
    "path = os.path.join('../../data/')\n",
    "\n",
    "RF_df = pd.read_csv(\n",
    "    os.path.join(path, 'risks_death/Risks_United Kingdom.csv'),\n",
    "    dtype=np.float64)\n",
    "\n",
    "param_df = pd.read_csv(\n",
    "        os.path.join(path, 'global_parameters/parameters.csv'),\n",
    "        dtype=np.float64)\n",
    "\n",
    "pDtoH = update_age_groups(extended_susceptibles, RF_df['hospitalisation_risk'].tolist())\n",
    "pHtoDeath = update_age_groups(extended_susceptibles, RF_df['death_risk'].tolist())\n",
    "\n",
    "th_mean = param_df['hosp_lag'].tolist()[0]+0.00001\n",
    "th_var = 12.1**2\n",
    "theta = th_var / th_mean\n",
    "k = th_mean / theta\n",
    "dDtoH = scipy.stats.gamma(k, scale=theta).pdf(np.arange(1, 31)).tolist()\n",
    "\n",
    "td_mean = param_df['death_lag'].tolist()[0]\n",
    "td_var = 12.1**2\n",
    "theta = td_var / td_mean\n",
    "k = td_mean / theta\n",
    "dHtoDeath = scipy.stats.gamma(k, scale=theta).pdf(np.arange(1, 31)).tolist()"
   ]
  },
  {
   "cell_type": "code",
   "execution_count": 9,
   "metadata": {},
   "outputs": [],
   "source": [
    "# Set regional and time dependent parameters\n",
    "regional_parameters = em.WarwickRegParameters(\n",
    "    model=model,\n",
    "    region_index=1,\n",
    "    H=0.8 * np.ones(len(regions))\n",
    ")\n",
    "\n",
    "# Set ICs parameters\n",
    "ICs = em.WarwickICs(\n",
    "    model=model,\n",
    "    susceptibles_IC=[susceptibles],\n",
    "    exposed_1_f_IC=np.zeros((len(regions), len(age_groups))).tolist(),\n",
    "    exposed_1_sd_IC=np.zeros((len(regions), len(age_groups))).tolist(),\n",
    "    exposed_1_su_IC=np.zeros((len(regions), len(age_groups))).tolist(),\n",
    "    exposed_1_q_IC=np.zeros((len(regions), len(age_groups))).tolist(),\n",
    "    exposed_2_f_IC=np.zeros((len(regions), len(age_groups))).tolist(),\n",
    "    exposed_2_sd_IC=np.zeros((len(regions), len(age_groups))).tolist(),\n",
    "    exposed_2_su_IC=np.zeros((len(regions), len(age_groups))).tolist(),\n",
    "    exposed_2_q_IC=np.zeros((len(regions), len(age_groups))).tolist(),\n",
    "    exposed_3_f_IC=np.zeros((len(regions), len(age_groups))).tolist(),\n",
    "    exposed_3_sd_IC=np.zeros((len(regions), len(age_groups))).tolist(),\n",
    "    exposed_3_su_IC=np.zeros((len(regions), len(age_groups))).tolist(),\n",
    "    exposed_3_q_IC=np.zeros((len(regions), len(age_groups))).tolist(),\n",
    "    detected_f_IC=[update_age_groups(pop, (20 * extended_infectives_prop).astype(int)).tolist()],\n",
    "    detected_qf_IC=np.zeros((len(regions), len(age_groups))).tolist(),\n",
    "    detected_sd_IC=np.zeros((len(regions), len(age_groups))).tolist(),\n",
    "    detected_su_IC=np.zeros((len(regions), len(age_groups))).tolist(),\n",
    "    detected_qs_IC=np.zeros((len(regions), len(age_groups))).tolist(),\n",
    "    undetected_f_IC=np.zeros((len(regions), len(age_groups))).tolist(),\n",
    "    undetected_s_IC=np.zeros((len(regions), len(age_groups))).tolist(),\n",
    "    undetected_q_IC=np.zeros((len(regions), len(age_groups))).tolist(),\n",
    "    recovered_IC=np.zeros((len(regions), len(age_groups))).tolist()\n",
    ")\n",
    "\n",
    "# Set disease-specific parameters\n",
    "disease_parameters = em.WarwickDiseaseParameters(\n",
    "    model=model,\n",
    "    tau=0.4,\n",
    "    d=0.4 * np.ones(len(age_groups))\n",
    ")\n",
    "\n",
    "# Set transmission parameters\n",
    "transmission_parameters = em.WarwickTransmission(\n",
    "    model=model,\n",
    "    epsilon=0.2,\n",
    "    gamma=1,\n",
    "    sigma=0.5 * np.ones(len(age_groups))\n",
    ")\n",
    "\n",
    "# Set other simulation parameters\n",
    "simulation_parameters = em.WarwickSimParameters(\n",
    "    model=model,\n",
    "    method='RK45',\n",
    "    times=times\n",
    ")\n",
    "\n",
    "# Set all parameters in the controller\n",
    "parameters = em.WarwickParametersController(\n",
    "    model=model,\n",
    "    regional_parameters=regional_parameters,\n",
    "    ICs=ICs,\n",
    "    disease_parameters=disease_parameters,\n",
    "    transmission_parameters=transmission_parameters,\n",
    "    simulation_parameters=simulation_parameters\n",
    ")"
   ]
  },
  {
   "cell_type": "markdown",
   "metadata": {},
   "source": [
    "### Simulate for one of the regions: **London**"
   ]
  },
  {
   "cell_type": "code",
   "execution_count": 10,
   "metadata": {},
   "outputs": [],
   "source": [
    "# Simulate for all regions\n",
    "output = []\n",
    "new_infec = []\n",
    "new_hosp = []\n",
    "new_deaths = []\n",
    "\n",
    "for r, reg in enumerate(regions):\n",
    "    # List of initial conditions and parameters that characterise the model\n",
    "    parameters.simulation_parameters.region_index = r + 1\n",
    "\n",
    "    # Simulate using the ODE solver\n",
    "    output.append(model.simulate(parameters))\n",
    "    new_infec.append(model.new_infections(output[-1]))\n",
    "    new_hosp.append(model.new_hospitalisations(new_infec[-1], pDtoH, dDtoH))\n",
    "    new_deaths.append(model.new_deaths(new_hosp[-1], pHtoDeath, dHtoDeath))"
   ]
  },
  {
   "cell_type": "markdown",
   "metadata": {},
   "source": [
    "## Death and Serology data\n",
    "### Read Tests data"
   ]
  },
  {
   "cell_type": "code",
   "execution_count": 11,
   "metadata": {},
   "outputs": [],
   "source": [
    "# # Read in tests data from external files for realistic counts of tests\n",
    "# tests = []\n",
    "\n",
    "# for region in regions:\n",
    "#     daily_tests = np.ones((len(times), len(age_groups)), dtype=int)\n",
    "#     weekly_tests = np.loadtxt('../../data/serology_data/{}_tests_nhs.csv'.format(region), dtype=int, delimiter=',')\n",
    "#     for _, day in enumerate(np.arange(0, len(times), 7)):\n",
    "#         daily_tests[day:(day+7), :]=weekly_tests[_, :] / 7\n",
    "#     tests.append(daily_tests)"
   ]
  },
  {
   "cell_type": "markdown",
   "metadata": {},
   "source": [
    "## Read Death and Serology data"
   ]
  },
  {
   "cell_type": "code",
   "execution_count": 12,
   "metadata": {},
   "outputs": [],
   "source": [
    "# Read in death and positive data from external files\n",
    "deaths_data = []\n",
    "positives_data = []\n",
    "tests = []\n",
    "\n",
    "for region in regions:\n",
    "    deaths_data.append(np.loadtxt('../../data/death_data/{}_deaths.csv'.format(region), dtype=int, delimiter=','))\n",
    "    positives_data.append(np.loadtxt('../../data/serology_data/{}_positives_nhs.csv'.format(region), dtype=int, delimiter=','))\n",
    "    tests.append(np.loadtxt('../../data/serology_data/{}_tests_nhs.csv'.format(region), dtype=int, delimiter=','))"
   ]
  },
  {
   "cell_type": "code",
   "execution_count": 13,
   "metadata": {},
   "outputs": [],
   "source": [
    "# Select the time points for which the death and serology data is known\n",
    "deaths_times = np.arange(27, total_days+1, 1).tolist()\n",
    "serology_times = np.arange(80, total_days+1, 7).tolist()"
   ]
  },
  {
   "cell_type": "code",
   "execution_count": 14,
   "metadata": {},
   "outputs": [],
   "source": [
    "# Set information\n",
    "niu = 10**(-5) # float(gamma.rvs(1, scale=1/0.2, size=1))\n",
    "\n",
    "sens = 0.7\n",
    "spec = 0.95"
   ]
  },
  {
   "cell_type": "markdown",
   "metadata": {},
   "source": [
    "### Sample Death and Serology data"
   ]
  },
  {
   "cell_type": "code",
   "execution_count": 15,
   "metadata": {},
   "outputs": [],
   "source": [
    "# # Sample death and positive test results data for all regions\n",
    "# deaths_data = []\n",
    "# positives_data = []\n",
    "\n",
    "# for r, reg in enumerate(regions):\n",
    "#     reg_deaths_data = np.empty((len(times), len(age_groups)))\n",
    "#     reg_positives_data = np.empty(((len(times), len(age_groups))))\n",
    "#     for t, _ in enumerate(times):\n",
    "#         # Sample the number of deaths and positive test results in a given region on a given day\n",
    "#         reg_deaths_data[t, :] = model.samples_deaths(new_deaths[r], niu, t)\n",
    "#         reg_positives_data[t, :] = model.samples_positive_tests(output[r], tests[r][t, :], sens, spec, t)\n",
    "#     deaths_data.append(np.asarray(reg_deaths_data, dtype=int))\n",
    "#     positives_data.append(np.asarray(reg_positives_data, dtype=int))"
   ]
  },
  {
   "cell_type": "markdown",
   "metadata": {},
   "source": [
    "### Export Death and Serology data"
   ]
  },
  {
   "cell_type": "code",
   "execution_count": 16,
   "metadata": {},
   "outputs": [],
   "source": [
    "# # Export synthetic death and positive test results data for all regions to external files to save computation time\n",
    "# path_ = 'inference_data/'\n",
    "\n",
    "# for r, region in enumerate(regions):\n",
    "#     path = os.path.join(path_, '{}_Syn_Deaths.csv'.format(region))\n",
    "#     path1 = os.path.join(path_, '{}_Syn_Positives.csv'.format(region))\n",
    "\n",
    "#     np.savetxt(path, deaths_data[r], fmt=\"%d\", delimiter=',')\n",
    "#     np.savetxt(path1, positives_data[r], fmt=\"%d\",  delimiter=',')"
   ]
  },
  {
   "cell_type": "markdown",
   "metadata": {},
   "source": [
    "### Read Death and Serology data"
   ]
  },
  {
   "cell_type": "code",
   "execution_count": 17,
   "metadata": {},
   "outputs": [],
   "source": [
    "# # Read in synthetic death and positive data from external files\n",
    "# deaths_data = []\n",
    "# positives_data = []\n",
    "\n",
    "# for region in regions:\n",
    "#     deaths_data.append(np.loadtxt('inference_data/{}_Syn_Deaths.csv'.format(region), dtype=int, delimiter=','))\n",
    "#     positives_data.append(np.loadtxt('inference_data/{}_Syn_Positives.csv'.format(region), dtype=int, delimiter=','))"
   ]
  },
  {
   "cell_type": "code",
   "execution_count": 18,
   "metadata": {},
   "outputs": [],
   "source": [
    "# # Select the time points for which the death and serology data is known\n",
    "# deaths_times = np.arange(1, total_days+1, 1).tolist()\n",
    "# serology_times = np.arange(1, total_days+1, 1).tolist()"
   ]
  },
  {
   "cell_type": "markdown",
   "metadata": {},
   "source": [
    "## Optimisation Procedure"
   ]
  },
  {
   "cell_type": "code",
   "execution_count": 19,
   "metadata": {},
   "outputs": [
    {
     "name": "stdout",
     "output_type": "stream",
     "text": [
      "Maximising LogPDF\n",
      "Using Covariance Matrix Adaptation Evolution Strategy (CMA-ES)\n",
      "Running in sequential mode.\n",
      "Population size: 10\n"
     ]
    },
    {
     "name": "stderr",
     "output_type": "stream",
     "text": [
      "/Users/ioaros/opt/anaconda3/envs/epimodels/lib/python3.12/site-packages/cma/evolution_strategy.py:3829: RuntimeWarning: invalid value encountered in scalar subtract\n",
      "  current_fitness_range < opts['tolfunrel'] * (es.fit.median0 - es.fit.median_min),\n"
     ]
    },
    {
     "name": "stdout",
     "output_type": "stream",
     "text": [
      "Iter. Eval. Best      Current   Time    \n",
      "0     10    -52117.95 -52117.95   0:00.7\n"
     ]
    },
    {
     "name": "stderr",
     "output_type": "stream",
     "text": [
      "/Users/ioaros/opt/anaconda3/envs/epimodels/lib/python3.12/site-packages/cma/evolution_strategy.py:3829: RuntimeWarning: invalid value encountered in scalar multiply\n",
      "  current_fitness_range < opts['tolfunrel'] * (es.fit.median0 - es.fit.median_min),\n"
     ]
    },
    {
     "name": "stdout",
     "output_type": "stream",
     "text": [
      "1     20    -51153.13 -51153.13   0:01.9\n",
      "2     30    -50905.48 -50905.48   0:03.1\n",
      "3     40    -50192.98 -50192.98   0:04.4\n",
      "20    210   -15936.81 -19314.87   0:23.0\n"
     ]
    },
    {
     "name": "stderr",
     "output_type": "stream",
     "text": [
      "/Users/ioaros/opt/anaconda3/envs/epimodels/lib/python3.12/site-packages/cma/evolution_strategy.py:3823: RuntimeWarning: invalid value encountered in scalar subtract\n",
      "  current_fitness_range = max(es.fit.fit) - min(es.fit.fit)\n"
     ]
    },
    {
     "name": "stdout",
     "output_type": "stream",
     "text": [
      "40    410   -1934.661 -22914.2    0:34.9\n",
      "60    610   -1428.514 -1511.857   0:51.4\n",
      "80    810   -1400.75  -1400.75    1:21.0\n",
      "100   1010  -1390.637 -1390.95    1:48.4\n",
      "120   1210  -1380.796 -1380.796   2:12.7\n",
      "140   1410  -1377.839 -1380.112   2:32.9\n",
      "160   1610  -1377.594 -1379.141   2:56.3\n",
      "180   1810  -1377.393 -1378.665   3:22.0\n",
      "200   2010  -1376.729 -1376.729   3:49.1\n",
      "220   2210  -1376.505 -1376.505   4:16.2\n",
      "240   2410  -1376.076 -1376.13    4:39.9\n",
      "260   2610  -1375.858 -1375.858   5:06.6\n",
      "280   2810  -1375.645 -1375.645   5:34.5\n",
      "300   3010  -1375.32  -1375.34    5:58.1\n",
      "320   3210  -1374.684 -1374.684   6:27.2\n",
      "340   3410  -1374.04  -1374.04    6:58.9\n",
      "360   3610  -1373.032 -1373.032   7:27.7\n",
      "380   3810  -1371.785 -1371.785   8:00.5\n",
      "400   4010  -1369.407 -1369.407   8:32.6\n",
      "420   4210  -1365.888 -1365.888   9:05.9\n",
      "440   4410  -1363.506 -1363.802   9:32.9\n",
      "460   4610  -1357.209 -1357.209   9:58.1\n",
      "480   4810  -1351.756 -1351.776  10:28.2\n",
      "500   5010  -1348.999 -1348.999  10:56.3\n",
      "520   5210  -1348.715 -1348.715  11:26.3\n",
      "540   5410  -1340.739 -1340.739  11:53.8\n",
      "560   5610  -1335.881 -1335.881  12:21.7\n",
      "580   5810  -1331.36  -1333.28   12:48.5\n",
      "600   6010  -1328.532 -1329.311  13:15.8\n",
      "620   6210  -1326.377 -1327.204  13:43.8\n",
      "640   6410  -1325.445 -1325.538  14:11.8\n",
      "660   6610  -1324.977 -1324.978  14:39.6\n",
      "680   6810  -1324.46  -1324.658  15:06.4\n",
      "700   7010  -1324.364 -1324.364  15:31.7\n",
      "720   7210  -1324.295 -1324.295  16:03.6\n",
      "740   7410  -1324.212 -1324.227  16:32.8\n",
      "760   7610  -1324.119 -1324.119  17:01.2\n",
      "777   7770  -1323.974 -1324.025  17:21.3\n",
      "Halting: No significant change for 100 iterations.\n",
      "[2.73896571e-01 3.46213167e-01 2.99918451e-01 2.99981433e+01\n",
      " 7.97484340e-04 3.72253966e+00 1.99199269e+00 7.04021049e-01] -1323.9743125244129\n",
      "Optimisation phase is finished.\n"
     ]
    }
   ],
   "source": [
    "# Initialise optimisation for the model\n",
    "warwick_optimisation = em.inference.WarwickSEIRInfer(model)\n",
    "\n",
    "# Add model, death, tests and NPIs data to the inference structure\n",
    "warwick_optimisation.read_model_data(\n",
    "    susceptibles, \n",
    "    update_age_groups(pop, (20 * extended_infectives_prop).astype(int)).tolist())\n",
    "warwick_optimisation.read_extended_population_structure(extended_susceptibles, extended_infectives_prop)\n",
    "warwick_optimisation.read_extended_contact_matrices(\n",
    "    extended_house_cont_mat, extended_school_cont_mat,\n",
    "    extended_work_cont_mat, extended_other_cont_mat)\n",
    "warwick_optimisation.read_deaths_data(deaths_data, deaths_times)\n",
    "warwick_optimisation.read_delay_data(pDtoH, dDtoH, pHtoDeath, dHtoDeath)\n",
    "warwick_optimisation.read_serology_data(tests, positives_data, serology_times, sens, spec)\n",
    "\n",
    "# Run optimisation structure\n",
    "found, log_post_value = warwick_optimisation.optimisation_problem_setup(times, wd=1, wp=0)"
   ]
  },
  {
   "cell_type": "markdown",
   "metadata": {},
   "source": [
    "### Run the model with optimised parameter choices to produce predicted timelines for the:\n",
    " - number of new infections\n",
    " - number of deaths\n",
    " - R number"
   ]
  },
  {
   "cell_type": "code",
   "execution_count": 20,
   "metadata": {},
   "outputs": [],
   "source": [
    "n_parameters = model.n_parameters()\n",
    "\n",
    "predicted_new_infec = []\n",
    "predicted_deaths = []\n",
    "#predicted_reprod_num = []\n",
    "\n",
    "# Run model and number of new infections for all regions\n",
    "for r, _ in enumerate(model.regions):\n",
    "    parameters.simulation_parameters.region_index = r + 1\n",
    "    E0R = found[3]\n",
    "    d, sigma, gamma = warwick_optimisation.ll.compute_updated_param(found[0], found[1])\n",
    "\n",
    "    M_from_to_HAT = warwick_optimisation.ll._compute_next_gen_matrix(d, sigma, found[1])\n",
    "\n",
    "    eigvals, eigvecs = np.linalg.eig(M_from_to_HAT)\n",
    "\n",
    "    reprod_number_0, i = np.max(abs(eigvals)), np.argmax(abs(eigvals))\n",
    "    reprod_number_0 = reprod_number_0 / gamma\n",
    "    Age_structure = abs(eigvecs[:, i])\n",
    "\n",
    "    exposed_0 = Age_structure / np.sum(Age_structure)\n",
    "    detected_0 = Age_structure / np.sum(Age_structure)\n",
    "    undetected_0 = Age_structure / np.sum(Age_structure)\n",
    "\n",
    "    parameters.ICs.exposed_1_f = [stack_age_groups(np.array(susceptibles),  E0R * exposed_0/3, r).tolist()\n",
    "        for r, _ in enumerate(model.regions)]\n",
    "    parameters.ICs.exposed_2_f = [stack_age_groups(np.array(susceptibles),  E0R * exposed_0/3, r).tolist()\n",
    "        for r, _ in enumerate(model.regions)]\n",
    "    parameters.ICs.exposed_3_f = [stack_age_groups(np.array(susceptibles),  E0R * exposed_0/3, r).tolist()\n",
    "        for r, _ in enumerate(model.regions)]\n",
    "    parameters.ICs.detected_f = [stack_age_groups(np.array(susceptibles),  E0R * detected_0, r).tolist()\n",
    "        for r, _ in enumerate(model.regions)]\n",
    "    parameters.ICs.undetected_f = [stack_age_groups(np.array(susceptibles),  E0R * undetected_0, r).tolist()\n",
    "        for r, _ in enumerate(model.regions)]\n",
    "\n",
    "    parameters.disease_parameters.tau = found[1]\n",
    "    parameters.disease_parameters.d = update_age_groups(extended_susceptibles, d)\n",
    "\n",
    "    parameters.transmission_parameters.epsilon = found[2]\n",
    "    parameters.transmission_parameters.gamma = gamma\n",
    "    parameters.transmission_parameters.sigma =  found[5] * update_age_groups(extended_susceptibles, sigma)\n",
    "\n",
    "    parameters.soc_dist_parameters.phi = found[4]\n",
    "    \n",
    "    #r_fix = np.empty(len(times))\n",
    "    model_reg_deaths_data = np.empty(len(times))\n",
    "\n",
    "    #m_fix = em.MultiTimesInfectivity(\n",
    "    #    matrices_contact, time_changes_contact, regions, matrices_region, time_changes_region, parameters[0], dI, susceptibles)\n",
    "\n",
    "    # Run model and number of new infections for all age groups\n",
    "    model_output = model.simulate(parameters)\n",
    "\n",
    "    age_model_reg_new_infections = model.new_infections(model_output)\n",
    "    model_reg_new_infections = age_model_reg_new_infections.sum(axis=1)\n",
    "\n",
    "    age_model_reg_new_hosp = model.new_hospitalisations(age_model_reg_new_infections, found[6] * pDtoH, dDtoH)\n",
    "    model_reg_new_hosp = age_model_reg_new_hosp.sum(axis=1)\n",
    "\n",
    "    age_model_reg_new_deaths = model.new_deaths(age_model_reg_new_hosp, found[7] * pHtoDeath, dHtoDeath)\n",
    "\n",
    "    for t, time in enumerate(times):\n",
    "    #    r_fix[t] = m_fix.compute_reproduction_number(r+1, time, model_output[t, :len(age_groups)], temp_variation=parameters[8][r][t])\n",
    "        model_reg_deaths_data[t] = np.sum(model.mean_deaths(t, age_model_reg_new_deaths))\n",
    "    \n",
    "    predicted_new_infec.append(np.array(model_reg_new_infections))\n",
    "    predicted_deaths.append(model_reg_deaths_data)\n",
    "    #predicted_reprod_num.append(r_fix)\n",
    "\n",
    "predicted_new_infec = np.array(predicted_new_infec)\n",
    "predicted_deaths = np.array(predicted_deaths)\n",
    "#predicted_reprod_num = np.array(predicted_reprod_num)"
   ]
  },
  {
   "cell_type": "markdown",
   "metadata": {},
   "source": [
    "## Plot data vs predicted\n",
    "\n",
    "### Setup ``plotly`` and default settings for plotting"
   ]
  },
  {
   "cell_type": "code",
   "execution_count": 21,
   "metadata": {},
   "outputs": [],
   "source": [
    "from plotly.subplots import make_subplots\n",
    "\n",
    "colours = ['blue', 'red', 'green', 'purple', 'orange', 'black', 'gray', 'pink']\n",
    "\n",
    "# Group outputs together\n",
    "outputs = [deaths_data, positives_data]\n",
    "\n",
    "# Number of regions\n",
    "n_reg = len(regions)"
   ]
  },
  {
   "cell_type": "markdown",
   "metadata": {},
   "source": [
    "### Select predicted quantities to plot"
   ]
  },
  {
   "cell_type": "code",
   "execution_count": 22,
   "metadata": {},
   "outputs": [],
   "source": [
    "# Set up traces to plot\n",
    "new_infec_pred = []\n",
    "deaths_pred = []\n",
    "#reprod_num_pred = []\n",
    "\n",
    "for r, _ in enumerate(model.regions):\n",
    "    # Compute the prediction \n",
    "    new_infec_pred.append(predicted_new_infec[r,:])\n",
    "    deaths_pred.append(predicted_deaths[r,:])\n",
    "    #reprod_num_pred.append(predicted_reprod_num[r,:])"
   ]
  },
  {
   "cell_type": "markdown",
   "metadata": {},
   "source": [
    "### Plot observed versus predicted using model with optimised parameters"
   ]
  },
  {
   "cell_type": "code",
   "execution_count": 23,
   "metadata": {},
   "outputs": [
    {
     "name": "stderr",
     "output_type": "stream",
     "text": [
      "/var/folders/ph/jyxnc9y52svgq2k5lt2q4r000000gp/T/ipykernel_8094/1550536705.py:26: RuntimeWarning:\n",
      "\n",
      "invalid value encountered in divide\n",
      "\n"
     ]
    },
    {
     "data": {
      "application/vnd.plotly.v1+json": {
       "config": {
        "plotlyServerURL": "https://plot.ly"
       },
       "data": [
        {
         "line": {
          "color": "blue"
         },
         "mode": "lines",
         "name": "London",
         "type": "scatter",
         "x": [
          1,
          2,
          3,
          4,
          5,
          6,
          7,
          8,
          9,
          10,
          11,
          12,
          13,
          14,
          15,
          16,
          17,
          18,
          19,
          20,
          21,
          22,
          23,
          24,
          25,
          26,
          27,
          28,
          29,
          30,
          31,
          32,
          33,
          34,
          35,
          36,
          37,
          38,
          39,
          40,
          41,
          42,
          43,
          44,
          45,
          46,
          47,
          48,
          49,
          50,
          51,
          52,
          53,
          54,
          55,
          56,
          57,
          58,
          59,
          60,
          61,
          62,
          63,
          64,
          65,
          66,
          67,
          68,
          69,
          70,
          71,
          72,
          73,
          74,
          75,
          76,
          77,
          78,
          79,
          80,
          81,
          82,
          83,
          84,
          85,
          86,
          87,
          88,
          89,
          90,
          91,
          92,
          93,
          94,
          95,
          96,
          97,
          98,
          99,
          100,
          101,
          102,
          103,
          104,
          105,
          106,
          107,
          108,
          109,
          110,
          111,
          112,
          113,
          114,
          115,
          116,
          117,
          118,
          119,
          120,
          121,
          122,
          123,
          124,
          125,
          126,
          127,
          128,
          129,
          130,
          131,
          132
         ],
         "xaxis": "x",
         "y": [
          4.763882807124012,
          5.429042619145464,
          7.769300693672086,
          10.934062868135475,
          14.547212740062186,
          18.914387399425976,
          24.57421534152879,
          32.145784787501064,
          42.47422714940948,
          56.695036563889936,
          75.88413899873126,
          101.53399042337398,
          135.9246625410274,
          182.00329743454708,
          244.14693706433928,
          327.96118002488595,
          441.3125451010871,
          594.0460138317201,
          799.415944729796,
          1073.9746313880382,
          1450.1889160662365,
          1942.8121845074077,
          2599.0415148958186,
          3480.9618410126254,
          4651.430881068396,
          6221.407301426773,
          8303.21495827226,
          11070.960341702134,
          14762.813828833687,
          19372.48935099348,
          24787.805233812633,
          31438.312533989112,
          39934.71339925509,
          50543.61541849813,
          63240.805969966954,
          78544.81994796822,
          94060.17072081803,
          105604.17927652526,
          115892.81289291575,
          126869.88179079258,
          137567.572118034,
          146974.5083057694,
          153932.08029738968,
          155877.72140451003,
          151638.61256166256,
          142709.9182583657,
          131839.50612828843,
          119922.86059797593,
          107717.63232630416,
          95020.89126647187,
          82897.21630236416,
          71420.6883911763,
          60641.49405109313,
          50672.257349449974,
          41736.38700501291,
          33915.90951667521,
          27306.019016425296,
          21802.50249056089,
          17280.215992467613,
          13629.393316948106,
          10728.702565216743,
          8454.604763602496,
          6657.907855621894,
          5254.523901367816,
          4166.048228793112,
          3324.1676852951864,
          2659.5821543021716,
          2130.82681433249,
          1703.7416580699035,
          1360.2589235965986,
          1083.9942301362175,
          861.805796659992,
          684.4036826251807,
          542.0319498465001,
          430.7164090171488,
          343.8659061083626,
          275.4886906714387,
          221.443109257672,
          180.34379372782774,
          147.34393001135825,
          120.79090198299109,
          99.00360243429955,
          80.67590386943031,
          65.37420722548167,
          52.76818353896554,
          42.42383881209177,
          33.91874181635495,
          27.15493459709306,
          21.73986018858738,
          17.379219559777233,
          13.901852124017473,
          11.143532347279631,
          9.037092242426485,
          7.348161961736369,
          5.9911254294007295,
          4.867058123912065,
          3.9188273504279434,
          3.130903852911746,
          2.48466868544553,
          1.9621590377353078,
          1.548214735481451,
          1.220741937738775,
          0.959626664375835,
          0.7529481052377365,
          0.5886171238095961,
          0.458569590841197,
          0.3571502983075368,
          0.27630792960758777,
          0.2143418971559759,
          0.1664785415503759,
          0.1289333343323925,
          0.10004453952694554,
          0.07783709766685085,
          0.061182886915713386,
          0.047604137362048764,
          0.03691615295143245,
          0.028750149113026327,
          0.02242482874260666,
          0.017603932524922455,
          0.013822248158407761,
          0.011027540639523575,
          0.008804842540464732,
          0.007035098637520665,
          0.005634336676848941,
          0.004486938483985155,
          0.0035550188840540176,
          0.0028027329789332154,
          0.0022024043156561555,
          0.001740084408937196,
          0.0013644254208101838,
          0.0010723555408154446,
          0.0008373206118501912
         ],
         "yaxis": "y"
        },
        {
         "line": {
          "color": "blue"
         },
         "mode": "markers",
         "name": "London",
         "showlegend": false,
         "type": "scatter",
         "x": [
          80,
          87,
          94,
          101,
          108,
          115,
          122,
          129
         ],
         "xaxis": "x",
         "y": [
          1324.0449438202247,
          3901.797366534443,
          1016.9056252365502,
          372.9113924050633,
          0,
          0,
          1378.1171712624478,
          997.1085093657955,
          982,
          818.3333333333333,
          241.00563270989204,
          240.61089368500774,
          0,
          0,
          827.8592604054691,
          1296.0519708504378,
          0,
          1933.730820954826,
          2574.57681930132,
          2745.268490029976,
          709.8795180722892,
          3286.0681577971695,
          7271.906415988986,
          5684.008475838398,
          3566.514426364009,
          0,
          6016.168732900045,
          7704.554846466734,
          8541.491048234473,
          0,
          19161.24184507128,
          16580.17308146115,
          16987.418657317125,
          4428.639957528629,
          3429.251753204957,
          3374.5606952207677,
          2404.8979591836733,
          1205.3828828828828,
          725.2769803975877,
          1276.690171391671,
          6202.105263157894,
          998.6440677966102,
          527.7445839977185,
          1008.1752699218304,
          0,
          669.5454545454546,
          446.0285135894761,
          1265.3130937264198,
          739.8347301407239,
          6586.965327253728,
          6924.054730093763,
          5566.078971464211,
          3583.351282863478
         ],
         "yaxis": "y"
        },
        {
         "line": {
          "color": "blue"
         },
         "mode": "lines",
         "name": "London",
         "showlegend": false,
         "type": "scatter",
         "x": [
          1,
          2,
          3,
          4,
          5,
          6,
          7,
          8,
          9,
          10,
          11,
          12,
          13,
          14,
          15,
          16,
          17,
          18,
          19,
          20,
          21,
          22,
          23,
          24,
          25,
          26,
          27,
          28,
          29,
          30,
          31,
          32,
          33,
          34,
          35,
          36,
          37,
          38,
          39,
          40,
          41,
          42,
          43,
          44,
          45,
          46,
          47,
          48,
          49,
          50,
          51,
          52,
          53,
          54,
          55,
          56,
          57,
          58,
          59,
          60,
          61,
          62,
          63,
          64,
          65,
          66,
          67,
          68,
          69,
          70,
          71,
          72,
          73,
          74,
          75,
          76,
          77,
          78,
          79,
          80,
          81,
          82,
          83,
          84,
          85,
          86,
          87,
          88,
          89,
          90,
          91,
          92,
          93,
          94,
          95,
          96,
          97,
          98,
          99,
          100,
          101,
          102,
          103,
          104,
          105,
          106,
          107,
          108,
          109,
          110,
          111,
          112,
          113,
          114,
          115,
          116,
          117,
          118,
          119,
          120,
          121,
          122,
          123,
          124,
          125,
          126,
          127,
          128,
          129,
          130,
          131,
          132
         ],
         "xaxis": "x2",
         "y": [
          0.0013105619731162792,
          0.002980349085605875,
          0.004878802572491614,
          0.007010613837068341,
          0.009410613118945128,
          0.012139144946449335,
          0.015287863477839428,
          0.018984859045202834,
          0.023405080032104637,
          0.028786764312588017,
          0.03544096553032272,
          0.043777359019622854,
          0.05434684274775711,
          0.06788739080538252,
          0.08540293109533371,
          0.10825882162480961,
          0.13831693890552252,
          0.17806083936850006,
          0.2308057407169308,
          0.30091373781099096,
          0.3946510395618501,
          0.5196055920209481,
          0.6861333400913807,
          0.9084534655633765,
          1.2050229965735633,
          1.6010915119075135,
          2.1294997664264605,
          2.834126807343356,
          3.7738576528580188,
          5.014589108995957,
          6.623695818980199,
          8.691338495663608,
          11.3430357526517,
          14.729901474734186,
          19.016059345402436,
          24.399111649748743,
          30.97158103375143,
          38.57885783875285,
          47.14329013694313,
          56.70159974516956,
          67.26728950722769,
          78.78726322958289,
          91.12311929341885,
          103.9351622111723,
          116.69933709372526,
          128.92642229043415,
          140.31072432756943,
          150.64499112252042,
          159.79418474140155,
          167.62366788760096,
          174.10142952671228,
          179.2340408019188,
          183.02021992709544,
          185.4625812627678,
          186.6000114894565,
          186.50750044715622,
          185.30103811961658,
          183.11194010625903,
          180.0748845969303,
          176.32617702879202,
          171.99914230009077,
          167.21391182188617,
          162.0674882931638,
          156.63849131913594,
          150.98796922503158,
          145.1587453326817,
          139.18255440303258,
          133.09778796712493,
          126.93211140457827,
          120.70001729385294,
          114.41138170422029,
          108.07654052484479,
          101.71049394220721,
          95.34323959213694,
          89.02391989529403,
          82.8063965029669,
          76.73527516607845,
          70.84775926011794,
          65.17474767208894,
          59.744485659633334,
          54.57625539037094,
          49.683391592027085,
          45.07689687643487,
          40.76569904769054,
          36.75456928399461,
          33.04356697679338,
          29.627246911563486,
          26.496218592217698,
          23.638126151155717,
          21.038141296265422,
          18.679631123851415,
          16.545148906043586,
          14.617566787979618,
          12.880213376586044,
          11.317201698465645,
          9.913662889290311,
          8.656017749236929,
          7.531626512999118,
          6.529007923413883,
          5.637789256306508,
          4.848545401590677,
          4.152642694472803,
          3.542049733736961,
          3.009082069654834,
          2.5461285017019395,
          2.145817391821077,
          1.8012790480707008,
          1.5061647198523853,
          1.2546097947604282,
          1.0412139410343757,
          0.8611088859634817,
          0.7099187176941477,
          0.5836782377452947,
          0.4787825983697683,
          0.3919924677597042,
          0.3204359775993888,
          0.2616181482576326,
          0.2133855664077833,
          0.17389952442994344,
          0.14161104599354601,
          0.11523113714564827,
          0.0936953132179133,
          0.07612171158718728,
          0.06178806292376724,
          0.05010510311534553,
          0.04059468495929966,
          0.03286450655629372,
          0.026591291133983383,
          0.021506962031668225,
          0.017390311042259486,
          0.014059194505117318,
          0.011364005023693185
         ],
         "yaxis": "y2"
        },
        {
         "line": {
          "color": "blue"
         },
         "mode": "markers",
         "name": "London",
         "showlegend": false,
         "type": "scatter",
         "x": [
          27,
          28,
          29,
          30,
          31,
          32,
          33,
          34,
          35,
          36,
          37,
          38,
          39,
          40,
          41,
          42,
          43,
          44,
          45,
          46,
          47,
          48,
          49,
          50,
          51,
          52,
          53,
          54,
          55,
          56,
          57,
          58,
          59,
          60,
          61,
          62,
          63,
          64,
          65,
          66,
          67,
          68,
          69,
          70,
          71,
          72,
          73,
          74,
          75,
          76,
          77,
          78,
          79,
          80,
          81,
          82,
          83,
          84,
          85,
          86,
          87,
          88,
          89,
          90,
          91,
          92,
          93,
          94,
          95,
          96,
          97,
          98,
          99,
          100,
          101,
          102,
          103,
          104,
          105,
          106,
          107,
          108,
          109,
          110,
          111,
          112,
          113,
          114,
          115,
          116,
          117,
          118,
          119,
          120,
          121,
          122,
          123,
          124,
          125,
          126,
          127,
          128,
          129,
          130,
          131,
          132
         ],
         "xaxis": "x2",
         "y": [
          6,
          6,
          11,
          8,
          16,
          23,
          26,
          25,
          46,
          46,
          53,
          56,
          87,
          119,
          122,
          127,
          119,
          142,
          149,
          180,
          189,
          194,
          192,
          225,
          196,
          197,
          221,
          231,
          199,
          174,
          164,
          170,
          170,
          143,
          147,
          138,
          110,
          118,
          116,
          96,
          105,
          110,
          80,
          75,
          58,
          62,
          55,
          58,
          52,
          45,
          42,
          52,
          43,
          37,
          34,
          43,
          28,
          30,
          25,
          27,
          23,
          15,
          12,
          17,
          18,
          10,
          14,
          13,
          20,
          16,
          12,
          8,
          6,
          6,
          9,
          11,
          8,
          9,
          5,
          7,
          5,
          5,
          7,
          6,
          6,
          2,
          3,
          5,
          8,
          2,
          5,
          5,
          5,
          1,
          2,
          3,
          1,
          1,
          0,
          2,
          2,
          2,
          3,
          0,
          4,
          1,
          0,
          0,
          1,
          1,
          1,
          1,
          2,
          1,
          1,
          3,
          3,
          1,
          3,
          2,
          0,
          3,
          1,
          1,
          0,
          1,
          0,
          2,
          0,
          0,
          0,
          0,
          0,
          2,
          0,
          0,
          0,
          2,
          0,
          0,
          0,
          2,
          2,
          1,
          0,
          0,
          0,
          0,
          0,
          1,
          0,
          1,
          1,
          0,
          2,
          0,
          0,
          0,
          2,
          1,
          0,
          1,
          0,
          1,
          0,
          0,
          1,
          0,
          0,
          0,
          0,
          0,
          1,
          0,
          1,
          1,
          0,
          0,
          2,
          0,
          0,
          0,
          2,
          3,
          0,
          0,
          0,
          1,
          2,
          4,
          1,
          3,
          4,
          4,
          6,
          7,
          2,
          1,
          1,
          2,
          5,
          9,
          6,
          5,
          3,
          2,
          2,
          9,
          5,
          6,
          6,
          7,
          5,
          4,
          6,
          5,
          4,
          12,
          7,
          4,
          6,
          11,
          7,
          15,
          11,
          6,
          18,
          11,
          12,
          14,
          21,
          12,
          14,
          8,
          17,
          18,
          13,
          16,
          15,
          16,
          23,
          19,
          28,
          15,
          12,
          20,
          13,
          20,
          19,
          30,
          30,
          20,
          27,
          28,
          19,
          29,
          18,
          30,
          39,
          29,
          21,
          33,
          49,
          26,
          22,
          28,
          35,
          33,
          27,
          27,
          35,
          35,
          30,
          28,
          27,
          41,
          29,
          37,
          45,
          30,
          61,
          44,
          48,
          52,
          63,
          75,
          70,
          65,
          90,
          93,
          104,
          102,
          110,
          124,
          129,
          136,
          146,
          136,
          161,
          177,
          161,
          186,
          175,
          179,
          193,
          185,
          193,
          200,
          196,
          183,
          200,
          207,
          202,
          208,
          185,
          184,
          160,
          158,
          152,
          155,
          126,
          128,
          125,
          122,
          86,
          101,
          93,
          96,
          107,
          67,
          91,
          76,
          66,
          65,
          57,
          64,
          44,
          41,
          41,
          37,
          44,
          43,
          40,
          37,
          33,
          30,
          38,
          21,
          20,
          21,
          19,
          15,
          12,
          10,
          20,
          14,
          7,
          12,
          15,
          13,
          9,
          7,
          9,
          10,
          7,
          1,
          9,
          4,
          7,
          5,
          7,
          2,
          3,
          2,
          3,
          6,
          2,
          5,
          1,
          2,
          7,
          2,
          3,
          2,
          2,
          3,
          1,
          4,
          1,
          1,
          1,
          2,
          2,
          1,
          3,
          3,
          0,
          2,
          0,
          2,
          2,
          1,
          2,
          3,
          2,
          1,
          0,
          1,
          1,
          2,
          0,
          3,
          5,
          0,
          2,
          1,
          1,
          1,
          1,
          3,
          0,
          3,
          0,
          0,
          2,
          1,
          0,
          0,
          0,
          2,
          1,
          0,
          0,
          0,
          2,
          0,
          0,
          2,
          1,
          1,
          3,
          1,
          0,
          1,
          2,
          0,
          0,
          1,
          1,
          2,
          1,
          2,
          0,
          2,
          2,
          0,
          0,
          5,
          1,
          0,
          1,
          2,
          2,
          4,
          2,
          1,
          2,
          0,
          0,
          3,
          4
         ],
         "yaxis": "y2"
        }
       ],
       "layout": {
        "annotations": [
         {
          "font": {
           "size": 16
          },
          "showarrow": false,
          "text": "Infections",
          "x": 0.5,
          "xanchor": "center",
          "xref": "paper",
          "y": 1,
          "yanchor": "bottom",
          "yref": "paper"
         },
         {
          "font": {
           "size": 16
          },
          "showarrow": false,
          "text": "Deaths",
          "x": 0.5,
          "xanchor": "center",
          "xref": "paper",
          "y": 0.6111111111111112,
          "yanchor": "bottom",
          "yref": "paper"
         },
         {
          "font": {
           "size": 16
          },
          "showarrow": false,
          "text": "Reproduction Number",
          "x": 0.5,
          "xanchor": "center",
          "xref": "paper",
          "y": 0.22222222222222224,
          "yanchor": "bottom",
          "yref": "paper"
         }
        ],
        "height": 900,
        "legend": {
         "orientation": "h",
         "x": 1,
         "xanchor": "right",
         "y": 1.075,
         "yanchor": "bottom"
        },
        "plot_bgcolor": "white",
        "template": {
         "data": {
          "bar": [
           {
            "error_x": {
             "color": "#2a3f5f"
            },
            "error_y": {
             "color": "#2a3f5f"
            },
            "marker": {
             "line": {
              "color": "#E5ECF6",
              "width": 0.5
             },
             "pattern": {
              "fillmode": "overlay",
              "size": 10,
              "solidity": 0.2
             }
            },
            "type": "bar"
           }
          ],
          "barpolar": [
           {
            "marker": {
             "line": {
              "color": "#E5ECF6",
              "width": 0.5
             },
             "pattern": {
              "fillmode": "overlay",
              "size": 10,
              "solidity": 0.2
             }
            },
            "type": "barpolar"
           }
          ],
          "carpet": [
           {
            "aaxis": {
             "endlinecolor": "#2a3f5f",
             "gridcolor": "white",
             "linecolor": "white",
             "minorgridcolor": "white",
             "startlinecolor": "#2a3f5f"
            },
            "baxis": {
             "endlinecolor": "#2a3f5f",
             "gridcolor": "white",
             "linecolor": "white",
             "minorgridcolor": "white",
             "startlinecolor": "#2a3f5f"
            },
            "type": "carpet"
           }
          ],
          "choropleth": [
           {
            "colorbar": {
             "outlinewidth": 0,
             "ticks": ""
            },
            "type": "choropleth"
           }
          ],
          "contour": [
           {
            "colorbar": {
             "outlinewidth": 0,
             "ticks": ""
            },
            "colorscale": [
             [
              0,
              "#0d0887"
             ],
             [
              0.1111111111111111,
              "#46039f"
             ],
             [
              0.2222222222222222,
              "#7201a8"
             ],
             [
              0.3333333333333333,
              "#9c179e"
             ],
             [
              0.4444444444444444,
              "#bd3786"
             ],
             [
              0.5555555555555556,
              "#d8576b"
             ],
             [
              0.6666666666666666,
              "#ed7953"
             ],
             [
              0.7777777777777778,
              "#fb9f3a"
             ],
             [
              0.8888888888888888,
              "#fdca26"
             ],
             [
              1,
              "#f0f921"
             ]
            ],
            "type": "contour"
           }
          ],
          "contourcarpet": [
           {
            "colorbar": {
             "outlinewidth": 0,
             "ticks": ""
            },
            "type": "contourcarpet"
           }
          ],
          "heatmap": [
           {
            "colorbar": {
             "outlinewidth": 0,
             "ticks": ""
            },
            "colorscale": [
             [
              0,
              "#0d0887"
             ],
             [
              0.1111111111111111,
              "#46039f"
             ],
             [
              0.2222222222222222,
              "#7201a8"
             ],
             [
              0.3333333333333333,
              "#9c179e"
             ],
             [
              0.4444444444444444,
              "#bd3786"
             ],
             [
              0.5555555555555556,
              "#d8576b"
             ],
             [
              0.6666666666666666,
              "#ed7953"
             ],
             [
              0.7777777777777778,
              "#fb9f3a"
             ],
             [
              0.8888888888888888,
              "#fdca26"
             ],
             [
              1,
              "#f0f921"
             ]
            ],
            "type": "heatmap"
           }
          ],
          "heatmapgl": [
           {
            "colorbar": {
             "outlinewidth": 0,
             "ticks": ""
            },
            "colorscale": [
             [
              0,
              "#0d0887"
             ],
             [
              0.1111111111111111,
              "#46039f"
             ],
             [
              0.2222222222222222,
              "#7201a8"
             ],
             [
              0.3333333333333333,
              "#9c179e"
             ],
             [
              0.4444444444444444,
              "#bd3786"
             ],
             [
              0.5555555555555556,
              "#d8576b"
             ],
             [
              0.6666666666666666,
              "#ed7953"
             ],
             [
              0.7777777777777778,
              "#fb9f3a"
             ],
             [
              0.8888888888888888,
              "#fdca26"
             ],
             [
              1,
              "#f0f921"
             ]
            ],
            "type": "heatmapgl"
           }
          ],
          "histogram": [
           {
            "marker": {
             "pattern": {
              "fillmode": "overlay",
              "size": 10,
              "solidity": 0.2
             }
            },
            "type": "histogram"
           }
          ],
          "histogram2d": [
           {
            "colorbar": {
             "outlinewidth": 0,
             "ticks": ""
            },
            "colorscale": [
             [
              0,
              "#0d0887"
             ],
             [
              0.1111111111111111,
              "#46039f"
             ],
             [
              0.2222222222222222,
              "#7201a8"
             ],
             [
              0.3333333333333333,
              "#9c179e"
             ],
             [
              0.4444444444444444,
              "#bd3786"
             ],
             [
              0.5555555555555556,
              "#d8576b"
             ],
             [
              0.6666666666666666,
              "#ed7953"
             ],
             [
              0.7777777777777778,
              "#fb9f3a"
             ],
             [
              0.8888888888888888,
              "#fdca26"
             ],
             [
              1,
              "#f0f921"
             ]
            ],
            "type": "histogram2d"
           }
          ],
          "histogram2dcontour": [
           {
            "colorbar": {
             "outlinewidth": 0,
             "ticks": ""
            },
            "colorscale": [
             [
              0,
              "#0d0887"
             ],
             [
              0.1111111111111111,
              "#46039f"
             ],
             [
              0.2222222222222222,
              "#7201a8"
             ],
             [
              0.3333333333333333,
              "#9c179e"
             ],
             [
              0.4444444444444444,
              "#bd3786"
             ],
             [
              0.5555555555555556,
              "#d8576b"
             ],
             [
              0.6666666666666666,
              "#ed7953"
             ],
             [
              0.7777777777777778,
              "#fb9f3a"
             ],
             [
              0.8888888888888888,
              "#fdca26"
             ],
             [
              1,
              "#f0f921"
             ]
            ],
            "type": "histogram2dcontour"
           }
          ],
          "mesh3d": [
           {
            "colorbar": {
             "outlinewidth": 0,
             "ticks": ""
            },
            "type": "mesh3d"
           }
          ],
          "parcoords": [
           {
            "line": {
             "colorbar": {
              "outlinewidth": 0,
              "ticks": ""
             }
            },
            "type": "parcoords"
           }
          ],
          "pie": [
           {
            "automargin": true,
            "type": "pie"
           }
          ],
          "scatter": [
           {
            "fillpattern": {
             "fillmode": "overlay",
             "size": 10,
             "solidity": 0.2
            },
            "type": "scatter"
           }
          ],
          "scatter3d": [
           {
            "line": {
             "colorbar": {
              "outlinewidth": 0,
              "ticks": ""
             }
            },
            "marker": {
             "colorbar": {
              "outlinewidth": 0,
              "ticks": ""
             }
            },
            "type": "scatter3d"
           }
          ],
          "scattercarpet": [
           {
            "marker": {
             "colorbar": {
              "outlinewidth": 0,
              "ticks": ""
             }
            },
            "type": "scattercarpet"
           }
          ],
          "scattergeo": [
           {
            "marker": {
             "colorbar": {
              "outlinewidth": 0,
              "ticks": ""
             }
            },
            "type": "scattergeo"
           }
          ],
          "scattergl": [
           {
            "marker": {
             "colorbar": {
              "outlinewidth": 0,
              "ticks": ""
             }
            },
            "type": "scattergl"
           }
          ],
          "scattermapbox": [
           {
            "marker": {
             "colorbar": {
              "outlinewidth": 0,
              "ticks": ""
             }
            },
            "type": "scattermapbox"
           }
          ],
          "scatterpolar": [
           {
            "marker": {
             "colorbar": {
              "outlinewidth": 0,
              "ticks": ""
             }
            },
            "type": "scatterpolar"
           }
          ],
          "scatterpolargl": [
           {
            "marker": {
             "colorbar": {
              "outlinewidth": 0,
              "ticks": ""
             }
            },
            "type": "scatterpolargl"
           }
          ],
          "scatterternary": [
           {
            "marker": {
             "colorbar": {
              "outlinewidth": 0,
              "ticks": ""
             }
            },
            "type": "scatterternary"
           }
          ],
          "surface": [
           {
            "colorbar": {
             "outlinewidth": 0,
             "ticks": ""
            },
            "colorscale": [
             [
              0,
              "#0d0887"
             ],
             [
              0.1111111111111111,
              "#46039f"
             ],
             [
              0.2222222222222222,
              "#7201a8"
             ],
             [
              0.3333333333333333,
              "#9c179e"
             ],
             [
              0.4444444444444444,
              "#bd3786"
             ],
             [
              0.5555555555555556,
              "#d8576b"
             ],
             [
              0.6666666666666666,
              "#ed7953"
             ],
             [
              0.7777777777777778,
              "#fb9f3a"
             ],
             [
              0.8888888888888888,
              "#fdca26"
             ],
             [
              1,
              "#f0f921"
             ]
            ],
            "type": "surface"
           }
          ],
          "table": [
           {
            "cells": {
             "fill": {
              "color": "#EBF0F8"
             },
             "line": {
              "color": "white"
             }
            },
            "header": {
             "fill": {
              "color": "#C8D4E3"
             },
             "line": {
              "color": "white"
             }
            },
            "type": "table"
           }
          ]
         },
         "layout": {
          "annotationdefaults": {
           "arrowcolor": "#2a3f5f",
           "arrowhead": 0,
           "arrowwidth": 1
          },
          "autotypenumbers": "strict",
          "coloraxis": {
           "colorbar": {
            "outlinewidth": 0,
            "ticks": ""
           }
          },
          "colorscale": {
           "diverging": [
            [
             0,
             "#8e0152"
            ],
            [
             0.1,
             "#c51b7d"
            ],
            [
             0.2,
             "#de77ae"
            ],
            [
             0.3,
             "#f1b6da"
            ],
            [
             0.4,
             "#fde0ef"
            ],
            [
             0.5,
             "#f7f7f7"
            ],
            [
             0.6,
             "#e6f5d0"
            ],
            [
             0.7,
             "#b8e186"
            ],
            [
             0.8,
             "#7fbc41"
            ],
            [
             0.9,
             "#4d9221"
            ],
            [
             1,
             "#276419"
            ]
           ],
           "sequential": [
            [
             0,
             "#0d0887"
            ],
            [
             0.1111111111111111,
             "#46039f"
            ],
            [
             0.2222222222222222,
             "#7201a8"
            ],
            [
             0.3333333333333333,
             "#9c179e"
            ],
            [
             0.4444444444444444,
             "#bd3786"
            ],
            [
             0.5555555555555556,
             "#d8576b"
            ],
            [
             0.6666666666666666,
             "#ed7953"
            ],
            [
             0.7777777777777778,
             "#fb9f3a"
            ],
            [
             0.8888888888888888,
             "#fdca26"
            ],
            [
             1,
             "#f0f921"
            ]
           ],
           "sequentialminus": [
            [
             0,
             "#0d0887"
            ],
            [
             0.1111111111111111,
             "#46039f"
            ],
            [
             0.2222222222222222,
             "#7201a8"
            ],
            [
             0.3333333333333333,
             "#9c179e"
            ],
            [
             0.4444444444444444,
             "#bd3786"
            ],
            [
             0.5555555555555556,
             "#d8576b"
            ],
            [
             0.6666666666666666,
             "#ed7953"
            ],
            [
             0.7777777777777778,
             "#fb9f3a"
            ],
            [
             0.8888888888888888,
             "#fdca26"
            ],
            [
             1,
             "#f0f921"
            ]
           ]
          },
          "colorway": [
           "#636efa",
           "#EF553B",
           "#00cc96",
           "#ab63fa",
           "#FFA15A",
           "#19d3f3",
           "#FF6692",
           "#B6E880",
           "#FF97FF",
           "#FECB52"
          ],
          "font": {
           "color": "#2a3f5f"
          },
          "geo": {
           "bgcolor": "white",
           "lakecolor": "white",
           "landcolor": "#E5ECF6",
           "showlakes": true,
           "showland": true,
           "subunitcolor": "white"
          },
          "hoverlabel": {
           "align": "left"
          },
          "hovermode": "closest",
          "mapbox": {
           "style": "light"
          },
          "paper_bgcolor": "white",
          "plot_bgcolor": "#E5ECF6",
          "polar": {
           "angularaxis": {
            "gridcolor": "white",
            "linecolor": "white",
            "ticks": ""
           },
           "bgcolor": "#E5ECF6",
           "radialaxis": {
            "gridcolor": "white",
            "linecolor": "white",
            "ticks": ""
           }
          },
          "scene": {
           "xaxis": {
            "backgroundcolor": "#E5ECF6",
            "gridcolor": "white",
            "gridwidth": 2,
            "linecolor": "white",
            "showbackground": true,
            "ticks": "",
            "zerolinecolor": "white"
           },
           "yaxis": {
            "backgroundcolor": "#E5ECF6",
            "gridcolor": "white",
            "gridwidth": 2,
            "linecolor": "white",
            "showbackground": true,
            "ticks": "",
            "zerolinecolor": "white"
           },
           "zaxis": {
            "backgroundcolor": "#E5ECF6",
            "gridcolor": "white",
            "gridwidth": 2,
            "linecolor": "white",
            "showbackground": true,
            "ticks": "",
            "zerolinecolor": "white"
           }
          },
          "shapedefaults": {
           "line": {
            "color": "#2a3f5f"
           }
          },
          "ternary": {
           "aaxis": {
            "gridcolor": "white",
            "linecolor": "white",
            "ticks": ""
           },
           "baxis": {
            "gridcolor": "white",
            "linecolor": "white",
            "ticks": ""
           },
           "bgcolor": "#E5ECF6",
           "caxis": {
            "gridcolor": "white",
            "linecolor": "white",
            "ticks": ""
           }
          },
          "title": {
           "x": 0.05
          },
          "xaxis": {
           "automargin": true,
           "gridcolor": "white",
           "linecolor": "white",
           "ticks": "",
           "title": {
            "standoff": 15
           },
           "zerolinecolor": "white",
           "zerolinewidth": 2
          },
          "yaxis": {
           "automargin": true,
           "gridcolor": "white",
           "linecolor": "white",
           "ticks": "",
           "title": {
            "standoff": 15
           },
           "zerolinecolor": "white",
           "zerolinewidth": 2
          }
         }
        },
        "width": 600,
        "xaxis": {
         "anchor": "y",
         "domain": [
          0,
          1
         ],
         "linecolor": "black",
         "ticktext": [
          "Feb 15",
          "Feb 25",
          "Mar 06",
          "Mar 16",
          "Mar 26",
          "Apr 05",
          "Apr 15",
          "Apr 25",
          "May 05",
          "May 15",
          "May 25",
          "Jun 04",
          "Jun 14",
          "Jun 24"
         ],
         "tickvals": [
          1,
          11,
          21,
          31,
          41,
          51,
          61,
          71,
          81,
          91,
          101,
          111,
          121,
          131
         ]
        },
        "xaxis2": {
         "anchor": "y2",
         "domain": [
          0,
          1
         ],
         "linecolor": "black",
         "ticktext": [
          "Feb 15",
          "Feb 25",
          "Mar 06",
          "Mar 16",
          "Mar 26",
          "Apr 05",
          "Apr 15",
          "Apr 25",
          "May 05",
          "May 15",
          "May 25",
          "Jun 04",
          "Jun 14",
          "Jun 24"
         ],
         "tickvals": [
          1,
          11,
          21,
          31,
          41,
          51,
          61,
          71,
          81,
          91,
          101,
          111,
          121,
          131
         ]
        },
        "xaxis3": {
         "anchor": "y3",
         "domain": [
          0,
          1
         ],
         "linecolor": "black",
         "ticktext": [
          "Feb 15",
          "Feb 25",
          "Mar 06",
          "Mar 16",
          "Mar 26",
          "Apr 05",
          "Apr 15",
          "Apr 25",
          "May 05",
          "May 15",
          "May 25",
          "Jun 04",
          "Jun 14",
          "Jun 24"
         ],
         "tickvals": [
          1,
          11,
          21,
          31,
          41,
          51,
          61,
          71,
          81,
          91,
          101,
          111,
          121,
          131
         ]
        },
        "yaxis": {
         "anchor": "x",
         "domain": [
          0.7777777777777778,
          1
         ],
         "linecolor": "black"
        },
        "yaxis2": {
         "anchor": "x2",
         "domain": [
          0.3888888888888889,
          0.6111111111111112
         ],
         "linecolor": "black"
        },
        "yaxis3": {
         "anchor": "x3",
         "domain": [
          0,
          0.22222222222222224
         ],
         "linecolor": "black"
        }
       }
      }
     },
     "metadata": {},
     "output_type": "display_data"
    }
   ],
   "source": [
    "# Trace names - represent the solver used for the simulation\n",
    "trace_name = regions\n",
    "titles = ['Infections', 'Deaths', 'Reproduction Number']\n",
    "\n",
    "fig = go.Figure()\n",
    "fig = make_subplots(rows=len(titles), cols=1, subplot_titles=tuple(titles), horizontal_spacing = 0.15)\n",
    "\n",
    "# Plot (continuous predicted timeline and pointwise observed numbers each day)\n",
    "for r, region in enumerate(regions):\n",
    "    # Plot of infections\n",
    "    fig.add_trace(\n",
    "        go.Scatter(\n",
    "            x=times,\n",
    "            y=new_infec_pred[r].tolist(),\n",
    "            mode='lines',\n",
    "            name=trace_name[r],\n",
    "            line_color=colours[r]\n",
    "        ),\n",
    "        row= 1,\n",
    "        col= 1\n",
    "    )\n",
    "\n",
    "    fig.add_trace(\n",
    "        go.Scatter(\n",
    "            x=serology_times,\n",
    "            y=np.sum(np.multiply(np.nan_to_num(np.divide(positives_data[r], tests[r])), susceptibles[r]), axis=1).tolist(),\n",
    "            mode='markers',\n",
    "            name=trace_name[r],\n",
    "            showlegend=False,\n",
    "            line_color=colours[r]\n",
    "        ),\n",
    "        row= 1,\n",
    "        col= 1\n",
    "    )\n",
    "\n",
    "    # Plot deaths\n",
    "    fig.add_trace(\n",
    "        go.Scatter(\n",
    "            x=times,\n",
    "            y=deaths_pred[r].tolist(),\n",
    "            mode='lines',\n",
    "            name=trace_name[r],\n",
    "            showlegend=False,\n",
    "            line_color=colours[r]\n",
    "        ),\n",
    "        row= 2,\n",
    "        col= 1\n",
    "    )\n",
    "\n",
    "    fig.add_trace(\n",
    "        go.Scatter(\n",
    "            x=deaths_times,\n",
    "            y=np.sum(deaths_data[r], axis=1).tolist(),\n",
    "            mode='markers',\n",
    "            name=trace_name[r],\n",
    "            showlegend=False,\n",
    "            line_color=colours[r]\n",
    "        ),\n",
    "        row= 2,\n",
    "        col= 1\n",
    "    )\n",
    "\n",
    "    # Plot reproduction number\n",
    "    #fig.add_trace(\n",
    "    #    go.Scatter(\n",
    "    #        x=times,\n",
    "    #        y=reprod_num_pred[r].tolist(),\n",
    "    #        mode='lines',\n",
    "    #        name=trace_name[r],\n",
    "    #        showlegend=False,\n",
    "    #        line_color=colours[r]\n",
    "    #    ),\n",
    "    #    row= 3,\n",
    "    #    col= 1\n",
    "    #)\n",
    "\n",
    "# Add axis labels\n",
    "fig.update_layout(\n",
    "    width=600, \n",
    "    height=900,\n",
    "    plot_bgcolor='white',\n",
    "    xaxis=dict(\n",
    "        linecolor='black',\n",
    "        tickvals=np.arange(1, total_days, 10).tolist(),\n",
    "        ticktext=['Feb 15', 'Feb 25', 'Mar 06', 'Mar 16', 'Mar 26', 'Apr 05', 'Apr 15', 'Apr 25', 'May 05', 'May 15', 'May 25', 'Jun 04', 'Jun 14', 'Jun 24']),\n",
    "    yaxis=dict(linecolor='black'),\n",
    "    xaxis2=dict(\n",
    "        linecolor='black',\n",
    "        tickvals=np.arange(1, total_days, 10).tolist(),\n",
    "        ticktext=['Feb 15', 'Feb 25', 'Mar 06', 'Mar 16', 'Mar 26', 'Apr 05', 'Apr 15', 'Apr 25', 'May 05', 'May 15', 'May 25', 'Jun 04', 'Jun 14', 'Jun 24']),\n",
    "    yaxis2=dict(linecolor='black'),\n",
    "    xaxis3=dict(\n",
    "        linecolor='black',\n",
    "        tickvals=np.arange(1, total_days, 10).tolist(),\n",
    "        ticktext=['Feb 15', 'Feb 25', 'Mar 06', 'Mar 16', 'Mar 26', 'Apr 05', 'Apr 15', 'Apr 25', 'May 05', 'May 15', 'May 25', 'Jun 04', 'Jun 14', 'Jun 24']),\n",
    "    yaxis3=dict(linecolor='black'),\n",
    "    legend=dict(\n",
    "        orientation='h',\n",
    "        yanchor=\"bottom\",\n",
    "        y=1.075,\n",
    "        xanchor=\"right\",\n",
    "        x=1)\n",
    "    )\n",
    "\n",
    "fig.write_image('images/Figure-3-optimisation.pdf')\n",
    "fig.show()"
   ]
  },
  {
   "cell_type": "code",
   "execution_count": 24,
   "metadata": {},
   "outputs": [
    {
     "data": {
      "text/plain": [
       "<matplotlib.collections.PathCollection at 0x14ab08d70>"
      ]
     },
     "execution_count": 24,
     "metadata": {},
     "output_type": "execute_result"
    },
    {
     "data": {
      "image/png": "[encoded data removed]",
      "text/plain": [
       "<Figure size 640x480 with 1 Axes>"
      ]
     },
     "metadata": {},
     "output_type": "display_data"
    }
   ],
   "source": [
    "plt.plot(model.actual_deaths)\n",
    "plt.scatter(deaths_times, np.sum(deaths_data[r], axis=1).tolist()[:len(deaths_times)])"
   ]
  },
  {
   "cell_type": "code",
   "execution_count": 25,
   "metadata": {},
   "outputs": [],
   "source": [
    "p_after = parameters()"
   ]
  },
  {
   "cell_type": "code",
   "execution_count": 26,
   "metadata": {},
   "outputs": [],
   "source": [
    "warwick_optimisation.ll(found)\n",
    "p = warwick_optimisation.ll._parameters\n",
    "p_found = list(deepflatten(p, ignore=str))"
   ]
  },
  {
   "cell_type": "code",
   "execution_count": 27,
   "metadata": {},
   "outputs": [
    {
     "name": "stdout",
     "output_type": "stream",
     "text": [
      "1 1\n",
      "117840 117840\n",
      "488164 488164\n",
      "1140597 1140597\n",
      "1033029 1033029\n",
      "3050671 3050671\n",
      "2050173 2050173\n",
      "586472 586472\n",
      "495043 495043\n",
      "0.0451458585490923 0.08753069954110557\n",
      "0.18702123975525367 0.36260468780366817\n",
      "1.5594737156291587 3.575068983848556\n",
      "0.8704212051674127 2.0496270290889806\n",
      "0.7607363302847715 1.0960119089918745\n",
      "0.8039473894488001 0.6085677760253798\n",
      "0.5239177338091788 0.2062084424495028\n",
      "5.248717625491666 2.013761570386266\n",
      "0.0 0.0\n",
      "0.0 0.0\n",
      "0.0 0.0\n",
      "0.0 0.0\n",
      "0.0 0.0\n",
      "0.0 0.0\n",
      "0.0 0.0\n",
      "0.0 0.0\n",
      "0.0 0.0\n",
      "0.0 0.0\n",
      "0.0 0.0\n",
      "0.0 0.0\n",
      "0.0 0.0\n",
      "0.0 0.0\n",
      "0.0 0.0\n",
      "0.0 0.0\n",
      "0.0 0.0\n",
      "0.0 0.0\n",
      "0.0 0.0\n",
      "0.0 0.0\n",
      "0.0 0.0\n",
      "0.0 0.0\n",
      "0.0 0.0\n",
      "0.0 0.0\n",
      "0.0451458585490923 0.08753069954110557\n",
      "0.18702123975525367 0.36260468780366817\n",
      "1.5594737156291587 3.575068983848556\n",
      "0.8704212051674127 2.0496270290889806\n",
      "0.7607363302847715 1.0960119089918745\n",
      "0.8039473894488001 0.6085677760253798\n",
      "0.5239177338091788 0.2062084424495028\n",
      "5.248717625491666 2.013761570386266\n",
      "0.0 0.0\n",
      "0.0 0.0\n",
      "0.0 0.0\n",
      "0.0 0.0\n",
      "0.0 0.0\n",
      "0.0 0.0\n",
      "0.0 0.0\n",
      "0.0 0.0\n",
      "0.0 0.0\n",
      "0.0 0.0\n",
      "0.0 0.0\n",
      "0.0 0.0\n",
      "0.0 0.0\n",
      "0.0 0.0\n",
      "0.0 0.0\n",
      "0.0 0.0\n",
      "0.0 0.0\n",
      "0.0 0.0\n",
      "0.0 0.0\n",
      "0.0 0.0\n",
      "0.0 0.0\n",
      "0.0 0.0\n",
      "0.0 0.0\n",
      "0.0 0.0\n",
      "0.0451458585490923 0.08753069954110557\n",
      "0.18702123975525367 0.36260468780366817\n",
      "1.5594737156291587 3.575068983848556\n",
      "0.8704212051674127 2.0496270290889806\n",
      "0.7607363302847715 1.0960119089918745\n",
      "0.8039473894488001 0.6085677760253798\n",
      "0.5239177338091788 0.2062084424495028\n",
      "5.248717625491666 2.013761570386266\n",
      "0.0 0.0\n",
      "0.0 0.0\n",
      "0.0 0.0\n",
      "0.0 0.0\n",
      "0.0 0.0\n",
      "0.0 0.0\n",
      "0.0 0.0\n",
      "0.0 0.0\n",
      "0.0 0.0\n",
      "0.0 0.0\n",
      "0.0 0.0\n",
      "0.0 0.0\n",
      "0.0 0.0\n",
      "0.0 0.0\n",
      "0.0 0.0\n",
      "0.0 0.0\n",
      "0.0 0.0\n",
      "0.0 0.0\n",
      "0.0 0.0\n",
      "0.0 0.0\n",
      "0.0 0.0\n",
      "0.0 0.0\n",
      "0.0 0.0\n",
      "0.0 0.0\n",
      "0.1354375756472769 0.26259209862331667\n",
      "0.561063719265761 1.0878140634110045\n",
      "4.678421146887477 10.725206951545667\n",
      "2.611263615502238 6.148881087266942\n",
      "2.282208990854315 3.288035726975624\n",
      "2.4118421683464004 1.8257033280761392\n",
      "1.5717532014275366 0.6186253273485084\n",
      "15.746152876474996 6.041284711158798\n",
      "0.0 0.0\n",
      "0.0 0.0\n",
      "0.0 0.0\n",
      "0.0 0.0\n",
      "0.0 0.0\n",
      "0.0 0.0\n",
      "0.0 0.0\n",
      "0.0 0.0\n",
      "0.0 0.0\n",
      "0.0 0.0\n",
      "0.0 0.0\n",
      "0.0 0.0\n",
      "0.0 0.0\n",
      "0.0 0.0\n",
      "0.0 0.0\n",
      "0.0 0.0\n",
      "0.0 0.0\n",
      "0.0 0.0\n",
      "0.0 0.0\n",
      "0.0 0.0\n",
      "0.0 0.0\n",
      "0.0 0.0\n",
      "0.0 0.0\n",
      "0.0 0.0\n",
      "0.0 0.0\n",
      "0.0 0.0\n",
      "0.0 0.0\n",
      "0.0 0.0\n",
      "0.0 0.0\n",
      "0.0 0.0\n",
      "0.0 0.0\n",
      "0.0 0.0\n",
      "0.1354375756472769 0.26259209862331667\n",
      "0.561063719265761 1.0878140634110045\n",
      "4.678421146887477 10.725206951545667\n",
      "2.611263615502238 6.148881087266942\n",
      "2.282208990854315 3.288035726975624\n",
      "2.4118421683464004 1.8257033280761392\n",
      "1.5717532014275366 0.6186253273485084\n",
      "15.746152876474996 6.041284711158798\n",
      "0.0 0.0\n",
      "0.0 0.0\n",
      "0.0 0.0\n",
      "0.0 0.0\n",
      "0.0 0.0\n",
      "0.0 0.0\n",
      "0.0 0.0\n",
      "0.0 0.0\n",
      "0.0 0.0\n",
      "0.0 0.0\n",
      "0.0 0.0\n",
      "0.0 0.0\n",
      "0.0 0.0\n",
      "0.0 0.0\n",
      "0.0 0.0\n",
      "0.0 0.0\n",
      "0.0 0.0\n",
      "0.0 0.0\n",
      "0.0 0.0\n",
      "0.0 0.0\n",
      "0.0 0.0\n",
      "0.0 0.0\n",
      "0.0 0.0\n",
      "0.0 0.0\n",
      "2.024537251243427 2.024537251243427\n",
      "2.024537251243427 2.024537251243427\n",
      "1.260099691973752 1.260099691973752\n",
      "1.777998709083509 1.777998709083509\n",
      "2.539541261636585 2.539541261636585\n",
      "3.1106438397301526 3.1106438397301526\n",
      "3.541969196701834 3.541969196701834\n",
      "3.9493135278206015 3.9493135278206015\n",
      "0.3462131674983682 0.3462131674983682\n",
      "0.2999184513435199 0.2999184513435199\n",
      "1.2967542608368597e-07 1.2967542608368597e-07\n",
      "0.13542843252602949 0.13542843252602949\n",
      "0.13542843252602949 0.13542843252602949\n",
      "0.03871734206126026 0.03871734206126026\n",
      "0.10491445955870662 0.10491445955870662\n",
      "0.24774119019033375 0.24774119019033375\n",
      "0.430727858273575 0.430727858273575\n",
      "0.5966338059109677 0.5966338059109677\n",
      "0.8124206507988563 0.8124206507988563\n",
      "0.8 0.8\n",
      "RK45 RK45\n"
     ]
    }
   ],
   "source": [
    "for p1, p2 in zip(p_after, p_found):\n",
    "    print(p1, p2)"
   ]
  }
 ],
 "metadata": {
  "interpreter": {
   "hash": "df47f448575d07052416cc1eb7c128b6c1833d71679a831545035757d10d2b5f"
  },
  "kernelspec": {
   "display_name": "Python 3.12.0 64-bit ('epimodels': conda)",
   "name": "python3"
  },
  "language_info": {
   "codemirror_mode": {
    "name": "ipython",
    "version": 3
   },
   "file_extension": ".py",
   "mimetype": "text/x-python",
   "name": "python",
   "nbconvert_exporter": "python",
   "pygments_lexer": "ipython3",
   "version": "3.12.0"
  },
  "orig_nbformat": 4
 },
 "nbformat": 4,
 "nbformat_minor": 2
}

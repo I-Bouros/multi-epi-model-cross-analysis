{
 "cells": [
  {
   "cell_type": "markdown",
   "metadata": {},
   "source": [
    "# Roche SEIR Model\n",
    "\n",
    "In this notebook we present compare the model built by F. Hoffmann-La Roche Ltd with a simple SEIR. We aim to see if the Roche model can be reduced to a simple SEIR model for appropriate choices of parameters in order to check how well the Roche model has been reproduced.\n",
    "\n",
    "The analyses are run for:\n",
    " - Dates: **15 Feb 2020** - **15 May 2020**, using toy data;\n",
    " - PHE regions of interest: **South West**.\n",
    "\n",
    "We consider only **1 region** and **1 age group**. In order to be able to collapse the PHE model in a simpler SEIR version, we will have to choose the parameters such that:\n",
    "\n",
    "$\n",
    "\\begin{align*}\n",
    "    \\frac{dS(t)}{dt} &= C(- \\frac{\\beta_a}{N} S(t)\n",
    "        I_a(t) - \\frac{\\beta_{aa}}{N} S(t) I_{aa}(t) -\n",
    "        \\frac{\\beta_s}{N} S(t) I_s(t) - \\frac{\\beta_{as}}{N} S(t)\n",
    "        I_{as}(t) - \\frac{\\beta_{aas}}{N} S(t) I_{aas}(t) -\n",
    "        \\frac{\\beta_{ss}}{N} S(t) I_{ss}(t)) \\\\\n",
    "    \\frac{dE(t)}{dt} &= -\\gamma_E E(t) + C(\n",
    "        \\frac{\\beta_a}{N} S(t) I_a(t) + \\frac{\\beta_{aa}}{N} S(t)\n",
    "        I_{aa}(t) + \\frac{\\beta_s}{N} S(t) I_s(t) +\n",
    "        \\frac{\\beta_{as}}{N} S(t) I_{as}(t) + \\frac{\\beta_{aas}}{N}\n",
    "        S(t) I_{aas}(t) + \\frac{\\beta_{ss}}{N} S(t) I_{ss}(t)) \\\\\n",
    "    \\frac{dI_a(t)}{dt} &= (1 - P_{ss}) \\gamma_E E(t) -\n",
    "        \\gamma_s I_a(t) \\\\\n",
    "    \\frac{dI_{aa}(t)}{dt} &= P_a \\gamma_s I_a(t) -\n",
    "        \\gamma_{ra} I_{aa}(t) \\\\\n",
    "    \\frac{dI_s(t)}{dt} &= (1 - P_a) \\gamma_s I_a(t) -\n",
    "        \\gamma_q I_s(t) \\\\\n",
    "    \\frac{dI_{as}(t)}{dt} &= P_{ss} \\gamma_E E(t) -\n",
    "        \\gamma_s I_{as}(t) \\\\\n",
    "    \\frac{dI_{aas}(t)}{dt} &= P_a \\gamma_s I_{as}(t) -\n",
    "        \\gamma_{ra} I_{aas}(t) \\\\\n",
    "    \\frac{dI_{ss}(t)}{dt} &= (1 - P_a) \\gamma_s I_{as}(t) -\n",
    "        \\gamma_q I_{ss}(t) \\\\\n",
    "    \\frac{dI_q(t)}{dt} &= \\gamma_q I_{ss}(t) + \\gamma_q I_s(t) -\n",
    "        \\gamma_r I_q(t)\\\\\n",
    "    \\frac{dR(t)}{dt} &= (1 - P_d) \\gamma_r I_q(t) \\\\\n",
    "    \\frac{dR_a(t)}{dt} &= \\gamma_{ra} I_{aas}(t) +\n",
    "        \\gamma_{ra} I_{aa}(t) \\\\\n",
    "    \\frac{dD(t)}{dt} &= P_d \\gamma_r I_q(t)\n",
    "\\end{align*}\n",
    "$\n",
    "\n",
    "becomes\n",
    "\n",
    "$$\n",
    "\\begin{align*}\n",
    "    \\frac{dS(t)}{dt} &= - \\beta I(t) S(t) \\\\\n",
    "    \\frac{dE(t)}{dt} &= \\beta I(t) S(t) - \\kappa E(t) \\\\\n",
    "    \\frac{dI(t)}{dt} &= \\kappa E(t) - \\gamma I(t) \\\\\n",
    "    \\frac{dR(t)}{dt} &= \\gamma I(t)\n",
    "\\end{align*}\n",
    "$$\n",
    "\n",
    "We have multiple infectious compartments in the Roche model: asymptomatic, symptomatic, quarantined and presymptomatic, normal or superspreader, compared to only one in the SEIR one. Similarly, the Roche model distinguishes between recovered individuals that were symptomatic or asymptomatic during their infectious period. Moreover the Roche model also includes a compartment for the dead, not present in the simple SEIR model.\n",
    "\n",
    "The flow into each of these compartments is regulated through the parameters $P_a$, $P_ss$ and $P_d$.\n",
    "\n",
    "The transmission rates into the exposed comparment in the Roche model are hard-coded to be computed as:\n",
    "$\n",
    "\\begin{align*}\n",
    "    \\beta_a &= \\beta_{aa} = \\frac{\\beta_s}{2} \\\\\n",
    "    \\beta_{as} &= \\beta_{aas} = \\frac{\\beta_{ss}}{2} \\\\\n",
    "    \\beta_{s} &= \\beta_{max} - (\\beta_{max} - \\beta_{min})\\frac{\n",
    "        SI^\\gamma}{SI^\\gamma + SI_{50}^\\gamma} \\\\\n",
    "    \\beta_{as} &= (1 + b_{ss})\\beta_a \\\\\n",
    "    \\beta_{aas} &= (1 + b_{ss})\\beta_{aa} \\\\\n",
    "    \\beta_{ss} &= (1 + b_{ss})\\beta_s \\\\\n",
    "\\end{align*}\n",
    "$\n",
    "\n",
    "Therefore, we cannot keep the asymptomatic and symptomatic. We will turn off the symptomatic transmission.\n",
    "\n",
    "We therefore need to turn down all the parameters related to symptomatic or super-spreader infections in order to account only for symptomatic infections:\n",
    "\n",
    "$P_{ss} = P_d = 0$ and $P_a = 1$.\n",
    "\n",
    "The Roche model ODE system will then look like:\n",
    "\n",
    "$\n",
    "\\begin{align*}\n",
    "    \\frac{dS(t)}{dt} &= C(- \\frac{\\beta_a}{N} S(t)\n",
    "        I_a(t) - \\frac{\\beta_{aa}}{N} S(t) I_{aa}(t) -\n",
    "        \\frac{\\beta_s}{N} S(t) I_s(t) - \\frac{\\beta_{as}}{N} S(t)\n",
    "        I_{as}(t) - \\frac{\\beta_{aas}}{N} S(t) I_{aas}(t) -\n",
    "        \\frac{\\beta_{ss}}{N} S(t) I_{ss}(t)) \\\\\n",
    "    \\frac{dE(t)}{dt} &= -\\gamma_E E(t) + C(\n",
    "        \\frac{\\beta_a}{N} S(t) I_a(t) + \\frac{\\beta_{aa}}{N} S(t)\n",
    "        I_{aa}(t) + \\frac{\\beta_s}{N} S(t) I_s(t) +\n",
    "        \\frac{\\beta_{as}}{N} S(t) I_{as}(t) + \\frac{\\beta_{aas}}{N}\n",
    "        S(t) I_{aas}(t) + \\frac{\\beta_{ss}}{N} S(t) I_{ss}(t)) \\\\\n",
    "    \\frac{dI_a(t)}{dt} &= \\gamma_E E(t) - \\gamma_s I_a(t) \\\\\n",
    "    \\frac{dI_{aa}(t)}{dt} &= \\gamma_s I_a(t) - \\gamma_{ra} I_{aa}(t)\\\\\n",
    "    \\frac{dI_s(t)}{dt} &= - \\gamma_q I_s(t) \\\\\n",
    "    \\frac{dI_{as}(t)}{dt} &= - \\gamma_s I_{as}(t) \\\\\n",
    "    \\frac{dI_{aas}(t)}{dt} &= \\gamma_s I_{as}(t) - \\gamma_{ra} I_{aas}(t) \\\\\n",
    "    \\frac{dI_{ss}(t)}{dt} &= - \\gamma_q I_{ss}(t) \\\\\n",
    "    \\frac{dI_q(t)}{dt} &= \\gamma_q I_{ss}(t) + \\gamma_q I_s(t) -\n",
    "        \\gamma_r I_q(t)\\\\\n",
    "    \\frac{dR(t)}{dt} &= \\gamma_r I_q(t) \\\\\n",
    "    \\frac{dR_a(t)}{dt} &= \\gamma_{ra} I_{aas}(t) +\n",
    "        \\gamma_{ra} I_{aa}(t) \\\\\n",
    "    \\frac{dD(t)}{dt} &= 0\n",
    "\\end{align*}\n",
    "$\n",
    "\n",
    "The previous set of ODEs indicate that we have a constant number of dead. To turn off completely this compartment, along with all the other symptomatic recovered and symptomatic normal, quarantined and all super-spreader infectives ones, we impose constrained initial conditions:\n",
    "\n",
    "$$\n",
    "I_s(0) = I_{as}(0) = I_{aas}(0) = I_{ss}(0) = I_q(0) = R(0) = D(0) = 0\n",
    "$$\n",
    "\n",
    "These assumption conlcude that $I_s(t) = I_{as}(t) = I_{aas}(t) = I_{ss}(t) = I_q(t) = R(t) = D(t) = 0, \\forall t$. Thus, the final form of the Roche model looks like:\n",
    "\n",
    "$\n",
    "\\begin{align*}\n",
    "    \\frac{dS(t)}{dt} &= C(- \\frac{\\beta_a}{N} S(t)\n",
    "        I_a(t) - \\frac{\\beta_{aa}}{N} S(t) I_{aa}(t)) \\\\\n",
    "    \\frac{dE(t)}{dt} &= -\\gamma_E E(t) + C(\n",
    "        \\frac{\\beta_a}{N} S(t) I_a(t) +  \\frac{\\beta_{aa}}{N} S(t) I_{aa}(t)) \\\\\n",
    "    \\frac{dI_a(t)}{dt} &= \\gamma_E E(t) - \\gamma_s I_a(t) \\\\\n",
    "    \\frac{dI_{aa}(t)}{dt} &= \\gamma_s I_a(t) - \\gamma_{ra} I_{aa}(t) \\\\\n",
    "    \\frac{dR_a(t)}{dt} &= \\gamma_{ra} I_{aa}(t)\n",
    "\\end{align*}\n",
    "$\n",
    "\n",
    "We still are left with 2 infectious compartments: presymptomatic ($I_a$) and asymptomatic ($I_{aa}$). This is good as we assume in the Roche model there are no differences in transmission of the virus between asymptomatic and presymptomatic cases, i.e. $\\beta_a = \\beta_{aa}$. Hence we will assume a collapse of this structure, by using the following notation: $I(t) = I_a(t) + I_{aa}(t)$ and $R(t) = R_a(t)$. The compressed Roche model becomes (drop the subscript for R):\n",
    "\n",
    "$\n",
    "\\begin{align*}\n",
    "    \\frac{dS(t)}{dt} &= - C \\frac{\\beta_a}{N} S(t) (I_a(t) + I_{aa}(t)) = - C \\frac{\\beta_a}{N} S(t) I(t) =\n",
    "         - C \\frac{\\beta_s}{2N} S(t) I(t) \\\\\n",
    "    \\frac{dE(t)}{dt} &= -\\gamma_E E(t) + C \\frac{\\beta_s}{2N} S(t) I(t) \\\\\n",
    "    \\frac{dI(t)}{dt} &= \\gamma_E E(t) - \\gamma_{ra} I_{aa}(t) \\\\\n",
    "    \\frac{dR(t)}{dt} &= \\gamma_{ra} I_{aa}(t)\n",
    "\\end{align*}\n",
    "$\n",
    "\n",
    "We deal now with the other parameters of the model:\n",
    "$\n",
    "\\begin{align*}\n",
    "    \\gamma_E &= \\frac{1}{k} \\\\\n",
    "    \\gamma_s &= \\frac{1}{k_s} \\\\\n",
    "    \\gamma_q &= \\frac{1}{k_q} \\\\\n",
    "    \\gamma_r &= \\frac{1}{k_r} \\\\\n",
    "    \\gamma_{ra} &= \\frac{1}{k_{ri}} \\\\\n",
    "\\end{align*}\n",
    "$\n",
    "\n",
    "Also, since the rate of transmission between the compartments are defined as the inverse of the average time spent in the compartment, the system of equations of the Roche model illustrate that an individual spends on average in each of the infectious compartments are:\n",
    "\n",
    "$I_a$ and $I_{aa}$: $k_s$ and $k_{ri}$ respectively, so a total average of $k_s + k_{ri}$ as infectious.\n",
    "\n",
    "Hence, for the SEIR model, the parameters are defined as:\n",
    "\n",
    "$\n",
    "\\begin{align*}\n",
    "    \\beta &= C \\frac{\\beta_s}{2N} = C \\frac{\\beta_{max} - (\\beta_{max} - \\beta_{min})\\frac{\n",
    "            SI^\\gamma}{SI^\\gamma + SI_{50}^\\gamma}}{2N} \\\\\n",
    "    \\kappa &= \\gamma_E =  \\frac{1}{k}\\\\\n",
    "    \\gamma &= \\frac{1}{k_s + k_{ri}}\n",
    "\\end{align*}\n",
    "$\n",
    "\n",
    "Moreover, since the parameters of the SEIR model are time-independent, so must be the transition rates in the Roche model. Hence no change is taken in the levels of the NPIs present.\n",
    "\n",
    "*The Roche model is built by F. Hoffmann-La Roche Ltd.*"
   ]
  },
  {
   "cell_type": "code",
   "execution_count": 1,
   "metadata": {},
   "outputs": [],
   "source": [
    "# Load necessary libraries\n",
    "import numpy as np\n",
    "import pandas as pd\n",
    "from scipy.integrate import solve_ivp\n",
    "import epimodels as em\n",
    "import pints\n",
    "import matplotlib\n",
    "import plotly.graph_objects as go\n",
    "from matplotlib import pyplot as plt\n",
    "from iteration_utilities import deepflatten"
   ]
  },
  {
   "cell_type": "markdown",
   "metadata": {},
   "source": [
    "## Model Setup\n",
    "### Define setup matrices for the PHE Model"
   ]
  },
  {
   "cell_type": "code",
   "execution_count": 2,
   "metadata": {},
   "outputs": [],
   "source": [
    "# Populate the model\n",
    "total_days =  90\n",
    "regions = ['SW']\n",
    "age_groups = ['0-75+']\n",
    "\n",
    "matrices_region = []\n",
    "\n",
    "### Fixed\n",
    "# Initial state of the system\n",
    "weeks_matrices_region = []\n",
    "for r in regions:\n",
    "    path = os.path.join('../../data/final_contact_matrices/BASE.csv')\n",
    "    region_data_matrix = np.average(pd.read_csv(path, header=None, dtype=np.float64)) * np.ones((len(age_groups), len(age_groups)))\n",
    "    regional = em.RegionMatrix(r, age_groups, region_data_matrix)\n",
    "    weeks_matrices_region.append(regional)\n",
    "\n",
    "matrices_region.append(weeks_matrices_region)\n",
    "\n",
    "contacts = em.ContactMatrix(age_groups, np.ones((len(age_groups), len(age_groups))))\n",
    "matrices_contact = [contacts]\n",
    "\n",
    "# Matrices contact\n",
    "time_changes_contact = [1]\n",
    "time_changes_region = [1]\n",
    "\n",
    "# NPIs data\n",
    "max_levels_npi = [3, 3, 2, 4, 2, 3, 2, 4, 2]\n",
    "targeted_npi = [True, True, True, True, True, True, True, False, True]\n",
    "general_npi = [True, False, True, True, False, False, False, False, False]\n",
    "reg_levels_npi = [\n",
    "    [[0, 0, 0, 0, 0, 0, 0, 0, 0]]]\n",
    "time_changes_npi = [1]"
   ]
  },
  {
   "cell_type": "markdown",
   "metadata": {},
   "source": [
    "### Set the parameters and initial conditions of the model and bundle everything together"
   ]
  },
  {
   "cell_type": "code",
   "execution_count": 3,
   "metadata": {},
   "outputs": [],
   "source": [
    "# Instantiate model\n",
    "roche_model = em.RocheSEIRModel()\n",
    "\n",
    "# Set the region names, contact and regional data of the model\n",
    "roche_model.set_regions(regions)\n",
    "roche_model.set_age_groups(age_groups)\n",
    "roche_model.read_contact_data(matrices_contact, time_changes_contact)\n",
    "roche_model.read_regional_data(matrices_region, time_changes_region)\n",
    "roche_model.read_npis_data(max_levels_npi, targeted_npi, general_npi, reg_levels_npi, time_changes_npi)\n",
    "\n",
    "# Set ICs parameters\n",
    "ICs = em.RocheICs(\n",
    "    model=roche_model,\n",
    "    susceptibles_IC=[[5624696]],\n",
    "    exposed_IC=[[0]],\n",
    "    infectives_pre_IC=[[50]],\n",
    "    infectives_asym_IC=[[20]],\n",
    "    infectives_sym_IC=[[0]],\n",
    "    infectives_pre_ss_IC=[[0]],\n",
    "    infectives_asym_ss_IC=[[0]],\n",
    "    infectives_sym_ss_IC=[[0]],\n",
    "    infectives_q_IC=[[0]],\n",
    "    recovered_IC=[[0]],\n",
    "    recovered_asym_IC=[[0]],\n",
    "    dead_IC=[[0]]\n",
    ")\n",
    "\n",
    "# Set average times in compartments\n",
    "compartment_times = em.RocheCompartmentTimes(\n",
    "    model=roche_model,\n",
    "    k=3.43,\n",
    "    kS=2.57,\n",
    "    kQ=1,\n",
    "    kR=9,\n",
    "    kRI=10\n",
    ")\n",
    "\n",
    "# Set proportion of asymptomatic, super-spreader and dead cases\n",
    "proportion_parameters = em.RocheProportions(\n",
    "    model=roche_model,\n",
    "    Pa=1,\n",
    "    Pss=0,\n",
    "    Pd=0\n",
    ")\n",
    "\n",
    "# Set transmission parameters\n",
    "transmission_parameters = em.RocheTransmission(\n",
    "    model=roche_model,\n",
    "    beta_min=0.228,\n",
    "    beta_max=0.927,\n",
    "    bss=3.11,\n",
    "    gamma=1,\n",
    "    s50=35.3\n",
    ")\n",
    "\n",
    "# Set other simulation parameters\n",
    "simulation_parameters = em.RocheSimParameters(\n",
    "    model=roche_model,\n",
    "    region_index=1,\n",
    "    method='RK45',\n",
    "    times=np.arange(1, total_days, 1).tolist()\n",
    ")\n",
    "\n",
    "# Set all parameters in the controller\n",
    "roche_parameters = em.RocheParametersController(\n",
    "    model=roche_model,\n",
    "    ICs=ICs,\n",
    "    compartment_times=compartment_times,\n",
    "    proportion_parameters=proportion_parameters,\n",
    "    transmission_parameters=transmission_parameters,\n",
    "    simulation_parameters=simulation_parameters\n",
    ")"
   ]
  },
  {
   "cell_type": "markdown",
   "metadata": {},
   "source": [
    "### Define SEIR model"
   ]
  },
  {
   "cell_type": "code",
   "execution_count": 4,
   "metadata": {},
   "outputs": [],
   "source": [
    "class SEIRModel(pints.ForwardModel):\n",
    "    r\"\"\"\n",
    "    ODE model: deterministic SEIR\n",
    "    The SEIR Model has four compartments:\n",
    "    susceptible individuals (:math:`S`),\n",
    "    exposed but not yet infectious (:math:`E`),\n",
    "    infectious (:math:`I`) and recovered (:math:`R`):\n",
    "\n",
    "    .. math::\n",
    "        \\frac{dS(t)}{dt} = -\\beta S(t)I(t),\n",
    "    .. math::\n",
    "        \\frac{dE(t)}{dt} = \\beta S(t)I(t) - \\kappa E(t),\n",
    "    .. math::\n",
    "        \\frac{dI(t)}{dt} = \\kappa E(t) - \\gamma I(t),\n",
    "    .. math::\n",
    "        \\frac{dR(t)}{dt} = \\gamma I(t),\n",
    "\n",
    "    where :math:`S(0) = S_0, E(0) = E_0, I(O) = I_0, R(0) = R_0`\n",
    "    are also parameters of the model.\n",
    "\n",
    "    Extends :class:`ForwardModel`.\n",
    "    \"\"\"\n",
    "\n",
    "    def __init__(self):\n",
    "        super(SEIRModel, self).__init__()\n",
    "\n",
    "        # Assign default values\n",
    "        self._output_names = ['S', 'E', 'I', 'R', 'Incidence']\n",
    "        self._parameter_names = [\n",
    "            'S0', 'E0', 'I0', 'R0', 'alpha', 'beta', 'gamma'\n",
    "        ]\n",
    "        # The default number of outputs is 5,\n",
    "        # i.e. S, E, I, R and Incidence\n",
    "        self._n_outputs = len(self._output_names)\n",
    "        # The default number of outputs is 7,\n",
    "        # i.e. 4 initial conditions and 3 parameters\n",
    "        self._n_parameters = len(self._parameter_names)\n",
    "\n",
    "        self._output_indices = np.arange(self._n_outputs)\n",
    "\n",
    "    def n_outputs(self):\n",
    "        # Return the number of outputs\n",
    "        return self._n_outputs\n",
    "\n",
    "    def n_parameters(self):\n",
    "        # Return the number of parameters\n",
    "        return self._n_parameters\n",
    "\n",
    "    def output_names(self):\n",
    "        # Return the (selected) output names\n",
    "        names = [self._output_names[x] for x in self._output_indices]\n",
    "        return names\n",
    "\n",
    "    def parameter_names(self):\n",
    "        # Return the parameter names\n",
    "        return self._parameter_names\n",
    "\n",
    "    def set_outputs(self, outputs):\n",
    "        # Check existence of outputs\n",
    "        for output in outputs:\n",
    "            if output not in self._output_names:\n",
    "                raise ValueError(\n",
    "                    'The output names specified must be in correct forms')\n",
    "\n",
    "        output_indices = []\n",
    "        for output_id, output in enumerate(self._output_names):\n",
    "            if output in outputs:\n",
    "                output_indices.append(output_id)\n",
    "\n",
    "        # Remember outputs\n",
    "        self._output_indices = output_indices\n",
    "        self._n_outputs = len(outputs)\n",
    "\n",
    "    def _right_hand_side(self, t, y, c):\n",
    "        # Assuming y = [S, E, I, R] (the dependent variables in the model)\n",
    "        # Assuming the parameters are ordered like\n",
    "        # parameters = [S0, E0, I0, R0, beta, kappa, gamma]\n",
    "        # Let c = [beta, kappa, gamma]\n",
    "        #  = [parameters[0], parameters[1], parameters[2]],\n",
    "        # then beta = c[0], kappa = c[1], gamma = c[2]\n",
    "\n",
    "        # Construct the derivative functions of the system of ODEs\n",
    "\n",
    "        s, e, i, _ = y\n",
    "        beta, kappa, gamma = c\n",
    "        dydt = [-beta * s * i, beta * s * i - kappa * e,\n",
    "                kappa * e - gamma * i, gamma * i]\n",
    "\n",
    "        return dydt\n",
    "\n",
    "    def simulate(self, parameters, times):\n",
    "\n",
    "        # Define time spans, initial conditions, and constants\n",
    "        y_init = parameters[:4]\n",
    "        c = parameters[4:]\n",
    "\n",
    "        # Solve the system of ODEs\n",
    "        sol = solve_ivp(lambda t, y: self._right_hand_side(t, y, c),\n",
    "                        [times[0], times[-1]], y_init, t_eval=times)\n",
    "\n",
    "        output = sol['y']\n",
    "\n",
    "        # Total infected is infectious 'i' plus recovered 'r'\n",
    "        total_infected = output[2, :] + output[3, :]\n",
    "\n",
    "        # Number of incidences is the increase in total_infected\n",
    "        # between the time points (add a 0 at the front to\n",
    "        # make the length consistent with the solution\n",
    "        n_incidence = np.zeros(len(times))\n",
    "        n_incidence[1:] = total_infected[1:] - total_infected[:-1]\n",
    "\n",
    "        # Append n_incidence to output\n",
    "        # Output is a matrix with rows being S, E, I, R and Incidence\n",
    "        output = np.vstack(tup=(output, n_incidence))\n",
    "\n",
    "        # Get the selected outputs\n",
    "        output = output[self._output_indices, :]\n",
    "\n",
    "        return output.transpose()\n"
   ]
  },
  {
   "cell_type": "markdown",
   "metadata": {},
   "source": [
    "### Set the parameters and initial conditions of the model and bundle everything together"
   ]
  },
  {
   "cell_type": "code",
   "execution_count": 5,
   "metadata": {},
   "outputs": [
    {
     "name": "stderr",
     "output_type": "stream",
     "text": [
      "<ipython-input-5-2d49edfc563c>:5: DeprecationWarning: `np.int` is a deprecated alias for the builtin `int`. To silence this warning, use `int` by itself. Doing this will not modify any behavior and is safe. When replacing `np.int`, you may wish to use e.g. `np.int64` or `np.int32` to specify the precision. If you wish to review your current use, check the release note link for additional information.\n",
      "Deprecated in NumPy 1.20; for more details and guidance: https://numpy.org/devdocs/release/1.20.0-notes.html#deprecations\n",
      "  S0 = np.int(np.asarray(roche_parameters.ICs.susceptibles))\n",
      "<ipython-input-5-2d49edfc563c>:6: DeprecationWarning: `np.int` is a deprecated alias for the builtin `int`. To silence this warning, use `int` by itself. Doing this will not modify any behavior and is safe. When replacing `np.int`, you may wish to use e.g. `np.int64` or `np.int32` to specify the precision. If you wish to review your current use, check the release note link for additional information.\n",
      "Deprecated in NumPy 1.20; for more details and guidance: https://numpy.org/devdocs/release/1.20.0-notes.html#deprecations\n",
      "  E0 = np.int(np.asarray(roche_parameters.ICs.exposed))\n",
      "<ipython-input-5-2d49edfc563c>:7: DeprecationWarning: `np.int` is a deprecated alias for the builtin `int`. To silence this warning, use `int` by itself. Doing this will not modify any behavior and is safe. When replacing `np.int`, you may wish to use e.g. `np.int64` or `np.int32` to specify the precision. If you wish to review your current use, check the release note link for additional information.\n",
      "Deprecated in NumPy 1.20; for more details and guidance: https://numpy.org/devdocs/release/1.20.0-notes.html#deprecations\n",
      "  I0 = np.int(np.asarray(roche_parameters.ICs.infectives_pre)) + np.int(np.asarray(roche_parameters.ICs.infectives_asym))\n",
      "<ipython-input-5-2d49edfc563c>:8: DeprecationWarning: `np.int` is a deprecated alias for the builtin `int`. To silence this warning, use `int` by itself. Doing this will not modify any behavior and is safe. When replacing `np.int`, you may wish to use e.g. `np.int64` or `np.int32` to specify the precision. If you wish to review your current use, check the release note link for additional information.\n",
      "Deprecated in NumPy 1.20; for more details and guidance: https://numpy.org/devdocs/release/1.20.0-notes.html#deprecations\n",
      "  R0 = np.int(np.asarray(roche_parameters.ICs.recovered_asym))\n",
      "<ipython-input-5-2d49edfc563c>:10: DeprecationWarning: `np.int` is a deprecated alias for the builtin `int`. To silence this warning, use `int` by itself. Doing this will not modify any behavior and is safe. When replacing `np.int`, you may wish to use e.g. `np.int64` or `np.int32` to specify the precision. If you wish to review your current use, check the release note link for additional information.\n",
      "Deprecated in NumPy 1.20; for more details and guidance: https://numpy.org/devdocs/release/1.20.0-notes.html#deprecations\n",
      "  total_pop = np.int(np.asarray(roche_parameters.ICs.susceptibles))+ np.int(np.asarray(roche_parameters.ICs.exposed))+ \\\n",
      "<ipython-input-5-2d49edfc563c>:11: DeprecationWarning: `np.int` is a deprecated alias for the builtin `int`. To silence this warning, use `int` by itself. Doing this will not modify any behavior and is safe. When replacing `np.int`, you may wish to use e.g. `np.int64` or `np.int32` to specify the precision. If you wish to review your current use, check the release note link for additional information.\n",
      "Deprecated in NumPy 1.20; for more details and guidance: https://numpy.org/devdocs/release/1.20.0-notes.html#deprecations\n",
      "  + np.int(np.asarray(roche_parameters.ICs.infectives_pre))+ np.int(np.asarray(roche_parameters.ICs.infectives_asym))+ \\\n",
      "<ipython-input-5-2d49edfc563c>:12: DeprecationWarning: `np.int` is a deprecated alias for the builtin `int`. To silence this warning, use `int` by itself. Doing this will not modify any behavior and is safe. When replacing `np.int`, you may wish to use e.g. `np.int64` or `np.int32` to specify the precision. If you wish to review your current use, check the release note link for additional information.\n",
      "Deprecated in NumPy 1.20; for more details and guidance: https://numpy.org/devdocs/release/1.20.0-notes.html#deprecations\n",
      "  + np.int(np.asarray(roche_parameters.ICs.infectives_sym))+ np.int(np.asarray(roche_parameters.ICs.infectives_pre_ss))+ \\\n",
      "<ipython-input-5-2d49edfc563c>:13: DeprecationWarning: `np.int` is a deprecated alias for the builtin `int`. To silence this warning, use `int` by itself. Doing this will not modify any behavior and is safe. When replacing `np.int`, you may wish to use e.g. `np.int64` or `np.int32` to specify the precision. If you wish to review your current use, check the release note link for additional information.\n",
      "Deprecated in NumPy 1.20; for more details and guidance: https://numpy.org/devdocs/release/1.20.0-notes.html#deprecations\n",
      "  + np.int(np.asarray(roche_parameters.ICs.infectives_asym_ss))+ np.int(np.asarray(roche_parameters.ICs.infectives_sym_ss))+ \\\n",
      "<ipython-input-5-2d49edfc563c>:14: DeprecationWarning: `np.int` is a deprecated alias for the builtin `int`. To silence this warning, use `int` by itself. Doing this will not modify any behavior and is safe. When replacing `np.int`, you may wish to use e.g. `np.int64` or `np.int32` to specify the precision. If you wish to review your current use, check the release note link for additional information.\n",
      "Deprecated in NumPy 1.20; for more details and guidance: https://numpy.org/devdocs/release/1.20.0-notes.html#deprecations\n",
      "  + np.int(np.asarray(roche_parameters.ICs.infectives_q))+ np.int(np.asarray(roche_parameters.ICs.recovered))+ \\\n",
      "<ipython-input-5-2d49edfc563c>:15: DeprecationWarning: `np.int` is a deprecated alias for the builtin `int`. To silence this warning, use `int` by itself. Doing this will not modify any behavior and is safe. When replacing `np.int`, you may wish to use e.g. `np.int64` or `np.int32` to specify the precision. If you wish to review your current use, check the release note link for additional information.\n",
      "Deprecated in NumPy 1.20; for more details and guidance: https://numpy.org/devdocs/release/1.20.0-notes.html#deprecations\n",
      "  + np.int(np.asarray(roche_parameters.ICs.recovered_asym))+ np.int(np.asarray(roche_parameters.ICs.dead))\n",
      "<ipython-input-5-2d49edfc563c>:25: DeprecationWarning: `np.float` is a deprecated alias for the builtin `float`. To silence this warning, use `float` by itself. Doing this will not modify any behavior and is safe. If you specifically wanted the numpy scalar type, use `np.float64` here.\n",
      "Deprecated in NumPy 1.20; for more details and guidance: https://numpy.org/devdocs/release/1.20.0-notes.html#deprecations\n",
      "  denominator = np.float(np.asarray(roche_model.matrices_region[0][0]._data)) * beta_s\n"
     ]
    }
   ],
   "source": [
    "# Instantiate model\n",
    "seir_model = SEIRModel()\n",
    "\n",
    "# Set all parameters\n",
    "S0 = np.int(np.asarray(roche_parameters.ICs.susceptibles))\n",
    "E0 = np.int(np.asarray(roche_parameters.ICs.exposed))\n",
    "I0 = np.int(np.asarray(roche_parameters.ICs.infectives_pre)) + np.int(np.asarray(roche_parameters.ICs.infectives_asym))\n",
    "R0 = np.int(np.asarray(roche_parameters.ICs.recovered_asym))\n",
    "\n",
    "total_pop = np.int(np.asarray(roche_parameters.ICs.susceptibles))+ np.int(np.asarray(roche_parameters.ICs.exposed))+ \\\n",
    "                + np.int(np.asarray(roche_parameters.ICs.infectives_pre))+ np.int(np.asarray(roche_parameters.ICs.infectives_asym))+ \\\n",
    "                + np.int(np.asarray(roche_parameters.ICs.infectives_sym))+ np.int(np.asarray(roche_parameters.ICs.infectives_pre_ss))+ \\\n",
    "                + np.int(np.asarray(roche_parameters.ICs.infectives_asym_ss))+ np.int(np.asarray(roche_parameters.ICs.infectives_sym_ss))+ \\\n",
    "                + np.int(np.asarray(roche_parameters.ICs.infectives_q))+ np.int(np.asarray(roche_parameters.ICs.recovered))+ \\\n",
    "                + np.int(np.asarray(roche_parameters.ICs.recovered_asym))+ np.int(np.asarray(roche_parameters.ICs.dead))\n",
    "\n",
    "SI = roche_model._compute_SI(1, 1)\n",
    "\n",
    "fraction = (SI ** roche_parameters.transmission_parameters.gamma) / \\\n",
    "    (roche_parameters.transmission_parameters.s50 ** roche_parameters.transmission_parameters.gamma + \\\n",
    "     SI ** roche_parameters.transmission_parameters.gamma)\n",
    "\n",
    "beta_s = roche_parameters.transmission_parameters.beta_max - fraction * (roche_parameters.transmission_parameters.beta_max - roche_parameters.transmission_parameters.beta_min)\n",
    "\n",
    "denominator = np.float(np.asarray(roche_model.matrices_region[0][0]._data)) * beta_s\n",
    "\n",
    "beta = denominator / (2 * total_pop)\n",
    "kappa = 1/roche_parameters.compartment_times.k\n",
    "gamma = 1/(roche_parameters.compartment_times.kS + roche_parameters.compartment_times.kRI)\n",
    "\n",
    "seir_parameters = [S0, E0, I0, R0, beta, kappa, gamma]"
   ]
  },
  {
   "cell_type": "markdown",
   "metadata": {},
   "source": [
    "### Simulate for one of the regions: **South West**"
   ]
  },
  {
   "cell_type": "code",
   "execution_count": 6,
   "metadata": {},
   "outputs": [],
   "source": [
    "# Simulate the PHE model using the ODE solver from scipy\n",
    "ext_output_roche_model = roche_model.simulate(roche_parameters)\n",
    "output_roche_model = np.stack((ext_output_roche_model[:, 0], ext_output_roche_model[:, 1], ext_output_roche_model[:, 2] + ext_output_roche_model[:, 3], ext_output_roche_model[:, -3], ext_output_roche_model[:, -1]), axis=1)\n",
    "\n",
    "# Simulate the SEIR model using the ODE solver from scipy\n",
    "output_seir_model = seir_model.simulate(seir_parameters, times=roche_parameters.simulation_parameters.times)"
   ]
  },
  {
   "cell_type": "markdown",
   "metadata": {},
   "source": [
    "## Plot the comparments of the two models against each other\n",
    "### Setup ``plotly`` and default settings for plotting"
   ]
  },
  {
   "cell_type": "code",
   "execution_count": 7,
   "metadata": {},
   "outputs": [],
   "source": [
    "from plotly.subplots import make_subplots\n",
    "\n",
    "colours = ['blue', 'red', 'green', 'purple', 'orange', 'black', 'gray', 'pink']\n",
    "\n",
    "# Group outputs together\n",
    "outputs = [output_roche_model, output_seir_model]"
   ]
  },
  {
   "cell_type": "markdown",
   "metadata": {},
   "source": [
    "### Plot the comparments of the two models against each other"
   ]
  },
  {
   "cell_type": "code",
   "execution_count": 8,
   "metadata": {},
   "outputs": [
    {
     "data": {
      "application/vnd.plotly.v1+json": {
       "config": {
        "plotlyServerURL": "https://plot.ly"
       },
       "data": [
        {
         "line": {
          "color": "blue"
         },
         "mode": "lines",
         "name": "Roche model",
         "type": "scatter",
         "x": [
          1,
          2,
          3,
          4,
          5,
          6,
          7,
          8,
          9,
          10,
          11,
          12,
          13,
          14,
          15,
          16,
          17,
          18,
          19,
          20,
          21,
          22,
          23,
          24,
          25,
          26,
          27,
          28,
          29,
          30,
          31,
          32,
          33,
          34,
          35,
          36,
          37,
          38,
          39,
          40,
          41,
          42,
          43,
          44,
          45,
          46,
          47,
          48,
          49,
          50,
          51,
          52,
          53,
          54,
          55,
          56,
          57,
          58,
          59,
          60,
          61,
          62,
          63,
          64,
          65,
          66,
          67,
          68,
          69,
          70,
          71,
          72,
          73,
          74,
          75,
          76,
          77,
          78,
          79,
          80,
          81,
          82,
          83,
          84,
          85,
          86,
          87,
          88,
          89
         ],
         "y": [
          5624696,
          5624681.7410740275,
          5624667.438578123,
          5624652.70822082,
          5624637.230476979,
          5624620.734906581,
          5624602.983468991,
          5624583.760476769,
          5624562.861845368,
          5624540.081577584,
          5624515.215615958,
          5624488.0494203875,
          5624458.3494834,
          5624425.868603867,
          5624390.3457069695,
          5624351.4914051,
          5624308.986678809,
          5624262.481708678,
          5624211.60364591,
          5624155.949272954,
          5624095.069101172,
          5624028.467031542,
          5623955.600354667,
          5623875.879750768,
          5623788.652301135,
          5623693.212868295,
          5623588.830696367,
          5623474.676897748,
          5623349.822120257,
          5623213.236547126,
          5623063.7898970125,
          5622900.251423987,
          5622721.289917539,
          5622525.473702579,
          5622311.2706394335,
          5622077.046595005,
          5621820.981234295,
          5621540.967833319,
          5621234.666296701,
          5620899.508812932,
          5620532.699854363,
          5620131.216177205,
          5619691.806821532,
          5619210.99311128,
          5618685.068654245,
          5618110.099342086,
          5617481.880470136,
          5616794.854424586,
          5616043.327581744,
          5615221.36850457,
          5614322.3913003765,
          5613339.155620818,
          5612263.766661899,
          5611087.612933727,
          5609801.458049093,
          5608395.256141365,
          5606857.839330154,
          5605176.914336701,
          5603339.062483877,
          5601329.612421528,
          5599132.369730129,
          5596730.861441944,
          5594106.741311237,
          5591239.539856119,
          5588106.664358551,
          5584683.398864339,
          5580942.904183141,
          5576856.2178884605,
          5572392.254317651,
          5567517.587536293,
          5562195.391483037,
          5556385.411496696,
          5550043.8093649205,
          5543123.149155167,
          5535572.397214703,
          5527336.922170605,
          5518358.494929758,
          5508572.640553684,
          5497908.85657792,
          5486293.222208574,
          5473645.896758618,
          5459881.116796222,
          5444907.196144758,
          5428626.525882802,
          5410935.53121607,
          5391723.1588682635,
          5370872.585025691,
          5348260.884668762,
          5323758.267983453
         ]
        },
        {
         "line": {
          "color": "red"
         },
         "mode": "lines",
         "name": "SEIR model",
         "type": "scatter",
         "x": [
          1,
          2,
          3,
          4,
          5,
          6,
          7,
          8,
          9,
          10,
          11,
          12,
          13,
          14,
          15,
          16,
          17,
          18,
          19,
          20,
          21,
          22,
          23,
          24,
          25,
          26,
          27,
          28,
          29,
          30,
          31,
          32,
          33,
          34,
          35,
          36,
          37,
          38,
          39,
          40,
          41,
          42,
          43,
          44,
          45,
          46,
          47,
          48,
          49,
          50,
          51,
          52,
          53,
          54,
          55,
          56,
          57,
          58,
          59,
          60,
          61,
          62,
          63,
          64,
          65,
          66,
          67,
          68,
          69,
          70,
          71,
          72,
          73,
          74,
          75,
          76,
          77,
          78,
          79,
          80,
          81,
          82,
          83,
          84,
          85,
          86,
          87,
          88,
          89
         ],
         "y": [
          5624696,
          5624682.044368404,
          5624668.469570322,
          5624654.747406293,
          5624640.49007016,
          5624625.437230226,
          5624609.361975337,
          5624592.089699661,
          5624573.468060874,
          5624553.331122104,
          5624531.530314297,
          5624507.91938817,
          5624482.332072184,
          5624454.584290101,
          5624424.494115939,
          5624391.868670226,
          5624356.492648321,
          5624318.128442122,
          5624276.516034457,
          5624231.375658248,
          5624182.420496076,
          5624129.335390383,
          5624071.771138547,
          5624009.344492882,
          5623941.638160641,
          5623868.2008040175,
          5623788.54280344,
          5623702.091564352,
          5623608.320442355,
          5623506.661655464,
          5623396.469896551,
          5623277.022333344,
          5623147.5186084295,
          5623007.080839248,
          5622854.7536181025,
          5622689.504012148,
          5622510.221563398,
          5622315.715331171,
          5622104.648096468,
          5621875.758405159,
          5621627.673707997,
          5621358.8127891645,
          5621067.385766264,
          5620751.394090323,
          5620408.630545794,
          5620036.67894969,
          5619632.990715688,
          5619195.212932578,
          5618720.7472407995,
          5618206.595657705,
          5617649.360577572,
          5617045.244771593,
          5616390.051387881,
          5615679.183951468,
          5614907.717363628,
          5614071.127423377,
          5613164.558094289,
          5612182.378043691,
          5611118.180570476,
          5609964.78360511,
          5608714.229709627,
          5607357.786077631,
          5605885.983548554,
          5604290.011320916,
          5602560.967479134,
          5600688.450513307,
          5598660.53570855,
          5596463.775144997,
          5594083.197697798,
          5591502.309037119,
          5588703.181469306,
          5585669.052291041,
          5582383.641893986,
          5578827.922491175,
          5574979.987370012,
          5570815.050892259,
          5566305.448494042,
          5561420.636685851,
          5556127.647171762,
          5550396.7077432955,
          5544198.2679061,
          5537497.879125967,
          5530256.0773092015,
          5522428.382802621,
          5513965.300393557,
          5504812.319309854,
          5494917.305957014,
          5484231.8143937895,
          5472695.8107501315
         ]
        }
       ],
       "layout": {
        "boxmode": "group",
        "plot_bgcolor": "white",
        "template": {
         "data": {
          "bar": [
           {
            "error_x": {
             "color": "#2a3f5f"
            },
            "error_y": {
             "color": "#2a3f5f"
            },
            "marker": {
             "line": {
              "color": "#E5ECF6",
              "width": 0.5
             },
             "pattern": {
              "fillmode": "overlay",
              "size": 10,
              "solidity": 0.2
             }
            },
            "type": "bar"
           }
          ],
          "barpolar": [
           {
            "marker": {
             "line": {
              "color": "#E5ECF6",
              "width": 0.5
             },
             "pattern": {
              "fillmode": "overlay",
              "size": 10,
              "solidity": 0.2
             }
            },
            "type": "barpolar"
           }
          ],
          "carpet": [
           {
            "aaxis": {
             "endlinecolor": "#2a3f5f",
             "gridcolor": "white",
             "linecolor": "white",
             "minorgridcolor": "white",
             "startlinecolor": "#2a3f5f"
            },
            "baxis": {
             "endlinecolor": "#2a3f5f",
             "gridcolor": "white",
             "linecolor": "white",
             "minorgridcolor": "white",
             "startlinecolor": "#2a3f5f"
            },
            "type": "carpet"
           }
          ],
          "choropleth": [
           {
            "colorbar": {
             "outlinewidth": 0,
             "ticks": ""
            },
            "type": "choropleth"
           }
          ],
          "contour": [
           {
            "colorbar": {
             "outlinewidth": 0,
             "ticks": ""
            },
            "colorscale": [
             [
              0,
              "#0d0887"
             ],
             [
              0.1111111111111111,
              "#46039f"
             ],
             [
              0.2222222222222222,
              "#7201a8"
             ],
             [
              0.3333333333333333,
              "#9c179e"
             ],
             [
              0.4444444444444444,
              "#bd3786"
             ],
             [
              0.5555555555555556,
              "#d8576b"
             ],
             [
              0.6666666666666666,
              "#ed7953"
             ],
             [
              0.7777777777777778,
              "#fb9f3a"
             ],
             [
              0.8888888888888888,
              "#fdca26"
             ],
             [
              1,
              "#f0f921"
             ]
            ],
            "type": "contour"
           }
          ],
          "contourcarpet": [
           {
            "colorbar": {
             "outlinewidth": 0,
             "ticks": ""
            },
            "type": "contourcarpet"
           }
          ],
          "heatmap": [
           {
            "colorbar": {
             "outlinewidth": 0,
             "ticks": ""
            },
            "colorscale": [
             [
              0,
              "#0d0887"
             ],
             [
              0.1111111111111111,
              "#46039f"
             ],
             [
              0.2222222222222222,
              "#7201a8"
             ],
             [
              0.3333333333333333,
              "#9c179e"
             ],
             [
              0.4444444444444444,
              "#bd3786"
             ],
             [
              0.5555555555555556,
              "#d8576b"
             ],
             [
              0.6666666666666666,
              "#ed7953"
             ],
             [
              0.7777777777777778,
              "#fb9f3a"
             ],
             [
              0.8888888888888888,
              "#fdca26"
             ],
             [
              1,
              "#f0f921"
             ]
            ],
            "type": "heatmap"
           }
          ],
          "heatmapgl": [
           {
            "colorbar": {
             "outlinewidth": 0,
             "ticks": ""
            },
            "colorscale": [
             [
              0,
              "#0d0887"
             ],
             [
              0.1111111111111111,
              "#46039f"
             ],
             [
              0.2222222222222222,
              "#7201a8"
             ],
             [
              0.3333333333333333,
              "#9c179e"
             ],
             [
              0.4444444444444444,
              "#bd3786"
             ],
             [
              0.5555555555555556,
              "#d8576b"
             ],
             [
              0.6666666666666666,
              "#ed7953"
             ],
             [
              0.7777777777777778,
              "#fb9f3a"
             ],
             [
              0.8888888888888888,
              "#fdca26"
             ],
             [
              1,
              "#f0f921"
             ]
            ],
            "type": "heatmapgl"
           }
          ],
          "histogram": [
           {
            "marker": {
             "pattern": {
              "fillmode": "overlay",
              "size": 10,
              "solidity": 0.2
             }
            },
            "type": "histogram"
           }
          ],
          "histogram2d": [
           {
            "colorbar": {
             "outlinewidth": 0,
             "ticks": ""
            },
            "colorscale": [
             [
              0,
              "#0d0887"
             ],
             [
              0.1111111111111111,
              "#46039f"
             ],
             [
              0.2222222222222222,
              "#7201a8"
             ],
             [
              0.3333333333333333,
              "#9c179e"
             ],
             [
              0.4444444444444444,
              "#bd3786"
             ],
             [
              0.5555555555555556,
              "#d8576b"
             ],
             [
              0.6666666666666666,
              "#ed7953"
             ],
             [
              0.7777777777777778,
              "#fb9f3a"
             ],
             [
              0.8888888888888888,
              "#fdca26"
             ],
             [
              1,
              "#f0f921"
             ]
            ],
            "type": "histogram2d"
           }
          ],
          "histogram2dcontour": [
           {
            "colorbar": {
             "outlinewidth": 0,
             "ticks": ""
            },
            "colorscale": [
             [
              0,
              "#0d0887"
             ],
             [
              0.1111111111111111,
              "#46039f"
             ],
             [
              0.2222222222222222,
              "#7201a8"
             ],
             [
              0.3333333333333333,
              "#9c179e"
             ],
             [
              0.4444444444444444,
              "#bd3786"
             ],
             [
              0.5555555555555556,
              "#d8576b"
             ],
             [
              0.6666666666666666,
              "#ed7953"
             ],
             [
              0.7777777777777778,
              "#fb9f3a"
             ],
             [
              0.8888888888888888,
              "#fdca26"
             ],
             [
              1,
              "#f0f921"
             ]
            ],
            "type": "histogram2dcontour"
           }
          ],
          "mesh3d": [
           {
            "colorbar": {
             "outlinewidth": 0,
             "ticks": ""
            },
            "type": "mesh3d"
           }
          ],
          "parcoords": [
           {
            "line": {
             "colorbar": {
              "outlinewidth": 0,
              "ticks": ""
             }
            },
            "type": "parcoords"
           }
          ],
          "pie": [
           {
            "automargin": true,
            "type": "pie"
           }
          ],
          "scatter": [
           {
            "marker": {
             "colorbar": {
              "outlinewidth": 0,
              "ticks": ""
             }
            },
            "type": "scatter"
           }
          ],
          "scatter3d": [
           {
            "line": {
             "colorbar": {
              "outlinewidth": 0,
              "ticks": ""
             }
            },
            "marker": {
             "colorbar": {
              "outlinewidth": 0,
              "ticks": ""
             }
            },
            "type": "scatter3d"
           }
          ],
          "scattercarpet": [
           {
            "marker": {
             "colorbar": {
              "outlinewidth": 0,
              "ticks": ""
             }
            },
            "type": "scattercarpet"
           }
          ],
          "scattergeo": [
           {
            "marker": {
             "colorbar": {
              "outlinewidth": 0,
              "ticks": ""
             }
            },
            "type": "scattergeo"
           }
          ],
          "scattergl": [
           {
            "marker": {
             "colorbar": {
              "outlinewidth": 0,
              "ticks": ""
             }
            },
            "type": "scattergl"
           }
          ],
          "scattermapbox": [
           {
            "marker": {
             "colorbar": {
              "outlinewidth": 0,
              "ticks": ""
             }
            },
            "type": "scattermapbox"
           }
          ],
          "scatterpolar": [
           {
            "marker": {
             "colorbar": {
              "outlinewidth": 0,
              "ticks": ""
             }
            },
            "type": "scatterpolar"
           }
          ],
          "scatterpolargl": [
           {
            "marker": {
             "colorbar": {
              "outlinewidth": 0,
              "ticks": ""
             }
            },
            "type": "scatterpolargl"
           }
          ],
          "scatterternary": [
           {
            "marker": {
             "colorbar": {
              "outlinewidth": 0,
              "ticks": ""
             }
            },
            "type": "scatterternary"
           }
          ],
          "surface": [
           {
            "colorbar": {
             "outlinewidth": 0,
             "ticks": ""
            },
            "colorscale": [
             [
              0,
              "#0d0887"
             ],
             [
              0.1111111111111111,
              "#46039f"
             ],
             [
              0.2222222222222222,
              "#7201a8"
             ],
             [
              0.3333333333333333,
              "#9c179e"
             ],
             [
              0.4444444444444444,
              "#bd3786"
             ],
             [
              0.5555555555555556,
              "#d8576b"
             ],
             [
              0.6666666666666666,
              "#ed7953"
             ],
             [
              0.7777777777777778,
              "#fb9f3a"
             ],
             [
              0.8888888888888888,
              "#fdca26"
             ],
             [
              1,
              "#f0f921"
             ]
            ],
            "type": "surface"
           }
          ],
          "table": [
           {
            "cells": {
             "fill": {
              "color": "#EBF0F8"
             },
             "line": {
              "color": "white"
             }
            },
            "header": {
             "fill": {
              "color": "#C8D4E3"
             },
             "line": {
              "color": "white"
             }
            },
            "type": "table"
           }
          ]
         },
         "layout": {
          "annotationdefaults": {
           "arrowcolor": "#2a3f5f",
           "arrowhead": 0,
           "arrowwidth": 1
          },
          "autotypenumbers": "strict",
          "coloraxis": {
           "colorbar": {
            "outlinewidth": 0,
            "ticks": ""
           }
          },
          "colorscale": {
           "diverging": [
            [
             0,
             "#8e0152"
            ],
            [
             0.1,
             "#c51b7d"
            ],
            [
             0.2,
             "#de77ae"
            ],
            [
             0.3,
             "#f1b6da"
            ],
            [
             0.4,
             "#fde0ef"
            ],
            [
             0.5,
             "#f7f7f7"
            ],
            [
             0.6,
             "#e6f5d0"
            ],
            [
             0.7,
             "#b8e186"
            ],
            [
             0.8,
             "#7fbc41"
            ],
            [
             0.9,
             "#4d9221"
            ],
            [
             1,
             "#276419"
            ]
           ],
           "sequential": [
            [
             0,
             "#0d0887"
            ],
            [
             0.1111111111111111,
             "#46039f"
            ],
            [
             0.2222222222222222,
             "#7201a8"
            ],
            [
             0.3333333333333333,
             "#9c179e"
            ],
            [
             0.4444444444444444,
             "#bd3786"
            ],
            [
             0.5555555555555556,
             "#d8576b"
            ],
            [
             0.6666666666666666,
             "#ed7953"
            ],
            [
             0.7777777777777778,
             "#fb9f3a"
            ],
            [
             0.8888888888888888,
             "#fdca26"
            ],
            [
             1,
             "#f0f921"
            ]
           ],
           "sequentialminus": [
            [
             0,
             "#0d0887"
            ],
            [
             0.1111111111111111,
             "#46039f"
            ],
            [
             0.2222222222222222,
             "#7201a8"
            ],
            [
             0.3333333333333333,
             "#9c179e"
            ],
            [
             0.4444444444444444,
             "#bd3786"
            ],
            [
             0.5555555555555556,
             "#d8576b"
            ],
            [
             0.6666666666666666,
             "#ed7953"
            ],
            [
             0.7777777777777778,
             "#fb9f3a"
            ],
            [
             0.8888888888888888,
             "#fdca26"
            ],
            [
             1,
             "#f0f921"
            ]
           ]
          },
          "colorway": [
           "#636efa",
           "#EF553B",
           "#00cc96",
           "#ab63fa",
           "#FFA15A",
           "#19d3f3",
           "#FF6692",
           "#B6E880",
           "#FF97FF",
           "#FECB52"
          ],
          "font": {
           "color": "#2a3f5f"
          },
          "geo": {
           "bgcolor": "white",
           "lakecolor": "white",
           "landcolor": "#E5ECF6",
           "showlakes": true,
           "showland": true,
           "subunitcolor": "white"
          },
          "hoverlabel": {
           "align": "left"
          },
          "hovermode": "closest",
          "mapbox": {
           "style": "light"
          },
          "paper_bgcolor": "white",
          "plot_bgcolor": "#E5ECF6",
          "polar": {
           "angularaxis": {
            "gridcolor": "white",
            "linecolor": "white",
            "ticks": ""
           },
           "bgcolor": "#E5ECF6",
           "radialaxis": {
            "gridcolor": "white",
            "linecolor": "white",
            "ticks": ""
           }
          },
          "scene": {
           "xaxis": {
            "backgroundcolor": "#E5ECF6",
            "gridcolor": "white",
            "gridwidth": 2,
            "linecolor": "white",
            "showbackground": true,
            "ticks": "",
            "zerolinecolor": "white"
           },
           "yaxis": {
            "backgroundcolor": "#E5ECF6",
            "gridcolor": "white",
            "gridwidth": 2,
            "linecolor": "white",
            "showbackground": true,
            "ticks": "",
            "zerolinecolor": "white"
           },
           "zaxis": {
            "backgroundcolor": "#E5ECF6",
            "gridcolor": "white",
            "gridwidth": 2,
            "linecolor": "white",
            "showbackground": true,
            "ticks": "",
            "zerolinecolor": "white"
           }
          },
          "shapedefaults": {
           "line": {
            "color": "#2a3f5f"
           }
          },
          "ternary": {
           "aaxis": {
            "gridcolor": "white",
            "linecolor": "white",
            "ticks": ""
           },
           "baxis": {
            "gridcolor": "white",
            "linecolor": "white",
            "ticks": ""
           },
           "bgcolor": "#E5ECF6",
           "caxis": {
            "gridcolor": "white",
            "linecolor": "white",
            "ticks": ""
           }
          },
          "title": {
           "x": 0.05
          },
          "xaxis": {
           "automargin": true,
           "gridcolor": "white",
           "linecolor": "white",
           "ticks": "",
           "title": {
            "standoff": 15
           },
           "zerolinecolor": "white",
           "zerolinewidth": 2
          },
          "yaxis": {
           "automargin": true,
           "gridcolor": "white",
           "linecolor": "white",
           "ticks": "",
           "title": {
            "standoff": 15
           },
           "zerolinecolor": "white",
           "zerolinewidth": 2
          }
         }
        },
        "title": {
         "text": "S in region SW"
        },
        "width": 800,
        "xaxis": {
         "linecolor": "black"
        },
        "xaxis2": {
         "linecolor": "black"
        },
        "xaxis3": {
         "linecolor": "black"
        },
        "xaxis4": {
         "linecolor": "black"
        },
        "yaxis": {
         "linecolor": "black"
        },
        "yaxis2": {
         "linecolor": "black"
        },
        "yaxis3": {
         "linecolor": "black"
        },
        "yaxis4": {
         "linecolor": "black"
        }
       }
      }
     },
     "metadata": {},
     "output_type": "display_data"
    },
    {
     "data": {
      "application/vnd.plotly.v1+json": {
       "config": {
        "plotlyServerURL": "https://plot.ly"
       },
       "data": [
        {
         "line": {
          "color": "blue"
         },
         "mode": "lines",
         "name": "Roche model",
         "type": "scatter",
         "x": [
          1,
          2,
          3,
          4,
          5,
          6,
          7,
          8,
          9,
          10,
          11,
          12,
          13,
          14,
          15,
          16,
          17,
          18,
          19,
          20,
          21,
          22,
          23,
          24,
          25,
          26,
          27,
          28,
          29,
          30,
          31,
          32,
          33,
          34,
          35,
          36,
          37,
          38,
          39,
          40,
          41,
          42,
          43,
          44,
          45,
          46,
          47,
          48,
          49,
          50,
          51,
          52,
          53,
          54,
          55,
          56,
          57,
          58,
          59,
          60,
          61,
          62,
          63,
          64,
          65,
          66,
          67,
          68,
          69,
          70,
          71,
          72,
          73,
          74,
          75,
          76,
          77,
          78,
          79,
          80,
          81,
          82,
          83,
          84,
          85,
          86,
          87,
          88,
          89
         ],
         "y": [
          0,
          12.36494566159655,
          21.650974026245983,
          28.96404894142598,
          35.08586510619531,
          40.54395608853277,
          45.71760231482545,
          50.864995500595235,
          56.16370834949373,
          61.764845703237754,
          67.76229310809406,
          74.23696673294148,
          81.28022254461476,
          88.96541886495517,
          97.34941393029871,
          106.50322837624527,
          116.51333521979822,
          127.47556132074772,
          139.47043583018925,
          152.586357934737,
          166.9263449135584,
          182.60784757610358,
          199.76275026210544,
          218.53737084157967,
          239.0890689586955,
          261.573551797783,
          286.16365392549096,
          313.0553980668976,
          342.46790782494827,
          374.6434076804551,
          409.84722299209704,
          448.3677799964201,
          490.51660580783704,
          536.6283284186278,
          587.060676698939,
          642.150984695931,
          701.8730282147583,
          766.9876140600797,
          838.4309164537271,
          917.0658323007963,
          1003.6819811896471,
          1098.995705391904,
          1203.6500698624554,
          1318.2148622394543,
          1443.1865928443167,
          1578.9884946817247,
          1726.041459407328,
          1886.60699801612,
          2062.62976468174,
          2255.5037582043697,
          2466.7153693674327,
          2697.8433809375965,
          2950.5589676647714,
          3226.866568119665,
          3529.011428872612,
          3859.1072979287164,
          4219.6652896134,
          4613.602345392996,
          5044.241233874745,
          5515.465399201832,
          6031.690961317987,
          6595.719432350106,
          7210.861883114655,
          7881.272943916835,
          8611.95080455059,
          9408.737214298599,
          10278.317481932281,
          11228.220475711796,
          12266.818623386043,
          13402.02306324504,
          14639.632246445683,
          15988.433228929314,
          17458.059110062648,
          19058.847117420344,
          20801.838606785022,
          22698.779062147238,
          24762.118095705504,
          27007.473286889133,
          29449.715597327846,
          32101.58141511678,
          34977.8194753418,
          38095.194528063825,
          41472.48733831884,
          45130.49468611787,
          49091.93053703942,
          53376.00894409092,
          57999.911591889104,
          62983.849283945165,
          68350.33641080602
         ]
        },
        {
         "line": {
          "color": "red"
         },
         "mode": "lines",
         "name": "SEIR model",
         "type": "scatter",
         "x": [
          1,
          2,
          3,
          4,
          5,
          6,
          7,
          8,
          9,
          10,
          11,
          12,
          13,
          14,
          15,
          16,
          17,
          18,
          19,
          20,
          21,
          22,
          23,
          24,
          25,
          26,
          27,
          28,
          29,
          30,
          31,
          32,
          33,
          34,
          35,
          36,
          37,
          38,
          39,
          40,
          41,
          42,
          43,
          44,
          45,
          46,
          47,
          48,
          49,
          50,
          51,
          52,
          53,
          54,
          55,
          56,
          57,
          58,
          59,
          60,
          61,
          62,
          63,
          64,
          65,
          66,
          67,
          68,
          69,
          70,
          71,
          72,
          73,
          74,
          75,
          76,
          77,
          78,
          79,
          80,
          81,
          82,
          83,
          84,
          85,
          86,
          87,
          88,
          89
         ],
         "y": [
          0,
          12.09023538377979,
          20.8105662509435,
          27.4529449102597,
          32.8977777878277,
          37.64909558518299,
          42.097336252094514,
          46.46507686748488,
          50.88941567761395,
          55.520689225879266,
          60.43412815346397,
          65.66986040855981,
          71.29161923082317,
          77.37916627797445,
          83.96996998179857,
          91.09497869687722,
          98.80075227471723,
          107.14838639558937,
          116.21329078698437,
          126.06311375519688,
          136.744200395605,
          148.31412376247567,
          160.84405018866858,
          174.41873928563595,
          189.13654394342274,
          205.1094103306666,
          222.4689055336693,
          241.41657218577288,
          262.0084984445885,
          284.2887834889449,
          308.3440502642472,
          334.3034454824765,
          362.3386396221904,
          392.66382692852267,
          425.5357254131831,
          461.2535768544581,
          500.15914679721016,
          542.6397187696292,
          589.0797551331965,
          639.4345865812896,
          693.7056245436615,
          752.0971461025906,
          815.0162939928804,
          883.0730766018598,
          957.0803679693834,
          1038.0535587750653,
          1126.7760570999687,
          1223.0521688824274,
          1326.842400765619,
          1438.4974056047495,
          1558.7579824670547,
          1688.7550766317995,
          1830.0097795902789,
          1984.4333290458167,
          2153.7741126699843,
          2337.739594063533,
          2536.0528267278655,
          2749.2228554723342,
          2978.544745408787,
          3226.099581951572,
          3494.7544708175333,
          3788.162538026014,
          4110.247983662494,
          4460.970514147857,
          4839.0976199932265,
          5245.043667977684,
          5680.897171208459,
          6150.42078912094,
          6659.051327478661,
          7213.899738373313,
          7823.092303550675,
          8487.30093333708,
          9203.211925054036,
          9970.77099949845,
          10793.3557066799,
          11677.775425820637,
          12634.27136535558,
          13676.51656293232,
          14819.700089997767,
          16062.966578900345,
          17399.76655503725,
          18829.904927590156,
          20359.65497932047,
          22001.75836656934,
          23775.425119257652,
          25706.333640886034,
          27804.540628556664,
          30059.052998346007,
          32482.362858962984
         ]
        }
       ],
       "layout": {
        "boxmode": "group",
        "plot_bgcolor": "white",
        "template": {
         "data": {
          "bar": [
           {
            "error_x": {
             "color": "#2a3f5f"
            },
            "error_y": {
             "color": "#2a3f5f"
            },
            "marker": {
             "line": {
              "color": "#E5ECF6",
              "width": 0.5
             },
             "pattern": {
              "fillmode": "overlay",
              "size": 10,
              "solidity": 0.2
             }
            },
            "type": "bar"
           }
          ],
          "barpolar": [
           {
            "marker": {
             "line": {
              "color": "#E5ECF6",
              "width": 0.5
             },
             "pattern": {
              "fillmode": "overlay",
              "size": 10,
              "solidity": 0.2
             }
            },
            "type": "barpolar"
           }
          ],
          "carpet": [
           {
            "aaxis": {
             "endlinecolor": "#2a3f5f",
             "gridcolor": "white",
             "linecolor": "white",
             "minorgridcolor": "white",
             "startlinecolor": "#2a3f5f"
            },
            "baxis": {
             "endlinecolor": "#2a3f5f",
             "gridcolor": "white",
             "linecolor": "white",
             "minorgridcolor": "white",
             "startlinecolor": "#2a3f5f"
            },
            "type": "carpet"
           }
          ],
          "choropleth": [
           {
            "colorbar": {
             "outlinewidth": 0,
             "ticks": ""
            },
            "type": "choropleth"
           }
          ],
          "contour": [
           {
            "colorbar": {
             "outlinewidth": 0,
             "ticks": ""
            },
            "colorscale": [
             [
              0,
              "#0d0887"
             ],
             [
              0.1111111111111111,
              "#46039f"
             ],
             [
              0.2222222222222222,
              "#7201a8"
             ],
             [
              0.3333333333333333,
              "#9c179e"
             ],
             [
              0.4444444444444444,
              "#bd3786"
             ],
             [
              0.5555555555555556,
              "#d8576b"
             ],
             [
              0.6666666666666666,
              "#ed7953"
             ],
             [
              0.7777777777777778,
              "#fb9f3a"
             ],
             [
              0.8888888888888888,
              "#fdca26"
             ],
             [
              1,
              "#f0f921"
             ]
            ],
            "type": "contour"
           }
          ],
          "contourcarpet": [
           {
            "colorbar": {
             "outlinewidth": 0,
             "ticks": ""
            },
            "type": "contourcarpet"
           }
          ],
          "heatmap": [
           {
            "colorbar": {
             "outlinewidth": 0,
             "ticks": ""
            },
            "colorscale": [
             [
              0,
              "#0d0887"
             ],
             [
              0.1111111111111111,
              "#46039f"
             ],
             [
              0.2222222222222222,
              "#7201a8"
             ],
             [
              0.3333333333333333,
              "#9c179e"
             ],
             [
              0.4444444444444444,
              "#bd3786"
             ],
             [
              0.5555555555555556,
              "#d8576b"
             ],
             [
              0.6666666666666666,
              "#ed7953"
             ],
             [
              0.7777777777777778,
              "#fb9f3a"
             ],
             [
              0.8888888888888888,
              "#fdca26"
             ],
             [
              1,
              "#f0f921"
             ]
            ],
            "type": "heatmap"
           }
          ],
          "heatmapgl": [
           {
            "colorbar": {
             "outlinewidth": 0,
             "ticks": ""
            },
            "colorscale": [
             [
              0,
              "#0d0887"
             ],
             [
              0.1111111111111111,
              "#46039f"
             ],
             [
              0.2222222222222222,
              "#7201a8"
             ],
             [
              0.3333333333333333,
              "#9c179e"
             ],
             [
              0.4444444444444444,
              "#bd3786"
             ],
             [
              0.5555555555555556,
              "#d8576b"
             ],
             [
              0.6666666666666666,
              "#ed7953"
             ],
             [
              0.7777777777777778,
              "#fb9f3a"
             ],
             [
              0.8888888888888888,
              "#fdca26"
             ],
             [
              1,
              "#f0f921"
             ]
            ],
            "type": "heatmapgl"
           }
          ],
          "histogram": [
           {
            "marker": {
             "pattern": {
              "fillmode": "overlay",
              "size": 10,
              "solidity": 0.2
             }
            },
            "type": "histogram"
           }
          ],
          "histogram2d": [
           {
            "colorbar": {
             "outlinewidth": 0,
             "ticks": ""
            },
            "colorscale": [
             [
              0,
              "#0d0887"
             ],
             [
              0.1111111111111111,
              "#46039f"
             ],
             [
              0.2222222222222222,
              "#7201a8"
             ],
             [
              0.3333333333333333,
              "#9c179e"
             ],
             [
              0.4444444444444444,
              "#bd3786"
             ],
             [
              0.5555555555555556,
              "#d8576b"
             ],
             [
              0.6666666666666666,
              "#ed7953"
             ],
             [
              0.7777777777777778,
              "#fb9f3a"
             ],
             [
              0.8888888888888888,
              "#fdca26"
             ],
             [
              1,
              "#f0f921"
             ]
            ],
            "type": "histogram2d"
           }
          ],
          "histogram2dcontour": [
           {
            "colorbar": {
             "outlinewidth": 0,
             "ticks": ""
            },
            "colorscale": [
             [
              0,
              "#0d0887"
             ],
             [
              0.1111111111111111,
              "#46039f"
             ],
             [
              0.2222222222222222,
              "#7201a8"
             ],
             [
              0.3333333333333333,
              "#9c179e"
             ],
             [
              0.4444444444444444,
              "#bd3786"
             ],
             [
              0.5555555555555556,
              "#d8576b"
             ],
             [
              0.6666666666666666,
              "#ed7953"
             ],
             [
              0.7777777777777778,
              "#fb9f3a"
             ],
             [
              0.8888888888888888,
              "#fdca26"
             ],
             [
              1,
              "#f0f921"
             ]
            ],
            "type": "histogram2dcontour"
           }
          ],
          "mesh3d": [
           {
            "colorbar": {
             "outlinewidth": 0,
             "ticks": ""
            },
            "type": "mesh3d"
           }
          ],
          "parcoords": [
           {
            "line": {
             "colorbar": {
              "outlinewidth": 0,
              "ticks": ""
             }
            },
            "type": "parcoords"
           }
          ],
          "pie": [
           {
            "automargin": true,
            "type": "pie"
           }
          ],
          "scatter": [
           {
            "marker": {
             "colorbar": {
              "outlinewidth": 0,
              "ticks": ""
             }
            },
            "type": "scatter"
           }
          ],
          "scatter3d": [
           {
            "line": {
             "colorbar": {
              "outlinewidth": 0,
              "ticks": ""
             }
            },
            "marker": {
             "colorbar": {
              "outlinewidth": 0,
              "ticks": ""
             }
            },
            "type": "scatter3d"
           }
          ],
          "scattercarpet": [
           {
            "marker": {
             "colorbar": {
              "outlinewidth": 0,
              "ticks": ""
             }
            },
            "type": "scattercarpet"
           }
          ],
          "scattergeo": [
           {
            "marker": {
             "colorbar": {
              "outlinewidth": 0,
              "ticks": ""
             }
            },
            "type": "scattergeo"
           }
          ],
          "scattergl": [
           {
            "marker": {
             "colorbar": {
              "outlinewidth": 0,
              "ticks": ""
             }
            },
            "type": "scattergl"
           }
          ],
          "scattermapbox": [
           {
            "marker": {
             "colorbar": {
              "outlinewidth": 0,
              "ticks": ""
             }
            },
            "type": "scattermapbox"
           }
          ],
          "scatterpolar": [
           {
            "marker": {
             "colorbar": {
              "outlinewidth": 0,
              "ticks": ""
             }
            },
            "type": "scatterpolar"
           }
          ],
          "scatterpolargl": [
           {
            "marker": {
             "colorbar": {
              "outlinewidth": 0,
              "ticks": ""
             }
            },
            "type": "scatterpolargl"
           }
          ],
          "scatterternary": [
           {
            "marker": {
             "colorbar": {
              "outlinewidth": 0,
              "ticks": ""
             }
            },
            "type": "scatterternary"
           }
          ],
          "surface": [
           {
            "colorbar": {
             "outlinewidth": 0,
             "ticks": ""
            },
            "colorscale": [
             [
              0,
              "#0d0887"
             ],
             [
              0.1111111111111111,
              "#46039f"
             ],
             [
              0.2222222222222222,
              "#7201a8"
             ],
             [
              0.3333333333333333,
              "#9c179e"
             ],
             [
              0.4444444444444444,
              "#bd3786"
             ],
             [
              0.5555555555555556,
              "#d8576b"
             ],
             [
              0.6666666666666666,
              "#ed7953"
             ],
             [
              0.7777777777777778,
              "#fb9f3a"
             ],
             [
              0.8888888888888888,
              "#fdca26"
             ],
             [
              1,
              "#f0f921"
             ]
            ],
            "type": "surface"
           }
          ],
          "table": [
           {
            "cells": {
             "fill": {
              "color": "#EBF0F8"
             },
             "line": {
              "color": "white"
             }
            },
            "header": {
             "fill": {
              "color": "#C8D4E3"
             },
             "line": {
              "color": "white"
             }
            },
            "type": "table"
           }
          ]
         },
         "layout": {
          "annotationdefaults": {
           "arrowcolor": "#2a3f5f",
           "arrowhead": 0,
           "arrowwidth": 1
          },
          "autotypenumbers": "strict",
          "coloraxis": {
           "colorbar": {
            "outlinewidth": 0,
            "ticks": ""
           }
          },
          "colorscale": {
           "diverging": [
            [
             0,
             "#8e0152"
            ],
            [
             0.1,
             "#c51b7d"
            ],
            [
             0.2,
             "#de77ae"
            ],
            [
             0.3,
             "#f1b6da"
            ],
            [
             0.4,
             "#fde0ef"
            ],
            [
             0.5,
             "#f7f7f7"
            ],
            [
             0.6,
             "#e6f5d0"
            ],
            [
             0.7,
             "#b8e186"
            ],
            [
             0.8,
             "#7fbc41"
            ],
            [
             0.9,
             "#4d9221"
            ],
            [
             1,
             "#276419"
            ]
           ],
           "sequential": [
            [
             0,
             "#0d0887"
            ],
            [
             0.1111111111111111,
             "#46039f"
            ],
            [
             0.2222222222222222,
             "#7201a8"
            ],
            [
             0.3333333333333333,
             "#9c179e"
            ],
            [
             0.4444444444444444,
             "#bd3786"
            ],
            [
             0.5555555555555556,
             "#d8576b"
            ],
            [
             0.6666666666666666,
             "#ed7953"
            ],
            [
             0.7777777777777778,
             "#fb9f3a"
            ],
            [
             0.8888888888888888,
             "#fdca26"
            ],
            [
             1,
             "#f0f921"
            ]
           ],
           "sequentialminus": [
            [
             0,
             "#0d0887"
            ],
            [
             0.1111111111111111,
             "#46039f"
            ],
            [
             0.2222222222222222,
             "#7201a8"
            ],
            [
             0.3333333333333333,
             "#9c179e"
            ],
            [
             0.4444444444444444,
             "#bd3786"
            ],
            [
             0.5555555555555556,
             "#d8576b"
            ],
            [
             0.6666666666666666,
             "#ed7953"
            ],
            [
             0.7777777777777778,
             "#fb9f3a"
            ],
            [
             0.8888888888888888,
             "#fdca26"
            ],
            [
             1,
             "#f0f921"
            ]
           ]
          },
          "colorway": [
           "#636efa",
           "#EF553B",
           "#00cc96",
           "#ab63fa",
           "#FFA15A",
           "#19d3f3",
           "#FF6692",
           "#B6E880",
           "#FF97FF",
           "#FECB52"
          ],
          "font": {
           "color": "#2a3f5f"
          },
          "geo": {
           "bgcolor": "white",
           "lakecolor": "white",
           "landcolor": "#E5ECF6",
           "showlakes": true,
           "showland": true,
           "subunitcolor": "white"
          },
          "hoverlabel": {
           "align": "left"
          },
          "hovermode": "closest",
          "mapbox": {
           "style": "light"
          },
          "paper_bgcolor": "white",
          "plot_bgcolor": "#E5ECF6",
          "polar": {
           "angularaxis": {
            "gridcolor": "white",
            "linecolor": "white",
            "ticks": ""
           },
           "bgcolor": "#E5ECF6",
           "radialaxis": {
            "gridcolor": "white",
            "linecolor": "white",
            "ticks": ""
           }
          },
          "scene": {
           "xaxis": {
            "backgroundcolor": "#E5ECF6",
            "gridcolor": "white",
            "gridwidth": 2,
            "linecolor": "white",
            "showbackground": true,
            "ticks": "",
            "zerolinecolor": "white"
           },
           "yaxis": {
            "backgroundcolor": "#E5ECF6",
            "gridcolor": "white",
            "gridwidth": 2,
            "linecolor": "white",
            "showbackground": true,
            "ticks": "",
            "zerolinecolor": "white"
           },
           "zaxis": {
            "backgroundcolor": "#E5ECF6",
            "gridcolor": "white",
            "gridwidth": 2,
            "linecolor": "white",
            "showbackground": true,
            "ticks": "",
            "zerolinecolor": "white"
           }
          },
          "shapedefaults": {
           "line": {
            "color": "#2a3f5f"
           }
          },
          "ternary": {
           "aaxis": {
            "gridcolor": "white",
            "linecolor": "white",
            "ticks": ""
           },
           "baxis": {
            "gridcolor": "white",
            "linecolor": "white",
            "ticks": ""
           },
           "bgcolor": "#E5ECF6",
           "caxis": {
            "gridcolor": "white",
            "linecolor": "white",
            "ticks": ""
           }
          },
          "title": {
           "x": 0.05
          },
          "xaxis": {
           "automargin": true,
           "gridcolor": "white",
           "linecolor": "white",
           "ticks": "",
           "title": {
            "standoff": 15
           },
           "zerolinecolor": "white",
           "zerolinewidth": 2
          },
          "yaxis": {
           "automargin": true,
           "gridcolor": "white",
           "linecolor": "white",
           "ticks": "",
           "title": {
            "standoff": 15
           },
           "zerolinecolor": "white",
           "zerolinewidth": 2
          }
         }
        },
        "title": {
         "text": "E in region SW"
        },
        "width": 800,
        "xaxis": {
         "linecolor": "black"
        },
        "xaxis2": {
         "linecolor": "black"
        },
        "xaxis3": {
         "linecolor": "black"
        },
        "xaxis4": {
         "linecolor": "black"
        },
        "yaxis": {
         "linecolor": "black"
        },
        "yaxis2": {
         "linecolor": "black"
        },
        "yaxis3": {
         "linecolor": "black"
        },
        "yaxis4": {
         "linecolor": "black"
        }
       }
      }
     },
     "metadata": {},
     "output_type": "display_data"
    },
    {
     "data": {
      "application/vnd.plotly.v1+json": {
       "config": {
        "plotlyServerURL": "https://plot.ly"
       },
       "data": [
        {
         "line": {
          "color": "blue"
         },
         "mode": "lines",
         "name": "Roche model",
         "type": "scatter",
         "x": [
          1,
          2,
          3,
          4,
          5,
          6,
          7,
          8,
          9,
          10,
          11,
          12,
          13,
          14,
          15,
          16,
          17,
          18,
          19,
          20,
          21,
          22,
          23,
          24,
          25,
          26,
          27,
          28,
          29,
          30,
          31,
          32,
          33,
          34,
          35,
          36,
          37,
          38,
          39,
          40,
          41,
          42,
          43,
          44,
          45,
          46,
          47,
          48,
          49,
          50,
          51,
          52,
          53,
          54,
          55,
          56,
          57,
          58,
          59,
          60,
          61,
          62,
          63,
          64,
          65,
          66,
          67,
          68,
          69,
          70,
          71,
          72,
          73,
          74,
          75,
          76,
          77,
          78,
          79,
          80,
          81,
          82,
          83,
          84,
          85,
          86,
          87,
          88,
          89
         ],
         "y": [
          70,
          69.15582372184534,
          70.36185113221404,
          73.2654541156163,
          77.59571186757472,
          83.15018441191971,
          89.79814816190023,
          97.46421066891266,
          106.11806850594239,
          115.76237713435361,
          126.43257113746493,
          138.18639451828528,
          151.09336167042628,
          165.24248180069748,
          180.7455045719184,
          197.72349222426806,
          216.30561609933926,
          236.63353966496396,
          258.8736512480728,
          283.2066686586759,
          309.8309505375323,
          338.962770405731,
          370.8363166646904,
          405.7036925961587,
          443.85898319651966,
          485.63127911188457,
          531.3184459254962,
          581.2657209184015,
          635.8686301770518,
          695.5729885933036,
          760.8748998644182,
          832.3207564930617,
          910.5072397873051,
          996.081319860624,
          1089.7402556318993,
          1192.269764242356,
          1304.8602778041206,
          1428.1539987896008,
          1562.7972657815535,
          1709.658081154117,
          1869.8261110728135,
          2044.6126854945467,
          2235.5507981676037,
          2444.3951066316536,
          2673.121932217748,
          2923.9292600483213,
          3199.183276438126,
          3500.2117372637044,
          3829.2117957183646,
          4189.03325618475,
          4582.624621581538,
          5013.033093363439,
          5483.404571521194,
          5997.314665226154,
          6559.26385934302,
          7173.875712154869,
          7846.098103043008,
          8581.210314083875,
          9384.823030049032,
          10262.940048521796,
          11222.533215663272,
          12271.224646989562,
          13417.36273384772,
          14670.082057176085,
          16039.303387504275,
          17535.733684953193,
          19170.866099235012,
          20956.9799696532,
          22907.140825102495,
          25036.55611065124,
          27362.506964226093,
          29900.208795746024,
          32667.35652886901,
          35684.322089570254,
          38974.154406142145,
          42562.579409194295,
          46478.000031653515,
          50747.68600641769,
          55397.74584244081,
          60459.606869266405,
          65967.54030470742,
          71958.657586521,
          78472.91037240863,
          85553.09054001601,
          93244.72063914704,
          101592.35274189121,
          110644.66426148087,
          120453.986977508,
          131074.3720352693
         ]
        },
        {
         "line": {
          "color": "red"
         },
         "mode": "lines",
         "name": "SEIR model",
         "type": "scatter",
         "x": [
          1,
          2,
          3,
          4,
          5,
          6,
          7,
          8,
          9,
          10,
          11,
          12,
          13,
          14,
          15,
          16,
          17,
          18,
          19,
          20,
          21,
          22,
          23,
          24,
          25,
          26,
          27,
          28,
          29,
          30,
          31,
          32,
          33,
          34,
          35,
          36,
          37,
          38,
          39,
          40,
          41,
          42,
          43,
          44,
          45,
          46,
          47,
          48,
          49,
          50,
          51,
          52,
          53,
          54,
          55,
          56,
          57,
          58,
          59,
          60,
          61,
          62,
          63,
          64,
          65,
          66,
          67,
          68,
          69,
          70,
          71,
          72,
          73,
          74,
          75,
          76,
          77,
          78,
          79,
          80,
          81,
          82,
          83,
          84,
          85,
          86,
          87,
          88,
          89
         ],
         "y": [
          70,
          66.46245870392494,
          66.06141564895204,
          67.82862481722177,
          71.12134470527246,
          75.59508587508496,
          80.99846893515854,
          87.21591925821791,
          94.20369593421418,
          101.91314990334313,
          110.36009302724266,
          119.59401681753255,
          129.6530760792445,
          140.57030657563462,
          152.41971735246034,
          165.28854805536818,
          179.2621658274058,
          194.42506626381967,
          210.86115973579146,
          228.67421298406788,
          247.9936178524125,
          268.95489798752305,
          291.70083493521577,
          316.38146814042506,
          343.15409494720416,
          372.18327059872433,
          403.63737173017176,
          437.66557323072675,
          474.5344258519632,
          514.547658868989,
          558.0139225546584,
          605.2467881795721,
          656.5647480120773,
          712.2912153182673,
          772.7545243619818,
          838.2879304048072,
          909.229609706076,
          985.9214722432855,
          1068.7976387393956,
          1158.6749806448292,
          1256.3922135045896,
          1362.7127536785702,
          1478.3247183415542,
          1603.8409254832159,
          1739.7988939081188,
          1886.6613732114845,
          2045.2034474681184,
          2217.0595216443944,
          2403.8577267525393,
          2607.0797864009473,
          2828.0610167941786,
          3067.990326732959,
          3327.910217614181,
          3608.716783430904,
          3911.667568593396,
          4239.815384661727,
          4596.399754073832,
          4984.344962935881,
          5406.260075223114,
          5864.438932779847,
          6360.860155319467,
          6897.187140424432,
          7475.255113412715,
          8100.455486352932,
          8779.428723807967,
          9518.071504204638,
          10321.523420141035,
          11194.166978386536,
          12139.627599881784,
          13160.773619738713,
          14260.311607990498,
          15447.66033007462,
          16735.93804948412,
          18136.63393828838,
          19659.510413270025,
          21312.60313592495,
          23102.221012462305,
          25032.9461938045,
          27109.2434912468,
          29349.577668940346,
          31777.983376381482,
          34414.95623780409,
          37277.397238551974,
          40378.61272507886,
          43728.314404948425,
          47332.619346834224,
          51211.61324298893,
          55403.87220797224,
          59931.18186714674
         ]
        }
       ],
       "layout": {
        "boxmode": "group",
        "plot_bgcolor": "white",
        "template": {
         "data": {
          "bar": [
           {
            "error_x": {
             "color": "#2a3f5f"
            },
            "error_y": {
             "color": "#2a3f5f"
            },
            "marker": {
             "line": {
              "color": "#E5ECF6",
              "width": 0.5
             },
             "pattern": {
              "fillmode": "overlay",
              "size": 10,
              "solidity": 0.2
             }
            },
            "type": "bar"
           }
          ],
          "barpolar": [
           {
            "marker": {
             "line": {
              "color": "#E5ECF6",
              "width": 0.5
             },
             "pattern": {
              "fillmode": "overlay",
              "size": 10,
              "solidity": 0.2
             }
            },
            "type": "barpolar"
           }
          ],
          "carpet": [
           {
            "aaxis": {
             "endlinecolor": "#2a3f5f",
             "gridcolor": "white",
             "linecolor": "white",
             "minorgridcolor": "white",
             "startlinecolor": "#2a3f5f"
            },
            "baxis": {
             "endlinecolor": "#2a3f5f",
             "gridcolor": "white",
             "linecolor": "white",
             "minorgridcolor": "white",
             "startlinecolor": "#2a3f5f"
            },
            "type": "carpet"
           }
          ],
          "choropleth": [
           {
            "colorbar": {
             "outlinewidth": 0,
             "ticks": ""
            },
            "type": "choropleth"
           }
          ],
          "contour": [
           {
            "colorbar": {
             "outlinewidth": 0,
             "ticks": ""
            },
            "colorscale": [
             [
              0,
              "#0d0887"
             ],
             [
              0.1111111111111111,
              "#46039f"
             ],
             [
              0.2222222222222222,
              "#7201a8"
             ],
             [
              0.3333333333333333,
              "#9c179e"
             ],
             [
              0.4444444444444444,
              "#bd3786"
             ],
             [
              0.5555555555555556,
              "#d8576b"
             ],
             [
              0.6666666666666666,
              "#ed7953"
             ],
             [
              0.7777777777777778,
              "#fb9f3a"
             ],
             [
              0.8888888888888888,
              "#fdca26"
             ],
             [
              1,
              "#f0f921"
             ]
            ],
            "type": "contour"
           }
          ],
          "contourcarpet": [
           {
            "colorbar": {
             "outlinewidth": 0,
             "ticks": ""
            },
            "type": "contourcarpet"
           }
          ],
          "heatmap": [
           {
            "colorbar": {
             "outlinewidth": 0,
             "ticks": ""
            },
            "colorscale": [
             [
              0,
              "#0d0887"
             ],
             [
              0.1111111111111111,
              "#46039f"
             ],
             [
              0.2222222222222222,
              "#7201a8"
             ],
             [
              0.3333333333333333,
              "#9c179e"
             ],
             [
              0.4444444444444444,
              "#bd3786"
             ],
             [
              0.5555555555555556,
              "#d8576b"
             ],
             [
              0.6666666666666666,
              "#ed7953"
             ],
             [
              0.7777777777777778,
              "#fb9f3a"
             ],
             [
              0.8888888888888888,
              "#fdca26"
             ],
             [
              1,
              "#f0f921"
             ]
            ],
            "type": "heatmap"
           }
          ],
          "heatmapgl": [
           {
            "colorbar": {
             "outlinewidth": 0,
             "ticks": ""
            },
            "colorscale": [
             [
              0,
              "#0d0887"
             ],
             [
              0.1111111111111111,
              "#46039f"
             ],
             [
              0.2222222222222222,
              "#7201a8"
             ],
             [
              0.3333333333333333,
              "#9c179e"
             ],
             [
              0.4444444444444444,
              "#bd3786"
             ],
             [
              0.5555555555555556,
              "#d8576b"
             ],
             [
              0.6666666666666666,
              "#ed7953"
             ],
             [
              0.7777777777777778,
              "#fb9f3a"
             ],
             [
              0.8888888888888888,
              "#fdca26"
             ],
             [
              1,
              "#f0f921"
             ]
            ],
            "type": "heatmapgl"
           }
          ],
          "histogram": [
           {
            "marker": {
             "pattern": {
              "fillmode": "overlay",
              "size": 10,
              "solidity": 0.2
             }
            },
            "type": "histogram"
           }
          ],
          "histogram2d": [
           {
            "colorbar": {
             "outlinewidth": 0,
             "ticks": ""
            },
            "colorscale": [
             [
              0,
              "#0d0887"
             ],
             [
              0.1111111111111111,
              "#46039f"
             ],
             [
              0.2222222222222222,
              "#7201a8"
             ],
             [
              0.3333333333333333,
              "#9c179e"
             ],
             [
              0.4444444444444444,
              "#bd3786"
             ],
             [
              0.5555555555555556,
              "#d8576b"
             ],
             [
              0.6666666666666666,
              "#ed7953"
             ],
             [
              0.7777777777777778,
              "#fb9f3a"
             ],
             [
              0.8888888888888888,
              "#fdca26"
             ],
             [
              1,
              "#f0f921"
             ]
            ],
            "type": "histogram2d"
           }
          ],
          "histogram2dcontour": [
           {
            "colorbar": {
             "outlinewidth": 0,
             "ticks": ""
            },
            "colorscale": [
             [
              0,
              "#0d0887"
             ],
             [
              0.1111111111111111,
              "#46039f"
             ],
             [
              0.2222222222222222,
              "#7201a8"
             ],
             [
              0.3333333333333333,
              "#9c179e"
             ],
             [
              0.4444444444444444,
              "#bd3786"
             ],
             [
              0.5555555555555556,
              "#d8576b"
             ],
             [
              0.6666666666666666,
              "#ed7953"
             ],
             [
              0.7777777777777778,
              "#fb9f3a"
             ],
             [
              0.8888888888888888,
              "#fdca26"
             ],
             [
              1,
              "#f0f921"
             ]
            ],
            "type": "histogram2dcontour"
           }
          ],
          "mesh3d": [
           {
            "colorbar": {
             "outlinewidth": 0,
             "ticks": ""
            },
            "type": "mesh3d"
           }
          ],
          "parcoords": [
           {
            "line": {
             "colorbar": {
              "outlinewidth": 0,
              "ticks": ""
             }
            },
            "type": "parcoords"
           }
          ],
          "pie": [
           {
            "automargin": true,
            "type": "pie"
           }
          ],
          "scatter": [
           {
            "marker": {
             "colorbar": {
              "outlinewidth": 0,
              "ticks": ""
             }
            },
            "type": "scatter"
           }
          ],
          "scatter3d": [
           {
            "line": {
             "colorbar": {
              "outlinewidth": 0,
              "ticks": ""
             }
            },
            "marker": {
             "colorbar": {
              "outlinewidth": 0,
              "ticks": ""
             }
            },
            "type": "scatter3d"
           }
          ],
          "scattercarpet": [
           {
            "marker": {
             "colorbar": {
              "outlinewidth": 0,
              "ticks": ""
             }
            },
            "type": "scattercarpet"
           }
          ],
          "scattergeo": [
           {
            "marker": {
             "colorbar": {
              "outlinewidth": 0,
              "ticks": ""
             }
            },
            "type": "scattergeo"
           }
          ],
          "scattergl": [
           {
            "marker": {
             "colorbar": {
              "outlinewidth": 0,
              "ticks": ""
             }
            },
            "type": "scattergl"
           }
          ],
          "scattermapbox": [
           {
            "marker": {
             "colorbar": {
              "outlinewidth": 0,
              "ticks": ""
             }
            },
            "type": "scattermapbox"
           }
          ],
          "scatterpolar": [
           {
            "marker": {
             "colorbar": {
              "outlinewidth": 0,
              "ticks": ""
             }
            },
            "type": "scatterpolar"
           }
          ],
          "scatterpolargl": [
           {
            "marker": {
             "colorbar": {
              "outlinewidth": 0,
              "ticks": ""
             }
            },
            "type": "scatterpolargl"
           }
          ],
          "scatterternary": [
           {
            "marker": {
             "colorbar": {
              "outlinewidth": 0,
              "ticks": ""
             }
            },
            "type": "scatterternary"
           }
          ],
          "surface": [
           {
            "colorbar": {
             "outlinewidth": 0,
             "ticks": ""
            },
            "colorscale": [
             [
              0,
              "#0d0887"
             ],
             [
              0.1111111111111111,
              "#46039f"
             ],
             [
              0.2222222222222222,
              "#7201a8"
             ],
             [
              0.3333333333333333,
              "#9c179e"
             ],
             [
              0.4444444444444444,
              "#bd3786"
             ],
             [
              0.5555555555555556,
              "#d8576b"
             ],
             [
              0.6666666666666666,
              "#ed7953"
             ],
             [
              0.7777777777777778,
              "#fb9f3a"
             ],
             [
              0.8888888888888888,
              "#fdca26"
             ],
             [
              1,
              "#f0f921"
             ]
            ],
            "type": "surface"
           }
          ],
          "table": [
           {
            "cells": {
             "fill": {
              "color": "#EBF0F8"
             },
             "line": {
              "color": "white"
             }
            },
            "header": {
             "fill": {
              "color": "#C8D4E3"
             },
             "line": {
              "color": "white"
             }
            },
            "type": "table"
           }
          ]
         },
         "layout": {
          "annotationdefaults": {
           "arrowcolor": "#2a3f5f",
           "arrowhead": 0,
           "arrowwidth": 1
          },
          "autotypenumbers": "strict",
          "coloraxis": {
           "colorbar": {
            "outlinewidth": 0,
            "ticks": ""
           }
          },
          "colorscale": {
           "diverging": [
            [
             0,
             "#8e0152"
            ],
            [
             0.1,
             "#c51b7d"
            ],
            [
             0.2,
             "#de77ae"
            ],
            [
             0.3,
             "#f1b6da"
            ],
            [
             0.4,
             "#fde0ef"
            ],
            [
             0.5,
             "#f7f7f7"
            ],
            [
             0.6,
             "#e6f5d0"
            ],
            [
             0.7,
             "#b8e186"
            ],
            [
             0.8,
             "#7fbc41"
            ],
            [
             0.9,
             "#4d9221"
            ],
            [
             1,
             "#276419"
            ]
           ],
           "sequential": [
            [
             0,
             "#0d0887"
            ],
            [
             0.1111111111111111,
             "#46039f"
            ],
            [
             0.2222222222222222,
             "#7201a8"
            ],
            [
             0.3333333333333333,
             "#9c179e"
            ],
            [
             0.4444444444444444,
             "#bd3786"
            ],
            [
             0.5555555555555556,
             "#d8576b"
            ],
            [
             0.6666666666666666,
             "#ed7953"
            ],
            [
             0.7777777777777778,
             "#fb9f3a"
            ],
            [
             0.8888888888888888,
             "#fdca26"
            ],
            [
             1,
             "#f0f921"
            ]
           ],
           "sequentialminus": [
            [
             0,
             "#0d0887"
            ],
            [
             0.1111111111111111,
             "#46039f"
            ],
            [
             0.2222222222222222,
             "#7201a8"
            ],
            [
             0.3333333333333333,
             "#9c179e"
            ],
            [
             0.4444444444444444,
             "#bd3786"
            ],
            [
             0.5555555555555556,
             "#d8576b"
            ],
            [
             0.6666666666666666,
             "#ed7953"
            ],
            [
             0.7777777777777778,
             "#fb9f3a"
            ],
            [
             0.8888888888888888,
             "#fdca26"
            ],
            [
             1,
             "#f0f921"
            ]
           ]
          },
          "colorway": [
           "#636efa",
           "#EF553B",
           "#00cc96",
           "#ab63fa",
           "#FFA15A",
           "#19d3f3",
           "#FF6692",
           "#B6E880",
           "#FF97FF",
           "#FECB52"
          ],
          "font": {
           "color": "#2a3f5f"
          },
          "geo": {
           "bgcolor": "white",
           "lakecolor": "white",
           "landcolor": "#E5ECF6",
           "showlakes": true,
           "showland": true,
           "subunitcolor": "white"
          },
          "hoverlabel": {
           "align": "left"
          },
          "hovermode": "closest",
          "mapbox": {
           "style": "light"
          },
          "paper_bgcolor": "white",
          "plot_bgcolor": "#E5ECF6",
          "polar": {
           "angularaxis": {
            "gridcolor": "white",
            "linecolor": "white",
            "ticks": ""
           },
           "bgcolor": "#E5ECF6",
           "radialaxis": {
            "gridcolor": "white",
            "linecolor": "white",
            "ticks": ""
           }
          },
          "scene": {
           "xaxis": {
            "backgroundcolor": "#E5ECF6",
            "gridcolor": "white",
            "gridwidth": 2,
            "linecolor": "white",
            "showbackground": true,
            "ticks": "",
            "zerolinecolor": "white"
           },
           "yaxis": {
            "backgroundcolor": "#E5ECF6",
            "gridcolor": "white",
            "gridwidth": 2,
            "linecolor": "white",
            "showbackground": true,
            "ticks": "",
            "zerolinecolor": "white"
           },
           "zaxis": {
            "backgroundcolor": "#E5ECF6",
            "gridcolor": "white",
            "gridwidth": 2,
            "linecolor": "white",
            "showbackground": true,
            "ticks": "",
            "zerolinecolor": "white"
           }
          },
          "shapedefaults": {
           "line": {
            "color": "#2a3f5f"
           }
          },
          "ternary": {
           "aaxis": {
            "gridcolor": "white",
            "linecolor": "white",
            "ticks": ""
           },
           "baxis": {
            "gridcolor": "white",
            "linecolor": "white",
            "ticks": ""
           },
           "bgcolor": "#E5ECF6",
           "caxis": {
            "gridcolor": "white",
            "linecolor": "white",
            "ticks": ""
           }
          },
          "title": {
           "x": 0.05
          },
          "xaxis": {
           "automargin": true,
           "gridcolor": "white",
           "linecolor": "white",
           "ticks": "",
           "title": {
            "standoff": 15
           },
           "zerolinecolor": "white",
           "zerolinewidth": 2
          },
          "yaxis": {
           "automargin": true,
           "gridcolor": "white",
           "linecolor": "white",
           "ticks": "",
           "title": {
            "standoff": 15
           },
           "zerolinecolor": "white",
           "zerolinewidth": 2
          }
         }
        },
        "title": {
         "text": "I in region SW"
        },
        "width": 800,
        "xaxis": {
         "linecolor": "black"
        },
        "xaxis2": {
         "linecolor": "black"
        },
        "xaxis3": {
         "linecolor": "black"
        },
        "xaxis4": {
         "linecolor": "black"
        },
        "yaxis": {
         "linecolor": "black"
        },
        "yaxis2": {
         "linecolor": "black"
        },
        "yaxis3": {
         "linecolor": "black"
        },
        "yaxis4": {
         "linecolor": "black"
        }
       }
      }
     },
     "metadata": {},
     "output_type": "display_data"
    },
    {
     "data": {
      "application/vnd.plotly.v1+json": {
       "config": {
        "plotlyServerURL": "https://plot.ly"
       },
       "data": [
        {
         "line": {
          "color": "blue"
         },
         "mode": "lines",
         "name": "Roche model",
         "type": "scatter",
         "x": [
          1,
          2,
          3,
          4,
          5,
          6,
          7,
          8,
          9,
          10,
          11,
          12,
          13,
          14,
          15,
          16,
          17,
          18,
          19,
          20,
          21,
          22,
          23,
          24,
          25,
          26,
          27,
          28,
          29,
          30,
          31,
          32,
          33,
          34,
          35,
          36,
          37,
          38,
          39,
          40,
          41,
          42,
          43,
          44,
          45,
          46,
          47,
          48,
          49,
          50,
          51,
          52,
          53,
          54,
          55,
          56,
          57,
          58,
          59,
          60,
          61,
          62,
          63,
          64,
          65,
          66,
          67,
          68,
          69,
          70,
          71,
          72,
          73,
          74,
          75,
          76,
          77,
          78,
          79,
          80,
          81,
          82,
          83,
          84,
          85,
          86,
          87,
          88,
          89
         ],
         "y": [
          0,
          2.738156589532318,
          6.548596718997249,
          11.062276124179073,
          16.08794604787866,
          21.57095291853382,
          27.500780532953684,
          33.9103170614769,
          40.85637777717139,
          48.39119957868645,
          56.58951979759335,
          65.52721836202086,
          75.27693238666204,
          85.92349546874902,
          97.5593745291326,
          110.28187430061904,
          124.19436987270765,
          139.40919033620807,
          156.05226701287162,
          174.25770045299518,
          194.1736033777505,
          215.96235047654253,
          239.80057840700914,
          265.87918579502144,
          294.3996467103902,
          325.58230079564794,
          359.68720378259553,
          397.0019832667317,
          437.84134174182583,
          482.5470565999178,
          531.4879801313184,
          585.0600395246091,
          643.6862368666416,
          707.8166491425388,
          777.928428235694,
          854.5326560569046,
          938.2854596859377,
          1029.8905538322956,
          1130.1055210640934,
          1239.767273613174,
          1359.7920533751083,
          1491.1754319091951,
          1634.9923104384607,
          1792.3969198496607,
          1964.6228206932765,
          2152.982903183519,
          2358.894794019196,
          2584.326840134626,
          2830.8308578570372,
          3100.094481041102,
          3394.2687086751885,
          3715.9679048813646,
          4068.2697989153958,
          4454.205832927769,
          4876.266662691316,
          5337.7608485519195,
          5842.397277190092,
          6394.273003822007,
          6997.873252199502,
          7657.982130747683,
          8379.406092889598,
          9168.194478716305,
          10031.034071800896,
          10975.105142788232,
          12008.08144939496,
          13138.1302364095,
          14373.912235692047,
          15724.581666174574,
          17199.786233860832,
          18809.83328981085,
          20568.46930629185,
          22491.946478628717,
          24596.77499614826,
          26899.681637842834,
          29417.609772370357,
          32167.719358054295,
          35167.38694288366,
          38438.20015300898,
          42009.68198231119,
          45911.58950704194,
          50174.743461332604,
          54831.031089193595,
          59913.40614451441,
          65455.8888910636,
          71493.81760774349,
          78074.47944575394,
          85248.83912093821,
          93067.27906978456,
          101583.02357047143
         ]
        },
        {
         "line": {
          "color": "red"
         },
         "mode": "lines",
         "name": "SEIR model",
         "type": "scatter",
         "x": [
          1,
          2,
          3,
          4,
          5,
          6,
          7,
          8,
          9,
          10,
          11,
          12,
          13,
          14,
          15,
          16,
          17,
          18,
          19,
          20,
          21,
          22,
          23,
          24,
          25,
          26,
          27,
          28,
          29,
          30,
          31,
          32,
          33,
          34,
          35,
          36,
          37,
          38,
          39,
          40,
          41,
          42,
          43,
          44,
          45,
          46,
          47,
          48,
          49,
          50,
          51,
          52,
          53,
          54,
          55,
          56,
          57,
          58,
          59,
          60,
          61,
          62,
          63,
          64,
          65,
          66,
          67,
          68,
          69,
          70,
          71,
          72,
          73,
          74,
          75,
          76,
          77,
          78,
          79,
          80,
          81,
          82,
          83,
          84,
          85,
          86,
          87,
          88,
          89
         ],
         "y": [
          0,
          5.40293750817061,
          10.658447778318296,
          15.971023979867455,
          21.49080734733774,
          27.318588314852896,
          33.54221947532956,
          40.22930421312215,
          47.4388275142268,
          55.23503876689002,
          63.67546452227336,
          72.8167346041418,
          82.72323250571641,
          93.46623704521166,
          105.11619672684824,
          117.74780302249331,
          131.444433576902,
          146.29810521886742,
          162.40951502085693,
          179.88701501347703,
          198.8416856757977,
          219.395587866709,
          241.68397632966673,
          265.85529969269226,
          292.07120046837247,
          320.50651505385986,
          351.35091929612804,
          384.8262902317052,
          421.13663334848366,
          460.5019021779177,
          503.17213063012207,
          549.4274329938721,
          599.5780039366036,
          653.9641185044129,
          712.9561321220567,
          776.9544805929526,
          846.3896800991783,
          921.7234778162372,
          1003.474509658813,
          1092.1320276148792,
          1188.2284539539278,
          1292.3773110539857,
          1405.2732214016148,
          1527.6919075919122,
          1660.4901923285088,
          1804.606118322323,
          1961.0297797432015,
          2130.6753768938115,
          2314.552631681974,
          2513.8271502882917,
          2729.820423166148,
          2964.0098250417086,
          3218.028614913921,
          3493.6659360545145,
          3792.8409551082127,
          4117.317597897042,
          4468.989324908032,
          4850.054137900193,
          5263.014608891301,
          5710.677880157903,
          6196.155664235314,
          6722.864243917618,
          7294.513354370051,
          7914.562678581938,
          8586.506177063296,
          9314.434314509444,
          10103.043700099102,
          10957.6370874944,
          11884.123374840874,
          12889.017604767469,
          13979.41461915108,
          15161.986445545037,
          16443.208131474843,
          17830.67257103629,
          19333.146510036495,
          20960.570545993905,
          22724.05912813829,
          24635.900557410765,
          26709.40924699236,
          28956.748008862694,
          31389.982162480446,
          34023.25970863801,
          36872.87047292524,
          39957.2461057294,
          43296.9600822352,
          46914.7277024248,
          50832.54017143893,
          55071.26039989097,
          59656.644523757015
         ]
        }
       ],
       "layout": {
        "boxmode": "group",
        "plot_bgcolor": "white",
        "template": {
         "data": {
          "bar": [
           {
            "error_x": {
             "color": "#2a3f5f"
            },
            "error_y": {
             "color": "#2a3f5f"
            },
            "marker": {
             "line": {
              "color": "#E5ECF6",
              "width": 0.5
             },
             "pattern": {
              "fillmode": "overlay",
              "size": 10,
              "solidity": 0.2
             }
            },
            "type": "bar"
           }
          ],
          "barpolar": [
           {
            "marker": {
             "line": {
              "color": "#E5ECF6",
              "width": 0.5
             },
             "pattern": {
              "fillmode": "overlay",
              "size": 10,
              "solidity": 0.2
             }
            },
            "type": "barpolar"
           }
          ],
          "carpet": [
           {
            "aaxis": {
             "endlinecolor": "#2a3f5f",
             "gridcolor": "white",
             "linecolor": "white",
             "minorgridcolor": "white",
             "startlinecolor": "#2a3f5f"
            },
            "baxis": {
             "endlinecolor": "#2a3f5f",
             "gridcolor": "white",
             "linecolor": "white",
             "minorgridcolor": "white",
             "startlinecolor": "#2a3f5f"
            },
            "type": "carpet"
           }
          ],
          "choropleth": [
           {
            "colorbar": {
             "outlinewidth": 0,
             "ticks": ""
            },
            "type": "choropleth"
           }
          ],
          "contour": [
           {
            "colorbar": {
             "outlinewidth": 0,
             "ticks": ""
            },
            "colorscale": [
             [
              0,
              "#0d0887"
             ],
             [
              0.1111111111111111,
              "#46039f"
             ],
             [
              0.2222222222222222,
              "#7201a8"
             ],
             [
              0.3333333333333333,
              "#9c179e"
             ],
             [
              0.4444444444444444,
              "#bd3786"
             ],
             [
              0.5555555555555556,
              "#d8576b"
             ],
             [
              0.6666666666666666,
              "#ed7953"
             ],
             [
              0.7777777777777778,
              "#fb9f3a"
             ],
             [
              0.8888888888888888,
              "#fdca26"
             ],
             [
              1,
              "#f0f921"
             ]
            ],
            "type": "contour"
           }
          ],
          "contourcarpet": [
           {
            "colorbar": {
             "outlinewidth": 0,
             "ticks": ""
            },
            "type": "contourcarpet"
           }
          ],
          "heatmap": [
           {
            "colorbar": {
             "outlinewidth": 0,
             "ticks": ""
            },
            "colorscale": [
             [
              0,
              "#0d0887"
             ],
             [
              0.1111111111111111,
              "#46039f"
             ],
             [
              0.2222222222222222,
              "#7201a8"
             ],
             [
              0.3333333333333333,
              "#9c179e"
             ],
             [
              0.4444444444444444,
              "#bd3786"
             ],
             [
              0.5555555555555556,
              "#d8576b"
             ],
             [
              0.6666666666666666,
              "#ed7953"
             ],
             [
              0.7777777777777778,
              "#fb9f3a"
             ],
             [
              0.8888888888888888,
              "#fdca26"
             ],
             [
              1,
              "#f0f921"
             ]
            ],
            "type": "heatmap"
           }
          ],
          "heatmapgl": [
           {
            "colorbar": {
             "outlinewidth": 0,
             "ticks": ""
            },
            "colorscale": [
             [
              0,
              "#0d0887"
             ],
             [
              0.1111111111111111,
              "#46039f"
             ],
             [
              0.2222222222222222,
              "#7201a8"
             ],
             [
              0.3333333333333333,
              "#9c179e"
             ],
             [
              0.4444444444444444,
              "#bd3786"
             ],
             [
              0.5555555555555556,
              "#d8576b"
             ],
             [
              0.6666666666666666,
              "#ed7953"
             ],
             [
              0.7777777777777778,
              "#fb9f3a"
             ],
             [
              0.8888888888888888,
              "#fdca26"
             ],
             [
              1,
              "#f0f921"
             ]
            ],
            "type": "heatmapgl"
           }
          ],
          "histogram": [
           {
            "marker": {
             "pattern": {
              "fillmode": "overlay",
              "size": 10,
              "solidity": 0.2
             }
            },
            "type": "histogram"
           }
          ],
          "histogram2d": [
           {
            "colorbar": {
             "outlinewidth": 0,
             "ticks": ""
            },
            "colorscale": [
             [
              0,
              "#0d0887"
             ],
             [
              0.1111111111111111,
              "#46039f"
             ],
             [
              0.2222222222222222,
              "#7201a8"
             ],
             [
              0.3333333333333333,
              "#9c179e"
             ],
             [
              0.4444444444444444,
              "#bd3786"
             ],
             [
              0.5555555555555556,
              "#d8576b"
             ],
             [
              0.6666666666666666,
              "#ed7953"
             ],
             [
              0.7777777777777778,
              "#fb9f3a"
             ],
             [
              0.8888888888888888,
              "#fdca26"
             ],
             [
              1,
              "#f0f921"
             ]
            ],
            "type": "histogram2d"
           }
          ],
          "histogram2dcontour": [
           {
            "colorbar": {
             "outlinewidth": 0,
             "ticks": ""
            },
            "colorscale": [
             [
              0,
              "#0d0887"
             ],
             [
              0.1111111111111111,
              "#46039f"
             ],
             [
              0.2222222222222222,
              "#7201a8"
             ],
             [
              0.3333333333333333,
              "#9c179e"
             ],
             [
              0.4444444444444444,
              "#bd3786"
             ],
             [
              0.5555555555555556,
              "#d8576b"
             ],
             [
              0.6666666666666666,
              "#ed7953"
             ],
             [
              0.7777777777777778,
              "#fb9f3a"
             ],
             [
              0.8888888888888888,
              "#fdca26"
             ],
             [
              1,
              "#f0f921"
             ]
            ],
            "type": "histogram2dcontour"
           }
          ],
          "mesh3d": [
           {
            "colorbar": {
             "outlinewidth": 0,
             "ticks": ""
            },
            "type": "mesh3d"
           }
          ],
          "parcoords": [
           {
            "line": {
             "colorbar": {
              "outlinewidth": 0,
              "ticks": ""
             }
            },
            "type": "parcoords"
           }
          ],
          "pie": [
           {
            "automargin": true,
            "type": "pie"
           }
          ],
          "scatter": [
           {
            "marker": {
             "colorbar": {
              "outlinewidth": 0,
              "ticks": ""
             }
            },
            "type": "scatter"
           }
          ],
          "scatter3d": [
           {
            "line": {
             "colorbar": {
              "outlinewidth": 0,
              "ticks": ""
             }
            },
            "marker": {
             "colorbar": {
              "outlinewidth": 0,
              "ticks": ""
             }
            },
            "type": "scatter3d"
           }
          ],
          "scattercarpet": [
           {
            "marker": {
             "colorbar": {
              "outlinewidth": 0,
              "ticks": ""
             }
            },
            "type": "scattercarpet"
           }
          ],
          "scattergeo": [
           {
            "marker": {
             "colorbar": {
              "outlinewidth": 0,
              "ticks": ""
             }
            },
            "type": "scattergeo"
           }
          ],
          "scattergl": [
           {
            "marker": {
             "colorbar": {
              "outlinewidth": 0,
              "ticks": ""
             }
            },
            "type": "scattergl"
           }
          ],
          "scattermapbox": [
           {
            "marker": {
             "colorbar": {
              "outlinewidth": 0,
              "ticks": ""
             }
            },
            "type": "scattermapbox"
           }
          ],
          "scatterpolar": [
           {
            "marker": {
             "colorbar": {
              "outlinewidth": 0,
              "ticks": ""
             }
            },
            "type": "scatterpolar"
           }
          ],
          "scatterpolargl": [
           {
            "marker": {
             "colorbar": {
              "outlinewidth": 0,
              "ticks": ""
             }
            },
            "type": "scatterpolargl"
           }
          ],
          "scatterternary": [
           {
            "marker": {
             "colorbar": {
              "outlinewidth": 0,
              "ticks": ""
             }
            },
            "type": "scatterternary"
           }
          ],
          "surface": [
           {
            "colorbar": {
             "outlinewidth": 0,
             "ticks": ""
            },
            "colorscale": [
             [
              0,
              "#0d0887"
             ],
             [
              0.1111111111111111,
              "#46039f"
             ],
             [
              0.2222222222222222,
              "#7201a8"
             ],
             [
              0.3333333333333333,
              "#9c179e"
             ],
             [
              0.4444444444444444,
              "#bd3786"
             ],
             [
              0.5555555555555556,
              "#d8576b"
             ],
             [
              0.6666666666666666,
              "#ed7953"
             ],
             [
              0.7777777777777778,
              "#fb9f3a"
             ],
             [
              0.8888888888888888,
              "#fdca26"
             ],
             [
              1,
              "#f0f921"
             ]
            ],
            "type": "surface"
           }
          ],
          "table": [
           {
            "cells": {
             "fill": {
              "color": "#EBF0F8"
             },
             "line": {
              "color": "white"
             }
            },
            "header": {
             "fill": {
              "color": "#C8D4E3"
             },
             "line": {
              "color": "white"
             }
            },
            "type": "table"
           }
          ]
         },
         "layout": {
          "annotationdefaults": {
           "arrowcolor": "#2a3f5f",
           "arrowhead": 0,
           "arrowwidth": 1
          },
          "autotypenumbers": "strict",
          "coloraxis": {
           "colorbar": {
            "outlinewidth": 0,
            "ticks": ""
           }
          },
          "colorscale": {
           "diverging": [
            [
             0,
             "#8e0152"
            ],
            [
             0.1,
             "#c51b7d"
            ],
            [
             0.2,
             "#de77ae"
            ],
            [
             0.3,
             "#f1b6da"
            ],
            [
             0.4,
             "#fde0ef"
            ],
            [
             0.5,
             "#f7f7f7"
            ],
            [
             0.6,
             "#e6f5d0"
            ],
            [
             0.7,
             "#b8e186"
            ],
            [
             0.8,
             "#7fbc41"
            ],
            [
             0.9,
             "#4d9221"
            ],
            [
             1,
             "#276419"
            ]
           ],
           "sequential": [
            [
             0,
             "#0d0887"
            ],
            [
             0.1111111111111111,
             "#46039f"
            ],
            [
             0.2222222222222222,
             "#7201a8"
            ],
            [
             0.3333333333333333,
             "#9c179e"
            ],
            [
             0.4444444444444444,
             "#bd3786"
            ],
            [
             0.5555555555555556,
             "#d8576b"
            ],
            [
             0.6666666666666666,
             "#ed7953"
            ],
            [
             0.7777777777777778,
             "#fb9f3a"
            ],
            [
             0.8888888888888888,
             "#fdca26"
            ],
            [
             1,
             "#f0f921"
            ]
           ],
           "sequentialminus": [
            [
             0,
             "#0d0887"
            ],
            [
             0.1111111111111111,
             "#46039f"
            ],
            [
             0.2222222222222222,
             "#7201a8"
            ],
            [
             0.3333333333333333,
             "#9c179e"
            ],
            [
             0.4444444444444444,
             "#bd3786"
            ],
            [
             0.5555555555555556,
             "#d8576b"
            ],
            [
             0.6666666666666666,
             "#ed7953"
            ],
            [
             0.7777777777777778,
             "#fb9f3a"
            ],
            [
             0.8888888888888888,
             "#fdca26"
            ],
            [
             1,
             "#f0f921"
            ]
           ]
          },
          "colorway": [
           "#636efa",
           "#EF553B",
           "#00cc96",
           "#ab63fa",
           "#FFA15A",
           "#19d3f3",
           "#FF6692",
           "#B6E880",
           "#FF97FF",
           "#FECB52"
          ],
          "font": {
           "color": "#2a3f5f"
          },
          "geo": {
           "bgcolor": "white",
           "lakecolor": "white",
           "landcolor": "#E5ECF6",
           "showlakes": true,
           "showland": true,
           "subunitcolor": "white"
          },
          "hoverlabel": {
           "align": "left"
          },
          "hovermode": "closest",
          "mapbox": {
           "style": "light"
          },
          "paper_bgcolor": "white",
          "plot_bgcolor": "#E5ECF6",
          "polar": {
           "angularaxis": {
            "gridcolor": "white",
            "linecolor": "white",
            "ticks": ""
           },
           "bgcolor": "#E5ECF6",
           "radialaxis": {
            "gridcolor": "white",
            "linecolor": "white",
            "ticks": ""
           }
          },
          "scene": {
           "xaxis": {
            "backgroundcolor": "#E5ECF6",
            "gridcolor": "white",
            "gridwidth": 2,
            "linecolor": "white",
            "showbackground": true,
            "ticks": "",
            "zerolinecolor": "white"
           },
           "yaxis": {
            "backgroundcolor": "#E5ECF6",
            "gridcolor": "white",
            "gridwidth": 2,
            "linecolor": "white",
            "showbackground": true,
            "ticks": "",
            "zerolinecolor": "white"
           },
           "zaxis": {
            "backgroundcolor": "#E5ECF6",
            "gridcolor": "white",
            "gridwidth": 2,
            "linecolor": "white",
            "showbackground": true,
            "ticks": "",
            "zerolinecolor": "white"
           }
          },
          "shapedefaults": {
           "line": {
            "color": "#2a3f5f"
           }
          },
          "ternary": {
           "aaxis": {
            "gridcolor": "white",
            "linecolor": "white",
            "ticks": ""
           },
           "baxis": {
            "gridcolor": "white",
            "linecolor": "white",
            "ticks": ""
           },
           "bgcolor": "#E5ECF6",
           "caxis": {
            "gridcolor": "white",
            "linecolor": "white",
            "ticks": ""
           }
          },
          "title": {
           "x": 0.05
          },
          "xaxis": {
           "automargin": true,
           "gridcolor": "white",
           "linecolor": "white",
           "ticks": "",
           "title": {
            "standoff": 15
           },
           "zerolinecolor": "white",
           "zerolinewidth": 2
          },
          "yaxis": {
           "automargin": true,
           "gridcolor": "white",
           "linecolor": "white",
           "ticks": "",
           "title": {
            "standoff": 15
           },
           "zerolinecolor": "white",
           "zerolinewidth": 2
          }
         }
        },
        "title": {
         "text": "R in region SW"
        },
        "width": 800,
        "xaxis": {
         "linecolor": "black"
        },
        "xaxis2": {
         "linecolor": "black"
        },
        "xaxis3": {
         "linecolor": "black"
        },
        "xaxis4": {
         "linecolor": "black"
        },
        "yaxis": {
         "linecolor": "black"
        },
        "yaxis2": {
         "linecolor": "black"
        },
        "yaxis3": {
         "linecolor": "black"
        },
        "yaxis4": {
         "linecolor": "black"
        }
       }
      }
     },
     "metadata": {},
     "output_type": "display_data"
    },
    {
     "data": {
      "application/vnd.plotly.v1+json": {
       "config": {
        "plotlyServerURL": "https://plot.ly"
       },
       "data": [
        {
         "line": {
          "color": "blue"
         },
         "mode": "lines",
         "name": "Roche model",
         "type": "scatter",
         "x": [
          1,
          2,
          3,
          4,
          5,
          6,
          7,
          8,
          9,
          10,
          11,
          12,
          13,
          14,
          15,
          16,
          17,
          18,
          19,
          20,
          21,
          22,
          23,
          24,
          25,
          26,
          27,
          28,
          29,
          30,
          31,
          32,
          33,
          34,
          35,
          36,
          37,
          38,
          39,
          40,
          41,
          42,
          43,
          44,
          45,
          46,
          47,
          48,
          49,
          50,
          51,
          52,
          53,
          54,
          55,
          56,
          57,
          58,
          59,
          60,
          61,
          62,
          63,
          64,
          65,
          66,
          67,
          68,
          69,
          70,
          71,
          72,
          73,
          74,
          75,
          76,
          77,
          78,
          79,
          80,
          81,
          82,
          83,
          84,
          85,
          86,
          87,
          88,
          89
         ],
         "y": [
          0,
          1.8939803113776605,
          5.016467539833627,
          7.417282388584084,
          9.355927675658009,
          11.03747941500015,
          12.577791364400383,
          14.075599035535646,
          15.599918552724205,
          17.17913042992629,
          18.868514222018234,
          20.691521945247842,
          22.656681176782172,
          24.7956832123582,
          27.13890183160447,
          29.700487423836137,
          32.494619447159835,
          35.54274402912506,
          38.883188259772396,
          42.53845085072669,
          46.54018480361174,
          50.92056696699069,
          55.71177418942602,
          60.94598331948066,
          66.67575151572964,
          72.9549500006226,
          79.79206980055937,
          87.26205447704137,
          95.44226773374453,
          104.41007327434363,
          114.24283480251529,
          125.0179160219343,
          136.81268063627567,
          149.70449234921625,
          163.77071486443037,
          179.13373643166733,
          196.34331719079773,
          214.8988151318381,
          234.85823422375051,
          256.52256792164417,
          280.19280968063094,
          306.16995295582,
          334.75499120232234,
          366.2489178752503,
          400.9527264297103,
          439.1674103208152,
          481.16590722548244,
          526.4605069410081,
          575.5040761770706,
          629.0850836504505,
          687.7655930308747,
          752.1076679880762,
          822.6733721917881,
          899.8461277173319,
          984.0100238804134,
          1076.106038672453,
          1176.858819526311,
          1286.9879376727822,
          1407.2129643426506,
          1538.2258970209477,
          1681.0171292833911,
          1837.4798171529947,
          2008.977679942749,
          2196.7903943157035,
          2402.197636934914,
          2626.4790844634626,
          2870.9144135643655,
          3136.7833009007154,
          3425.3654231355467,
          3739.4623414987655,
          4084.5868700558567,
          4461.1790038568,
          4871.976250642525,
          5319.872202395818,
          5807.760451099413,
          6338.534588736089,
          6915.088207288587,
          7540.499184889486,
          8221.541665325334,
          8963.76855155635,
          9771.087389731678,
          10647.404909674573,
          11596.62784120845,
          12622.662914156565,
          13729.558815810917,
          14928.293940754607,
          16226.671194773924,
          17627.762664873502,
          19136.129558448156
         ]
        },
        {
         "line": {
          "color": "red"
         },
         "mode": "lines",
         "name": "SEIR model",
         "type": "scatter",
         "x": [
          1,
          2,
          3,
          4,
          5,
          6,
          7,
          8,
          9,
          10,
          11,
          12,
          13,
          14,
          15,
          16,
          17,
          18,
          19,
          20,
          21,
          22,
          23,
          24,
          25,
          26,
          27,
          28,
          29,
          30,
          31,
          32,
          33,
          34,
          35,
          36,
          37,
          38,
          39,
          40,
          41,
          42,
          43,
          44,
          45,
          46,
          47,
          48,
          49,
          50,
          51,
          52,
          53,
          54,
          55,
          56,
          57,
          58,
          59,
          60,
          61,
          62,
          63,
          64,
          65,
          66,
          67,
          68,
          69,
          70,
          71,
          72,
          73,
          74,
          75,
          76,
          77,
          78,
          79,
          80,
          81,
          82,
          83,
          84,
          85,
          86,
          87,
          88,
          89
         ],
         "y": [
          0,
          1.865396212095547,
          4.854467215174779,
          7.079785369818893,
          8.81250325552098,
          10.301522137327666,
          11.627014220550237,
          12.904535060851956,
          14.197299977100926,
          15.505665221792157,
          16.88736887928286,
          18.37519387215835,
          19.965557163286547,
          21.660235035885364,
          23.499370458462295,
          25.500436998552914,
          27.670248326446313,
          30.01657207837934,
          32.5475032739613,
          35.290553240896486,
          38.2740755306653,
          41.51518232602183,
          45.03432541065047,
          48.851956568234755,
          52.98852758245937,
          57.46449023700757,
          62.29850537371556,
          67.50357243613212,
          73.17919573801498,
          79.37850184645981,
          86.13649213787392,
          93.48816798866369,
          101.46853077523679,
          110.11258187399926,
          119.4553226613582,
          129.53175451372113,
          140.37687880749468,
          152.02566025426836,
          164.62719833868596,
          178.53485986150008,
          193.81365919880864,
          210.46939727403878,
          228.50787501061313,
          247.93489333195885,
          268.75625316149944,
          290.97840529717996,
          314.9657356775124,
          341.501671326886,
          370.675459896308,
          402.49657825472514,
          436.974503271088,
          474.1187118143407,
          513.9386807534338,
          556.4438869573169,
          602.1258042161899,
          652.6244588571608,
          708.2560964230961,
          769.0100218542102,
          834.875583278339,
          905.8421288233367,
          981.89900661703,
          1063.0355647872693,
          1149.717083440717,
          1245.2496971521032,
          1350.9167359363928,
          1466.5709178428187,
          1592.0613015260533,
          1727.2369456408014,
          1871.9469088417209,
          2026.040249783524,
          2189.935002635397,
          2369.9205484780796,
          2569.4994053393093,
          2788.1603283657023,
          3025.350413981854,
          3280.516758612328,
          3553.1064586817447,
          3842.5666106146673,
          4149.805987023901,
          4487.672939563876,
          4861.639861058888,
          5270.25040758017,
          5712.05176503511,
          6185.591119331046,
          6689.415656375379,
          7222.072562075395,
          7796.806365168828,
          8430.979193435356,
          9112.693783040551
         ]
        }
       ],
       "layout": {
        "boxmode": "group",
        "plot_bgcolor": "white",
        "template": {
         "data": {
          "bar": [
           {
            "error_x": {
             "color": "#2a3f5f"
            },
            "error_y": {
             "color": "#2a3f5f"
            },
            "marker": {
             "line": {
              "color": "#E5ECF6",
              "width": 0.5
             },
             "pattern": {
              "fillmode": "overlay",
              "size": 10,
              "solidity": 0.2
             }
            },
            "type": "bar"
           }
          ],
          "barpolar": [
           {
            "marker": {
             "line": {
              "color": "#E5ECF6",
              "width": 0.5
             },
             "pattern": {
              "fillmode": "overlay",
              "size": 10,
              "solidity": 0.2
             }
            },
            "type": "barpolar"
           }
          ],
          "carpet": [
           {
            "aaxis": {
             "endlinecolor": "#2a3f5f",
             "gridcolor": "white",
             "linecolor": "white",
             "minorgridcolor": "white",
             "startlinecolor": "#2a3f5f"
            },
            "baxis": {
             "endlinecolor": "#2a3f5f",
             "gridcolor": "white",
             "linecolor": "white",
             "minorgridcolor": "white",
             "startlinecolor": "#2a3f5f"
            },
            "type": "carpet"
           }
          ],
          "choropleth": [
           {
            "colorbar": {
             "outlinewidth": 0,
             "ticks": ""
            },
            "type": "choropleth"
           }
          ],
          "contour": [
           {
            "colorbar": {
             "outlinewidth": 0,
             "ticks": ""
            },
            "colorscale": [
             [
              0,
              "#0d0887"
             ],
             [
              0.1111111111111111,
              "#46039f"
             ],
             [
              0.2222222222222222,
              "#7201a8"
             ],
             [
              0.3333333333333333,
              "#9c179e"
             ],
             [
              0.4444444444444444,
              "#bd3786"
             ],
             [
              0.5555555555555556,
              "#d8576b"
             ],
             [
              0.6666666666666666,
              "#ed7953"
             ],
             [
              0.7777777777777778,
              "#fb9f3a"
             ],
             [
              0.8888888888888888,
              "#fdca26"
             ],
             [
              1,
              "#f0f921"
             ]
            ],
            "type": "contour"
           }
          ],
          "contourcarpet": [
           {
            "colorbar": {
             "outlinewidth": 0,
             "ticks": ""
            },
            "type": "contourcarpet"
           }
          ],
          "heatmap": [
           {
            "colorbar": {
             "outlinewidth": 0,
             "ticks": ""
            },
            "colorscale": [
             [
              0,
              "#0d0887"
             ],
             [
              0.1111111111111111,
              "#46039f"
             ],
             [
              0.2222222222222222,
              "#7201a8"
             ],
             [
              0.3333333333333333,
              "#9c179e"
             ],
             [
              0.4444444444444444,
              "#bd3786"
             ],
             [
              0.5555555555555556,
              "#d8576b"
             ],
             [
              0.6666666666666666,
              "#ed7953"
             ],
             [
              0.7777777777777778,
              "#fb9f3a"
             ],
             [
              0.8888888888888888,
              "#fdca26"
             ],
             [
              1,
              "#f0f921"
             ]
            ],
            "type": "heatmap"
           }
          ],
          "heatmapgl": [
           {
            "colorbar": {
             "outlinewidth": 0,
             "ticks": ""
            },
            "colorscale": [
             [
              0,
              "#0d0887"
             ],
             [
              0.1111111111111111,
              "#46039f"
             ],
             [
              0.2222222222222222,
              "#7201a8"
             ],
             [
              0.3333333333333333,
              "#9c179e"
             ],
             [
              0.4444444444444444,
              "#bd3786"
             ],
             [
              0.5555555555555556,
              "#d8576b"
             ],
             [
              0.6666666666666666,
              "#ed7953"
             ],
             [
              0.7777777777777778,
              "#fb9f3a"
             ],
             [
              0.8888888888888888,
              "#fdca26"
             ],
             [
              1,
              "#f0f921"
             ]
            ],
            "type": "heatmapgl"
           }
          ],
          "histogram": [
           {
            "marker": {
             "pattern": {
              "fillmode": "overlay",
              "size": 10,
              "solidity": 0.2
             }
            },
            "type": "histogram"
           }
          ],
          "histogram2d": [
           {
            "colorbar": {
             "outlinewidth": 0,
             "ticks": ""
            },
            "colorscale": [
             [
              0,
              "#0d0887"
             ],
             [
              0.1111111111111111,
              "#46039f"
             ],
             [
              0.2222222222222222,
              "#7201a8"
             ],
             [
              0.3333333333333333,
              "#9c179e"
             ],
             [
              0.4444444444444444,
              "#bd3786"
             ],
             [
              0.5555555555555556,
              "#d8576b"
             ],
             [
              0.6666666666666666,
              "#ed7953"
             ],
             [
              0.7777777777777778,
              "#fb9f3a"
             ],
             [
              0.8888888888888888,
              "#fdca26"
             ],
             [
              1,
              "#f0f921"
             ]
            ],
            "type": "histogram2d"
           }
          ],
          "histogram2dcontour": [
           {
            "colorbar": {
             "outlinewidth": 0,
             "ticks": ""
            },
            "colorscale": [
             [
              0,
              "#0d0887"
             ],
             [
              0.1111111111111111,
              "#46039f"
             ],
             [
              0.2222222222222222,
              "#7201a8"
             ],
             [
              0.3333333333333333,
              "#9c179e"
             ],
             [
              0.4444444444444444,
              "#bd3786"
             ],
             [
              0.5555555555555556,
              "#d8576b"
             ],
             [
              0.6666666666666666,
              "#ed7953"
             ],
             [
              0.7777777777777778,
              "#fb9f3a"
             ],
             [
              0.8888888888888888,
              "#fdca26"
             ],
             [
              1,
              "#f0f921"
             ]
            ],
            "type": "histogram2dcontour"
           }
          ],
          "mesh3d": [
           {
            "colorbar": {
             "outlinewidth": 0,
             "ticks": ""
            },
            "type": "mesh3d"
           }
          ],
          "parcoords": [
           {
            "line": {
             "colorbar": {
              "outlinewidth": 0,
              "ticks": ""
             }
            },
            "type": "parcoords"
           }
          ],
          "pie": [
           {
            "automargin": true,
            "type": "pie"
           }
          ],
          "scatter": [
           {
            "marker": {
             "colorbar": {
              "outlinewidth": 0,
              "ticks": ""
             }
            },
            "type": "scatter"
           }
          ],
          "scatter3d": [
           {
            "line": {
             "colorbar": {
              "outlinewidth": 0,
              "ticks": ""
             }
            },
            "marker": {
             "colorbar": {
              "outlinewidth": 0,
              "ticks": ""
             }
            },
            "type": "scatter3d"
           }
          ],
          "scattercarpet": [
           {
            "marker": {
             "colorbar": {
              "outlinewidth": 0,
              "ticks": ""
             }
            },
            "type": "scattercarpet"
           }
          ],
          "scattergeo": [
           {
            "marker": {
             "colorbar": {
              "outlinewidth": 0,
              "ticks": ""
             }
            },
            "type": "scattergeo"
           }
          ],
          "scattergl": [
           {
            "marker": {
             "colorbar": {
              "outlinewidth": 0,
              "ticks": ""
             }
            },
            "type": "scattergl"
           }
          ],
          "scattermapbox": [
           {
            "marker": {
             "colorbar": {
              "outlinewidth": 0,
              "ticks": ""
             }
            },
            "type": "scattermapbox"
           }
          ],
          "scatterpolar": [
           {
            "marker": {
             "colorbar": {
              "outlinewidth": 0,
              "ticks": ""
             }
            },
            "type": "scatterpolar"
           }
          ],
          "scatterpolargl": [
           {
            "marker": {
             "colorbar": {
              "outlinewidth": 0,
              "ticks": ""
             }
            },
            "type": "scatterpolargl"
           }
          ],
          "scatterternary": [
           {
            "marker": {
             "colorbar": {
              "outlinewidth": 0,
              "ticks": ""
             }
            },
            "type": "scatterternary"
           }
          ],
          "surface": [
           {
            "colorbar": {
             "outlinewidth": 0,
             "ticks": ""
            },
            "colorscale": [
             [
              0,
              "#0d0887"
             ],
             [
              0.1111111111111111,
              "#46039f"
             ],
             [
              0.2222222222222222,
              "#7201a8"
             ],
             [
              0.3333333333333333,
              "#9c179e"
             ],
             [
              0.4444444444444444,
              "#bd3786"
             ],
             [
              0.5555555555555556,
              "#d8576b"
             ],
             [
              0.6666666666666666,
              "#ed7953"
             ],
             [
              0.7777777777777778,
              "#fb9f3a"
             ],
             [
              0.8888888888888888,
              "#fdca26"
             ],
             [
              1,
              "#f0f921"
             ]
            ],
            "type": "surface"
           }
          ],
          "table": [
           {
            "cells": {
             "fill": {
              "color": "#EBF0F8"
             },
             "line": {
              "color": "white"
             }
            },
            "header": {
             "fill": {
              "color": "#C8D4E3"
             },
             "line": {
              "color": "white"
             }
            },
            "type": "table"
           }
          ]
         },
         "layout": {
          "annotationdefaults": {
           "arrowcolor": "#2a3f5f",
           "arrowhead": 0,
           "arrowwidth": 1
          },
          "autotypenumbers": "strict",
          "coloraxis": {
           "colorbar": {
            "outlinewidth": 0,
            "ticks": ""
           }
          },
          "colorscale": {
           "diverging": [
            [
             0,
             "#8e0152"
            ],
            [
             0.1,
             "#c51b7d"
            ],
            [
             0.2,
             "#de77ae"
            ],
            [
             0.3,
             "#f1b6da"
            ],
            [
             0.4,
             "#fde0ef"
            ],
            [
             0.5,
             "#f7f7f7"
            ],
            [
             0.6,
             "#e6f5d0"
            ],
            [
             0.7,
             "#b8e186"
            ],
            [
             0.8,
             "#7fbc41"
            ],
            [
             0.9,
             "#4d9221"
            ],
            [
             1,
             "#276419"
            ]
           ],
           "sequential": [
            [
             0,
             "#0d0887"
            ],
            [
             0.1111111111111111,
             "#46039f"
            ],
            [
             0.2222222222222222,
             "#7201a8"
            ],
            [
             0.3333333333333333,
             "#9c179e"
            ],
            [
             0.4444444444444444,
             "#bd3786"
            ],
            [
             0.5555555555555556,
             "#d8576b"
            ],
            [
             0.6666666666666666,
             "#ed7953"
            ],
            [
             0.7777777777777778,
             "#fb9f3a"
            ],
            [
             0.8888888888888888,
             "#fdca26"
            ],
            [
             1,
             "#f0f921"
            ]
           ],
           "sequentialminus": [
            [
             0,
             "#0d0887"
            ],
            [
             0.1111111111111111,
             "#46039f"
            ],
            [
             0.2222222222222222,
             "#7201a8"
            ],
            [
             0.3333333333333333,
             "#9c179e"
            ],
            [
             0.4444444444444444,
             "#bd3786"
            ],
            [
             0.5555555555555556,
             "#d8576b"
            ],
            [
             0.6666666666666666,
             "#ed7953"
            ],
            [
             0.7777777777777778,
             "#fb9f3a"
            ],
            [
             0.8888888888888888,
             "#fdca26"
            ],
            [
             1,
             "#f0f921"
            ]
           ]
          },
          "colorway": [
           "#636efa",
           "#EF553B",
           "#00cc96",
           "#ab63fa",
           "#FFA15A",
           "#19d3f3",
           "#FF6692",
           "#B6E880",
           "#FF97FF",
           "#FECB52"
          ],
          "font": {
           "color": "#2a3f5f"
          },
          "geo": {
           "bgcolor": "white",
           "lakecolor": "white",
           "landcolor": "#E5ECF6",
           "showlakes": true,
           "showland": true,
           "subunitcolor": "white"
          },
          "hoverlabel": {
           "align": "left"
          },
          "hovermode": "closest",
          "mapbox": {
           "style": "light"
          },
          "paper_bgcolor": "white",
          "plot_bgcolor": "#E5ECF6",
          "polar": {
           "angularaxis": {
            "gridcolor": "white",
            "linecolor": "white",
            "ticks": ""
           },
           "bgcolor": "#E5ECF6",
           "radialaxis": {
            "gridcolor": "white",
            "linecolor": "white",
            "ticks": ""
           }
          },
          "scene": {
           "xaxis": {
            "backgroundcolor": "#E5ECF6",
            "gridcolor": "white",
            "gridwidth": 2,
            "linecolor": "white",
            "showbackground": true,
            "ticks": "",
            "zerolinecolor": "white"
           },
           "yaxis": {
            "backgroundcolor": "#E5ECF6",
            "gridcolor": "white",
            "gridwidth": 2,
            "linecolor": "white",
            "showbackground": true,
            "ticks": "",
            "zerolinecolor": "white"
           },
           "zaxis": {
            "backgroundcolor": "#E5ECF6",
            "gridcolor": "white",
            "gridwidth": 2,
            "linecolor": "white",
            "showbackground": true,
            "ticks": "",
            "zerolinecolor": "white"
           }
          },
          "shapedefaults": {
           "line": {
            "color": "#2a3f5f"
           }
          },
          "ternary": {
           "aaxis": {
            "gridcolor": "white",
            "linecolor": "white",
            "ticks": ""
           },
           "baxis": {
            "gridcolor": "white",
            "linecolor": "white",
            "ticks": ""
           },
           "bgcolor": "#E5ECF6",
           "caxis": {
            "gridcolor": "white",
            "linecolor": "white",
            "ticks": ""
           }
          },
          "title": {
           "x": 0.05
          },
          "xaxis": {
           "automargin": true,
           "gridcolor": "white",
           "linecolor": "white",
           "ticks": "",
           "title": {
            "standoff": 15
           },
           "zerolinecolor": "white",
           "zerolinewidth": 2
          },
          "yaxis": {
           "automargin": true,
           "gridcolor": "white",
           "linecolor": "white",
           "ticks": "",
           "title": {
            "standoff": 15
           },
           "zerolinecolor": "white",
           "zerolinewidth": 2
          }
         }
        },
        "title": {
         "text": "Incidence in region SW"
        },
        "width": 800,
        "xaxis": {
         "linecolor": "black"
        },
        "xaxis2": {
         "linecolor": "black"
        },
        "xaxis3": {
         "linecolor": "black"
        },
        "xaxis4": {
         "linecolor": "black"
        },
        "yaxis": {
         "linecolor": "black"
        },
        "yaxis2": {
         "linecolor": "black"
        },
        "yaxis3": {
         "linecolor": "black"
        },
        "yaxis4": {
         "linecolor": "black"
        }
       }
      }
     },
     "metadata": {},
     "output_type": "display_data"
    }
   ],
   "source": [
    "# Trace names - represent the solver used for the simulation\n",
    "trace_name = ['Roche model', 'SEIR model']\n",
    "\n",
    "# Compartment list - type and age\n",
    "comparments = []\n",
    "for n in seir_model.output_names():\n",
    "    comparments.append('{} in region {}'.format(n, regions[roche_parameters.simulation_parameters.region_index-1]))\n",
    "\n",
    "# Plot for each comparment\n",
    "for c, comparment in enumerate(comparments):\n",
    "    fig = go.Figure()\n",
    "    # Plot (line plot for each solver method for each age)\n",
    "    for a, age in enumerate(age_groups):\n",
    "        if a != 0:\n",
    "            for o, out in enumerate(outputs):\n",
    "                fig.add_trace(\n",
    "                    go.Scatter(\n",
    "                        y=out[:, c*len(age_groups)+a],\n",
    "                        x=roche_parameters.simulation_parameters.times,\n",
    "                        mode='lines',\n",
    "                        name=trace_name[o],\n",
    "                        line_color=colours[o],\n",
    "                        showlegend=False\n",
    "                    )\n",
    "                )\n",
    "        \n",
    "        else:\n",
    "            for o, out in enumerate(outputs):\n",
    "                fig.add_trace(\n",
    "                    go.Scatter(\n",
    "                        y=out[:, c*len(age_groups)+a],\n",
    "                        x=roche_parameters.simulation_parameters.times,\n",
    "                        mode='lines',\n",
    "                        name=trace_name[o],\n",
    "                        line_color=colours[o]\n",
    "                    ),\n",
    "                )\n",
    "\n",
    "    # Add axis labels\n",
    "    fig.update_layout(\n",
    "        boxmode='group',\n",
    "        title=comparment, \n",
    "        width=800,\n",
    "        plot_bgcolor='white',\n",
    "        xaxis=dict(linecolor='black'),\n",
    "        yaxis=dict(linecolor='black'),\n",
    "        xaxis2=dict(linecolor='black'),\n",
    "        yaxis2=dict(linecolor='black'),\n",
    "        xaxis3=dict(linecolor='black'),\n",
    "        yaxis3=dict(linecolor='black'),\n",
    "        xaxis4=dict(linecolor='black'),\n",
    "        yaxis4=dict(linecolor='black'))\n",
    "\n",
    "    fig.show()"
   ]
  }
 ],
 "metadata": {
  "interpreter": {
   "hash": "684a6128a123c6817f5879bd443c804f1ae947106cccd5e393ee42f0caf0d347"
  },
  "kernelspec": {
   "display_name": "Python 3.8.8 64-bit ('base': conda)",
   "name": "python3"
  },
  "language_info": {
   "codemirror_mode": {
    "name": "ipython",
    "version": 3
   },
   "file_extension": ".py",
   "mimetype": "text/x-python",
   "name": "python",
   "nbconvert_exporter": "python",
   "pygments_lexer": "ipython3",
   "version": "3.8.8"
  },
  "orig_nbformat": 4
 },
 "nbformat": 4,
 "nbformat_minor": 2
}

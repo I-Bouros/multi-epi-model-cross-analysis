{
 "cells": [
  {
   "cell_type": "markdown",
   "metadata": {},
   "source": [
    "# PHE SEIR Model\n",
    "\n",
    "In this notebook we present compare the model built by Public Health England in collaboration with University of Cambridge, using baseline contact matrices with a simple SEIR. We aim to see if the PHE model can be reduced to a simple SEIR model for appropriate choices of parameters in order to check how well the PHE model has been reproduced.\n",
    "\n",
    "The analyses are run for:\n",
    " - Dates: **15 Feb 2020** - **15 May 2020**, using toy data;\n",
    " - PHE regions of interest: **South West**.\n",
    "\n",
    "We consider only **1 region** and **1 age group**. In order to be able to collapse the PHE model in a simpler SEIR version, we will have to choose the parameters such that:\n",
    "\n",
    "$\n",
    "\\begin{align*}\n",
    "    \\frac{dS(t)}{dt} &= -\\lambda_t S(t) \\\\\n",
    "    \\frac{dE_1(t)}{dt} &= \\lambda_t S(t) - \\frac{2}{d_L} E_1(t) \\\\\n",
    "    \\frac{dE_2(t)}{dt} &= \\frac{2}{d_L} E_1(t) - \\frac{2}{d_L} E_2(t) \\\\\n",
    "    \\frac{dI_1(t)}{dt} &= \\frac{2}{d_L} E_2(t) - \\frac{2}{d_I} I_1(t) \\\\\n",
    "    \\frac{dI_2(t)}{dt} &= \\frac{2}{d_I} I_1(t) - \\frac{2}{d_I} I_2(t) \\\\\n",
    "    \\frac{dR(t)}{dt} &= \\frac{2}{d_I} I_2(t)\n",
    "\\end{align*}\n",
    "$\n",
    "\n",
    "becomes\n",
    "\n",
    "$$\n",
    "\\begin{align*}\n",
    "    \\frac{dS(t)}{dt} &= - \\beta I(t) S(t) \\\\\n",
    "    \\frac{dE(t)}{dt} &= \\beta I(t) S(t) - \\kappa E(t) \\\\\n",
    "    \\frac{dI(t)}{dt} &= \\kappa E(t) - \\gamma I(t) \\\\\n",
    "    \\frac{dR(t)}{dt} &= \\gamma I(t)\n",
    "\\end{align*}\n",
    "$$\n",
    "\n",
    "We have two compartments for each of the exposed and infectious in the PHE model, compared to only one in the SEIR one. Hence we will assume a collapse of this structure, by using the folliwing notation: $E(t) = E_1(t) + E_2(t) and $I(t) = I_1(t) + I_2(t)$.\n",
    "\n",
    "The parameter $\\lambda_{t} = 1 - (1-b_t)^{I_1(t) + I_2(t)}$ will need to become equivalent in shape to $\\beta I(t)$. We will therefore assume the conditions of the _binomial approximation_:\n",
    "\n",
    "$$\\lambda_{t} = 1 - (1-b_t)^{I_1(t) + I_2(t)} \\approx 1 - (1-b_t(I_1(t) + I_2(t))) = 1 - (1-b_t I(t)) = b_t I(t)$$\n",
    "\n",
    "i.e. $|I(t)| < 1$ and $|b_t I(t)| \\ll 1$ .\n",
    "\n",
    "The $b_t$ is computed according to the following formula:\n",
    "\n",
    "$$b_t = \\frac{\\beta_t R_0}{R_0^{*}} \\tilde{C}_t$$\n",
    "\n",
    "where $\\beta_t$ account for mis-specification of the changing scale of transmission over time, $R_0$ is the initial reproduction number, $\\tilde{C}_t$ is the current contact matrix, $R_0^{*}$ is the dominant eigenvalue of $S_0 \\tilde{C}_0 d_I$, $S_0$ is the initial number of susceptibles and $d_I$ is the average time an individual is infectious. Since the matrices are one-dimensional, $R_0^{*} = S_0 \\tilde{C}_0 d_I$. We have no temporal variations in our parameters of the SEIR model, hence we take the contact matrices for the PHE model to be constant throughout and $\\beta_t = 1, \\forall t$ so that the transmission parameter becomes\n",
    "\n",
    "$$b_t = \\frac{R_0}{S_0 d_I}$$\n",
    "\n",
    "This is satisfying the _binomial approximation_ conditions $|\\frac{R_0 I(t)}{S_0 d_I}| \\ll 1$ as the number of infectives is much smaller than that of initial susceptibles.\n",
    "\n",
    "Also, since the rate of transmission between the compartments are defined as the inverse of the average time spent in the compartment, the system of equations of the PHE model illustrate that an individual spends on average in each of the exposed and infectious compartments are:\n",
    "\n",
    "- $E_1$ and $E_2$: $\\frac{d_L}{2}$ each, so a total average of $d_L$ as exposed;\n",
    "- $I_1$ and $I_2$: $\\frac{d_I}{2}$ each, so a total average of $d_I$ as infectious.\n",
    "\n",
    "Hence, for the SEIR model, the parameters are defined as:\n",
    "\n",
    "- $\\beta = \\frac{R_0}{S_0 d_I}$ ;\n",
    "- $\\kappa = \\frac{1}{d_L}$ ;\n",
    "- $\\gamma = \\frac{1}{d_I}$ .\n",
    "\n",
    "*The PHE model is built by Public Health England in collaboration with University of Cambridge.*"
   ]
  },
  {
   "cell_type": "code",
   "execution_count": 1,
   "metadata": {},
   "outputs": [],
   "source": [
    "# Load necessary libraries\n",
    "import numpy as np\n",
    "import pandas as pd\n",
    "from scipy.integrate import solve_ivp\n",
    "import epimodels as em\n",
    "import pints\n",
    "import matplotlib\n",
    "import plotly.graph_objects as go\n",
    "import plotly.express as px\n",
    "from matplotlib import pyplot as plt\n",
    "from iteration_utilities import deepflatten"
   ]
  },
  {
   "cell_type": "markdown",
   "metadata": {},
   "source": [
    "## Model Setup\n",
    "### Define setup matrices for the PHE Model"
   ]
  },
  {
   "cell_type": "code",
   "execution_count": 2,
   "metadata": {},
   "outputs": [],
   "source": [
    "# Populate the model\n",
    "total_days =  90\n",
    "regions = ['SW']\n",
    "age_groups = ['0-75+']\n",
    "\n",
    "matrices_region = []\n",
    "\n",
    "### Fixed\n",
    "# Initial state of the system\n",
    "weeks_matrices_region = []\n",
    "for r in regions:\n",
    "    path = os.path.join('../../data/final_contact_matrices/BASE.csv')\n",
    "    region_data_matrix = np.average(pd.read_csv(path, header=None, dtype=np.float64)) * np.ones((len(age_groups), len(age_groups)))\n",
    "    regional = em.RegionMatrix(r, age_groups, region_data_matrix)\n",
    "    weeks_matrices_region.append(regional)\n",
    "\n",
    "matrices_region.append(weeks_matrices_region)\n",
    "\n",
    "contacts = em.ContactMatrix(age_groups, np.ones((len(age_groups), len(age_groups))))\n",
    "matrices_contact = [contacts]\n",
    "\n",
    "# Matrices contact\n",
    "time_changes_contact = [1]\n",
    "time_changes_region = [1]"
   ]
  },
  {
   "cell_type": "markdown",
   "metadata": {},
   "source": [
    "### Set the parameters and initial conditions of the model and bundle everything together"
   ]
  },
  {
   "cell_type": "code",
   "execution_count": 3,
   "metadata": {},
   "outputs": [],
   "source": [
    "# Instantiate model\n",
    "phe_model = em.PheSEIRModel()\n",
    "\n",
    "# Set the region names, contact and regional data of the model\n",
    "phe_model.set_regions(regions)\n",
    "phe_model.set_age_groups(age_groups)\n",
    "phe_model.read_contact_data(matrices_contact, time_changes_contact)\n",
    "phe_model.read_regional_data(matrices_region, time_changes_region)\n",
    "\n",
    "# Set regional and time dependent parameters\n",
    "regional_parameters = em.PheRegParameters(\n",
    "    model=phe_model,\n",
    "    initial_r=[1],\n",
    "    region_index=1,\n",
    "    betas=[[1] * np.arange(1, total_days, 1).shape[0]],\n",
    "    times=np.arange(1, total_days, 1).tolist()\n",
    ")\n",
    "\n",
    "# Set ICs parameters\n",
    "ICs = em.PheICs(\n",
    "    model=phe_model,\n",
    "    susceptibles_IC=[[5624696]],\n",
    "    exposed1_IC=[[0]],\n",
    "    exposed2_IC=[[0]],\n",
    "    infectives1_IC=[[50]],\n",
    "    infectives2_IC=[[20]],\n",
    "    recovered_IC=[[0]]\n",
    ")\n",
    "\n",
    "# Set disease-specific parameters\n",
    "disease_parameters = em.PheDiseaseParameters(\n",
    "    model=phe_model,\n",
    "    dL=4,\n",
    "    dI=4\n",
    ")\n",
    "\n",
    "# Set other simulation parameters\n",
    "simulation_parameters = em.PheSimParameters(\n",
    "    model=phe_model,\n",
    "    delta_t=0.5,\n",
    "    method='RK45'\n",
    ")\n",
    "\n",
    "# Set all parameters in the controller\n",
    "phe_parameters = em.PheParametersController(\n",
    "    model=phe_model,\n",
    "    regional_parameters=regional_parameters,\n",
    "    ICs=ICs,\n",
    "    disease_parameters=disease_parameters,\n",
    "    simulation_parameters=simulation_parameters\n",
    ")"
   ]
  },
  {
   "cell_type": "markdown",
   "metadata": {},
   "source": [
    "### Define SEIR model"
   ]
  },
  {
   "cell_type": "code",
   "execution_count": 4,
   "metadata": {},
   "outputs": [],
   "source": [
    "class SEIRModel(pints.ForwardModel):\n",
    "    r\"\"\"\n",
    "    ODE model: deterministic SEIR\n",
    "    The SEIR Model has four compartments:\n",
    "    susceptible individuals (:math:`S`),\n",
    "    exposed but not yet infectious (:math:`E`),\n",
    "    infectious (:math:`I`) and recovered (:math:`R`):\n",
    "\n",
    "    .. math::\n",
    "        \\frac{dS(t)}{dt} = -\\beta S(t)I(t),\n",
    "    .. math::\n",
    "        \\frac{dE(t)}{dt} = \\beta S(t)I(t) - \\kappa E(t),\n",
    "    .. math::\n",
    "        \\frac{dI(t)}{dt} = \\kappa E(t) - \\gamma I(t),\n",
    "    .. math::\n",
    "        \\frac{dR(t)}{dt} = \\gamma I(t),\n",
    "\n",
    "    where :math:`S(0) = S_0, E(0) = E_0, I(O) = I_0, R(0) = R_0`\n",
    "    are also parameters of the model.\n",
    "\n",
    "    Extends :class:`ForwardModel`.\n",
    "    \"\"\"\n",
    "\n",
    "    def __init__(self):\n",
    "        super(SEIRModel, self).__init__()\n",
    "\n",
    "        # Assign default values\n",
    "        self._output_names = ['S', 'E', 'I', 'R', 'Incidence']\n",
    "        self._parameter_names = [\n",
    "            'S0', 'E0', 'I0', 'R0', 'alpha', 'beta', 'gamma'\n",
    "        ]\n",
    "        # The default number of outputs is 5,\n",
    "        # i.e. S, E, I, R and Incidence\n",
    "        self._n_outputs = len(self._output_names)\n",
    "        # The default number of outputs is 7,\n",
    "        # i.e. 4 initial conditions and 3 parameters\n",
    "        self._n_parameters = len(self._parameter_names)\n",
    "\n",
    "        self._output_indices = np.arange(self._n_outputs)\n",
    "\n",
    "    def n_outputs(self):\n",
    "        # Return the number of outputs\n",
    "        return self._n_outputs\n",
    "\n",
    "    def n_parameters(self):\n",
    "        # Return the number of parameters\n",
    "        return self._n_parameters\n",
    "\n",
    "    def output_names(self):\n",
    "        # Return the (selected) output names\n",
    "        names = [self._output_names[x] for x in self._output_indices]\n",
    "        return names\n",
    "\n",
    "    def parameter_names(self):\n",
    "        # Return the parameter names\n",
    "        return self._parameter_names\n",
    "\n",
    "    def set_outputs(self, outputs):\n",
    "        # Check existence of outputs\n",
    "        for output in outputs:\n",
    "            if output not in self._output_names:\n",
    "                raise ValueError(\n",
    "                    'The output names specified must be in correct forms')\n",
    "\n",
    "        output_indices = []\n",
    "        for output_id, output in enumerate(self._output_names):\n",
    "            if output in outputs:\n",
    "                output_indices.append(output_id)\n",
    "\n",
    "        # Remember outputs\n",
    "        self._output_indices = output_indices\n",
    "        self._n_outputs = len(outputs)\n",
    "\n",
    "    def _right_hand_side(self, t, y, c):\n",
    "        # Assuming y = [S, E, I, R] (the dependent variables in the model)\n",
    "        # Assuming the parameters are ordered like\n",
    "        # parameters = [S0, E0, I0, R0, beta, kappa, gamma]\n",
    "        # Let c = [beta, kappa, gamma]\n",
    "        #  = [parameters[0], parameters[1], parameters[2]],\n",
    "        # then beta = c[0], kappa = c[1], gamma = c[2]\n",
    "\n",
    "        # Construct the derivative functions of the system of ODEs\n",
    "\n",
    "        s, e, i, _ = y\n",
    "        beta, kappa, gamma = c\n",
    "        dydt = [-beta * s * i, beta * s * i - kappa * e,\n",
    "                kappa * e - gamma * i, gamma * i]\n",
    "\n",
    "        return dydt\n",
    "\n",
    "    def simulate(self, parameters, times):\n",
    "\n",
    "        # Define time spans, initial conditions, and constants\n",
    "        y_init = parameters[:4]\n",
    "        c = parameters[4:]\n",
    "\n",
    "        # Solve the system of ODEs\n",
    "        sol = solve_ivp(lambda t, y: self._right_hand_side(t, y, c),\n",
    "                        [times[0], times[-1]], y_init, t_eval=times)\n",
    "\n",
    "        output = sol['y']\n",
    "\n",
    "        # Total infected is infectious 'i' plus recovered 'r'\n",
    "        total_infected = output[2, :] + output[3, :]\n",
    "\n",
    "        # Number of incidences is the increase in total_infected\n",
    "        # between the time points (add a 0 at the front to\n",
    "        # make the length consistent with the solution\n",
    "        n_incidence = np.zeros(len(times))\n",
    "        n_incidence[1:] = total_infected[1:] - total_infected[:-1]\n",
    "\n",
    "        # Append n_incidence to output\n",
    "        # Output is a matrix with rows being S, E, I, R and Incidence\n",
    "        output = np.vstack(tup=(output, n_incidence))\n",
    "\n",
    "        # Get the selected outputs\n",
    "        output = output[self._output_indices, :]\n",
    "\n",
    "        return output.transpose()\n"
   ]
  },
  {
   "cell_type": "markdown",
   "metadata": {},
   "source": [
    "### Set the parameters and initial conditions of the model and bundle everything together"
   ]
  },
  {
   "cell_type": "code",
   "execution_count": 5,
   "metadata": {},
   "outputs": [
    {
     "name": "stderr",
     "output_type": "stream",
     "text": [
      "<ipython-input-5-a1a439ca82f6>:5: DeprecationWarning: `np.int` is a deprecated alias for the builtin `int`. To silence this warning, use `int` by itself. Doing this will not modify any behavior and is safe. When replacing `np.int`, you may wish to use e.g. `np.int64` or `np.int32` to specify the precision. If you wish to review your current use, check the release note link for additional information.\n",
      "Deprecated in NumPy 1.20; for more details and guidance: https://numpy.org/devdocs/release/1.20.0-notes.html#deprecations\n",
      "  S0 = np.int(np.asarray(phe_parameters.ICs.susceptibles))\n",
      "<ipython-input-5-a1a439ca82f6>:6: DeprecationWarning: `np.int` is a deprecated alias for the builtin `int`. To silence this warning, use `int` by itself. Doing this will not modify any behavior and is safe. When replacing `np.int`, you may wish to use e.g. `np.int64` or `np.int32` to specify the precision. If you wish to review your current use, check the release note link for additional information.\n",
      "Deprecated in NumPy 1.20; for more details and guidance: https://numpy.org/devdocs/release/1.20.0-notes.html#deprecations\n",
      "  E0 = np.int(np.asarray(phe_parameters.ICs.exposed1)) + np.int(np.asarray(phe_parameters.ICs.exposed2))\n",
      "<ipython-input-5-a1a439ca82f6>:7: DeprecationWarning: `np.int` is a deprecated alias for the builtin `int`. To silence this warning, use `int` by itself. Doing this will not modify any behavior and is safe. When replacing `np.int`, you may wish to use e.g. `np.int64` or `np.int32` to specify the precision. If you wish to review your current use, check the release note link for additional information.\n",
      "Deprecated in NumPy 1.20; for more details and guidance: https://numpy.org/devdocs/release/1.20.0-notes.html#deprecations\n",
      "  I0 = np.int(np.asarray(phe_parameters.ICs.infectives1)) + np.int(np.asarray(phe_parameters.ICs.infectives2))\n",
      "<ipython-input-5-a1a439ca82f6>:8: DeprecationWarning: `np.int` is a deprecated alias for the builtin `int`. To silence this warning, use `int` by itself. Doing this will not modify any behavior and is safe. When replacing `np.int`, you may wish to use e.g. `np.int64` or `np.int32` to specify the precision. If you wish to review your current use, check the release note link for additional information.\n",
      "Deprecated in NumPy 1.20; for more details and guidance: https://numpy.org/devdocs/release/1.20.0-notes.html#deprecations\n",
      "  R0 = np.int(np.asarray(phe_parameters.ICs.recovered))\n",
      "<ipython-input-5-a1a439ca82f6>:9: DeprecationWarning: `np.int` is a deprecated alias for the builtin `int`. To silence this warning, use `int` by itself. Doing this will not modify any behavior and is safe. When replacing `np.int`, you may wish to use e.g. `np.int64` or `np.int32` to specify the precision. If you wish to review your current use, check the release note link for additional information.\n",
      "Deprecated in NumPy 1.20; for more details and guidance: https://numpy.org/devdocs/release/1.20.0-notes.html#deprecations\n",
      "  beta = np.int(np.asarray(phe_parameters.regional_parameters.initial_r)) / (S0 * phe_parameters.disease_parameters.dI)\n"
     ]
    }
   ],
   "source": [
    "# Instantiate model\n",
    "seir_model = SEIRModel()\n",
    "\n",
    "# Set all parameters\n",
    "S0 = np.int(np.asarray(phe_parameters.ICs.susceptibles))\n",
    "E0 = np.int(np.asarray(phe_parameters.ICs.exposed1)) + np.int(np.asarray(phe_parameters.ICs.exposed2))\n",
    "I0 = np.int(np.asarray(phe_parameters.ICs.infectives1)) + np.int(np.asarray(phe_parameters.ICs.infectives2))\n",
    "R0 = np.int(np.asarray(phe_parameters.ICs.recovered))\n",
    "beta = np.int(np.asarray(phe_parameters.regional_parameters.initial_r)) / (S0 * phe_parameters.disease_parameters.dI)\n",
    "kappa = 1/phe_parameters.disease_parameters.dL\n",
    "gamma = 1/phe_parameters.disease_parameters.dI\n",
    "\n",
    "seir_parameters = [S0, E0, I0, R0, beta, kappa, gamma]"
   ]
  },
  {
   "cell_type": "markdown",
   "metadata": {},
   "source": [
    "### Simulate for one of the regions: **South West**"
   ]
  },
  {
   "cell_type": "code",
   "execution_count": 6,
   "metadata": {},
   "outputs": [],
   "source": [
    "# Simulate the PHE model using the ODE solver from scipy\n",
    "ext_output_phe_model = phe_model.simulate(phe_parameters)\n",
    "output_phe_model = np.stack((ext_output_phe_model[:, 0], ext_output_phe_model[:, 1] + ext_output_phe_model[:, 2], ext_output_phe_model[:, 3] + ext_output_phe_model[:, 4], ext_output_phe_model[:, 5], ext_output_phe_model[:, 6]), axis=1)\n",
    "\n",
    "# Simulate the SEIR model using the ODE solver from scipy\n",
    "output_seir_model = seir_model.simulate(seir_parameters, times=phe_parameters.regional_parameters.times)"
   ]
  },
  {
   "cell_type": "markdown",
   "metadata": {},
   "source": [
    "## Plot the comparments of the two models against each other\n",
    "### Setup ``plotly`` and default settings for plotting"
   ]
  },
  {
   "cell_type": "code",
   "execution_count": 7,
   "metadata": {},
   "outputs": [],
   "source": [
    "from plotly.subplots import make_subplots\n",
    "\n",
    "colours = ['blue', 'red', 'green', 'purple', 'orange', 'black', 'gray', 'pink']\n",
    "\n",
    "# Group outputs together\n",
    "outputs = [output_phe_model, output_seir_model]"
   ]
  },
  {
   "cell_type": "markdown",
   "metadata": {},
   "source": [
    "### Plot the comparments of the two models against each other"
   ]
  },
  {
   "cell_type": "code",
   "execution_count": 8,
   "metadata": {},
   "outputs": [
    {
     "data": {
      "application/vnd.plotly.v1+json": {
       "config": {
        "plotlyServerURL": "https://plot.ly"
       },
       "data": [
        {
         "line": {
          "color": "blue"
         },
         "mode": "lines",
         "name": "PHE model",
         "type": "scatter",
         "x": [
          1,
          2,
          3,
          4,
          5,
          6,
          7,
          8,
          9,
          10,
          11,
          12,
          13,
          14,
          15,
          16,
          17,
          18,
          19,
          20,
          21,
          22,
          23,
          24,
          25,
          26,
          27,
          28,
          29,
          30,
          31,
          32,
          33,
          34,
          35,
          36,
          37,
          38,
          39,
          40,
          41,
          42,
          43,
          44,
          45,
          46,
          47,
          48,
          49,
          50,
          51,
          52,
          53,
          54,
          55,
          56,
          57,
          58,
          59,
          60,
          61,
          62,
          63,
          64,
          65,
          66,
          67,
          68,
          69,
          70,
          71,
          72,
          73,
          74,
          75,
          76,
          77,
          78,
          79,
          80,
          81,
          82,
          83,
          84,
          85,
          86,
          87,
          88,
          89
         ],
         "xaxis": "x",
         "y": [
          5624696,
          5624679.938534735,
          5624666.8214284405,
          5624655.979997182,
          5624646.526983756,
          5624637.769267265,
          5624629.280670583,
          5624620.85228947,
          5624612.400880261,
          5624603.903764565,
          5624595.375618779,
          5624586.81932109,
          5624578.253104645,
          5624569.684115448,
          5624561.110320321,
          5624552.53709614,
          5624543.963683308,
          5624535.391241612,
          5624526.821745234,
          5624518.25138701,
          5624509.678309949,
          5624501.1046798015,
          5624492.534115328,
          5624483.956159709,
          5624475.382053688,
          5624466.8193317745,
          5624458.264789967,
          5624449.704485756,
          5624441.1287155505,
          5624432.554889318,
          5624423.978199589,
          5624415.4009476025,
          5624406.8307308145,
          5624398.262388645,
          5624389.691517342,
          5624381.1205219105,
          5624372.552208769,
          5624363.982136312,
          5624355.414532298,
          5624346.848796022,
          5624338.280002795,
          5624329.714262291,
          5624321.146249847,
          5624312.571580878,
          5624303.993462838,
          5624295.422335741,
          5624286.857377194,
          5624278.289857026,
          5624269.720711921,
          5624261.154323381,
          5624252.586896239,
          5624244.018710038,
          5624235.450622112,
          5624226.883455329,
          5624218.315412019,
          5624209.7460003225,
          5624201.176900324,
          5624192.610710678,
          5624184.044470336,
          5624175.475742034,
          5624166.906091048,
          5624158.340217044,
          5624149.77563169,
          5624141.208188826,
          5624132.638483852,
          5624124.071608766,
          5624115.5086753005,
          5624106.942588167,
          5624098.3724887585,
          5624089.804906248,
          5624081.242390288,
          5624072.677170406,
          5624064.108736693,
          5624055.543092504,
          5624046.979949356,
          5624038.414544586,
          5624029.84762133,
          5624021.283538906,
          5624012.720269504,
          5624004.154948808,
          5623995.588647962,
          5623987.025398654,
          5623978.463293657,
          5623969.898616057,
          5623961.332020169,
          5623952.7682818975,
          5623944.206374776,
          5623935.643023397,
          5623927.079471951
         ],
         "yaxis": "y"
        },
        {
         "line": {
          "color": "red"
         },
         "mode": "lines",
         "name": "SEIR model",
         "type": "scatter",
         "x": [
          1,
          2,
          3,
          4,
          5,
          6,
          7,
          8,
          9,
          10,
          11,
          12,
          13,
          14,
          15,
          16,
          17,
          18,
          19,
          20,
          21,
          22,
          23,
          24,
          25,
          26,
          27,
          28,
          29,
          30,
          31,
          32,
          33,
          34,
          35,
          36,
          37,
          38,
          39,
          40,
          41,
          42,
          43,
          44,
          45,
          46,
          47,
          48,
          49,
          50,
          51,
          52,
          53,
          54,
          55,
          56,
          57,
          58,
          59,
          60,
          61,
          62,
          63,
          64,
          65,
          66,
          67,
          68,
          69,
          70,
          71,
          72,
          73,
          74,
          75,
          76,
          77,
          78,
          79,
          80,
          81,
          82,
          83,
          84,
          85,
          86,
          87,
          88,
          89
         ],
         "xaxis": "x",
         "y": [
          5624696,
          5624680.362613814,
          5624667.43866651,
          5624656.152234041,
          5624645.870996137,
          5624636.184915167,
          5624626.873096633,
          5624617.780433324,
          5624608.819791069,
          5624599.94850561,
          5624591.120226858,
          5624582.321528597,
          5624573.546575066,
          5624564.781415229,
          5624556.018307641,
          5624547.261101937,
          5624538.509697023,
          5624529.760440194,
          5624521.008019998,
          5624512.255046117,
          5624503.503985269,
          5624494.755541979,
          5624486.0088856,
          5624477.26165031,
          5624468.510108863,
          5624459.754723321,
          5624451.0003596805,
          5624442.2501256745,
          5624433.505081473,
          5624424.764239689,
          5624416.024565378,
          5624407.280976034,
          5624398.527240894,
          5624389.768469942,
          5624381.013129772,
          5624372.265016647,
          5624363.523749783,
          5624354.784771351,
          5624346.039346474,
          5624337.28296929,
          5624328.526434737,
          5624319.775207187,
          5624311.030894711,
          5624302.291296056,
          5624293.550400646,
          5624284.799279971,
          5624276.04131635,
          5624267.285909127,
          5624258.537857831,
          5624249.797803796,
          5624241.062230155,
          5624232.323461848,
          5624223.570836454,
          5624214.8092381405,
          5624206.051405202,
          5624197.3040218195,
          5624188.567933365,
          5624179.838146393,
          5624171.103828651,
          5624162.350334311,
          5624153.587007674,
          5624144.8292162465,
          5624136.0836503245,
          5624127.3499423275,
          5624118.6206667945,
          5624109.8813403845,
          5624101.12340838,
          5624092.365515827,
          5624083.615581651,
          5624074.875473114,
          5624066.141294977,
          5624057.403389506,
          5624048.651723973,
          5624039.897793047,
          5624031.148714533,
          5624022.406752096,
          5624013.670129513,
          5624004.933030674,
          5623996.186461713,
          5623987.433744356,
          5623978.6834446555,
          5623969.939619871,
          5623961.202640774,
          5623952.469191644,
          5623943.732270276,
          5623934.985221907,
          5623926.238733875,
          5623917.494294472,
          5623908.75090528
         ],
         "yaxis": "y"
        },
        {
         "line": {
          "color": "blue"
         },
         "mode": "lines",
         "name": "PHE model",
         "showlegend": false,
         "type": "scatter",
         "x": [
          1,
          2,
          3,
          4,
          5,
          6,
          7,
          8,
          9,
          10,
          11,
          12,
          13,
          14,
          15,
          16,
          17,
          18,
          19,
          20,
          21,
          22,
          23,
          24,
          25,
          26,
          27,
          28,
          29,
          30,
          31,
          32,
          33,
          34,
          35,
          36,
          37,
          38,
          39,
          40,
          41,
          42,
          43,
          44,
          45,
          46,
          47,
          48,
          49,
          50,
          51,
          52,
          53,
          54,
          55,
          56,
          57,
          58,
          59,
          60,
          61,
          62,
          63,
          64,
          65,
          66,
          67,
          68,
          69,
          70,
          71,
          72,
          73,
          74,
          75,
          76,
          77,
          78,
          79,
          80,
          81,
          82,
          83,
          84,
          85,
          86,
          87,
          88,
          89
         ],
         "xaxis": "x2",
         "y": [
          0,
          15.512801181503363,
          25.877679879286536,
          31.580969425587902,
          34.14399912555895,
          34.97166227465,
          35.025289627565066,
          34.81850131740836,
          34.59415512531457,
          34.43564885508752,
          34.33507217290222,
          34.2944374103283,
          34.277207648661296,
          34.26776936818929,
          34.27250640928066,
          34.27683207707664,
          34.28073936561823,
          34.28372707627092,
          34.280394648519774,
          34.27917367220674,
          34.28503026595362,
          34.29270132092428,
          34.292574807590114,
          34.30821087523879,
          34.315924025996495,
          34.29919907577987,
          34.26439193864732,
          34.24072962679899,
          34.25166749727275,
          34.2607316518342,
          34.27098596825331,
          34.28184847032141,
          34.28499287415448,
          34.28286725153275,
          34.285765811424724,
          34.288906082318064,
          34.28683149619936,
          34.28869009959307,
          34.28244768920423,
          34.27048587484528,
          34.26917063527942,
          34.27073189098266,
          34.27086151733129,
          34.272135987735616,
          34.27586966190185,
          34.28188587505854,
          34.28366023345201,
          34.281761428487876,
          34.27887998267573,
          34.27713861419406,
          34.2761119038407,
          34.27314086848154,
          34.272310704601864,
          34.27365923406656,
          34.27362037736329,
          34.27186583598703,
          34.2706004314192,
          34.27232843247715,
          34.2732537151633,
          34.2716657040631,
          34.26905190774633,
          34.26989812211524,
          34.27304440936283,
          34.27126306617977,
          34.265194734831354,
          34.26405211358499,
          34.2688890142728,
          34.26917658678961,
          34.263974074537344,
          34.26190100693877,
          34.266119236037994,
          34.266386018446795,
          34.26213546243417,
          34.261368953296866,
          34.26388237714835,
          34.26303198903379,
          34.25981011928678,
          34.26045102486722,
          34.26200695659908,
          34.26051086489638,
          34.25744091019283,
          34.25832370122587,
          34.26052685844001,
          34.25895548485528,
          34.254509967076686,
          34.25374215747409,
          34.25525793190168,
          34.25453368793553,
          34.25328813661352
         ],
         "yaxis": "y2"
        },
        {
         "line": {
          "color": "red"
         },
         "mode": "lines",
         "name": "SEIR model",
         "showlegend": false,
         "type": "scatter",
         "x": [
          1,
          2,
          3,
          4,
          5,
          6,
          7,
          8,
          9,
          10,
          11,
          12,
          13,
          14,
          15,
          16,
          17,
          18,
          19,
          20,
          21,
          22,
          23,
          24,
          25,
          26,
          27,
          28,
          29,
          30,
          31,
          32,
          33,
          34,
          35,
          36,
          37,
          38,
          39,
          40,
          41,
          42,
          43,
          44,
          45,
          46,
          47,
          48,
          49,
          50,
          51,
          52,
          53,
          54,
          55,
          56,
          57,
          58,
          59,
          60,
          61,
          62,
          63,
          64,
          65,
          66,
          67,
          68,
          69,
          70,
          71,
          72,
          73,
          74,
          75,
          76,
          77,
          78,
          79,
          80,
          81,
          82,
          83,
          84,
          85,
          86,
          87,
          88,
          89
         ],
         "xaxis": "x2",
         "y": [
          0,
          13.774795999332243,
          22.12275279248388,
          27.19571275621949,
          30.25831620119983,
          32.13064023561783,
          33.254476709210735,
          33.94004329817912,
          34.361611743302134,
          34.60451394599509,
          34.76145364134974,
          34.85928666895349,
          34.909687932005376,
          34.94056300143594,
          34.96739823774556,
          34.982497708490484,
          34.98606699096553,
          34.98541494004203,
          34.99116794013294,
          34.9981099909138,
          35.001311013143905,
          34.99936534112289,
          34.99393768665495,
          34.98976313904887,
          34.99429966815437,
          35.00662656851894,
          35.01701512239505,
          35.01925318861438,
          35.01122379612142,
          34.99490514397348,
          34.9763706013407,
          34.965788707506,
          34.975624550756315,
          34.99566146783409,
          35.008969421525485,
          35.00795916477562,
          34.99339567153254,
          34.97439813674718,
          34.9684399763734,
          34.98453647634515,
          35.00110083251478,
          35.007207499822144,
          34.99964367437566,
          34.98281533433492,
          34.96874723991071,
          34.97530013847237,
          34.99571270186566,
          35.011189273677,
          35.01213399080053,
          34.99726755575973,
          34.97362723670739,
          34.95656686742566,
          34.9674151328163,
          34.99640694683846,
          35.01806854126593,
          35.019034632333515,
          34.99761783283029,
          34.96380865209958,
          34.93927549603902,
          34.953314102495916,
          34.98723888849686,
          35.01031746840937,
          35.00917228893563,
          34.984541920417485,
          34.95128105683639,
          34.938360515813436,
          34.96289359871197,
          34.98759265543274,
          34.99662277635652,
          34.98625272163244,
          34.964276572997704,
          34.95001373377755,
          34.96353363295568,
          34.98184969729362,
          34.99072927772409,
          34.985648290458826,
          34.97016267884479,
          34.95590841336424,
          34.96087716937159,
          34.97842871970235,
          34.99143379540502,
          34.991780995174366,
          34.97873214167001,
          34.95892228151641,
          34.94635968530287,
          34.95435771372621,
          34.9615443813797,
          34.96494639353126,
          34.96656404313694
         ],
         "yaxis": "y2"
        },
        {
         "line": {
          "color": "blue"
         },
         "mode": "lines",
         "name": "PHE model",
         "showlegend": false,
         "type": "scatter",
         "x": [
          1,
          2,
          3,
          4,
          5,
          6,
          7,
          8,
          9,
          10,
          11,
          12,
          13,
          14,
          15,
          16,
          17,
          18,
          19,
          20,
          21,
          22,
          23,
          24,
          25,
          26,
          27,
          28,
          29,
          30,
          31,
          32,
          33,
          34,
          35,
          36,
          37,
          38,
          39,
          40,
          41,
          42,
          43,
          44,
          45,
          46,
          47,
          48,
          49,
          50,
          51,
          52,
          53,
          54,
          55,
          56,
          57,
          58,
          59,
          60,
          61,
          62,
          63,
          64,
          65,
          66,
          67,
          68,
          69,
          70,
          71,
          72,
          73,
          74,
          75,
          76,
          77,
          78,
          79,
          80,
          81,
          82,
          83,
          84,
          85,
          86,
          87,
          88,
          89
         ],
         "xaxis": "x3",
         "y": [
          70,
          58.164007761179676,
          47.30697875596629,
          40.02722060080177,
          36.04934476975096,
          34.29465830628345,
          33.73787498465457,
          33.73404479325674,
          33.89423545539779,
          34.05920202447851,
          34.18245339290547,
          34.245299993802284,
          34.27859286422398,
          34.29927213088149,
          34.296886164071935,
          34.29296980665117,
          34.29129522523664,
          34.28818506976541,
          34.29221528245844,
          34.29334839125056,
          34.28389985752288,
          34.27116496592416,
          34.27080173130511,
          34.257336098313374,
          34.24955770085862,
          34.26306573097946,
          34.294043596079746,
          34.31925891892852,
          34.31410785094327,
          34.30439453200463,
          34.297772204739886,
          34.29074738883419,
          34.28468169175029,
          34.28610224614316,
          34.27629007038308,
          34.26535130275866,
          34.27014252660381,
          34.27082112857584,
          34.27584706730257,
          34.28484425941552,
          34.28818137910828,
          34.29296561016649,
          34.29448913036559,
          34.28746719636787,
          34.27477319891828,
          34.26760427114034,
          34.27359950489882,
          34.27164183144808,
          34.26433341605478,
          34.270779769862656,
          34.27447903589877,
          34.27494985123285,
          34.27568761340831,
          34.2783216776484,
          34.27811556108359,
          34.274118936897736,
          34.27057003635191,
          34.274770976317356,
          34.27859074699681,
          34.27350618899012,
          34.26476185370954,
          34.26854772663811,
          34.27658365256228,
          34.27450577194353,
          34.26427322359237,
          34.26335735644868,
          34.27487112864362,
          34.275615528286934,
          34.26303375549256,
          34.257988704908264,
          34.26883177840097,
          34.27030905833318,
          34.26064619059609,
          34.25979100669218,
          34.266796317570126,
          34.26583406715996,
          34.25934054373879,
          34.26171959821271,
          34.26623050161545,
          34.263472923351316,
          34.2569648868174,
          34.25993111084223,
          34.266124337272515,
          34.2632773006043,
          34.253538239763586,
          34.25266427910514,
          34.25726821734894,
          34.25653461525215,
          34.254557555759476
         ],
         "yaxis": "y3"
        },
        {
         "line": {
          "color": "red"
         },
         "mode": "lines",
         "name": "SEIR model",
         "showlegend": false,
         "type": "scatter",
         "x": [
          1,
          2,
          3,
          4,
          5,
          6,
          7,
          8,
          9,
          10,
          11,
          12,
          13,
          14,
          15,
          16,
          17,
          18,
          19,
          20,
          21,
          22,
          23,
          24,
          25,
          26,
          27,
          28,
          29,
          30,
          31,
          32,
          33,
          34,
          35,
          36,
          37,
          38,
          39,
          40,
          41,
          42,
          43,
          44,
          45,
          46,
          47,
          48,
          49,
          50,
          51,
          52,
          53,
          54,
          55,
          56,
          57,
          58,
          59,
          60,
          61,
          62,
          63,
          64,
          65,
          66,
          67,
          68,
          69,
          70,
          71,
          72,
          73,
          74,
          75,
          76,
          77,
          78,
          79,
          80,
          81,
          82,
          83,
          84,
          85,
          86,
          87,
          88,
          89
         ],
         "xaxis": "x3",
         "y": [
          70,
          56.22518228339676,
          47.87717464058855,
          42.80414604649095,
          39.741460304303175,
          37.86904160593285,
          36.745098374062216,
          36.05941267487972,
          35.63771247850588,
          35.39466576921976,
          35.23756837995392,
          35.139564403231624,
          35.0889789468833,
          35.057906217927524,
          35.0308597090653,
          35.01553547605308,
          35.011727963311785,
          35.01212822497614,
          35.006109721754065,
          34.99888852542183,
          34.995394811147435,
          34.99703427625326,
          35.00214218029615,
          35.00598334506745,
          35.001099642699124,
          34.988411759427244,
          34.97764865659958,
          34.97502263699086,
          34.982650728521925,
          34.99855468425967,
          35.016660982417065,
          35.026800826353146,
          35.01650880062115,
          34.99600177831653,
          34.98221029570223,
          34.98272384337786,
          34.99677743265838,
          35.015251595574036,
          35.02067238487043,
          35.00402420177608,
          34.98689451569942,
          34.98020927200719,
          34.98718139841837,
          35.00340476646763,
          35.01685419150536,
          35.00966828022018,
          34.98860854125338,
          34.97247137532187,
          34.97085304949656,
          34.985032921700906,
          35.00797344071087,
          35.024320146154956,
          35.012743461033956,
          34.983008787980786,
          34.96059105016019,
          34.958856166662315,
          34.9794916139967,
          35.01250642609231,
          35.036231194297486,
          35.02136880268249,
          34.98660561532551,
          34.962675562150125,
          34.96295690631034,
          34.98671105388146,
          35.019082553860095,
          35.031099098164184,
          35.00564645782747,
          34.98001420309544,
          34.97003815306313,
          34.9794497741804,
          35.00045455597956,
          35.013732011075284,
          34.99921155806095,
          34.97988104301018,
          34.96997398675164,
          34.97401476219677,
          34.988447216432235,
          35.00163467071995,
          34.995584340513666,
          34.976936809335776,
          34.96282245825487,
          34.961353238657956,
          34.973267384816516,
          34.991929413886474,
          35.00333012590822,
          34.99415527181854,
          34.9857782519941,
          34.98117256715731,
          34.978337793133534
         ],
         "yaxis": "y3"
        },
        {
         "line": {
          "color": "blue"
         },
         "mode": "lines",
         "name": "PHE model",
         "showlegend": false,
         "type": "scatter",
         "x": [
          1,
          2,
          3,
          4,
          5,
          6,
          7,
          8,
          9,
          10,
          11,
          12,
          13,
          14,
          15,
          16,
          17,
          18,
          19,
          20,
          21,
          22,
          23,
          24,
          25,
          26,
          27,
          28,
          29,
          30,
          31,
          32,
          33,
          34,
          35,
          36,
          37,
          38,
          39,
          40,
          41,
          42,
          43,
          44,
          45,
          46,
          47,
          48,
          49,
          50,
          51,
          52,
          53,
          54,
          55,
          56,
          57,
          58,
          59,
          60,
          61,
          62,
          63,
          64,
          65,
          66,
          67,
          68,
          69,
          70,
          71,
          72,
          73,
          74,
          75,
          76,
          77,
          78,
          79,
          80,
          81,
          82,
          83,
          84,
          85,
          86,
          87,
          88,
          89
         ],
         "xaxis": "x4",
         "y": [
          0,
          12.384656322464224,
          25.993912924223032,
          38.41181279032756,
          49.27967234815147,
          58.96441215366424,
          67.95616480399796,
          76.59516441829336,
          85.11072915726888,
          93.6013845549973,
          102.1068556541996,
          110.64094150457011,
          119.19109484110105,
          127.74884305244737,
          136.32028710401846,
          144.89310197504554,
          153.46428210034202,
          162.036846241338,
          170.60564483445992,
          179.17609092526945,
          187.7527599264947,
          196.3314539110126,
          204.90250813220658,
          213.4782933167626,
          222.05246458440644,
          230.61840341810907,
          239.17677449723087,
          247.73552569752155,
          256.30550909996464,
          264.87998449725666,
          273.4530422368639,
          282.0264565373169,
          290.5995946186391,
          299.1686418568036,
          307.74642677585814,
          316.3252207037461,
          324.8908172077055,
          333.45835245906767,
          342.0271729449092,
          350.59587384313636,
          359.16264518897964,
          367.72204020663906,
          376.28839950442966,
          384.8688159362831,
          393.45589429955317,
          402.0281741116585,
          410.58536306726495,
          419.1567397133341,
          427.7360746794416,
          436.29775823338014,
          444.8625128201022,
          453.4331992414362,
          462.00137956963084,
          470.56456375836507,
          479.132852041291,
          487.70801490333565,
          496.2819292065877,
          504.84218991178267,
          513.4036851997993,
          521.9790860720154,
          530.5600951887216,
          539.1213371056944,
          547.6747402465479,
          556.2460423341755,
          564.8320481882582,
          573.4009817621071,
          581.9475645546206,
          590.5126197156317,
          599.1005034100268,
          607.6752040382912,
          616.2226586954458,
          624.786134515246,
          633.3684816516891,
          641.9357475332738,
          650.4893719465849,
          659.0565893549217,
          667.633228004493,
          676.1942904693702,
          684.7514930355519,
          693.3210674017985,
          701.8969462393038,
          710.4563465325833,
          719.0100551460372,
          727.5791511554644,
          736.1599316219831,
          744.7253116642459,
          753.2810990737382,
          761.8459082983595,
          770.4126823547609
         ],
         "yaxis": "y4"
        },
        {
         "line": {
          "color": "red"
         },
         "mode": "lines",
         "name": "SEIR model",
         "showlegend": false,
         "type": "scatter",
         "x": [
          1,
          2,
          3,
          4,
          5,
          6,
          7,
          8,
          9,
          10,
          11,
          12,
          13,
          14,
          15,
          16,
          17,
          18,
          19,
          20,
          21,
          22,
          23,
          24,
          25,
          26,
          27,
          28,
          29,
          30,
          31,
          32,
          33,
          34,
          35,
          36,
          37,
          38,
          39,
          40,
          41,
          42,
          43,
          44,
          45,
          46,
          47,
          48,
          49,
          50,
          51,
          52,
          53,
          54,
          55,
          56,
          57,
          58,
          59,
          60,
          61,
          62,
          63,
          64,
          65,
          66,
          67,
          68,
          69,
          70,
          71,
          72,
          73,
          74,
          75,
          76,
          77,
          78,
          79,
          80,
          81,
          82,
          83,
          84,
          85,
          86,
          87,
          88,
          89
         ],
         "xaxis": "x4",
         "y": [
          0,
          15.637407904155161,
          28.561406058005325,
          39.84790715733728,
          50.129227358295466,
          59.815402992500374,
          69.12732828531662,
          78.22011070440108,
          87.18088471018817,
          96.05231467556615,
          104.88075112205738,
          113.67962033233391,
          122.45475805674678,
          131.22011555302697,
          139.98343441365367,
          148.74086487988268,
          157.4925080242588,
          166.24201664246334,
          174.99470234237216,
          183.7479553686271,
          192.49930890870453,
          201.24805840520858,
          209.9950345347496,
          218.7426032079443,
          227.49449182735174,
          236.25023835286248,
          245.00497654189024,
          253.7555985019129,
          262.5010440041884,
          271.24230048375426,
          279.98240303942805,
          288.72643443380696,
          297.4806257560695,
          306.23986681360566,
          314.99569051255486,
          323.74430034675845,
          332.48607711448443,
          341.22557891842706,
          349.97154116570727,
          358.7284700326685,
          367.48556991573815,
          376.23737604237203,
          384.98228021819233,
          393.7224838456495,
          402.4639979240226,
          411.2157516121509,
          419.9743624082096,
          428.7304302254303,
          437.47915512996394,
          446.21989572868534,
          454.9561691691935,
          463.69565113981133,
          472.4490049532739,
          481.21134612619676,
          489.9699352082775,
          498.7180873824504,
          507.4549571898484,
          516.1855385298031,
          524.9206646598448,
          533.6749827846234,
          542.4391478228868,
          551.1977907238735,
          559.9442204806736,
          568.6788046987272,
          577.4089695958236,
          586.1492000021021,
          594.9080515645813,
          603.6668773153491,
          612.4177574199584,
          621.1588243914265,
          629.8939738953743,
          638.6328647500269,
          647.3855308366848,
          656.1404762131281,
          664.8905822036061,
          673.6335848525497,
          682.3712605922138,
          691.1094262426784,
          699.8570767771087,
          708.6108901153269,
          717.3622990913251,
          726.1072458954947,
          734.8453597003479,
          743.5799566605176,
          752.318039912757,
          761.0662651075169,
          769.8139434916245,
          778.559586567302,
          787.3041928839405
         ],
         "yaxis": "y4"
        },
        {
         "line": {
          "color": "blue"
         },
         "mode": "lines",
         "name": "PHE model",
         "showlegend": false,
         "type": "scatter",
         "x": [
          1,
          2,
          3,
          4,
          5,
          6,
          7,
          8,
          9,
          10,
          11,
          12,
          13,
          14,
          15,
          16,
          17,
          18,
          19,
          20,
          21,
          22,
          23,
          24,
          25,
          26,
          27,
          28,
          29,
          30,
          31,
          32,
          33,
          34,
          35,
          36,
          37,
          38,
          39,
          40,
          41,
          42,
          43,
          44,
          45,
          46,
          47,
          48,
          49,
          50,
          51,
          52,
          53,
          54,
          55,
          56,
          57,
          58,
          59,
          60,
          61,
          62,
          63,
          64,
          65,
          66,
          67,
          68,
          69,
          70,
          71,
          72,
          73,
          74,
          75,
          76,
          77,
          78,
          79,
          80,
          81,
          82,
          83,
          84,
          85,
          86,
          87,
          88,
          89
         ],
         "xaxis": "x5",
         "y": [
          0,
          0.5486640836438994,
          2.752227596545424,
          5.138141710940005,
          6.889983726773096,
          7.9300533420452695,
          8.434969328704838,
          8.635169422897576,
          8.675755401116561,
          8.655621966809136,
          8.62872246762926,
          8.596932451267321,
          8.583446206952658,
          8.578427478003817,
          8.569058084761537,
          8.568898513606314,
          8.569505543881945,
          8.569453985524746,
          8.572828805814964,
          8.571579199601643,
          8.567220467497549,
          8.5659590929192,
          8.570690986574931,
          8.562319551564286,
          8.566392870189048,
          8.579446863823478,
          8.589348944222138,
          8.583966523139452,
          8.564832334457833,
          8.56476207835334,
          8.566435412342514,
          8.566389484547301,
          8.567072384238315,
          8.570467792557395,
          8.567972743294433,
          8.567855160263548,
          8.57038772780453,
          8.568213853334214,
          8.573846424568217,
          8.577698090340164,
          8.57010846553601,
          8.564179248717664,
          8.567882817989698,
          8.573394497855702,
          8.574384365820492,
          8.56511088432734,
          8.56318418936496,
          8.569418972618394,
          8.572026550714213,
          8.568129907746425,
          8.568453852758182,
          8.571157236668114,
          8.568918090370062,
          8.565818252974339,
          8.568082166361137,
          8.571166237858733,
          8.570365402706216,
          8.564461645160463,
          8.565315058696001,
          8.570316314209549,
          8.572264781425474,
          8.565027789901364,
          8.56143906677778,
          8.569224207008801,
          8.575773305731559,
          8.568017706705177,
          8.558096564708535,
          8.565799560654341,
          8.575301921600726,
          8.569655577680123,
          8.558297730647382,
          8.564953099732293,
          8.572684268705984,
          8.566410697680908,
          8.56062972418897,
          8.566255157926662,
          8.570145126150123,
          8.563441519351159,
          8.561713469584447,
          8.566816787982361,
          8.569370800971456,
          8.562366517304326,
          8.559901839884219,
          8.566248972758899,
          8.571041405677988,
          8.56450608160435,
          8.560391347736186,
          8.564075622524456,
          8.56479699690874
         ],
         "yaxis": "y5"
        },
        {
         "line": {
          "color": "red"
         },
         "mode": "lines",
         "name": "SEIR model",
         "showlegend": false,
         "type": "scatter",
         "x": [
          1,
          2,
          3,
          4,
          5,
          6,
          7,
          8,
          9,
          10,
          11,
          12,
          13,
          14,
          15,
          16,
          17,
          18,
          19,
          20,
          21,
          22,
          23,
          24,
          25,
          26,
          27,
          28,
          29,
          30,
          31,
          32,
          33,
          34,
          35,
          36,
          37,
          38,
          39,
          40,
          41,
          42,
          43,
          44,
          45,
          46,
          47,
          48,
          49,
          50,
          51,
          52,
          53,
          54,
          55,
          56,
          57,
          58,
          59,
          60,
          61,
          62,
          63,
          64,
          65,
          66,
          67,
          68,
          69,
          70,
          71,
          72,
          73,
          74,
          75,
          76,
          77,
          78,
          79,
          80,
          81,
          82,
          83,
          84,
          85,
          86,
          87,
          88,
          89
         ],
         "xaxis": "x5",
         "y": [
          0,
          1.8625901875519162,
          4.575990511041965,
          6.21347250523435,
          7.21863445877041,
          7.81375693583459,
          8.187982060945615,
          8.407096719901944,
          8.539073809413253,
          8.628383256091865,
          8.671339057225396,
          8.700865233554225,
          8.72455226806457,
          8.734284767324397,
          8.736272351764484,
          8.742106233216788,
          8.747835631634814,
          8.749908879868912,
          8.74666719668673,
          8.746031829922714,
          8.747859825803033,
          8.750388961609872,
          8.752084033583913,
          8.751409837966008,
          8.747004917039078,
          8.743058642238907,
          8.743975086200066,
          8.747995940413944,
          8.753073593806562,
          8.757160435303604,
          8.758208853831206,
          8.754171238314996,
          8.743899296530515,
          8.738734035231573,
          8.742032216334906,
          8.749123381879201,
          8.75583035700646,
          8.75797596685834,
          8.751383036576556,
          8.7402806838669,
          8.739970196993,
          8.745120882941649,
          8.751876302231494,
          8.756426995506388,
          8.754963503410806,
          8.744567776843155,
          8.737551057091878,
          8.739930651289228,
          8.747106578708326,
          8.754920470925754,
          8.75921395951815,
          8.755828676061867,
          8.741777128341596,
          8.73260649986969,
          8.736171344260129,
          8.746417290675026,
          8.75750525473245,
          8.76359615205024,
          8.758850898246806,
          8.739455733163595,
          8.72940185090647,
          8.734712847811352,
          8.746711100960283,
          8.758338365624695,
          8.76253639707511,
          8.752246950582617,
          8.733398922142442,
          8.733193496035824,
          8.740904054576959,
          8.750478592585296,
          8.756154285747016,
          8.7521683097483,
          8.738145633643512,
          8.735614861392605,
          8.740198934219393,
          8.747043424388835,
          8.75210819389963,
          8.751353104752184,
          8.741600204224028,
          8.735165807040403,
          8.73729462491724,
          8.743477584572588,
          8.750027951011816,
          8.753258989239725,
          8.749483964261003,
          8.739050340670246,
          8.739301364283278,
          8.741037390840575,
          8.741771542614742
         ],
         "yaxis": "y5"
        }
       ],
       "layout": {
        "annotations": [
         {
          "font": {
           "size": 16
          },
          "showarrow": false,
          "text": "S in region SW",
          "x": 0.225,
          "xanchor": "center",
          "xref": "paper",
          "y": 1,
          "yanchor": "bottom",
          "yref": "paper"
         },
         {
          "font": {
           "size": 16
          },
          "showarrow": false,
          "text": "E in region SW",
          "x": 0.775,
          "xanchor": "center",
          "xref": "paper",
          "y": 1,
          "yanchor": "bottom",
          "yref": "paper"
         },
         {
          "font": {
           "size": 16
          },
          "showarrow": false,
          "text": "I in region SW",
          "x": 0.225,
          "xanchor": "center",
          "xref": "paper",
          "y": 0.6111111111111112,
          "yanchor": "bottom",
          "yref": "paper"
         },
         {
          "font": {
           "size": 16
          },
          "showarrow": false,
          "text": "R in region SW",
          "x": 0.775,
          "xanchor": "center",
          "xref": "paper",
          "y": 0.6111111111111112,
          "yanchor": "bottom",
          "yref": "paper"
         },
         {
          "font": {
           "size": 16
          },
          "showarrow": false,
          "text": "Incidence in region SW",
          "x": 0.225,
          "xanchor": "center",
          "xref": "paper",
          "y": 0.22222222222222224,
          "yanchor": "bottom",
          "yref": "paper"
         }
        ],
        "boxmode": "group",
        "height": 800,
        "plot_bgcolor": "white",
        "template": {
         "data": {
          "bar": [
           {
            "error_x": {
             "color": "#2a3f5f"
            },
            "error_y": {
             "color": "#2a3f5f"
            },
            "marker": {
             "line": {
              "color": "#E5ECF6",
              "width": 0.5
             },
             "pattern": {
              "fillmode": "overlay",
              "size": 10,
              "solidity": 0.2
             }
            },
            "type": "bar"
           }
          ],
          "barpolar": [
           {
            "marker": {
             "line": {
              "color": "#E5ECF6",
              "width": 0.5
             },
             "pattern": {
              "fillmode": "overlay",
              "size": 10,
              "solidity": 0.2
             }
            },
            "type": "barpolar"
           }
          ],
          "carpet": [
           {
            "aaxis": {
             "endlinecolor": "#2a3f5f",
             "gridcolor": "white",
             "linecolor": "white",
             "minorgridcolor": "white",
             "startlinecolor": "#2a3f5f"
            },
            "baxis": {
             "endlinecolor": "#2a3f5f",
             "gridcolor": "white",
             "linecolor": "white",
             "minorgridcolor": "white",
             "startlinecolor": "#2a3f5f"
            },
            "type": "carpet"
           }
          ],
          "choropleth": [
           {
            "colorbar": {
             "outlinewidth": 0,
             "ticks": ""
            },
            "type": "choropleth"
           }
          ],
          "contour": [
           {
            "colorbar": {
             "outlinewidth": 0,
             "ticks": ""
            },
            "colorscale": [
             [
              0,
              "#0d0887"
             ],
             [
              0.1111111111111111,
              "#46039f"
             ],
             [
              0.2222222222222222,
              "#7201a8"
             ],
             [
              0.3333333333333333,
              "#9c179e"
             ],
             [
              0.4444444444444444,
              "#bd3786"
             ],
             [
              0.5555555555555556,
              "#d8576b"
             ],
             [
              0.6666666666666666,
              "#ed7953"
             ],
             [
              0.7777777777777778,
              "#fb9f3a"
             ],
             [
              0.8888888888888888,
              "#fdca26"
             ],
             [
              1,
              "#f0f921"
             ]
            ],
            "type": "contour"
           }
          ],
          "contourcarpet": [
           {
            "colorbar": {
             "outlinewidth": 0,
             "ticks": ""
            },
            "type": "contourcarpet"
           }
          ],
          "heatmap": [
           {
            "colorbar": {
             "outlinewidth": 0,
             "ticks": ""
            },
            "colorscale": [
             [
              0,
              "#0d0887"
             ],
             [
              0.1111111111111111,
              "#46039f"
             ],
             [
              0.2222222222222222,
              "#7201a8"
             ],
             [
              0.3333333333333333,
              "#9c179e"
             ],
             [
              0.4444444444444444,
              "#bd3786"
             ],
             [
              0.5555555555555556,
              "#d8576b"
             ],
             [
              0.6666666666666666,
              "#ed7953"
             ],
             [
              0.7777777777777778,
              "#fb9f3a"
             ],
             [
              0.8888888888888888,
              "#fdca26"
             ],
             [
              1,
              "#f0f921"
             ]
            ],
            "type": "heatmap"
           }
          ],
          "heatmapgl": [
           {
            "colorbar": {
             "outlinewidth": 0,
             "ticks": ""
            },
            "colorscale": [
             [
              0,
              "#0d0887"
             ],
             [
              0.1111111111111111,
              "#46039f"
             ],
             [
              0.2222222222222222,
              "#7201a8"
             ],
             [
              0.3333333333333333,
              "#9c179e"
             ],
             [
              0.4444444444444444,
              "#bd3786"
             ],
             [
              0.5555555555555556,
              "#d8576b"
             ],
             [
              0.6666666666666666,
              "#ed7953"
             ],
             [
              0.7777777777777778,
              "#fb9f3a"
             ],
             [
              0.8888888888888888,
              "#fdca26"
             ],
             [
              1,
              "#f0f921"
             ]
            ],
            "type": "heatmapgl"
           }
          ],
          "histogram": [
           {
            "marker": {
             "pattern": {
              "fillmode": "overlay",
              "size": 10,
              "solidity": 0.2
             }
            },
            "type": "histogram"
           }
          ],
          "histogram2d": [
           {
            "colorbar": {
             "outlinewidth": 0,
             "ticks": ""
            },
            "colorscale": [
             [
              0,
              "#0d0887"
             ],
             [
              0.1111111111111111,
              "#46039f"
             ],
             [
              0.2222222222222222,
              "#7201a8"
             ],
             [
              0.3333333333333333,
              "#9c179e"
             ],
             [
              0.4444444444444444,
              "#bd3786"
             ],
             [
              0.5555555555555556,
              "#d8576b"
             ],
             [
              0.6666666666666666,
              "#ed7953"
             ],
             [
              0.7777777777777778,
              "#fb9f3a"
             ],
             [
              0.8888888888888888,
              "#fdca26"
             ],
             [
              1,
              "#f0f921"
             ]
            ],
            "type": "histogram2d"
           }
          ],
          "histogram2dcontour": [
           {
            "colorbar": {
             "outlinewidth": 0,
             "ticks": ""
            },
            "colorscale": [
             [
              0,
              "#0d0887"
             ],
             [
              0.1111111111111111,
              "#46039f"
             ],
             [
              0.2222222222222222,
              "#7201a8"
             ],
             [
              0.3333333333333333,
              "#9c179e"
             ],
             [
              0.4444444444444444,
              "#bd3786"
             ],
             [
              0.5555555555555556,
              "#d8576b"
             ],
             [
              0.6666666666666666,
              "#ed7953"
             ],
             [
              0.7777777777777778,
              "#fb9f3a"
             ],
             [
              0.8888888888888888,
              "#fdca26"
             ],
             [
              1,
              "#f0f921"
             ]
            ],
            "type": "histogram2dcontour"
           }
          ],
          "mesh3d": [
           {
            "colorbar": {
             "outlinewidth": 0,
             "ticks": ""
            },
            "type": "mesh3d"
           }
          ],
          "parcoords": [
           {
            "line": {
             "colorbar": {
              "outlinewidth": 0,
              "ticks": ""
             }
            },
            "type": "parcoords"
           }
          ],
          "pie": [
           {
            "automargin": true,
            "type": "pie"
           }
          ],
          "scatter": [
           {
            "marker": {
             "colorbar": {
              "outlinewidth": 0,
              "ticks": ""
             }
            },
            "type": "scatter"
           }
          ],
          "scatter3d": [
           {
            "line": {
             "colorbar": {
              "outlinewidth": 0,
              "ticks": ""
             }
            },
            "marker": {
             "colorbar": {
              "outlinewidth": 0,
              "ticks": ""
             }
            },
            "type": "scatter3d"
           }
          ],
          "scattercarpet": [
           {
            "marker": {
             "colorbar": {
              "outlinewidth": 0,
              "ticks": ""
             }
            },
            "type": "scattercarpet"
           }
          ],
          "scattergeo": [
           {
            "marker": {
             "colorbar": {
              "outlinewidth": 0,
              "ticks": ""
             }
            },
            "type": "scattergeo"
           }
          ],
          "scattergl": [
           {
            "marker": {
             "colorbar": {
              "outlinewidth": 0,
              "ticks": ""
             }
            },
            "type": "scattergl"
           }
          ],
          "scattermapbox": [
           {
            "marker": {
             "colorbar": {
              "outlinewidth": 0,
              "ticks": ""
             }
            },
            "type": "scattermapbox"
           }
          ],
          "scatterpolar": [
           {
            "marker": {
             "colorbar": {
              "outlinewidth": 0,
              "ticks": ""
             }
            },
            "type": "scatterpolar"
           }
          ],
          "scatterpolargl": [
           {
            "marker": {
             "colorbar": {
              "outlinewidth": 0,
              "ticks": ""
             }
            },
            "type": "scatterpolargl"
           }
          ],
          "scatterternary": [
           {
            "marker": {
             "colorbar": {
              "outlinewidth": 0,
              "ticks": ""
             }
            },
            "type": "scatterternary"
           }
          ],
          "surface": [
           {
            "colorbar": {
             "outlinewidth": 0,
             "ticks": ""
            },
            "colorscale": [
             [
              0,
              "#0d0887"
             ],
             [
              0.1111111111111111,
              "#46039f"
             ],
             [
              0.2222222222222222,
              "#7201a8"
             ],
             [
              0.3333333333333333,
              "#9c179e"
             ],
             [
              0.4444444444444444,
              "#bd3786"
             ],
             [
              0.5555555555555556,
              "#d8576b"
             ],
             [
              0.6666666666666666,
              "#ed7953"
             ],
             [
              0.7777777777777778,
              "#fb9f3a"
             ],
             [
              0.8888888888888888,
              "#fdca26"
             ],
             [
              1,
              "#f0f921"
             ]
            ],
            "type": "surface"
           }
          ],
          "table": [
           {
            "cells": {
             "fill": {
              "color": "#EBF0F8"
             },
             "line": {
              "color": "white"
             }
            },
            "header": {
             "fill": {
              "color": "#C8D4E3"
             },
             "line": {
              "color": "white"
             }
            },
            "type": "table"
           }
          ]
         },
         "layout": {
          "annotationdefaults": {
           "arrowcolor": "#2a3f5f",
           "arrowhead": 0,
           "arrowwidth": 1
          },
          "autotypenumbers": "strict",
          "coloraxis": {
           "colorbar": {
            "outlinewidth": 0,
            "ticks": ""
           }
          },
          "colorscale": {
           "diverging": [
            [
             0,
             "#8e0152"
            ],
            [
             0.1,
             "#c51b7d"
            ],
            [
             0.2,
             "#de77ae"
            ],
            [
             0.3,
             "#f1b6da"
            ],
            [
             0.4,
             "#fde0ef"
            ],
            [
             0.5,
             "#f7f7f7"
            ],
            [
             0.6,
             "#e6f5d0"
            ],
            [
             0.7,
             "#b8e186"
            ],
            [
             0.8,
             "#7fbc41"
            ],
            [
             0.9,
             "#4d9221"
            ],
            [
             1,
             "#276419"
            ]
           ],
           "sequential": [
            [
             0,
             "#0d0887"
            ],
            [
             0.1111111111111111,
             "#46039f"
            ],
            [
             0.2222222222222222,
             "#7201a8"
            ],
            [
             0.3333333333333333,
             "#9c179e"
            ],
            [
             0.4444444444444444,
             "#bd3786"
            ],
            [
             0.5555555555555556,
             "#d8576b"
            ],
            [
             0.6666666666666666,
             "#ed7953"
            ],
            [
             0.7777777777777778,
             "#fb9f3a"
            ],
            [
             0.8888888888888888,
             "#fdca26"
            ],
            [
             1,
             "#f0f921"
            ]
           ],
           "sequentialminus": [
            [
             0,
             "#0d0887"
            ],
            [
             0.1111111111111111,
             "#46039f"
            ],
            [
             0.2222222222222222,
             "#7201a8"
            ],
            [
             0.3333333333333333,
             "#9c179e"
            ],
            [
             0.4444444444444444,
             "#bd3786"
            ],
            [
             0.5555555555555556,
             "#d8576b"
            ],
            [
             0.6666666666666666,
             "#ed7953"
            ],
            [
             0.7777777777777778,
             "#fb9f3a"
            ],
            [
             0.8888888888888888,
             "#fdca26"
            ],
            [
             1,
             "#f0f921"
            ]
           ]
          },
          "colorway": [
           "#636efa",
           "#EF553B",
           "#00cc96",
           "#ab63fa",
           "#FFA15A",
           "#19d3f3",
           "#FF6692",
           "#B6E880",
           "#FF97FF",
           "#FECB52"
          ],
          "font": {
           "color": "#2a3f5f"
          },
          "geo": {
           "bgcolor": "white",
           "lakecolor": "white",
           "landcolor": "#E5ECF6",
           "showlakes": true,
           "showland": true,
           "subunitcolor": "white"
          },
          "hoverlabel": {
           "align": "left"
          },
          "hovermode": "closest",
          "mapbox": {
           "style": "light"
          },
          "paper_bgcolor": "white",
          "plot_bgcolor": "#E5ECF6",
          "polar": {
           "angularaxis": {
            "gridcolor": "white",
            "linecolor": "white",
            "ticks": ""
           },
           "bgcolor": "#E5ECF6",
           "radialaxis": {
            "gridcolor": "white",
            "linecolor": "white",
            "ticks": ""
           }
          },
          "scene": {
           "xaxis": {
            "backgroundcolor": "#E5ECF6",
            "gridcolor": "white",
            "gridwidth": 2,
            "linecolor": "white",
            "showbackground": true,
            "ticks": "",
            "zerolinecolor": "white"
           },
           "yaxis": {
            "backgroundcolor": "#E5ECF6",
            "gridcolor": "white",
            "gridwidth": 2,
            "linecolor": "white",
            "showbackground": true,
            "ticks": "",
            "zerolinecolor": "white"
           },
           "zaxis": {
            "backgroundcolor": "#E5ECF6",
            "gridcolor": "white",
            "gridwidth": 2,
            "linecolor": "white",
            "showbackground": true,
            "ticks": "",
            "zerolinecolor": "white"
           }
          },
          "shapedefaults": {
           "line": {
            "color": "#2a3f5f"
           }
          },
          "ternary": {
           "aaxis": {
            "gridcolor": "white",
            "linecolor": "white",
            "ticks": ""
           },
           "baxis": {
            "gridcolor": "white",
            "linecolor": "white",
            "ticks": ""
           },
           "bgcolor": "#E5ECF6",
           "caxis": {
            "gridcolor": "white",
            "linecolor": "white",
            "ticks": ""
           }
          },
          "title": {
           "x": 0.05
          },
          "xaxis": {
           "automargin": true,
           "gridcolor": "white",
           "linecolor": "white",
           "ticks": "",
           "title": {
            "standoff": 15
           },
           "zerolinecolor": "white",
           "zerolinewidth": 2
          },
          "yaxis": {
           "automargin": true,
           "gridcolor": "white",
           "linecolor": "white",
           "ticks": "",
           "title": {
            "standoff": 15
           },
           "zerolinecolor": "white",
           "zerolinewidth": 2
          }
         }
        },
        "title": {
         "text": "PHE vs SEIR Model"
        },
        "width": 900,
        "xaxis": {
         "anchor": "y",
         "domain": [
          0,
          0.45
         ],
         "linecolor": "black"
        },
        "xaxis2": {
         "anchor": "y2",
         "domain": [
          0.55,
          1
         ],
         "linecolor": "black"
        },
        "xaxis3": {
         "anchor": "y3",
         "domain": [
          0,
          0.45
         ],
         "linecolor": "black"
        },
        "xaxis4": {
         "anchor": "y4",
         "domain": [
          0.55,
          1
         ],
         "linecolor": "black"
        },
        "xaxis5": {
         "anchor": "y5",
         "domain": [
          0,
          0.45
         ],
         "linecolor": "black"
        },
        "xaxis6": {
         "anchor": "y6",
         "domain": [
          0.55,
          1
         ]
        },
        "yaxis": {
         "anchor": "x",
         "domain": [
          0.7777777777777778,
          1
         ],
         "linecolor": "black"
        },
        "yaxis2": {
         "anchor": "x2",
         "domain": [
          0.7777777777777778,
          1
         ],
         "linecolor": "black"
        },
        "yaxis3": {
         "anchor": "x3",
         "domain": [
          0.3888888888888889,
          0.6111111111111112
         ],
         "linecolor": "black"
        },
        "yaxis4": {
         "anchor": "x4",
         "domain": [
          0.3888888888888889,
          0.6111111111111112
         ],
         "linecolor": "black"
        },
        "yaxis5": {
         "anchor": "x5",
         "domain": [
          0,
          0.22222222222222224
         ],
         "linecolor": "black"
        },
        "yaxis6": {
         "anchor": "x6",
         "domain": [
          0,
          0.22222222222222224
         ]
        }
       }
      }
     },
     "metadata": {},
     "output_type": "display_data"
    }
   ],
   "source": [
    "# Trace names - represent the solver used for the simulation\n",
    "trace_name = ['PHE model', 'SEIR model']\n",
    "\n",
    "# Compartment list - type and age\n",
    "comparments = []\n",
    "for n in seir_model.output_names():\n",
    "    comparments.append('{} in region {}'.format(n, regions[phe_parameters.regional_parameters.region_index-1]))\n",
    "\n",
    "fig = go.Figure()\n",
    "fig = make_subplots(\n",
    "    rows=int(np.ceil(len(comparments)/2)), cols=2, subplot_titles=tuple('{}'.format(comparment) for comparment in comparments)\n",
    ")\n",
    "\n",
    "# Plot for each comparment\n",
    "for c, comparment in enumerate(comparments):\n",
    "    # Plot (line plot for each solver method for each age)\n",
    "    for a, age in enumerate(age_groups):\n",
    "        if c != 0:\n",
    "            for o, out in enumerate(outputs):\n",
    "                fig.add_trace(\n",
    "                    go.Scatter(\n",
    "                        y=out[:, c*len(age_groups)+a],\n",
    "                        x=phe_parameters.regional_parameters.times,\n",
    "                        mode='lines',\n",
    "                        name=trace_name[o],\n",
    "                        line_color=colours[o],\n",
    "                        showlegend=False\n",
    "                    ),\n",
    "                    row= int(np.floor(c / 2)) + 1,\n",
    "                    col= c % 2 + 1\n",
    "                )\n",
    "        \n",
    "        else:\n",
    "            for o, out in enumerate(outputs):\n",
    "                fig.add_trace(\n",
    "                    go.Scatter(\n",
    "                        y=out[:, c*len(age_groups)+a],\n",
    "                        x=phe_parameters.regional_parameters.times,\n",
    "                        mode='lines',\n",
    "                        name=trace_name[o],\n",
    "                        line_color=colours[o]\n",
    "                    ),\n",
    "                    row= int(np.floor(c / 2)) + 1,\n",
    "                    col= c % 2 + 1\n",
    "                )\n",
    "\n",
    "# Add axis labels\n",
    "fig.update_layout(\n",
    "    boxmode='group',\n",
    "    title='PHE vs SEIR Model', \n",
    "    width=900, \n",
    "    height=800,\n",
    "    plot_bgcolor='white',\n",
    "    xaxis=dict(linecolor='black'),\n",
    "    yaxis=dict(linecolor='black'),\n",
    "    xaxis2=dict(linecolor='black'),\n",
    "    yaxis2=dict(linecolor='black'),\n",
    "    xaxis3=dict(linecolor='black'),\n",
    "    yaxis3=dict(linecolor='black'),\n",
    "    xaxis4=dict(linecolor='black'),\n",
    "    yaxis4=dict(linecolor='black'),\n",
    "    xaxis5=dict(linecolor='black'),\n",
    "    yaxis5=dict(linecolor='black'))\n",
    "\n",
    "fig.write_image('images/Phe_SEIR.pdf')\n",
    "fig.show()"
   ]
  }
 ],
 "metadata": {
  "interpreter": {
   "hash": "684a6128a123c6817f5879bd443c804f1ae947106cccd5e393ee42f0caf0d347"
  },
  "kernelspec": {
   "display_name": "Python 3.8.8 64-bit ('base': conda)",
   "name": "python3"
  },
  "language_info": {
   "codemirror_mode": {
    "name": "ipython",
    "version": 3
   },
   "file_extension": ".py",
   "mimetype": "text/x-python",
   "name": "python",
   "nbconvert_exporter": "python",
   "pygments_lexer": "ipython3",
   "version": "3.8.8"
  },
  "orig_nbformat": 4
 },
 "nbformat": 4,
 "nbformat_minor": 2
}

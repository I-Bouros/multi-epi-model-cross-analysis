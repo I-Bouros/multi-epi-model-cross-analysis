{
 "cells": [
  {
   "cell_type": "markdown",
   "metadata": {},
   "source": [
    "# PHE SEIR Model\n",
    "\n",
    "In this notebook we present compare the model built by Public Health England in collaboration with University of Cambridge, using baseline contact matrices with a simple SEIR. We aim to see if the PHE model can be reduced to a simple SEIR model for appropriate choices of parameters to check how well the PHE model has been reproduced.\n",
    "\n",
    "The analyses are run for:\n",
    " - Dates: **15 Feb 2020** - **15 May 2020**, using toy data;\n",
    " - PHE regions of interest: **South West**.\n",
    "\n",
    "We consider only **1 region** and **1 age group**. To be able to collapse the PHE model in a simpler SEIR version, we will have to choose the parameters such that:\n",
    "\n",
    "$$\n",
    "\\begin{align*}\n",
    "    \\frac{dS(t)}{dt} &= -\\lambda_t S(t) \\\\\n",
    "    \\frac{dE^1(t)}{dt} &= \\lambda_t S(t) - \\frac{2}{d_L} E^1(t) \\\\\n",
    "    \\frac{dE^2(t)}{dt} &= \\frac{2}{d_L} E^1(t) - \\frac{2}{d_L} E^2(t) \\\\\n",
    "    \\frac{dI^1(t)}{dt} &= \\frac{2}{d_L} E^2(t) - \\frac{2}{d_I} I^1(t) \\\\\n",
    "    \\frac{dI^2(t)}{dt} &= \\frac{2}{d_I} I^1(t) - \\frac{2}{d_I} I^2(t) \\\\\n",
    "    \\frac{dR(t)}{dt} &= \\frac{2}{d_I} I^2(t)\n",
    "\\end{align*}\n",
    "$$\n",
    "\n",
    "becomes\n",
    "\n",
    "$$\n",
    "\\begin{align*}\n",
    "    \\frac{dS(t)}{dt} &= - \\beta I(t) S(t) \\\\\n",
    "    \\frac{dE(t)}{dt} &= \\beta I(t) S(t) - \\kappa E(t) \\\\\n",
    "    \\frac{dI(t)}{dt} &= \\kappa E(t) - \\gamma I(t) \\\\\n",
    "    \\frac{dR(t)}{dt} &= \\gamma I(t)\n",
    "\\end{align*}\n",
    "$$\n",
    "\n",
    "We have two compartments for each of the exposed and infectious in the PHE model, compared to only one in the SEIR one. Hence, we will assume a collapse of this structure, by using the following notation: $E(t) = E^1(t) + E^2(t)$ and $I(t) = I^1(t) + I^2(t)$.\n",
    "\n",
    "The parameter $\\lambda_{t} = 1 - (1-b_t)^{I^1(t) + I^2(t)}$ will need to become equivalent in shape to $\\beta I(t)$. We will therefore assume the conditions of the _binomial approximation_:\n",
    "\n",
    "$$\\lambda_{t} = 1 - (1-b_t)^{I^1(t) + I^2(t)} \\approx 1 - (1-b_t(I^1(t) + I^2(t))) = 1 - (1-b_t I(t)) = b_t I(t)$$\n",
    "\n",
    "i.e. $|b_t| < 1$ and $|b_t I(t)| \\ll 1$ .\n",
    "\n",
    "The $b_t$ is computed according to the following formula:\n",
    "\n",
    "$$b_t = \\frac{\\beta_t R_0}{R_0^{*}} \\tilde{C}_t$$\n",
    "\n",
    "where $\\beta_t$ account for mis-specification of the changing scale of transmission over time, $R_0$ is the initial reproduction number, $\\tilde{C}_t$ is the current contact matrix, $R_0^{*}$ is the dominant eigenvalue of $S_0 \\tilde{C}_0 d_I$, $S_0$ is the initial number of susceptibles and $d_I$ is the average time an individual is infectious. Since the matrices are one-dimensional, $R_0^{*} = S_0 \\tilde{C}_0 d_I$. We have no temporal variations in our parameters of the SEIR model, hence we take the contact matrices for the PHE model to be constant throughout and $\\beta_t = 1, \\forall t$ so that the transmission parameter becomes\n",
    "\n",
    "$$b_t = \\frac{R_0}{S_0 d_I}$$\n",
    "\n",
    "This is satisfying the _binomial approximation_ conditions $|\\frac{R_0 I(t)}{S_0 d_I}| \\ll 1$ as the number of infectives is much smaller than that of initial susceptibles.\n",
    "\n",
    "Also, since the rate of transmission between the compartments are defined as the inverse of the average time spent in the compartment, the system of equations of the PHE model illustrate that an individual spends on average in each of the exposed and infectious compartments are:\n",
    "\n",
    "- $E^1$ and $E^2$: $\\frac{d_L}{2}$ each, so a total average of $d_L$ as exposed;\n",
    "- $I^1$ and $I^2$: $\\frac{d_I}{2}$ each, so a total average of $d_I$ as infectious.\n",
    "\n",
    "Hence, for the SEIR model, the parameters are defined as:\n",
    "\n",
    "- $\\beta = \\frac{R_0}{S_0 d_I}$ ;\n",
    "- $\\kappa = \\frac{1}{d_L}$ ;\n",
    "- $\\gamma = \\frac{1}{d_I}$ .\n",
    "\n",
    "*The PHE model is built by Public Health England in collaboration with University of Cambridge.*"
   ]
  },
  {
   "cell_type": "code",
   "execution_count": 1,
   "metadata": {},
   "outputs": [],
   "source": [
    "# Load necessary libraries\n",
    "import os\n",
    "import numpy as np\n",
    "import pandas as pd\n",
    "from scipy.integrate import solve_ivp\n",
    "import epimodels as em\n",
    "import pints\n",
    "import matplotlib\n",
    "import plotly.graph_objects as go\n",
    "import plotly.express as px\n",
    "from matplotlib import pyplot as plt\n",
    "from iteration_utilities import deepflatten"
   ]
  },
  {
   "cell_type": "markdown",
   "metadata": {},
   "source": [
    "## Model Setup\n",
    "### Define setup matrices for the PHE Model"
   ]
  },
  {
   "cell_type": "code",
   "execution_count": 2,
   "metadata": {},
   "outputs": [],
   "source": [
    "# Populate the model\n",
    "total_days =  90\n",
    "regions = ['SW']\n",
    "age_groups = ['0-75+']\n",
    "\n",
    "matrices_region = []\n",
    "\n",
    "### Fixed\n",
    "# Initial state of the system\n",
    "weeks_matrices_region = []\n",
    "for r in regions:\n",
    "    path = os.path.join('../../data/final_contact_matrices/BASE.csv')\n",
    "    region_data_matrix = np.average(pd.read_csv(path, header=None, dtype=np.float64)) * np.ones((len(age_groups), len(age_groups)))\n",
    "    regional = em.RegionMatrix(r, age_groups, region_data_matrix)\n",
    "    weeks_matrices_region.append(regional)\n",
    "\n",
    "matrices_region.append(weeks_matrices_region)\n",
    "\n",
    "contacts = em.ContactMatrix(age_groups, np.ones((len(age_groups), len(age_groups))))\n",
    "matrices_contact = [contacts]\n",
    "\n",
    "# Matrices contact\n",
    "time_changes_contact = [1]\n",
    "time_changes_region = [1]"
   ]
  },
  {
   "cell_type": "markdown",
   "metadata": {},
   "source": [
    "### Set the parameters and initial conditions of the model and bundle everything together"
   ]
  },
  {
   "cell_type": "code",
   "execution_count": 3,
   "metadata": {},
   "outputs": [],
   "source": [
    "# Instantiate model\n",
    "phe_model = em.PheSEIRModel()\n",
    "\n",
    "# Set the region names, contact and regional data of the model\n",
    "phe_model.set_regions(regions)\n",
    "phe_model.set_age_groups(age_groups)\n",
    "phe_model.read_contact_data(matrices_contact, time_changes_contact)\n",
    "phe_model.read_regional_data(matrices_region, time_changes_region)\n",
    "\n",
    "# Set regional and time dependent parameters\n",
    "regional_parameters = em.PheRegParameters(\n",
    "    model=phe_model,\n",
    "    initial_r=[2.2164],\n",
    "    region_index=1,\n",
    "    betas=[[1] * np.arange(1, total_days, 1).shape[0]],\n",
    "    times=np.arange(1, total_days, 1).tolist()\n",
    ")\n",
    "\n",
    "# Set ICs parameters\n",
    "ICs = em.PheICs(\n",
    "    model=phe_model,\n",
    "    susceptibles_IC=[[5000]],\n",
    "    exposed1_IC=[[0]],\n",
    "    exposed2_IC=[[0]],\n",
    "    infectives1_IC=[[50]],\n",
    "    infectives2_IC=[[20]],\n",
    "    recovered_IC=[[0]]\n",
    ")\n",
    "\n",
    "# Set disease-specific parameters\n",
    "disease_parameters = em.PheDiseaseParameters(\n",
    "    model=phe_model,\n",
    "    dL=4,\n",
    "    dI=4\n",
    ")\n",
    "\n",
    "# Set other simulation parameters\n",
    "simulation_parameters = em.PheSimParameters(\n",
    "    model=phe_model,\n",
    "    delta_t=0.5,\n",
    "    method='RK45'\n",
    ")\n",
    "\n",
    "# Set all parameters in the controller\n",
    "phe_parameters = em.PheParametersController(\n",
    "    model=phe_model,\n",
    "    regional_parameters=regional_parameters,\n",
    "    ICs=ICs,\n",
    "    disease_parameters=disease_parameters,\n",
    "    simulation_parameters=simulation_parameters\n",
    ")"
   ]
  },
  {
   "cell_type": "markdown",
   "metadata": {},
   "source": [
    "### Define SEIR model"
   ]
  },
  {
   "cell_type": "code",
   "execution_count": 4,
   "metadata": {},
   "outputs": [],
   "source": [
    "class SEIRModel(pints.ForwardModel):\n",
    "    r\"\"\"\n",
    "    ODE model: deterministic SEIR\n",
    "    The SEIR Model has four compartments:\n",
    "    susceptible individuals (:math:`S`),\n",
    "    exposed but not yet infectious (:math:`E`),\n",
    "    infectious (:math:`I`) and recovered (:math:`R`):\n",
    "\n",
    "    .. math::\n",
    "        \\frac{dS(t)}{dt} = -\\beta S(t)I(t),\n",
    "    .. math::\n",
    "        \\frac{dE(t)}{dt} = \\beta S(t)I(t) - \\kappa E(t),\n",
    "    .. math::\n",
    "        \\frac{dI(t)}{dt} = \\kappa E(t) - \\gamma I(t),\n",
    "    .. math::\n",
    "        \\frac{dR(t)}{dt} = \\gamma I(t),\n",
    "\n",
    "    where :math:`S(0) = S_0, E(0) = E_0, I(O) = I_0, R(0) = R_0`\n",
    "    are also parameters of the model.\n",
    "\n",
    "    Extends :class:`ForwardModel`.\n",
    "    \"\"\"\n",
    "\n",
    "    def __init__(self):\n",
    "        super(SEIRModel, self).__init__()\n",
    "\n",
    "        # Assign default values\n",
    "        self._output_names = ['S', 'E', 'I', 'R', 'Incidence']\n",
    "        self._parameter_names = [\n",
    "            'S0', 'E0', 'I0', 'R0', 'alpha', 'beta', 'gamma'\n",
    "        ]\n",
    "        # The default number of outputs is 5,\n",
    "        # i.e. S, E, I, R and Incidence\n",
    "        self._n_outputs = len(self._output_names)\n",
    "        # The default number of outputs is 7,\n",
    "        # i.e. 4 initial conditions and 3 parameters\n",
    "        self._n_parameters = len(self._parameter_names)\n",
    "\n",
    "        self._output_indices = np.arange(self._n_outputs)\n",
    "\n",
    "    def n_outputs(self):\n",
    "        # Return the number of outputs\n",
    "        return self._n_outputs\n",
    "\n",
    "    def n_parameters(self):\n",
    "        # Return the number of parameters\n",
    "        return self._n_parameters\n",
    "\n",
    "    def output_names(self):\n",
    "        # Return the (selected) output names\n",
    "        names = [self._output_names[x] for x in self._output_indices]\n",
    "        return names\n",
    "\n",
    "    def parameter_names(self):\n",
    "        # Return the parameter names\n",
    "        return self._parameter_names\n",
    "\n",
    "    def set_outputs(self, outputs):\n",
    "        # Check existence of outputs\n",
    "        for output in outputs:\n",
    "            if output not in self._output_names:\n",
    "                raise ValueError(\n",
    "                    'The output names specified must be in correct forms')\n",
    "\n",
    "        output_indices = []\n",
    "        for output_id, output in enumerate(self._output_names):\n",
    "            if output in outputs:\n",
    "                output_indices.append(output_id)\n",
    "\n",
    "        # Remember outputs\n",
    "        self._output_indices = output_indices\n",
    "        self._n_outputs = len(outputs)\n",
    "\n",
    "    def _right_hand_side(self, t, y, c):\n",
    "        # Assuming y = [S, E, I, R] (the dependent variables in the model)\n",
    "        # Assuming the parameters are ordered like\n",
    "        # parameters = [S0, E0, I0, R0, beta, kappa, gamma]\n",
    "        # Let c = [beta, kappa, gamma]\n",
    "        #  = [parameters[0], parameters[1], parameters[2]],\n",
    "        # then beta = c[0], kappa = c[1], gamma = c[2]\n",
    "\n",
    "        # Construct the derivative functions of the system of ODEs\n",
    "\n",
    "        s, e, i, _ = y\n",
    "        beta, kappa, gamma = c\n",
    "        dydt = [-beta * s * i, beta * s * i - kappa * e,\n",
    "                kappa * e - gamma * i, gamma * i]\n",
    "\n",
    "        return dydt\n",
    "\n",
    "    def simulate(self, parameters, times):\n",
    "\n",
    "        # Define time spans, initial conditions, and constants\n",
    "        y_init = list(deepflatten(parameters[:4]))\n",
    "        c = list(deepflatten(parameters[4:]))\n",
    "\n",
    "        # Solve the system of ODEs\n",
    "        sol = solve_ivp(lambda t, y: self._right_hand_side(t, y, c),\n",
    "                        [times[0], times[-1]], y_init, t_eval=times)\n",
    "\n",
    "        output = sol['y']\n",
    "\n",
    "        # Total infected is infectious 'i' plus recovered 'r'\n",
    "        total_infected = output[2, :] + output[3, :]\n",
    "\n",
    "        # Number of incidences is the increase in total_infected\n",
    "        # between the time points (add a 0 at the front to\n",
    "        # make the length consistent with the solution\n",
    "        n_incidence = np.zeros(len(times))\n",
    "        n_incidence[1:] = total_infected[1:] - total_infected[:-1]\n",
    "\n",
    "        # Append n_incidence to output\n",
    "        # Output is a matrix with rows being S, E, I, R and Incidence\n",
    "        output = np.vstack(tup=(output, n_incidence))\n",
    "\n",
    "        # Get the selected outputs\n",
    "        output = output[self._output_indices, :]\n",
    "\n",
    "        return output.transpose()\n"
   ]
  },
  {
   "cell_type": "markdown",
   "metadata": {},
   "source": [
    "### Set the parameters and initial conditions of the model and bundle everything together"
   ]
  },
  {
   "cell_type": "code",
   "execution_count": 5,
   "metadata": {},
   "outputs": [],
   "source": [
    "# Instantiate model\n",
    "seir_model = SEIRModel()\n",
    "\n",
    "# Set all parameters\n",
    "S0 = np.int64(np.asarray(phe_parameters.ICs.susceptibles))\n",
    "E0 = np.int64(np.asarray(phe_parameters.ICs.exposed1)) + np.int64(np.asarray(phe_parameters.ICs.exposed2))\n",
    "I0 = np.int64(np.asarray(phe_parameters.ICs.infectives1)) + np.int64(np.asarray(phe_parameters.ICs.infectives2))\n",
    "R0 = np.int64(np.asarray(phe_parameters.ICs.recovered))\n",
    "beta = np.asarray(phe_parameters.regional_parameters.initial_r) / (S0 * phe_parameters.disease_parameters.dI)\n",
    "kappa = 1/phe_parameters.disease_parameters.dL\n",
    "gamma = 1/phe_parameters.disease_parameters.dI\n",
    "\n",
    "seir_parameters = [S0, E0, I0, R0, beta, kappa, gamma]"
   ]
  },
  {
   "cell_type": "code",
   "execution_count": 6,
   "metadata": {},
   "outputs": [
    {
     "data": {
      "text/plain": [
       "[array([[5000]]),\n",
       " array([[0]]),\n",
       " array([[70]]),\n",
       " array([[0]]),\n",
       " array([[0.00011082]]),\n",
       " 0.25,\n",
       " 0.25]"
      ]
     },
     "execution_count": 6,
     "metadata": {},
     "output_type": "execute_result"
    }
   ],
   "source": [
    "seir_parameters"
   ]
  },
  {
   "cell_type": "markdown",
   "metadata": {},
   "source": [
    "### Simulate for one of the regions: **South West**"
   ]
  },
  {
   "cell_type": "code",
   "execution_count": 7,
   "metadata": {},
   "outputs": [],
   "source": [
    "# Simulate the PHE model using the ODE solver from scipy\n",
    "ext_output_phe_model = phe_model.simulate(phe_parameters)\n",
    "output_phe_model = np.stack((ext_output_phe_model[:, 0], ext_output_phe_model[:, 1] + ext_output_phe_model[:, 2], ext_output_phe_model[:, 3] + ext_output_phe_model[:, 4], ext_output_phe_model[:, 5], ext_output_phe_model[:, 6]), axis=1)\n",
    "\n",
    "# Simulate the SEIR model using the ODE solver from scipy\n",
    "output_seir_model = seir_model.simulate(seir_parameters, times=phe_parameters.regional_parameters.times)"
   ]
  },
  {
   "cell_type": "markdown",
   "metadata": {},
   "source": [
    "## Plot the comparments of the two models against each other\n",
    "### Setup ``plotly`` and default settings for plotting"
   ]
  },
  {
   "cell_type": "code",
   "execution_count": 8,
   "metadata": {},
   "outputs": [],
   "source": [
    "from plotly.subplots import make_subplots\n",
    "\n",
    "colours = ['blue', 'red', 'green', 'purple', 'orange', 'black', 'gray', 'pink']\n",
    "\n",
    "# Group outputs together\n",
    "outputs = [output_phe_model, output_seir_model]"
   ]
  },
  {
   "cell_type": "markdown",
   "metadata": {},
   "source": [
    "### Plot the comparments of the two models against each other"
   ]
  },
  {
   "cell_type": "code",
   "execution_count": 9,
   "metadata": {},
   "outputs": [
    {
     "data": {
      "application/vnd.plotly.v1+json": {
       "config": {
        "plotlyServerURL": "https://plot.ly"
       },
       "data": [
        {
         "line": {
          "color": "blue"
         },
         "mode": "lines",
         "name": "PHE model",
         "type": "scatter",
         "x": [
          1,
          2,
          3,
          4,
          5,
          6,
          7,
          8,
          9,
          10,
          11,
          12,
          13,
          14,
          15,
          16,
          17,
          18,
          19,
          20,
          21,
          22,
          23,
          24,
          25,
          26,
          27,
          28,
          29,
          30,
          31,
          32,
          33,
          34,
          35,
          36,
          37,
          38,
          39,
          40,
          41,
          42,
          43,
          44,
          45,
          46,
          47,
          48,
          49,
          50,
          51,
          52,
          53,
          54,
          55,
          56,
          57,
          58,
          59,
          60,
          61,
          62,
          63,
          64,
          65,
          66,
          67,
          68,
          69,
          70,
          71,
          72,
          73,
          74,
          75,
          76,
          77,
          78,
          79,
          80,
          81,
          82,
          83,
          84,
          85,
          86,
          87,
          88,
          89
         ],
         "xaxis": "x",
         "y": [
          5000,
          4964.556693136513,
          4934.767842011048,
          4907.66331448296,
          4880.19463497839,
          4850.266625137711,
          4816.648759978885,
          4778.678633280089,
          4735.910477887882,
          4687.981582903332,
          4634.522437526843,
          4575.121326586815,
          4509.362104373893,
          4436.859305306164,
          4357.32271289042,
          4270.443969328536,
          4175.9404549840465,
          4073.8421519235044,
          3964.311067172241,
          3847.414893120042,
          3723.555600217766,
          3593.4528206683826,
          3457.8025504037287,
          3317.4916876648526,
          3173.7591681560516,
          3027.833216719281,
          2880.9435835672944,
          2734.559935530488,
          2590.064404448658,
          2448.661630961649,
          2311.595856037531,
          2179.940486599263,
          2054.5023750959804,
          1935.9679598247983,
          1824.8229591598117,
          1721.338280897558,
          1625.6345535145779,
          1537.6209422775464,
          1457.102656235486,
          1383.8961307242305,
          1317.6369771855304,
          1257.7787913159557,
          1203.9145963667474,
          1155.6326722569015,
          1112.4645216780739,
          1073.950011811957,
          1039.6639897812997,
          1009.194526444493,
          982.1512421846936,
          958.184310032243,
          936.9678327927486,
          918.2040184312511,
          901.6250359416317,
          886.9859094149707,
          874.0682938452325,
          862.6785749444493,
          852.6391465818216,
          843.7928768912501,
          836.0031916468549,
          829.1457430106524,
          823.1091061830871,
          817.7971548536289,
          813.1255929234501,
          809.0163037901089,
          805.4016421599143,
          802.2241269337072,
          799.4313694542655,
          796.9757531061159,
          794.816794945401,
          792.9202828009808,
          791.2538201363669,
          789.7888494131723,
          788.5013276625525,
          787.3708166595028,
          786.3775133560433,
          785.5044226858588,
          784.7373036279333,
          784.063886202291,
          783.4722083062154,
          782.9521820815733,
          782.4953754354334,
          782.0944013997815,
          781.742097383143,
          781.4324750239779,
          781.1605400488518,
          780.9218457675202,
          780.7121235210482,
          780.5278153749767,
          780.3659616028067
         ],
         "yaxis": "y"
        },
        {
         "line": {
          "color": "red"
         },
         "mode": "lines",
         "name": "SEIR model",
         "type": "scatter",
         "x": [
          1,
          2,
          3,
          4,
          5,
          6,
          7,
          8,
          9,
          10,
          11,
          12,
          13,
          14,
          15,
          16,
          17,
          18,
          19,
          20,
          21,
          22,
          23,
          24,
          25,
          26,
          27,
          28,
          29,
          30,
          31,
          32,
          33,
          34,
          35,
          36,
          37,
          38,
          39,
          40,
          41,
          42,
          43,
          44,
          45,
          46,
          47,
          48,
          49,
          50,
          51,
          52,
          53,
          54,
          55,
          56,
          57,
          58,
          59,
          60,
          61,
          62,
          63,
          64,
          65,
          66,
          67,
          68,
          69,
          70,
          71,
          72,
          73,
          74,
          75,
          76,
          77,
          78,
          79,
          80,
          81,
          82,
          83,
          84,
          85,
          86,
          87,
          88,
          89
         ],
         "xaxis": "x",
         "y": [
          5000,
          4965.05255360636,
          4934.324197513722,
          4904.3864962637435,
          4873.23920606304,
          4839.706279696327,
          4802.916997224909,
          4762.302391482874,
          4717.332527263847,
          4667.536246331815,
          4612.547298565919,
          4551.952816395525,
          4485.336247008357,
          4412.455362572885,
          4333.0981312821195,
          4247.0272792580345,
          4153.981505757009,
          4053.9932309785954,
          3947.4396256729387,
          3834.633223645071,
          3715.8012728766957,
          3591.1335537111136,
          3461.4970971258385,
          3328.1374832089477,
          3192.0808448510543,
          3054.1286916465506,
          2915.0042701294637,
          2776.2008214336565,
          2639.129804071676,
          2504.8520684850305,
          2374.101106891914,
          2247.6501727217014,
          2126.5202557902808,
          2011.387604914866,
          1902.6269802856266,
          1800.3390044017237,
          1704.735994636536,
          1615.9193823151231,
          1533.8146720644006,
          1458.21699912534,
          1388.8092552085432,
          1325.3636781463963,
          1267.4887094673995,
          1214.7735060511147,
          1166.85383387113,
          1123.4120679950615,
          1084.1756929515668,
          1048.7887345274492,
          1016.8300883909242,
          987.9603049661712,
          961.9050923892779,
          938.4553165082395,
          917.4005920767768,
          898.4544309367217,
          881.3893928871616,
          866.01998985424,
          852.2025069351367,
          839.8144769522982,
          828.6862531206727,
          818.6767746792414,
          809.6696179252382,
          801.57119277341,
          794.3091430345918,
          787.7948513684158,
          781.9411954932168,
          776.6776007392192,
          771.944659677153,
          767.6941321182533,
          763.8844432089068,
          760.4641961279818,
          757.3910564555634,
          754.6286841618261,
          752.1459795360898,
          749.9170831868208,
          747.9189445800113,
          746.1248802299278,
          744.5132665225467,
          743.0651360332037,
          741.7639062555461,
          740.5953796015338,
          739.547486289571,
          738.6069552656035,
          737.7622476075237,
          737.0034778998102,
          736.3218231449059,
          735.7095227632191,
          735.1598785931222,
          734.6669477726654,
          734.2243183190034
         ],
         "yaxis": "y"
        },
        {
         "line": {
          "color": "blue"
         },
         "mode": "lines",
         "name": "PHE model",
         "showlegend": false,
         "type": "scatter",
         "x": [
          1,
          2,
          3,
          4,
          5,
          6,
          7,
          8,
          9,
          10,
          11,
          12,
          13,
          14,
          15,
          16,
          17,
          18,
          19,
          20,
          21,
          22,
          23,
          24,
          25,
          26,
          27,
          28,
          29,
          30,
          31,
          32,
          33,
          34,
          35,
          36,
          37,
          38,
          39,
          40,
          41,
          42,
          43,
          44,
          45,
          46,
          47,
          48,
          49,
          50,
          51,
          52,
          53,
          54,
          55,
          56,
          57,
          58,
          59,
          60,
          61,
          62,
          63,
          64,
          65,
          66,
          67,
          68,
          69,
          70,
          71,
          72,
          73,
          74,
          75,
          76,
          77,
          78,
          79,
          80,
          81,
          82,
          83,
          84,
          85,
          86,
          87,
          88,
          89
         ],
         "xaxis": "x2",
         "y": [
          0,
          34.23406414150642,
          57.935051693870676,
          73.50777848655564,
          85.00733637359959,
          95.49516905975607,
          106.72508024220244,
          119.41754969994038,
          133.81824338596218,
          149.94246035665037,
          167.75649138653716,
          187.24951224765027,
          208.45799942570795,
          231.35084846471142,
          255.6894174567112,
          281.45164811052973,
          308.7579506401536,
          337.0407402479042,
          365.5976581910926,
          394.59866872281134,
          423.56773046125454,
          451.3200671543458,
          477.6007695992159,
          502.09817087843714,
          523.5485751647581,
          541.4055700251132,
          555.6617250133397,
          565.3414068833991,
          569.9987009287825,
          570.0801030356541,
          565.2221255524406,
          555.3243900426138,
          541.2410590283616,
          523.2843325062784,
          501.69833257277116,
          477.41882822855024,
          451.09985196844656,
          423.31341253633155,
          394.8246109667533,
          365.83370917750835,
          336.8652097382521,
          308.8614412787638,
          282.04454210470425,
          256.3092300734711,
          231.99073972581823,
          209.4218938705785,
          188.36988907606235,
          168.8578895670647,
          151.128668546177,
          134.96201965207678,
          120.19404364743626,
          106.90062918006763,
          94.98298797409623,
          84.2273433122756,
          74.5857633549815,
          66.0322844910129,
          58.38667206076565,
          51.55716349995055,
          45.520894552683814,
          40.172889929739284,
          35.41499621973669,
          31.20331328649577,
          27.498919428136034,
          24.21938655242814,
          21.314154814143365,
          18.75817555747254,
          16.51023691498266,
          14.523493622813607,
          12.76920195013225,
          11.230325123856026,
          9.87662267726634,
          8.681873608959009,
          7.629246910634406,
          6.706954723326245,
          5.895597454856892,
          5.180227383296046,
          4.550887138313954,
          3.9996601353307195,
          3.5147474672885943,
          3.087494053595886,
          2.7120000010929175,
          2.38310511377642,
          2.093791678996636,
          1.8389926352084207,
          1.6152158426668028,
          1.4191824076583015,
          1.2467490925170097,
          1.0949276160401542,
          0.9616525179794267
         ],
         "yaxis": "y2"
        },
        {
         "line": {
          "color": "red"
         },
         "mode": "lines",
         "name": "SEIR model",
         "showlegend": false,
         "type": "scatter",
         "x": [
          1,
          2,
          3,
          4,
          5,
          6,
          7,
          8,
          9,
          10,
          11,
          12,
          13,
          14,
          15,
          16,
          17,
          18,
          19,
          20,
          21,
          22,
          23,
          24,
          25,
          26,
          27,
          28,
          29,
          30,
          31,
          32,
          33,
          34,
          35,
          36,
          37,
          38,
          39,
          40,
          41,
          42,
          43,
          44,
          45,
          46,
          47,
          48,
          49,
          50,
          51,
          52,
          53,
          54,
          55,
          56,
          57,
          58,
          59,
          60,
          61,
          62,
          63,
          64,
          65,
          66,
          67,
          68,
          69,
          70,
          71,
          72,
          73,
          74,
          75,
          76,
          77,
          78,
          79,
          80,
          81,
          82,
          83,
          84,
          85,
          86,
          87,
          88,
          89
         ],
         "xaxis": "x2",
         "y": [
          0,
          30.803234027478794,
          51.139358638145765,
          66.31907876071317,
          79.24991528632096,
          91.4340993690576,
          103.83293494245284,
          116.87304134469883,
          130.89037290796094,
          146.101110961142,
          162.53192543813194,
          180.28868980712588,
          199.4958349146768,
          219.99959066902233,
          241.65314248243078,
          264.4299517746863,
          288.4319412291705,
          313.38131188760667,
          338.53871765141497,
          363.47645425904204,
          388.11950913967297,
          412.6657897915183,
          436.3635226344219,
          458.0043676455117,
          476.9804588326505,
          493.2976777628733,
          507.2979199289143,
          518.0241137665901,
          524.711559456309,
          527.2410659040609,
          526.0936698092337,
          521.5918179760092,
          513.3739634510681,
          501.54301940896534,
          486.58078193538233,
          469.2932325526863,
          449.9978797379202,
          428.9501927127167,
          406.56665342926806,
          383.34330677104083,
          359.82041648133327,
          336.191749240328,
          312.8523157746309,
          290.16903295658227,
          268.35567155522847,
          247.47285623632177,
          227.43177348320324,
          208.3209452053203,
          190.40522366688373,
          173.77968785811387,
          158.40979632596816,
          144.1313871741412,
          130.8149989907432,
          118.56919296383582,
          107.40102271858922,
          97.24836153762774,
          87.98032688931993,
          79.44929605524993,
          71.6750658335839,
          64.6456557987163,
          58.31241728864794,
          52.594241808776694,
          47.381710404983814,
          42.63982965200367,
          38.36418375941865,
          34.52526417377899,
          31.080336522028254,
          27.973440611503314,
          25.147927114923615,
          22.59692605174552,
          20.306362340345874,
          18.25523960873818,
          16.41747891657688,
          14.761918755157371,
          13.259548092173697,
          11.905873249680264,
          10.691814851271932,
          9.605706034143495,
          8.633976936830045,
          7.761154699206973,
          6.970661536963448,
          6.256822217787823,
          5.616061316068112,
          5.0426927289999455,
          4.530295923516357,
          4.07171593628779,
          3.659063373722088,
          3.2851913380565327,
          2.949272240593907
         ],
         "yaxis": "y2"
        },
        {
         "line": {
          "color": "blue"
         },
         "mode": "lines",
         "name": "PHE model",
         "showlegend": false,
         "type": "scatter",
         "x": [
          1,
          2,
          3,
          4,
          5,
          6,
          7,
          8,
          9,
          10,
          11,
          12,
          13,
          14,
          15,
          16,
          17,
          18,
          19,
          20,
          21,
          22,
          23,
          24,
          25,
          26,
          27,
          28,
          29,
          30,
          31,
          32,
          33,
          34,
          35,
          36,
          37,
          38,
          39,
          40,
          41,
          42,
          43,
          44,
          45,
          46,
          47,
          48,
          49,
          50,
          51,
          52,
          53,
          54,
          55,
          56,
          57,
          58,
          59,
          60,
          61,
          62,
          63,
          64,
          65,
          66,
          67,
          68,
          69,
          70,
          71,
          72,
          73,
          74,
          75,
          76,
          77,
          78,
          79,
          80,
          81,
          82,
          83,
          84,
          85,
          86,
          87,
          88,
          89
         ],
         "xaxis": "x3",
         "y": [
          70,
          58.81608315693882,
          51.129882814663354,
          49.49129922112441,
          52.710513488930374,
          59.02952032630071,
          67.13992146208335,
          76.42610480301948,
          86.69111346786725,
          97.98438320903038,
          110.43510695554764,
          124.14988011446346,
          139.26178300376844,
          155.84441562130104,
          173.97196458755644,
          193.68700422005855,
          214.82659051789005,
          237.4441177160066,
          261.6322456942482,
          287.00292488326096,
          313.2781379011526,
          340.40663166588206,
          367.9369008105906,
          395.2609301070273,
          422.1059794720737,
          447.9753119308907,
          472.0255544279397,
          493.881516495614,
          513.1086555885661,
          528.8857419955993,
          540.9114040043379,
          549.0158720304571,
          552.7329550867217,
          552.0022767462208,
          546.9979772285739,
          537.8122519948599,
          524.7418489291565,
          508.11119439749996,
          488.2997493938964,
          466.2345132028646,
          442.4510441266477,
          417.02009066500096,
          390.5111146068406,
          363.6640624175342,
          336.89691387415496,
          310.50080957666074,
          284.879178535906,
          260.3011566045574,
          236.88515883556533,
          214.78805215499062,
          194.12787843068978,
          174.930183201417,
          157.19132974795573,
          140.8993911967749,
          126.01812021838317,
          112.48671529790883,
          100.22153771661725,
          89.14496575958097,
          79.18634292881245,
          70.25025904137996,
          62.242096556573664,
          55.09049075946595,
          48.727027906811,
          43.05872396956336,
          38.014097067265766,
          33.545693713536565,
          29.592346372995927,
          26.085078677362976,
          22.977703919892225,
          20.241248796456404,
          17.826768508609224,
          15.68955970668882,
          13.801989439346212,
          12.145914741222118,
          10.686346990208385,
          9.396142550909548,
          8.259299077225393,
          7.2639293685043,
          6.387037769810482,
          5.612575993445795,
          4.931378773700222,
          4.335514912817327,
          3.8106546053471995,
          3.347364343058106,
          2.940408255313857,
          2.5845533711325497,
          2.2711178134757617,
          1.9945434767418426,
          1.751832014855411
         ],
         "yaxis": "y3"
        },
        {
         "line": {
          "color": "red"
         },
         "mode": "lines",
         "name": "SEIR model",
         "showlegend": false,
         "type": "scatter",
         "x": [
          1,
          2,
          3,
          4,
          5,
          6,
          7,
          8,
          9,
          10,
          11,
          12,
          13,
          14,
          15,
          16,
          17,
          18,
          19,
          20,
          21,
          22,
          23,
          24,
          25,
          26,
          27,
          28,
          29,
          30,
          31,
          32,
          33,
          34,
          35,
          36,
          37,
          38,
          39,
          40,
          41,
          42,
          43,
          44,
          45,
          46,
          47,
          48,
          49,
          50,
          51,
          52,
          53,
          54,
          55,
          56,
          57,
          58,
          59,
          60,
          61,
          62,
          63,
          64,
          65,
          66,
          67,
          68,
          69,
          70,
          71,
          72,
          73,
          74,
          75,
          76,
          77,
          78,
          79,
          80,
          81,
          82,
          83,
          84,
          85,
          86,
          87,
          88,
          89
         ],
         "xaxis": "x3",
         "y": [
          70,
          58.32121038838732,
          54.708287015292186,
          55.73730317611854,
          59.58098279250357,
          65.35297563706489,
          72.52943976901246,
          80.94633074279895,
          90.49522267387829,
          101.1405759605019,
          112.96396111444683,
          125.96957599360762,
          140.11895272568248,
          155.53943876410386,
          172.30315946447217,
          190.3357828661242,
          209.40423259629404,
          229.47325620783576,
          250.78372152526302,
          273.2493163093856,
          296.42306752311185,
          319.55513270355846,
          342.54359127788564,
          365.6321409792401,
          388.557024828435,
          410.5294795894595,
          430.4701640556627,
          448.47802863648934,
          464.6441056330884,
          478.60148859060627,
          489.5596761461829,
          497.0221566746379,
          501.3962547014991,
          502.81118918239775,
          501.13822723629903,
          496.0447570288944,
          487.834806252911,
          476.99961119444345,
          463.86596076536847,
          448.66494216348394,
          431.57557394864773,
          413.16847696080885,
          393.65738377865347,
          373.2193261841852,
          352.1557124872034,
          330.8923275253035,
          309.97450279702946,
          289.61806732653554,
          269.6810964041461,
          250.1952926221639,
          231.3288196017047,
          213.3863019926976,
          196.5721363702805,
          180.68863649030885,
          165.65827445444936,
          151.49404309923534,
          138.29886775893812,
          126.18618719948962,
          114.99805471799334,
          104.62109277599558,
          95.00188788886832,
          86.14070955983257,
          78.0848358944191,
          70.76484800886449,
          64.06928636128886,
          57.933652978917245,
          52.32106471817694,
          47.222253264697514,
          42.63491680256798,
          38.483313280972354,
          34.71195739891266,
          31.281885126067145,
          28.167508234993186,
          25.35661430112733,
          22.838391539338243,
          20.568515180927093,
          18.516166907505628,
          16.65792382203349,
          14.976554879784139,
          13.461020888344876,
          12.105150235279117,
          10.88879927312061,
          9.7928621313073,
          8.803592552103076,
          7.910037979656582,
          7.104039560001222,
          6.380232141055167,
          5.733911225288874,
          5.152886751523672
         ],
         "yaxis": "y3"
        },
        {
         "line": {
          "color": "blue"
         },
         "mode": "lines",
         "name": "PHE model",
         "showlegend": false,
         "type": "scatter",
         "x": [
          1,
          2,
          3,
          4,
          5,
          6,
          7,
          8,
          9,
          10,
          11,
          12,
          13,
          14,
          15,
          16,
          17,
          18,
          19,
          20,
          21,
          22,
          23,
          24,
          25,
          26,
          27,
          28,
          29,
          30,
          31,
          32,
          33,
          34,
          35,
          36,
          37,
          38,
          39,
          40,
          41,
          42,
          43,
          44,
          45,
          46,
          47,
          48,
          49,
          50,
          51,
          52,
          53,
          54,
          55,
          56,
          57,
          58,
          59,
          60,
          61,
          62,
          63,
          64,
          65,
          66,
          67,
          68,
          69,
          70,
          71,
          72,
          73,
          74,
          75,
          76,
          77,
          78,
          79,
          80,
          81,
          82,
          83,
          84,
          85,
          86,
          87,
          88,
          89
         ],
         "xaxis": "x4",
         "y": [
          0,
          12.39315956504221,
          26.167223480418635,
          39.337607809360364,
          52.087515159080255,
          65.20868547623255,
          79.48623831682885,
          95.47771221695086,
          113.58016525828899,
          134.09157353098735,
          157.28596413107235,
          183.47928105107124,
          212.91811319663032,
          245.94543060782382,
          283.0159050653123,
          324.4173783408765,
          370.47500385791,
          421.67299011258524,
          478.45902894241846,
          540.983513273886,
          609.5985314198277,
          684.8204805113901,
          766.6597791864652,
          855.149211349683,
          950.5862772071173,
          1052.7859013247155,
          1161.3691369914268,
          1276.2171410904991,
          1396.8282390339937,
          1522.3725240070978,
          1652.2706144056906,
          1785.7192513276664,
          1921.5236107889364,
          2058.7454309227023,
          2196.4807310388437,
          2333.4306388790324,
          2468.5237455878196,
          2600.954450788622,
          2729.7729834038646,
          2854.035646895397,
          2973.04676894957,
          3086.339676740279,
          3193.5297469217076,
          3294.394035252093,
          3388.6478247219525,
          3476.1272847408036,
          3557.0869426067316,
          3631.6464273838847,
          3699.8349304335634,
          3762.065618160689,
          3818.710245129125,
          3869.9651691872637,
          3916.200646336316,
          3957.8873560759785,
          3995.3278225814024,
          4028.8024252666287,
          4058.752643640795,
          4085.504993849218,
          4109.289570871649,
          4130.431108018228,
          4149.233801040602,
          4165.909041100409,
          4180.648459741603,
          4193.7055856879,
          4205.270105958676,
          4215.472003795284,
          4224.466047257756,
          4232.415674593707,
          4239.436299184574,
          4245.608143278706,
          4251.042788677757,
          4255.839717271179,
          4260.0674359874665,
          4263.776313875948,
          4267.040542198891,
          4269.919207379935,
          4272.452510156527,
          4274.672524293874,
          4276.626006456685,
          4278.347747871385,
          4279.861245789773,
          4281.186978573624,
          4282.353456332513,
          4283.381167997755,
          4284.283835853167,
          4285.074418453689,
          4285.770009572959,
          4286.382713532241,
          4286.920553864358
         ],
         "yaxis": "y4"
        },
        {
         "line": {
          "color": "red"
         },
         "mode": "lines",
         "name": "SEIR model",
         "showlegend": false,
         "type": "scatter",
         "x": [
          1,
          2,
          3,
          4,
          5,
          6,
          7,
          8,
          9,
          10,
          11,
          12,
          13,
          14,
          15,
          16,
          17,
          18,
          19,
          20,
          21,
          22,
          23,
          24,
          25,
          26,
          27,
          28,
          29,
          30,
          31,
          32,
          33,
          34,
          35,
          36,
          37,
          38,
          39,
          40,
          41,
          42,
          43,
          44,
          45,
          46,
          47,
          48,
          49,
          50,
          51,
          52,
          53,
          54,
          55,
          56,
          57,
          58,
          59,
          60,
          61,
          62,
          63,
          64,
          65,
          66,
          67,
          68,
          69,
          70,
          71,
          72,
          73,
          74,
          75,
          76,
          77,
          78,
          79,
          80,
          81,
          82,
          83,
          84,
          85,
          86,
          87,
          88,
          89
         ],
         "xaxis": "x4",
         "y": [
          0,
          15.823001977774219,
          29.82815683284044,
          43.55712179942464,
          57.92989585813586,
          73.50664529755039,
          90.72062806362555,
          109.87823642962802,
          131.28187715431352,
          155.22206674654066,
          181.9568148815022,
          211.78891780374093,
          245.0489653512839,
          282.00560799398846,
          322.9455667709771,
          368.20698610115477,
          418.18232041752583,
          473.15220092596167,
          533.2379351503827,
          598.6410057865007,
          669.656150460519,
          746.645523793809,
          829.595788961853,
          918.2260081662996,
          1012.3816714878598,
          1112.044151001116,
          1217.2276458859583,
          1327.297036163263,
          1441.5145308389258,
          1559.3053770203014,
          1680.2455471526687,
          1803.7358526276505,
          1928.709526057151,
          2054.25818649377,
          2179.654010542691,
          2304.323006016694,
          2427.4313193726316,
          2548.130813777715,
          2665.7527137409616,
          2779.7747519401346,
          2889.794754361474,
          2995.2760956524653,
          3096.0015909793146,
          3191.838134808116,
          3282.6347820864366,
          3368.2227482433113,
          3448.418030768199,
          3523.2722529406938,
          3593.083591538045,
          3658.06471455355,
          3718.356291683048,
          3774.0269943249205,
          3825.212272562198,
          3872.287739609132,
          3915.551309939798,
          3955.2376055088953,
          3991.5182984166036,
          4024.550039792961,
          4054.6406263277486,
          4082.056476746045,
          4107.016076897244,
          4129.6938558579795,
          4150.2243106660035,
          4168.800470970714,
          4185.6253343860735,
          4200.863482108082,
          4214.65393908264,
          4227.110174005544,
          4238.332712873599,
          4248.4555645392975,
          4257.590623805176,
          4265.834191103366,
          4273.269033312337,
          4279.964383756892,
          4285.983115788474,
          4291.400731339462,
          4296.2787517186725,
          4300.671234110617,
          4304.625561927837,
          4308.182444810912,
          4311.376701938184,
          4314.247423243485,
          4316.828828945098,
          4319.150236819084,
          4321.2378429519185,
          4323.11472174049,
          4324.800825892098,
          4326.313949663987,
          4327.673522688877
         ],
         "yaxis": "y4"
        },
        {
         "line": {
          "color": "blue"
         },
         "mode": "lines",
         "name": "PHE model",
         "showlegend": false,
         "type": "scatter",
         "x": [
          1,
          2,
          3,
          4,
          5,
          6,
          7,
          8,
          9,
          10,
          11,
          12,
          13,
          14,
          15,
          16,
          17,
          18,
          19,
          20,
          21,
          22,
          23,
          24,
          25,
          26,
          27,
          28,
          29,
          30,
          31,
          32,
          33,
          34,
          35,
          36,
          37,
          38,
          39,
          40,
          41,
          42,
          43,
          44,
          45,
          46,
          47,
          48,
          49,
          50,
          51,
          52,
          53,
          54,
          55,
          56,
          57,
          58,
          59,
          60,
          61,
          62,
          63,
          64,
          65,
          66,
          67,
          68,
          69,
          70,
          71,
          72,
          73,
          74,
          75,
          76,
          77,
          78,
          79,
          80,
          81,
          82,
          83,
          84,
          85,
          86,
          87,
          88,
          89
         ],
         "xaxis": "x5",
         "y": [
          0,
          1.2092427219810276,
          6.087863573100961,
          11.531800735402783,
          15.969121617525857,
          19.44017715452263,
          22.387953976378952,
          25.277657241058137,
          28.367461706185907,
          31.804678013861462,
          35.64511434660227,
          39.90809007891471,
          44.55073503486403,
          49.60995002872613,
          55.198023423743905,
          61.116512908066284,
          67.197211814865,
          73.81551345279172,
          80.97416680807487,
          87.89516352048031,
          94.89023116383339,
          102.3504428562918,
          109.3695678197837,
          115.81346145965449,
          122.28211522248057,
          128.0689565764153,
          132.6334781637604,
          136.70396616674657,
          139.83823703644657,
          141.32137138013763,
          141.923752407331,
          141.5531049480951,
          139.52144251753452,
          136.4911417932649,
          132.73100059849457,
          127.7641826064746,
          122.02270364308424,
          115.800050669146,
          109.00708761163878,
          102.1974273005003,
          95.22765297795604,
          87.86195432906288,
          80.68109412326794,
          74.01723614107914,
          67.48664092648005,
          61.08335572135684,
          55.338026825173074,
          49.9814628458048,
          44.7725052806868,
          40.13358104655072,
          35.984453244134784,
          32.0572288288663,
          28.496623695591097,
          25.394771188481172,
          22.559195527032898,
          19.943197764751858,
          17.685040792875043,
          15.675778251385964,
          13.825954191662277,
          12.205453259146452,
          10.79453053756788,
          9.523634262699488,
          8.375955788538704,
          7.388822009049363,
          6.5198933684787335,
          5.733494482878996,
          5.040696121931433,
          4.442359640317591,
          3.9132498333965486,
          3.4353889706962946,
          3.0201651112038235,
          2.6597197915016295,
          2.3401484489450013,
          2.0528031903577357,
          1.8046605719282525,
          1.588460741745621,
          1.396459302907715,
          1.224644428625652,
          1.0765905641173958,
          0.9472796383352033,
          0.8323006986429391,
          0.7298689229683077,
          0.6416174514179147,
          0.5644214029534851,
          0.49571176766767167,
          0.43472771634060337,
          0.3821555616132173,
          0.33612962254755985,
          0.2951288702315651
         ],
         "yaxis": "y5"
        },
        {
         "line": {
          "color": "red"
         },
         "mode": "lines",
         "name": "SEIR model",
         "showlegend": false,
         "type": "scatter",
         "x": [
          1,
          2,
          3,
          4,
          5,
          6,
          7,
          8,
          9,
          10,
          11,
          12,
          13,
          14,
          15,
          16,
          17,
          18,
          19,
          20,
          21,
          22,
          23,
          24,
          25,
          26,
          27,
          28,
          29,
          30,
          31,
          32,
          33,
          34,
          35,
          36,
          37,
          38,
          39,
          40,
          41,
          42,
          43,
          44,
          45,
          46,
          47,
          48,
          49,
          50,
          51,
          52,
          53,
          54,
          55,
          56,
          57,
          58,
          59,
          60,
          61,
          62,
          63,
          64,
          65,
          66,
          67,
          68,
          69,
          70,
          71,
          72,
          73,
          74,
          75,
          76,
          77,
          78,
          79,
          80,
          81,
          82,
          83,
          84,
          85,
          86,
          87,
          88,
          89
         ],
         "xaxis": "x5",
         "y": [
          0,
          4.14421236616154,
          10.39223148197108,
          14.75798112741056,
          18.216453675096247,
          21.348742283975866,
          24.39044689802273,
          27.57449933978893,
          30.952532655764855,
          34.58554287885079,
          38.55813328890645,
          42.83771780139949,
          47.40942427961784,
          52.37712868112595,
          57.70367947735696,
          63.294042731829734,
          69.04378404654085,
          75.03890411997759,
          81.3961995418482,
          87.86866542024075,
          94.18889588774448,
          100.12143851373673,
          105.93872374237117,
          111.71876890580097,
          117.08054717075493,
          121.6349342742808,
          125.12417935104554,
          128.07725485813148,
          130.38357167226172,
          131.74822913889352,
          131.89835768794387,
          130.9527860034368,
          129.34777145636144,
          126.9635949175181,
          123.72286210282209,
          119.5755252665981,
          114.89836257995421,
          109.86429934661601,
          104.4882495341717,
          98.82101959728834,
          92.93063420650333,
          87.07424430315223,
          81.2144021446943,
          75.39848623433318,
          69.73303358133853,
          64.3245811949746,
          59.27745779661382,
          54.49778670200067,
          49.87436767496183,
          45.49531923352288,
          41.425104109038784,
          37.72818503286544,
          34.37111261486052,
          31.191967166962513,
          28.233208294806445,
          25.522064213883368,
          23.085517567410534,
          20.919060816909223,
          18.902454053290967,
          17.03888847629878,
          15.340395264071958,
          13.816600631699657,
          12.474581142610987,
          11.256172419155519,
          10.129301767783545,
          9.10251433963731,
          8.177868713817588,
          7.357423469424248,
          6.635202405926066,
          5.971248144102901,
          5.363703383818574,
          4.813495025344309,
          4.320465317897288,
          3.8844565106892333,
          3.500509269792019,
          3.1477391925782285,
          2.825672105788726,
          2.5342393064720454,
          2.2729588749707546,
          2.0413488916356073,
          1.8383864742063452,
          1.6543703431425456,
          1.4854685598002106,
          1.3321382947815437,
          1.1940515603873791,
          1.070880368915823,
          0.9622967326622529,
          0.8668028561223764,
          0.7785485511249135
         ],
         "yaxis": "y5"
        }
       ],
       "layout": {
        "annotations": [
         {
          "font": {
           "size": 16
          },
          "showarrow": false,
          "text": "S",
          "x": 0.225,
          "xanchor": "center",
          "xref": "paper",
          "y": 1,
          "yanchor": "bottom",
          "yref": "paper"
         },
         {
          "font": {
           "size": 16
          },
          "showarrow": false,
          "text": "E",
          "x": 0.775,
          "xanchor": "center",
          "xref": "paper",
          "y": 1,
          "yanchor": "bottom",
          "yref": "paper"
         },
         {
          "font": {
           "size": 16
          },
          "showarrow": false,
          "text": "I",
          "x": 0.225,
          "xanchor": "center",
          "xref": "paper",
          "y": 0.6111111111111112,
          "yanchor": "bottom",
          "yref": "paper"
         },
         {
          "font": {
           "size": 16
          },
          "showarrow": false,
          "text": "R",
          "x": 0.775,
          "xanchor": "center",
          "xref": "paper",
          "y": 0.6111111111111112,
          "yanchor": "bottom",
          "yref": "paper"
         },
         {
          "font": {
           "size": 16
          },
          "showarrow": false,
          "text": "Incidence",
          "x": 0.225,
          "xanchor": "center",
          "xref": "paper",
          "y": 0.22222222222222224,
          "yanchor": "bottom",
          "yref": "paper"
         }
        ],
        "boxmode": "group",
        "height": 800,
        "plot_bgcolor": "white",
        "template": {
         "data": {
          "bar": [
           {
            "error_x": {
             "color": "#2a3f5f"
            },
            "error_y": {
             "color": "#2a3f5f"
            },
            "marker": {
             "line": {
              "color": "#E5ECF6",
              "width": 0.5
             },
             "pattern": {
              "fillmode": "overlay",
              "size": 10,
              "solidity": 0.2
             }
            },
            "type": "bar"
           }
          ],
          "barpolar": [
           {
            "marker": {
             "line": {
              "color": "#E5ECF6",
              "width": 0.5
             },
             "pattern": {
              "fillmode": "overlay",
              "size": 10,
              "solidity": 0.2
             }
            },
            "type": "barpolar"
           }
          ],
          "carpet": [
           {
            "aaxis": {
             "endlinecolor": "#2a3f5f",
             "gridcolor": "white",
             "linecolor": "white",
             "minorgridcolor": "white",
             "startlinecolor": "#2a3f5f"
            },
            "baxis": {
             "endlinecolor": "#2a3f5f",
             "gridcolor": "white",
             "linecolor": "white",
             "minorgridcolor": "white",
             "startlinecolor": "#2a3f5f"
            },
            "type": "carpet"
           }
          ],
          "choropleth": [
           {
            "colorbar": {
             "outlinewidth": 0,
             "ticks": ""
            },
            "type": "choropleth"
           }
          ],
          "contour": [
           {
            "colorbar": {
             "outlinewidth": 0,
             "ticks": ""
            },
            "colorscale": [
             [
              0,
              "#0d0887"
             ],
             [
              0.1111111111111111,
              "#46039f"
             ],
             [
              0.2222222222222222,
              "#7201a8"
             ],
             [
              0.3333333333333333,
              "#9c179e"
             ],
             [
              0.4444444444444444,
              "#bd3786"
             ],
             [
              0.5555555555555556,
              "#d8576b"
             ],
             [
              0.6666666666666666,
              "#ed7953"
             ],
             [
              0.7777777777777778,
              "#fb9f3a"
             ],
             [
              0.8888888888888888,
              "#fdca26"
             ],
             [
              1,
              "#f0f921"
             ]
            ],
            "type": "contour"
           }
          ],
          "contourcarpet": [
           {
            "colorbar": {
             "outlinewidth": 0,
             "ticks": ""
            },
            "type": "contourcarpet"
           }
          ],
          "heatmap": [
           {
            "colorbar": {
             "outlinewidth": 0,
             "ticks": ""
            },
            "colorscale": [
             [
              0,
              "#0d0887"
             ],
             [
              0.1111111111111111,
              "#46039f"
             ],
             [
              0.2222222222222222,
              "#7201a8"
             ],
             [
              0.3333333333333333,
              "#9c179e"
             ],
             [
              0.4444444444444444,
              "#bd3786"
             ],
             [
              0.5555555555555556,
              "#d8576b"
             ],
             [
              0.6666666666666666,
              "#ed7953"
             ],
             [
              0.7777777777777778,
              "#fb9f3a"
             ],
             [
              0.8888888888888888,
              "#fdca26"
             ],
             [
              1,
              "#f0f921"
             ]
            ],
            "type": "heatmap"
           }
          ],
          "heatmapgl": [
           {
            "colorbar": {
             "outlinewidth": 0,
             "ticks": ""
            },
            "colorscale": [
             [
              0,
              "#0d0887"
             ],
             [
              0.1111111111111111,
              "#46039f"
             ],
             [
              0.2222222222222222,
              "#7201a8"
             ],
             [
              0.3333333333333333,
              "#9c179e"
             ],
             [
              0.4444444444444444,
              "#bd3786"
             ],
             [
              0.5555555555555556,
              "#d8576b"
             ],
             [
              0.6666666666666666,
              "#ed7953"
             ],
             [
              0.7777777777777778,
              "#fb9f3a"
             ],
             [
              0.8888888888888888,
              "#fdca26"
             ],
             [
              1,
              "#f0f921"
             ]
            ],
            "type": "heatmapgl"
           }
          ],
          "histogram": [
           {
            "marker": {
             "pattern": {
              "fillmode": "overlay",
              "size": 10,
              "solidity": 0.2
             }
            },
            "type": "histogram"
           }
          ],
          "histogram2d": [
           {
            "colorbar": {
             "outlinewidth": 0,
             "ticks": ""
            },
            "colorscale": [
             [
              0,
              "#0d0887"
             ],
             [
              0.1111111111111111,
              "#46039f"
             ],
             [
              0.2222222222222222,
              "#7201a8"
             ],
             [
              0.3333333333333333,
              "#9c179e"
             ],
             [
              0.4444444444444444,
              "#bd3786"
             ],
             [
              0.5555555555555556,
              "#d8576b"
             ],
             [
              0.6666666666666666,
              "#ed7953"
             ],
             [
              0.7777777777777778,
              "#fb9f3a"
             ],
             [
              0.8888888888888888,
              "#fdca26"
             ],
             [
              1,
              "#f0f921"
             ]
            ],
            "type": "histogram2d"
           }
          ],
          "histogram2dcontour": [
           {
            "colorbar": {
             "outlinewidth": 0,
             "ticks": ""
            },
            "colorscale": [
             [
              0,
              "#0d0887"
             ],
             [
              0.1111111111111111,
              "#46039f"
             ],
             [
              0.2222222222222222,
              "#7201a8"
             ],
             [
              0.3333333333333333,
              "#9c179e"
             ],
             [
              0.4444444444444444,
              "#bd3786"
             ],
             [
              0.5555555555555556,
              "#d8576b"
             ],
             [
              0.6666666666666666,
              "#ed7953"
             ],
             [
              0.7777777777777778,
              "#fb9f3a"
             ],
             [
              0.8888888888888888,
              "#fdca26"
             ],
             [
              1,
              "#f0f921"
             ]
            ],
            "type": "histogram2dcontour"
           }
          ],
          "mesh3d": [
           {
            "colorbar": {
             "outlinewidth": 0,
             "ticks": ""
            },
            "type": "mesh3d"
           }
          ],
          "parcoords": [
           {
            "line": {
             "colorbar": {
              "outlinewidth": 0,
              "ticks": ""
             }
            },
            "type": "parcoords"
           }
          ],
          "pie": [
           {
            "automargin": true,
            "type": "pie"
           }
          ],
          "scatter": [
           {
            "fillpattern": {
             "fillmode": "overlay",
             "size": 10,
             "solidity": 0.2
            },
            "type": "scatter"
           }
          ],
          "scatter3d": [
           {
            "line": {
             "colorbar": {
              "outlinewidth": 0,
              "ticks": ""
             }
            },
            "marker": {
             "colorbar": {
              "outlinewidth": 0,
              "ticks": ""
             }
            },
            "type": "scatter3d"
           }
          ],
          "scattercarpet": [
           {
            "marker": {
             "colorbar": {
              "outlinewidth": 0,
              "ticks": ""
             }
            },
            "type": "scattercarpet"
           }
          ],
          "scattergeo": [
           {
            "marker": {
             "colorbar": {
              "outlinewidth": 0,
              "ticks": ""
             }
            },
            "type": "scattergeo"
           }
          ],
          "scattergl": [
           {
            "marker": {
             "colorbar": {
              "outlinewidth": 0,
              "ticks": ""
             }
            },
            "type": "scattergl"
           }
          ],
          "scattermapbox": [
           {
            "marker": {
             "colorbar": {
              "outlinewidth": 0,
              "ticks": ""
             }
            },
            "type": "scattermapbox"
           }
          ],
          "scatterpolar": [
           {
            "marker": {
             "colorbar": {
              "outlinewidth": 0,
              "ticks": ""
             }
            },
            "type": "scatterpolar"
           }
          ],
          "scatterpolargl": [
           {
            "marker": {
             "colorbar": {
              "outlinewidth": 0,
              "ticks": ""
             }
            },
            "type": "scatterpolargl"
           }
          ],
          "scatterternary": [
           {
            "marker": {
             "colorbar": {
              "outlinewidth": 0,
              "ticks": ""
             }
            },
            "type": "scatterternary"
           }
          ],
          "surface": [
           {
            "colorbar": {
             "outlinewidth": 0,
             "ticks": ""
            },
            "colorscale": [
             [
              0,
              "#0d0887"
             ],
             [
              0.1111111111111111,
              "#46039f"
             ],
             [
              0.2222222222222222,
              "#7201a8"
             ],
             [
              0.3333333333333333,
              "#9c179e"
             ],
             [
              0.4444444444444444,
              "#bd3786"
             ],
             [
              0.5555555555555556,
              "#d8576b"
             ],
             [
              0.6666666666666666,
              "#ed7953"
             ],
             [
              0.7777777777777778,
              "#fb9f3a"
             ],
             [
              0.8888888888888888,
              "#fdca26"
             ],
             [
              1,
              "#f0f921"
             ]
            ],
            "type": "surface"
           }
          ],
          "table": [
           {
            "cells": {
             "fill": {
              "color": "#EBF0F8"
             },
             "line": {
              "color": "white"
             }
            },
            "header": {
             "fill": {
              "color": "#C8D4E3"
             },
             "line": {
              "color": "white"
             }
            },
            "type": "table"
           }
          ]
         },
         "layout": {
          "annotationdefaults": {
           "arrowcolor": "#2a3f5f",
           "arrowhead": 0,
           "arrowwidth": 1
          },
          "autotypenumbers": "strict",
          "coloraxis": {
           "colorbar": {
            "outlinewidth": 0,
            "ticks": ""
           }
          },
          "colorscale": {
           "diverging": [
            [
             0,
             "#8e0152"
            ],
            [
             0.1,
             "#c51b7d"
            ],
            [
             0.2,
             "#de77ae"
            ],
            [
             0.3,
             "#f1b6da"
            ],
            [
             0.4,
             "#fde0ef"
            ],
            [
             0.5,
             "#f7f7f7"
            ],
            [
             0.6,
             "#e6f5d0"
            ],
            [
             0.7,
             "#b8e186"
            ],
            [
             0.8,
             "#7fbc41"
            ],
            [
             0.9,
             "#4d9221"
            ],
            [
             1,
             "#276419"
            ]
           ],
           "sequential": [
            [
             0,
             "#0d0887"
            ],
            [
             0.1111111111111111,
             "#46039f"
            ],
            [
             0.2222222222222222,
             "#7201a8"
            ],
            [
             0.3333333333333333,
             "#9c179e"
            ],
            [
             0.4444444444444444,
             "#bd3786"
            ],
            [
             0.5555555555555556,
             "#d8576b"
            ],
            [
             0.6666666666666666,
             "#ed7953"
            ],
            [
             0.7777777777777778,
             "#fb9f3a"
            ],
            [
             0.8888888888888888,
             "#fdca26"
            ],
            [
             1,
             "#f0f921"
            ]
           ],
           "sequentialminus": [
            [
             0,
             "#0d0887"
            ],
            [
             0.1111111111111111,
             "#46039f"
            ],
            [
             0.2222222222222222,
             "#7201a8"
            ],
            [
             0.3333333333333333,
             "#9c179e"
            ],
            [
             0.4444444444444444,
             "#bd3786"
            ],
            [
             0.5555555555555556,
             "#d8576b"
            ],
            [
             0.6666666666666666,
             "#ed7953"
            ],
            [
             0.7777777777777778,
             "#fb9f3a"
            ],
            [
             0.8888888888888888,
             "#fdca26"
            ],
            [
             1,
             "#f0f921"
            ]
           ]
          },
          "colorway": [
           "#636efa",
           "#EF553B",
           "#00cc96",
           "#ab63fa",
           "#FFA15A",
           "#19d3f3",
           "#FF6692",
           "#B6E880",
           "#FF97FF",
           "#FECB52"
          ],
          "font": {
           "color": "#2a3f5f"
          },
          "geo": {
           "bgcolor": "white",
           "lakecolor": "white",
           "landcolor": "#E5ECF6",
           "showlakes": true,
           "showland": true,
           "subunitcolor": "white"
          },
          "hoverlabel": {
           "align": "left"
          },
          "hovermode": "closest",
          "mapbox": {
           "style": "light"
          },
          "paper_bgcolor": "white",
          "plot_bgcolor": "#E5ECF6",
          "polar": {
           "angularaxis": {
            "gridcolor": "white",
            "linecolor": "white",
            "ticks": ""
           },
           "bgcolor": "#E5ECF6",
           "radialaxis": {
            "gridcolor": "white",
            "linecolor": "white",
            "ticks": ""
           }
          },
          "scene": {
           "xaxis": {
            "backgroundcolor": "#E5ECF6",
            "gridcolor": "white",
            "gridwidth": 2,
            "linecolor": "white",
            "showbackground": true,
            "ticks": "",
            "zerolinecolor": "white"
           },
           "yaxis": {
            "backgroundcolor": "#E5ECF6",
            "gridcolor": "white",
            "gridwidth": 2,
            "linecolor": "white",
            "showbackground": true,
            "ticks": "",
            "zerolinecolor": "white"
           },
           "zaxis": {
            "backgroundcolor": "#E5ECF6",
            "gridcolor": "white",
            "gridwidth": 2,
            "linecolor": "white",
            "showbackground": true,
            "ticks": "",
            "zerolinecolor": "white"
           }
          },
          "shapedefaults": {
           "line": {
            "color": "#2a3f5f"
           }
          },
          "ternary": {
           "aaxis": {
            "gridcolor": "white",
            "linecolor": "white",
            "ticks": ""
           },
           "baxis": {
            "gridcolor": "white",
            "linecolor": "white",
            "ticks": ""
           },
           "bgcolor": "#E5ECF6",
           "caxis": {
            "gridcolor": "white",
            "linecolor": "white",
            "ticks": ""
           }
          },
          "title": {
           "x": 0.05
          },
          "xaxis": {
           "automargin": true,
           "gridcolor": "white",
           "linecolor": "white",
           "ticks": "",
           "title": {
            "standoff": 15
           },
           "zerolinecolor": "white",
           "zerolinewidth": 2
          },
          "yaxis": {
           "automargin": true,
           "gridcolor": "white",
           "linecolor": "white",
           "ticks": "",
           "title": {
            "standoff": 15
           },
           "zerolinecolor": "white",
           "zerolinewidth": 2
          }
         }
        },
        "title": {
         "text": "PHE vs SEIR Model"
        },
        "width": 900,
        "xaxis": {
         "anchor": "y",
         "domain": [
          0,
          0.45
         ],
         "linecolor": "black",
         "title": {
          "text": "Time (days)"
         }
        },
        "xaxis2": {
         "anchor": "y2",
         "domain": [
          0.55,
          1
         ],
         "linecolor": "black",
         "title": {
          "text": "Time (days)"
         }
        },
        "xaxis3": {
         "anchor": "y3",
         "domain": [
          0,
          0.45
         ],
         "linecolor": "black",
         "title": {
          "text": "Time (days)"
         }
        },
        "xaxis4": {
         "anchor": "y4",
         "domain": [
          0.55,
          1
         ],
         "linecolor": "black",
         "title": {
          "text": "Time (days)"
         }
        },
        "xaxis5": {
         "anchor": "y5",
         "domain": [
          0,
          0.45
         ],
         "linecolor": "black",
         "title": {
          "text": "Time (days)"
         }
        },
        "xaxis6": {
         "anchor": "y6",
         "domain": [
          0.55,
          1
         ]
        },
        "yaxis": {
         "anchor": "x",
         "domain": [
          0.7777777777777778,
          1
         ],
         "linecolor": "black"
        },
        "yaxis2": {
         "anchor": "x2",
         "domain": [
          0.7777777777777778,
          1
         ],
         "linecolor": "black"
        },
        "yaxis3": {
         "anchor": "x3",
         "domain": [
          0.3888888888888889,
          0.6111111111111112
         ],
         "linecolor": "black"
        },
        "yaxis4": {
         "anchor": "x4",
         "domain": [
          0.3888888888888889,
          0.6111111111111112
         ],
         "linecolor": "black"
        },
        "yaxis5": {
         "anchor": "x5",
         "domain": [
          0,
          0.22222222222222224
         ],
         "linecolor": "black"
        },
        "yaxis6": {
         "anchor": "x6",
         "domain": [
          0,
          0.22222222222222224
         ]
        }
       }
      }
     },
     "metadata": {},
     "output_type": "display_data"
    }
   ],
   "source": [
    "# Trace names - represent the solver used for the simulation\n",
    "trace_name = ['PHE model', 'SEIR model']\n",
    "\n",
    "# Compartment list - type and age\n",
    "comparments = []\n",
    "for n in seir_model.output_names():\n",
    "    comparments.append('{}'.format(n))\n",
    "\n",
    "fig = go.Figure()\n",
    "fig = make_subplots(\n",
    "    rows=int(np.ceil(len(comparments)/2)), cols=2, subplot_titles=tuple('{}'.format(comparment) for comparment in comparments)\n",
    ")\n",
    "\n",
    "# Plot for each comparment\n",
    "for c, comparment in enumerate(comparments):\n",
    "    # Plot (line plot for each solver method for each age)\n",
    "    for a, age in enumerate(age_groups):\n",
    "        if c != 0:\n",
    "            for o, out in enumerate(outputs):\n",
    "                fig.add_trace(\n",
    "                    go.Scatter(\n",
    "                        y=out[:, c*len(age_groups)+a],\n",
    "                        x=phe_parameters.regional_parameters.times,\n",
    "                        mode='lines',\n",
    "                        name=trace_name[o],\n",
    "                        line_color=colours[o],\n",
    "                        showlegend=False\n",
    "                    ),\n",
    "                    row= int(np.floor(c / 2)) + 1,\n",
    "                    col= c % 2 + 1\n",
    "                )\n",
    "        \n",
    "        else:\n",
    "            for o, out in enumerate(outputs):\n",
    "                fig.add_trace(\n",
    "                    go.Scatter(\n",
    "                        y=out[:, c*len(age_groups)+a],\n",
    "                        x=phe_parameters.regional_parameters.times,\n",
    "                        mode='lines',\n",
    "                        name=trace_name[o],\n",
    "                        line_color=colours[o]\n",
    "                    ),\n",
    "                    row= int(np.floor(c / 2)) + 1,\n",
    "                    col= c % 2 + 1\n",
    "                )\n",
    "\n",
    "# Add axis labels\n",
    "fig.update_layout(\n",
    "    boxmode='group',\n",
    "    title='PHE vs SEIR Model', \n",
    "    width=900, \n",
    "    height=800,\n",
    "    plot_bgcolor='white',\n",
    "    xaxis=dict(linecolor='black', title='Time (days)'),\n",
    "    yaxis=dict(linecolor='black'),\n",
    "    xaxis2=dict(linecolor='black', title='Time (days)'),\n",
    "    yaxis2=dict(linecolor='black'),\n",
    "    xaxis3=dict(linecolor='black', title='Time (days)'),\n",
    "    yaxis3=dict(linecolor='black'),\n",
    "    xaxis4=dict(linecolor='black', title='Time (days)'),\n",
    "    yaxis4=dict(linecolor='black'),\n",
    "    xaxis5=dict(linecolor='black', title='Time (days)'),\n",
    "    yaxis5=dict(linecolor='black'))\n",
    "\n",
    "fig.write_image('images/Phe_SEIR.pdf')\n",
    "fig.show()"
   ]
  }
 ],
 "metadata": {
  "kernelspec": {
   "display_name": "epimodels",
   "language": "python",
   "name": "python3"
  },
  "language_info": {
   "codemirror_mode": {
    "name": "ipython",
    "version": 3
   },
   "file_extension": ".py",
   "mimetype": "text/x-python",
   "name": "python",
   "nbconvert_exporter": "python",
   "pygments_lexer": "ipython3",
   "version": "3.12.0"
  },
  "orig_nbformat": 4
 },
 "nbformat": 4,
 "nbformat_minor": 2
}

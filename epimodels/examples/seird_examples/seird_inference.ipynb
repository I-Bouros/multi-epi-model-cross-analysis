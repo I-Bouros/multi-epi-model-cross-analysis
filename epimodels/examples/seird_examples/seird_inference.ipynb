{
 "cells": [
  {
   "cell_type": "markdown",
   "metadata": {},
   "source": [
    "# SEIRD Model Inference\n",
    "\n",
    "In this notebook we present how to use the `epimodels` module to set up the inference for some of the parameters of the SEIRD model. We aim to explore the indetifiability of the parameters we use to simulate the model.\n",
    "\n",
    "The analyses are run for:\n",
    " - Dates: **15 Feb 2020** - **15 May 2020**, using toy data;\n",
    " - PHE regions of interest: **South West**.\n",
    "\n",
    "We use synthetically generated serology and mortality data from simulated model."
   ]
  },
  {
   "cell_type": "code",
   "execution_count": 1,
   "metadata": {},
   "outputs": [],
   "source": [
    "# Load necessary libraries\n",
    "import os\n",
    "import numpy as np\n",
    "import pandas as pd\n",
    "from scipy.stats import gamma, nbinom\n",
    "import epimodels as em\n",
    "import matplotlib\n",
    "import plotly.graph_objects as go\n",
    "import plotly.express as px\n",
    "from matplotlib import pyplot as plt\n",
    "from iteration_utilities import deepflatten\n",
    "\n",
    "# Set random seed\n",
    "np.random.seed(128)"
   ]
  },
  {
   "cell_type": "markdown",
   "metadata": {},
   "source": [
    "## Model Setup\n",
    "### Define setup matrices for the Roche Model"
   ]
  },
  {
   "cell_type": "code",
   "execution_count": 2,
   "metadata": {},
   "outputs": [],
   "source": [
    "# Populate the model\n",
    "total_days =  132\n",
    "regions = ['London']\n",
    "age_groups = ['0-1', '1-5', '5-15', '15-25', '25-45', '45-65', '65-75', '75+']"
   ]
  },
  {
   "cell_type": "markdown",
   "metadata": {},
   "source": [
    "### Set the parameters and initial conditions of the model and bundle everything together"
   ]
  },
  {
   "cell_type": "code",
   "execution_count": 3,
   "metadata": {},
   "outputs": [],
   "source": [
    "# Instantiate model\n",
    "model = em.SEIRDModel()\n",
    "\n",
    "# Set the region names, contact and regional data of the model\n",
    "model.set_regions(regions)\n",
    "model.set_age_groups(age_groups)\n",
    "\n",
    "# Initial number of susceptibles\n",
    "path = os.path.join('../../data/england_population/England_population.csv')\n",
    "total_susceptibles = np.loadtxt(path, dtype=int, delimiter=',').tolist()\n",
    "susceptibles = total_susceptibles[-1]\n",
    "\n",
    "# Initial number of infectives\n",
    "ICs_multiplier = 40\n",
    "infectives = (ICs_multiplier * np.ones((len(regions), len(age_groups)))).tolist()\n",
    "\n",
    "# List of times at which we wish to evaluate the states of the compartments of the model\n",
    "times = np.arange(1, total_days+1, 1).tolist()"
   ]
  },
  {
   "cell_type": "code",
   "execution_count": 4,
   "metadata": {},
   "outputs": [],
   "source": [
    "# Set ICs parameters\n",
    "ICs = em.SEIRDICs(\n",
    "    model=model,\n",
    "    susceptibles_IC=[susceptibles],\n",
    "    exposed_IC=np.zeros((len(regions), len(age_groups))).tolist(),\n",
    "    infectives_IC=infectives,\n",
    "    recovered_IC=np.zeros((len(regions), len(age_groups))).tolist(),\n",
    "    dead_IC=np.zeros((len(regions), len(age_groups))).tolist()\n",
    ")\n",
    "\n",
    "# Set transmission parameters\n",
    "transmission_parameters = em.SEIRDTransmission(\n",
    "    model=model,\n",
    "    beta=0.228,\n",
    "    kappa=0.1,\n",
    "    gamma=1,\n",
    "    Pd = pd.read_csv('../../data/fatality_ratio_data/CFR.csv', usecols=['cfr'], dtype=np.float64)['cfr'].values.tolist()\n",
    ")\n",
    "\n",
    "# Set other simulation parameters\n",
    "simulation_parameters = em.SEIRDSimParameters(\n",
    "    model=model,\n",
    "    region_index=1,\n",
    "    method='RK45',\n",
    "    times=times\n",
    ")\n",
    "\n",
    "# Set all parameters in the controller\n",
    "parameters = em.SEIRDParametersController(\n",
    "    model=model,\n",
    "    ICs=ICs,\n",
    "    transmission_parameters=transmission_parameters,\n",
    "    simulation_parameters=simulation_parameters\n",
    ")"
   ]
  },
  {
   "cell_type": "markdown",
   "metadata": {},
   "source": [
    "### Simulate for one of the regions: **South West**"
   ]
  },
  {
   "cell_type": "code",
   "execution_count": 5,
   "metadata": {},
   "outputs": [],
   "source": [
    "# Simulate for all regions\n",
    "output = []\n",
    "new_infec = []\n",
    "new_deaths = []\n",
    "\n",
    "for r, reg in enumerate(regions):\n",
    "    # List of initial conditions and parameters that characterise the model\n",
    "    parameters.simulation_parameters.region_index = r + 1\n",
    "\n",
    "    # Simulate using the ODE solver\n",
    "    output.append(model.simulate(parameters))\n",
    "    new_infec.append(model.new_infections(output[-1]))\n",
    "    new_deaths.append(model.new_deaths(output[-1]))"
   ]
  },
  {
   "cell_type": "markdown",
   "metadata": {},
   "source": [
    "## Death and Serology data\n",
    "### Read Tests data"
   ]
  },
  {
   "cell_type": "code",
   "execution_count": 6,
   "metadata": {},
   "outputs": [],
   "source": [
    "# Read in tests data from external files for realistic counts of tests\n",
    "tests = []\n",
    "\n",
    "for region in regions:\n",
    "    daily_tests = np.ones((len(times), len(age_groups)), dtype=int)\n",
    "    weekly_tests = np.loadtxt('../../data/serology_data/{}_tests_nhs.csv'.format(region), dtype=int, delimiter=',')\n",
    "    for _, day in enumerate(np.arange(0, len(times), 7)):\n",
    "        daily_tests[day:(day+7), :]=weekly_tests[_, :] / 7\n",
    "    tests.append(daily_tests)"
   ]
  },
  {
   "cell_type": "code",
   "execution_count": 7,
   "metadata": {},
   "outputs": [],
   "source": [
    "# Set information\n",
    "niu = 10**(-5) # float(gamma.rvs(1, scale=1/0.2, size=1))\n",
    "\n",
    "sens = 0.7\n",
    "spec = 0.95"
   ]
  },
  {
   "cell_type": "markdown",
   "metadata": {},
   "source": [
    "### Sample Death and Serology data"
   ]
  },
  {
   "cell_type": "code",
   "execution_count": 8,
   "metadata": {},
   "outputs": [],
   "source": [
    "# Sample death and positive test results data for all regions\n",
    "deaths_data = []\n",
    "positives_data = []\n",
    "\n",
    "for r, reg in enumerate(regions):\n",
    "    reg_deaths_data = np.empty((len(times), len(age_groups)))\n",
    "    reg_positives_data = np.empty(((len(times), len(age_groups))))\n",
    "    for t, _ in enumerate(times):\n",
    "        # Sample the number of deaths and positive test results in a given region on a given day\n",
    "        reg_deaths_data[t, :] = model.samples_deaths(new_deaths[r], niu, t)\n",
    "        reg_positives_data[t, :] = model.samples_positive_tests(output[r], tests[r][t, :], sens, spec, t)\n",
    "    deaths_data.append(np.asarray(reg_deaths_data, dtype=int))\n",
    "    positives_data.append(np.asarray(reg_positives_data, dtype=int))"
   ]
  },
  {
   "cell_type": "markdown",
   "metadata": {},
   "source": [
    "### Export Death and Serology data"
   ]
  },
  {
   "cell_type": "code",
   "execution_count": 9,
   "metadata": {},
   "outputs": [],
   "source": [
    "# # Export synthetic death and positive test results data for all regions to external files to save computation time\n",
    "# path_ = 'inference_data/'\n",
    "\n",
    "# for r, region in enumerate(regions):\n",
    "#     path = os.path.join(path_, '{}_Syn_Deaths.csv'.format(region))\n",
    "#     path1 = os.path.join(path_, '{}_Syn_Positives.csv'.format(region))\n",
    "\n",
    "#     np.savetxt(path, deaths_data[r], fmt=\"%d\", delimiter=',')\n",
    "#     np.savetxt(path1, positives_data[r], fmt=\"%d\",  delimiter=',')"
   ]
  },
  {
   "cell_type": "markdown",
   "metadata": {},
   "source": [
    "### Read Death and Serology data"
   ]
  },
  {
   "cell_type": "code",
   "execution_count": 10,
   "metadata": {},
   "outputs": [],
   "source": [
    "# Read in synthetic death and positive data from external files\n",
    "deaths_data = []\n",
    "positives_data = []\n",
    "\n",
    "for region in regions:\n",
    "    deaths_data.append(np.loadtxt('inference_data/{}_Syn_Deaths.csv'.format(region), dtype=int, delimiter=','))\n",
    "    positives_data.append(np.loadtxt('inference_data/{}_Syn_Positives.csv'.format(region), dtype=int, delimiter=','))"
   ]
  },
  {
   "cell_type": "code",
   "execution_count": 11,
   "metadata": {},
   "outputs": [],
   "source": [
    "# Select the time points for which the death and serology data is known\n",
    "deaths_times = np.arange(1, total_days+1, 1).tolist()\n",
    "serology_times = np.arange(1, total_days+1, 1).tolist()"
   ]
  },
  {
   "cell_type": "markdown",
   "metadata": {},
   "source": [
    "## Inference procedure"
   ]
  },
  {
   "cell_type": "code",
   "execution_count": 14,
   "metadata": {},
   "outputs": [
    {
     "name": "stdout",
     "output_type": "stream",
     "text": [
      "Maximising LogPDF\n",
      "Using Covariance Matrix Adaptation Evolution Strategy (CMA-ES)\n",
      "Running in sequential mode.\n",
      "Population size: 7\n"
     ]
    }
   ],
   "source": [
    "# Initialise inference for the model\n",
    "seird_inference = em.inference.SEIRDInfer(model)\n",
    "\n",
    "# Add model, death, tests and NPIs data to the inference structure\n",
    "seird_inference.read_model_data(susceptibles, infectives)\n",
    "seird_inference.read_deaths_data(deaths_data, deaths_times)\n",
    "seird_inference.read_serology_data(tests, positives_data, serology_times, sens, spec)\n",
    "\n",
    "# Run inference structure\n",
    "samples = seird_inference.inference_problem_setup(times, num_iter=20000, wd=1, wp=0)"
   ]
  },
  {
   "cell_type": "markdown",
   "metadata": {},
   "source": [
    "### Quality check of the inference procedure"
   ]
  },
  {
   "cell_type": "code",
   "execution_count": null,
   "metadata": {},
   "outputs": [
    {
     "data": {
      "image/png": "[encoded data removed]",
      "text/plain": [
       "<Figure size 864x288 with 4 Axes>"
      ]
     },
     "metadata": {
      "needs_background": "light"
     },
     "output_type": "display_data"
    }
   ],
   "source": [
    "import pints.plot\n",
    "\n",
    "# Plot histograms of the parameters inferred for South West\n",
    "# param_names = ['Initial Pss']\n",
    "# for age in model.age_groups:\n",
    "#     param_names.append('kR_{}'.format(age))\n",
    "\n",
    "# for age in model.age_groups:\n",
    "#     param_names.append('Pa_{}'.format(age))\n",
    "param_names=['beta', 'kappa', 'gamma']\n",
    "\n",
    "pints.plot.trace(samples, parameter_names=param_names)\n",
    "plt.show()"
   ]
  },
  {
   "cell_type": "code",
   "execution_count": null,
   "metadata": {},
   "outputs": [
    {
     "name": "stdout",
     "output_type": "stream",
     "text": [
      "[1.00153981 1.00217348]\n"
     ]
    }
   ],
   "source": [
    "# Eliminate burn-in iterations (1/2 of the chain lengths)\n",
    "samples = samples[:, 10000:, :]\n",
    "\n",
    "# Compute the R-hat estimates for the remaining samples\n",
    "print(pints.rhat(samples))"
   ]
  },
  {
   "cell_type": "code",
   "execution_count": null,
   "metadata": {},
   "outputs": [
    {
     "data": {
      "image/png": "[encoded data removed]",
      "text/plain": [
       "<Figure size 432x288 with 2 Axes>"
      ]
     },
     "metadata": {
      "needs_background": "light"
     },
     "output_type": "display_data"
    },
    {
     "data": {
      "image/png": "[encoded data removed]",
      "text/plain": [
       "<Figure size 432x288 with 2 Axes>"
      ]
     },
     "metadata": {
      "needs_background": "light"
     },
     "output_type": "display_data"
    },
    {
     "data": {
      "image/png": "[encoded data removed]",
      "text/plain": [
       "<Figure size 432x288 with 2 Axes>"
      ]
     },
     "metadata": {
      "needs_background": "light"
     },
     "output_type": "display_data"
    }
   ],
   "source": [
    "# Plot the autocorrelation for the three chains of parameters for South West\n",
    "for sample in samples:\n",
    "    pints.plot.autocorrelation(sample, max_lags=6000)\n",
    "    plt.show()"
   ]
  },
  {
   "cell_type": "markdown",
   "metadata": {},
   "source": [
    "### Thin out the MCMC samples (by 10) and run the model with optimised parameter choices to produce predicted timelines for the:\n",
    " - number of new infections\n",
    " - number of deaths\n",
    " - R number"
   ]
  },
  {
   "cell_type": "code",
   "execution_count": null,
   "metadata": {},
   "outputs": [],
   "source": [
    "# Evaluate the model for all parameter sets in the samples\n",
    "n_chains, n_sample, n_param = samples.shape\n",
    "\n",
    "extended_samples = np.concatenate((samples[0], samples[1], samples[2]), axis=0)\n",
    "\n",
    "thinning = max(1, int(n_sample * n_chains / 9000))\n",
    "\n",
    "predicted_new_infec = []\n",
    "predicted_deaths = []\n",
    "#predicted_reprod_num = []\n",
    "\n",
    "# Run model and number of new infections for all regions\n",
    "for r, _ in enumerate(model.regions):\n",
    "    reg_predicted_new_infec = []\n",
    "    reg_predicted_deaths = []\n",
    "    reg_predicted_reprod_num = []\n",
    "\n",
    "    parameters.simulation_parameters.region_index = r + 1\n",
    "\n",
    "    for params in extended_samples[::thinning, :]:\n",
    "        parameters.transmission_parameters.beta = params[0]\n",
    "        parameters.transmission_parameters.kappa = params[1]\n",
    "        parameters.transmission_parameters.gamma = params[2]\n",
    "\n",
    "        #r_fix = np.empty(len(times))\n",
    "        model_reg_deaths_data = np.empty(len(times))\n",
    "\n",
    "        # Run model and number of new infections for all age groups\n",
    "        model_output = model.simulate(parameters)\n",
    "\n",
    "        age_model_reg_new_infections = model.new_infections(model_output)\n",
    "        model_reg_new_infections = age_model_reg_new_infections.sum(axis=1)\n",
    "\n",
    "        age_model_reg_new_deaths = model.new_deaths(model_output)\n",
    "\n",
    "        for t, time in enumerate(times):\n",
    "        #    r_fix[t] = m_fix.compute_reproduction_number(r+1, time, model_output[t, :len(age_groups)], temp_variation=parameters[8][r][t])\n",
    "            model_reg_deaths_data[t] = np.sum(model.mean_deaths(t, age_model_reg_new_deaths))\n",
    "        \n",
    "        reg_predicted_new_infec.append(model_reg_new_infections)\n",
    "        reg_predicted_deaths.append(model_reg_deaths_data)\n",
    "        #reg_predicted_reprod_num.append(r_fix)\n",
    "\n",
    "    reg_predicted_new_infec = np.array(reg_predicted_new_infec)\n",
    "\n",
    "    predicted_new_infec.append(reg_predicted_new_infec)\n",
    "    predicted_deaths.append(reg_predicted_deaths)\n",
    "    #predicted_reprod_num.append(reg_predicted_reprod_num)\n",
    "\n",
    "predicted_new_infec = np.array(predicted_new_infec)\n",
    "predicted_deaths = np.array(predicted_deaths)\n",
    "#predicted_reprod_num = np.array(predicted_reprod_num)\n"
   ]
  },
  {
   "cell_type": "markdown",
   "metadata": {},
   "source": [
    "## Plot data vs predicted\n",
    "\n",
    "### Setup ``plotly`` and default settings for plotting"
   ]
  },
  {
   "cell_type": "code",
   "execution_count": null,
   "metadata": {},
   "outputs": [],
   "source": [
    "from plotly.subplots import make_subplots\n",
    "\n",
    "colours = ['blue', 'red', 'green', 'purple', 'orange', 'black', 'gray', 'pink']\n",
    "\n",
    "# Group outputs together\n",
    "outputs = [deaths_data, positives_data]\n",
    "\n",
    "# Number of regions\n",
    "n_reg = len(regions)"
   ]
  },
  {
   "cell_type": "markdown",
   "metadata": {},
   "source": [
    "### Compute mean and CI bounds of the trajectories of interest and select predicted quantities to plot"
   ]
  },
  {
   "cell_type": "code",
   "execution_count": null,
   "metadata": {},
   "outputs": [],
   "source": [
    "# Set up traces to plot\n",
    "new_infec_mean = []\n",
    "deaths_mean = []\n",
    "#reprod_num_mean = []\n",
    "\n",
    "new_infec_upper = []\n",
    "deaths_upper = []\n",
    "#reprod_num_upper = []\n",
    "\n",
    "new_infec_lower = []\n",
    "deaths_lower = []\n",
    "#reprod_num_lower = []\n",
    "\n",
    "for r, _ in enumerate(model.regions):\n",
    "    # Compute the mean \n",
    "    new_infec_mean.append(np.mean(predicted_new_infec[r,:,:], axis=0))\n",
    "    deaths_mean.append(np.mean(predicted_deaths[r,:,:], axis=0))\n",
    "    #reprod_num_mean.append(np.mean(predicted_reprod_num[r,:,:], axis=0))\n",
    "\n",
    "    # Compute the upper quantiles\n",
    "    new_infec_upper.append(np.quantile(predicted_new_infec[r,:,:], 0.975, axis=0))\n",
    "    deaths_upper.append(np.quantile(predicted_deaths[r,:,:], 0.975, axis=0))\n",
    "    #reprod_num_upper.append(np.quantile(predicted_reprod_num[r,:,:], 0.975, axis=0))\n",
    "\n",
    "    # Compute the lower qunatiles\n",
    "    new_infec_lower.append(np.quantile(predicted_new_infec[r,:,:], 0.025, axis=0))\n",
    "    deaths_lower.append(np.quantile(predicted_deaths[r,:,:], 0.025, axis=0))\n",
    "    #reprod_num_lower.append(np.quantile(predicted_reprod_num[r,:,:], 0.025, axis=0))"
   ]
  },
  {
   "cell_type": "markdown",
   "metadata": {},
   "source": [
    "### Plot observed versus predicted using model with inferred parameters"
   ]
  },
  {
   "cell_type": "code",
   "execution_count": null,
   "metadata": {},
   "outputs": [
    {
     "data": {
      "application/vnd.plotly.v1+json": {
       "config": {
        "plotlyServerURL": "https://plot.ly"
       },
       "data": [
        {
         "line": {
          "color": "blue"
         },
         "mode": "lines",
         "name": "SW",
         "type": "scatter",
         "x": [
          1,
          2,
          3,
          4,
          5,
          6,
          7,
          8,
          9,
          10,
          11,
          12,
          13,
          14,
          15,
          16,
          17,
          18,
          19,
          20,
          21,
          22,
          23,
          24,
          25,
          26,
          27,
          28,
          29,
          30,
          31,
          32,
          33,
          34,
          35,
          36,
          37,
          38,
          39,
          40,
          41,
          42,
          43,
          44,
          45,
          46,
          47,
          48,
          49,
          50,
          51,
          52,
          53,
          54,
          55,
          56,
          57,
          58,
          59,
          60,
          61,
          62,
          63,
          64,
          65,
          66,
          67,
          68,
          69,
          70,
          71,
          72,
          73,
          74,
          75,
          76,
          77,
          78,
          79,
          80,
          81,
          82,
          83,
          84,
          85,
          86,
          87,
          88,
          89,
          90
         ],
         "xaxis": "x",
         "y": [
          276.54740097156434,
          200.23197540230763,
          176.55701811931877,
          189.24650464352112,
          229.89673967138302,
          295.7183596920414,
          388.13460305201016,
          512.0306817159163,
          675.7190693329685,
          890.6655507102499,
          1172.8300642364306,
          1543.3514527572395,
          2029.7029352030556,
          2667.926248347435,
          3505.953963569589,
          4605.587855058044,
          6046.184483944165,
          7932.110393158545,
          10401.955704822181,
          13628.171217562336,
          17828.96667961501,
          23281.246339230824,
          30346.83781755765,
          39464.849229337815,
          51128.66703387359,
          65897.16789612829,
          84461.5271472024,
          107490.38321889422,
          135497.1401124437,
          168673.96177990094,
          206683.07287321397,
          246239.0664329752,
          241256.2304846013,
          277818.5781151519,
          144036.35536168615,
          80747.6881967007,
          67611.59357344567,
          63900.556888092746,
          66772.00947118287,
          68340.61050569006,
          68855.75639622587,
          68548.1970702873,
          67621.98400289734,
          66226.95511696016,
          64485.63132722993,
          62507.4913675307,
          60372.11172399414,
          58139.49711023799,
          55857.30932328054,
          53560.14026275476,
          51274.019074789896,
          49018.203951842916,
          46808.10431196681,
          44655.50010453219,
          42568.06528880593,
          40550.2886795259,
          38604.78959745766,
          36733.40810656647,
          34936.90202869072,
          33214.859560337034,
          31565.91143908956,
          29989.07582751392,
          28483.467449416952,
          27048.19950519054,
          25681.569466471257,
          24380.647065847395,
          23141.373943110346,
          21959.328082996697,
          20833.26878276525,
          19761.919326569612,
          18744.90138131181,
          17780.597727231336,
          16866.247936501142,
          15998.173177785995,
          15172.237686341954,
          14385.991013446977,
          13638.9101215319,
          12930.417587189155,
          12259.36967655105,
          11623.883530321289,
          11021.600301911145,
          10449.653341783007,
          9906.014238379972,
          9389.87620987522,
          8900.288808278488,
          8436.582998242802,
          8149.146681846139,
          7725.353649473451,
          7594.043794240681,
          7197.947747312325
         ],
         "yaxis": "y"
        },
        {
         "fill": "toself",
         "fillcolor": "blue",
         "line": {
          "color": "blue"
         },
         "mode": "lines",
         "name": "SW",
         "opacity": 0.15,
         "showlegend": false,
         "type": "scatter",
         "x": [
          1,
          2,
          3,
          4,
          5,
          6,
          7,
          8,
          9,
          10,
          11,
          12,
          13,
          14,
          15,
          16,
          17,
          18,
          19,
          20,
          21,
          22,
          23,
          24,
          25,
          26,
          27,
          28,
          29,
          30,
          31,
          32,
          33,
          34,
          35,
          36,
          37,
          38,
          39,
          40,
          41,
          42,
          43,
          44,
          45,
          46,
          47,
          48,
          49,
          50,
          51,
          52,
          53,
          54,
          55,
          56,
          57,
          58,
          59,
          60,
          61,
          62,
          63,
          64,
          65,
          66,
          67,
          68,
          69,
          70,
          71,
          72,
          73,
          74,
          75,
          76,
          77,
          78,
          79,
          80,
          81,
          82,
          83,
          84,
          85,
          86,
          87,
          88,
          89,
          90,
          90,
          89,
          88,
          87,
          86,
          85,
          84,
          83,
          82,
          81,
          80,
          79,
          78,
          77,
          76,
          75,
          74,
          73,
          72,
          71,
          70,
          69,
          68,
          67,
          66,
          65,
          64,
          63,
          62,
          61,
          60,
          59,
          58,
          57,
          56,
          55,
          54,
          53,
          52,
          51,
          50,
          49,
          48,
          47,
          46,
          45,
          44,
          43,
          42,
          41,
          40,
          39,
          38,
          37,
          36,
          35,
          34,
          33,
          32,
          31,
          30,
          29,
          28,
          27,
          26,
          25,
          24,
          23,
          22,
          21,
          20,
          19,
          18,
          17,
          16,
          15,
          14,
          13,
          12,
          11,
          10,
          9,
          8,
          7,
          6,
          5,
          4,
          3,
          2,
          1
         ],
         "xaxis": "x",
         "y": [
          276.547401215824,
          200.34341862926954,
          176.96285351710844,
          190.1167297695947,
          231.43895216691106,
          298.22079034661857,
          392.0105916581718,
          517.8707268672306,
          684.3623951490852,
          903.2901704435155,
          1191.0796707156658,
          1569.517995888493,
          2066.9531881538487,
          2720.6128549583345,
          3580.0857193216025,
          4709.379807080872,
          6190.7697062556035,
          8132.590074896964,
          10678.890587794787,
          14008.999095013534,
          18349.88302958141,
          23989.942567003534,
          31305.7922186136,
          40753.77205262569,
          52844.94118422213,
          68157.09829116147,
          87402.50430488212,
          111257.25394958029,
          140219.42008515497,
          174432.10481148315,
          213465.2129573259,
          253812.5350142251,
          248156.0173743773,
          284675.84779248777,
          147893.96262556515,
          83332.97276930885,
          69638.86783390827,
          65628.90676612098,
          68355.61354373576,
          69845.04601476037,
          70306.42595132522,
          69939.90518629308,
          68971.99964182766,
          67557.47537641312,
          65793.55399894208,
          63812.670954697474,
          61632.058903136865,
          59369.8386804326,
          57059.91258826179,
          54723.96784165457,
          52401.54982675334,
          50099.727364820195,
          47854.567992631564,
          45660.22922442992,
          43532.52533782959,
          41485.17560122815,
          39508.848371141044,
          37598.5158894438,
          35767.310285246946,
          34007.44263562524,
          32325.190818958665,
          30714.111812532647,
          29174.348713618125,
          27711.448247644836,
          26317.76477461664,
          24994.305349338705,
          23727.38536627594,
          22520.4486016812,
          21369.392872661643,
          20273.191180766542,
          19232.173337735345,
          18249.606219979625,
          17317.480139525014,
          16429.67924735243,
          15584.797066308058,
          14777.070662931454,
          14010.84343573965,
          13286.279133602737,
          12600.517478876212,
          11950.698947570007,
          11334.552741670035,
          10746.891574014006,
          10188.066208845437,
          9658.09764836673,
          9156.21501127948,
          8680.852357129552,
          8383.272643574106,
          7947.807976669067,
          7807.95400809597,
          7404.035540074148,
          7017.361533481989,
          7404.182823249849,
          7529.141570342479,
          7944.013749696139,
          8221.504016134495,
          8673.3006083165,
          9150.015735321305,
          9653.341523678417,
          10184.702011801492,
          10745.156343881219,
          11336.450050511376,
          11957.094324887508,
          12612.458289276907,
          13304.675898430984,
          14033.682191956346,
          14803.612012504465,
          15612.043356618755,
          16461.08703556239,
          17355.41563750562,
          18296.484777358753,
          19289.874206943332,
          20339.841784502147,
          21445.382496393413,
          22607.15956703708,
          23822.465487522604,
          25094.14902617529,
          26429.89606437344,
          27836.367255658053,
          29309.838742978198,
          30857.07542045302,
          32476.72678873352,
          34168.3384461825,
          35930.384654199144,
          37767.2395216129,
          39676.35314767534,
          41659.047680698335,
          43710.912093314735,
          45833.98479644465,
          47999.62769894251,
          50210.752250488054,
          52453.750834937855,
          54713.77310411625,
          56955.37430858087,
          59153.18092602772,
          61251.12364142826,
          63200.43406601898,
          64914.189240892774,
          66275.01227977124,
          67178.60703474157,
          67449.5419685819,
          66906.00959585968,
          65296.115140530615,
          62395.31918607364,
          66016.18091584096,
          78766.78859293312,
          140532.17466097706,
          270062.9938627003,
          233540.70427243237,
          237622.12506739548,
          198992.59525520614,
          162162.98909365677,
          130167.57114846002,
          103244.046440099,
          81148.1982870604,
          63351.5776927933,
          49195.29707426931,
          38012.494100254604,
          29265.783680365315,
          22481.836557191487,
          17240.975228243056,
          13197.993136546183,
          10088.886818406649,
          7705.284913400125,
          5882.460211663474,
          4487.954942071835,
          3421.862076277855,
          2608.107137481095,
          1987.3716750463273,
          1513.5884909737945,
          1152.0529581766607,
          876.2791071442819,
          665.8602941627298,
          505.36315039133234,
          383.70533106018866,
          292.8561695972713,
          228.13136823454005,
          188.24965988461184,
          176.0918861179427,
          200.10420795818925,
          276.54740074408306
         ],
         "yaxis": "y"
        },
        {
         "line": {
          "color": "blue"
         },
         "mode": "lines",
         "name": "SW",
         "showlegend": false,
         "type": "scatter",
         "x": [
          1,
          2,
          3,
          4,
          5,
          6,
          7,
          8,
          9,
          10,
          11,
          12,
          13,
          14,
          15,
          16,
          17,
          18,
          19,
          20,
          21,
          22,
          23,
          24,
          25,
          26,
          27,
          28,
          29,
          30,
          31,
          32,
          33,
          34,
          35,
          36,
          37,
          38,
          39,
          40,
          41,
          42,
          43,
          44,
          45,
          46,
          47,
          48,
          49,
          50,
          51,
          52,
          53,
          54,
          55,
          56,
          57,
          58,
          59,
          60,
          61,
          62,
          63,
          64,
          65,
          66,
          67,
          68,
          69,
          70,
          71,
          72,
          73,
          74,
          75,
          76,
          77,
          78,
          79,
          80,
          81,
          82,
          83,
          84,
          85,
          86,
          87,
          88,
          89,
          90
         ],
         "xaxis": "x2",
         "y": [
          0,
          0.1618680296903116,
          0.38757592982313127,
          0.5075348592411523,
          0.5620484643330801,
          0.5777634610502985,
          0.5722503077259753,
          0.5572023144154987,
          0.5411366059845807,
          0.5278564048637344,
          0.5240393992656937,
          0.5325737125204661,
          0.5569162019413213,
          0.6031674182447078,
          0.6772028350605038,
          0.7860734813348634,
          0.9398787621621221,
          1.1524919270291705,
          1.4435726284089943,
          1.8338435526573638,
          2.354015272232592,
          3.0388880199002073,
          3.9534420861438258,
          5.168984951817338,
          6.761662746223719,
          8.854107524986368,
          11.569879019073284,
          15.154405672076916,
          19.87560506761052,
          26.00526096162729,
          33.93379633737881,
          44.18752530665488,
          57.415974467639394,
          74.28849615629687,
          95.57359502179425,
          121.91573328841663,
          153.68673455564115,
          190.35629897033027,
          230.6044086381699,
          272.80283783506366,
          315.0300877810742,
          355.867683032121,
          394.38487262040763,
          429.5311638942593,
          461.02091686913025,
          488.6698792612138,
          512.2195135527107,
          532.0075866371039,
          548.3160286781554,
          561.0779851393909,
          570.467470427058,
          576.954052003432,
          581.0481474827624,
          583.0304213267759,
          582.8654204703195,
          580.8757680309474,
          577.2218314639796,
          572.2150075014532,
          566.0101050163022,
          558.7240093193589,
          550.4387184448859,
          541.3682014318197,
          531.7108450986317,
          521.5696603070537,
          510.9976919743956,
          499.9753152120317,
          488.4816799382209,
          476.5472678505437,
          464.4829686957933,
          452.35991756799297,
          440.29303800866387,
          428.2324360061579,
          416.1206291667061,
          403.9125105569997,
          391.5970608651383,
          379.3203638508715,
          367.25950257669626,
          355.43049493953015,
          343.81008207570267,
          332.3511503731097,
          321.02271835398926,
          309.7927132047561,
          298.72922889832597,
          287.9452222689273,
          277.4441514726704,
          267.2249334698127,
          257.24377854856283,
          247.48200924410204,
          237.92813609590033,
          228.6288797249148
         ],
         "yaxis": "y2"
        },
        {
         "fill": "toself",
         "fillcolor": "blue",
         "line": {
          "color": "blue"
         },
         "mode": "lines",
         "name": "SW",
         "opacity": 0.15,
         "showlegend": false,
         "type": "scatter",
         "x": [
          1,
          2,
          3,
          4,
          5,
          6,
          7,
          8,
          9,
          10,
          11,
          12,
          13,
          14,
          15,
          16,
          17,
          18,
          19,
          20,
          21,
          22,
          23,
          24,
          25,
          26,
          27,
          28,
          29,
          30,
          31,
          32,
          33,
          34,
          35,
          36,
          37,
          38,
          39,
          40,
          41,
          42,
          43,
          44,
          45,
          46,
          47,
          48,
          49,
          50,
          51,
          52,
          53,
          54,
          55,
          56,
          57,
          58,
          59,
          60,
          61,
          62,
          63,
          64,
          65,
          66,
          67,
          68,
          69,
          70,
          71,
          72,
          73,
          74,
          75,
          76,
          77,
          78,
          79,
          80,
          81,
          82,
          83,
          84,
          85,
          86,
          87,
          88,
          89,
          90,
          90,
          89,
          88,
          87,
          86,
          85,
          84,
          83,
          82,
          81,
          80,
          79,
          78,
          77,
          76,
          75,
          74,
          73,
          72,
          71,
          70,
          69,
          68,
          67,
          66,
          65,
          64,
          63,
          62,
          61,
          60,
          59,
          58,
          57,
          56,
          55,
          54,
          53,
          52,
          51,
          50,
          49,
          48,
          47,
          46,
          45,
          44,
          43,
          42,
          41,
          40,
          39,
          38,
          37,
          36,
          35,
          34,
          33,
          32,
          31,
          30,
          29,
          28,
          27,
          26,
          25,
          24,
          23,
          22,
          21,
          20,
          19,
          18,
          17,
          16,
          15,
          14,
          13,
          12,
          11,
          10,
          9,
          8,
          7,
          6,
          5,
          4,
          3,
          2,
          1
         ],
         "xaxis": "x2",
         "y": [
          0,
          0.1618680297808901,
          0.38757596720647697,
          0.5075353296831701,
          0.5620512426137558,
          0.577774122440472,
          0.5722808451080184,
          0.5572750156989821,
          0.5412918196095485,
          0.5281542561924939,
          0.5245745172022943,
          0.5334924581051689,
          0.5584246369371959,
          0.6055645575303683,
          0.6809339204680563,
          0.7917585084650507,
          0.948373258925392,
          1.1650148083454994,
          1.4619187243439524,
          1.860407129582349,
          2.3921089148395063,
          3.0929782105183485,
          4.030102982500337,
          5.27715257025437,
          6.913119867888999,
          9.064676389409877,
          11.861092010745422,
          15.557138366457233,
          20.429591873360675,
          26.760330351462933,
          34.95776963740111,
          45.568224579489836,
          59.25392556479896,
          76.7636340140406,
          98.74901635925747,
          125.97536496579878,
          158.7144704611646,
          196.05988737953254,
          236.7860532229703,
          279.0770293768328,
          321.4523535867957,
          361.88155495582527,
          399.9509782288353,
          434.9000024769473,
          466.47492081000667,
          494.2348711883555,
          518.0755891909881,
          538.3722389682524,
          554.9203737688257,
          567.6519963512744,
          577.0674039574175,
          583.7876523742065,
          588.1424559287598,
          590.2058810836297,
          590.1131992025003,
          588.0277278839749,
          584.4591443436492,
          579.468542148417,
          573.2702094021347,
          565.9468390929403,
          557.5974232871243,
          548.6099503723461,
          539.0198299906383,
          528.9426958422696,
          518.3345945601737,
          507.3679730416889,
          495.8833892801747,
          483.9029666114345,
          471.88994922752386,
          459.8032384295002,
          447.71693279824615,
          435.63287832723375,
          423.4714578751673,
          411.2552732912916,
          398.83875471579637,
          386.45120879338816,
          374.2930706473429,
          362.4204487042054,
          350.7703612408522,
          339.21981668623226,
          327.74669705021336,
          316.324235194853,
          305.1344500561698,
          294.31330165491136,
          283.64633160460556,
          273.2497485550875,
          263.1506724130219,
          253.2487916178038,
          243.53519020207213,
          234.05505069092445,
          223.3591418038476,
          232.47004999241312,
          241.90062949031636,
          251.5455770022555,
          261.35427104078605,
          271.43952879932374,
          281.7855505553662,
          292.4406391664905,
          303.4164967694649,
          314.54290331785575,
          325.70015139536844,
          337.0942591870127,
          348.6494636506755,
          360.4010720286186,
          372.3581855227002,
          384.5688635187305,
          396.77772419950867,
          408.9314252952232,
          421.0872870489746,
          433.15586935687645,
          445.2114821942676,
          457.28331175490695,
          469.3714045112584,
          481.389040788378,
          492.92460927222385,
          503.95286790236446,
          514.5289199445474,
          524.7399136266519,
          534.413764468793,
          543.5787814276512,
          551.853297871078,
          559.1199002114477,
          565.3503365077478,
          570.3673520299717,
          573.9934808674936,
          575.9970106311207,
          576.0027101238344,
          573.8429313958251,
          569.5587776372868,
          562.8310898632861,
          553.2879907743231,
          540.3410998075175,
          523.595223394968,
          503.39765960794824,
          479.62851297916956,
          451.86892328491336,
          420.36667775331694,
          385.2801266072234,
          346.83178719873575,
          306.2381127444967,
          264.59732352174035,
          222.98386437514876,
          183.6190823374134,
          147.9495775077693,
          117.31415449931774,
          91.9805280270075,
          71.52030537208259,
          55.33673081801773,
          42.63112396805138,
          32.77902980380644,
          25.153329806879757,
          19.250194480031134,
          14.699476460094555,
          11.24066651476798,
          8.615867128471285,
          6.5901888988170665,
          5.0464257358398905,
          3.866513996425211,
          2.9775011558870688,
          2.310747879750842,
          1.8036495499566212,
          1.422702769176302,
          1.1382351824686991,
          0.930200934508576,
          0.779591795483568,
          0.6729458756134479,
          0.6004305373201162,
          0.5551929124181435,
          0.5315234628479774,
          0.5234273521698279,
          0.5275155657056545,
          0.5409589041841499,
          0.5571190526465256,
          0.5722153218634135,
          0.5777512435858058,
          0.5620452797709129,
          0.5075343199653654,
          0.3875758869642743,
          0.16186802958728896,
          0
         ],
         "yaxis": "y2"
        },
        {
         "line": {
          "color": "blue"
         },
         "mode": "markers",
         "name": "SW",
         "showlegend": false,
         "type": "scatter",
         "x": [
          1,
          2,
          3,
          4,
          5,
          6,
          7,
          8,
          9,
          10,
          11,
          12,
          13,
          14,
          15,
          16,
          17,
          18,
          19,
          20,
          21,
          22,
          23,
          24,
          25,
          26,
          27,
          28,
          29,
          30,
          31,
          32,
          33,
          34,
          35,
          36,
          37,
          38,
          39,
          40,
          41,
          42,
          43,
          44,
          45,
          46,
          47,
          48,
          49,
          50,
          51,
          52,
          53,
          54,
          55,
          56,
          57,
          58,
          59,
          60,
          61,
          62,
          63,
          64,
          65,
          66,
          67,
          68,
          69,
          70,
          71,
          72,
          73,
          74,
          75,
          76,
          77,
          78,
          79,
          80,
          81,
          82,
          83,
          84,
          85,
          86,
          87,
          88,
          89,
          90
         ],
         "xaxis": "x2",
         "y": [
          0,
          0,
          1,
          1,
          0,
          2,
          0,
          0,
          1,
          1,
          2,
          1,
          1,
          0,
          0,
          2,
          1,
          2,
          0,
          3,
          0,
          3,
          5,
          2,
          4,
          11,
          6,
          20,
          25,
          30,
          36,
          43,
          71,
          82,
          84,
          121,
          150,
          205,
          261,
          282,
          311,
          338,
          432,
          394,
          408,
          448,
          504,
          515,
          566,
          565,
          535,
          559,
          595,
          612,
          594,
          590,
          556,
          586,
          563,
          594,
          561,
          554,
          533,
          523,
          564,
          501,
          453,
          487,
          480,
          434,
          450,
          412,
          415,
          363,
          381,
          365,
          372,
          354,
          331,
          299,
          343,
          314,
          286,
          324,
          289,
          256,
          250,
          263,
          246,
          242
         ],
         "yaxis": "y2"
        }
       ],
       "layout": {
        "annotations": [
         {
          "font": {
           "size": 16
          },
          "showarrow": false,
          "text": "Infections",
          "x": 0.5,
          "xanchor": "center",
          "xref": "paper",
          "y": 1,
          "yanchor": "bottom",
          "yref": "paper"
         },
         {
          "font": {
           "size": 16
          },
          "showarrow": false,
          "text": "Deaths",
          "x": 0.5,
          "xanchor": "center",
          "xref": "paper",
          "y": 0.6111111111111112,
          "yanchor": "bottom",
          "yref": "paper"
         },
         {
          "font": {
           "size": 16
          },
          "showarrow": false,
          "text": "Reproduction Number",
          "x": 0.5,
          "xanchor": "center",
          "xref": "paper",
          "y": 0.22222222222222224,
          "yanchor": "bottom",
          "yref": "paper"
         }
        ],
        "height": 900,
        "legend": {
         "orientation": "h",
         "x": 1,
         "xanchor": "right",
         "y": 1.075,
         "yanchor": "bottom"
        },
        "plot_bgcolor": "white",
        "template": {
         "data": {
          "bar": [
           {
            "error_x": {
             "color": "#2a3f5f"
            },
            "error_y": {
             "color": "#2a3f5f"
            },
            "marker": {
             "line": {
              "color": "#E5ECF6",
              "width": 0.5
             },
             "pattern": {
              "fillmode": "overlay",
              "size": 10,
              "solidity": 0.2
             }
            },
            "type": "bar"
           }
          ],
          "barpolar": [
           {
            "marker": {
             "line": {
              "color": "#E5ECF6",
              "width": 0.5
             },
             "pattern": {
              "fillmode": "overlay",
              "size": 10,
              "solidity": 0.2
             }
            },
            "type": "barpolar"
           }
          ],
          "carpet": [
           {
            "aaxis": {
             "endlinecolor": "#2a3f5f",
             "gridcolor": "white",
             "linecolor": "white",
             "minorgridcolor": "white",
             "startlinecolor": "#2a3f5f"
            },
            "baxis": {
             "endlinecolor": "#2a3f5f",
             "gridcolor": "white",
             "linecolor": "white",
             "minorgridcolor": "white",
             "startlinecolor": "#2a3f5f"
            },
            "type": "carpet"
           }
          ],
          "choropleth": [
           {
            "colorbar": {
             "outlinewidth": 0,
             "ticks": ""
            },
            "type": "choropleth"
           }
          ],
          "contour": [
           {
            "colorbar": {
             "outlinewidth": 0,
             "ticks": ""
            },
            "colorscale": [
             [
              0,
              "#0d0887"
             ],
             [
              0.1111111111111111,
              "#46039f"
             ],
             [
              0.2222222222222222,
              "#7201a8"
             ],
             [
              0.3333333333333333,
              "#9c179e"
             ],
             [
              0.4444444444444444,
              "#bd3786"
             ],
             [
              0.5555555555555556,
              "#d8576b"
             ],
             [
              0.6666666666666666,
              "#ed7953"
             ],
             [
              0.7777777777777778,
              "#fb9f3a"
             ],
             [
              0.8888888888888888,
              "#fdca26"
             ],
             [
              1,
              "#f0f921"
             ]
            ],
            "type": "contour"
           }
          ],
          "contourcarpet": [
           {
            "colorbar": {
             "outlinewidth": 0,
             "ticks": ""
            },
            "type": "contourcarpet"
           }
          ],
          "heatmap": [
           {
            "colorbar": {
             "outlinewidth": 0,
             "ticks": ""
            },
            "colorscale": [
             [
              0,
              "#0d0887"
             ],
             [
              0.1111111111111111,
              "#46039f"
             ],
             [
              0.2222222222222222,
              "#7201a8"
             ],
             [
              0.3333333333333333,
              "#9c179e"
             ],
             [
              0.4444444444444444,
              "#bd3786"
             ],
             [
              0.5555555555555556,
              "#d8576b"
             ],
             [
              0.6666666666666666,
              "#ed7953"
             ],
             [
              0.7777777777777778,
              "#fb9f3a"
             ],
             [
              0.8888888888888888,
              "#fdca26"
             ],
             [
              1,
              "#f0f921"
             ]
            ],
            "type": "heatmap"
           }
          ],
          "heatmapgl": [
           {
            "colorbar": {
             "outlinewidth": 0,
             "ticks": ""
            },
            "colorscale": [
             [
              0,
              "#0d0887"
             ],
             [
              0.1111111111111111,
              "#46039f"
             ],
             [
              0.2222222222222222,
              "#7201a8"
             ],
             [
              0.3333333333333333,
              "#9c179e"
             ],
             [
              0.4444444444444444,
              "#bd3786"
             ],
             [
              0.5555555555555556,
              "#d8576b"
             ],
             [
              0.6666666666666666,
              "#ed7953"
             ],
             [
              0.7777777777777778,
              "#fb9f3a"
             ],
             [
              0.8888888888888888,
              "#fdca26"
             ],
             [
              1,
              "#f0f921"
             ]
            ],
            "type": "heatmapgl"
           }
          ],
          "histogram": [
           {
            "marker": {
             "pattern": {
              "fillmode": "overlay",
              "size": 10,
              "solidity": 0.2
             }
            },
            "type": "histogram"
           }
          ],
          "histogram2d": [
           {
            "colorbar": {
             "outlinewidth": 0,
             "ticks": ""
            },
            "colorscale": [
             [
              0,
              "#0d0887"
             ],
             [
              0.1111111111111111,
              "#46039f"
             ],
             [
              0.2222222222222222,
              "#7201a8"
             ],
             [
              0.3333333333333333,
              "#9c179e"
             ],
             [
              0.4444444444444444,
              "#bd3786"
             ],
             [
              0.5555555555555556,
              "#d8576b"
             ],
             [
              0.6666666666666666,
              "#ed7953"
             ],
             [
              0.7777777777777778,
              "#fb9f3a"
             ],
             [
              0.8888888888888888,
              "#fdca26"
             ],
             [
              1,
              "#f0f921"
             ]
            ],
            "type": "histogram2d"
           }
          ],
          "histogram2dcontour": [
           {
            "colorbar": {
             "outlinewidth": 0,
             "ticks": ""
            },
            "colorscale": [
             [
              0,
              "#0d0887"
             ],
             [
              0.1111111111111111,
              "#46039f"
             ],
             [
              0.2222222222222222,
              "#7201a8"
             ],
             [
              0.3333333333333333,
              "#9c179e"
             ],
             [
              0.4444444444444444,
              "#bd3786"
             ],
             [
              0.5555555555555556,
              "#d8576b"
             ],
             [
              0.6666666666666666,
              "#ed7953"
             ],
             [
              0.7777777777777778,
              "#fb9f3a"
             ],
             [
              0.8888888888888888,
              "#fdca26"
             ],
             [
              1,
              "#f0f921"
             ]
            ],
            "type": "histogram2dcontour"
           }
          ],
          "mesh3d": [
           {
            "colorbar": {
             "outlinewidth": 0,
             "ticks": ""
            },
            "type": "mesh3d"
           }
          ],
          "parcoords": [
           {
            "line": {
             "colorbar": {
              "outlinewidth": 0,
              "ticks": ""
             }
            },
            "type": "parcoords"
           }
          ],
          "pie": [
           {
            "automargin": true,
            "type": "pie"
           }
          ],
          "scatter": [
           {
            "marker": {
             "colorbar": {
              "outlinewidth": 0,
              "ticks": ""
             }
            },
            "type": "scatter"
           }
          ],
          "scatter3d": [
           {
            "line": {
             "colorbar": {
              "outlinewidth": 0,
              "ticks": ""
             }
            },
            "marker": {
             "colorbar": {
              "outlinewidth": 0,
              "ticks": ""
             }
            },
            "type": "scatter3d"
           }
          ],
          "scattercarpet": [
           {
            "marker": {
             "colorbar": {
              "outlinewidth": 0,
              "ticks": ""
             }
            },
            "type": "scattercarpet"
           }
          ],
          "scattergeo": [
           {
            "marker": {
             "colorbar": {
              "outlinewidth": 0,
              "ticks": ""
             }
            },
            "type": "scattergeo"
           }
          ],
          "scattergl": [
           {
            "marker": {
             "colorbar": {
              "outlinewidth": 0,
              "ticks": ""
             }
            },
            "type": "scattergl"
           }
          ],
          "scattermapbox": [
           {
            "marker": {
             "colorbar": {
              "outlinewidth": 0,
              "ticks": ""
             }
            },
            "type": "scattermapbox"
           }
          ],
          "scatterpolar": [
           {
            "marker": {
             "colorbar": {
              "outlinewidth": 0,
              "ticks": ""
             }
            },
            "type": "scatterpolar"
           }
          ],
          "scatterpolargl": [
           {
            "marker": {
             "colorbar": {
              "outlinewidth": 0,
              "ticks": ""
             }
            },
            "type": "scatterpolargl"
           }
          ],
          "scatterternary": [
           {
            "marker": {
             "colorbar": {
              "outlinewidth": 0,
              "ticks": ""
             }
            },
            "type": "scatterternary"
           }
          ],
          "surface": [
           {
            "colorbar": {
             "outlinewidth": 0,
             "ticks": ""
            },
            "colorscale": [
             [
              0,
              "#0d0887"
             ],
             [
              0.1111111111111111,
              "#46039f"
             ],
             [
              0.2222222222222222,
              "#7201a8"
             ],
             [
              0.3333333333333333,
              "#9c179e"
             ],
             [
              0.4444444444444444,
              "#bd3786"
             ],
             [
              0.5555555555555556,
              "#d8576b"
             ],
             [
              0.6666666666666666,
              "#ed7953"
             ],
             [
              0.7777777777777778,
              "#fb9f3a"
             ],
             [
              0.8888888888888888,
              "#fdca26"
             ],
             [
              1,
              "#f0f921"
             ]
            ],
            "type": "surface"
           }
          ],
          "table": [
           {
            "cells": {
             "fill": {
              "color": "#EBF0F8"
             },
             "line": {
              "color": "white"
             }
            },
            "header": {
             "fill": {
              "color": "#C8D4E3"
             },
             "line": {
              "color": "white"
             }
            },
            "type": "table"
           }
          ]
         },
         "layout": {
          "annotationdefaults": {
           "arrowcolor": "#2a3f5f",
           "arrowhead": 0,
           "arrowwidth": 1
          },
          "autotypenumbers": "strict",
          "coloraxis": {
           "colorbar": {
            "outlinewidth": 0,
            "ticks": ""
           }
          },
          "colorscale": {
           "diverging": [
            [
             0,
             "#8e0152"
            ],
            [
             0.1,
             "#c51b7d"
            ],
            [
             0.2,
             "#de77ae"
            ],
            [
             0.3,
             "#f1b6da"
            ],
            [
             0.4,
             "#fde0ef"
            ],
            [
             0.5,
             "#f7f7f7"
            ],
            [
             0.6,
             "#e6f5d0"
            ],
            [
             0.7,
             "#b8e186"
            ],
            [
             0.8,
             "#7fbc41"
            ],
            [
             0.9,
             "#4d9221"
            ],
            [
             1,
             "#276419"
            ]
           ],
           "sequential": [
            [
             0,
             "#0d0887"
            ],
            [
             0.1111111111111111,
             "#46039f"
            ],
            [
             0.2222222222222222,
             "#7201a8"
            ],
            [
             0.3333333333333333,
             "#9c179e"
            ],
            [
             0.4444444444444444,
             "#bd3786"
            ],
            [
             0.5555555555555556,
             "#d8576b"
            ],
            [
             0.6666666666666666,
             "#ed7953"
            ],
            [
             0.7777777777777778,
             "#fb9f3a"
            ],
            [
             0.8888888888888888,
             "#fdca26"
            ],
            [
             1,
             "#f0f921"
            ]
           ],
           "sequentialminus": [
            [
             0,
             "#0d0887"
            ],
            [
             0.1111111111111111,
             "#46039f"
            ],
            [
             0.2222222222222222,
             "#7201a8"
            ],
            [
             0.3333333333333333,
             "#9c179e"
            ],
            [
             0.4444444444444444,
             "#bd3786"
            ],
            [
             0.5555555555555556,
             "#d8576b"
            ],
            [
             0.6666666666666666,
             "#ed7953"
            ],
            [
             0.7777777777777778,
             "#fb9f3a"
            ],
            [
             0.8888888888888888,
             "#fdca26"
            ],
            [
             1,
             "#f0f921"
            ]
           ]
          },
          "colorway": [
           "#636efa",
           "#EF553B",
           "#00cc96",
           "#ab63fa",
           "#FFA15A",
           "#19d3f3",
           "#FF6692",
           "#B6E880",
           "#FF97FF",
           "#FECB52"
          ],
          "font": {
           "color": "#2a3f5f"
          },
          "geo": {
           "bgcolor": "white",
           "lakecolor": "white",
           "landcolor": "#E5ECF6",
           "showlakes": true,
           "showland": true,
           "subunitcolor": "white"
          },
          "hoverlabel": {
           "align": "left"
          },
          "hovermode": "closest",
          "mapbox": {
           "style": "light"
          },
          "paper_bgcolor": "white",
          "plot_bgcolor": "#E5ECF6",
          "polar": {
           "angularaxis": {
            "gridcolor": "white",
            "linecolor": "white",
            "ticks": ""
           },
           "bgcolor": "#E5ECF6",
           "radialaxis": {
            "gridcolor": "white",
            "linecolor": "white",
            "ticks": ""
           }
          },
          "scene": {
           "xaxis": {
            "backgroundcolor": "#E5ECF6",
            "gridcolor": "white",
            "gridwidth": 2,
            "linecolor": "white",
            "showbackground": true,
            "ticks": "",
            "zerolinecolor": "white"
           },
           "yaxis": {
            "backgroundcolor": "#E5ECF6",
            "gridcolor": "white",
            "gridwidth": 2,
            "linecolor": "white",
            "showbackground": true,
            "ticks": "",
            "zerolinecolor": "white"
           },
           "zaxis": {
            "backgroundcolor": "#E5ECF6",
            "gridcolor": "white",
            "gridwidth": 2,
            "linecolor": "white",
            "showbackground": true,
            "ticks": "",
            "zerolinecolor": "white"
           }
          },
          "shapedefaults": {
           "line": {
            "color": "#2a3f5f"
           }
          },
          "ternary": {
           "aaxis": {
            "gridcolor": "white",
            "linecolor": "white",
            "ticks": ""
           },
           "baxis": {
            "gridcolor": "white",
            "linecolor": "white",
            "ticks": ""
           },
           "bgcolor": "#E5ECF6",
           "caxis": {
            "gridcolor": "white",
            "linecolor": "white",
            "ticks": ""
           }
          },
          "title": {
           "x": 0.05
          },
          "xaxis": {
           "automargin": true,
           "gridcolor": "white",
           "linecolor": "white",
           "ticks": "",
           "title": {
            "standoff": 15
           },
           "zerolinecolor": "white",
           "zerolinewidth": 2
          },
          "yaxis": {
           "automargin": true,
           "gridcolor": "white",
           "linecolor": "white",
           "ticks": "",
           "title": {
            "standoff": 15
           },
           "zerolinecolor": "white",
           "zerolinewidth": 2
          }
         }
        },
        "width": 600,
        "xaxis": {
         "anchor": "y",
         "domain": [
          0,
          1
         ],
         "linecolor": "black",
         "ticktext": [
          "Feb 15",
          "Feb 25",
          "Mar 06",
          "Mar 16",
          "Mar 26",
          "Apr 05",
          "Apr 15",
          "Apr 25",
          "May 05",
          "May 15"
         ],
         "tickvals": [
          1,
          11,
          21,
          31,
          41,
          51,
          61,
          71,
          81
         ]
        },
        "xaxis2": {
         "anchor": "y2",
         "domain": [
          0,
          1
         ],
         "linecolor": "black",
         "ticktext": [
          "Feb 15",
          "Feb 25",
          "Mar 06",
          "Mar 16",
          "Mar 26",
          "Apr 05",
          "Apr 15",
          "Apr 25",
          "May 05",
          "May 15"
         ],
         "tickvals": [
          1,
          11,
          21,
          31,
          41,
          51,
          61,
          71,
          81
         ]
        },
        "xaxis3": {
         "anchor": "y3",
         "domain": [
          0,
          1
         ],
         "linecolor": "black",
         "ticktext": [
          "Feb 15",
          "Feb 25",
          "Mar 06",
          "Mar 16",
          "Mar 26",
          "Apr 05",
          "Apr 15",
          "Apr 25",
          "May 05",
          "May 15"
         ],
         "tickvals": [
          1,
          11,
          21,
          31,
          41,
          51,
          61,
          71,
          81
         ]
        },
        "yaxis": {
         "anchor": "x",
         "domain": [
          0.7777777777777778,
          1
         ],
         "linecolor": "black"
        },
        "yaxis2": {
         "anchor": "x2",
         "domain": [
          0.3888888888888889,
          0.6111111111111112
         ],
         "linecolor": "black"
        },
        "yaxis3": {
         "anchor": "x3",
         "domain": [
          0,
          0.22222222222222224
         ],
         "linecolor": "black"
        }
       }
      }
     },
     "metadata": {},
     "output_type": "display_data"
    }
   ],
   "source": [
    "# Trace names - represent the solver used for the simulation\n",
    "trace_name = regions\n",
    "titles = ['Infections', 'Deaths', 'Reproduction Number']\n",
    "\n",
    "fig = go.Figure()\n",
    "fig = make_subplots(rows=len(titles), cols=1, subplot_titles=tuple(titles), horizontal_spacing = 0.15)\n",
    "\n",
    "# Plot (continuous predicted timeline and pointwise observed numbers each day)\n",
    "for r, region in enumerate(regions):\n",
    "    # Plot of infections\n",
    "    fig.add_trace(\n",
    "        go.Scatter(\n",
    "            x=times,\n",
    "            y=new_infec_mean[r].tolist(),\n",
    "            mode='lines',\n",
    "            name=trace_name[r],\n",
    "            line_color=colours[r]\n",
    "        ),\n",
    "        row= 1,\n",
    "        col= 1\n",
    "    )\n",
    "\n",
    "    fig.add_trace(\n",
    "        go.Scatter(\n",
    "            x=times + times[::-1],\n",
    "            y=new_infec_upper[r].tolist() + new_infec_lower[r].tolist()[::-1],\n",
    "            fill='toself',\n",
    "            fillcolor=colours[r],\n",
    "            line_color=colours[r],\n",
    "            opacity=0.15,\n",
    "            mode='lines',\n",
    "            showlegend=False,\n",
    "            name=trace_name[r]\n",
    "        ),\n",
    "        row= 1,\n",
    "        col= 1\n",
    "    )\n",
    "\n",
    "    # fig.add_trace(\n",
    "    #     go.Scatter(\n",
    "    #         x=serology_times,\n",
    "    #         y=np.sum(np.multiply(np.nan_to_num(np.divide(positives_data[r], tests[r])), susceptibles[r]), axis=1).tolist(),\n",
    "    #         mode='markers',\n",
    "    #         name=trace_name[r],\n",
    "    #         showlegend=False,\n",
    "    #         line_color=colours[r]\n",
    "    #     ),\n",
    "    #     row= 1,\n",
    "    #     col= 1\n",
    "    # )\n",
    "\n",
    "    # Plot deaths\n",
    "    fig.add_trace(\n",
    "        go.Scatter(\n",
    "            x=times,\n",
    "            y=deaths_mean[r].tolist(),\n",
    "            mode='lines',\n",
    "            name=trace_name[r],\n",
    "            showlegend=False,\n",
    "            line_color=colours[r]\n",
    "        ),\n",
    "        row= 2,\n",
    "        col= 1\n",
    "    )\n",
    "\n",
    "    fig.add_trace(\n",
    "        go.Scatter(\n",
    "            x=times + times[::-1],\n",
    "            y=deaths_upper[r].tolist() + deaths_lower[r].tolist()[::-1],\n",
    "            fill='toself',\n",
    "            fillcolor=colours[r],\n",
    "            line_color=colours[r],\n",
    "            opacity=0.15,\n",
    "            mode='lines',\n",
    "            showlegend=False,\n",
    "            name=trace_name[r]\n",
    "        ),\n",
    "        row= 2,\n",
    "        col= 1\n",
    "    )\n",
    "\n",
    "    fig.add_trace(\n",
    "        go.Scatter(\n",
    "            x=times,\n",
    "            y=np.sum(deaths_data[r], axis=1).tolist(),\n",
    "            mode='markers',\n",
    "            name=trace_name[r],\n",
    "            showlegend=False,\n",
    "            line_color=colours[r]\n",
    "        ),\n",
    "        row= 2,\n",
    "        col= 1\n",
    "    )\n",
    "\n",
    "    # Plot reproduction number\n",
    "    # fig.add_trace(\n",
    "    #     go.Scatter(\n",
    "    #         x=times,\n",
    "    #         y=reprod_num_mean[r].tolist(),\n",
    "    #         mode='lines',\n",
    "    #         name=trace_name[r],\n",
    "    #         showlegend=False,\n",
    "    #         line_color=colours[r]\n",
    "    #     ),\n",
    "    #     row= 3,\n",
    "    #     col= 1\n",
    "    # )\n",
    "\n",
    "    # fig.add_trace(\n",
    "    #     go.Scatter(\n",
    "    #         x=times + times[::-1],\n",
    "    #         y=reprod_num_upper[r].tolist() + reprod_num_lower[r].tolist()[::-1],\n",
    "    #         fill='toself',\n",
    "    #         fillcolor=colours[r],\n",
    "    #         line_color=colours[r],\n",
    "    #         opacity=0.15,\n",
    "    #         mode='lines',\n",
    "    #         showlegend=False,\n",
    "    #         name=trace_name[r]\n",
    "    #     ),\n",
    "    #     row= 3,\n",
    "    #     col= 1\n",
    "    # )\n",
    "\n",
    "# Add axis labels\n",
    "fig.update_layout(\n",
    "    width=600, \n",
    "    height=900,\n",
    "    plot_bgcolor='white',\n",
    "    xaxis=dict(\n",
    "        linecolor='black',\n",
    "        tickvals=np.arange(1, 90, 10).tolist(),\n",
    "        ticktext=['Feb 15', 'Feb 25', 'Mar 06', 'Mar 16', 'Mar 26', 'Apr 05', 'Apr 15', 'Apr 25', 'May 05', 'May 15']),\n",
    "    yaxis=dict(linecolor='black'),\n",
    "    xaxis2=dict(\n",
    "        linecolor='black',\n",
    "        tickvals=np.arange(1, 90, 10).tolist(),\n",
    "        ticktext=['Feb 15', 'Feb 25', 'Mar 06', 'Mar 16', 'Mar 26', 'Apr 05', 'Apr 15', 'Apr 25', 'May 05', 'May 15']),\n",
    "    yaxis2=dict(linecolor='black'),\n",
    "    xaxis3=dict(\n",
    "        linecolor='black',\n",
    "        tickvals=np.arange(1, 90, 10).tolist(),\n",
    "        ticktext=['Feb 15', 'Feb 25', 'Mar 06', 'Mar 16', 'Mar 26', 'Apr 05', 'Apr 15', 'Apr 25', 'May 05', 'May 15']),\n",
    "    yaxis3=dict(linecolor='black'),\n",
    "    legend=dict(\n",
    "        orientation='h',\n",
    "        yanchor=\"bottom\",\n",
    "        y=1.075,\n",
    "        xanchor=\"right\",\n",
    "        x=1)\n",
    "    )\n",
    "\n",
    "fig.write_image('images/Figure-3-synthetic.pdf')\n",
    "fig.show()"
   ]
  }
 ],
 "metadata": {
  "interpreter": {
   "hash": "684a6128a123c6817f5879bd443c804f1ae947106cccd5e393ee42f0caf0d347"
  },
  "kernelspec": {
   "display_name": "Python 3.8.8 64-bit ('base': conda)",
   "name": "python3"
  },
  "language_info": {
   "codemirror_mode": {
    "name": "ipython",
    "version": 3
   },
   "file_extension": ".py",
   "mimetype": "text/x-python",
   "name": "python",
   "nbconvert_exporter": "python",
   "pygments_lexer": "ipython3",
   "version": "3.8.8"
  },
  "orig_nbformat": 4
 },
 "nbformat": 4,
 "nbformat_minor": 2
}

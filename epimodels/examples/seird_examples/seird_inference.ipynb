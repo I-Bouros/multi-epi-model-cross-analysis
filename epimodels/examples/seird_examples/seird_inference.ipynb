{
 "cells": [
  {
   "cell_type": "markdown",
   "metadata": {},
   "source": [
    "# SEIRD Model Inference\n",
    "\n",
    "In this notebook we present how to use the `epimodels` module to set up the inference for some of the parameters of the SEIRD model. We aim to explore the indetifiability of the parameters we use to simulate the model.\n",
    "\n",
    "The analyses are run for:\n",
    " - Dates: **15 Feb 2020** - **15 May 2020**, using toy data;\n",
    " - PHE regions of interest: **South West**.\n",
    "\n",
    "We use synthetically generated serology and mortality data from simulated model."
   ]
  },
  {
   "cell_type": "code",
   "execution_count": 1,
   "metadata": {},
   "outputs": [],
   "source": [
    "# Load necessary libraries\n",
    "import os\n",
    "import numpy as np\n",
    "import pandas as pd\n",
    "from scipy.stats import gamma, nbinom\n",
    "import epimodels as em\n",
    "import matplotlib\n",
    "import plotly.graph_objects as go\n",
    "import plotly.express as px\n",
    "from matplotlib import pyplot as plt\n",
    "from iteration_utilities import deepflatten\n",
    "\n",
    "# Set random seed\n",
    "np.random.seed(128)"
   ]
  },
  {
   "cell_type": "markdown",
   "metadata": {},
   "source": [
    "## Model Setup\n",
    "### Define setup matrices for the Roche Model"
   ]
  },
  {
   "cell_type": "code",
   "execution_count": 2,
   "metadata": {},
   "outputs": [],
   "source": [
    "# Populate the model\n",
    "total_days =  132\n",
    "regions = ['London']\n",
    "age_groups = ['0-1', '1-5', '5-15', '15-25', '25-45', '45-65', '65-75', '75+']"
   ]
  },
  {
   "cell_type": "markdown",
   "metadata": {},
   "source": [
    "### Set the parameters and initial conditions of the model and bundle everything together"
   ]
  },
  {
   "cell_type": "code",
   "execution_count": 3,
   "metadata": {},
   "outputs": [],
   "source": [
    "# Instantiate model\n",
    "model = em.SEIRDModel()\n",
    "\n",
    "# Set the region names of the model\n",
    "model.set_regions(regions)\n",
    "\n",
    "# Initial number of susceptibles\n",
    "path = os.path.join('../../data/england_population/England_population.csv')\n",
    "total_susceptibles = np.loadtxt(path, dtype=int, delimiter=',').tolist()\n",
    "susceptibles = np.sum(total_susceptibles[1])\n",
    "\n",
    "# Initial number of infectives\n",
    "infectives = [100]\n",
    "\n",
    "# List of times at which we wish to evaluate the states of the compartments of the model\n",
    "times = np.arange(1, total_days+1, 1).tolist()\n",
    "\n",
    "# Probability of death\n",
    "Pd = np.sum(np.multiply(total_susceptibles[1], pd.read_csv('../../data/fatality_ratio_data/CFR.csv', usecols=['cfr'], dtype=np.float64)['cfr'].values)) / susceptibles"
   ]
  },
  {
   "cell_type": "code",
   "execution_count": 4,
   "metadata": {},
   "outputs": [],
   "source": [
    "# Set ICs parameters\n",
    "ICs = em.SEIRDICs(\n",
    "    model=model,\n",
    "    susceptibles_IC=[susceptibles],\n",
    "    exposed_IC=np.zeros(len(regions)).tolist(),\n",
    "    infectives_IC=infectives,\n",
    "    recovered_IC=np.zeros(len(regions)).tolist(),\n",
    "    dead_IC=np.zeros(len(regions)).tolist()\n",
    ")\n",
    "\n",
    "# Set transmission parameters\n",
    "transmission_parameters = em.SEIRDTransmission(\n",
    "    model=model,\n",
    "    beta=5,\n",
    "    kappa=0.25,\n",
    "    gamma=0.25,\n",
    "    Pd = Pd\n",
    ")\n",
    "\n",
    "# Set other simulation parameters\n",
    "simulation_parameters = em.SEIRDSimParameters(\n",
    "    model=model,\n",
    "    region_index=1,\n",
    "    method='RK45',\n",
    "    times=times\n",
    ")\n",
    "\n",
    "# Set all parameters in the controller\n",
    "parameters = em.SEIRDParametersController(\n",
    "    model=model,\n",
    "    ICs=ICs,\n",
    "    transmission_parameters=transmission_parameters,\n",
    "    simulation_parameters=simulation_parameters\n",
    ")"
   ]
  },
  {
   "cell_type": "markdown",
   "metadata": {},
   "source": [
    "### Simulate for one of the regions: **South West**"
   ]
  },
  {
   "cell_type": "code",
   "execution_count": 5,
   "metadata": {},
   "outputs": [],
   "source": [
    "# Simulate for all regions\n",
    "output = []\n",
    "new_infec = []\n",
    "new_deaths = []\n",
    "\n",
    "for r, reg in enumerate(regions):\n",
    "    # List of initial conditions and parameters that characterise the model\n",
    "    parameters.simulation_parameters.region_index = r + 1\n",
    "\n",
    "    # Simulate using the ODE solver\n",
    "    output.append(model.simulate(parameters))\n",
    "    new_infec.append(model.new_infections(output[-1]))\n",
    "    new_deaths.append(model.new_deaths(output[-1]))"
   ]
  },
  {
   "cell_type": "markdown",
   "metadata": {},
   "source": [
    "## Death and Serology data\n",
    "### Read Tests data"
   ]
  },
  {
   "cell_type": "code",
   "execution_count": 6,
   "metadata": {},
   "outputs": [],
   "source": [
    "# Read in tests data from external files for realistic counts of tests\n",
    "tests = []\n",
    "\n",
    "for region in regions:\n",
    "    daily_tests = np.ones((len(times), len(age_groups)), dtype=int)\n",
    "    weekly_tests = np.loadtxt('../../data/serology_data/{}_tests_nhs.csv'.format(region), dtype=int, delimiter=',')\n",
    "    for _, day in enumerate(np.arange(0, len(times), 7)):\n",
    "        daily_tests[day:(day+7), :]=weekly_tests[_, :] / 7\n",
    "    tests.append(np.sum(daily_tests, axis=1))"
   ]
  },
  {
   "cell_type": "code",
   "execution_count": 7,
   "metadata": {},
   "outputs": [],
   "source": [
    "# Set information\n",
    "niu = 10**(-5) # float(gamma.rvs(1, scale=1/0.2, size=1))\n",
    "\n",
    "sens = 0.7\n",
    "spec = 0.95"
   ]
  },
  {
   "cell_type": "markdown",
   "metadata": {},
   "source": [
    "### Sample Death and Serology data"
   ]
  },
  {
   "cell_type": "code",
   "execution_count": 8,
   "metadata": {},
   "outputs": [],
   "source": [
    "# Sample death and positive test results data for all regions\n",
    "deaths_data = []\n",
    "positives_data = []\n",
    "\n",
    "for r, reg in enumerate(regions):\n",
    "    reg_deaths_data = np.empty(len(times))\n",
    "    reg_positives_data = np.empty(len(times))\n",
    "    for t, _ in enumerate(times):\n",
    "        # Sample the number of deaths and positive test results in a given region on a given day\n",
    "        reg_deaths_data[t] = model.samples_deaths(new_deaths[r], niu, t)\n",
    "        reg_positives_data[t] = model.samples_positive_tests(output[r], tests[r][t], sens, spec, t)\n",
    "    deaths_data.append(np.asarray(reg_deaths_data, dtype=int))\n",
    "    positives_data.append(np.asarray(reg_positives_data, dtype=int))"
   ]
  },
  {
   "cell_type": "markdown",
   "metadata": {},
   "source": [
    "### Export Death and Serology data"
   ]
  },
  {
   "cell_type": "code",
   "execution_count": 9,
   "metadata": {},
   "outputs": [],
   "source": [
    "# Export synthetic death and positive test results data for all regions to external files to save computation time\n",
    "path_ = 'inference_data/'\n",
    "\n",
    "for r, region in enumerate(regions):\n",
    "    path = os.path.join(path_, '{}_Syn_Deaths.csv'.format(region))\n",
    "    path1 = os.path.join(path_, '{}_Syn_Positives.csv'.format(region))\n",
    "\n",
    "    np.savetxt(path, deaths_data[r], fmt=\"%d\", delimiter=',')\n",
    "    np.savetxt(path1, positives_data[r], fmt=\"%d\",  delimiter=',')"
   ]
  },
  {
   "cell_type": "markdown",
   "metadata": {},
   "source": [
    "### Read Death and Serology data"
   ]
  },
  {
   "cell_type": "code",
   "execution_count": 10,
   "metadata": {},
   "outputs": [],
   "source": [
    "# Read in synthetic death and positive data from external files\n",
    "deaths_data = []\n",
    "positives_data = []\n",
    "\n",
    "for region in regions:\n",
    "    deaths_data.append(np.loadtxt('inference_data/{}_Syn_Deaths.csv'.format(region), dtype=int, delimiter=','))\n",
    "    positives_data.append(np.loadtxt('inference_data/{}_Syn_Positives.csv'.format(region), dtype=int, delimiter=','))"
   ]
  },
  {
   "cell_type": "code",
   "execution_count": 11,
   "metadata": {},
   "outputs": [],
   "source": [
    "# Select the time points for which the death and serology data is known\n",
    "deaths_times = np.arange(1, total_days+1, 1).tolist()\n",
    "serology_times = np.arange(1, total_days+1, 1).tolist()"
   ]
  },
  {
   "cell_type": "markdown",
   "metadata": {},
   "source": [
    "## Inference procedure"
   ]
  },
  {
   "cell_type": "code",
   "execution_count": 12,
   "metadata": {},
   "outputs": [
    {
     "name": "stdout",
     "output_type": "stream",
     "text": [
      "Maximising LogPDF\n",
      "Using Covariance Matrix Adaptation Evolution Strategy (CMA-ES)\n",
      "Running in sequential mode.\n",
      "Population size: 6\n",
      "Iter. Eval. Best      Current   Time m:s\n",
      "0     6     -22762.49 -22762.49   0:00.2\n",
      "1     12    -12725.22 -12725.22   0:00.3\n",
      "2     18    -1985.244 -1985.244   0:00.5\n",
      "3     24    -1424.55  -1424.55    0:00.6\n",
      "20    126   -316.8534 -327.4661   0:03.2\n",
      "40    246   -278.1656 -278.1664   0:06.2\n",
      "60    366   -278.1641 -278.1641   0:09.3\n",
      "80    486   -278.1641 -278.1642   0:12.4\n",
      "100   606   -278.1641 -278.1642   0:15.4\n",
      "120   726   -278.1641 -278.1641   0:18.4\n",
      "125   750   -278.1641 -278.1641   0:19.1\n",
      "Halting: No significant change for 100 iterations.\n",
      "[5.011354   0.24945445] -278.16413671938324\n",
      "Optimisation phase is finished.\n",
      "Running...\n",
      "Using Haario-Bardenet adaptive covariance MCMC\n",
      "Generating 1 chains.\n",
      "Running in parallel with 1 worker processess.\n",
      "Iter. Eval. Accept.   Time m:s\n",
      "0     1      0          0:00.9\n",
      "1     2      0          0:00.9\n",
      "2     3      0          0:01.0\n",
      "3     4      0          0:01.0\n",
      "20    20     0          0:01.4\n",
      "Halting: Maximum number of iterations (20) reached.\n",
      "Done!\n",
      "param    mean    std.    2.5%    25%    50%    75%    97.5%    rhat    ess    ess per sec.\n",
      "-------  ------  ------  ------  -----  -----  -----  -------  ------  -----  --------------\n",
      "beta     5.01    0.00    5.01    5.01   5.01   5.01   5.01     0.95    nan    nan\n",
      "kappa    0.25    0.00    0.25    0.25   0.25   0.25   0.25     nan     nan    nan\n"
     ]
    },
    {
     "name": "stderr",
     "output_type": "stream",
     "text": [
      "/Users/ioaros/opt/anaconda3/lib/python3.8/site-packages/pints/_mcmc/_summary.py:54: UserWarning: Summaries calculated with one chain may be unreliable. It is recommended that you rerun sampling with more than one chain.\n",
      "  warnings.warn(\n",
      "/Users/ioaros/opt/anaconda3/lib/python3.8/site-packages/pints/_diagnostics.py:235: RuntimeWarning: invalid value encountered in true_divide\n",
      "  rhat = np.sqrt((n - 1.0) / n + b / (w * n))\n",
      "/Users/ioaros/opt/anaconda3/lib/python3.8/site-packages/pints/_diagnostics.py:16: RuntimeWarning: invalid value encountered in true_divide\n",
      "  x = (x - np.mean(x)) / (np.std(x) * np.sqrt(len(x)))\n"
     ]
    }
   ],
   "source": [
    "# Initialise inference for the model\n",
    "seird_inference = em.inference.SEIRDInfer(model, Pd)\n",
    "\n",
    "# Add model, death, tests and NPIs data to the inference structure\n",
    "seird_inference.read_model_data(susceptibles, infectives)\n",
    "seird_inference.read_deaths_data(deaths_data, deaths_times)\n",
    "seird_inference.read_serology_data(tests, positives_data, serology_times, sens, spec)\n",
    "\n",
    "# Run inference structure\n",
    "samples = seird_inference.inference_problem_setup(times, num_iter=20, wd=1, wp=0)"
   ]
  },
  {
   "cell_type": "markdown",
   "metadata": {},
   "source": [
    "### Quality check of the inference procedure"
   ]
  },
  {
   "cell_type": "code",
   "execution_count": 13,
   "metadata": {},
   "outputs": [
    {
     "name": "stderr",
     "output_type": "stream",
     "text": [
      "/Users/ioaros/opt/anaconda3/lib/python3.8/site-packages/pints/plot/_trace.py:112: UserWarning: Attempting to set identical bottom == top == 5.011353997664317 results in singular transformations; automatically expanding.\n",
      "  axes[i, 1].set_ylim([ymin_all, ymax_all])\n",
      "/Users/ioaros/opt/anaconda3/lib/python3.8/site-packages/pints/plot/_trace.py:112: UserWarning: Attempting to set identical bottom == top == 0.24945445024340612 results in singular transformations; automatically expanding.\n",
      "  axes[i, 1].set_ylim([ymin_all, ymax_all])\n"
     ]
    },
    {
     "data": {
      "image/png": "[encoded data removed]",
      "text/plain": [
       "<Figure size 864x288 with 4 Axes>"
      ]
     },
     "metadata": {
      "needs_background": "light"
     },
     "output_type": "display_data"
    }
   ],
   "source": [
    "import pints.plot\n",
    "\n",
    "# Plot histograms of the parameters inferred for South West\n",
    "param_names=['beta', 'kappa']\n",
    "\n",
    "pints.plot.trace(samples, parameter_names=param_names)\n",
    "plt.show()"
   ]
  },
  {
   "cell_type": "code",
   "execution_count": 14,
   "metadata": {},
   "outputs": [
    {
     "name": "stdout",
     "output_type": "stream",
     "text": [
      "[nan nan]\n"
     ]
    },
    {
     "name": "stderr",
     "output_type": "stream",
     "text": [
      "/Users/ioaros/opt/anaconda3/lib/python3.8/site-packages/pints/_diagnostics.py:235: RuntimeWarning: invalid value encountered in true_divide\n",
      "  rhat = np.sqrt((n - 1.0) / n + b / (w * n))\n"
     ]
    }
   ],
   "source": [
    "# Eliminate burn-in iterations (1/2 of the chain lengths)\n",
    "samples = samples[:, 10:, :]\n",
    "\n",
    "# Compute the R-hat estimates for the remaining samples\n",
    "print(pints.rhat(samples))"
   ]
  },
  {
   "cell_type": "code",
   "execution_count": 15,
   "metadata": {},
   "outputs": [
    {
     "data": {
      "image/png": "[encoded data removed]",
      "text/plain": [
       "<Figure size 432x288 with 2 Axes>"
      ]
     },
     "metadata": {
      "needs_background": "light"
     },
     "output_type": "display_data"
    },
    {
     "data": {
      "image/png": "[encoded data removed]",
      "text/plain": [
       "<Figure size 432x288 with 2 Axes>"
      ]
     },
     "metadata": {
      "needs_background": "light"
     },
     "output_type": "display_data"
    },
    {
     "data": {
      "image/png": "[encoded data removed]",
      "text/plain": [
       "<Figure size 432x288 with 2 Axes>"
      ]
     },
     "metadata": {
      "needs_background": "light"
     },
     "output_type": "display_data"
    }
   ],
   "source": [
    "# Plot the autocorrelation for the three chains of parameters for South West\n",
    "for sample in samples:\n",
    "    pints.plot.autocorrelation(sample, max_lags=6000)\n",
    "    plt.show()"
   ]
  },
  {
   "cell_type": "markdown",
   "metadata": {},
   "source": [
    "### Thin out the MCMC samples (by 10) and run the model with optimised parameter choices to produce predicted timelines for the:\n",
    " - number of new infections\n",
    " - number of deaths\n",
    " - R number"
   ]
  },
  {
   "cell_type": "code",
   "execution_count": 18,
   "metadata": {},
   "outputs": [],
   "source": [
    "# Evaluate the model for all parameter sets in the samples\n",
    "n_chains, n_sample, n_param = samples.shape\n",
    "\n",
    "extended_samples = np.concatenate((samples[0], samples[1], samples[2]), axis=0)\n",
    "\n",
    "thinning = max(1, int(n_sample * n_chains / 9000))\n",
    "\n",
    "predicted_new_infec = []\n",
    "predicted_deaths = []\n",
    "#predicted_reprod_num = []\n",
    "\n",
    "# Run model and number of new infections for all regions\n",
    "for r, _ in enumerate(model.regions):\n",
    "    reg_predicted_new_infec = []\n",
    "    reg_predicted_deaths = []\n",
    "    reg_predicted_reprod_num = []\n",
    "\n",
    "    parameters.simulation_parameters.region_index = r + 1\n",
    "\n",
    "    for params in extended_samples[::thinning, :]:\n",
    "        parameters.transmission_parameters.beta = params[0]\n",
    "        parameters.transmission_parameters.kappa = params[1]\n",
    "\n",
    "        #r_fix = np.empty(len(times))\n",
    "        model_reg_deaths_data = np.empty(len(times))\n",
    "\n",
    "        # Run model and number of new infections for all age groups\n",
    "        model_output = model.simulate(parameters)\n",
    "\n",
    "        model_reg_new_infections = model.new_infections(model_output)\n",
    "        \n",
    "        age_model_reg_new_deaths = model.new_deaths(model_output)\n",
    "\n",
    "        for t, time in enumerate(times):\n",
    "        #    r_fix[t] = m_fix.compute_reproduction_number(r+1, time, model_output[t, :len(age_groups)], temp_variation=parameters[8][r][t])\n",
    "            model_reg_deaths_data[t] = np.sum(model.mean_deaths(t, age_model_reg_new_deaths))\n",
    "        \n",
    "        reg_predicted_new_infec.append(model_reg_new_infections)\n",
    "        reg_predicted_deaths.append(model_reg_deaths_data)\n",
    "        #reg_predicted_reprod_num.append(r_fix)\n",
    "\n",
    "    reg_predicted_new_infec = np.array(reg_predicted_new_infec)\n",
    "\n",
    "    predicted_new_infec.append(reg_predicted_new_infec)\n",
    "    predicted_deaths.append(reg_predicted_deaths)\n",
    "    #predicted_reprod_num.append(reg_predicted_reprod_num)\n",
    "\n",
    "predicted_new_infec = np.array(predicted_new_infec)\n",
    "predicted_deaths = np.array(predicted_deaths)\n",
    "#predicted_reprod_num = np.array(predicted_reprod_num)\n"
   ]
  },
  {
   "cell_type": "markdown",
   "metadata": {},
   "source": [
    "## Plot data vs predicted\n",
    "\n",
    "### Setup ``plotly`` and default settings for plotting"
   ]
  },
  {
   "cell_type": "code",
   "execution_count": 19,
   "metadata": {},
   "outputs": [],
   "source": [
    "from plotly.subplots import make_subplots\n",
    "\n",
    "colours = ['blue', 'red', 'green', 'purple', 'orange', 'black', 'gray', 'pink']\n",
    "\n",
    "# Group outputs together\n",
    "outputs = [deaths_data, positives_data]\n",
    "\n",
    "# Number of regions\n",
    "n_reg = len(regions)"
   ]
  },
  {
   "cell_type": "markdown",
   "metadata": {},
   "source": [
    "### Compute mean and CI bounds of the trajectories of interest and select predicted quantities to plot"
   ]
  },
  {
   "cell_type": "code",
   "execution_count": 20,
   "metadata": {},
   "outputs": [],
   "source": [
    "# Set up traces to plot\n",
    "new_infec_mean = []\n",
    "deaths_mean = []\n",
    "#reprod_num_mean = []\n",
    "\n",
    "new_infec_upper = []\n",
    "deaths_upper = []\n",
    "#reprod_num_upper = []\n",
    "\n",
    "new_infec_lower = []\n",
    "deaths_lower = []\n",
    "#reprod_num_lower = []\n",
    "\n",
    "for r, _ in enumerate(model.regions):\n",
    "    # Compute the mean \n",
    "    new_infec_mean.append(np.mean(predicted_new_infec[r,:,:], axis=0))\n",
    "    deaths_mean.append(np.mean(predicted_deaths[r,:,:], axis=0))\n",
    "    #reprod_num_mean.append(np.mean(predicted_reprod_num[r,:,:], axis=0))\n",
    "\n",
    "    # Compute the upper quantiles\n",
    "    new_infec_upper.append(np.quantile(predicted_new_infec[r,:,:], 0.975, axis=0))\n",
    "    deaths_upper.append(np.quantile(predicted_deaths[r,:,:], 0.975, axis=0))\n",
    "    #reprod_num_upper.append(np.quantile(predicted_reprod_num[r,:,:], 0.975, axis=0))\n",
    "\n",
    "    # Compute the lower qunatiles\n",
    "    new_infec_lower.append(np.quantile(predicted_new_infec[r,:,:], 0.025, axis=0))\n",
    "    deaths_lower.append(np.quantile(predicted_deaths[r,:,:], 0.025, axis=0))\n",
    "    #reprod_num_lower.append(np.quantile(predicted_reprod_num[r,:,:], 0.025, axis=0))"
   ]
  },
  {
   "cell_type": "markdown",
   "metadata": {},
   "source": [
    "### Plot observed versus predicted using model with inferred parameters"
   ]
  },
  {
   "cell_type": "code",
   "execution_count": 22,
   "metadata": {},
   "outputs": [
    {
     "data": {
      "application/vnd.plotly.v1+json": {
       "config": {
        "plotlyServerURL": "https://plot.ly"
       },
       "data": [
        {
         "line": {
          "color": "blue"
         },
         "mode": "lines",
         "name": "London",
         "type": "scatter",
         "x": [
          1,
          2,
          3,
          4,
          5,
          6,
          7,
          8,
          9,
          10,
          11,
          12,
          13,
          14,
          15,
          16,
          17,
          18,
          19,
          20,
          21,
          22,
          23,
          24,
          25,
          26,
          27,
          28,
          29,
          30,
          31,
          32,
          33,
          34,
          35,
          36,
          37,
          38,
          39,
          40,
          41,
          42,
          43,
          44,
          45,
          46,
          47,
          48,
          49,
          50,
          51,
          52,
          53,
          54,
          55,
          56,
          57,
          58,
          59,
          60,
          61,
          62,
          63,
          64,
          65,
          66,
          67,
          68,
          69,
          70,
          71,
          72,
          73,
          74,
          75,
          76,
          77,
          78,
          79,
          80,
          81,
          82,
          83,
          84,
          85,
          86,
          87,
          88,
          89,
          90,
          91,
          92,
          93,
          94,
          95,
          96,
          97,
          98,
          99,
          100,
          101,
          102,
          103,
          104,
          105,
          106,
          107,
          108,
          109,
          110,
          111,
          112,
          113,
          114,
          115,
          116,
          117,
          118,
          119,
          120,
          121,
          122,
          123,
          124,
          125,
          126,
          127,
          128,
          129,
          130,
          131,
          132
         ],
         "xaxis": "x",
         "y": [
          0,
          118.96627187649482,
          313.7967826022768,
          755.2799220737434,
          1800.4651435332257,
          4285.846900385163,
          10186.588537527245,
          24097.274683745356,
          56549.09159220314,
          129827.86429776142,
          284398.4865344682,
          563301.1177549926,
          927131.9237447975,
          1180992.4482570258,
          1169749.798877754,
          994077.8110293093,
          793495.4967158316,
          621873.6958965495,
          485220.5282366144,
          378212.83457085374,
          294733.72174425557,
          229666.28988504037,
          178960.67187824257,
          139449.2455111118,
          108661.25143686455,
          84670.85451886841,
          65976.90613830191,
          51410.42485147249,
          40060.02077370192,
          31215.282966157512,
          24321.19299882594,
          18954.530616777272,
          14766.445562702467,
          11496.632492374805,
          8960.645889206295,
          6994.034192878401,
          5452.570671450891,
          4245.289329371626,
          3308.422087997327,
          2582.1447379120527,
          2013.3852695074893,
          1567.587156317938,
          1221.4712266167896,
          953.2818665502023,
          743.4744567012582,
          578.8786549191105,
          451.0088531580146,
          351.9476596509519,
          274.5321515882365,
          213.76509518541656,
          166.53120155834867,
          129.9405536236668,
          101.36933337014295,
          78.93536698322426,
          61.4902068870813,
          47.97555521551732,
          37.42912332765242,
          29.146881710666626,
          22.704572120836044,
          17.713457339923377,
          13.819955751303782,
          10.762202851977195,
          8.383361499718173,
          6.540255829641008,
          5.102711272163652,
          3.973765989760959,
          3.0954386836937853,
          2.414874653065745,
          1.884061462297014,
          1.4672312569356467,
          1.142950212612142,
          0.8916684991908047,
          0.6956493996292907,
          0.5417422376393448,
          0.4220223623637531,
          0.3292469538863529,
          0.25685501478953254,
          0.20002622589149816,
          0.15582906970726101,
          0.12157662652420717,
          0.0948393869719676,
          0.07385557117668297,
          0.057539751710755524,
          0.044894044954830466,
          0.03501815722935338,
          0.027269892010276908,
          0.021246889479509853,
          0.016578219293160473,
          0.012930128179499392,
          0.010069063963163073,
          0.007845697802291062,
          0.006122058698144905,
          0.0047744058808690095,
          0.0037179376857701513,
          0.0028971887534009954,
          0.002260827494005369,
          0.0017629785625037475,
          0.001372855177618647,
          0.0010698658574515585,
          0.0008349257025452975,
          0.000651022572332483,
          0.0005069453254043045,
          0.000395078796187057,
          0.00030834692166437923,
          0.00024043162987984518,
          0.00018720817675719852,
          0.0001458916366303847,
          0.00011387819260443812,
          0.0000888160312052621,
          0.00006914663548390533,
          0.0000538739691527773,
          0.00004205588487639665,
          0.000032822639329747954,
          0.00002555294307045569,
          0.000019899151524361716,
          0.0000155298769836878,
          0.000012133175975204454,
          0.000009450508193170962,
          0.0000073545201941599984,
          0.000005734399547574348,
          0.000004482783962609084,
          0.000003498641485900799,
          0.000002721203232874059,
          0.0000021176517486361806,
          0.0000016537256523197444,
          0.0000012953278263013926,
          0.0000010103593720767273,
          7.844084091719582e-7,
          6.095130139072226e-7,
          4.7631815746036866e-7,
          3.747419638033333e-7,
          2.940753535759459e-7
         ],
         "yaxis": "y"
        },
        {
         "fill": "toself",
         "fillcolor": "blue",
         "line": {
          "color": "blue"
         },
         "mode": "lines",
         "name": "London",
         "opacity": 0.15,
         "showlegend": false,
         "type": "scatter",
         "x": [
          1,
          2,
          3,
          4,
          5,
          6,
          7,
          8,
          9,
          10,
          11,
          12,
          13,
          14,
          15,
          16,
          17,
          18,
          19,
          20,
          21,
          22,
          23,
          24,
          25,
          26,
          27,
          28,
          29,
          30,
          31,
          32,
          33,
          34,
          35,
          36,
          37,
          38,
          39,
          40,
          41,
          42,
          43,
          44,
          45,
          46,
          47,
          48,
          49,
          50,
          51,
          52,
          53,
          54,
          55,
          56,
          57,
          58,
          59,
          60,
          61,
          62,
          63,
          64,
          65,
          66,
          67,
          68,
          69,
          70,
          71,
          72,
          73,
          74,
          75,
          76,
          77,
          78,
          79,
          80,
          81,
          82,
          83,
          84,
          85,
          86,
          87,
          88,
          89,
          90,
          91,
          92,
          93,
          94,
          95,
          96,
          97,
          98,
          99,
          100,
          101,
          102,
          103,
          104,
          105,
          106,
          107,
          108,
          109,
          110,
          111,
          112,
          113,
          114,
          115,
          116,
          117,
          118,
          119,
          120,
          121,
          122,
          123,
          124,
          125,
          126,
          127,
          128,
          129,
          130,
          131,
          132,
          132,
          131,
          130,
          129,
          128,
          127,
          126,
          125,
          124,
          123,
          122,
          121,
          120,
          119,
          118,
          117,
          116,
          115,
          114,
          113,
          112,
          111,
          110,
          109,
          108,
          107,
          106,
          105,
          104,
          103,
          102,
          101,
          100,
          99,
          98,
          97,
          96,
          95,
          94,
          93,
          92,
          91,
          90,
          89,
          88,
          87,
          86,
          85,
          84,
          83,
          82,
          81,
          80,
          79,
          78,
          77,
          76,
          75,
          74,
          73,
          72,
          71,
          70,
          69,
          68,
          67,
          66,
          65,
          64,
          63,
          62,
          61,
          60,
          59,
          58,
          57,
          56,
          55,
          54,
          53,
          52,
          51,
          50,
          49,
          48,
          47,
          46,
          45,
          44,
          43,
          42,
          41,
          40,
          39,
          38,
          37,
          36,
          35,
          34,
          33,
          32,
          31,
          30,
          29,
          28,
          27,
          26,
          25,
          24,
          23,
          22,
          21,
          20,
          19,
          18,
          17,
          16,
          15,
          14,
          13,
          12,
          11,
          10,
          9,
          8,
          7,
          6,
          5,
          4,
          3,
          2,
          1
         ],
         "xaxis": "x",
         "y": [
          0,
          119.41385256157211,
          315.47754823912163,
          760.735873967885,
          1816.988031801349,
          4333.4663926414605,
          10320.404515979684,
          24458.58588134707,
          57491.373157523485,
          132147.62320124934,
          289459.56580820604,
          572138.2143851143,
          936744.3614762898,
          1187027.4488708212,
          1177966.6274085224,
          1002870.9525205095,
          800205.2846995842,
          626475.0443719622,
          488403.5674505919,
          380671.3547208317,
          297012.5846252634,
          231822.0678056652,
          181014.93782318587,
          141352.12935164638,
          110419.14099831013,
          86244.29328962992,
          67378.11731252304,
          52633.31384982672,
          41120.98975274136,
          32126.66518025353,
          25102.91301230551,
          19614.14247876483,
          15312.450358339061,
          11956.706595391022,
          9350.92861419335,
          7314.51549182642,
          5710.368839607987,
          4458.336237678599,
          3486.8715410677937,
          2728.763119386236,
          2130.649478954376,
          1663.631656616015,
          1301.1569058242767,
          1018.4310283960966,
          795.3397264533342,
          620.9559487060689,
          485.53199805950146,
          380.02867580562406,
          296.873364713856,
          231.7660417818204,
          181.18002761024425,
          141.79837015211118,
          110.80093036164818,
          86.50149177109974,
          67.60184992436267,
          52.91205622724235,
          41.34793046924866,
          32.27914560616196,
          25.22703772048877,
          19.74342598191788,
          15.430603850436897,
          12.046541091962807,
          9.414001601050265,
          7.365577322798181,
          5.75857554471985,
          4.495688690803324,
          3.511947795744456,
          2.74768686456678,
          2.1483757905661762,
          1.6771750521504118,
          1.3101732798977792,
          1.0249729711688487,
          0.8014653745559014,
          0.6256913655435937,
          0.48875273277278347,
          0.3823626236059752,
          0.298965566265255,
          0.23340539697147222,
          0.18233063831115545,
          0.14264345784006444,
          0.11153067526886767,
          0.08707214088919132,
          0.06802188570690057,
          0.05321171324136361,
          0.041604800564398144,
          0.03248201070912015,
          0.025374669012298227,
          0.01984756386835214,
          0.015520836811691165,
          0.012117269529656853,
          0.00946430847338861,
          0.007404036612148053,
          0.005788730016661169,
          0.0045192860670222774,
          0.003530551047072214,
          0.0027615616283671865,
          0.0021593760173550555,
          0.0016858129755482115,
          0.0013168017713733515,
          0.0010299973407115518,
          0.0008054273000052757,
          0.0006287765785856239,
          0.0004911115955430547,
          0.000384158949052418,
          0.00030042061123602244,
          0.0002345189516129216,
          0.00018315762111144942,
          0.00014327470547629602,
          0.00011207313264285774,
          0.00008748368418087179,
          0.00006830774987480947,
          0.00005343756096011554,
          0.00004182013940609703,
          0.000032648752125087454,
          0.000025481312954683658,
          0.000019932335531270748,
          0.000015608762418756194,
          0.000012192899709215825,
          0.000009511680003264646,
          0.0000074339073091131825,
          0.00000582015821186879,
          0.000004556788172711431,
          0.0000035546014048622963,
          0.000002772674799407271,
          0.000002168044558994177,
          0.0000017014201035716205,
          0.0000013321003224269885,
          0.0000010378711331095506,
          8.084231871008866e-7,
          6.327697122283966e-7,
          4.980932968273938e-7,
          3.9127844850247697e-7,
          2.1638136611324898e-7,
          2.768134775910411e-7,
          3.519679460620928e-7,
          4.5173344360691587e-7,
          5.830879651215858e-7,
          7.533933906967668e-7,
          9.681335138129854e-7,
          0.0000012390346292537519,
          0.000001590901466922092,
          0.000002051143842955788,
          0.0000026451030640176555,
          0.0000033970095734224964,
          0.0000043572087356895945,
          0.0000056054848241449315,
          0.0000072251705017901025,
          0.000009301287411016071,
          0.000011935125763025745,
          0.00001533806055576325,
          0.00001975338867413694,
          0.000025448911135084096,
          0.00003269065489311737,
          0.00004199576538260992,
          0.00005403952328786054,
          0.00006959959406116411,
          0.00008953129800106438,
          0.00011502280942933226,
          0.0001479466579396247,
          0.00019056096467613286,
          0.0002451367644432642,
          0.00031488292970835116,
          0.00040522584239969524,
          0.0005218944021281177,
          0.0006710295029789534,
          0.0008623713545354827,
          0.0011097326774233654,
          0.001429040566340247,
          0.0018376931116040587,
          0.0023616520311714718,
          0.003039136277368787,
          0.003913613327606163,
          0.005031916114210143,
          0.00646661879579128,
          0.008325132182724565,
          0.01072006306552436,
          0.013776924077259589,
          0.017711881295812734,
          0.02279224767991668,
          0.02934901317577461,
          0.03773102004509313,
          0.048485017065952006,
          0.06239902869113576,
          0.08034766078131547,
          0.10327713407552307,
          0.1327237594157903,
          0.1708289672402613,
          0.2199592792343357,
          0.2826878651790351,
          0.3633194370574372,
          0.467755075660668,
          0.6021301282216559,
          0.7737655082021724,
          0.994737915635222,
          1.2806537994009994,
          1.6487189358945618,
          2.1183143733383054,
          2.723657438292529,
          3.5074831025075563,
          4.514183871468459,
          5.799613484167289,
          7.457447169717239,
          9.603736915009026,
          12.360327844152062,
          15.878329101886415,
          20.42154109260592,
          26.293098126357194,
          33.84679354245828,
          43.47885863829084,
          55.90450835522487,
          71.98694345343714,
          92.6595555179392,
          119.0271359767796,
          153.02405582316268,
          197.07089822563296,
          253.64972484707957,
          325.82073517609354,
          418.91736346908567,
          539.4877511082955,
          694.3879063270588,
          891.9621453720183,
          1146.9598517835352,
          1476.8630503827867,
          1901.352663834271,
          2442.3018444399763,
          3139.5217974315287,
          4042.838749194026,
          5205.115492647377,
          6685.357517972459,
          8591.745639979965,
          11056.852059158204,
          14239.053538003003,
          18313.829477929503,
          23565.153567629906,
          30322.905518775537,
          39022.13025397536,
          50220.52564029116,
          64605.219848301735,
          83114.16994203188,
          106918.38708153264,
          137520.15418086702,
          176874.23113770844,
          227419.31305186191,
          292394.05051063927,
          375692.60397366574,
          482054.57231061877,
          617360.1346301858,
          786723.012231645,
          985086.0016196137,
          1161231.330396022,
          1175117.0388228165,
          917577.6241370857,
          554579.5373221532,
          279438.21135462663,
          127575.8377212428,
          55631.10040894705,
          23745.418212015455,
          10055.911635324275,
          4239.118866349169,
          1784.1534981649431,
          749.8794072770668,
          312.13578054557746,
          118.5215286665157,
          0
         ],
         "yaxis": "y"
        },
        {
         "line": {
          "color": "blue"
         },
         "mode": "lines",
         "name": "London",
         "showlegend": false,
         "type": "scatter",
         "x": [
          1,
          2,
          3,
          4,
          5,
          6,
          7,
          8,
          9,
          10,
          11,
          12,
          13,
          14,
          15,
          16,
          17,
          18,
          19,
          20,
          21,
          22,
          23,
          24,
          25,
          26,
          27,
          28,
          29,
          30,
          31,
          32,
          33,
          34,
          35,
          36,
          37,
          38,
          39,
          40,
          41,
          42,
          43,
          44,
          45,
          46,
          47,
          48,
          49,
          50,
          51,
          52,
          53,
          54,
          55,
          56,
          57,
          58,
          59,
          60,
          61,
          62,
          63,
          64,
          65,
          66,
          67,
          68,
          69,
          70,
          71,
          72,
          73,
          74,
          75,
          76,
          77,
          78,
          79,
          80,
          81,
          82,
          83,
          84,
          85,
          86,
          87,
          88,
          89,
          90,
          91,
          92,
          93,
          94,
          95,
          96,
          97,
          98,
          99,
          100,
          101,
          102,
          103,
          104,
          105,
          106,
          107,
          108,
          109,
          110,
          111,
          112,
          113,
          114,
          115,
          116,
          117,
          118,
          119,
          120,
          121,
          122,
          123,
          124,
          125,
          126,
          127,
          128,
          129,
          130,
          131,
          132
         ],
         "xaxis": "x2",
         "y": [
          9.999999999999337e-21,
          0.3924077952179577,
          0.7222002544064057,
          1.6663764712345996,
          3.9547639634267218,
          9.41780496162187,
          22.424342991633385,
          53.21679217610588,
          126.29086235387426,
          295.8391072033269,
          682.2614183089999,
          1504.0585534368818,
          3045.4843699617336,
          5384.292443117636,
          7956.601244410062,
          9948.716519629526,
          10959.89355603079,
          11109.484334430277,
          10671.817283315186,
          9887.592491271036,
          8929.283184338345,
          7911.736838012894,
          6907.864744710277,
          5961.307240421418,
          5095.755276236971,
          4321.630645164186,
          3640.7683603790088,
          3049.8165624153453,
          2542.2301746147173,
          2110.064995874244,
          1744.663257485715,
          1437.9663744993786,
          1181.4155079216307,
          968.0607403410254,
          791.355259153974,
          645.5088808825765,
          525.3277841777442,
          426.9070065660147,
          346.0613416817571,
          280.0716068631475,
          226.6338265524585,
          183.22689948637063,
          147.64720602124248,
          118.78976597057655,
          95.693713355597,
          77.08217283102582,
          61.845018710059755,
          49.53199621254439,
          39.753993220649484,
          31.933674014201934,
          25.53694705992799,
          20.37980106255254,
          16.306280001493306,
          13.06971923190432,
          10.424532616199516,
          8.29553758900033,
          6.6204441828885905,
          5.296721726791348,
          4.215709857178118,
          3.3468901896429744,
          2.665419285628118,
          2.1291872307414974,
          1.6915734452161908,
          1.3403362827031087,
          1.0655754204202648,
          0.8500622281686868,
          0.6742804844911007,
          0.5333911648094974,
          0.423451181728777,
          0.337408508160006,
          0.2672584021198505,
          0.21111628791645926,
          0.16741238171468723,
          0.13325281234816358,
          0.10541250996430172,
          0.08316707481688063,
          0.06589171601140988,
          0.052395066628794305,
          0.04139901493838115,
          0.03262785904671473,
          0.025832908256078372,
          0.020522275767711106,
          0.016197380834963405,
          0.012753918181586778,
          0.010092835137902876,
          0.008010697001902736,
          0.0063159699626354265,
          0.00496927510422247,
          0.003931104936500196,
          0.0031173361880151786,
          0.0024554523014696317,
          0.0019305710838263622,
          0.0015269086118991253,
          0.0012097691239760025,
          0.0009520384534611367,
          0.0007480780841200613,
          0.0005915839914785465,
          0.0004683286192361265,
          0.0003682412880792981,
          0.0002891856787406141,
          0.00022866541551193223,
          0.00018090553324727807,
          0.00014213163145177532,
          0.00011154374121979344,
          0.00008818359167780729,
          0.00006975004878768232,
          0.00005476292306848337,
          0.00004293404766649474,
          0.00003392240609682631,
          0.000026850756318890497,
          0.000021074823910021227,
          0.000016497196228010584,
          0.000013009370386134835,
          0.000010319005083874801,
          0.00000810596783703659,
          0.000006335595756536351,
          0.000004975099975126796,
          0.000003954413431347349,
          0.0000031165556167252367,
          0.0000024350400344701488,
          0.0000019019259460037577,
          0.0000015061297803185883,
          0.000001197054097428918,
          9.381467942148449e-7,
          7.294092094525697e-7,
          5.694796156603845e-7,
          4.5478741230908814e-7,
          3.6245677329134235e-7,
          2.8324792801868216e-7,
          2.1847544703632658e-7,
          1.6875940200407138e-7,
          1.345890370430435e-7
         ],
         "yaxis": "y2"
        },
        {
         "fill": "toself",
         "fillcolor": "blue",
         "line": {
          "color": "blue"
         },
         "mode": "lines",
         "name": "London",
         "opacity": 0.15,
         "showlegend": false,
         "type": "scatter",
         "x": [
          1,
          2,
          3,
          4,
          5,
          6,
          7,
          8,
          9,
          10,
          11,
          12,
          13,
          14,
          15,
          16,
          17,
          18,
          19,
          20,
          21,
          22,
          23,
          24,
          25,
          26,
          27,
          28,
          29,
          30,
          31,
          32,
          33,
          34,
          35,
          36,
          37,
          38,
          39,
          40,
          41,
          42,
          43,
          44,
          45,
          46,
          47,
          48,
          49,
          50,
          51,
          52,
          53,
          54,
          55,
          56,
          57,
          58,
          59,
          60,
          61,
          62,
          63,
          64,
          65,
          66,
          67,
          68,
          69,
          70,
          71,
          72,
          73,
          74,
          75,
          76,
          77,
          78,
          79,
          80,
          81,
          82,
          83,
          84,
          85,
          86,
          87,
          88,
          89,
          90,
          91,
          92,
          93,
          94,
          95,
          96,
          97,
          98,
          99,
          100,
          101,
          102,
          103,
          104,
          105,
          106,
          107,
          108,
          109,
          110,
          111,
          112,
          113,
          114,
          115,
          116,
          117,
          118,
          119,
          120,
          121,
          122,
          123,
          124,
          125,
          126,
          127,
          128,
          129,
          130,
          131,
          132,
          132,
          131,
          130,
          129,
          128,
          127,
          126,
          125,
          124,
          123,
          122,
          121,
          120,
          119,
          118,
          117,
          116,
          115,
          114,
          113,
          112,
          111,
          110,
          109,
          108,
          107,
          106,
          105,
          104,
          103,
          102,
          101,
          100,
          99,
          98,
          97,
          96,
          95,
          94,
          93,
          92,
          91,
          90,
          89,
          88,
          87,
          86,
          85,
          84,
          83,
          82,
          81,
          80,
          79,
          78,
          77,
          76,
          75,
          74,
          73,
          72,
          71,
          70,
          69,
          68,
          67,
          66,
          65,
          64,
          63,
          62,
          61,
          60,
          59,
          58,
          57,
          56,
          55,
          54,
          53,
          52,
          51,
          50,
          49,
          48,
          47,
          46,
          45,
          44,
          43,
          42,
          41,
          40,
          39,
          38,
          37,
          36,
          35,
          34,
          33,
          32,
          31,
          30,
          29,
          28,
          27,
          26,
          25,
          24,
          23,
          22,
          21,
          20,
          19,
          18,
          17,
          16,
          15,
          14,
          13,
          12,
          11,
          10,
          9,
          8,
          7,
          6,
          5,
          4,
          3,
          2,
          1
         ],
         "xaxis": "x2",
         "y": [
          1e-20,
          0.3926322675229069,
          0.7240754696896847,
          1.6740973780005615,
          3.98080018613902,
          9.497876265769579,
          22.660271694638812,
          53.878963091421234,
          128.10171958581597,
          300.5910016249317,
          693.9883555446345,
          1530.3324477959973,
          3093.296527223075,
          5450.620089410956,
          8020.16964018438,
          9999.302567714994,
          11005.393892882086,
          11157.11715621475,
          10718.361782556887,
          9929.64740611695,
          8965.576293813763,
          7942.395228241169,
          6933.479323265623,
          5983.793455588264,
          5116.517934951834,
          4341.893851015662,
          3661.0082595090726,
          3069.2046071602817,
          2560.9706937300507,
          2127.6400345776638,
          1761.2207005212251,
          1453.0577150217869,
          1195.1986565814616,
          980.5639605186152,
          802.6428347810725,
          655.4302078906214,
          534.1271314283225,
          434.46465859681484,
          352.58013292025714,
          285.862956422913,
          231.7611841445032,
          187.41179191560406,
          151.12754760036006,
          121.865528744529,
          98.41569174415126,
          79.27214504149742,
          63.62517617127742,
          51.067221200763015,
          41.10641417911465,
          33.01532280175088,
          26.412996112521068,
          21.115875861927634,
          16.950381880980423,
          13.584805538790533,
          10.836990445626725,
          8.638863163505448,
          6.91948488279886,
          5.535086747657624,
          4.405829271214316,
          3.503317633032566,
          2.8008319168031446,
          2.23669931933764,
          1.7774460569715302,
          1.4104851984557172,
          1.1257191094038717,
          0.8979540183805511,
          0.7122614977706689,
          0.564392951035552,
          0.44976715522352606,
          0.35840820675148277,
          0.2838806966501579,
          0.22463114537240472,
          0.17875237481930525,
          0.14232399035026902,
          0.11260516525799176,
          0.08898714969327556,
          0.07073760517814662,
          0.05626306472113356,
          0.04447506306823925,
          0.035107683508977056,
          0.027882103342562914,
          0.022158281112933765,
          0.017499449847673532,
          0.013802821785066043,
          0.010951654361997498,
          0.008696850306296255,
          0.0068624105821072584,
          0.005407666991231963,
          0.004287712828227086,
          0.003403015412186505,
          0.0026830548027646727,
          0.0021128462394699454,
          0.0016741507097322026,
          0.001327939818293089,
          0.001046204793965444,
          0.0008231755433371291,
          0.0006520519760670141,
          0.0005169341660803184,
          0.00040695352508919315,
          0.00032004379609134047,
          0.0002533492202928755,
          0.00020078721427125857,
          0.00015795592989888973,
          0.00012415147793944925,
          0.00009821986677707174,
          0.00007784798726788724,
          0.00006120443576946856,
          0.000048064162547234454,
          0.000037984369555488236,
          0.000030128646176308404,
          0.00002368520727031865,
          0.000018571154214441786,
          0.000014645629562437544,
          0.000011637600982794548,
          0.000009160040644928822,
          0.000007171015022322546,
          0.000005634630360873426,
          0.000004479283234104524,
          0.000003540976467775191,
          0.000002771043364191438,
          0.000002167717320844541,
          0.0000017143029253929953,
          0.000001366370270261551,
          0.0000010731782822404156,
          8.359529601875792e-7,
          6.53501774650077e-7,
          5.212212272454153e-7,
          4.159526724834095e-7,
          3.2599346013740704e-7,
          2.5209810701199875e-7,
          1.9537546904758617e-7,
          1.557637006044488e-7,
          1.1679294402712094e-7,
          1.4615943655372667e-7,
          1.8969803932123888e-7,
          2.4682958610356855e-7,
          3.166496753692727e-7,
          3.9831356843934466e-7,
          4.98198642162616e-7,
          6.380367267411302e-7,
          8.224669727496902e-7,
          0.0000010519564966671267,
          0.0000013266952009871702,
          0.0000016743928426876763,
          0.0000021456035028677535,
          0.000002751868305495019,
          0.000003501099126879136,
          0.000004408590757520879,
          0.000005612468521576385,
          0.000007192313205450783,
          0.000009174964361591275,
          0.0000115941365947947,
          0.000014698745508212606,
          0.000018800486577674758,
          0.00002400061857770198,
          0.00003039106959477068,
          0.00003846662002615631,
          0.00004912171280011535,
          0.00006268010620260612,
          0.00007939343122416177,
          0.00010049264383269476,
          0.00012818658433388919,
          0.00016342417802661657,
          0.00020693076512543485,
          0.0002619132319523487,
          0.00033388255396857856,
          0.0004253213410265744,
          0.0005380744456488174,
          0.0006813548068748787,
          0.0008680315804667771,
          0.0011046133789932356,
          0.0013961300981463864,
          0.0017674663395155221,
          0.002251249138498679,
          0.0028618222480872647,
          0.003612822649301961,
          0.004574681478698039,
          0.005822236667154357,
          0.007392085924948333,
          0.00932489066326525,
          0.01180505506999907,
          0.015012595947337105,
          0.019037561705044937,
          0.023989158916083397,
          0.030368720492697322,
          0.03858629437017953,
          0.048859453498153016,
          0.06150597093510442,
          0.0778398112845025,
          0.09879478267976083,
          0.12492207299510483,
          0.1570844573157956,
          0.1986614203262434,
          0.2518046044264338,
          0.3179311764994054,
          0.39945991793065333,
          0.5046341014094651,
          0.6387434196949471,
          0.8051904525251302,
          1.0104862270716695,
          1.2749994264180713,
          1.6111275036237203,
          2.0276231164833005,
          2.5408332023551337,
          3.2007283717728567,
          4.0364959469967285,
          5.070282037835568,
          6.344097251741914,
          7.971486756840022,
          10.030513029138092,
          12.578037089718418,
          15.707261015658151,
          19.68187494176673,
          24.696308315498754,
          30.892899567104905,
          38.47928689484252,
          48.0837500093563,
          60.122383364960115,
          74.938357386789,
          93.09601789130829,
          115.88448237229022,
          144.2758168830227,
          179.07547699929273,
          221.69225342325808,
          274.57264234964424,
          339.765917956247,
          419.488502615345,
          516.7645156095386,
          635.6939421319054,
          780.3332801054191,
          955.7514634772876,
          1167.624336261997,
          1422.717127742042,
          1728.0547531277123,
          2092.2747511371126,
          2523.202423562555,
          3030.0131619184986,
          3620.295837155745,
          4300.6065156893455,
          5074.471509381605,
          5938.452426756292,
          6882.256956721737,
          7881.402624482536,
          8892.89659204437,
          9844.551370797735,
          10623.628928793813,
          11060.475690281262,
          10913.98296338331,
          9899.54748971359,
          7894.026051612734,
          5318.660165343601,
          2998.304236119428,
          1478.3391582327283,
          670.882766627322,
          291.2140251520111,
          124.53101588046135,
          52.567434767273745,
          22.192295755775618,
          9.338561939511807,
          3.929005392992059,
          1.6587639394315077,
          0.7203394553790508,
          0.392187392831715,
          1e-20
         ],
         "yaxis": "y2"
        },
        {
         "line": {
          "color": "blue"
         },
         "mode": "markers",
         "name": "London",
         "showlegend": false,
         "type": "scatter",
         "x": [
          1,
          2,
          3,
          4,
          5,
          6,
          7,
          8,
          9,
          10,
          11,
          12,
          13,
          14,
          15,
          16,
          17,
          18,
          19,
          20,
          21,
          22,
          23,
          24,
          25,
          26,
          27,
          28,
          29,
          30,
          31,
          32,
          33,
          34,
          35,
          36,
          37,
          38,
          39,
          40,
          41,
          42,
          43,
          44,
          45,
          46,
          47,
          48,
          49,
          50,
          51,
          52,
          53,
          54,
          55,
          56,
          57,
          58,
          59,
          60,
          61,
          62,
          63,
          64,
          65,
          66,
          67,
          68,
          69,
          70,
          71,
          72,
          73,
          74,
          75,
          76,
          77,
          78,
          79,
          80,
          81,
          82,
          83,
          84,
          85,
          86,
          87,
          88,
          89,
          90,
          91,
          92,
          93,
          94,
          95,
          96,
          97,
          98,
          99,
          100,
          101,
          102,
          103,
          104,
          105,
          106,
          107,
          108,
          109,
          110,
          111,
          112,
          113,
          114,
          115,
          116,
          117,
          118,
          119,
          120,
          121,
          122,
          123,
          124,
          125,
          126,
          127,
          128,
          129,
          130,
          131,
          132
         ],
         "xaxis": "x2",
         "y": [
          0,
          0,
          1,
          1,
          6,
          7,
          25,
          47,
          130,
          296,
          708,
          1515,
          3114,
          5383,
          7992,
          9899,
          11102,
          11095,
          10721,
          9937,
          9026,
          7875,
          7130,
          6092,
          5246,
          4213,
          3673,
          3045,
          2575,
          2198,
          1648,
          1446,
          1140,
          968,
          748,
          663,
          496,
          432,
          320,
          270,
          239,
          212,
          146,
          126,
          99,
          78,
          62,
          59,
          48,
          38,
          38,
          22,
          10,
          23,
          12,
          5,
          5,
          4,
          1,
          3,
          2,
          4,
          0,
          1,
          2,
          2,
          1,
          1,
          0,
          0,
          2,
          1,
          0,
          0,
          0,
          0,
          0,
          0,
          0,
          0,
          0,
          0,
          0,
          0,
          0,
          0,
          0,
          0,
          0,
          0,
          0,
          0,
          0,
          0,
          0,
          0,
          0,
          0,
          0,
          0,
          0,
          0,
          0,
          0,
          0,
          0,
          0,
          0,
          0,
          0,
          0,
          0,
          0,
          0,
          0,
          0,
          0,
          0,
          0,
          0,
          0,
          0,
          0,
          0,
          0,
          0,
          0,
          0,
          0,
          0,
          0,
          0
         ],
         "yaxis": "y2"
        }
       ],
       "layout": {
        "annotations": [
         {
          "font": {
           "size": 16
          },
          "showarrow": false,
          "text": "Infections",
          "x": 0.5,
          "xanchor": "center",
          "xref": "paper",
          "y": 1,
          "yanchor": "bottom",
          "yref": "paper"
         },
         {
          "font": {
           "size": 16
          },
          "showarrow": false,
          "text": "Deaths",
          "x": 0.5,
          "xanchor": "center",
          "xref": "paper",
          "y": 0.6111111111111112,
          "yanchor": "bottom",
          "yref": "paper"
         },
         {
          "font": {
           "size": 16
          },
          "showarrow": false,
          "text": "Reproduction Number",
          "x": 0.5,
          "xanchor": "center",
          "xref": "paper",
          "y": 0.22222222222222224,
          "yanchor": "bottom",
          "yref": "paper"
         }
        ],
        "height": 900,
        "legend": {
         "orientation": "h",
         "x": 1,
         "xanchor": "right",
         "y": 1.075,
         "yanchor": "bottom"
        },
        "plot_bgcolor": "white",
        "template": {
         "data": {
          "bar": [
           {
            "error_x": {
             "color": "#2a3f5f"
            },
            "error_y": {
             "color": "#2a3f5f"
            },
            "marker": {
             "line": {
              "color": "#E5ECF6",
              "width": 0.5
             },
             "pattern": {
              "fillmode": "overlay",
              "size": 10,
              "solidity": 0.2
             }
            },
            "type": "bar"
           }
          ],
          "barpolar": [
           {
            "marker": {
             "line": {
              "color": "#E5ECF6",
              "width": 0.5
             },
             "pattern": {
              "fillmode": "overlay",
              "size": 10,
              "solidity": 0.2
             }
            },
            "type": "barpolar"
           }
          ],
          "carpet": [
           {
            "aaxis": {
             "endlinecolor": "#2a3f5f",
             "gridcolor": "white",
             "linecolor": "white",
             "minorgridcolor": "white",
             "startlinecolor": "#2a3f5f"
            },
            "baxis": {
             "endlinecolor": "#2a3f5f",
             "gridcolor": "white",
             "linecolor": "white",
             "minorgridcolor": "white",
             "startlinecolor": "#2a3f5f"
            },
            "type": "carpet"
           }
          ],
          "choropleth": [
           {
            "colorbar": {
             "outlinewidth": 0,
             "ticks": ""
            },
            "type": "choropleth"
           }
          ],
          "contour": [
           {
            "colorbar": {
             "outlinewidth": 0,
             "ticks": ""
            },
            "colorscale": [
             [
              0,
              "#0d0887"
             ],
             [
              0.1111111111111111,
              "#46039f"
             ],
             [
              0.2222222222222222,
              "#7201a8"
             ],
             [
              0.3333333333333333,
              "#9c179e"
             ],
             [
              0.4444444444444444,
              "#bd3786"
             ],
             [
              0.5555555555555556,
              "#d8576b"
             ],
             [
              0.6666666666666666,
              "#ed7953"
             ],
             [
              0.7777777777777778,
              "#fb9f3a"
             ],
             [
              0.8888888888888888,
              "#fdca26"
             ],
             [
              1,
              "#f0f921"
             ]
            ],
            "type": "contour"
           }
          ],
          "contourcarpet": [
           {
            "colorbar": {
             "outlinewidth": 0,
             "ticks": ""
            },
            "type": "contourcarpet"
           }
          ],
          "heatmap": [
           {
            "colorbar": {
             "outlinewidth": 0,
             "ticks": ""
            },
            "colorscale": [
             [
              0,
              "#0d0887"
             ],
             [
              0.1111111111111111,
              "#46039f"
             ],
             [
              0.2222222222222222,
              "#7201a8"
             ],
             [
              0.3333333333333333,
              "#9c179e"
             ],
             [
              0.4444444444444444,
              "#bd3786"
             ],
             [
              0.5555555555555556,
              "#d8576b"
             ],
             [
              0.6666666666666666,
              "#ed7953"
             ],
             [
              0.7777777777777778,
              "#fb9f3a"
             ],
             [
              0.8888888888888888,
              "#fdca26"
             ],
             [
              1,
              "#f0f921"
             ]
            ],
            "type": "heatmap"
           }
          ],
          "heatmapgl": [
           {
            "colorbar": {
             "outlinewidth": 0,
             "ticks": ""
            },
            "colorscale": [
             [
              0,
              "#0d0887"
             ],
             [
              0.1111111111111111,
              "#46039f"
             ],
             [
              0.2222222222222222,
              "#7201a8"
             ],
             [
              0.3333333333333333,
              "#9c179e"
             ],
             [
              0.4444444444444444,
              "#bd3786"
             ],
             [
              0.5555555555555556,
              "#d8576b"
             ],
             [
              0.6666666666666666,
              "#ed7953"
             ],
             [
              0.7777777777777778,
              "#fb9f3a"
             ],
             [
              0.8888888888888888,
              "#fdca26"
             ],
             [
              1,
              "#f0f921"
             ]
            ],
            "type": "heatmapgl"
           }
          ],
          "histogram": [
           {
            "marker": {
             "pattern": {
              "fillmode": "overlay",
              "size": 10,
              "solidity": 0.2
             }
            },
            "type": "histogram"
           }
          ],
          "histogram2d": [
           {
            "colorbar": {
             "outlinewidth": 0,
             "ticks": ""
            },
            "colorscale": [
             [
              0,
              "#0d0887"
             ],
             [
              0.1111111111111111,
              "#46039f"
             ],
             [
              0.2222222222222222,
              "#7201a8"
             ],
             [
              0.3333333333333333,
              "#9c179e"
             ],
             [
              0.4444444444444444,
              "#bd3786"
             ],
             [
              0.5555555555555556,
              "#d8576b"
             ],
             [
              0.6666666666666666,
              "#ed7953"
             ],
             [
              0.7777777777777778,
              "#fb9f3a"
             ],
             [
              0.8888888888888888,
              "#fdca26"
             ],
             [
              1,
              "#f0f921"
             ]
            ],
            "type": "histogram2d"
           }
          ],
          "histogram2dcontour": [
           {
            "colorbar": {
             "outlinewidth": 0,
             "ticks": ""
            },
            "colorscale": [
             [
              0,
              "#0d0887"
             ],
             [
              0.1111111111111111,
              "#46039f"
             ],
             [
              0.2222222222222222,
              "#7201a8"
             ],
             [
              0.3333333333333333,
              "#9c179e"
             ],
             [
              0.4444444444444444,
              "#bd3786"
             ],
             [
              0.5555555555555556,
              "#d8576b"
             ],
             [
              0.6666666666666666,
              "#ed7953"
             ],
             [
              0.7777777777777778,
              "#fb9f3a"
             ],
             [
              0.8888888888888888,
              "#fdca26"
             ],
             [
              1,
              "#f0f921"
             ]
            ],
            "type": "histogram2dcontour"
           }
          ],
          "mesh3d": [
           {
            "colorbar": {
             "outlinewidth": 0,
             "ticks": ""
            },
            "type": "mesh3d"
           }
          ],
          "parcoords": [
           {
            "line": {
             "colorbar": {
              "outlinewidth": 0,
              "ticks": ""
             }
            },
            "type": "parcoords"
           }
          ],
          "pie": [
           {
            "automargin": true,
            "type": "pie"
           }
          ],
          "scatter": [
           {
            "marker": {
             "colorbar": {
              "outlinewidth": 0,
              "ticks": ""
             }
            },
            "type": "scatter"
           }
          ],
          "scatter3d": [
           {
            "line": {
             "colorbar": {
              "outlinewidth": 0,
              "ticks": ""
             }
            },
            "marker": {
             "colorbar": {
              "outlinewidth": 0,
              "ticks": ""
             }
            },
            "type": "scatter3d"
           }
          ],
          "scattercarpet": [
           {
            "marker": {
             "colorbar": {
              "outlinewidth": 0,
              "ticks": ""
             }
            },
            "type": "scattercarpet"
           }
          ],
          "scattergeo": [
           {
            "marker": {
             "colorbar": {
              "outlinewidth": 0,
              "ticks": ""
             }
            },
            "type": "scattergeo"
           }
          ],
          "scattergl": [
           {
            "marker": {
             "colorbar": {
              "outlinewidth": 0,
              "ticks": ""
             }
            },
            "type": "scattergl"
           }
          ],
          "scattermapbox": [
           {
            "marker": {
             "colorbar": {
              "outlinewidth": 0,
              "ticks": ""
             }
            },
            "type": "scattermapbox"
           }
          ],
          "scatterpolar": [
           {
            "marker": {
             "colorbar": {
              "outlinewidth": 0,
              "ticks": ""
             }
            },
            "type": "scatterpolar"
           }
          ],
          "scatterpolargl": [
           {
            "marker": {
             "colorbar": {
              "outlinewidth": 0,
              "ticks": ""
             }
            },
            "type": "scatterpolargl"
           }
          ],
          "scatterternary": [
           {
            "marker": {
             "colorbar": {
              "outlinewidth": 0,
              "ticks": ""
             }
            },
            "type": "scatterternary"
           }
          ],
          "surface": [
           {
            "colorbar": {
             "outlinewidth": 0,
             "ticks": ""
            },
            "colorscale": [
             [
              0,
              "#0d0887"
             ],
             [
              0.1111111111111111,
              "#46039f"
             ],
             [
              0.2222222222222222,
              "#7201a8"
             ],
             [
              0.3333333333333333,
              "#9c179e"
             ],
             [
              0.4444444444444444,
              "#bd3786"
             ],
             [
              0.5555555555555556,
              "#d8576b"
             ],
             [
              0.6666666666666666,
              "#ed7953"
             ],
             [
              0.7777777777777778,
              "#fb9f3a"
             ],
             [
              0.8888888888888888,
              "#fdca26"
             ],
             [
              1,
              "#f0f921"
             ]
            ],
            "type": "surface"
           }
          ],
          "table": [
           {
            "cells": {
             "fill": {
              "color": "#EBF0F8"
             },
             "line": {
              "color": "white"
             }
            },
            "header": {
             "fill": {
              "color": "#C8D4E3"
             },
             "line": {
              "color": "white"
             }
            },
            "type": "table"
           }
          ]
         },
         "layout": {
          "annotationdefaults": {
           "arrowcolor": "#2a3f5f",
           "arrowhead": 0,
           "arrowwidth": 1
          },
          "autotypenumbers": "strict",
          "coloraxis": {
           "colorbar": {
            "outlinewidth": 0,
            "ticks": ""
           }
          },
          "colorscale": {
           "diverging": [
            [
             0,
             "#8e0152"
            ],
            [
             0.1,
             "#c51b7d"
            ],
            [
             0.2,
             "#de77ae"
            ],
            [
             0.3,
             "#f1b6da"
            ],
            [
             0.4,
             "#fde0ef"
            ],
            [
             0.5,
             "#f7f7f7"
            ],
            [
             0.6,
             "#e6f5d0"
            ],
            [
             0.7,
             "#b8e186"
            ],
            [
             0.8,
             "#7fbc41"
            ],
            [
             0.9,
             "#4d9221"
            ],
            [
             1,
             "#276419"
            ]
           ],
           "sequential": [
            [
             0,
             "#0d0887"
            ],
            [
             0.1111111111111111,
             "#46039f"
            ],
            [
             0.2222222222222222,
             "#7201a8"
            ],
            [
             0.3333333333333333,
             "#9c179e"
            ],
            [
             0.4444444444444444,
             "#bd3786"
            ],
            [
             0.5555555555555556,
             "#d8576b"
            ],
            [
             0.6666666666666666,
             "#ed7953"
            ],
            [
             0.7777777777777778,
             "#fb9f3a"
            ],
            [
             0.8888888888888888,
             "#fdca26"
            ],
            [
             1,
             "#f0f921"
            ]
           ],
           "sequentialminus": [
            [
             0,
             "#0d0887"
            ],
            [
             0.1111111111111111,
             "#46039f"
            ],
            [
             0.2222222222222222,
             "#7201a8"
            ],
            [
             0.3333333333333333,
             "#9c179e"
            ],
            [
             0.4444444444444444,
             "#bd3786"
            ],
            [
             0.5555555555555556,
             "#d8576b"
            ],
            [
             0.6666666666666666,
             "#ed7953"
            ],
            [
             0.7777777777777778,
             "#fb9f3a"
            ],
            [
             0.8888888888888888,
             "#fdca26"
            ],
            [
             1,
             "#f0f921"
            ]
           ]
          },
          "colorway": [
           "#636efa",
           "#EF553B",
           "#00cc96",
           "#ab63fa",
           "#FFA15A",
           "#19d3f3",
           "#FF6692",
           "#B6E880",
           "#FF97FF",
           "#FECB52"
          ],
          "font": {
           "color": "#2a3f5f"
          },
          "geo": {
           "bgcolor": "white",
           "lakecolor": "white",
           "landcolor": "#E5ECF6",
           "showlakes": true,
           "showland": true,
           "subunitcolor": "white"
          },
          "hoverlabel": {
           "align": "left"
          },
          "hovermode": "closest",
          "mapbox": {
           "style": "light"
          },
          "paper_bgcolor": "white",
          "plot_bgcolor": "#E5ECF6",
          "polar": {
           "angularaxis": {
            "gridcolor": "white",
            "linecolor": "white",
            "ticks": ""
           },
           "bgcolor": "#E5ECF6",
           "radialaxis": {
            "gridcolor": "white",
            "linecolor": "white",
            "ticks": ""
           }
          },
          "scene": {
           "xaxis": {
            "backgroundcolor": "#E5ECF6",
            "gridcolor": "white",
            "gridwidth": 2,
            "linecolor": "white",
            "showbackground": true,
            "ticks": "",
            "zerolinecolor": "white"
           },
           "yaxis": {
            "backgroundcolor": "#E5ECF6",
            "gridcolor": "white",
            "gridwidth": 2,
            "linecolor": "white",
            "showbackground": true,
            "ticks": "",
            "zerolinecolor": "white"
           },
           "zaxis": {
            "backgroundcolor": "#E5ECF6",
            "gridcolor": "white",
            "gridwidth": 2,
            "linecolor": "white",
            "showbackground": true,
            "ticks": "",
            "zerolinecolor": "white"
           }
          },
          "shapedefaults": {
           "line": {
            "color": "#2a3f5f"
           }
          },
          "ternary": {
           "aaxis": {
            "gridcolor": "white",
            "linecolor": "white",
            "ticks": ""
           },
           "baxis": {
            "gridcolor": "white",
            "linecolor": "white",
            "ticks": ""
           },
           "bgcolor": "#E5ECF6",
           "caxis": {
            "gridcolor": "white",
            "linecolor": "white",
            "ticks": ""
           }
          },
          "title": {
           "x": 0.05
          },
          "xaxis": {
           "automargin": true,
           "gridcolor": "white",
           "linecolor": "white",
           "ticks": "",
           "title": {
            "standoff": 15
           },
           "zerolinecolor": "white",
           "zerolinewidth": 2
          },
          "yaxis": {
           "automargin": true,
           "gridcolor": "white",
           "linecolor": "white",
           "ticks": "",
           "title": {
            "standoff": 15
           },
           "zerolinecolor": "white",
           "zerolinewidth": 2
          }
         }
        },
        "width": 600,
        "xaxis": {
         "anchor": "y",
         "domain": [
          0,
          1
         ],
         "linecolor": "black",
         "ticktext": [
          "Feb 15",
          "Feb 25",
          "Mar 06",
          "Mar 16",
          "Mar 26",
          "Apr 05",
          "Apr 15",
          "Apr 25",
          "May 05",
          "May 15"
         ],
         "tickvals": [
          1,
          11,
          21,
          31,
          41,
          51,
          61,
          71,
          81
         ]
        },
        "xaxis2": {
         "anchor": "y2",
         "domain": [
          0,
          1
         ],
         "linecolor": "black",
         "ticktext": [
          "Feb 15",
          "Feb 25",
          "Mar 06",
          "Mar 16",
          "Mar 26",
          "Apr 05",
          "Apr 15",
          "Apr 25",
          "May 05",
          "May 15"
         ],
         "tickvals": [
          1,
          11,
          21,
          31,
          41,
          51,
          61,
          71,
          81
         ]
        },
        "xaxis3": {
         "anchor": "y3",
         "domain": [
          0,
          1
         ],
         "linecolor": "black",
         "ticktext": [
          "Feb 15",
          "Feb 25",
          "Mar 06",
          "Mar 16",
          "Mar 26",
          "Apr 05",
          "Apr 15",
          "Apr 25",
          "May 05",
          "May 15"
         ],
         "tickvals": [
          1,
          11,
          21,
          31,
          41,
          51,
          61,
          71,
          81
         ]
        },
        "yaxis": {
         "anchor": "x",
         "domain": [
          0.7777777777777778,
          1
         ],
         "linecolor": "black"
        },
        "yaxis2": {
         "anchor": "x2",
         "domain": [
          0.3888888888888889,
          0.6111111111111112
         ],
         "linecolor": "black"
        },
        "yaxis3": {
         "anchor": "x3",
         "domain": [
          0,
          0.22222222222222224
         ],
         "linecolor": "black"
        }
       }
      }
     },
     "metadata": {},
     "output_type": "display_data"
    }
   ],
   "source": [
    "# Trace names - represent the solver used for the simulation\n",
    "trace_name = regions\n",
    "titles = ['Infections', 'Deaths', 'Reproduction Number']\n",
    "\n",
    "fig = go.Figure()\n",
    "fig = make_subplots(rows=len(titles), cols=1, subplot_titles=tuple(titles), horizontal_spacing = 0.15)\n",
    "\n",
    "# Plot (continuous predicted timeline and pointwise observed numbers each day)\n",
    "for r, region in enumerate(regions):\n",
    "    # Plot of infections\n",
    "    fig.add_trace(\n",
    "        go.Scatter(\n",
    "            x=times,\n",
    "            y=new_infec_mean[r].tolist(),\n",
    "            mode='lines',\n",
    "            name=trace_name[r],\n",
    "            line_color=colours[r]\n",
    "        ),\n",
    "        row= 1,\n",
    "        col= 1\n",
    "    )\n",
    "\n",
    "    fig.add_trace(\n",
    "        go.Scatter(\n",
    "            x=times + times[::-1],\n",
    "            y=new_infec_upper[r].tolist() + new_infec_lower[r].tolist()[::-1],\n",
    "            fill='toself',\n",
    "            fillcolor=colours[r],\n",
    "            line_color=colours[r],\n",
    "            opacity=0.15,\n",
    "            mode='lines',\n",
    "            showlegend=False,\n",
    "            name=trace_name[r]\n",
    "        ),\n",
    "        row= 1,\n",
    "        col= 1\n",
    "    )\n",
    "\n",
    "    # fig.add_trace(\n",
    "    #     go.Scatter(\n",
    "    #         x=serology_times,\n",
    "    #         y=np.sum(np.multiply(np.nan_to_num(np.divide(positives_data[r], tests[r])), susceptibles[r]), axis=1).tolist(),\n",
    "    #         mode='markers',\n",
    "    #         name=trace_name[r],\n",
    "    #         showlegend=False,\n",
    "    #         line_color=colours[r]\n",
    "    #     ),\n",
    "    #     row= 1,\n",
    "    #     col= 1\n",
    "    # )\n",
    "\n",
    "    # Plot deaths\n",
    "    fig.add_trace(\n",
    "        go.Scatter(\n",
    "            x=times,\n",
    "            y=deaths_mean[r].tolist(),\n",
    "            mode='lines',\n",
    "            name=trace_name[r],\n",
    "            showlegend=False,\n",
    "            line_color=colours[r]\n",
    "        ),\n",
    "        row= 2,\n",
    "        col= 1\n",
    "    )\n",
    "\n",
    "    fig.add_trace(\n",
    "        go.Scatter(\n",
    "            x=times + times[::-1],\n",
    "            y=deaths_upper[r].tolist() + deaths_lower[r].tolist()[::-1],\n",
    "            fill='toself',\n",
    "            fillcolor=colours[r],\n",
    "            line_color=colours[r],\n",
    "            opacity=0.15,\n",
    "            mode='lines',\n",
    "            showlegend=False,\n",
    "            name=trace_name[r]\n",
    "        ),\n",
    "        row= 2,\n",
    "        col= 1\n",
    "    )\n",
    "\n",
    "    fig.add_trace(\n",
    "        go.Scatter(\n",
    "            x=times,\n",
    "            y=deaths_data[r],\n",
    "            mode='markers',\n",
    "            name=trace_name[r],\n",
    "            showlegend=False,\n",
    "            line_color=colours[r]\n",
    "        ),\n",
    "        row= 2,\n",
    "        col= 1\n",
    "    )\n",
    "\n",
    "    # Plot reproduction number\n",
    "    # fig.add_trace(\n",
    "    #     go.Scatter(\n",
    "    #         x=times,\n",
    "    #         y=reprod_num_mean[r].tolist(),\n",
    "    #         mode='lines',\n",
    "    #         name=trace_name[r],\n",
    "    #         showlegend=False,\n",
    "    #         line_color=colours[r]\n",
    "    #     ),\n",
    "    #     row= 3,\n",
    "    #     col= 1\n",
    "    # )\n",
    "\n",
    "    # fig.add_trace(\n",
    "    #     go.Scatter(\n",
    "    #         x=times + times[::-1],\n",
    "    #         y=reprod_num_upper[r].tolist() + reprod_num_lower[r].tolist()[::-1],\n",
    "    #         fill='toself',\n",
    "    #         fillcolor=colours[r],\n",
    "    #         line_color=colours[r],\n",
    "    #         opacity=0.15,\n",
    "    #         mode='lines',\n",
    "    #         showlegend=False,\n",
    "    #         name=trace_name[r]\n",
    "    #     ),\n",
    "    #     row= 3,\n",
    "    #     col= 1\n",
    "    # )\n",
    "\n",
    "# Add axis labels\n",
    "fig.update_layout(\n",
    "    width=600, \n",
    "    height=900,\n",
    "    plot_bgcolor='white',\n",
    "    xaxis=dict(\n",
    "        linecolor='black',\n",
    "        tickvals=np.arange(1, 90, 10).tolist(),\n",
    "        ticktext=['Feb 15', 'Feb 25', 'Mar 06', 'Mar 16', 'Mar 26', 'Apr 05', 'Apr 15', 'Apr 25', 'May 05', 'May 15']),\n",
    "    yaxis=dict(linecolor='black'),\n",
    "    xaxis2=dict(\n",
    "        linecolor='black',\n",
    "        tickvals=np.arange(1, 90, 10).tolist(),\n",
    "        ticktext=['Feb 15', 'Feb 25', 'Mar 06', 'Mar 16', 'Mar 26', 'Apr 05', 'Apr 15', 'Apr 25', 'May 05', 'May 15']),\n",
    "    yaxis2=dict(linecolor='black'),\n",
    "    xaxis3=dict(\n",
    "        linecolor='black',\n",
    "        tickvals=np.arange(1, 90, 10).tolist(),\n",
    "        ticktext=['Feb 15', 'Feb 25', 'Mar 06', 'Mar 16', 'Mar 26', 'Apr 05', 'Apr 15', 'Apr 25', 'May 05', 'May 15']),\n",
    "    yaxis3=dict(linecolor='black'),\n",
    "    legend=dict(\n",
    "        orientation='h',\n",
    "        yanchor=\"bottom\",\n",
    "        y=1.075,\n",
    "        xanchor=\"right\",\n",
    "        x=1)\n",
    "    )\n",
    "\n",
    "fig.write_image('images/Figure-3-synthetic.pdf')\n",
    "fig.show()"
   ]
  }
 ],
 "metadata": {
  "interpreter": {
   "hash": "684a6128a123c6817f5879bd443c804f1ae947106cccd5e393ee42f0caf0d347"
  },
  "kernelspec": {
   "display_name": "Python 3.8.8 64-bit ('base': conda)",
   "name": "python3"
  },
  "language_info": {
   "codemirror_mode": {
    "name": "ipython",
    "version": 3
   },
   "file_extension": ".py",
   "mimetype": "text/x-python",
   "name": "python",
   "nbconvert_exporter": "python",
   "pygments_lexer": "ipython3",
   "version": "3.8.8"
  },
  "orig_nbformat": 4
 },
 "nbformat": 4,
 "nbformat_minor": 2
}

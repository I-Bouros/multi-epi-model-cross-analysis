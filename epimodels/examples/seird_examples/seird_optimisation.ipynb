{
 "cells": [
  {
   "cell_type": "markdown",
   "metadata": {},
   "source": [
    "# SEIRD Model Optimisation\n",
    "\n",
    "In this notebook we present how to use the `epimodels` module to perform parameter optimisation for the  parameters specified by the SEIRD model.\n",
    "\n",
    "The analysis is run for:\n",
    " - Dates: **15 Feb 2020** - **25 June 2020**;\n",
    " - PHE regions of interest: **London**.\n",
    "\n",
    "We use realistic serology and mortality data extracted from the REACT survey and GOV.UK data.\n"
   ]
  },
  {
   "cell_type": "code",
   "execution_count": 1,
   "metadata": {},
   "outputs": [],
   "source": [
    "# Load necessary libraries\n",
    "import os\n",
    "import numpy as np\n",
    "import pandas as pd\n",
    "from scipy.stats import gamma, nbinom, norm\n",
    "import epimodels as em\n",
    "import matplotlib\n",
    "import plotly.graph_objects as go\n",
    "import plotly.express as px\n",
    "from matplotlib import pyplot as plt\n",
    "from iteration_utilities import deepflatten\n",
    "\n",
    "# Set random seed\n",
    "np.random.seed(28)"
   ]
  },
  {
   "cell_type": "markdown",
   "metadata": {},
   "source": [
    "## Model Setup\n",
    "### Define setup matrices for the SEIRD model"
   ]
  },
  {
   "cell_type": "code",
   "execution_count": 2,
   "metadata": {},
   "outputs": [],
   "source": [
    "# Populate the model\n",
    "total_days =  132\n",
    "regions = ['London']\n",
    "age_groups = ['0-1', '1-5', '5-15', '15-25', '25-45', '45-65', '65-75', '75+']"
   ]
  },
  {
   "cell_type": "markdown",
   "metadata": {},
   "source": [
    "### Set the parameters and initial conditions of the model and bundle everything together"
   ]
  },
  {
   "cell_type": "code",
   "execution_count": 3,
   "metadata": {},
   "outputs": [],
   "source": [
    "# Instantiate model\n",
    "model = em.SEIRDModel()\n",
    "\n",
    "# Set the region names of the model\n",
    "model.set_regions(regions)\n",
    "model.set_age_groups(age_groups)\n",
    "\n",
    "# Initial number of susceptibles\n",
    "path = os.path.join('../../data/england_population/England_population.csv')\n",
    "total_susceptibles = np.loadtxt(path, dtype=int, delimiter=',').tolist()\n",
    "susceptibles = total_susceptibles[1]\n",
    "\n",
    "# Initial number of infectives\n",
    "ICs_multiplier = 100\n",
    "infectives = (ICs_multiplier * np.ones((len(regions), len(age_groups)))).tolist()\n",
    "\n",
    "# List of times at which we wish to evaluate the states of the compartments of the model\n",
    "times = np.arange(1, total_days+1, 1).tolist()"
   ]
  },
  {
   "cell_type": "code",
   "execution_count": 4,
   "metadata": {},
   "outputs": [],
   "source": [
    "# Set ICs parameters\n",
    "ICs = em.SEIRDICs(\n",
    "    model=model,\n",
    "    susceptibles_IC=[susceptibles],\n",
    "    exposed_IC=np.zeros((len(regions), len(age_groups))).tolist(),\n",
    "    infectives_IC=infectives,\n",
    "    recovered_IC=np.zeros((len(regions), len(age_groups))).tolist(),\n",
    "    dead_IC=np.zeros((len(regions), len(age_groups))).tolist()\n",
    ")\n",
    "\n",
    "# Set transmission parameters\n",
    "transmission_parameters = em.SEIRDTransmission(\n",
    "    model=model,\n",
    "    beta=5,\n",
    "    kappa=0.9,\n",
    "    gamma=0.5,\n",
    "    Pd = pd.read_csv('../../data/fatality_ratio_data/CFR.csv', usecols=['cfr'], dtype=np.float64)['cfr'].values.tolist()\n",
    ")\n",
    "\n",
    "# Set other simulation parameters\n",
    "simulation_parameters = em.SEIRDSimParameters(\n",
    "    model=model,\n",
    "    region_index=1,\n",
    "    method='RK45',\n",
    "    times=times\n",
    ")\n",
    "\n",
    "# Set all parameters in the controller\n",
    "parameters = em.SEIRDParametersController(\n",
    "    model=model,\n",
    "    ICs=ICs,\n",
    "    transmission_parameters=transmission_parameters,\n",
    "    simulation_parameters=simulation_parameters\n",
    ")"
   ]
  },
  {
   "cell_type": "markdown",
   "metadata": {},
   "source": [
    "### Simulate for one of the regions: **London**"
   ]
  },
  {
   "cell_type": "code",
   "execution_count": 5,
   "metadata": {},
   "outputs": [],
   "source": [
    "# Simulate for all regions\n",
    "output = []\n",
    "new_infec = []\n",
    "new_deaths = []\n",
    "\n",
    "for r, reg in enumerate(regions):\n",
    "    # List of initial conditions and parameters that characterise the model\n",
    "    parameters.simulation_parameters.region_index = r + 1\n",
    "\n",
    "    # Simulate using the ODE solver\n",
    "    output.append(model.simulate(parameters))\n",
    "    new_infec.append(model.new_infections(output[-1]))\n",
    "    new_deaths.append(model.new_deaths(output[-1]))"
   ]
  },
  {
   "cell_type": "markdown",
   "metadata": {},
   "source": [
    "## Death and Serology data\n",
    "### Read Tests data"
   ]
  },
  {
   "cell_type": "code",
   "execution_count": 6,
   "metadata": {},
   "outputs": [],
   "source": [
    "# # Read in tests data from external files for realistic counts of tests\n",
    "# tests = []\n",
    "\n",
    "# for region in regions:\n",
    "#     daily_tests = np.ones((len(times), len(age_groups)), dtype=int)\n",
    "#     weekly_tests = np.loadtxt('../../data/serology_data/{}_tests_nhs.csv'.format(region), dtype=int, delimiter=',')\n",
    "#     for _, day in enumerate(np.arange(0, len(times), 7)):\n",
    "#         daily_tests[day:(day+7), :]=weekly_tests[_, :] / 7\n",
    "#     tests.append(daily_tests)"
   ]
  },
  {
   "cell_type": "markdown",
   "metadata": {},
   "source": [
    "## Read Death and Serology data"
   ]
  },
  {
   "cell_type": "code",
   "execution_count": 7,
   "metadata": {},
   "outputs": [],
   "source": [
    "# Read in death and positive data from external files\n",
    "deaths_data = []\n",
    "positives_data = []\n",
    "tests = []\n",
    "\n",
    "for region in regions:\n",
    "    deaths_data.append(np.loadtxt('../../data/death_data/{}_deaths.csv'.format(region), dtype=int, delimiter=','))\n",
    "    positives_data.append(np.loadtxt('../../data/serology_data/{}_positives_nhs.csv'.format(region), dtype=int, delimiter=','))\n",
    "    tests.append(np.loadtxt('../../data/serology_data/{}_tests_nhs.csv'.format(region), dtype=int, delimiter=','))"
   ]
  },
  {
   "cell_type": "code",
   "execution_count": 8,
   "metadata": {},
   "outputs": [],
   "source": [
    "# Select the time points for which the death and serology data is known\n",
    "deaths_times = np.arange(27, total_days+1, 1).tolist()\n",
    "serology_times = np.arange(80, total_days+1, 7).tolist()"
   ]
  },
  {
   "cell_type": "code",
   "execution_count": 9,
   "metadata": {},
   "outputs": [],
   "source": [
    "# Set information\n",
    "niu = 10**(-5) # float(gamma.rvs(1, scale=1/0.2, size=1))\n",
    "\n",
    "sens = 0.7\n",
    "spec = 0.95"
   ]
  },
  {
   "cell_type": "markdown",
   "metadata": {},
   "source": [
    "### Sample Death and Serology data"
   ]
  },
  {
   "cell_type": "code",
   "execution_count": 10,
   "metadata": {},
   "outputs": [],
   "source": [
    "# # Sample death and positive test results data for all regions\n",
    "# deaths_data = []\n",
    "# positives_data = []\n",
    "\n",
    "# for r, reg in enumerate(regions):\n",
    "#     reg_deaths_data = np.empty((len(times), len(age_groups)))\n",
    "#     reg_positives_data = np.empty(((len(times), len(age_groups))))\n",
    "#     for t, _ in enumerate(times):\n",
    "#         # Sample the number of deaths and positive test results in a given region on a given day\n",
    "#         reg_deaths_data[t, :] = model.samples_deaths(new_deaths[r], niu, t)\n",
    "#         reg_positives_data[t, :] = model.samples_positive_tests(output[r], tests[r][t, :], sens, spec, t)\n",
    "#     deaths_data.append(np.asarray(reg_deaths_data, dtype=int))\n",
    "#     positives_data.append(np.asarray(reg_positives_data, dtype=int))"
   ]
  },
  {
   "cell_type": "markdown",
   "metadata": {},
   "source": [
    "### Export Death and Serology data"
   ]
  },
  {
   "cell_type": "code",
   "execution_count": 11,
   "metadata": {},
   "outputs": [],
   "source": [
    "# # Export synthetic death and positive test results data for all regions to external files to save computation time\n",
    "# path_ = 'inference_data/'\n",
    "\n",
    "# for r, region in enumerate(regions):\n",
    "#     path = os.path.join(path_, '{}_Syn_Deaths.csv'.format(region))\n",
    "#     path1 = os.path.join(path_, '{}_Syn_Positives.csv'.format(region))\n",
    "\n",
    "#     np.savetxt(path, deaths_data[r], fmt=\"%d\", delimiter=',')\n",
    "#     np.savetxt(path1, positives_data[r], fmt=\"%d\",  delimiter=',')"
   ]
  },
  {
   "cell_type": "markdown",
   "metadata": {},
   "source": [
    "### Read Death and Serology data"
   ]
  },
  {
   "cell_type": "code",
   "execution_count": 12,
   "metadata": {},
   "outputs": [],
   "source": [
    "# # Read in synthetic death and positive data from external files\n",
    "# deaths_data = []\n",
    "# positives_data = []\n",
    "\n",
    "# for region in regions:\n",
    "#     deaths_data.append(np.loadtxt('inference_data/{}_Syn_Deaths.csv'.format(region), dtype=int, delimiter=','))\n",
    "#     positives_data.append(np.loadtxt('inference_data/{}_Syn_Positives.csv'.format(region), dtype=int, delimiter=','))"
   ]
  },
  {
   "cell_type": "code",
   "execution_count": 13,
   "metadata": {},
   "outputs": [],
   "source": [
    "# # Select the time points for which the death and serology data is known\n",
    "# deaths_times = np.arange(1, total_days+1, 1).tolist()\n",
    "# serology_times = np.arange(1, total_days+1, 1).tolist()"
   ]
  },
  {
   "cell_type": "markdown",
   "metadata": {},
   "source": [
    "## Optimisation Procedure"
   ]
  },
  {
   "cell_type": "code",
   "execution_count": 14,
   "metadata": {},
   "outputs": [
    {
     "name": "stdout",
     "output_type": "stream",
     "text": [
      "Maximising LogPDF\n",
      "Using Seperable Natural Evolution Strategy (SNES)\n",
      "Running in sequential mode.\n",
      "Population size: 7\n",
      "Iter. Eval. Best      Current   Time m:s\n",
      "0     7     -24967.83 -24967.83   0:00.1\n",
      "1     14    -24967.83 -25754.51   0:00.3\n",
      "2     21    -24967.83 -25203.22   0:00.4\n",
      "3     28    -24967.83 -25616.19   0:00.5\n",
      "20    147   -21731.75 -24529.28   0:02.2\n",
      "40    287   -21484.75 -21484.75   0:04.5\n",
      "60    427   -19996.55 -19996.55   0:07.1\n",
      "80    567   -19717.04 -19717.04   0:09.8\n",
      "100   707   -18188.73 -18188.73   0:13.2\n",
      "120   847   -17022.54 -17022.54   0:17.9\n",
      "140   987   -15087.53 -15087.53   0:22.9\n",
      "160   1127  -11015.54 -11015.54   0:29.0\n",
      "180   1267  -5386.84  -5386.84    0:36.8\n",
      "200   1407  -5155.224 -5155.232   0:45.8\n",
      "220   1547  -5155.19  -5155.19    0:54.9\n",
      "240   1687  -5155.126 -5155.126   1:03.9\n",
      "260   1827  -5154.478 -5154.478   1:13.0\n",
      "280   1967  -5147.123 -5147.123   1:21.6\n",
      "300   2107  -5138.794 -5138.887   1:29.6\n",
      "320   2247  -5127.46  -5127.562   1:36.8\n",
      "340   2387  -5121.939 -5121.939   1:43.4\n",
      "360   2527  -5118.556 -5118.556   1:49.6\n",
      "380   2667  -5115.979 -5115.979   1:55.5\n",
      "400   2807  -5115.075 -5115.083   2:01.1\n",
      "420   2947  -5114.697 -5114.697   2:06.7\n",
      "440   3087  -5114.622 -5114.623   2:12.2\n",
      "460   3227  -5114.582 -5114.582   2:17.6\n",
      "480   3367  -5114.548 -5114.548   2:23.0\n",
      "500   3507  -5114.522 -5114.522   2:28.4\n",
      "520   3647  -5114.512 -5114.512   2:33.8\n",
      "540   3787  -5114.509 -5114.509   2:39.3\n",
      "560   3927  -5114.507 -5114.507   2:44.8\n",
      "575   4025  -5114.506 -5114.506   2:48.6\n",
      "Halting: No significant change for 100 iterations.\n",
      "[8.49415212e+00 4.92179935e-01 4.70929087e-04] -5114.505848106341\n",
      "Optimisation phase is finished.\n"
     ]
    }
   ],
   "source": [
    "# Initialise optimisation for the model\n",
    "seird_optimisation = em.inference.SEIRDInfer(model)\n",
    "\n",
    "# Add model, death, tests and NPIs data to the inference structure\n",
    "seird_optimisation.read_model_data(susceptibles, infectives)\n",
    "seird_optimisation.read_deaths_data(deaths_data, deaths_times)\n",
    "seird_optimisation.read_serology_data(tests, positives_data, serology_times, sens, spec)\n",
    "\n",
    "# Run optimisation structure\n",
    "found, log_post_value = seird_optimisation.optimisation_problem_setup(times, wd=1, wp=0)"
   ]
  },
  {
   "cell_type": "markdown",
   "metadata": {},
   "source": [
    "### Run the model with optimised parameter choices to produce predicted timelines for the:\n",
    " - number of new infections\n",
    " - number of deaths\n",
    " - R number"
   ]
  },
  {
   "cell_type": "code",
   "execution_count": 15,
   "metadata": {},
   "outputs": [],
   "source": [
    "n_parameters = model.n_parameters()\n",
    "\n",
    "predicted_new_infec = []\n",
    "predicted_deaths = []\n",
    "#predicted_reprod_num = []\n",
    "\n",
    "# Run model and number of new infections for all regions\n",
    "for r, _ in enumerate(model.regions):\n",
    "    parameters.simulation_parameters.region_index = r + 1\n",
    "\n",
    "    # parameters.transmission_parameters.beta = found[-3]\n",
    "    parameters.transmission_parameters.kappa = found[-2]\n",
    "    parameters.transmission_parameters.gamma = found[-1]\n",
    "    \n",
    "    #r_fix = np.empty(len(times))\n",
    "    model_reg_deaths_data = np.empty(len(times))\n",
    "\n",
    "    #m_fix = em.MultiTimesInfectivity(\n",
    "    #    matrices_contact, time_changes_contact, regions, matrices_region, time_changes_region, parameters[0], dI, susceptibles)\n",
    "\n",
    "    # Run model and number of new infections for all age groups\n",
    "    model_output = model.simulate(parameters)\n",
    "\n",
    "    age_model_reg_new_infections = model.new_infections(model_output)\n",
    "    model_reg_new_infections = age_model_reg_new_infections.sum(axis=1)\n",
    "\n",
    "    age_model_reg_new_deaths = model.new_deaths(model_output)\n",
    "\n",
    "    for t, time in enumerate(times):\n",
    "    #    r_fix[t] = m_fix.compute_reproduction_number(r+1, time, model_output[t, :len(age_groups)], temp_variation=parameters[8][r][t])\n",
    "        model_reg_deaths_data[t] = np.sum(model.mean_deaths(t, age_model_reg_new_deaths))\n",
    "    \n",
    "    predicted_new_infec.append(np.array(model_reg_new_infections))\n",
    "    predicted_deaths.append(model_reg_deaths_data)\n",
    "    #predicted_reprod_num.append(r_fix)\n",
    "\n",
    "predicted_new_infec = np.array(predicted_new_infec)\n",
    "predicted_deaths = np.array(predicted_deaths)\n",
    "#predicted_reprod_num = np.array(predicted_reprod_num)"
   ]
  },
  {
   "cell_type": "markdown",
   "metadata": {},
   "source": [
    "## Plot data vs predicted\n",
    "\n",
    "### Setup ``plotly`` and default settings for plotting"
   ]
  },
  {
   "cell_type": "code",
   "execution_count": 16,
   "metadata": {},
   "outputs": [],
   "source": [
    "from plotly.subplots import make_subplots\n",
    "\n",
    "colours = ['blue', 'red', 'green', 'purple', 'orange', 'black', 'gray', 'pink']\n",
    "\n",
    "# Group outputs together\n",
    "outputs = [deaths_data, positives_data]\n",
    "\n",
    "# Number of regions\n",
    "n_reg = len(regions)"
   ]
  },
  {
   "cell_type": "markdown",
   "metadata": {},
   "source": [
    "### Select predicted quantities to plot"
   ]
  },
  {
   "cell_type": "code",
   "execution_count": 17,
   "metadata": {},
   "outputs": [],
   "source": [
    "# Set up traces to plot\n",
    "new_infec_pred = []\n",
    "deaths_pred = []\n",
    "#reprod_num_pred = []\n",
    "\n",
    "for r, _ in enumerate(model.regions):\n",
    "    # Compute the prediction \n",
    "    new_infec_pred.append(predicted_new_infec[r,:])\n",
    "    deaths_pred.append(predicted_deaths[r,:])\n",
    "    #reprod_num_pred.append(predicted_reprod_num[r,:])"
   ]
  },
  {
   "cell_type": "markdown",
   "metadata": {},
   "source": [
    "### Plot observed versus predicted using model with optimised parameters"
   ]
  },
  {
   "cell_type": "code",
   "execution_count": 18,
   "metadata": {},
   "outputs": [
    {
     "name": "stderr",
     "output_type": "stream",
     "text": [
      "<ipython-input-18-e48c6bf424d7>:26: RuntimeWarning:\n",
      "\n",
      "invalid value encountered in true_divide\n",
      "\n"
     ]
    },
    {
     "data": {
      "application/vnd.plotly.v1+json": {
       "config": {
        "plotlyServerURL": "https://plot.ly"
       },
       "data": [
        {
         "line": {
          "color": "blue"
         },
         "mode": "lines",
         "name": "London",
         "type": "scatter",
         "x": [
          1,
          2,
          3,
          4,
          5,
          6,
          7,
          8,
          9,
          10,
          11,
          12,
          13,
          14,
          15,
          16,
          17,
          18,
          19,
          20,
          21,
          22,
          23,
          24,
          25,
          26,
          27,
          28,
          29,
          30,
          31,
          32,
          33,
          34,
          35,
          36,
          37,
          38,
          39,
          40,
          41,
          42,
          43,
          44,
          45,
          46,
          47,
          48,
          49,
          50,
          51,
          52,
          53,
          54,
          55,
          56,
          57,
          58,
          59,
          60,
          61,
          62,
          63,
          64,
          65,
          66,
          67,
          68,
          69,
          70,
          71,
          72,
          73,
          74,
          75,
          76,
          77,
          78,
          79,
          80,
          81,
          82,
          83,
          84,
          85,
          86,
          87,
          88,
          89,
          90,
          91,
          92,
          93,
          94,
          95,
          96,
          97,
          98,
          99,
          100,
          101,
          102,
          103,
          104,
          105,
          106,
          107,
          108,
          109,
          110,
          111,
          112,
          113,
          114,
          115,
          116,
          117,
          118,
          119,
          120,
          121,
          122,
          123,
          124,
          125,
          126,
          127,
          128,
          129,
          130,
          131,
          132
         ],
         "xaxis": "x",
         "y": [
          0,
          211.32731650550215,
          432.8002023016869,
          768.9251083121594,
          1357.1016298797583,
          2437.834759385478,
          4474.489883979684,
          8338.029082517432,
          15748.313792567937,
          30012.84593464795,
          56741.36930019325,
          105837.98331658552,
          191212.6374591033,
          319323.2073661947,
          476014.29035411385,
          595097.8521189686,
          632794.4719020743,
          598272.8561499357,
          540695.653346916,
          480179.968605189,
          414605.68743518984,
          347490.78764991433,
          290670.13043115556,
          252919.47249182317,
          234610.32732054166,
          229882.9902913345,
          230572.1411266568,
          229256.43428031815,
          221217.94154284403,
          205252.0506331667,
          183193.15618795238,
          158510.12298363604,
          134757.63294030898,
          114540.97898984802,
          99160.08144339029,
          88773.76933336629,
          82782.35066829098,
          80201.45292627372,
          79935.06398885514,
          80943.04481320629,
          82331.70470114161,
          83396.18136403174,
          83639.64593288435,
          82752.43245560817,
          80602.0271287492,
          77212.4361819631,
          72694.88395709822,
          67277.75919069635,
          61189.295359722004,
          54735.433781953194,
          48155.2443657805,
          41723.33906376758,
          35611.22601703951,
          29991.49782911257,
          24937.16388090916,
          20507.421234154383,
          16692.921268742008,
          13472.69679206035,
          10792.20750441675,
          8593.896172493263,
          6811.11827325641,
          5381.245879370186,
          4244.552246610858,
          3348.6108002207875,
          2647.422853442071,
          2102.655902838593,
          1682.00908655671,
          1359.5750537480353,
          1114.106357603323,
          928.8838957230237,
          790.5885585033451,
          688.7535538099377,
          615.2583617182222,
          563.7686949589324,
          529.3570254204569,
          508.30550879764536,
          497.66435294382234,
          495.23867532423304,
          499.3407677707084,
          508.64060472612823,
          522.1764276598165,
          539.1951004492195,
          559.1186289142981,
          581.5060470813465,
          0,
          632.4092992704398,
          660.512760899562,
          0,
          0,
          753.3429237883016,
          0,
          0,
          857.0719235564043,
          893.6719126792378,
          0,
          969.4258258310122,
          0,
          1048.0063317510317,
          0,
          1128.6026894334236,
          0,
          1210.268919381081,
          0,
          1291.9019316424674,
          0,
          1372.2436695026809,
          0,
          1449.8970088067033,
          0,
          1523.3507270191246,
          0,
          1591.0440659767594,
          0,
          1651.4063620824925,
          0,
          1702.9115523516518,
          0,
          1744.161371932374,
          0,
          1773.946625439021,
          0,
          0,
          1795.2044871113062,
          0,
          0,
          0,
          0,
          1765.0392176732294,
          0,
          1730.5515682626938,
          1708.86174129491,
          0
         ],
         "yaxis": "y"
        },
        {
         "line": {
          "color": "blue"
         },
         "mode": "markers",
         "name": "London",
         "showlegend": false,
         "type": "scatter",
         "x": [
          80,
          87,
          94,
          101,
          108,
          115,
          122,
          129
         ],
         "xaxis": "x",
         "y": [
          1324.0449438202247,
          3901.797366534443,
          1016.9056252365502,
          372.9113924050633,
          0,
          0,
          1378.1171712624478,
          997.1085093657955,
          982,
          818.3333333333333,
          241.00563270989204,
          240.61089368500774,
          0,
          0,
          827.8592604054691,
          1296.0519708504378,
          0,
          1933.730820954826,
          2574.57681930132,
          2745.268490029976,
          709.8795180722892,
          3286.0681577971695,
          7271.906415988986,
          5684.008475838398,
          3566.514426364009,
          0,
          6016.168732900045,
          7704.554846466734,
          8541.491048234473,
          0,
          19161.24184507128,
          16580.17308146115,
          16987.418657317125,
          4428.639957528629,
          3429.251753204957,
          3374.5606952207677,
          2404.8979591836733,
          1205.3828828828828,
          725.2769803975877,
          1276.690171391671,
          6202.105263157894,
          998.6440677966102,
          527.7445839977185,
          1008.1752699218304,
          0,
          669.5454545454546,
          446.0285135894761,
          1265.3130937264198,
          739.8347301407239,
          6586.965327253728,
          6924.054730093763,
          5566.078971464211,
          3583.351282863478
         ],
         "yaxis": "y"
        },
        {
         "line": {
          "color": "blue"
         },
         "mode": "lines",
         "name": "London",
         "showlegend": false,
         "type": "scatter",
         "x": [
          1,
          2,
          3,
          4,
          5,
          6,
          7,
          8,
          9,
          10,
          11,
          12,
          13,
          14,
          15,
          16,
          17,
          18,
          19,
          20,
          21,
          22,
          23,
          24,
          25,
          26,
          27,
          28,
          29,
          30,
          31,
          32,
          33,
          34,
          35,
          36,
          37,
          38,
          39,
          40,
          41,
          42,
          43,
          44,
          45,
          46,
          47,
          48,
          49,
          50,
          51,
          52,
          53,
          54,
          55,
          56,
          57,
          58,
          59,
          60,
          61,
          62,
          63,
          64,
          65,
          66,
          67,
          68,
          69,
          70,
          71,
          72,
          73,
          74,
          75,
          76,
          77,
          78,
          79,
          80,
          81,
          82,
          83,
          84,
          85,
          86,
          87,
          88,
          89,
          90,
          91,
          92,
          93,
          94,
          95,
          96,
          97,
          98,
          99,
          100,
          101,
          102,
          103,
          104,
          105,
          106,
          107,
          108,
          109,
          110,
          111,
          112,
          113,
          114,
          115,
          116,
          117,
          118,
          119,
          120,
          121,
          122,
          123,
          124,
          125,
          126,
          127,
          128,
          129,
          130,
          131,
          132
         ],
         "xaxis": "x2",
         "y": [
          8e-20,
          0.009301698150140012,
          0.010688628716635614,
          0.013304245800883595,
          0.017343976331261404,
          0.02340680735411632,
          0.032664397355373596,
          0.047114930402262584,
          0.07052964369638658,
          0.10943978285607936,
          0.17456955351888,
          0.2880818227728179,
          0.4831624540147002,
          0.8140394239338745,
          1.3610321493995983,
          2.1966503830059243,
          3.396962749228904,
          4.975895370612287,
          6.933412585891175,
          9.186992013463318,
          11.538812703803297,
          13.727350068818032,
          15.554142422001135,
          16.959829571292612,
          17.99890096336714,
          18.77288161456092,
          19.382438279113494,
          19.90852615916654,
          20.41111865214318,
          20.93413529798151,
          21.510952276128144,
          22.168682327794155,
          22.9308633909385,
          23.818737964451305,
          24.851348582796845,
          26.044731252293058,
          27.41049115100625,
          28.954048328525463,
          30.67290290693677,
          32.55531538178493,
          34.57977699777557,
          36.715523783958865,
          38.924740944127976,
          41.16362313514505,
          43.38733338030199,
          45.553428293186464,
          47.62019522981993,
          49.55786185412226,
          51.336679213680675,
          52.944503708798905,
          54.36758362000359,
          55.610120986854525,
          56.67328542104694,
          57.57207690913095,
          58.31791370630822,
          58.92994591040303,
          59.42394218572491,
          59.81820412948411,
          60.128121130809426,
          60.36866161502689,
          60.552363025532145,
          60.69030236824008,
          60.791589778066026,
          60.86386871217657,
          60.91328468125444,
          60.944823306167244,
          60.96246752047819,
          60.969291318358025,
          60.96785047175524,
          60.95993577819144,
          60.947173764156275,
          60.93059682328486,
          60.91116938668993,
          60.88954926075378,
          60.866236589131816,
          60.84168339012921,
          60.81613969178615,
          60.789877451555284,
          60.76306742426559,
          60.735821072927536,
          60.70827694168437,
          60.68049745193364,
          60.652527169679914,
          60.6244367042981,
          60.59625478860729,
          60.56799421921524,
          60.53968392308467,
          60.51134489095064,
          60.482981366189385,
          60.454600636634005,
          60.42621453179422,
          60.39782604600015,
          60.369439061058806,
          60.34105648898281,
          60.31268063238555,
          60.28431308775819,
          60.25595528740383,
          60.22760812160642,
          60.19927241503525,
          60.170948690251386,
          60.14263741245877,
          60.11433889406421,
          60.08605339240711,
          60.05778108842361,
          60.02952212434622,
          60.00127659896488,
          59.97304458714259,
          59.94482613826255,
          59.9166212849247,
          59.888430046883535,
          59.860252429679306,
          59.83208843284582,
          59.80393804568188,
          59.77580125278615,
          59.74767803194843,
          59.71956835835671,
          59.69147219995878,
          59.663389526398774,
          59.63532029716566,
          59.607264478050574,
          59.57922202414217,
          59.551192894547555,
          59.52317704593565,
          59.49517443051272,
          59.46718500526632,
          59.43920872172609,
          59.41124553469156,
          59.38329539827733,
          59.355358265988805,
          59.327434094877304,
          59.29952284091065,
          59.271624460587745
         ],
         "yaxis": "y2"
        },
        {
         "line": {
          "color": "blue"
         },
         "mode": "markers",
         "name": "London",
         "showlegend": false,
         "type": "scatter",
         "x": [
          27,
          28,
          29,
          30,
          31,
          32,
          33,
          34,
          35,
          36,
          37,
          38,
          39,
          40,
          41,
          42,
          43,
          44,
          45,
          46,
          47,
          48,
          49,
          50,
          51,
          52,
          53,
          54,
          55,
          56,
          57,
          58,
          59,
          60,
          61,
          62,
          63,
          64,
          65,
          66,
          67,
          68,
          69,
          70,
          71,
          72,
          73,
          74,
          75,
          76,
          77,
          78,
          79,
          80,
          81,
          82,
          83,
          84,
          85,
          86,
          87,
          88,
          89,
          90,
          91,
          92,
          93,
          94,
          95,
          96,
          97,
          98,
          99,
          100,
          101,
          102,
          103,
          104,
          105,
          106,
          107,
          108,
          109,
          110,
          111,
          112,
          113,
          114,
          115,
          116,
          117,
          118,
          119,
          120,
          121,
          122,
          123,
          124,
          125,
          126,
          127,
          128,
          129,
          130,
          131,
          132
         ],
         "xaxis": "x2",
         "y": [
          6,
          6,
          11,
          8,
          16,
          23,
          26,
          25,
          46,
          46,
          53,
          56,
          87,
          119,
          122,
          127,
          119,
          142,
          149,
          180,
          189,
          194,
          192,
          225,
          196,
          197,
          221,
          231,
          199,
          174,
          164,
          170,
          170,
          143,
          147,
          138,
          110,
          118,
          116,
          96,
          105,
          110,
          80,
          75,
          58,
          62,
          55,
          58,
          52,
          45,
          42,
          52,
          43,
          37,
          34,
          43,
          28,
          30,
          25,
          27,
          23,
          15,
          12,
          17,
          18,
          10,
          14,
          13,
          20,
          16,
          12,
          8,
          6,
          6,
          9,
          11,
          8,
          9,
          5,
          7,
          5,
          5,
          7,
          6,
          6,
          2,
          3,
          5,
          8,
          2,
          5,
          5,
          5,
          1,
          2,
          3,
          1,
          1,
          0,
          2,
          2,
          2,
          3,
          0,
          4,
          1,
          0,
          0,
          1,
          1,
          1,
          1,
          2,
          1,
          1,
          3,
          3,
          1,
          3,
          2,
          0,
          3,
          1,
          1,
          0,
          1,
          0,
          2,
          0,
          0,
          0,
          0,
          0,
          2,
          0,
          0,
          0,
          2,
          0,
          0,
          0,
          2,
          2,
          1,
          0,
          0,
          0,
          0,
          0,
          1,
          0,
          1,
          1,
          0,
          2,
          0,
          0,
          0,
          2,
          1,
          0,
          1,
          0,
          1,
          0,
          0,
          1,
          0,
          0,
          0,
          0,
          0,
          1,
          0,
          1,
          1,
          0,
          0,
          2,
          0,
          0,
          0,
          2,
          3,
          0,
          0,
          0,
          1,
          2,
          4,
          1,
          3,
          4,
          4,
          6,
          7,
          2,
          1,
          1,
          2,
          5,
          9,
          6,
          5,
          3,
          2,
          2,
          9,
          5,
          6,
          6,
          7,
          5,
          4,
          6,
          5,
          4,
          12,
          7,
          4,
          6,
          11,
          7,
          15,
          11,
          6,
          18,
          11,
          12,
          14,
          21,
          12,
          14,
          8,
          17,
          18,
          13,
          16,
          15,
          16,
          23,
          19,
          28,
          15,
          12,
          20,
          13,
          20,
          19,
          30,
          30,
          20,
          27,
          28,
          19,
          29,
          18,
          30,
          39,
          29,
          21,
          33,
          49,
          26,
          22,
          28,
          35,
          33,
          27,
          27,
          35,
          35,
          30,
          28,
          27,
          41,
          29,
          37,
          45,
          30,
          61,
          44,
          48,
          52,
          63,
          75,
          70,
          65,
          90,
          93,
          104,
          102,
          110,
          124,
          129,
          136,
          146,
          136,
          161,
          177,
          161,
          186,
          175,
          179,
          193,
          185,
          193,
          200,
          196,
          183,
          200,
          207,
          202,
          208,
          185,
          184,
          160,
          158,
          152,
          155,
          126,
          128,
          125,
          122,
          86,
          101,
          93,
          96,
          107,
          67,
          91,
          76,
          66,
          65,
          57,
          64,
          44,
          41,
          41,
          37,
          44,
          43,
          40,
          37,
          33,
          30,
          38,
          21,
          20,
          21,
          19,
          15,
          12,
          10,
          20,
          14,
          7,
          12,
          15,
          13,
          9,
          7,
          9,
          10,
          7,
          1,
          9,
          4,
          7,
          5,
          7,
          2,
          3,
          2,
          3,
          6,
          2,
          5,
          1,
          2,
          7,
          2,
          3,
          2,
          2,
          3,
          1,
          4,
          1,
          1,
          1,
          2,
          2,
          1,
          3,
          3,
          0,
          2,
          0,
          2,
          2,
          1,
          2,
          3,
          2,
          1,
          0,
          1,
          1,
          2,
          0,
          3,
          5,
          0,
          2,
          1,
          1,
          1,
          1,
          3,
          0,
          3,
          0,
          0,
          2,
          1,
          0,
          0,
          0,
          2,
          1,
          0,
          0,
          0,
          2,
          0,
          0,
          2,
          1,
          1,
          3,
          1,
          0,
          1,
          2,
          0,
          0,
          1,
          1,
          2,
          1,
          2,
          0,
          2,
          2,
          0,
          0,
          5,
          1,
          0,
          1,
          2,
          2,
          4,
          2,
          1,
          2,
          0,
          0,
          3,
          4
         ],
         "yaxis": "y2"
        }
       ],
       "layout": {
        "annotations": [
         {
          "font": {
           "size": 16
          },
          "showarrow": false,
          "text": "Infections",
          "x": 0.5,
          "xanchor": "center",
          "xref": "paper",
          "y": 1,
          "yanchor": "bottom",
          "yref": "paper"
         },
         {
          "font": {
           "size": 16
          },
          "showarrow": false,
          "text": "Deaths",
          "x": 0.5,
          "xanchor": "center",
          "xref": "paper",
          "y": 0.6111111111111112,
          "yanchor": "bottom",
          "yref": "paper"
         },
         {
          "font": {
           "size": 16
          },
          "showarrow": false,
          "text": "Reproduction Number",
          "x": 0.5,
          "xanchor": "center",
          "xref": "paper",
          "y": 0.22222222222222224,
          "yanchor": "bottom",
          "yref": "paper"
         }
        ],
        "height": 900,
        "legend": {
         "orientation": "h",
         "x": 1,
         "xanchor": "right",
         "y": 1.075,
         "yanchor": "bottom"
        },
        "plot_bgcolor": "white",
        "template": {
         "data": {
          "bar": [
           {
            "error_x": {
             "color": "#2a3f5f"
            },
            "error_y": {
             "color": "#2a3f5f"
            },
            "marker": {
             "line": {
              "color": "#E5ECF6",
              "width": 0.5
             },
             "pattern": {
              "fillmode": "overlay",
              "size": 10,
              "solidity": 0.2
             }
            },
            "type": "bar"
           }
          ],
          "barpolar": [
           {
            "marker": {
             "line": {
              "color": "#E5ECF6",
              "width": 0.5
             },
             "pattern": {
              "fillmode": "overlay",
              "size": 10,
              "solidity": 0.2
             }
            },
            "type": "barpolar"
           }
          ],
          "carpet": [
           {
            "aaxis": {
             "endlinecolor": "#2a3f5f",
             "gridcolor": "white",
             "linecolor": "white",
             "minorgridcolor": "white",
             "startlinecolor": "#2a3f5f"
            },
            "baxis": {
             "endlinecolor": "#2a3f5f",
             "gridcolor": "white",
             "linecolor": "white",
             "minorgridcolor": "white",
             "startlinecolor": "#2a3f5f"
            },
            "type": "carpet"
           }
          ],
          "choropleth": [
           {
            "colorbar": {
             "outlinewidth": 0,
             "ticks": ""
            },
            "type": "choropleth"
           }
          ],
          "contour": [
           {
            "colorbar": {
             "outlinewidth": 0,
             "ticks": ""
            },
            "colorscale": [
             [
              0,
              "#0d0887"
             ],
             [
              0.1111111111111111,
              "#46039f"
             ],
             [
              0.2222222222222222,
              "#7201a8"
             ],
             [
              0.3333333333333333,
              "#9c179e"
             ],
             [
              0.4444444444444444,
              "#bd3786"
             ],
             [
              0.5555555555555556,
              "#d8576b"
             ],
             [
              0.6666666666666666,
              "#ed7953"
             ],
             [
              0.7777777777777778,
              "#fb9f3a"
             ],
             [
              0.8888888888888888,
              "#fdca26"
             ],
             [
              1,
              "#f0f921"
             ]
            ],
            "type": "contour"
           }
          ],
          "contourcarpet": [
           {
            "colorbar": {
             "outlinewidth": 0,
             "ticks": ""
            },
            "type": "contourcarpet"
           }
          ],
          "heatmap": [
           {
            "colorbar": {
             "outlinewidth": 0,
             "ticks": ""
            },
            "colorscale": [
             [
              0,
              "#0d0887"
             ],
             [
              0.1111111111111111,
              "#46039f"
             ],
             [
              0.2222222222222222,
              "#7201a8"
             ],
             [
              0.3333333333333333,
              "#9c179e"
             ],
             [
              0.4444444444444444,
              "#bd3786"
             ],
             [
              0.5555555555555556,
              "#d8576b"
             ],
             [
              0.6666666666666666,
              "#ed7953"
             ],
             [
              0.7777777777777778,
              "#fb9f3a"
             ],
             [
              0.8888888888888888,
              "#fdca26"
             ],
             [
              1,
              "#f0f921"
             ]
            ],
            "type": "heatmap"
           }
          ],
          "heatmapgl": [
           {
            "colorbar": {
             "outlinewidth": 0,
             "ticks": ""
            },
            "colorscale": [
             [
              0,
              "#0d0887"
             ],
             [
              0.1111111111111111,
              "#46039f"
             ],
             [
              0.2222222222222222,
              "#7201a8"
             ],
             [
              0.3333333333333333,
              "#9c179e"
             ],
             [
              0.4444444444444444,
              "#bd3786"
             ],
             [
              0.5555555555555556,
              "#d8576b"
             ],
             [
              0.6666666666666666,
              "#ed7953"
             ],
             [
              0.7777777777777778,
              "#fb9f3a"
             ],
             [
              0.8888888888888888,
              "#fdca26"
             ],
             [
              1,
              "#f0f921"
             ]
            ],
            "type": "heatmapgl"
           }
          ],
          "histogram": [
           {
            "marker": {
             "pattern": {
              "fillmode": "overlay",
              "size": 10,
              "solidity": 0.2
             }
            },
            "type": "histogram"
           }
          ],
          "histogram2d": [
           {
            "colorbar": {
             "outlinewidth": 0,
             "ticks": ""
            },
            "colorscale": [
             [
              0,
              "#0d0887"
             ],
             [
              0.1111111111111111,
              "#46039f"
             ],
             [
              0.2222222222222222,
              "#7201a8"
             ],
             [
              0.3333333333333333,
              "#9c179e"
             ],
             [
              0.4444444444444444,
              "#bd3786"
             ],
             [
              0.5555555555555556,
              "#d8576b"
             ],
             [
              0.6666666666666666,
              "#ed7953"
             ],
             [
              0.7777777777777778,
              "#fb9f3a"
             ],
             [
              0.8888888888888888,
              "#fdca26"
             ],
             [
              1,
              "#f0f921"
             ]
            ],
            "type": "histogram2d"
           }
          ],
          "histogram2dcontour": [
           {
            "colorbar": {
             "outlinewidth": 0,
             "ticks": ""
            },
            "colorscale": [
             [
              0,
              "#0d0887"
             ],
             [
              0.1111111111111111,
              "#46039f"
             ],
             [
              0.2222222222222222,
              "#7201a8"
             ],
             [
              0.3333333333333333,
              "#9c179e"
             ],
             [
              0.4444444444444444,
              "#bd3786"
             ],
             [
              0.5555555555555556,
              "#d8576b"
             ],
             [
              0.6666666666666666,
              "#ed7953"
             ],
             [
              0.7777777777777778,
              "#fb9f3a"
             ],
             [
              0.8888888888888888,
              "#fdca26"
             ],
             [
              1,
              "#f0f921"
             ]
            ],
            "type": "histogram2dcontour"
           }
          ],
          "mesh3d": [
           {
            "colorbar": {
             "outlinewidth": 0,
             "ticks": ""
            },
            "type": "mesh3d"
           }
          ],
          "parcoords": [
           {
            "line": {
             "colorbar": {
              "outlinewidth": 0,
              "ticks": ""
             }
            },
            "type": "parcoords"
           }
          ],
          "pie": [
           {
            "automargin": true,
            "type": "pie"
           }
          ],
          "scatter": [
           {
            "marker": {
             "colorbar": {
              "outlinewidth": 0,
              "ticks": ""
             }
            },
            "type": "scatter"
           }
          ],
          "scatter3d": [
           {
            "line": {
             "colorbar": {
              "outlinewidth": 0,
              "ticks": ""
             }
            },
            "marker": {
             "colorbar": {
              "outlinewidth": 0,
              "ticks": ""
             }
            },
            "type": "scatter3d"
           }
          ],
          "scattercarpet": [
           {
            "marker": {
             "colorbar": {
              "outlinewidth": 0,
              "ticks": ""
             }
            },
            "type": "scattercarpet"
           }
          ],
          "scattergeo": [
           {
            "marker": {
             "colorbar": {
              "outlinewidth": 0,
              "ticks": ""
             }
            },
            "type": "scattergeo"
           }
          ],
          "scattergl": [
           {
            "marker": {
             "colorbar": {
              "outlinewidth": 0,
              "ticks": ""
             }
            },
            "type": "scattergl"
           }
          ],
          "scattermapbox": [
           {
            "marker": {
             "colorbar": {
              "outlinewidth": 0,
              "ticks": ""
             }
            },
            "type": "scattermapbox"
           }
          ],
          "scatterpolar": [
           {
            "marker": {
             "colorbar": {
              "outlinewidth": 0,
              "ticks": ""
             }
            },
            "type": "scatterpolar"
           }
          ],
          "scatterpolargl": [
           {
            "marker": {
             "colorbar": {
              "outlinewidth": 0,
              "ticks": ""
             }
            },
            "type": "scatterpolargl"
           }
          ],
          "scatterternary": [
           {
            "marker": {
             "colorbar": {
              "outlinewidth": 0,
              "ticks": ""
             }
            },
            "type": "scatterternary"
           }
          ],
          "surface": [
           {
            "colorbar": {
             "outlinewidth": 0,
             "ticks": ""
            },
            "colorscale": [
             [
              0,
              "#0d0887"
             ],
             [
              0.1111111111111111,
              "#46039f"
             ],
             [
              0.2222222222222222,
              "#7201a8"
             ],
             [
              0.3333333333333333,
              "#9c179e"
             ],
             [
              0.4444444444444444,
              "#bd3786"
             ],
             [
              0.5555555555555556,
              "#d8576b"
             ],
             [
              0.6666666666666666,
              "#ed7953"
             ],
             [
              0.7777777777777778,
              "#fb9f3a"
             ],
             [
              0.8888888888888888,
              "#fdca26"
             ],
             [
              1,
              "#f0f921"
             ]
            ],
            "type": "surface"
           }
          ],
          "table": [
           {
            "cells": {
             "fill": {
              "color": "#EBF0F8"
             },
             "line": {
              "color": "white"
             }
            },
            "header": {
             "fill": {
              "color": "#C8D4E3"
             },
             "line": {
              "color": "white"
             }
            },
            "type": "table"
           }
          ]
         },
         "layout": {
          "annotationdefaults": {
           "arrowcolor": "#2a3f5f",
           "arrowhead": 0,
           "arrowwidth": 1
          },
          "autotypenumbers": "strict",
          "coloraxis": {
           "colorbar": {
            "outlinewidth": 0,
            "ticks": ""
           }
          },
          "colorscale": {
           "diverging": [
            [
             0,
             "#8e0152"
            ],
            [
             0.1,
             "#c51b7d"
            ],
            [
             0.2,
             "#de77ae"
            ],
            [
             0.3,
             "#f1b6da"
            ],
            [
             0.4,
             "#fde0ef"
            ],
            [
             0.5,
             "#f7f7f7"
            ],
            [
             0.6,
             "#e6f5d0"
            ],
            [
             0.7,
             "#b8e186"
            ],
            [
             0.8,
             "#7fbc41"
            ],
            [
             0.9,
             "#4d9221"
            ],
            [
             1,
             "#276419"
            ]
           ],
           "sequential": [
            [
             0,
             "#0d0887"
            ],
            [
             0.1111111111111111,
             "#46039f"
            ],
            [
             0.2222222222222222,
             "#7201a8"
            ],
            [
             0.3333333333333333,
             "#9c179e"
            ],
            [
             0.4444444444444444,
             "#bd3786"
            ],
            [
             0.5555555555555556,
             "#d8576b"
            ],
            [
             0.6666666666666666,
             "#ed7953"
            ],
            [
             0.7777777777777778,
             "#fb9f3a"
            ],
            [
             0.8888888888888888,
             "#fdca26"
            ],
            [
             1,
             "#f0f921"
            ]
           ],
           "sequentialminus": [
            [
             0,
             "#0d0887"
            ],
            [
             0.1111111111111111,
             "#46039f"
            ],
            [
             0.2222222222222222,
             "#7201a8"
            ],
            [
             0.3333333333333333,
             "#9c179e"
            ],
            [
             0.4444444444444444,
             "#bd3786"
            ],
            [
             0.5555555555555556,
             "#d8576b"
            ],
            [
             0.6666666666666666,
             "#ed7953"
            ],
            [
             0.7777777777777778,
             "#fb9f3a"
            ],
            [
             0.8888888888888888,
             "#fdca26"
            ],
            [
             1,
             "#f0f921"
            ]
           ]
          },
          "colorway": [
           "#636efa",
           "#EF553B",
           "#00cc96",
           "#ab63fa",
           "#FFA15A",
           "#19d3f3",
           "#FF6692",
           "#B6E880",
           "#FF97FF",
           "#FECB52"
          ],
          "font": {
           "color": "#2a3f5f"
          },
          "geo": {
           "bgcolor": "white",
           "lakecolor": "white",
           "landcolor": "#E5ECF6",
           "showlakes": true,
           "showland": true,
           "subunitcolor": "white"
          },
          "hoverlabel": {
           "align": "left"
          },
          "hovermode": "closest",
          "mapbox": {
           "style": "light"
          },
          "paper_bgcolor": "white",
          "plot_bgcolor": "#E5ECF6",
          "polar": {
           "angularaxis": {
            "gridcolor": "white",
            "linecolor": "white",
            "ticks": ""
           },
           "bgcolor": "#E5ECF6",
           "radialaxis": {
            "gridcolor": "white",
            "linecolor": "white",
            "ticks": ""
           }
          },
          "scene": {
           "xaxis": {
            "backgroundcolor": "#E5ECF6",
            "gridcolor": "white",
            "gridwidth": 2,
            "linecolor": "white",
            "showbackground": true,
            "ticks": "",
            "zerolinecolor": "white"
           },
           "yaxis": {
            "backgroundcolor": "#E5ECF6",
            "gridcolor": "white",
            "gridwidth": 2,
            "linecolor": "white",
            "showbackground": true,
            "ticks": "",
            "zerolinecolor": "white"
           },
           "zaxis": {
            "backgroundcolor": "#E5ECF6",
            "gridcolor": "white",
            "gridwidth": 2,
            "linecolor": "white",
            "showbackground": true,
            "ticks": "",
            "zerolinecolor": "white"
           }
          },
          "shapedefaults": {
           "line": {
            "color": "#2a3f5f"
           }
          },
          "ternary": {
           "aaxis": {
            "gridcolor": "white",
            "linecolor": "white",
            "ticks": ""
           },
           "baxis": {
            "gridcolor": "white",
            "linecolor": "white",
            "ticks": ""
           },
           "bgcolor": "#E5ECF6",
           "caxis": {
            "gridcolor": "white",
            "linecolor": "white",
            "ticks": ""
           }
          },
          "title": {
           "x": 0.05
          },
          "xaxis": {
           "automargin": true,
           "gridcolor": "white",
           "linecolor": "white",
           "ticks": "",
           "title": {
            "standoff": 15
           },
           "zerolinecolor": "white",
           "zerolinewidth": 2
          },
          "yaxis": {
           "automargin": true,
           "gridcolor": "white",
           "linecolor": "white",
           "ticks": "",
           "title": {
            "standoff": 15
           },
           "zerolinecolor": "white",
           "zerolinewidth": 2
          }
         }
        },
        "width": 600,
        "xaxis": {
         "anchor": "y",
         "domain": [
          0,
          1
         ],
         "linecolor": "black",
         "ticktext": [
          "Feb 15",
          "Feb 25",
          "Mar 06",
          "Mar 16",
          "Mar 26",
          "Apr 05",
          "Apr 15",
          "Apr 25",
          "May 05",
          "May 15",
          "May 25",
          "Jun 04",
          "Jun 14",
          "Jun 24"
         ],
         "tickvals": [
          1,
          11,
          21,
          31,
          41,
          51,
          61,
          71,
          81,
          91,
          101,
          111,
          121,
          131
         ]
        },
        "xaxis2": {
         "anchor": "y2",
         "domain": [
          0,
          1
         ],
         "linecolor": "black",
         "ticktext": [
          "Feb 15",
          "Feb 25",
          "Mar 06",
          "Mar 16",
          "Mar 26",
          "Apr 05",
          "Apr 15",
          "Apr 25",
          "May 05",
          "May 15",
          "May 25",
          "Jun 04",
          "Jun 14",
          "Jun 24"
         ],
         "tickvals": [
          1,
          11,
          21,
          31,
          41,
          51,
          61,
          71,
          81,
          91,
          101,
          111,
          121,
          131
         ]
        },
        "xaxis3": {
         "anchor": "y3",
         "domain": [
          0,
          1
         ],
         "linecolor": "black",
         "ticktext": [
          "Feb 15",
          "Feb 25",
          "Mar 06",
          "Mar 16",
          "Mar 26",
          "Apr 05",
          "Apr 15",
          "Apr 25",
          "May 05",
          "May 15",
          "May 25",
          "Jun 04",
          "Jun 14",
          "Jun 24"
         ],
         "tickvals": [
          1,
          11,
          21,
          31,
          41,
          51,
          61,
          71,
          81,
          91,
          101,
          111,
          121,
          131
         ]
        },
        "yaxis": {
         "anchor": "x",
         "domain": [
          0.7777777777777778,
          1
         ],
         "linecolor": "black"
        },
        "yaxis2": {
         "anchor": "x2",
         "domain": [
          0.3888888888888889,
          0.6111111111111112
         ],
         "linecolor": "black"
        },
        "yaxis3": {
         "anchor": "x3",
         "domain": [
          0,
          0.22222222222222224
         ],
         "linecolor": "black"
        }
       }
      }
     },
     "metadata": {},
     "output_type": "display_data"
    }
   ],
   "source": [
    "# Trace names - represent the solver used for the simulation\n",
    "trace_name = regions\n",
    "titles = ['Infections', 'Deaths', 'Reproduction Number']\n",
    "\n",
    "fig = go.Figure()\n",
    "fig = make_subplots(rows=len(titles), cols=1, subplot_titles=tuple(titles), horizontal_spacing = 0.15)\n",
    "\n",
    "# Plot (continuous predicted timeline and pointwise observed numbers each day)\n",
    "for r, region in enumerate(regions):\n",
    "    # Plot of infections\n",
    "    fig.add_trace(\n",
    "        go.Scatter(\n",
    "            x=times,\n",
    "            y=new_infec_pred[r].tolist(),\n",
    "            mode='lines',\n",
    "            name=trace_name[r],\n",
    "            line_color=colours[r]\n",
    "        ),\n",
    "        row= 1,\n",
    "        col= 1\n",
    "    )\n",
    "\n",
    "    fig.add_trace(\n",
    "        go.Scatter(\n",
    "            x=serology_times,\n",
    "            y=np.sum(np.multiply(np.nan_to_num(np.divide(positives_data[r], tests[r])), susceptibles[r]), axis=1).tolist(),\n",
    "            mode='markers',\n",
    "            name=trace_name[r],\n",
    "            showlegend=False,\n",
    "            line_color=colours[r]\n",
    "        ),\n",
    "        row= 1,\n",
    "        col= 1\n",
    "    )\n",
    "\n",
    "    # Plot deaths\n",
    "    fig.add_trace(\n",
    "        go.Scatter(\n",
    "            x=times,\n",
    "            y=deaths_pred[r].tolist(),\n",
    "            mode='lines',\n",
    "            name=trace_name[r],\n",
    "            showlegend=False,\n",
    "            line_color=colours[r]\n",
    "        ),\n",
    "        row= 2,\n",
    "        col= 1\n",
    "    )\n",
    "\n",
    "    fig.add_trace(\n",
    "        go.Scatter(\n",
    "            x=deaths_times,\n",
    "            y=np.sum(deaths_data[r], axis=1).tolist(),\n",
    "            mode='markers',\n",
    "            name=trace_name[r],\n",
    "            showlegend=False,\n",
    "            line_color=colours[r]\n",
    "        ),\n",
    "        row= 2,\n",
    "        col= 1\n",
    "    )\n",
    "\n",
    "    # Plot reproduction number\n",
    "    #fig.add_trace(\n",
    "    #    go.Scatter(\n",
    "    #        x=times,\n",
    "    #        y=reprod_num_pred[r].tolist(),\n",
    "    #        mode='lines',\n",
    "    #        name=trace_name[r],\n",
    "    #        showlegend=False,\n",
    "    #        line_color=colours[r]\n",
    "    #    ),\n",
    "    #    row= 3,\n",
    "    #    col= 1\n",
    "    #)\n",
    "\n",
    "# Add axis labels\n",
    "fig.update_layout(\n",
    "    width=600, \n",
    "    height=900,\n",
    "    plot_bgcolor='white',\n",
    "    xaxis=dict(\n",
    "        linecolor='black',\n",
    "        tickvals=np.arange(1, total_days, 10).tolist(),\n",
    "        ticktext=['Feb 15', 'Feb 25', 'Mar 06', 'Mar 16', 'Mar 26', 'Apr 05', 'Apr 15', 'Apr 25', 'May 05', 'May 15', 'May 25', 'Jun 04', 'Jun 14', 'Jun 24']),\n",
    "    yaxis=dict(linecolor='black'),\n",
    "    xaxis2=dict(\n",
    "        linecolor='black',\n",
    "        tickvals=np.arange(1, total_days, 10).tolist(),\n",
    "        ticktext=['Feb 15', 'Feb 25', 'Mar 06', 'Mar 16', 'Mar 26', 'Apr 05', 'Apr 15', 'Apr 25', 'May 05', 'May 15', 'May 25', 'Jun 04', 'Jun 14', 'Jun 24']),\n",
    "    yaxis2=dict(linecolor='black'),\n",
    "    xaxis3=dict(\n",
    "        linecolor='black',\n",
    "        tickvals=np.arange(1, total_days, 10).tolist(),\n",
    "        ticktext=['Feb 15', 'Feb 25', 'Mar 06', 'Mar 16', 'Mar 26', 'Apr 05', 'Apr 15', 'Apr 25', 'May 05', 'May 15', 'May 25', 'Jun 04', 'Jun 14', 'Jun 24']),\n",
    "    yaxis3=dict(linecolor='black'),\n",
    "    legend=dict(\n",
    "        orientation='h',\n",
    "        yanchor=\"bottom\",\n",
    "        y=1.075,\n",
    "        xanchor=\"right\",\n",
    "        x=1)\n",
    "    )\n",
    "\n",
    "fig.write_image('images/Figure-3-optimisation.pdf')\n",
    "fig.show()"
   ]
  },
  {
   "cell_type": "code",
   "execution_count": 19,
   "metadata": {},
   "outputs": [],
   "source": [
    "import matplotlib\n",
    "from matplotlib import pyplot as plt"
   ]
  },
  {
   "cell_type": "code",
   "execution_count": 20,
   "metadata": {},
   "outputs": [
    {
     "data": {
      "image/png": "[encoded data removed]",
      "text/plain": [
       "<Figure size 432x288 with 2 Axes>"
      ]
     },
     "metadata": {
      "needs_background": "light"
     },
     "output_type": "display_data"
    }
   ],
   "source": [
    "loglik_arr = np.empty((25,25))\n",
    "\n",
    "for ind_kappa, kappa in enumerate(np.linspace(0.2, 0.4, 25)):\n",
    "    for ind_gamma, gamma in enumerate(np.linspace(0.0001, 0.2001, 25)):\n",
    "        loglik_arr[ind_kappa, ind_gamma] = seird_optimisation.return_loglikelihood(times, [10, kappa, gamma])\n",
    "\n",
    "plt.imshow(loglik_arr, cmap='viridis', extent=[0.0001, 0.2001,0.4,0.2])\n",
    "# plt.plot(loglik_arr)\n",
    "\n",
    "plt.colorbar()\n",
    "plt.xlabel('gamma')\n",
    "plt.ylabel('kappa')\n",
    "plt.show()"
   ]
  },
  {
   "cell_type": "code",
   "execution_count": 21,
   "metadata": {},
   "outputs": [
    {
     "data": {
      "text/plain": [
       "array([[ -39774.25873687,  -85104.75227625, -111895.83805362,\n",
       "        -122787.67352283, -126838.37012516, -128022.93814723,\n",
       "        -128049.10554816, -127644.65044596, -127113.60881644,\n",
       "        -126576.08168715, -126072.68615582, -125610.47005438,\n",
       "        -125184.09207679, -124784.03249934, -124401.16501377,\n",
       "        -124027.99550321, -123658.78772204, -123289.34105961,\n",
       "        -122916.71337584, -122539.04165984, -122154.92794842,\n",
       "        -121762.47640318, -121360.43209976, -120947.78345772,\n",
       "        -120522.0191523 ],\n",
       "       [ -39710.75014975,  -85207.25282264, -111889.73131311,\n",
       "        -122630.26079052, -126547.99188075, -127626.61330575,\n",
       "        -127569.2205756 , -127097.15910723, -126509.32233197,\n",
       "        -125922.08434963, -125373.56375393, -124869.02574718,\n",
       "        -124401.8579858 , -123961.9334783 , -123539.45042409,\n",
       "        -123126.53792338, -122717.28686181, -122307.52068795,\n",
       "        -121894.6070961 , -121476.9297045 , -121052.8721429 ,\n",
       "        -120621.15516925, -120181.54743351, -119732.18380702,\n",
       "        -119272.50441245],\n",
       "       [ -39655.63254057,  -85301.83247259, -111878.23323479,\n",
       "        -122474.60860731, -126266.67744782, -127245.74397837,\n",
       "        -127110.19847961, -126575.24875304, -125934.83757634,\n",
       "        -125301.81310892, -124711.86123746, -124168.61707193,\n",
       "        -123664.15315077, -123187.6233514 , -122728.69912634,\n",
       "        -122279.08217951, -121832.6853472 , -121385.33525282,\n",
       "        -120934.50964505, -120478.56109979, -120015.98362455,\n",
       "        -119546.48990345, -119069.54461526, -118584.00057026,\n",
       "        -118089.60475738],\n",
       "       [ -39607.67520792,  -85389.21782571, -111862.14405893,\n",
       "        -122321.03780173, -125994.16950498, -126879.5827009 ,\n",
       "        -126670.90804697, -126077.46240689, -125388.44729583,\n",
       "        -124713.3740519 , -124085.55273785, -123507.05400555,\n",
       "        -122968.71317466, -122458.88596047, -121966.71323484,\n",
       "        -121483.50805854, -121002.95480901, -120520.81521445,\n",
       "        -120034.53068078, -119542.38761938, -119043.33423113,\n",
       "        -118537.64535917, -118024.32238254, -117503.52965733,\n",
       "        -116974.43747809],\n",
       "       [ -39565.84574733,  -85470.03173006, -111842.1046853 ,\n",
       "        -122169.73602357, -125730.17829755, -126527.34744622,\n",
       "        -126250.19641281, -125602.3383596 , -124868.45163901,\n",
       "        -124154.84752802, -123492.50974844, -122882.09393435,\n",
       "        -122313.17340894, -121773.29292466, -121251.04501213,\n",
       "        -120737.3518835 , -120225.64426717, -119711.56375479,\n",
       "        -119192.33914602, -118666.31567749, -118133.18094126,\n",
       "        -117592.97128058, -117044.8411801 , -116489.95541102,\n",
       "        -115926.90695915],\n",
       "       [ -39529.27552004,  -85544.81246876, -111818.63078095,\n",
       "        -122020.77854102, -125474.30166772, -126188.23436236,\n",
       "        -125846.91001911, -125148.43728381, -124373.16294939,\n",
       "        -123624.31439514, -122930.69506525, -122291.453497  ,\n",
       "        -121695.14026612, -121128.35643224, -120579.14553297,\n",
       "        -120038.01540014, -119498.11065747, -118954.78900369,\n",
       "        -118405.15119489, -117848.01959166, -117283.21763262,\n",
       "        -116710.10295585, -116129.41165518, -115541.36088014,\n",
       "        -114946.04217524],\n",
       "       [ -39497.23123831,  -85614.02935743, -111792.13878936,\n",
       "        -121874.21038841, -125226.12042144, -125861.439054  ,\n",
       "        -125459.91588059, -124714.35385201, -123900.93517821,\n",
       "        -123119.92197934, -122398.05282784, -121732.94818962,\n",
       "        -121112.18604105, -120521.49824234, -119948.30265874,\n",
       "        -119382.65899191, -118817.35405143, -118247.50856452,\n",
       "        -117670.38198048, -117084.88005915, -116490.38941588,\n",
       "        -115886.79152529, -115275.42653163, -114655.82651782,\n",
       "        -114029.56780485],\n",
       "       [ -39469.09183831,  -85678.09436143, -111762.9584866 ,\n",
       "        -121729.98348696, -124985.19717429, -125546.16657201,\n",
       "        -125088.11612754, -124298.7293129 , -123450.17974036,\n",
       "        -122639.88266141, -121892.58798116, -121204.45042451,\n",
       "        -120561.99741723, -119950.21747337, -119355.84897271,\n",
       "        -118768.48240983, -118180.55092026, -117587.0731836 ,\n",
       "        -116985.225677  , -116373.71713651, -115751.82871188,\n",
       "        -115120.32894005, -114479.82213759, -113831.02927501,\n",
       "        -113174.78217656],\n",
       "       [ -39444.33003182,  -85737.37166563, -111731.38381577,\n",
       "        -121588.02561799, -124751.08860654, -125241.64301648,\n",
       "        -124730.45732121, -123900.26260391, -123019.38042436,\n",
       "        -122182.4828955 , -121412.39092169, -120703.85353557,\n",
       "        -120042.36149718, -119412.10904951, -118799.24011086,\n",
       "        -118192.8464163 , -117585.03566482, -116970.60348744,\n",
       "        -116346.57595533, -115711.46929128, -115064.74589298,\n",
       "        -114407.48999555, -113739.93755536, -113063.77022955,\n",
       "        -112379.40653597],\n",
       "       [ -39422.49677997,  -85792.18556689, -111697.63405818,\n",
       "        -121448.23925902, -124523.35462691, -124947.12308198,\n",
       "        -124385.93115418, -123517.7161091 , -122607.08917083,\n",
       "        -121746.0824974 , -120955.63982385, -120229.15803317,\n",
       "        -119551.10455593, -118904.89549439, -118276.04882596,\n",
       "        -117653.18195977, -117028.05932798, -116395.22516693,\n",
       "        -115751.48010607, -115095.11331592, -114426.08244382,\n",
       "        -113745.12169156, -113052.81828457, -112350.99671308,\n",
       "        -111640.38085299],\n",
       "       [ -39403.20854457,  -85842.8238009 , -111661.89737226,\n",
       "        -121310.51000676, -124301.5652954 , -124661.89528123,\n",
       "        -124053.58088221, -123149.91626664, -122211.94316694,\n",
       "        -121329.12140954, -120520.61107196, -119778.45256147,\n",
       "        -119086.15822325, -118426.33816656, -117783.89839783,\n",
       "        -117146.98044533, -116506.96459154, -115858.11683181,\n",
       "        -115196.9140946 , -114521.81549386, -113832.75557486,\n",
       "        -113130.121192  , -112415.30037186, -111689.63874614,\n",
       "        -110954.61617923],\n",
       "       [ -39386.13704988,  -85889.55361122, -111624.33071936,\n",
       "        -121174.71335807, -124085.30516195, -124385.28568761,\n",
       "        -123732.50442936, -122795.76169477, -121832.65093971,\n",
       "        -120930.13715116, -120105.67154262, -119349.96085718,\n",
       "        -118645.54302042, -117974.30081063, -117320.49863053,\n",
       "        -116671.77449521, -116019.13117914, -115356.48191809,\n",
       "        -114680.20176993, -113988.71885489, -113281.63239841,\n",
       "        -112559.66160655, -111824.19448494, -111076.70554062,\n",
       "        -110318.99276546],\n",
       "       [ -39371.00060994,  -85932.60957003, -111585.06645445,\n",
       "        -121040.72026153, -123874.17644978, -124116.65662533,\n",
       "        -123421.85406121, -122454.21636235, -121467.99784546,\n",
       "        -120547.7594964 , -119709.27202786, -118941.9824332 ,\n",
       "        -118227.42893708, -117546.76971587, -116883.66572977,\n",
       "        -116225.24689292, -115562.09246754, -114887.84230555,\n",
       "        -114198.73629587, -113492.84641675, -112769.89989931,\n",
       "        -112030.72216579, -111276.47047068, -110509.13571798,\n",
       "        -109730.37564083],\n",
       "       [ -39357.55683711,  -85972.20784273, -111544.2171948 ,\n",
       "        -120908.40088667, -123667.80093636, -123855.40872174,\n",
       "        -123120.83753471, -122124.31228831, -121116.85062657,\n",
       "        -120180.70163248, -119329.96642153, -118552.90868591,\n",
       "        -117830.08089356, -117141.88701562, -116471.39774617,\n",
       "        -115805.2228979 , -115133.5723505 , -114449.80057507,\n",
       "        -113749.82002353, -113031.54895229, -112294.86247358,\n",
       "        -111540.28771025, -110769.30606633, -109983.82809501,\n",
       "        -109185.84547051],\n",
       "       [ -39345.59664079,  -86008.54634786, -111501.87984699,\n",
       "        -120777.6276923 , -123465.82207914, -123600.98063585,\n",
       "        -122828.71175791, -121805.14292436, -120778.15072924,\n",
       "        -119827.75250537, -118966.41426794, -118181.24372693,\n",
       "        -117451.83729506, -116757.84752325, -116081.74426734,\n",
       "        -115409.67084037, -114731.41788199, -114039.99913507,\n",
       "        -113330.96305495, -112602.36545764, -111853.79678087,\n",
       "        -111085.69832865, -110299.8571838 , -109497.9518045 ,\n",
       "        -108682.4451584 ],\n",
       "       [ -39334.9394306 ,  -86041.80720381, -111458.13925518,\n",
       "        -120648.27735655, -123267.90558866, -123352.84833173,\n",
       "        -122544.78608487, -121495.86404658, -120450.91589873,\n",
       "        -119487.79156162, -118617.36435098, -117825.59008618,\n",
       "        -117091.17961018, -116393.00803429, -115712.95666398,\n",
       "        -115036.67948398, -114353.52892971, -113656.13912878,\n",
       "        -112939.92365882, -112202.87565901, -111444.11310288,\n",
       "        -110664.36618295, -109865.35656489, -109048.78553053,\n",
       "        -108217.3008231 ],\n",
       "       [ -39325.42869285,  -86072.15873721, -111413.07067774,\n",
       "        -120520.23219296, -123073.7392073 , -123110.52579288,\n",
       "        -122268.419182  , -121195.69310266, -120134.23028694,\n",
       "        -119159.76999999, -118281.64811095, -117484.66637277,\n",
       "        -116746.66534385, -116045.79673536, -115363.3215943 ,\n",
       "        -114684.3824415 , -113997.92308241, -113296.22776501,\n",
       "        -112574.64636776, -111830.69618885, -111063.4661191 ,\n",
       "        -110273.82968389, -109463.20905658, -108633.7255745 ,\n",
       "        -107787.69034339],\n",
       "       [ -39316.92862347,  -86099.75717045, -111366.74179577,\n",
       "        -120393.3815829 , -122883.03320731, -122873.56199225,\n",
       "        -121999.01616405, -120903.9043634 , -119827.24530759,\n",
       "        -118842.72090819, -117958.17730222, -117157.27143145,\n",
       "        -116416.98297795, -115714.75404615, -115031.24673991,\n",
       "        -114351.09303524, -113662.80826161, -112958.43815135,\n",
       "        -112233.03559886, -111483.6568374 , -110709.67551486,\n",
       "        -109911.69233968, -109091.02236628, -108250.19934438,\n",
       "        -107391.18218214],\n",
       "       [ -39309.3210652 ,  -86124.74814345, -111319.21465538,\n",
       "        -120267.62279617, -122695.51959993, -122641.54033514,\n",
       "        -121736.02821105, -120619.82915064, -119529.17414643,\n",
       "        -118535.74938042, -117645.9366432 , -116842.29090228,\n",
       "        -116100.91644759, -115398.5666575 , -114715.30217506,\n",
       "        -114035.26505597, -113346.59189167, -112640.99158446,\n",
       "        -111913.04991999, -111159.8139544 , -110380.63625092,\n",
       "        -109575.71336803, -108746.61008686, -107895.72213763,\n",
       "        -107025.3893867 ],\n",
       "       [ -39302.50300985,  -86147.26793969, -111270.54675762,\n",
       "        -120142.86124486, -122510.95092201, -122414.0766325 ,\n",
       "        -121478.948806  , -120342.84800314, -119239.29073787,\n",
       "        -118238.02740367, -117343.9940484 , -116538.68645429,\n",
       "        -115797.33083304, -115095.99288529, -114414.16309712,\n",
       "        -113735.49972693, -113047.71535365, -112342.10257326,\n",
       "        -111612.94327756, -110857.40995242, -110074.27166648,\n",
       "        -109263.85752551, -108427.79364583, -107568.15030469,\n",
       "        -106687.86964394],\n",
       "       [ -39296.38450367,  -86167.44438631, -111220.79213174,\n",
       "        -120019.01041432, -122329.09999384, -122190.8180589 ,\n",
       "        -121227.31252008, -120072.39050768, -118956.92971748,\n",
       "        -117948.78477152, -117051.49078578, -116245.49090371,\n",
       "        -115505.17273449, -114805.89827719, -114126.59616304,\n",
       "        -113450.42520462, -112764.64284162, -112060.16542667,\n",
       "        -111331.17913296, -110574.61378997, -109788.72739045,\n",
       "        -108974.28904536, -108132.45243638, -107265.51523186,\n",
       "        -106376.34589462],\n",
       "       [ -39290.88685574,  -86185.39771155, -111170.00219977,\n",
       "        -119895.99214919, -122149.75944896, -121971.44146095,\n",
       "        -120980.69138746, -119807.93247829, -118681.47566899,\n",
       "        -117667.31460426, -116767.63384535, -115961.81985859,\n",
       "        -115223.44999055, -114527.19773567, -113851.40236087,\n",
       "        -113178.72142607, -112495.97259997, -111793.8327867 ,\n",
       "        -111066.30128346, -110309.68074469, -109522.4195971 ,\n",
       "        -108705.10931555, -107858.7453116 , -106985.81165448,\n",
       "        -106088.96374546],\n",
       "       [ -39285.94109926,  -86201.24149099, -111118.22662074,\n",
       "        -119773.73650476, -121972.74040734, -121755.65035102,\n",
       "        -120738.69289541, -119548.99373559, -118412.36156431,\n",
       "        -117392.97031086, -116491.6917505 , -115686.86121736,\n",
       "        -114951.25960475, -114258.88082179, -113587.47977161,\n",
       "        -112919.21349902, -112240.5486244 , -111541.8749392 ,\n",
       "        -110816.75158687, -110061.10882265, -109273.80290276,\n",
       "        -108454.58463736, -107605.03443712, -106727.10893661,\n",
       "        -105823.88298976],\n",
       "       [ -39281.48667226,  -86215.08319794, -111065.51357693,\n",
       "        -119652.18143294, -121797.87113555, -121543.17376921,\n",
       "        -120500.95795248, -119295.13373603, -118149.06690668,\n",
       "        -117125.15672388, -116222.98613769, -115419.86997855,\n",
       "        -114687.77913885, -114000.04528705, -113333.85674055,\n",
       "        -112670.90166425, -111997.28945832, -111303.00365755,\n",
       "        -110581.1268535 , -109827.66756742, -109041.2634219 ,\n",
       "        -108221.24287195, -107369.57200772, -106487.79833185,\n",
       "        -105579.21656562],\n",
       "       [ -39277.47029034,  -86227.02467129, -111011.9099982 ,\n",
       "        -119531.2721602 , -121624.99580446, -121333.76536297,\n",
       "        -120267.15859926, -119045.94806407, -117891.11599946,\n",
       "        -116863.33150398, -115960.89771329, -115160.16038176,\n",
       "        -114432.2581491 , -113749.87922154, -113089.66416274,\n",
       "        -112432.84797546, -111765.10713771, -111075.95508407,\n",
       "        -110358.26550471, -109608.10164726, -108823.3450487 ,\n",
       "        -108003.77981286, -107150.7818735 , -106266.40435742,\n",
       "        -105353.28355281]])"
      ]
     },
     "execution_count": 21,
     "metadata": {},
     "output_type": "execute_result"
    }
   ],
   "source": [
    "loglik_arr"
   ]
  },
  {
   "cell_type": "code",
   "execution_count": 22,
   "metadata": {},
   "outputs": [
    {
     "data": {
      "image/png": "[encoded data removed]",
      "text/plain": [
       "<Figure size 432x288 with 2 Axes>"
      ]
     },
     "metadata": {
      "needs_background": "light"
     },
     "output_type": "display_data"
    }
   ],
   "source": [
    "loglik_arr = np.empty((25,25))\n",
    "\n",
    "for ind_kappa, kappa in enumerate(np.linspace(0.1, 0.3, 25)):\n",
    "    for ind_gamma, gamma in enumerate(np.linspace(0.001, 0.2, 25)):\n",
    "        loglik_arr[ind_kappa, ind_gamma] = seird_optimisation.return_loglikelihood(times, [2, kappa, gamma])\n",
    "\n",
    "plt.imshow(loglik_arr, cmap='viridis', extent=[0.1,0.3,0.2,0.001])\n",
    "# plt.plot(loglik_arr)\n",
    "\n",
    "plt.colorbar()\n",
    "plt.xlabel('gamma')\n",
    "plt.ylabel('kappa')\n",
    "plt.show()"
   ]
  },
  {
   "cell_type": "code",
   "execution_count": 23,
   "metadata": {},
   "outputs": [
    {
     "data": {
      "text/plain": [
       "<matplotlib.collections.PathCollection at 0x7faed871dbe0>"
      ]
     },
     "execution_count": 23,
     "metadata": {},
     "output_type": "execute_result"
    },
    {
     "data": {
      "image/png": "[encoded data removed]",
      "text/plain": [
       "<Figure size 432x288 with 1 Axes>"
      ]
     },
     "metadata": {
      "needs_background": "light"
     },
     "output_type": "display_data"
    }
   ],
   "source": [
    "plt.plot(model.actual_deaths)\n",
    "plt.scatter(deaths_times, np.sum(deaths_data[r], axis=1).tolist()[:len(deaths_times)])"
   ]
  },
  {
   "cell_type": "code",
   "execution_count": 24,
   "metadata": {},
   "outputs": [],
   "source": [
    "p_after = parameters()"
   ]
  },
  {
   "cell_type": "code",
   "execution_count": 25,
   "metadata": {},
   "outputs": [],
   "source": [
    "seird_optimisation.ll(found)\n",
    "p = seird_optimisation.ll._parameters\n",
    "p_found = list(deepflatten(p, ignore=str))"
   ]
  },
  {
   "cell_type": "code",
   "execution_count": 26,
   "metadata": {},
   "outputs": [
    {
     "name": "stdout",
     "output_type": "stream",
     "text": [
      "1 1\n",
      "117840 117840\n",
      "488164 488164\n",
      "1140597 1140597\n",
      "1033029 1033029\n",
      "3050671 3050671\n",
      "2050173 2050173\n",
      "586472 586472\n",
      "495043 495043\n",
      "0.0 0.0\n",
      "0.0 0.0\n",
      "0.0 0.0\n",
      "0.0 0.0\n",
      "0.0 0.0\n",
      "0.0 0.0\n",
      "0.0 0.0\n",
      "0.0 0.0\n",
      "100.0 100.0\n",
      "100.0 100.0\n",
      "100.0 100.0\n",
      "100.0 100.0\n",
      "100.0 100.0\n",
      "100.0 100.0\n",
      "100.0 100.0\n",
      "100.0 100.0\n",
      "0.0 0.0\n",
      "0.0 0.0\n",
      "0.0 0.0\n",
      "0.0 0.0\n",
      "0.0 0.0\n",
      "0.0 0.0\n",
      "0.0 0.0\n",
      "0.0 0.0\n",
      "0.0 0.0\n",
      "0.0 0.0\n",
      "0.0 0.0\n",
      "0.0 0.0\n",
      "0.0 0.0\n",
      "0.0 0.0\n",
      "0.0 0.0\n",
      "0.0 0.0\n",
      "5 8.49415211853145\n",
      "0.4921799354641775 0.4921799354641775\n",
      "0.0004709290872448808 0.0004709290872448808\n",
      "2.6e-05 2.6e-05\n",
      "2.6e-05 2.6e-05\n",
      "8.700000000000001e-05 8.700000000000001e-05\n",
      "0.000374 0.000374\n",
      "0.0016175 0.0016175\n",
      "0.0169625 0.0169625\n",
      "0.063 0.063\n",
      "0.11005 0.11005\n",
      "RK45 RK45\n"
     ]
    }
   ],
   "source": [
    "for p1, p2 in zip(p_after, p_found):\n",
    "    print(p1, p2)"
   ]
  }
 ],
 "metadata": {
  "interpreter": {
   "hash": "684a6128a123c6817f5879bd443c804f1ae947106cccd5e393ee42f0caf0d347"
  },
  "kernelspec": {
   "display_name": "Python 3.8.8 64-bit ('base': conda)",
   "name": "python3"
  },
  "language_info": {
   "codemirror_mode": {
    "name": "ipython",
    "version": 3
   },
   "file_extension": ".py",
   "mimetype": "text/x-python",
   "name": "python",
   "nbconvert_exporter": "python",
   "pygments_lexer": "ipython3",
   "version": "3.8.8"
  },
  "orig_nbformat": 4
 },
 "nbformat": 4,
 "nbformat_minor": 2
}
